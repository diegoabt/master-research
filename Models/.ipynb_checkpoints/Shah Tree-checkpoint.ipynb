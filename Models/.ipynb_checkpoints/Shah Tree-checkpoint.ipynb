{
 "cells": [
  {
   "cell_type": "code",
   "execution_count": 1,
   "metadata": {
    "collapsed": true
   },
   "outputs": [],
   "source": [
    "from operator import itemgetter\n",
    "\n",
    "import matplotlib.pyplot as plt\n",
    "import numpy as np\n",
    "import networkx as nx\n",
    "from random import randint\n",
    "import random\n",
    "import operator"
   ]
  },
  {
   "cell_type": "code",
   "execution_count": 2,
   "metadata": {
    "collapsed": true
   },
   "outputs": [],
   "source": [
    "##https://stackoverflow.com/questions/29586520/can-one-get-hierarchical-graphs-from-networkx-with-python-3\n",
    "\n",
    "def hierarchy_pos(G, root, width=15., vert_gap = 0.2, vert_loc = 0, xcenter = 0.5, \n",
    "                  pos = None, parent = None):\n",
    "    '''If there is a cycle that is reachable from root, then this will see infinite recursion.\n",
    "       G: the graph\n",
    "       root: the root node of current branch\n",
    "       width: horizontal space allocated for this branch - avoids overlap with other branches\n",
    "       vert_gap: gap between levels of hierarchy\n",
    "       vert_loc: vertical location of root\n",
    "       xcenter: horizontal location of root\n",
    "       pos: a dict saying where all nodes go if they have been assigned\n",
    "       parent: parent of this branch.'''\n",
    "    if pos == None:\n",
    "        pos = {root:(xcenter,vert_loc)}\n",
    "    else:\n",
    "        pos[root] = (xcenter, vert_loc)\n",
    "    neighbors = G.neighbors(root)\n",
    "    if parent != None:   #this should be removed for directed graphs.\n",
    "        neighbors.remove(parent)  #if directed, then parent not in neighbors.\n",
    "    if len(neighbors)!=0:\n",
    "        dx = width/len(neighbors) \n",
    "        nextx = xcenter - width/2 - dx/2\n",
    "        for neighbor in neighbors:\n",
    "            nextx += dx\n",
    "            pos = hierarchy_pos(G,neighbor, width = dx, vert_gap = vert_gap, \n",
    "                                vert_loc = vert_loc-vert_gap, xcenter=nextx, pos=pos, \n",
    "                                parent = root)\n",
    "    return pos"
   ]
  },
  {
   "cell_type": "code",
   "execution_count": 3,
   "metadata": {
    "collapsed": true
   },
   "outputs": [],
   "source": [
    "def areg(n): #3 regular\n",
    "    G=nx.Graph()\n",
    "    G.add_node(0)\n",
    "    G.add_node(1)\n",
    "    G.add_edge(0,1)\n",
    "    possible=[0,0,1,1]\n",
    "    label=2\n",
    "    while label<n:\n",
    "        vertx=random.choice(possible)\n",
    "        #print 'poss',possible\n",
    "        #print vertx\n",
    "        possible.remove(vertx)\n",
    "        G.add_edge(vertx,label)\n",
    "        possible=possible+[label,label]\n",
    "        #print 'new edge',vertx,label\n",
    "        label+=1   \n",
    "    return G  \n",
    "        "
   ]
  },
  {
   "cell_type": "markdown",
   "metadata": {
    "collapsed": true
   },
   "source": [
    "G=areg(50)"
   ]
  },
  {
   "cell_type": "markdown",
   "metadata": {},
   "source": [
    "pos = hierarchy_pos(G,0) \n",
    "nx.draw(G,pos,with_labels=True)\n",
    "\n",
    "plt.show()"
   ]
  },
  {
   "cell_type": "code",
   "execution_count": null,
   "metadata": {
    "collapsed": true
   },
   "outputs": [],
   "source": []
  }
 ],
 "metadata": {
  "kernelspec": {
   "display_name": "Python 2",
   "language": "python",
   "name": "python2"
  },
  "language_info": {
   "codemirror_mode": {
    "name": "ipython",
    "version": 2
   },
   "file_extension": ".py",
   "mimetype": "text/x-python",
   "name": "python",
   "nbconvert_exporter": "python",
   "pygments_lexer": "ipython2",
   "version": "2.7.13"
  }
 },
 "nbformat": 4,
 "nbformat_minor": 2
}
