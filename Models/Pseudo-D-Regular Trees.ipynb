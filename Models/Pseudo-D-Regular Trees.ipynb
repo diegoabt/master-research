{
 "cells": [
  {
   "cell_type": "markdown",
   "metadata": {},
   "source": [
    "Para completar:\n",
    "- polya urn\n",
    "- ddetails of the code\n"
   ]
  },
  {
   "cell_type": "markdown",
   "metadata": {},
   "source": [
    "# Pseudo-D-Regular Trees\n",
    "\n",
    "This notebook contains the code used to generate the trees under the pseudo-d-regular model. Let's remember that this model consists in adding a new vertex *i* to the existing graph *T* according to a probability distribution that is defined in the following way:\n",
    "\n",
    "                P( i is linked to j| T ) = C (d-deg(j)), if deg(j)<=d, for all j in V(T).\n",
    "                \n",
    "So, it is clear that each one of the vertices in V(T) has a degree equal to d, at most, and on the other hand, vertices increase their chance of having d neighbours as the model evolves. This is why we called this trees as pseudo regular. \n",
    "\n",
    "Note that this probability distribution is the same Polya urn model _____\n",
    "             "
   ]
  },
  {
   "cell_type": "markdown",
   "metadata": {},
   "source": [
    "As usual, we begin by importing all the libraries that we need in order to run all the code of this notebook."
   ]
  },
  {
   "cell_type": "code",
   "execution_count": 4,
   "metadata": {
    "collapsed": true
   },
   "outputs": [],
   "source": [
    "from operator import itemgetter\n",
    "\n",
    "import matplotlib.pyplot as plt\n",
    "import numpy as np\n",
    "import networkx as nx\n",
    "from random import randint\n",
    "import random\n",
    "import operator"
   ]
  },
  {
   "cell_type": "markdown",
   "metadata": {},
   "source": [
    "There is below another useful tool for plotting the graphs. \n",
    "\n",
    "This was taken from:\n",
    "\n",
    "    https://stackoverflow.com/questions/29586520/can-one-get-hierarchical-graphs-from-networkx-with-python-3"
   ]
  },
  {
   "cell_type": "code",
   "execution_count": 5,
   "metadata": {
    "collapsed": true
   },
   "outputs": [],
   "source": [
    "def hierarchy_pos(G, root, width=15., vert_gap = 0.2, vert_loc = 0, xcenter = 0.5, \n",
    "                  pos = None, parent = None):\n",
    "    '''If there is a cycle that is reachable from root, then this will see infinite recursion.\n",
    "       G: the graph\n",
    "       root: the root node of current branch\n",
    "       width: horizontal space allocated for this branch - avoids overlap with other branches\n",
    "       vert_gap: gap between levels of hierarchy\n",
    "       vert_loc: vertical location of root\n",
    "       xcenter: horizontal location of root\n",
    "       pos: a dict saying where all nodes go if they have been assigned\n",
    "       parent: parent of this branch.'''\n",
    "    if pos == None:\n",
    "        pos = {root:(xcenter,vert_loc)}\n",
    "    else:\n",
    "        pos[root] = (xcenter, vert_loc)\n",
    "    neighbors = G.neighbors(root)\n",
    "    if parent != None:   #this should be removed for directed graphs.\n",
    "        neighbors.remove(parent)  #if directed, then parent not in neighbors.\n",
    "    if len(neighbors)!=0:\n",
    "        dx = width/len(neighbors) \n",
    "        nextx = xcenter - width/2 - dx/2\n",
    "        for neighbor in neighbors:\n",
    "            nextx += dx\n",
    "            pos = hierarchy_pos(G,neighbor, width = dx, vert_gap = vert_gap, \n",
    "                                vert_loc = vert_loc-vert_gap, xcenter=nextx, pos=pos, \n",
    "                                parent = root)\n",
    "    return pos"
   ]
  },
  {
   "cell_type": "markdown",
   "metadata": {},
   "source": [
    "The next cell contains all the script for generating the pseudo-3-regular trees of size *n*."
   ]
  },
  {
   "cell_type": "code",
   "execution_count": 6,
   "metadata": {
    "collapsed": true
   },
   "outputs": [],
   "source": [
    "def areg(n): #3 regular\n",
    "    G=nx.Graph()\n",
    "    G.add_node(0)\n",
    "    G.add_node(1)\n",
    "    G.add_edge(0,1)\n",
    "    possible=[0,0,1,1]\n",
    "    label=2\n",
    "    while label<n:\n",
    "        vertx=random.choice(possible)\n",
    "        #print 'poss',possible\n",
    "        #print vertx\n",
    "        possible.remove(vertx)\n",
    "        G.add_edge(vertx,label)\n",
    "        possible=possible+[label,label]\n",
    "        #print 'new edge',vertx,label\n",
    "        label+=1   \n",
    "    return G  \n",
    "        "
   ]
  },
  {
   "cell_type": "markdown",
   "metadata": {},
   "source": [
    "We represent the chance of being chosen that a particular vertex has as the number of times it appears in the list *possible*. Once that the two first vertices are added to the tree (vertex 0 and vertex 1), each one of them will have d-deg(v)=2"
   ]
  },
  {
   "cell_type": "code",
   "execution_count": 12,
   "metadata": {},
   "outputs": [],
   "source": [
    "G=areg(25)"
   ]
  },
  {
   "cell_type": "code",
   "execution_count": 13,
   "metadata": {},
   "outputs": [
    {
     "data": {
      "image/png": "[encoded data removed]",
      "text/plain": [
       "<matplotlib.figure.Figure at 0xac3b9f4c>"
      ]
     },
     "metadata": {},
     "output_type": "display_data"
    }
   ],
   "source": [
    "pos = hierarchy_pos(G,0) \n",
    "nx.draw(G,pos,with_labels=True)\n",
    "\n",
    "plt.show()"
   ]
  },
  {
   "cell_type": "code",
   "execution_count": null,
   "metadata": {
    "collapsed": true
   },
   "outputs": [],
   "source": []
  }
 ],
 "metadata": {
  "kernelspec": {
   "display_name": "Python 2",
   "language": "python",
   "name": "python2"
  },
  "language_info": {
   "codemirror_mode": {
    "name": "ipython",
    "version": 2
   },
   "file_extension": ".py",
   "mimetype": "text/x-python",
   "name": "python",
   "nbconvert_exporter": "python",
   "pygments_lexer": "ipython2",
   "version": "2.7.13"
  }
 },
 "nbformat": 4,
 "nbformat_minor": 2
}
