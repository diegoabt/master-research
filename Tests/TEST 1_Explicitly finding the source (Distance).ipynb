{
 "cells": [
  {
   "cell_type": "code",
   "execution_count": 4,
   "metadata": {
    "collapsed": true
   },
   "outputs": [],
   "source": [
    "#%run 'Removing-leaves estimator .ipynb'\n",
    "%run 'Estimators in their lasts versions.ipynb'\n",
    "%run '/home/diego/Dropbox/Tesis/Modelos/UA model.ipynb'\n",
    "%run '/home/diego/Dropbox/Tesis/Modelos/Shah Tree.ipynb'"
   ]
  },
  {
   "cell_type": "code",
   "execution_count": 5,
   "metadata": {},
   "outputs": [
    {
     "name": "stdout",
     "output_type": "stream",
     "text": [
      "2.2.2\n"
     ]
    },
    {
     "data": {
      "text/html": [
       "<script>requirejs.config({paths: { 'plotly': ['https://cdn.plot.ly/plotly-latest.min']},});if(!window.Plotly) {{require(['plotly'],function(plotly) {window.Plotly=plotly;});}}</script>"
      ],
      "text/vnd.plotly.v1+html": [
       "<script>requirejs.config({paths: { 'plotly': ['https://cdn.plot.ly/plotly-latest.min']},});if(!window.Plotly) {{require(['plotly'],function(plotly) {window.Plotly=plotly;});}}</script>"
      ]
     },
     "metadata": {},
     "output_type": "display_data"
    }
   ],
   "source": [
    "import time\n",
    "import networkx as nx\n",
    "import powerlaw\n",
    "import plotly.plotly as py\n",
    "import plotly.graph_objs as go\n",
    "import numpy as np\n",
    "from plotly import tools\n",
    "from plotly import __version__\n",
    "from plotly.offline import download_plotlyjs, init_notebook_mode, plot,iplot\n",
    "print (__version__) # requires version >= 1.9.0s\n",
    "\n",
    "#Always run this the command before at the start of notebook\n",
    "init_notebook_mode(connected=True)\n",
    "import plotly.graph_objs as go"
   ]
  },
  {
   "cell_type": "markdown",
   "metadata": {},
   "source": [
    "## Distance\n",
    "### BA"
   ]
  },
  {
   "cell_type": "code",
   "execution_count": 6,
   "metadata": {
    "collapsed": true
   },
   "outputs": [],
   "source": [
    "resultsDS={} #This dict contains all the vrtices found by the rl estimator for different graph sizes\n",
    "values_ds={} #This dict is created from resultsDC\n",
    "results_ds_time={}"
   ]
  },
  {
   "cell_type": "code",
   "execution_count": 11,
   "metadata": {},
   "outputs": [
    {
     "name": "stdout",
     "output_type": "stream",
     "text": [
      "50\n",
      "75\n",
      "100\n",
      "This is the format of your plot grid:\n",
      "[ (1,1) x1,y1 ]  [ (1,2) x2,y2 ]\n",
      "[ (2,1) x3,y3 ]  [ (2,2) x4,y4 ]\n",
      "[ (3,1) x5,y5 ]  [ (3,2) x6,y6 ]\n",
      "\n"
     ]
    }
   ],
   "source": [
    "#\n",
    "for N in [50,75,100]:\n",
    "    results_dg=[]\n",
    "    start_time=time.time()\n",
    "    for i in range(0,50):\n",
    "        ba=nx.barabasi_albert_graph(N,1)\n",
    "        dc=nx.closeness_centrality(ba)\n",
    "        list_maximum=[]\n",
    "        center=max(dc.iteritems(), key=operator.itemgetter(1))[1]\n",
    "        for i in range(N):\n",
    "                if dc[i]==center:\n",
    "                    list_maximum.append([i,dc[i]])\n",
    "        pair=random.choice(list_maximum)\n",
    "        results_dg.append([N,pair[0]])\n",
    "    final_time= -start_time +time.time()\n",
    "    results_ds_time[str(N)]=final_time\n",
    "    \n",
    "    resultsDS[str(N)]=[i[1] for i in results_dg]\n",
    "    print N\n",
    "    \n",
    "\n",
    "data_1={}\n",
    "data_2={}\n",
    "fig = tools.make_subplots(rows=3, cols=2, subplot_titles=('50','50',\n",
    "                                                          '75','75',\n",
    "                                                         '100','100'))\n",
    "j=0\n",
    "for i in [50,75,100]:\n",
    "    j+=1\n",
    "    \n",
    "    #SIMPLEST HISTOGRAM\n",
    "    x = resultsDS[str(i)]\n",
    "    data_1[str(i)] = go.Histogram(x=x,\n",
    "                                  marker=dict(\n",
    "        color='dodgerblue'\n",
    "    ),\n",
    "                     xbins=dict(\n",
    "            start=0,\n",
    "            end=i,\n",
    "            size=1.\n",
    "        ))\n",
    "    fig.append_trace(data_1[str(i)], j, 1)\n",
    "    #CUMM HISTOGRAM\n",
    "    data_2[str(i)] = go.Histogram(x=x,\n",
    "                                  marker=dict(\n",
    "        color='royalblue'\n",
    "    ),\n",
    "                     xbins=dict(\n",
    "        start=0,\n",
    "        end=i,\n",
    "        size=1.\n",
    "    ),\n",
    "                     histnorm='probability',\n",
    "                     cumulative=dict(enabled=True))\n",
    "    fig.append_trace(data_2[str(i)], j, 2)\n",
    "    "
   ]
  },
  {
   "cell_type": "code",
   "execution_count": 12,
   "metadata": {},
   "outputs": [
    {
     "data": {
      "application/vnd.plotly.v1+json": {
       "data": [
        {
         "marker": {
          "color": "dodgerblue"
         },
         "type": "histogram",
         "x": [
          0,
          4,
          2,
          1,
          0,
          1,
          0,
          4,
          1,
          1,
          1,
          4,
          0,
          0,
          1,
          0,
          0,
          0,
          2,
          3,
          2,
          0,
          0,
          1,
          1,
          4,
          1,
          1,
          0,
          2,
          3,
          0,
          1,
          1,
          1,
          0,
          0,
          1,
          3,
          3,
          0,
          1,
          1,
          2,
          1,
          0,
          0,
          1,
          1,
          1
         ],
         "xaxis": "x1",
         "xbins": {
          "end": 50,
          "size": 1,
          "start": 0
         },
         "yaxis": "y1"
        },
        {
         "cumulative": {
          "enabled": true
         },
         "histnorm": "probability",
         "marker": {
          "color": "royalblue"
         },
         "type": "histogram",
         "x": [
          0,
          4,
          2,
          1,
          0,
          1,
          0,
          4,
          1,
          1,
          1,
          4,
          0,
          0,
          1,
          0,
          0,
          0,
          2,
          3,
          2,
          0,
          0,
          1,
          1,
          4,
          1,
          1,
          0,
          2,
          3,
          0,
          1,
          1,
          1,
          0,
          0,
          1,
          3,
          3,
          0,
          1,
          1,
          2,
          1,
          0,
          0,
          1,
          1,
          1
         ],
         "xaxis": "x2",
         "xbins": {
          "end": 50,
          "size": 1,
          "start": 0
         },
         "yaxis": "y2"
        },
        {
         "marker": {
          "color": "dodgerblue"
         },
         "type": "histogram",
         "x": [
          3,
          0,
          0,
          1,
          0,
          0,
          0,
          2,
          0,
          2,
          5,
          3,
          2,
          0,
          3,
          0,
          2,
          2,
          2,
          2,
          1,
          1,
          1,
          0,
          1,
          1,
          1,
          0,
          0,
          0,
          2,
          4,
          0,
          1,
          0,
          0,
          1,
          1,
          2,
          2,
          1,
          0,
          3,
          1,
          2,
          1,
          0,
          2,
          1,
          0
         ],
         "xaxis": "x3",
         "xbins": {
          "end": 75,
          "size": 1,
          "start": 0
         },
         "yaxis": "y3"
        },
        {
         "cumulative": {
          "enabled": true
         },
         "histnorm": "probability",
         "marker": {
          "color": "royalblue"
         },
         "type": "histogram",
         "x": [
          3,
          0,
          0,
          1,
          0,
          0,
          0,
          2,
          0,
          2,
          5,
          3,
          2,
          0,
          3,
          0,
          2,
          2,
          2,
          2,
          1,
          1,
          1,
          0,
          1,
          1,
          1,
          0,
          0,
          0,
          2,
          4,
          0,
          1,
          0,
          0,
          1,
          1,
          2,
          2,
          1,
          0,
          3,
          1,
          2,
          1,
          0,
          2,
          1,
          0
         ],
         "xaxis": "x4",
         "xbins": {
          "end": 75,
          "size": 1,
          "start": 0
         },
         "yaxis": "y4"
        },
        {
         "marker": {
          "color": "dodgerblue"
         },
         "type": "histogram",
         "x": [
          2,
          4,
          3,
          2,
          2,
          2,
          4,
          0,
          2,
          1,
          3,
          0,
          2,
          1,
          0,
          1,
          2,
          0,
          3,
          1,
          1,
          2,
          0,
          1,
          2,
          0,
          1,
          1,
          1,
          2,
          2,
          1,
          0,
          0,
          0,
          0,
          0,
          2,
          1,
          0,
          2,
          1,
          2,
          2,
          1,
          0,
          0,
          2,
          1,
          0
         ],
         "xaxis": "x5",
         "xbins": {
          "end": 100,
          "size": 1,
          "start": 0
         },
         "yaxis": "y5"
        },
        {
         "cumulative": {
          "enabled": true
         },
         "histnorm": "probability",
         "marker": {
          "color": "royalblue"
         },
         "type": "histogram",
         "x": [
          2,
          4,
          3,
          2,
          2,
          2,
          4,
          0,
          2,
          1,
          3,
          0,
          2,
          1,
          0,
          1,
          2,
          0,
          3,
          1,
          1,
          2,
          0,
          1,
          2,
          0,
          1,
          1,
          1,
          2,
          2,
          1,
          0,
          0,
          0,
          0,
          0,
          2,
          1,
          0,
          2,
          1,
          2,
          2,
          1,
          0,
          0,
          2,
          1,
          0
         ],
         "xaxis": "x6",
         "xbins": {
          "end": 100,
          "size": 1,
          "start": 0
         },
         "yaxis": "y6"
        }
       ],
       "layout": {
        "annotations": [
         {
          "font": {
           "size": 16
          },
          "showarrow": false,
          "text": "50",
          "x": 0.225,
          "xanchor": "center",
          "xref": "paper",
          "y": 1,
          "yanchor": "bottom",
          "yref": "paper"
         },
         {
          "font": {
           "size": 16
          },
          "showarrow": false,
          "text": "50",
          "x": 0.775,
          "xanchor": "center",
          "xref": "paper",
          "y": 1,
          "yanchor": "bottom",
          "yref": "paper"
         },
         {
          "font": {
           "size": 16
          },
          "showarrow": false,
          "text": "75",
          "x": 0.225,
          "xanchor": "center",
          "xref": "paper",
          "y": 0.6111111111111112,
          "yanchor": "bottom",
          "yref": "paper"
         },
         {
          "font": {
           "size": 16
          },
          "showarrow": false,
          "text": "75",
          "x": 0.775,
          "xanchor": "center",
          "xref": "paper",
          "y": 0.6111111111111112,
          "yanchor": "bottom",
          "yref": "paper"
         },
         {
          "font": {
           "size": 16
          },
          "showarrow": false,
          "text": "100",
          "x": 0.225,
          "xanchor": "center",
          "xref": "paper",
          "y": 0.22222222222222224,
          "yanchor": "bottom",
          "yref": "paper"
         },
         {
          "font": {
           "size": 16
          },
          "showarrow": false,
          "text": "100",
          "x": 0.775,
          "xanchor": "center",
          "xref": "paper",
          "y": 0.22222222222222224,
          "yanchor": "bottom",
          "yref": "paper"
         }
        ],
        "height": 1000,
        "title": "Single vertex: Distance (BA)",
        "width": 800,
        "xaxis1": {
         "anchor": "y1",
         "domain": [
          0,
          0.45
         ]
        },
        "xaxis2": {
         "anchor": "y2",
         "domain": [
          0.55,
          1
         ]
        },
        "xaxis3": {
         "anchor": "y3",
         "domain": [
          0,
          0.45
         ]
        },
        "xaxis4": {
         "anchor": "y4",
         "domain": [
          0.55,
          1
         ]
        },
        "xaxis5": {
         "anchor": "y5",
         "domain": [
          0,
          0.45
         ]
        },
        "xaxis6": {
         "anchor": "y6",
         "domain": [
          0.55,
          1
         ]
        },
        "yaxis1": {
         "anchor": "x1",
         "domain": [
          0.7777777777777778,
          1
         ]
        },
        "yaxis2": {
         "anchor": "x2",
         "domain": [
          0.7777777777777778,
          1
         ]
        },
        "yaxis3": {
         "anchor": "x3",
         "domain": [
          0.3888888888888889,
          0.6111111111111112
         ]
        },
        "yaxis4": {
         "anchor": "x4",
         "domain": [
          0.3888888888888889,
          0.6111111111111112
         ]
        },
        "yaxis5": {
         "anchor": "x5",
         "domain": [
          0,
          0.22222222222222224
         ]
        },
        "yaxis6": {
         "anchor": "x6",
         "domain": [
          0,
          0.22222222222222224
         ]
        }
       }
      },
      "text/html": [
       "<div id=\"4aaebb8a-16ba-4cb7-bacf-83ab6e77a5e3\" style=\"height: 1000px; width: 800px;\" class=\"plotly-graph-div\"></div><script type=\"text/javascript\">require([\"plotly\"], function(Plotly) { window.PLOTLYENV=window.PLOTLYENV || {};window.PLOTLYENV.BASE_URL=\"https://plot.ly\";Plotly.newPlot(\"4aaebb8a-16ba-4cb7-bacf-83ab6e77a5e3\", [{\"yaxis\": \"y1\", \"xaxis\": \"x1\", \"xbins\": {\"start\": 0, \"end\": 50, \"size\": 1.0}, \"marker\": {\"color\": \"dodgerblue\"}, \"x\": [0, 4, 2, 1, 0, 1, 0, 4, 1, 1, 1, 4, 0, 0, 1, 0, 0, 0, 2, 3, 2, 0, 0, 1, 1, 4, 1, 1, 0, 2, 3, 0, 1, 1, 1, 0, 0, 1, 3, 3, 0, 1, 1, 2, 1, 0, 0, 1, 1, 1], \"type\": \"histogram\"}, {\"yaxis\": \"y2\", \"cumulative\": {\"enabled\": true}, \"histnorm\": \"probability\", \"xaxis\": \"x2\", \"xbins\": {\"start\": 0, \"end\": 50, \"size\": 1.0}, \"marker\": {\"color\": \"royalblue\"}, \"x\": [0, 4, 2, 1, 0, 1, 0, 4, 1, 1, 1, 4, 0, 0, 1, 0, 0, 0, 2, 3, 2, 0, 0, 1, 1, 4, 1, 1, 0, 2, 3, 0, 1, 1, 1, 0, 0, 1, 3, 3, 0, 1, 1, 2, 1, 0, 0, 1, 1, 1], \"type\": \"histogram\"}, {\"yaxis\": \"y3\", \"xaxis\": \"x3\", \"xbins\": {\"start\": 0, \"end\": 75, \"size\": 1.0}, \"marker\": {\"color\": \"dodgerblue\"}, \"x\": [3, 0, 0, 1, 0, 0, 0, 2, 0, 2, 5, 3, 2, 0, 3, 0, 2, 2, 2, 2, 1, 1, 1, 0, 1, 1, 1, 0, 0, 0, 2, 4, 0, 1, 0, 0, 1, 1, 2, 2, 1, 0, 3, 1, 2, 1, 0, 2, 1, 0], \"type\": \"histogram\"}, {\"yaxis\": \"y4\", \"cumulative\": {\"enabled\": true}, \"histnorm\": \"probability\", \"xaxis\": \"x4\", \"xbins\": {\"start\": 0, \"end\": 75, \"size\": 1.0}, \"marker\": {\"color\": \"royalblue\"}, \"x\": [3, 0, 0, 1, 0, 0, 0, 2, 0, 2, 5, 3, 2, 0, 3, 0, 2, 2, 2, 2, 1, 1, 1, 0, 1, 1, 1, 0, 0, 0, 2, 4, 0, 1, 0, 0, 1, 1, 2, 2, 1, 0, 3, 1, 2, 1, 0, 2, 1, 0], \"type\": \"histogram\"}, {\"yaxis\": \"y5\", \"xaxis\": \"x5\", \"xbins\": {\"start\": 0, \"end\": 100, \"size\": 1.0}, \"marker\": {\"color\": \"dodgerblue\"}, \"x\": [2, 4, 3, 2, 2, 2, 4, 0, 2, 1, 3, 0, 2, 1, 0, 1, 2, 0, 3, 1, 1, 2, 0, 1, 2, 0, 1, 1, 1, 2, 2, 1, 0, 0, 0, 0, 0, 2, 1, 0, 2, 1, 2, 2, 1, 0, 0, 2, 1, 0], \"type\": \"histogram\"}, {\"yaxis\": \"y6\", \"cumulative\": {\"enabled\": true}, \"histnorm\": \"probability\", \"xaxis\": \"x6\", \"xbins\": {\"start\": 0, \"end\": 100, \"size\": 1.0}, \"marker\": {\"color\": \"royalblue\"}, \"x\": [2, 4, 3, 2, 2, 2, 4, 0, 2, 1, 3, 0, 2, 1, 0, 1, 2, 0, 3, 1, 1, 2, 0, 1, 2, 0, 1, 1, 1, 2, 2, 1, 0, 0, 0, 0, 0, 2, 1, 0, 2, 1, 2, 2, 1, 0, 0, 2, 1, 0], \"type\": \"histogram\"}], {\"yaxis1\": {\"domain\": [0.7777777777777778, 1.0], \"anchor\": \"x1\"}, \"xaxis6\": {\"domain\": [0.55, 1.0], \"anchor\": \"y6\"}, \"xaxis5\": {\"domain\": [0.0, 0.45], \"anchor\": \"y5\"}, \"xaxis4\": {\"domain\": [0.55, 1.0], \"anchor\": \"y4\"}, \"xaxis3\": {\"domain\": [0.0, 0.45], \"anchor\": \"y3\"}, \"xaxis2\": {\"domain\": [0.55, 1.0], \"anchor\": \"y2\"}, \"xaxis1\": {\"domain\": [0.0, 0.45], \"anchor\": \"y1\"}, \"height\": 1000, \"width\": 800, \"yaxis2\": {\"domain\": [0.7777777777777778, 1.0], \"anchor\": \"x2\"}, \"yaxis3\": {\"domain\": [0.3888888888888889, 0.6111111111111112], \"anchor\": \"x3\"}, \"yaxis4\": {\"domain\": [0.3888888888888889, 0.6111111111111112], \"anchor\": \"x4\"}, \"yaxis5\": {\"domain\": [0.0, 0.22222222222222224], \"anchor\": \"x5\"}, \"yaxis6\": {\"domain\": [0.0, 0.22222222222222224], \"anchor\": \"x6\"}, \"title\": \"Single vertex: Distance (BA)\", \"annotations\": [{\"yanchor\": \"bottom\", \"xref\": \"paper\", \"xanchor\": \"center\", \"yref\": \"paper\", \"text\": \"50\", \"y\": 1.0, \"x\": 0.225, \"font\": {\"size\": 16}, \"showarrow\": false}, {\"yanchor\": \"bottom\", \"xref\": \"paper\", \"xanchor\": \"center\", \"yref\": \"paper\", \"text\": \"50\", \"y\": 1.0, \"x\": 0.775, \"font\": {\"size\": 16}, \"showarrow\": false}, {\"yanchor\": \"bottom\", \"xref\": \"paper\", \"xanchor\": \"center\", \"yref\": \"paper\", \"text\": \"75\", \"y\": 0.6111111111111112, \"x\": 0.225, \"font\": {\"size\": 16}, \"showarrow\": false}, {\"yanchor\": \"bottom\", \"xref\": \"paper\", \"xanchor\": \"center\", \"yref\": \"paper\", \"text\": \"75\", \"y\": 0.6111111111111112, \"x\": 0.775, \"font\": {\"size\": 16}, \"showarrow\": false}, {\"yanchor\": \"bottom\", \"xref\": \"paper\", \"xanchor\": \"center\", \"yref\": \"paper\", \"text\": \"100\", \"y\": 0.22222222222222224, \"x\": 0.225, \"font\": {\"size\": 16}, \"showarrow\": false}, {\"yanchor\": \"bottom\", \"xref\": \"paper\", \"xanchor\": \"center\", \"yref\": \"paper\", \"text\": \"100\", \"y\": 0.22222222222222224, \"x\": 0.775, \"font\": {\"size\": 16}, \"showarrow\": false}]}, {\"linkText\": \"Export to plot.ly\", \"showLink\": true})});</script>"
      ],
      "text/vnd.plotly.v1+html": [
       "<div id=\"4aaebb8a-16ba-4cb7-bacf-83ab6e77a5e3\" style=\"height: 1000px; width: 800px;\" class=\"plotly-graph-div\"></div><script type=\"text/javascript\">require([\"plotly\"], function(Plotly) { window.PLOTLYENV=window.PLOTLYENV || {};window.PLOTLYENV.BASE_URL=\"https://plot.ly\";Plotly.newPlot(\"4aaebb8a-16ba-4cb7-bacf-83ab6e77a5e3\", [{\"yaxis\": \"y1\", \"xaxis\": \"x1\", \"xbins\": {\"start\": 0, \"end\": 50, \"size\": 1.0}, \"marker\": {\"color\": \"dodgerblue\"}, \"x\": [0, 4, 2, 1, 0, 1, 0, 4, 1, 1, 1, 4, 0, 0, 1, 0, 0, 0, 2, 3, 2, 0, 0, 1, 1, 4, 1, 1, 0, 2, 3, 0, 1, 1, 1, 0, 0, 1, 3, 3, 0, 1, 1, 2, 1, 0, 0, 1, 1, 1], \"type\": \"histogram\"}, {\"yaxis\": \"y2\", \"cumulative\": {\"enabled\": true}, \"histnorm\": \"probability\", \"xaxis\": \"x2\", \"xbins\": {\"start\": 0, \"end\": 50, \"size\": 1.0}, \"marker\": {\"color\": \"royalblue\"}, \"x\": [0, 4, 2, 1, 0, 1, 0, 4, 1, 1, 1, 4, 0, 0, 1, 0, 0, 0, 2, 3, 2, 0, 0, 1, 1, 4, 1, 1, 0, 2, 3, 0, 1, 1, 1, 0, 0, 1, 3, 3, 0, 1, 1, 2, 1, 0, 0, 1, 1, 1], \"type\": \"histogram\"}, {\"yaxis\": \"y3\", \"xaxis\": \"x3\", \"xbins\": {\"start\": 0, \"end\": 75, \"size\": 1.0}, \"marker\": {\"color\": \"dodgerblue\"}, \"x\": [3, 0, 0, 1, 0, 0, 0, 2, 0, 2, 5, 3, 2, 0, 3, 0, 2, 2, 2, 2, 1, 1, 1, 0, 1, 1, 1, 0, 0, 0, 2, 4, 0, 1, 0, 0, 1, 1, 2, 2, 1, 0, 3, 1, 2, 1, 0, 2, 1, 0], \"type\": \"histogram\"}, {\"yaxis\": \"y4\", \"cumulative\": {\"enabled\": true}, \"histnorm\": \"probability\", \"xaxis\": \"x4\", \"xbins\": {\"start\": 0, \"end\": 75, \"size\": 1.0}, \"marker\": {\"color\": \"royalblue\"}, \"x\": [3, 0, 0, 1, 0, 0, 0, 2, 0, 2, 5, 3, 2, 0, 3, 0, 2, 2, 2, 2, 1, 1, 1, 0, 1, 1, 1, 0, 0, 0, 2, 4, 0, 1, 0, 0, 1, 1, 2, 2, 1, 0, 3, 1, 2, 1, 0, 2, 1, 0], \"type\": \"histogram\"}, {\"yaxis\": \"y5\", \"xaxis\": \"x5\", \"xbins\": {\"start\": 0, \"end\": 100, \"size\": 1.0}, \"marker\": {\"color\": \"dodgerblue\"}, \"x\": [2, 4, 3, 2, 2, 2, 4, 0, 2, 1, 3, 0, 2, 1, 0, 1, 2, 0, 3, 1, 1, 2, 0, 1, 2, 0, 1, 1, 1, 2, 2, 1, 0, 0, 0, 0, 0, 2, 1, 0, 2, 1, 2, 2, 1, 0, 0, 2, 1, 0], \"type\": \"histogram\"}, {\"yaxis\": \"y6\", \"cumulative\": {\"enabled\": true}, \"histnorm\": \"probability\", \"xaxis\": \"x6\", \"xbins\": {\"start\": 0, \"end\": 100, \"size\": 1.0}, \"marker\": {\"color\": \"royalblue\"}, \"x\": [2, 4, 3, 2, 2, 2, 4, 0, 2, 1, 3, 0, 2, 1, 0, 1, 2, 0, 3, 1, 1, 2, 0, 1, 2, 0, 1, 1, 1, 2, 2, 1, 0, 0, 0, 0, 0, 2, 1, 0, 2, 1, 2, 2, 1, 0, 0, 2, 1, 0], \"type\": \"histogram\"}], {\"yaxis1\": {\"domain\": [0.7777777777777778, 1.0], \"anchor\": \"x1\"}, \"xaxis6\": {\"domain\": [0.55, 1.0], \"anchor\": \"y6\"}, \"xaxis5\": {\"domain\": [0.0, 0.45], \"anchor\": \"y5\"}, \"xaxis4\": {\"domain\": [0.55, 1.0], \"anchor\": \"y4\"}, \"xaxis3\": {\"domain\": [0.0, 0.45], \"anchor\": \"y3\"}, \"xaxis2\": {\"domain\": [0.55, 1.0], \"anchor\": \"y2\"}, \"xaxis1\": {\"domain\": [0.0, 0.45], \"anchor\": \"y1\"}, \"height\": 1000, \"width\": 800, \"yaxis2\": {\"domain\": [0.7777777777777778, 1.0], \"anchor\": \"x2\"}, \"yaxis3\": {\"domain\": [0.3888888888888889, 0.6111111111111112], \"anchor\": \"x3\"}, \"yaxis4\": {\"domain\": [0.3888888888888889, 0.6111111111111112], \"anchor\": \"x4\"}, \"yaxis5\": {\"domain\": [0.0, 0.22222222222222224], \"anchor\": \"x5\"}, \"yaxis6\": {\"domain\": [0.0, 0.22222222222222224], \"anchor\": \"x6\"}, \"title\": \"Single vertex: Distance (BA)\", \"annotations\": [{\"yanchor\": \"bottom\", \"xref\": \"paper\", \"xanchor\": \"center\", \"yref\": \"paper\", \"text\": \"50\", \"y\": 1.0, \"x\": 0.225, \"font\": {\"size\": 16}, \"showarrow\": false}, {\"yanchor\": \"bottom\", \"xref\": \"paper\", \"xanchor\": \"center\", \"yref\": \"paper\", \"text\": \"50\", \"y\": 1.0, \"x\": 0.775, \"font\": {\"size\": 16}, \"showarrow\": false}, {\"yanchor\": \"bottom\", \"xref\": \"paper\", \"xanchor\": \"center\", \"yref\": \"paper\", \"text\": \"75\", \"y\": 0.6111111111111112, \"x\": 0.225, \"font\": {\"size\": 16}, \"showarrow\": false}, {\"yanchor\": \"bottom\", \"xref\": \"paper\", \"xanchor\": \"center\", \"yref\": \"paper\", \"text\": \"75\", \"y\": 0.6111111111111112, \"x\": 0.775, \"font\": {\"size\": 16}, \"showarrow\": false}, {\"yanchor\": \"bottom\", \"xref\": \"paper\", \"xanchor\": \"center\", \"yref\": \"paper\", \"text\": \"100\", \"y\": 0.22222222222222224, \"x\": 0.225, \"font\": {\"size\": 16}, \"showarrow\": false}, {\"yanchor\": \"bottom\", \"xref\": \"paper\", \"xanchor\": \"center\", \"yref\": \"paper\", \"text\": \"100\", \"y\": 0.22222222222222224, \"x\": 0.775, \"font\": {\"size\": 16}, \"showarrow\": false}]}, {\"linkText\": \"Export to plot.ly\", \"showLink\": true})});</script>"
      ]
     },
     "metadata": {},
     "output_type": "display_data"
    }
   ],
   "source": [
    "fig['layout'].update(height=1000, width=800, title='Single vertex: Distance (BA)')\n",
    "iplot(fig, filename='simple-subplot')"
   ]
  },
  {
   "cell_type": "code",
   "execution_count": null,
   "metadata": {
    "collapsed": true
   },
   "outputs": [],
   "source": []
  },
  {
   "cell_type": "markdown",
   "metadata": {},
   "source": [
    "#### Exporting the results"
   ]
  },
  {
   "cell_type": "code",
   "execution_count": 13,
   "metadata": {
    "collapsed": true
   },
   "outputs": [],
   "source": [
    "degree_results = open('Final_distance_1v_BA.txt', 'w')\n",
    "for i in [50,75,100]:\n",
    "  print>>degree_results, str(i),resultsDS[str(i)]\n",
    "degree_results.close()\n",
    "\n",
    "times = open('Final_distance_1v_BA_TIME.txt', 'w')\n",
    "for i in [50,75,100]:\n",
    "  print>>times, str(i),results_ds_time[str(i)]\n",
    "degree_results.close()"
   ]
  },
  {
   "cell_type": "markdown",
   "metadata": {},
   "source": [
    "#### Importing previous results"
   ]
  },
  {
   "cell_type": "code",
   "execution_count": null,
   "metadata": {
    "collapsed": true
   },
   "outputs": [],
   "source": []
  },
  {
   "cell_type": "markdown",
   "metadata": {},
   "source": [
    "## Distance\n",
    "### UA"
   ]
  },
  {
   "cell_type": "code",
   "execution_count": 15,
   "metadata": {
    "collapsed": true
   },
   "outputs": [],
   "source": [
    "resultsDS_ua={} #This dict contains all the vrtices found by the rl estimator for different graph sizes\n",
    "values_ds={} #This dict is created from resultsDC\n",
    "results_ds_time_ua={}"
   ]
  },
  {
   "cell_type": "code",
   "execution_count": 16,
   "metadata": {},
   "outputs": [
    {
     "name": "stdout",
     "output_type": "stream",
     "text": [
      "50\n",
      "75\n",
      "100\n",
      "This is the format of your plot grid:\n",
      "[ (1,1) x1,y1 ]  [ (1,2) x2,y2 ]\n",
      "[ (2,1) x3,y3 ]  [ (2,2) x4,y4 ]\n",
      "[ (3,1) x5,y5 ]  [ (3,2) x6,y6 ]\n",
      "\n"
     ]
    }
   ],
   "source": [
    "#\n",
    "for N in [50,75,100]:\n",
    "    results_dg=[]\n",
    "    start_time=time.time()\n",
    "    for i in range(0,50):\n",
    "        ua=unif_tree(N)\n",
    "        dc=nx.closeness_centrality(ua)\n",
    "        list_maximum=[]\n",
    "        center=max(dc.iteritems(), key=operator.itemgetter(1))[1]\n",
    "        for i in range(N):\n",
    "                if dc[i]==center:\n",
    "                    list_maximum.append([i,dc[i]])\n",
    "        pair=random.choice(list_maximum)\n",
    "        results_dg.append([N,pair[0]])\n",
    "    final_time= -start_time +time.time()\n",
    "    results_ds_time_ua[str(N)]=final_time\n",
    "    \n",
    "    resultsDS_ua[str(N)]=[i[1] for i in results_dg]\n",
    "    print N\n",
    "    \n",
    "\n",
    "data_1={}\n",
    "data_2={}\n",
    "fig = tools.make_subplots(rows=3, cols=2, subplot_titles=('50','50',\n",
    "                                                          '75','75',\n",
    "                                                         '100','100'))\n",
    "j=0\n",
    "for i in [50,75,100]:\n",
    "    j+=1\n",
    "    \n",
    "    #SIMPLEST HISTOGRAM\n",
    "    x = resultsDS_ua[str(i)]\n",
    "    data_1[str(i)] = go.Histogram(x=x,\n",
    "                                  marker=dict(\n",
    "        color='dodgerblue'\n",
    "    ),\n",
    "                     xbins=dict(\n",
    "            start=0,\n",
    "            end=i,\n",
    "            size=1.\n",
    "        ))\n",
    "    fig.append_trace(data_1[str(i)], j, 1)\n",
    "    #CUMM HISTOGRAM\n",
    "    data_2[str(i)] = go.Histogram(x=x,\n",
    "                                  marker=dict(\n",
    "        color='royalblue'\n",
    "    ),\n",
    "                     xbins=dict(\n",
    "        start=0,\n",
    "        end=i,\n",
    "        size=1.\n",
    "    ),\n",
    "                     histnorm='probability',\n",
    "                     cumulative=dict(enabled=True))\n",
    "    fig.append_trace(data_2[str(i)], j, 2)\n",
    "    "
   ]
  },
  {
   "cell_type": "code",
   "execution_count": 17,
   "metadata": {},
   "outputs": [
    {
     "data": {
      "application/vnd.plotly.v1+json": {
       "data": [
        {
         "marker": {
          "color": "dodgerblue"
         },
         "type": "histogram",
         "x": [
          1,
          0,
          1,
          1,
          0,
          2,
          1,
          2,
          1,
          5,
          2,
          5,
          1,
          4,
          1,
          3,
          0,
          1,
          0,
          1,
          1,
          0,
          1,
          0,
          0,
          1,
          1,
          0,
          2,
          1,
          3,
          1,
          1,
          0,
          5,
          1,
          2,
          2,
          4,
          1,
          2,
          0,
          3,
          2,
          2,
          2,
          0,
          1,
          3,
          6
         ],
         "xaxis": "x1",
         "xbins": {
          "end": 50,
          "size": 1,
          "start": 0
         },
         "yaxis": "y1"
        },
        {
         "cumulative": {
          "enabled": true
         },
         "histnorm": "probability",
         "marker": {
          "color": "royalblue"
         },
         "type": "histogram",
         "x": [
          1,
          0,
          1,
          1,
          0,
          2,
          1,
          2,
          1,
          5,
          2,
          5,
          1,
          4,
          1,
          3,
          0,
          1,
          0,
          1,
          1,
          0,
          1,
          0,
          0,
          1,
          1,
          0,
          2,
          1,
          3,
          1,
          1,
          0,
          5,
          1,
          2,
          2,
          4,
          1,
          2,
          0,
          3,
          2,
          2,
          2,
          0,
          1,
          3,
          6
         ],
         "xaxis": "x2",
         "xbins": {
          "end": 50,
          "size": 1,
          "start": 0
         },
         "yaxis": "y2"
        },
        {
         "marker": {
          "color": "dodgerblue"
         },
         "type": "histogram",
         "x": [
          0,
          2,
          0,
          1,
          0,
          1,
          2,
          3,
          0,
          0,
          3,
          0,
          2,
          3,
          4,
          0,
          1,
          1,
          0,
          3,
          1,
          2,
          5,
          1,
          2,
          5,
          3,
          0,
          2,
          3,
          0,
          1,
          2,
          0,
          1,
          1,
          1,
          2,
          0,
          0,
          1,
          2,
          0,
          0,
          2,
          0,
          0,
          2,
          0,
          3
         ],
         "xaxis": "x3",
         "xbins": {
          "end": 75,
          "size": 1,
          "start": 0
         },
         "yaxis": "y3"
        },
        {
         "cumulative": {
          "enabled": true
         },
         "histnorm": "probability",
         "marker": {
          "color": "royalblue"
         },
         "type": "histogram",
         "x": [
          0,
          2,
          0,
          1,
          0,
          1,
          2,
          3,
          0,
          0,
          3,
          0,
          2,
          3,
          4,
          0,
          1,
          1,
          0,
          3,
          1,
          2,
          5,
          1,
          2,
          5,
          3,
          0,
          2,
          3,
          0,
          1,
          2,
          0,
          1,
          1,
          1,
          2,
          0,
          0,
          1,
          2,
          0,
          0,
          2,
          0,
          0,
          2,
          0,
          3
         ],
         "xaxis": "x4",
         "xbins": {
          "end": 75,
          "size": 1,
          "start": 0
         },
         "yaxis": "y4"
        },
        {
         "marker": {
          "color": "dodgerblue"
         },
         "type": "histogram",
         "x": [
          0,
          1,
          1,
          0,
          3,
          1,
          3,
          1,
          2,
          4,
          0,
          1,
          0,
          1,
          2,
          0,
          1,
          2,
          1,
          2,
          2,
          1,
          2,
          1,
          0,
          0,
          3,
          1,
          0,
          2,
          0,
          0,
          0,
          3,
          2,
          1,
          0,
          0,
          0,
          0,
          0,
          0,
          2,
          0,
          0,
          2,
          1,
          1,
          1,
          0
         ],
         "xaxis": "x5",
         "xbins": {
          "end": 100,
          "size": 1,
          "start": 0
         },
         "yaxis": "y5"
        },
        {
         "cumulative": {
          "enabled": true
         },
         "histnorm": "probability",
         "marker": {
          "color": "royalblue"
         },
         "type": "histogram",
         "x": [
          0,
          1,
          1,
          0,
          3,
          1,
          3,
          1,
          2,
          4,
          0,
          1,
          0,
          1,
          2,
          0,
          1,
          2,
          1,
          2,
          2,
          1,
          2,
          1,
          0,
          0,
          3,
          1,
          0,
          2,
          0,
          0,
          0,
          3,
          2,
          1,
          0,
          0,
          0,
          0,
          0,
          0,
          2,
          0,
          0,
          2,
          1,
          1,
          1,
          0
         ],
         "xaxis": "x6",
         "xbins": {
          "end": 100,
          "size": 1,
          "start": 0
         },
         "yaxis": "y6"
        }
       ],
       "layout": {
        "annotations": [
         {
          "font": {
           "size": 16
          },
          "showarrow": false,
          "text": "50",
          "x": 0.225,
          "xanchor": "center",
          "xref": "paper",
          "y": 1,
          "yanchor": "bottom",
          "yref": "paper"
         },
         {
          "font": {
           "size": 16
          },
          "showarrow": false,
          "text": "50",
          "x": 0.775,
          "xanchor": "center",
          "xref": "paper",
          "y": 1,
          "yanchor": "bottom",
          "yref": "paper"
         },
         {
          "font": {
           "size": 16
          },
          "showarrow": false,
          "text": "75",
          "x": 0.225,
          "xanchor": "center",
          "xref": "paper",
          "y": 0.6111111111111112,
          "yanchor": "bottom",
          "yref": "paper"
         },
         {
          "font": {
           "size": 16
          },
          "showarrow": false,
          "text": "75",
          "x": 0.775,
          "xanchor": "center",
          "xref": "paper",
          "y": 0.6111111111111112,
          "yanchor": "bottom",
          "yref": "paper"
         },
         {
          "font": {
           "size": 16
          },
          "showarrow": false,
          "text": "100",
          "x": 0.225,
          "xanchor": "center",
          "xref": "paper",
          "y": 0.22222222222222224,
          "yanchor": "bottom",
          "yref": "paper"
         },
         {
          "font": {
           "size": 16
          },
          "showarrow": false,
          "text": "100",
          "x": 0.775,
          "xanchor": "center",
          "xref": "paper",
          "y": 0.22222222222222224,
          "yanchor": "bottom",
          "yref": "paper"
         }
        ],
        "height": 1000,
        "title": "Single vertex: Distance (UA)",
        "width": 800,
        "xaxis1": {
         "anchor": "y1",
         "domain": [
          0,
          0.45
         ]
        },
        "xaxis2": {
         "anchor": "y2",
         "domain": [
          0.55,
          1
         ]
        },
        "xaxis3": {
         "anchor": "y3",
         "domain": [
          0,
          0.45
         ]
        },
        "xaxis4": {
         "anchor": "y4",
         "domain": [
          0.55,
          1
         ]
        },
        "xaxis5": {
         "anchor": "y5",
         "domain": [
          0,
          0.45
         ]
        },
        "xaxis6": {
         "anchor": "y6",
         "domain": [
          0.55,
          1
         ]
        },
        "yaxis1": {
         "anchor": "x1",
         "domain": [
          0.7777777777777778,
          1
         ]
        },
        "yaxis2": {
         "anchor": "x2",
         "domain": [
          0.7777777777777778,
          1
         ]
        },
        "yaxis3": {
         "anchor": "x3",
         "domain": [
          0.3888888888888889,
          0.6111111111111112
         ]
        },
        "yaxis4": {
         "anchor": "x4",
         "domain": [
          0.3888888888888889,
          0.6111111111111112
         ]
        },
        "yaxis5": {
         "anchor": "x5",
         "domain": [
          0,
          0.22222222222222224
         ]
        },
        "yaxis6": {
         "anchor": "x6",
         "domain": [
          0,
          0.22222222222222224
         ]
        }
       }
      },
      "text/html": [
       "<div id=\"009f48ca-d3c4-4b15-a1e4-ccf25ca4469e\" style=\"height: 1000px; width: 800px;\" class=\"plotly-graph-div\"></div><script type=\"text/javascript\">require([\"plotly\"], function(Plotly) { window.PLOTLYENV=window.PLOTLYENV || {};window.PLOTLYENV.BASE_URL=\"https://plot.ly\";Plotly.newPlot(\"009f48ca-d3c4-4b15-a1e4-ccf25ca4469e\", [{\"yaxis\": \"y1\", \"xaxis\": \"x1\", \"xbins\": {\"start\": 0, \"end\": 50, \"size\": 1.0}, \"marker\": {\"color\": \"dodgerblue\"}, \"x\": [1, 0, 1, 1, 0, 2, 1, 2, 1, 5, 2, 5, 1, 4, 1, 3, 0, 1, 0, 1, 1, 0, 1, 0, 0, 1, 1, 0, 2, 1, 3, 1, 1, 0, 5, 1, 2, 2, 4, 1, 2, 0, 3, 2, 2, 2, 0, 1, 3, 6], \"type\": \"histogram\"}, {\"yaxis\": \"y2\", \"cumulative\": {\"enabled\": true}, \"histnorm\": \"probability\", \"xaxis\": \"x2\", \"xbins\": {\"start\": 0, \"end\": 50, \"size\": 1.0}, \"marker\": {\"color\": \"royalblue\"}, \"x\": [1, 0, 1, 1, 0, 2, 1, 2, 1, 5, 2, 5, 1, 4, 1, 3, 0, 1, 0, 1, 1, 0, 1, 0, 0, 1, 1, 0, 2, 1, 3, 1, 1, 0, 5, 1, 2, 2, 4, 1, 2, 0, 3, 2, 2, 2, 0, 1, 3, 6], \"type\": \"histogram\"}, {\"yaxis\": \"y3\", \"xaxis\": \"x3\", \"xbins\": {\"start\": 0, \"end\": 75, \"size\": 1.0}, \"marker\": {\"color\": \"dodgerblue\"}, \"x\": [0, 2, 0, 1, 0, 1, 2, 3, 0, 0, 3, 0, 2, 3, 4, 0, 1, 1, 0, 3, 1, 2, 5, 1, 2, 5, 3, 0, 2, 3, 0, 1, 2, 0, 1, 1, 1, 2, 0, 0, 1, 2, 0, 0, 2, 0, 0, 2, 0, 3], \"type\": \"histogram\"}, {\"yaxis\": \"y4\", \"cumulative\": {\"enabled\": true}, \"histnorm\": \"probability\", \"xaxis\": \"x4\", \"xbins\": {\"start\": 0, \"end\": 75, \"size\": 1.0}, \"marker\": {\"color\": \"royalblue\"}, \"x\": [0, 2, 0, 1, 0, 1, 2, 3, 0, 0, 3, 0, 2, 3, 4, 0, 1, 1, 0, 3, 1, 2, 5, 1, 2, 5, 3, 0, 2, 3, 0, 1, 2, 0, 1, 1, 1, 2, 0, 0, 1, 2, 0, 0, 2, 0, 0, 2, 0, 3], \"type\": \"histogram\"}, {\"yaxis\": \"y5\", \"xaxis\": \"x5\", \"xbins\": {\"start\": 0, \"end\": 100, \"size\": 1.0}, \"marker\": {\"color\": \"dodgerblue\"}, \"x\": [0, 1, 1, 0, 3, 1, 3, 1, 2, 4, 0, 1, 0, 1, 2, 0, 1, 2, 1, 2, 2, 1, 2, 1, 0, 0, 3, 1, 0, 2, 0, 0, 0, 3, 2, 1, 0, 0, 0, 0, 0, 0, 2, 0, 0, 2, 1, 1, 1, 0], \"type\": \"histogram\"}, {\"yaxis\": \"y6\", \"cumulative\": {\"enabled\": true}, \"histnorm\": \"probability\", \"xaxis\": \"x6\", \"xbins\": {\"start\": 0, \"end\": 100, \"size\": 1.0}, \"marker\": {\"color\": \"royalblue\"}, \"x\": [0, 1, 1, 0, 3, 1, 3, 1, 2, 4, 0, 1, 0, 1, 2, 0, 1, 2, 1, 2, 2, 1, 2, 1, 0, 0, 3, 1, 0, 2, 0, 0, 0, 3, 2, 1, 0, 0, 0, 0, 0, 0, 2, 0, 0, 2, 1, 1, 1, 0], \"type\": \"histogram\"}], {\"yaxis1\": {\"domain\": [0.7777777777777778, 1.0], \"anchor\": \"x1\"}, \"xaxis6\": {\"domain\": [0.55, 1.0], \"anchor\": \"y6\"}, \"xaxis5\": {\"domain\": [0.0, 0.45], \"anchor\": \"y5\"}, \"xaxis4\": {\"domain\": [0.55, 1.0], \"anchor\": \"y4\"}, \"xaxis3\": {\"domain\": [0.0, 0.45], \"anchor\": \"y3\"}, \"xaxis2\": {\"domain\": [0.55, 1.0], \"anchor\": \"y2\"}, \"xaxis1\": {\"domain\": [0.0, 0.45], \"anchor\": \"y1\"}, \"height\": 1000, \"width\": 800, \"yaxis2\": {\"domain\": [0.7777777777777778, 1.0], \"anchor\": \"x2\"}, \"yaxis3\": {\"domain\": [0.3888888888888889, 0.6111111111111112], \"anchor\": \"x3\"}, \"yaxis4\": {\"domain\": [0.3888888888888889, 0.6111111111111112], \"anchor\": \"x4\"}, \"yaxis5\": {\"domain\": [0.0, 0.22222222222222224], \"anchor\": \"x5\"}, \"yaxis6\": {\"domain\": [0.0, 0.22222222222222224], \"anchor\": \"x6\"}, \"title\": \"Single vertex: Distance (UA)\", \"annotations\": [{\"yanchor\": \"bottom\", \"xref\": \"paper\", \"xanchor\": \"center\", \"yref\": \"paper\", \"text\": \"50\", \"y\": 1.0, \"x\": 0.225, \"font\": {\"size\": 16}, \"showarrow\": false}, {\"yanchor\": \"bottom\", \"xref\": \"paper\", \"xanchor\": \"center\", \"yref\": \"paper\", \"text\": \"50\", \"y\": 1.0, \"x\": 0.775, \"font\": {\"size\": 16}, \"showarrow\": false}, {\"yanchor\": \"bottom\", \"xref\": \"paper\", \"xanchor\": \"center\", \"yref\": \"paper\", \"text\": \"75\", \"y\": 0.6111111111111112, \"x\": 0.225, \"font\": {\"size\": 16}, \"showarrow\": false}, {\"yanchor\": \"bottom\", \"xref\": \"paper\", \"xanchor\": \"center\", \"yref\": \"paper\", \"text\": \"75\", \"y\": 0.6111111111111112, \"x\": 0.775, \"font\": {\"size\": 16}, \"showarrow\": false}, {\"yanchor\": \"bottom\", \"xref\": \"paper\", \"xanchor\": \"center\", \"yref\": \"paper\", \"text\": \"100\", \"y\": 0.22222222222222224, \"x\": 0.225, \"font\": {\"size\": 16}, \"showarrow\": false}, {\"yanchor\": \"bottom\", \"xref\": \"paper\", \"xanchor\": \"center\", \"yref\": \"paper\", \"text\": \"100\", \"y\": 0.22222222222222224, \"x\": 0.775, \"font\": {\"size\": 16}, \"showarrow\": false}]}, {\"linkText\": \"Export to plot.ly\", \"showLink\": true})});</script>"
      ],
      "text/vnd.plotly.v1+html": [
       "<div id=\"009f48ca-d3c4-4b15-a1e4-ccf25ca4469e\" style=\"height: 1000px; width: 800px;\" class=\"plotly-graph-div\"></div><script type=\"text/javascript\">require([\"plotly\"], function(Plotly) { window.PLOTLYENV=window.PLOTLYENV || {};window.PLOTLYENV.BASE_URL=\"https://plot.ly\";Plotly.newPlot(\"009f48ca-d3c4-4b15-a1e4-ccf25ca4469e\", [{\"yaxis\": \"y1\", \"xaxis\": \"x1\", \"xbins\": {\"start\": 0, \"end\": 50, \"size\": 1.0}, \"marker\": {\"color\": \"dodgerblue\"}, \"x\": [1, 0, 1, 1, 0, 2, 1, 2, 1, 5, 2, 5, 1, 4, 1, 3, 0, 1, 0, 1, 1, 0, 1, 0, 0, 1, 1, 0, 2, 1, 3, 1, 1, 0, 5, 1, 2, 2, 4, 1, 2, 0, 3, 2, 2, 2, 0, 1, 3, 6], \"type\": \"histogram\"}, {\"yaxis\": \"y2\", \"cumulative\": {\"enabled\": true}, \"histnorm\": \"probability\", \"xaxis\": \"x2\", \"xbins\": {\"start\": 0, \"end\": 50, \"size\": 1.0}, \"marker\": {\"color\": \"royalblue\"}, \"x\": [1, 0, 1, 1, 0, 2, 1, 2, 1, 5, 2, 5, 1, 4, 1, 3, 0, 1, 0, 1, 1, 0, 1, 0, 0, 1, 1, 0, 2, 1, 3, 1, 1, 0, 5, 1, 2, 2, 4, 1, 2, 0, 3, 2, 2, 2, 0, 1, 3, 6], \"type\": \"histogram\"}, {\"yaxis\": \"y3\", \"xaxis\": \"x3\", \"xbins\": {\"start\": 0, \"end\": 75, \"size\": 1.0}, \"marker\": {\"color\": \"dodgerblue\"}, \"x\": [0, 2, 0, 1, 0, 1, 2, 3, 0, 0, 3, 0, 2, 3, 4, 0, 1, 1, 0, 3, 1, 2, 5, 1, 2, 5, 3, 0, 2, 3, 0, 1, 2, 0, 1, 1, 1, 2, 0, 0, 1, 2, 0, 0, 2, 0, 0, 2, 0, 3], \"type\": \"histogram\"}, {\"yaxis\": \"y4\", \"cumulative\": {\"enabled\": true}, \"histnorm\": \"probability\", \"xaxis\": \"x4\", \"xbins\": {\"start\": 0, \"end\": 75, \"size\": 1.0}, \"marker\": {\"color\": \"royalblue\"}, \"x\": [0, 2, 0, 1, 0, 1, 2, 3, 0, 0, 3, 0, 2, 3, 4, 0, 1, 1, 0, 3, 1, 2, 5, 1, 2, 5, 3, 0, 2, 3, 0, 1, 2, 0, 1, 1, 1, 2, 0, 0, 1, 2, 0, 0, 2, 0, 0, 2, 0, 3], \"type\": \"histogram\"}, {\"yaxis\": \"y5\", \"xaxis\": \"x5\", \"xbins\": {\"start\": 0, \"end\": 100, \"size\": 1.0}, \"marker\": {\"color\": \"dodgerblue\"}, \"x\": [0, 1, 1, 0, 3, 1, 3, 1, 2, 4, 0, 1, 0, 1, 2, 0, 1, 2, 1, 2, 2, 1, 2, 1, 0, 0, 3, 1, 0, 2, 0, 0, 0, 3, 2, 1, 0, 0, 0, 0, 0, 0, 2, 0, 0, 2, 1, 1, 1, 0], \"type\": \"histogram\"}, {\"yaxis\": \"y6\", \"cumulative\": {\"enabled\": true}, \"histnorm\": \"probability\", \"xaxis\": \"x6\", \"xbins\": {\"start\": 0, \"end\": 100, \"size\": 1.0}, \"marker\": {\"color\": \"royalblue\"}, \"x\": [0, 1, 1, 0, 3, 1, 3, 1, 2, 4, 0, 1, 0, 1, 2, 0, 1, 2, 1, 2, 2, 1, 2, 1, 0, 0, 3, 1, 0, 2, 0, 0, 0, 3, 2, 1, 0, 0, 0, 0, 0, 0, 2, 0, 0, 2, 1, 1, 1, 0], \"type\": \"histogram\"}], {\"yaxis1\": {\"domain\": [0.7777777777777778, 1.0], \"anchor\": \"x1\"}, \"xaxis6\": {\"domain\": [0.55, 1.0], \"anchor\": \"y6\"}, \"xaxis5\": {\"domain\": [0.0, 0.45], \"anchor\": \"y5\"}, \"xaxis4\": {\"domain\": [0.55, 1.0], \"anchor\": \"y4\"}, \"xaxis3\": {\"domain\": [0.0, 0.45], \"anchor\": \"y3\"}, \"xaxis2\": {\"domain\": [0.55, 1.0], \"anchor\": \"y2\"}, \"xaxis1\": {\"domain\": [0.0, 0.45], \"anchor\": \"y1\"}, \"height\": 1000, \"width\": 800, \"yaxis2\": {\"domain\": [0.7777777777777778, 1.0], \"anchor\": \"x2\"}, \"yaxis3\": {\"domain\": [0.3888888888888889, 0.6111111111111112], \"anchor\": \"x3\"}, \"yaxis4\": {\"domain\": [0.3888888888888889, 0.6111111111111112], \"anchor\": \"x4\"}, \"yaxis5\": {\"domain\": [0.0, 0.22222222222222224], \"anchor\": \"x5\"}, \"yaxis6\": {\"domain\": [0.0, 0.22222222222222224], \"anchor\": \"x6\"}, \"title\": \"Single vertex: Distance (UA)\", \"annotations\": [{\"yanchor\": \"bottom\", \"xref\": \"paper\", \"xanchor\": \"center\", \"yref\": \"paper\", \"text\": \"50\", \"y\": 1.0, \"x\": 0.225, \"font\": {\"size\": 16}, \"showarrow\": false}, {\"yanchor\": \"bottom\", \"xref\": \"paper\", \"xanchor\": \"center\", \"yref\": \"paper\", \"text\": \"50\", \"y\": 1.0, \"x\": 0.775, \"font\": {\"size\": 16}, \"showarrow\": false}, {\"yanchor\": \"bottom\", \"xref\": \"paper\", \"xanchor\": \"center\", \"yref\": \"paper\", \"text\": \"75\", \"y\": 0.6111111111111112, \"x\": 0.225, \"font\": {\"size\": 16}, \"showarrow\": false}, {\"yanchor\": \"bottom\", \"xref\": \"paper\", \"xanchor\": \"center\", \"yref\": \"paper\", \"text\": \"75\", \"y\": 0.6111111111111112, \"x\": 0.775, \"font\": {\"size\": 16}, \"showarrow\": false}, {\"yanchor\": \"bottom\", \"xref\": \"paper\", \"xanchor\": \"center\", \"yref\": \"paper\", \"text\": \"100\", \"y\": 0.22222222222222224, \"x\": 0.225, \"font\": {\"size\": 16}, \"showarrow\": false}, {\"yanchor\": \"bottom\", \"xref\": \"paper\", \"xanchor\": \"center\", \"yref\": \"paper\", \"text\": \"100\", \"y\": 0.22222222222222224, \"x\": 0.775, \"font\": {\"size\": 16}, \"showarrow\": false}]}, {\"linkText\": \"Export to plot.ly\", \"showLink\": true})});</script>"
      ]
     },
     "metadata": {},
     "output_type": "display_data"
    }
   ],
   "source": [
    "fig['layout'].update(height=1000, width=800, title='Single vertex: Distance (UA)')\n",
    "iplot(fig, filename='simple-subplot')"
   ]
  },
  {
   "cell_type": "markdown",
   "metadata": {},
   "source": [
    "#### Exporting the results"
   ]
  },
  {
   "cell_type": "code",
   "execution_count": 18,
   "metadata": {
    "collapsed": true
   },
   "outputs": [],
   "source": [
    "degree_results = open('Final_distance_1v_UA.txt', 'w')\n",
    "for i in [50,75,100]:\n",
    "  print>>degree_results, str(i),resultsDS_ua[str(i)]\n",
    "degree_results.close()"
   ]
  },
  {
   "cell_type": "code",
   "execution_count": 19,
   "metadata": {
    "collapsed": true
   },
   "outputs": [],
   "source": [
    "times = open('Final_distance_1v_UA_TIME.txt', 'w')\n",
    "for i in [50,75,100]:\n",
    "  print>>times, str(i),results_ds_time_ua[str(i)]\n",
    "times.close()"
   ]
  },
  {
   "cell_type": "markdown",
   "metadata": {},
   "source": [
    "## P-3-R"
   ]
  },
  {
   "cell_type": "code",
   "execution_count": 21,
   "metadata": {
    "collapsed": true
   },
   "outputs": [],
   "source": [
    "resultsDS_p3r={} #This dict contains all the vrtices found by the rl estimator for different graph sizes\n",
    "results_ds_time_p3r={}"
   ]
  },
  {
   "cell_type": "code",
   "execution_count": 22,
   "metadata": {},
   "outputs": [
    {
     "name": "stdout",
     "output_type": "stream",
     "text": [
      "50\n",
      "75\n",
      "100\n",
      "This is the format of your plot grid:\n",
      "[ (1,1) x1,y1 ]  [ (1,2) x2,y2 ]\n",
      "[ (2,1) x3,y3 ]  [ (2,2) x4,y4 ]\n",
      "[ (3,1) x5,y5 ]  [ (3,2) x6,y6 ]\n",
      "\n"
     ]
    }
   ],
   "source": [
    "for N in [50,75,100]:\n",
    "    results_dg=[]\n",
    "    start_time=time.time()\n",
    "    for i in range(0,50):\n",
    "        p3r=areg(N)\n",
    "        dc=nx.closeness_centrality(p3r)\n",
    "        list_maximum=[]\n",
    "        center=max(dc.iteritems(), key=operator.itemgetter(1))[1]\n",
    "        for i in range(N):\n",
    "                if dc[i]==center:\n",
    "                    list_maximum.append([i,dc[i]])\n",
    "        pair=random.choice(list_maximum)\n",
    "        results_dg.append([N,pair[0]])\n",
    "    final_time= -start_time +time.time()\n",
    "    results_ds_time_p3r[str(N)]=final_time\n",
    "    \n",
    "    resultsDS_p3r[str(N)]=[i[1] for i in results_dg]\n",
    "    print N\n",
    "    \n",
    "\n",
    "data_1={}\n",
    "data_2={}\n",
    "fig = tools.make_subplots(rows=3, cols=2, subplot_titles=('50','50',\n",
    "                                                          '75','75',\n",
    "                                                         '100','100'))\n",
    "j=0\n",
    "for i in [50,75,100]:\n",
    "    j+=1\n",
    "    \n",
    "    #SIMPLEST HISTOGRAM\n",
    "    x = resultsDS_p3r[str(i)]\n",
    "    data_1[str(i)] = go.Histogram(x=x,\n",
    "                                  marker=dict(\n",
    "        color='dodgerblue'\n",
    "    ),\n",
    "                     xbins=dict(\n",
    "            start=0,\n",
    "            end=i,\n",
    "            size=1.\n",
    "        ))\n",
    "    fig.append_trace(data_1[str(i)], j, 1)\n",
    "    #CUMM HISTOGRAM\n",
    "    data_2[str(i)] = go.Histogram(x=x,\n",
    "                                  marker=dict(\n",
    "        color='royalblue'\n",
    "    ),\n",
    "                     xbins=dict(\n",
    "        start=0,\n",
    "        end=i,\n",
    "        size=1.\n",
    "    ),\n",
    "                     histnorm='probability',\n",
    "                     cumulative=dict(enabled=True))\n",
    "    fig.append_trace(data_2[str(i)], j, 2)\n",
    "    "
   ]
  },
  {
   "cell_type": "code",
   "execution_count": 24,
   "metadata": {},
   "outputs": [
    {
     "data": {
      "application/vnd.plotly.v1+json": {
       "data": [
        {
         "marker": {
          "color": "dodgerblue"
         },
         "type": "histogram",
         "x": [
          10,
          2,
          0,
          0,
          1,
          2,
          2,
          3,
          0,
          0,
          1,
          5,
          2,
          1,
          4,
          0,
          3,
          0,
          0,
          1,
          1,
          0,
          3,
          4,
          4,
          0,
          1,
          0,
          3,
          5,
          0,
          1,
          0,
          0,
          4,
          6,
          5,
          0,
          3,
          1,
          1,
          4,
          1,
          0,
          3,
          1,
          0,
          7,
          3,
          2
         ],
         "xaxis": "x1",
         "xbins": {
          "end": 50,
          "size": 1,
          "start": 0
         },
         "yaxis": "y1"
        },
        {
         "cumulative": {
          "enabled": true
         },
         "histnorm": "probability",
         "marker": {
          "color": "royalblue"
         },
         "type": "histogram",
         "x": [
          10,
          2,
          0,
          0,
          1,
          2,
          2,
          3,
          0,
          0,
          1,
          5,
          2,
          1,
          4,
          0,
          3,
          0,
          0,
          1,
          1,
          0,
          3,
          4,
          4,
          0,
          1,
          0,
          3,
          5,
          0,
          1,
          0,
          0,
          4,
          6,
          5,
          0,
          3,
          1,
          1,
          4,
          1,
          0,
          3,
          1,
          0,
          7,
          3,
          2
         ],
         "xaxis": "x2",
         "xbins": {
          "end": 50,
          "size": 1,
          "start": 0
         },
         "yaxis": "y2"
        },
        {
         "marker": {
          "color": "dodgerblue"
         },
         "type": "histogram",
         "x": [
          4,
          1,
          0,
          5,
          5,
          0,
          2,
          0,
          0,
          0,
          3,
          5,
          0,
          3,
          0,
          2,
          0,
          0,
          0,
          0,
          2,
          1,
          4,
          0,
          2,
          1,
          3,
          3,
          0,
          3,
          1,
          9,
          2,
          2,
          3,
          1,
          1,
          5,
          1,
          1,
          1,
          2,
          0,
          2,
          0,
          2,
          0,
          0,
          0,
          1
         ],
         "xaxis": "x3",
         "xbins": {
          "end": 75,
          "size": 1,
          "start": 0
         },
         "yaxis": "y3"
        },
        {
         "cumulative": {
          "enabled": true
         },
         "histnorm": "probability",
         "marker": {
          "color": "royalblue"
         },
         "type": "histogram",
         "x": [
          4,
          1,
          0,
          5,
          5,
          0,
          2,
          0,
          0,
          0,
          3,
          5,
          0,
          3,
          0,
          2,
          0,
          0,
          0,
          0,
          2,
          1,
          4,
          0,
          2,
          1,
          3,
          3,
          0,
          3,
          1,
          9,
          2,
          2,
          3,
          1,
          1,
          5,
          1,
          1,
          1,
          2,
          0,
          2,
          0,
          2,
          0,
          0,
          0,
          1
         ],
         "xaxis": "x4",
         "xbins": {
          "end": 75,
          "size": 1,
          "start": 0
         },
         "yaxis": "y4"
        },
        {
         "marker": {
          "color": "dodgerblue"
         },
         "type": "histogram",
         "x": [
          1,
          2,
          4,
          3,
          0,
          2,
          2,
          1,
          2,
          4,
          2,
          0,
          4,
          1,
          0,
          3,
          1,
          2,
          0,
          1,
          0,
          0,
          5,
          4,
          3,
          3,
          1,
          8,
          3,
          3,
          0,
          0,
          5,
          1,
          1,
          1,
          2,
          0,
          1,
          1,
          0,
          1,
          1,
          1,
          6,
          4,
          3,
          1,
          3,
          1
         ],
         "xaxis": "x5",
         "xbins": {
          "end": 100,
          "size": 1,
          "start": 0
         },
         "yaxis": "y5"
        },
        {
         "cumulative": {
          "enabled": true
         },
         "histnorm": "probability",
         "marker": {
          "color": "royalblue"
         },
         "type": "histogram",
         "x": [
          1,
          2,
          4,
          3,
          0,
          2,
          2,
          1,
          2,
          4,
          2,
          0,
          4,
          1,
          0,
          3,
          1,
          2,
          0,
          1,
          0,
          0,
          5,
          4,
          3,
          3,
          1,
          8,
          3,
          3,
          0,
          0,
          5,
          1,
          1,
          1,
          2,
          0,
          1,
          1,
          0,
          1,
          1,
          1,
          6,
          4,
          3,
          1,
          3,
          1
         ],
         "xaxis": "x6",
         "xbins": {
          "end": 100,
          "size": 1,
          "start": 0
         },
         "yaxis": "y6"
        }
       ],
       "layout": {
        "annotations": [
         {
          "font": {
           "size": 16
          },
          "showarrow": false,
          "text": "50",
          "x": 0.225,
          "xanchor": "center",
          "xref": "paper",
          "y": 1,
          "yanchor": "bottom",
          "yref": "paper"
         },
         {
          "font": {
           "size": 16
          },
          "showarrow": false,
          "text": "50",
          "x": 0.775,
          "xanchor": "center",
          "xref": "paper",
          "y": 1,
          "yanchor": "bottom",
          "yref": "paper"
         },
         {
          "font": {
           "size": 16
          },
          "showarrow": false,
          "text": "75",
          "x": 0.225,
          "xanchor": "center",
          "xref": "paper",
          "y": 0.6111111111111112,
          "yanchor": "bottom",
          "yref": "paper"
         },
         {
          "font": {
           "size": 16
          },
          "showarrow": false,
          "text": "75",
          "x": 0.775,
          "xanchor": "center",
          "xref": "paper",
          "y": 0.6111111111111112,
          "yanchor": "bottom",
          "yref": "paper"
         },
         {
          "font": {
           "size": 16
          },
          "showarrow": false,
          "text": "100",
          "x": 0.225,
          "xanchor": "center",
          "xref": "paper",
          "y": 0.22222222222222224,
          "yanchor": "bottom",
          "yref": "paper"
         },
         {
          "font": {
           "size": 16
          },
          "showarrow": false,
          "text": "100",
          "x": 0.775,
          "xanchor": "center",
          "xref": "paper",
          "y": 0.22222222222222224,
          "yanchor": "bottom",
          "yref": "paper"
         }
        ],
        "height": 1000,
        "title": "Single vertex: Distance (P3R)",
        "width": 800,
        "xaxis1": {
         "anchor": "y1",
         "domain": [
          0,
          0.45
         ]
        },
        "xaxis2": {
         "anchor": "y2",
         "domain": [
          0.55,
          1
         ]
        },
        "xaxis3": {
         "anchor": "y3",
         "domain": [
          0,
          0.45
         ]
        },
        "xaxis4": {
         "anchor": "y4",
         "domain": [
          0.55,
          1
         ]
        },
        "xaxis5": {
         "anchor": "y5",
         "domain": [
          0,
          0.45
         ]
        },
        "xaxis6": {
         "anchor": "y6",
         "domain": [
          0.55,
          1
         ]
        },
        "yaxis1": {
         "anchor": "x1",
         "domain": [
          0.7777777777777778,
          1
         ]
        },
        "yaxis2": {
         "anchor": "x2",
         "domain": [
          0.7777777777777778,
          1
         ]
        },
        "yaxis3": {
         "anchor": "x3",
         "domain": [
          0.3888888888888889,
          0.6111111111111112
         ]
        },
        "yaxis4": {
         "anchor": "x4",
         "domain": [
          0.3888888888888889,
          0.6111111111111112
         ]
        },
        "yaxis5": {
         "anchor": "x5",
         "domain": [
          0,
          0.22222222222222224
         ]
        },
        "yaxis6": {
         "anchor": "x6",
         "domain": [
          0,
          0.22222222222222224
         ]
        }
       }
      },
      "text/html": [
       "<div id=\"528e7ee9-2767-47da-9c86-24fdeaf6fada\" style=\"height: 1000px; width: 800px;\" class=\"plotly-graph-div\"></div><script type=\"text/javascript\">require([\"plotly\"], function(Plotly) { window.PLOTLYENV=window.PLOTLYENV || {};window.PLOTLYENV.BASE_URL=\"https://plot.ly\";Plotly.newPlot(\"528e7ee9-2767-47da-9c86-24fdeaf6fada\", [{\"yaxis\": \"y1\", \"xaxis\": \"x1\", \"xbins\": {\"start\": 0, \"end\": 50, \"size\": 1.0}, \"marker\": {\"color\": \"dodgerblue\"}, \"x\": [10, 2, 0, 0, 1, 2, 2, 3, 0, 0, 1, 5, 2, 1, 4, 0, 3, 0, 0, 1, 1, 0, 3, 4, 4, 0, 1, 0, 3, 5, 0, 1, 0, 0, 4, 6, 5, 0, 3, 1, 1, 4, 1, 0, 3, 1, 0, 7, 3, 2], \"type\": \"histogram\"}, {\"yaxis\": \"y2\", \"cumulative\": {\"enabled\": true}, \"histnorm\": \"probability\", \"xaxis\": \"x2\", \"xbins\": {\"start\": 0, \"end\": 50, \"size\": 1.0}, \"marker\": {\"color\": \"royalblue\"}, \"x\": [10, 2, 0, 0, 1, 2, 2, 3, 0, 0, 1, 5, 2, 1, 4, 0, 3, 0, 0, 1, 1, 0, 3, 4, 4, 0, 1, 0, 3, 5, 0, 1, 0, 0, 4, 6, 5, 0, 3, 1, 1, 4, 1, 0, 3, 1, 0, 7, 3, 2], \"type\": \"histogram\"}, {\"yaxis\": \"y3\", \"xaxis\": \"x3\", \"xbins\": {\"start\": 0, \"end\": 75, \"size\": 1.0}, \"marker\": {\"color\": \"dodgerblue\"}, \"x\": [4, 1, 0, 5, 5, 0, 2, 0, 0, 0, 3, 5, 0, 3, 0, 2, 0, 0, 0, 0, 2, 1, 4, 0, 2, 1, 3, 3, 0, 3, 1, 9, 2, 2, 3, 1, 1, 5, 1, 1, 1, 2, 0, 2, 0, 2, 0, 0, 0, 1], \"type\": \"histogram\"}, {\"yaxis\": \"y4\", \"cumulative\": {\"enabled\": true}, \"histnorm\": \"probability\", \"xaxis\": \"x4\", \"xbins\": {\"start\": 0, \"end\": 75, \"size\": 1.0}, \"marker\": {\"color\": \"royalblue\"}, \"x\": [4, 1, 0, 5, 5, 0, 2, 0, 0, 0, 3, 5, 0, 3, 0, 2, 0, 0, 0, 0, 2, 1, 4, 0, 2, 1, 3, 3, 0, 3, 1, 9, 2, 2, 3, 1, 1, 5, 1, 1, 1, 2, 0, 2, 0, 2, 0, 0, 0, 1], \"type\": \"histogram\"}, {\"yaxis\": \"y5\", \"xaxis\": \"x5\", \"xbins\": {\"start\": 0, \"end\": 100, \"size\": 1.0}, \"marker\": {\"color\": \"dodgerblue\"}, \"x\": [1, 2, 4, 3, 0, 2, 2, 1, 2, 4, 2, 0, 4, 1, 0, 3, 1, 2, 0, 1, 0, 0, 5, 4, 3, 3, 1, 8, 3, 3, 0, 0, 5, 1, 1, 1, 2, 0, 1, 1, 0, 1, 1, 1, 6, 4, 3, 1, 3, 1], \"type\": \"histogram\"}, {\"yaxis\": \"y6\", \"cumulative\": {\"enabled\": true}, \"histnorm\": \"probability\", \"xaxis\": \"x6\", \"xbins\": {\"start\": 0, \"end\": 100, \"size\": 1.0}, \"marker\": {\"color\": \"royalblue\"}, \"x\": [1, 2, 4, 3, 0, 2, 2, 1, 2, 4, 2, 0, 4, 1, 0, 3, 1, 2, 0, 1, 0, 0, 5, 4, 3, 3, 1, 8, 3, 3, 0, 0, 5, 1, 1, 1, 2, 0, 1, 1, 0, 1, 1, 1, 6, 4, 3, 1, 3, 1], \"type\": \"histogram\"}], {\"yaxis1\": {\"domain\": [0.7777777777777778, 1.0], \"anchor\": \"x1\"}, \"xaxis6\": {\"domain\": [0.55, 1.0], \"anchor\": \"y6\"}, \"xaxis5\": {\"domain\": [0.0, 0.45], \"anchor\": \"y5\"}, \"xaxis4\": {\"domain\": [0.55, 1.0], \"anchor\": \"y4\"}, \"xaxis3\": {\"domain\": [0.0, 0.45], \"anchor\": \"y3\"}, \"xaxis2\": {\"domain\": [0.55, 1.0], \"anchor\": \"y2\"}, \"xaxis1\": {\"domain\": [0.0, 0.45], \"anchor\": \"y1\"}, \"height\": 1000, \"width\": 800, \"yaxis2\": {\"domain\": [0.7777777777777778, 1.0], \"anchor\": \"x2\"}, \"yaxis3\": {\"domain\": [0.3888888888888889, 0.6111111111111112], \"anchor\": \"x3\"}, \"yaxis4\": {\"domain\": [0.3888888888888889, 0.6111111111111112], \"anchor\": \"x4\"}, \"yaxis5\": {\"domain\": [0.0, 0.22222222222222224], \"anchor\": \"x5\"}, \"yaxis6\": {\"domain\": [0.0, 0.22222222222222224], \"anchor\": \"x6\"}, \"title\": \"Single vertex: Distance (P3R)\", \"annotations\": [{\"yanchor\": \"bottom\", \"xref\": \"paper\", \"xanchor\": \"center\", \"yref\": \"paper\", \"text\": \"50\", \"y\": 1.0, \"x\": 0.225, \"font\": {\"size\": 16}, \"showarrow\": false}, {\"yanchor\": \"bottom\", \"xref\": \"paper\", \"xanchor\": \"center\", \"yref\": \"paper\", \"text\": \"50\", \"y\": 1.0, \"x\": 0.775, \"font\": {\"size\": 16}, \"showarrow\": false}, {\"yanchor\": \"bottom\", \"xref\": \"paper\", \"xanchor\": \"center\", \"yref\": \"paper\", \"text\": \"75\", \"y\": 0.6111111111111112, \"x\": 0.225, \"font\": {\"size\": 16}, \"showarrow\": false}, {\"yanchor\": \"bottom\", \"xref\": \"paper\", \"xanchor\": \"center\", \"yref\": \"paper\", \"text\": \"75\", \"y\": 0.6111111111111112, \"x\": 0.775, \"font\": {\"size\": 16}, \"showarrow\": false}, {\"yanchor\": \"bottom\", \"xref\": \"paper\", \"xanchor\": \"center\", \"yref\": \"paper\", \"text\": \"100\", \"y\": 0.22222222222222224, \"x\": 0.225, \"font\": {\"size\": 16}, \"showarrow\": false}, {\"yanchor\": \"bottom\", \"xref\": \"paper\", \"xanchor\": \"center\", \"yref\": \"paper\", \"text\": \"100\", \"y\": 0.22222222222222224, \"x\": 0.775, \"font\": {\"size\": 16}, \"showarrow\": false}]}, {\"linkText\": \"Export to plot.ly\", \"showLink\": true})});</script>"
      ],
      "text/vnd.plotly.v1+html": [
       "<div id=\"528e7ee9-2767-47da-9c86-24fdeaf6fada\" style=\"height: 1000px; width: 800px;\" class=\"plotly-graph-div\"></div><script type=\"text/javascript\">require([\"plotly\"], function(Plotly) { window.PLOTLYENV=window.PLOTLYENV || {};window.PLOTLYENV.BASE_URL=\"https://plot.ly\";Plotly.newPlot(\"528e7ee9-2767-47da-9c86-24fdeaf6fada\", [{\"yaxis\": \"y1\", \"xaxis\": \"x1\", \"xbins\": {\"start\": 0, \"end\": 50, \"size\": 1.0}, \"marker\": {\"color\": \"dodgerblue\"}, \"x\": [10, 2, 0, 0, 1, 2, 2, 3, 0, 0, 1, 5, 2, 1, 4, 0, 3, 0, 0, 1, 1, 0, 3, 4, 4, 0, 1, 0, 3, 5, 0, 1, 0, 0, 4, 6, 5, 0, 3, 1, 1, 4, 1, 0, 3, 1, 0, 7, 3, 2], \"type\": \"histogram\"}, {\"yaxis\": \"y2\", \"cumulative\": {\"enabled\": true}, \"histnorm\": \"probability\", \"xaxis\": \"x2\", \"xbins\": {\"start\": 0, \"end\": 50, \"size\": 1.0}, \"marker\": {\"color\": \"royalblue\"}, \"x\": [10, 2, 0, 0, 1, 2, 2, 3, 0, 0, 1, 5, 2, 1, 4, 0, 3, 0, 0, 1, 1, 0, 3, 4, 4, 0, 1, 0, 3, 5, 0, 1, 0, 0, 4, 6, 5, 0, 3, 1, 1, 4, 1, 0, 3, 1, 0, 7, 3, 2], \"type\": \"histogram\"}, {\"yaxis\": \"y3\", \"xaxis\": \"x3\", \"xbins\": {\"start\": 0, \"end\": 75, \"size\": 1.0}, \"marker\": {\"color\": \"dodgerblue\"}, \"x\": [4, 1, 0, 5, 5, 0, 2, 0, 0, 0, 3, 5, 0, 3, 0, 2, 0, 0, 0, 0, 2, 1, 4, 0, 2, 1, 3, 3, 0, 3, 1, 9, 2, 2, 3, 1, 1, 5, 1, 1, 1, 2, 0, 2, 0, 2, 0, 0, 0, 1], \"type\": \"histogram\"}, {\"yaxis\": \"y4\", \"cumulative\": {\"enabled\": true}, \"histnorm\": \"probability\", \"xaxis\": \"x4\", \"xbins\": {\"start\": 0, \"end\": 75, \"size\": 1.0}, \"marker\": {\"color\": \"royalblue\"}, \"x\": [4, 1, 0, 5, 5, 0, 2, 0, 0, 0, 3, 5, 0, 3, 0, 2, 0, 0, 0, 0, 2, 1, 4, 0, 2, 1, 3, 3, 0, 3, 1, 9, 2, 2, 3, 1, 1, 5, 1, 1, 1, 2, 0, 2, 0, 2, 0, 0, 0, 1], \"type\": \"histogram\"}, {\"yaxis\": \"y5\", \"xaxis\": \"x5\", \"xbins\": {\"start\": 0, \"end\": 100, \"size\": 1.0}, \"marker\": {\"color\": \"dodgerblue\"}, \"x\": [1, 2, 4, 3, 0, 2, 2, 1, 2, 4, 2, 0, 4, 1, 0, 3, 1, 2, 0, 1, 0, 0, 5, 4, 3, 3, 1, 8, 3, 3, 0, 0, 5, 1, 1, 1, 2, 0, 1, 1, 0, 1, 1, 1, 6, 4, 3, 1, 3, 1], \"type\": \"histogram\"}, {\"yaxis\": \"y6\", \"cumulative\": {\"enabled\": true}, \"histnorm\": \"probability\", \"xaxis\": \"x6\", \"xbins\": {\"start\": 0, \"end\": 100, \"size\": 1.0}, \"marker\": {\"color\": \"royalblue\"}, \"x\": [1, 2, 4, 3, 0, 2, 2, 1, 2, 4, 2, 0, 4, 1, 0, 3, 1, 2, 0, 1, 0, 0, 5, 4, 3, 3, 1, 8, 3, 3, 0, 0, 5, 1, 1, 1, 2, 0, 1, 1, 0, 1, 1, 1, 6, 4, 3, 1, 3, 1], \"type\": \"histogram\"}], {\"yaxis1\": {\"domain\": [0.7777777777777778, 1.0], \"anchor\": \"x1\"}, \"xaxis6\": {\"domain\": [0.55, 1.0], \"anchor\": \"y6\"}, \"xaxis5\": {\"domain\": [0.0, 0.45], \"anchor\": \"y5\"}, \"xaxis4\": {\"domain\": [0.55, 1.0], \"anchor\": \"y4\"}, \"xaxis3\": {\"domain\": [0.0, 0.45], \"anchor\": \"y3\"}, \"xaxis2\": {\"domain\": [0.55, 1.0], \"anchor\": \"y2\"}, \"xaxis1\": {\"domain\": [0.0, 0.45], \"anchor\": \"y1\"}, \"height\": 1000, \"width\": 800, \"yaxis2\": {\"domain\": [0.7777777777777778, 1.0], \"anchor\": \"x2\"}, \"yaxis3\": {\"domain\": [0.3888888888888889, 0.6111111111111112], \"anchor\": \"x3\"}, \"yaxis4\": {\"domain\": [0.3888888888888889, 0.6111111111111112], \"anchor\": \"x4\"}, \"yaxis5\": {\"domain\": [0.0, 0.22222222222222224], \"anchor\": \"x5\"}, \"yaxis6\": {\"domain\": [0.0, 0.22222222222222224], \"anchor\": \"x6\"}, \"title\": \"Single vertex: Distance (P3R)\", \"annotations\": [{\"yanchor\": \"bottom\", \"xref\": \"paper\", \"xanchor\": \"center\", \"yref\": \"paper\", \"text\": \"50\", \"y\": 1.0, \"x\": 0.225, \"font\": {\"size\": 16}, \"showarrow\": false}, {\"yanchor\": \"bottom\", \"xref\": \"paper\", \"xanchor\": \"center\", \"yref\": \"paper\", \"text\": \"50\", \"y\": 1.0, \"x\": 0.775, \"font\": {\"size\": 16}, \"showarrow\": false}, {\"yanchor\": \"bottom\", \"xref\": \"paper\", \"xanchor\": \"center\", \"yref\": \"paper\", \"text\": \"75\", \"y\": 0.6111111111111112, \"x\": 0.225, \"font\": {\"size\": 16}, \"showarrow\": false}, {\"yanchor\": \"bottom\", \"xref\": \"paper\", \"xanchor\": \"center\", \"yref\": \"paper\", \"text\": \"75\", \"y\": 0.6111111111111112, \"x\": 0.775, \"font\": {\"size\": 16}, \"showarrow\": false}, {\"yanchor\": \"bottom\", \"xref\": \"paper\", \"xanchor\": \"center\", \"yref\": \"paper\", \"text\": \"100\", \"y\": 0.22222222222222224, \"x\": 0.225, \"font\": {\"size\": 16}, \"showarrow\": false}, {\"yanchor\": \"bottom\", \"xref\": \"paper\", \"xanchor\": \"center\", \"yref\": \"paper\", \"text\": \"100\", \"y\": 0.22222222222222224, \"x\": 0.775, \"font\": {\"size\": 16}, \"showarrow\": false}]}, {\"linkText\": \"Export to plot.ly\", \"showLink\": true})});</script>"
      ]
     },
     "metadata": {},
     "output_type": "display_data"
    }
   ],
   "source": [
    "fig['layout'].update(height=1000, width=800, title='Single vertex: Distance (P3R)')\n",
    "iplot(fig, filename='simple-subplot')"
   ]
  },
  {
   "cell_type": "code",
   "execution_count": null,
   "metadata": {
    "collapsed": true
   },
   "outputs": [],
   "source": []
  },
  {
   "cell_type": "markdown",
   "metadata": {},
   "source": [
    "#### Exporting the results"
   ]
  },
  {
   "cell_type": "code",
   "execution_count": 25,
   "metadata": {
    "collapsed": true
   },
   "outputs": [],
   "source": [
    "degree_results = open('Final_distance_1v_P3R.txt', 'w')\n",
    "for i in [50,75,100]:\n",
    "  print>>degree_results, str(i),resultsDS_p3r[str(i)]\n",
    "degree_results.close()\n",
    "times = open('Final_distance_1v_P3R_TIME.txt', 'w')\n",
    "for i in [50,75,100]:\n",
    "  print>>times, str(i),results_ds_time_p3r[str(i)]\n",
    "times.close()"
   ]
  },
  {
   "cell_type": "code",
   "execution_count": null,
   "metadata": {
    "collapsed": true
   },
   "outputs": [],
   "source": []
  }
 ],
 "metadata": {
  "kernelspec": {
   "display_name": "Python 2",
   "language": "python",
   "name": "python2"
  },
  "language_info": {
   "codemirror_mode": {
    "name": "ipython",
    "version": 2
   },
   "file_extension": ".py",
   "mimetype": "text/x-python",
   "name": "python",
   "nbconvert_exporter": "python",
   "pygments_lexer": "ipython2",
   "version": "2.7.13"
  }
 },
 "nbformat": 4,
 "nbformat_minor": 2
}
