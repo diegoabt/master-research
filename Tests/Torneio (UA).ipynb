{
 "cells": [
  {
   "cell_type": "markdown",
   "metadata": {},
   "source": [
    "# TEST 3: Tournament\n",
    "## Uniform Attachment\n",
    "\n",
    "In this notebook we test our estimators through a tournament. The idea is to get better insights in the particular task of finding the source. The tournament consists in generating a graph under some probabilistic model and then using each estimator to find the source. Each time some estimator finds the source, we count this as a victory. At the end, we plot the number of victories in order to see which one is the winner. \n",
    "\n",
    "Since the leaves removal, degree and pagerank estimators need less time to find the source, we decided to test first these three functions in graphs which size goes from 100 to 1000. \n",
    "\n",
    "After this, we compare the six estimators in smaller graphs all together. \n",
    "\n",
    "We split the tournament according to the size of the graph. \n",
    "\n",
    "We store the results in different dictonaries and then we use this data as a measure of quality."
   ]
  },
  {
   "cell_type": "code",
   "execution_count": 2,
   "metadata": {
    "collapsed": true
   },
   "outputs": [],
   "source": [
    "import time\n",
    "import networkx as nx\n",
    "import powerlaw\n",
    "import plotly.plotly as py"
   ]
  },
  {
   "cell_type": "code",
   "execution_count": 3,
   "metadata": {
    "collapsed": true
   },
   "outputs": [],
   "source": [
    "#%run 'Removing-leaves estimator .ipynb'\n",
    "%run 'Estimators in their lasts versions.ipynb'\n",
    "%run '/home/diego/Dropbox/Tesis/Modelos/UA model.ipynb'\n",
    "%run '/home/diego/Dropbox/Tesis/Modelos/Shah Tree.ipynb'"
   ]
  },
  {
   "cell_type": "code",
   "execution_count": 24,
   "metadata": {},
   "outputs": [
    {
     "name": "stdout",
     "output_type": "stream",
     "text": [
      "2.2.2\n"
     ]
    },
    {
     "data": {
      "text/html": [
       "<script>requirejs.config({paths: { 'plotly': ['https://cdn.plot.ly/plotly-latest.min']},});if(!window.Plotly) {{require(['plotly'],function(plotly) {window.Plotly=plotly;});}}</script>"
      ],
      "text/vnd.plotly.v1+html": [
       "<script>requirejs.config({paths: { 'plotly': ['https://cdn.plot.ly/plotly-latest.min']},});if(!window.Plotly) {{require(['plotly'],function(plotly) {window.Plotly=plotly;});}}</script>"
      ]
     },
     "metadata": {},
     "output_type": "display_data"
    }
   ],
   "source": [
    "import time\n",
    "import networkx as nx\n",
    "import powerlaw\n",
    "import plotly.plotly as py\n",
    "import plotly.graph_objs as go\n",
    "import numpy as np\n",
    "from plotly import tools\n",
    "from plotly import __version__\n",
    "from plotly.offline import download_plotlyjs, init_notebook_mode, plot,iplot\n",
    "import plotly.figure_factory as ff\n",
    "print (__version__) # requires version >= 1.9.0\n",
    "\n",
    "#Always run this the command before at the start of notebook\n",
    "init_notebook_mode(connected=True)\n",
    "import plotly.graph_objs as go"
   ]
  },
  {
   "cell_type": "code",
   "execution_count": 5,
   "metadata": {
    "collapsed": true
   },
   "outputs": [],
   "source": [
    "#Colors\n",
    "pagerank='deepskyblue'\n",
    "degree='aqua'\n",
    "simpl='lightgreen'\n",
    "distance='greenyellow'\n",
    "leaves='skyblue'\n",
    "shah='limegreen' "
   ]
  },
  {
   "cell_type": "markdown",
   "metadata": {},
   "source": [
    "Here we are going to make a competition between different estimators and use the results as a measure of quality."
   ]
  },
  {
   "cell_type": "markdown",
   "metadata": {},
   "source": [
    "In the notebooks Torneio (BA), (UA) and (P3R):\n",
    "- PA model\n",
    "  - fastest 3 (100,200,300,400,500, 1000) \n",
    "  - all against all (25,50,75)\n",
    "- UA model\n",
    "  - fastest 3 \n",
    "  - all against all \n",
    "- P3R trees\n",
    "  - fastest 3\n",
    "  - all against all\n",
    "*  Exporting all\n",
    "\n",
    "**Things exported:** victories dict"
   ]
  },
  {
   "cell_type": "markdown",
   "metadata": {},
   "source": [
    "## UA model"
   ]
  },
  {
   "cell_type": "markdown",
   "metadata": {},
   "source": [
    "### leaves removal, degree, pagerank"
   ]
  },
  {
   "cell_type": "code",
   "execution_count": 4,
   "metadata": {
    "collapsed": true
   },
   "outputs": [],
   "source": [
    "#graph_size=[100,200,300,400,500,600,700,800,900,1000,1500,2000,2500,3000,4000,5000,10000]\n",
    "victories_100_ua={}\n",
    "victories_100_ua['leaves rem']=0\n",
    "victories_100_ua['pagerank']=0\n",
    "victories_100_ua['degree']=0\n",
    "\n",
    "for N in [100]:\n",
    "    results_rl=[]\n",
    "    start_time=time.time()\n",
    "    for i in range(0,500):\n",
    "        ua=unif_tree(N)\n",
    "        #LEAVES REMOVAL TIME\n",
    "        rl=rem2(ua)\n",
    "        if rl==0:\n",
    "            victories_100_ua['leaves rem']+=1 \n",
    "        #PAGERANK TIME\n",
    "        pr_list=nx.pagerank(ua)\n",
    "        pr=max(pr_list.iteritems(), key=operator.itemgetter(1))[0]\n",
    "        if pr==0:\n",
    "            victories_100_ua['pagerank']+=1\n",
    "        #DEGREE TIME\n",
    "        dc_list=nx.degree_centrality(ua)\n",
    "        list_maximum=[]\n",
    "        center=max(dc_list.iteritems(), key=operator.itemgetter(1))[1]\n",
    "        for i in range(N):\n",
    "                if dc_list[i]==center:\n",
    "                    list_maximum.append([i,dc_list[i]])\n",
    "        pair=random.choice(list_maximum)\n",
    "        if pair[0]==0:\n",
    "            victories_100_ua['degree']+=1"
   ]
  },
  {
   "cell_type": "code",
   "execution_count": 7,
   "metadata": {},
   "outputs": [
    {
     "data": {
      "application/vnd.plotly.v1+json": {
       "data": [
        {
         "hoverinfo": "label+percent",
         "labels": [
          "leaves rem",
          "pagerank",
          "degree"
         ],
         "marker": {
          "colors": [
           "deepskyblue",
           "skyblue",
           "aqua"
          ],
          "line": {
           "color": "#000000",
           "width": 2
          }
         },
         "textfont": {
          "size": 20
         },
         "textinfo": "value",
         "type": "pie",
         "values": [
          78,
          77,
          91
         ]
        }
       ],
       "layout": {}
      },
      "text/html": [
       "<div id=\"6a3028f1-2b87-461b-bb87-1e9e30e734b1\" style=\"height: 525px; width: 100%;\" class=\"plotly-graph-div\"></div><script type=\"text/javascript\">require([\"plotly\"], function(Plotly) { window.PLOTLYENV=window.PLOTLYENV || {};window.PLOTLYENV.BASE_URL=\"https://plot.ly\";Plotly.newPlot(\"6a3028f1-2b87-461b-bb87-1e9e30e734b1\", [{\"textfont\": {\"size\": 20}, \"labels\": [\"leaves rem\", \"pagerank\", \"degree\"], \"values\": [78, 77, 91], \"hoverinfo\": \"label+percent\", \"marker\": {\"line\": {\"color\": \"#000000\", \"width\": 2}, \"colors\": [\"deepskyblue\", \"skyblue\", \"aqua\"]}, \"textinfo\": \"value\", \"type\": \"pie\"}], {}, {\"linkText\": \"Export to plot.ly\", \"showLink\": true})});</script>"
      ],
      "text/vnd.plotly.v1+html": [
       "<div id=\"6a3028f1-2b87-461b-bb87-1e9e30e734b1\" style=\"height: 525px; width: 100%;\" class=\"plotly-graph-div\"></div><script type=\"text/javascript\">require([\"plotly\"], function(Plotly) { window.PLOTLYENV=window.PLOTLYENV || {};window.PLOTLYENV.BASE_URL=\"https://plot.ly\";Plotly.newPlot(\"6a3028f1-2b87-461b-bb87-1e9e30e734b1\", [{\"textfont\": {\"size\": 20}, \"labels\": [\"leaves rem\", \"pagerank\", \"degree\"], \"values\": [78, 77, 91], \"hoverinfo\": \"label+percent\", \"marker\": {\"line\": {\"color\": \"#000000\", \"width\": 2}, \"colors\": [\"deepskyblue\", \"skyblue\", \"aqua\"]}, \"textinfo\": \"value\", \"type\": \"pie\"}], {}, {\"linkText\": \"Export to plot.ly\", \"showLink\": true})});</script>"
      ]
     },
     "metadata": {},
     "output_type": "display_data"
    }
   ],
   "source": [
    "labels=[]\n",
    "values=[]\n",
    "colors = [pagerank,leaves,degree]\n",
    "for key, value in victories_100_ua.iteritems() :\n",
    "    labels.append(key)\n",
    "    values.append(value)\n",
    "\n",
    "\n",
    "colors2=[pagerank,leaves,degree]\n",
    "trace = go.Pie(labels=labels, values=values,\n",
    "               hoverinfo='label+percent', textinfo='value', \n",
    "               textfont=dict(size=20),\n",
    "               marker=dict(colors=colors2, \n",
    "                           line=dict(color='#000000', width=2)))\n",
    "\n",
    "iplot([trace], filename='styled_pie_chart')"
   ]
  },
  {
   "cell_type": "code",
   "execution_count": 8,
   "metadata": {},
   "outputs": [
    {
     "data": {
      "application/vnd.plotly.v1+json": {
       "data": [
        {
         "hoverinfo": "label+percent",
         "labels": [
          "leaves rem",
          "pagerank",
          "degree"
         ],
         "marker": {
          "colors": [
           "deepskyblue",
           "skyblue",
           "aqua"
          ],
          "line": {
           "color": "#000000",
           "width": 2
          }
         },
         "textfont": {
          "size": 20
         },
         "textinfo": "value",
         "type": "pie",
         "values": [
          87,
          65,
          113
         ]
        }
       ],
       "layout": {}
      },
      "text/html": [
       "<div id=\"df7a5fc6-5d1b-40a3-be3a-237fe4a7894f\" style=\"height: 525px; width: 100%;\" class=\"plotly-graph-div\"></div><script type=\"text/javascript\">require([\"plotly\"], function(Plotly) { window.PLOTLYENV=window.PLOTLYENV || {};window.PLOTLYENV.BASE_URL=\"https://plot.ly\";Plotly.newPlot(\"df7a5fc6-5d1b-40a3-be3a-237fe4a7894f\", [{\"textfont\": {\"size\": 20}, \"labels\": [\"leaves rem\", \"pagerank\", \"degree\"], \"values\": [87, 65, 113], \"hoverinfo\": \"label+percent\", \"marker\": {\"line\": {\"color\": \"#000000\", \"width\": 2}, \"colors\": [\"deepskyblue\", \"skyblue\", \"aqua\"]}, \"textinfo\": \"value\", \"type\": \"pie\"}], {}, {\"linkText\": \"Export to plot.ly\", \"showLink\": true})});</script>"
      ],
      "text/vnd.plotly.v1+html": [
       "<div id=\"df7a5fc6-5d1b-40a3-be3a-237fe4a7894f\" style=\"height: 525px; width: 100%;\" class=\"plotly-graph-div\"></div><script type=\"text/javascript\">require([\"plotly\"], function(Plotly) { window.PLOTLYENV=window.PLOTLYENV || {};window.PLOTLYENV.BASE_URL=\"https://plot.ly\";Plotly.newPlot(\"df7a5fc6-5d1b-40a3-be3a-237fe4a7894f\", [{\"textfont\": {\"size\": 20}, \"labels\": [\"leaves rem\", \"pagerank\", \"degree\"], \"values\": [87, 65, 113], \"hoverinfo\": \"label+percent\", \"marker\": {\"line\": {\"color\": \"#000000\", \"width\": 2}, \"colors\": [\"deepskyblue\", \"skyblue\", \"aqua\"]}, \"textinfo\": \"value\", \"type\": \"pie\"}], {}, {\"linkText\": \"Export to plot.ly\", \"showLink\": true})});</script>"
      ]
     },
     "metadata": {},
     "output_type": "display_data"
    }
   ],
   "source": [
    "graph_size=[100,200,300,400,500,600,700,800,900,1000,1500,2000,2500,3000,4000,5000,10000]\n",
    "victories_200_ua={}\n",
    "victories_200_ua['leaves rem']=0\n",
    "victories_200_ua['pagerank']=0\n",
    "victories_200_ua['degree']=0\n",
    "\n",
    "for N in [200]:\n",
    "    results_rl=[]\n",
    "    start_time=time.time()\n",
    "    for i in range(0,500):\n",
    "        ua=unif_tree(N)\n",
    "        #LEAVES REMOVAL TIME\n",
    "        rl=rem2(ua)\n",
    "        if rl==0:\n",
    "            victories_200_ua['leaves rem']+=1 \n",
    "        #PAGERANK TIME\n",
    "        pr_list=nx.pagerank(ua)\n",
    "        pr=max(pr_list.iteritems(), key=operator.itemgetter(1))[0]\n",
    "        if pr==0:\n",
    "            victories_200_ua['pagerank']+=1\n",
    "        #DEGREE TIME\n",
    "        dc_list=nx.degree_centrality(ua)\n",
    "        list_maximum=[]\n",
    "        center=max(dc_list.iteritems(), key=operator.itemgetter(1))[1]\n",
    "        for i in range(N):\n",
    "                if dc_list[i]==center:\n",
    "                    list_maximum.append([i,dc_list[i]])\n",
    "        pair=random.choice(list_maximum)\n",
    "        if pair[0]==0:\n",
    "            victories_200_ua['degree']+=1\n",
    "labels=[]\n",
    "values=[]\n",
    "\n",
    "for key, value in victories_200_ua.iteritems() :\n",
    "    labels.append(key)\n",
    "    values.append(value)\n",
    "\n",
    "\n",
    "\n",
    "trace = go.Pie(labels=labels, values=values,\n",
    "               hoverinfo='label+percent', textinfo='value', \n",
    "               textfont=dict(size=20),\n",
    "               marker=dict(colors=colors2, \n",
    "                           line=dict(color='#000000', width=2)))\n",
    "\n",
    "iplot([trace], filename='styled_pie_chart')"
   ]
  },
  {
   "cell_type": "code",
   "execution_count": 10,
   "metadata": {},
   "outputs": [
    {
     "data": {
      "application/vnd.plotly.v1+json": {
       "data": [
        {
         "hoverinfo": "label+percent",
         "labels": [
          "leaves rem",
          "pagerank",
          "degree"
         ],
         "marker": {
          "colors": [
           "deepskyblue",
           "skyblue",
           "aqua"
          ],
          "line": {
           "color": "#000000",
           "width": 2
          }
         },
         "textfont": {
          "size": 20
         },
         "textinfo": "value",
         "type": "pie",
         "values": [
          86,
          62,
          112
         ]
        }
       ],
       "layout": {}
      },
      "text/html": [
       "<div id=\"eae21437-da56-4684-b9c9-c01d93cef85a\" style=\"height: 525px; width: 100%;\" class=\"plotly-graph-div\"></div><script type=\"text/javascript\">require([\"plotly\"], function(Plotly) { window.PLOTLYENV=window.PLOTLYENV || {};window.PLOTLYENV.BASE_URL=\"https://plot.ly\";Plotly.newPlot(\"eae21437-da56-4684-b9c9-c01d93cef85a\", [{\"textfont\": {\"size\": 20}, \"labels\": [\"leaves rem\", \"pagerank\", \"degree\"], \"values\": [86, 62, 112], \"hoverinfo\": \"label+percent\", \"marker\": {\"line\": {\"color\": \"#000000\", \"width\": 2}, \"colors\": [\"deepskyblue\", \"skyblue\", \"aqua\"]}, \"textinfo\": \"value\", \"type\": \"pie\"}], {}, {\"linkText\": \"Export to plot.ly\", \"showLink\": true})});</script>"
      ],
      "text/vnd.plotly.v1+html": [
       "<div id=\"eae21437-da56-4684-b9c9-c01d93cef85a\" style=\"height: 525px; width: 100%;\" class=\"plotly-graph-div\"></div><script type=\"text/javascript\">require([\"plotly\"], function(Plotly) { window.PLOTLYENV=window.PLOTLYENV || {};window.PLOTLYENV.BASE_URL=\"https://plot.ly\";Plotly.newPlot(\"eae21437-da56-4684-b9c9-c01d93cef85a\", [{\"textfont\": {\"size\": 20}, \"labels\": [\"leaves rem\", \"pagerank\", \"degree\"], \"values\": [86, 62, 112], \"hoverinfo\": \"label+percent\", \"marker\": {\"line\": {\"color\": \"#000000\", \"width\": 2}, \"colors\": [\"deepskyblue\", \"skyblue\", \"aqua\"]}, \"textinfo\": \"value\", \"type\": \"pie\"}], {}, {\"linkText\": \"Export to plot.ly\", \"showLink\": true})});</script>"
      ]
     },
     "metadata": {},
     "output_type": "display_data"
    }
   ],
   "source": [
    "graph_size=[100,200,300,400,500,600,700,800,900,1000,1500,2000,2500,3000,4000,5000,10000]\n",
    "victories_300_ua={}\n",
    "victories_300_ua['leaves rem']=0\n",
    "victories_300_ua['pagerank']=0\n",
    "victories_300_ua['degree']=0\n",
    "\n",
    "for N in [300]:\n",
    "    results_rl=[]\n",
    "    start_time=time.time()\n",
    "    for i in range(0,500):\n",
    "        ua=unif_tree(N)\n",
    "        #LEAVES REMOVAL TIME\n",
    "        rl=rem2(ua)\n",
    "        if rl==0:\n",
    "            victories_300_ua['leaves rem']+=1 \n",
    "        #PAGERANK TIME\n",
    "        pr_list=nx.pagerank(ua)\n",
    "        pr=max(pr_list.iteritems(), key=operator.itemgetter(1))[0]\n",
    "        if pr==0:\n",
    "            victories_300_ua['pagerank']+=1\n",
    "        #DEGREE TIME\n",
    "        dc_list=nx.degree_centrality(ua)\n",
    "        list_maximum=[]\n",
    "        center=max(dc_list.iteritems(), key=operator.itemgetter(1))[1]\n",
    "        for i in range(N):\n",
    "                if dc_list[i]==center:\n",
    "                    list_maximum.append([i,dc_list[i]])\n",
    "        pair=random.choice(list_maximum)\n",
    "        if pair[0]==0:\n",
    "            victories_300_ua['degree']+=1\n",
    "labels=[]\n",
    "values=[]\n",
    "colors = ['azure', 'skyblue', 'aqua']\n",
    "for key, value in victories_300_ua.iteritems() :\n",
    "    labels.append(key)\n",
    "    values.append(value)\n",
    "\n",
    "\n",
    "\n",
    "trace = go.Pie(labels=labels, values=values,\n",
    "               hoverinfo='label+percent', textinfo='value', \n",
    "               textfont=dict(size=20),\n",
    "               marker=dict(colors=colors2, \n",
    "                           line=dict(color='#000000', width=2)))\n",
    "\n",
    "iplot([trace], filename='styled_pie_chart')"
   ]
  },
  {
   "cell_type": "code",
   "execution_count": 11,
   "metadata": {},
   "outputs": [
    {
     "data": {
      "application/vnd.plotly.v1+json": {
       "data": [
        {
         "hoverinfo": "label+percent",
         "labels": [
          "leaves rem",
          "pagerank",
          "degree"
         ],
         "marker": {
          "colors": [
           "deepskyblue",
           "skyblue",
           "aqua"
          ],
          "line": {
           "color": "#000000",
           "width": 2
          }
         },
         "textfont": {
          "size": 20
         },
         "textinfo": "value",
         "type": "pie",
         "values": [
          90,
          59,
          103
         ]
        }
       ],
       "layout": {}
      },
      "text/html": [
       "<div id=\"ec32f8ba-4c2a-4825-ab6a-419e0fc0763d\" style=\"height: 525px; width: 100%;\" class=\"plotly-graph-div\"></div><script type=\"text/javascript\">require([\"plotly\"], function(Plotly) { window.PLOTLYENV=window.PLOTLYENV || {};window.PLOTLYENV.BASE_URL=\"https://plot.ly\";Plotly.newPlot(\"ec32f8ba-4c2a-4825-ab6a-419e0fc0763d\", [{\"textfont\": {\"size\": 20}, \"labels\": [\"leaves rem\", \"pagerank\", \"degree\"], \"values\": [90, 59, 103], \"hoverinfo\": \"label+percent\", \"marker\": {\"line\": {\"color\": \"#000000\", \"width\": 2}, \"colors\": [\"deepskyblue\", \"skyblue\", \"aqua\"]}, \"textinfo\": \"value\", \"type\": \"pie\"}], {}, {\"linkText\": \"Export to plot.ly\", \"showLink\": true})});</script>"
      ],
      "text/vnd.plotly.v1+html": [
       "<div id=\"ec32f8ba-4c2a-4825-ab6a-419e0fc0763d\" style=\"height: 525px; width: 100%;\" class=\"plotly-graph-div\"></div><script type=\"text/javascript\">require([\"plotly\"], function(Plotly) { window.PLOTLYENV=window.PLOTLYENV || {};window.PLOTLYENV.BASE_URL=\"https://plot.ly\";Plotly.newPlot(\"ec32f8ba-4c2a-4825-ab6a-419e0fc0763d\", [{\"textfont\": {\"size\": 20}, \"labels\": [\"leaves rem\", \"pagerank\", \"degree\"], \"values\": [90, 59, 103], \"hoverinfo\": \"label+percent\", \"marker\": {\"line\": {\"color\": \"#000000\", \"width\": 2}, \"colors\": [\"deepskyblue\", \"skyblue\", \"aqua\"]}, \"textinfo\": \"value\", \"type\": \"pie\"}], {}, {\"linkText\": \"Export to plot.ly\", \"showLink\": true})});</script>"
      ]
     },
     "metadata": {},
     "output_type": "display_data"
    }
   ],
   "source": [
    "graph_size=[100,200,300,400,500,600,700,800,900,1000,1500,2000,2500,3000,4000,5000,10000]\n",
    "victories_400_ua={}\n",
    "victories_400_ua['leaves rem']=0\n",
    "victories_400_ua['pagerank']=0\n",
    "victories_400_ua['degree']=0\n",
    "\n",
    "for N in [400]:\n",
    "    results_rl=[]\n",
    "    start_time=time.time()\n",
    "    for i in range(0,500):\n",
    "        ua=unif_tree(N)\n",
    "        #LEAVES REMOVAL TIME\n",
    "        rl=rem2(ua)\n",
    "        if rl==0:\n",
    "            victories_400_ua['leaves rem']+=1 \n",
    "        #PAGERANK TIME\n",
    "        pr_list=nx.pagerank(ua)\n",
    "        pr=max(pr_list.iteritems(), key=operator.itemgetter(1))[0]\n",
    "        if pr==0:\n",
    "            victories_400_ua['pagerank']+=1\n",
    "        #DEGREE TIME\n",
    "        dc_list=nx.degree_centrality(ua)\n",
    "        list_maximum=[]\n",
    "        center=max(dc_list.iteritems(), key=operator.itemgetter(1))[1]\n",
    "        for i in range(N):\n",
    "                if dc_list[i]==center:\n",
    "                    list_maximum.append([i,dc_list[i]])\n",
    "        pair=random.choice(list_maximum)\n",
    "        if pair[0]==0:\n",
    "            victories_400_ua['degree']+=1\n",
    "labels=[]\n",
    "values=[]\n",
    "colors = ['azure', 'skyblue', 'aqua']\n",
    "for key, value in victories_400_ua.iteritems() :\n",
    "    labels.append(key)\n",
    "    values.append(value)\n",
    "\n",
    "\n",
    "\n",
    "trace = go.Pie(labels=labels, values=values,\n",
    "               hoverinfo='label+percent', textinfo='value', \n",
    "               textfont=dict(size=20),\n",
    "               marker=dict(colors=colors2, \n",
    "                           line=dict(color='#000000', width=2)))\n",
    "\n",
    "iplot([trace], filename='styled_pie_chart')"
   ]
  },
  {
   "cell_type": "code",
   "execution_count": 12,
   "metadata": {},
   "outputs": [
    {
     "data": {
      "application/vnd.plotly.v1+json": {
       "data": [
        {
         "hoverinfo": "label+percent",
         "labels": [
          "leaves rem",
          "pagerank",
          "degree"
         ],
         "marker": {
          "colors": [
           "deepskyblue",
           "skyblue",
           "aqua"
          ],
          "line": {
           "color": "#000000",
           "width": 2
          }
         },
         "textfont": {
          "size": 20
         },
         "textinfo": "value",
         "type": "pie",
         "values": [
          83,
          53,
          92
         ]
        }
       ],
       "layout": {}
      },
      "text/html": [
       "<div id=\"ab97065c-c470-4c9f-a73b-d516fce5eca8\" style=\"height: 525px; width: 100%;\" class=\"plotly-graph-div\"></div><script type=\"text/javascript\">require([\"plotly\"], function(Plotly) { window.PLOTLYENV=window.PLOTLYENV || {};window.PLOTLYENV.BASE_URL=\"https://plot.ly\";Plotly.newPlot(\"ab97065c-c470-4c9f-a73b-d516fce5eca8\", [{\"textfont\": {\"size\": 20}, \"labels\": [\"leaves rem\", \"pagerank\", \"degree\"], \"values\": [83, 53, 92], \"hoverinfo\": \"label+percent\", \"marker\": {\"line\": {\"color\": \"#000000\", \"width\": 2}, \"colors\": [\"deepskyblue\", \"skyblue\", \"aqua\"]}, \"textinfo\": \"value\", \"type\": \"pie\"}], {}, {\"linkText\": \"Export to plot.ly\", \"showLink\": true})});</script>"
      ],
      "text/vnd.plotly.v1+html": [
       "<div id=\"ab97065c-c470-4c9f-a73b-d516fce5eca8\" style=\"height: 525px; width: 100%;\" class=\"plotly-graph-div\"></div><script type=\"text/javascript\">require([\"plotly\"], function(Plotly) { window.PLOTLYENV=window.PLOTLYENV || {};window.PLOTLYENV.BASE_URL=\"https://plot.ly\";Plotly.newPlot(\"ab97065c-c470-4c9f-a73b-d516fce5eca8\", [{\"textfont\": {\"size\": 20}, \"labels\": [\"leaves rem\", \"pagerank\", \"degree\"], \"values\": [83, 53, 92], \"hoverinfo\": \"label+percent\", \"marker\": {\"line\": {\"color\": \"#000000\", \"width\": 2}, \"colors\": [\"deepskyblue\", \"skyblue\", \"aqua\"]}, \"textinfo\": \"value\", \"type\": \"pie\"}], {}, {\"linkText\": \"Export to plot.ly\", \"showLink\": true})});</script>"
      ]
     },
     "metadata": {},
     "output_type": "display_data"
    }
   ],
   "source": [
    "graph_size=[100,200,300,400,500,600,700,800,900,1000,1500,2000,2500,3000,4000,5000,10000]\n",
    "victories_500_ua={}\n",
    "victories_500_ua['leaves rem']=0\n",
    "victories_500_ua['pagerank']=0\n",
    "victories_500_ua['degree']=0\n",
    "\n",
    "for N in [500]:\n",
    "    results_rl=[]\n",
    "    start_time=time.time()\n",
    "    for i in range(0,500):\n",
    "        ua=unif_tree(N)\n",
    "        #LEAVES REMOVAL TIME\n",
    "        rl=rem2(ua)\n",
    "        if rl==0:\n",
    "            victories_500_ua['leaves rem']+=1 \n",
    "        #PAGERANK TIME\n",
    "        pr_list=nx.pagerank(ua)\n",
    "        pr=max(pr_list.iteritems(), key=operator.itemgetter(1))[0]\n",
    "        if pr==0:\n",
    "            victories_500_ua['pagerank']+=1\n",
    "        #DEGREE TIME\n",
    "        dc_list=nx.degree_centrality(ua)\n",
    "        list_maximum=[]\n",
    "        center=max(dc_list.iteritems(), key=operator.itemgetter(1))[1]\n",
    "        for i in range(N):\n",
    "                if dc_list[i]==center:\n",
    "                    list_maximum.append([i,dc_list[i]])\n",
    "        pair=random.choice(list_maximum)\n",
    "        if pair[0]==0:\n",
    "            victories_500_ua['degree']+=1\n",
    "labels=[]\n",
    "values=[]\n",
    "colors = ['azure', 'skyblue', 'aqua']\n",
    "for key, value in victories_500_ua.iteritems() :\n",
    "    labels.append(key)\n",
    "    values.append(value)\n",
    "\n",
    "\n",
    "\n",
    "trace = go.Pie(labels=labels, values=values,\n",
    "               hoverinfo='label+percent', textinfo='value', \n",
    "               textfont=dict(size=20),\n",
    "               marker=dict(colors=colors2, \n",
    "                           line=dict(color='#000000', width=2)))\n",
    "\n",
    "iplot([trace], filename='styled_pie_chart')"
   ]
  },
  {
   "cell_type": "code",
   "execution_count": 13,
   "metadata": {},
   "outputs": [
    {
     "data": {
      "application/vnd.plotly.v1+json": {
       "data": [
        {
         "hoverinfo": "label+percent",
         "labels": [
          "leaves rem",
          "pagerank",
          "degree"
         ],
         "marker": {
          "colors": [
           "deepskyblue",
           "skyblue",
           "aqua"
          ],
          "line": {
           "color": "#000000",
           "width": 2
          }
         },
         "textfont": {
          "size": 20
         },
         "textinfo": "value",
         "type": "pie",
         "values": [
          64,
          37,
          86
         ]
        }
       ],
       "layout": {}
      },
      "text/html": [
       "<div id=\"784f5272-2a71-49b8-8e6e-75e31624f1fd\" style=\"height: 525px; width: 100%;\" class=\"plotly-graph-div\"></div><script type=\"text/javascript\">require([\"plotly\"], function(Plotly) { window.PLOTLYENV=window.PLOTLYENV || {};window.PLOTLYENV.BASE_URL=\"https://plot.ly\";Plotly.newPlot(\"784f5272-2a71-49b8-8e6e-75e31624f1fd\", [{\"textfont\": {\"size\": 20}, \"labels\": [\"leaves rem\", \"pagerank\", \"degree\"], \"values\": [64, 37, 86], \"hoverinfo\": \"label+percent\", \"marker\": {\"line\": {\"color\": \"#000000\", \"width\": 2}, \"colors\": [\"deepskyblue\", \"skyblue\", \"aqua\"]}, \"textinfo\": \"value\", \"type\": \"pie\"}], {}, {\"linkText\": \"Export to plot.ly\", \"showLink\": true})});</script>"
      ],
      "text/vnd.plotly.v1+html": [
       "<div id=\"784f5272-2a71-49b8-8e6e-75e31624f1fd\" style=\"height: 525px; width: 100%;\" class=\"plotly-graph-div\"></div><script type=\"text/javascript\">require([\"plotly\"], function(Plotly) { window.PLOTLYENV=window.PLOTLYENV || {};window.PLOTLYENV.BASE_URL=\"https://plot.ly\";Plotly.newPlot(\"784f5272-2a71-49b8-8e6e-75e31624f1fd\", [{\"textfont\": {\"size\": 20}, \"labels\": [\"leaves rem\", \"pagerank\", \"degree\"], \"values\": [64, 37, 86], \"hoverinfo\": \"label+percent\", \"marker\": {\"line\": {\"color\": \"#000000\", \"width\": 2}, \"colors\": [\"deepskyblue\", \"skyblue\", \"aqua\"]}, \"textinfo\": \"value\", \"type\": \"pie\"}], {}, {\"linkText\": \"Export to plot.ly\", \"showLink\": true})});</script>"
      ]
     },
     "metadata": {},
     "output_type": "display_data"
    }
   ],
   "source": [
    "graph_size=[100,200,300,400,500,600,700,800,900,1000,1500,2000,2500,3000,4000,5000,10000]\n",
    "victories_1000_ua={}\n",
    "victories_1000_ua['leaves rem']=0\n",
    "victories_1000_ua['pagerank']=0\n",
    "victories_1000_ua['degree']=0\n",
    "\n",
    "for N in [1000]:\n",
    "    results_rl=[]\n",
    "    start_time=time.time()\n",
    "    for i in range(0,500):\n",
    "        ua=unif_tree(N)\n",
    "        #LEAVES REMOVAL TIME\n",
    "        rl=rem2(ua)\n",
    "        if rl==0:\n",
    "            victories_1000_ua['leaves rem']+=1 \n",
    "        #PAGERANK TIME\n",
    "        pr_list=nx.pagerank(ua)\n",
    "        pr=max(pr_list.iteritems(), key=operator.itemgetter(1))[0]\n",
    "        if pr==0:\n",
    "            victories_1000_ua['pagerank']+=1\n",
    "        #DEGREE TIME\n",
    "        dc_list=nx.degree_centrality(ua)\n",
    "        list_maximum=[]\n",
    "        center=max(dc_list.iteritems(), key=operator.itemgetter(1))[1]\n",
    "        for i in range(N):\n",
    "                if dc_list[i]==center:\n",
    "                    list_maximum.append([i,dc_list[i]])\n",
    "        pair=random.choice(list_maximum)\n",
    "        if pair[0]==0:\n",
    "            victories_1000_ua['degree']+=1\n",
    "labels=[]\n",
    "values=[]\n",
    "colors = ['azure', 'skyblue', 'aqua']\n",
    "for key, value in victories_1000_ua.iteritems() :\n",
    "    labels.append(key)\n",
    "    values.append(value)\n",
    "\n",
    "\n",
    "\n",
    "trace = go.Pie(labels=labels, values=values,\n",
    "               hoverinfo='label+percent', textinfo='value', \n",
    "               textfont=dict(size=20),\n",
    "               marker=dict(colors=colors2, \n",
    "                           line=dict(color='#000000', width=2)))\n",
    "\n",
    "iplot([trace], filename='styled_pie_chart')"
   ]
  },
  {
   "cell_type": "code",
   "execution_count": 14,
   "metadata": {
    "collapsed": true
   },
   "outputs": [],
   "source": [
    "sa_results = open('final_fastest3_UA.txt', 'w')\n",
    "print>>sa_results, '100'\n",
    "print>>sa_results, 'pagerank',victories_100_ua['pagerank']\n",
    "print>>sa_results, 'leaves',victories_100_ua['leaves rem']\n",
    "print>>sa_results, 'degree',victories_100_ua['degree']\n",
    "print>>sa_results, '200'\n",
    "print>>sa_results, 'pagerank',victories_200_ua['pagerank']\n",
    "print>>sa_results, 'leaves',victories_200_ua['leaves rem']\n",
    "print>>sa_results, 'degree',victories_200_ua['degree']\n",
    "print>>sa_results, '300'\n",
    "print>>sa_results, 'pagerank',victories_300_ua['pagerank']\n",
    "print>>sa_results, 'leaves',victories_300_ua['leaves rem']\n",
    "print>>sa_results, 'degree',victories_300_ua['degree']\n",
    "print>>sa_results, '400'\n",
    "print>>sa_results, 'pagerank',victories_400_ua['pagerank']\n",
    "print>>sa_results, 'leaves',victories_400_ua['leaves rem']\n",
    "print>>sa_results, 'degree',victories_400_ua['degree']\n",
    "print>>sa_results, '500'\n",
    "print>>sa_results, 'pagerank',victories_500_ua['pagerank']\n",
    "print>>sa_results, 'leaves',victories_500_ua['leaves rem']\n",
    "print>>sa_results, 'degree',victories_500_ua['degree']\n",
    "print>>sa_results, '1000'\n",
    "print>>sa_results, 'pagerank',victories_1000_ua['pagerank']\n",
    "print>>sa_results, 'leaves',victories_1000_ua['leaves rem']\n",
    "print>>sa_results, 'degree',victories_1000_ua['degree']\n",
    "sa_results.close()"
   ]
  },
  {
   "cell_type": "markdown",
   "metadata": {
    "collapsed": true
   },
   "source": [
    "### all vs all\n"
   ]
  },
  {
   "cell_type": "code",
   "execution_count": 9,
   "metadata": {
    "collapsed": true
   },
   "outputs": [],
   "source": [
    "graph_size=[100,200,300,400,500,600,700,800,900,1000,1500,2000,2500,3000,4000,5000,10000]\n",
    "victories={}"
   ]
  },
  {
   "cell_type": "code",
   "execution_count": null,
   "metadata": {
    "collapsed": true
   },
   "outputs": [],
   "source": [
    "victories['shah-zaman']=0\n",
    "for N in [50]:\n",
    "    results_rl=[]\n",
    "    start_time=time.time()\n",
    "    for i in range(0,20):\n",
    "        ba=nx.barabasi_albert_graph(N,1)\n",
    "        #SHAH-ZAMAN TIME\n",
    "        v,rc=sz(ba)\n",
    "        if v==0:\n",
    "            victories['shah-zaman']+=1 \n",
    "        "
   ]
  },
  {
   "cell_type": "code",
   "execution_count": null,
   "metadata": {
    "collapsed": true
   },
   "outputs": [],
   "source": [
    "victories['simple']=0\n",
    "for N in [50]:\n",
    "    results_rl=[]\n",
    "    start_time=time.time()\n",
    "    for i in range(0,20):\n",
    "        ba=nx.barabasi_albert_graph(N,1)\n",
    "        #SIMPLE TIME\n",
    "        simple_rfa=simple(ba)\n",
    "        simple_center=simple_rfa[0][0]\n",
    "        if simple_center==0:\n",
    "            victories['simple']+=1"
   ]
  },
  {
   "cell_type": "code",
   "execution_count": null,
   "metadata": {
    "collapsed": true
   },
   "outputs": [],
   "source": [
    "victories['distance']=0\n",
    "for N in [50]:\n",
    "    results_rl=[]\n",
    "    start_time=time.time()\n",
    "    for i in range(0,20):\n",
    "        ba=nx.barabasi_albert_graph(N,1)\n",
    "        #DISTANCE TIME\n",
    "        cc=nx.closeness_centrality(ba)\n",
    "        center=max(cc.iteritems(), key=operator.itemgetter(1))[0]\n",
    "        if center==0:\n",
    "            victories['distance']+=1"
   ]
  },
  {
   "cell_type": "code",
   "execution_count": null,
   "metadata": {
    "collapsed": true
   },
   "outputs": [],
   "source": [
    "labels=[]\n",
    "values=[]\n",
    "\n",
    "for key, value in victories.iteritems() :\n",
    "    labels.append(key)\n",
    "    values.append(value)\n",
    "trace = go.Pie(labels=labels, values=values)\n",
    "\n",
    "iplot([trace], filename='basic_pie_chart')"
   ]
  },
  {
   "cell_type": "markdown",
   "metadata": {},
   "source": [
    "## all against each other"
   ]
  },
  {
   "cell_type": "code",
   "execution_count": 6,
   "metadata": {},
   "outputs": [
    {
     "data": {
      "application/vnd.plotly.v1+json": {
       "data": [
        {
         "hoverinfo": "label+percent",
         "labels": [
          "distance",
          "degree",
          "simple",
          "pagerank",
          "leaves rem",
          "shah-zaman"
         ],
         "marker": {
          "colors": [
           "greenyellow",
           "aqua",
           "lightgreen",
           "deepskyblue",
           "skyblue",
           "limegreen"
          ],
          "line": {
           "color": "#000000",
           "width": 2
          }
         },
         "textfont": {
          "size": 20
         },
         "textinfo": "value",
         "type": "pie",
         "values": [
          19,
          12,
          19,
          8,
          15,
          19
         ]
        }
       ],
       "layout": {}
      },
      "text/html": [
       "<div id=\"8e4acc36-17ef-4ff3-8949-54c681663c3c\" style=\"height: 525px; width: 100%;\" class=\"plotly-graph-div\"></div><script type=\"text/javascript\">require([\"plotly\"], function(Plotly) { window.PLOTLYENV=window.PLOTLYENV || {};window.PLOTLYENV.BASE_URL=\"https://plot.ly\";Plotly.newPlot(\"8e4acc36-17ef-4ff3-8949-54c681663c3c\", [{\"textfont\": {\"size\": 20}, \"labels\": [\"distance\", \"degree\", \"simple\", \"pagerank\", \"leaves rem\", \"shah-zaman\"], \"values\": [19, 12, 19, 8, 15, 19], \"hoverinfo\": \"label+percent\", \"marker\": {\"line\": {\"color\": \"#000000\", \"width\": 2}, \"colors\": [\"greenyellow\", \"aqua\", \"lightgreen\", \"deepskyblue\", \"skyblue\", \"limegreen\"]}, \"textinfo\": \"value\", \"type\": \"pie\"}], {}, {\"linkText\": \"Export to plot.ly\", \"showLink\": true})});</script>"
      ],
      "text/vnd.plotly.v1+html": [
       "<div id=\"8e4acc36-17ef-4ff3-8949-54c681663c3c\" style=\"height: 525px; width: 100%;\" class=\"plotly-graph-div\"></div><script type=\"text/javascript\">require([\"plotly\"], function(Plotly) { window.PLOTLYENV=window.PLOTLYENV || {};window.PLOTLYENV.BASE_URL=\"https://plot.ly\";Plotly.newPlot(\"8e4acc36-17ef-4ff3-8949-54c681663c3c\", [{\"textfont\": {\"size\": 20}, \"labels\": [\"distance\", \"degree\", \"simple\", \"pagerank\", \"leaves rem\", \"shah-zaman\"], \"values\": [19, 12, 19, 8, 15, 19], \"hoverinfo\": \"label+percent\", \"marker\": {\"line\": {\"color\": \"#000000\", \"width\": 2}, \"colors\": [\"greenyellow\", \"aqua\", \"lightgreen\", \"deepskyblue\", \"skyblue\", \"limegreen\"]}, \"textinfo\": \"value\", \"type\": \"pie\"}], {}, {\"linkText\": \"Export to plot.ly\", \"showLink\": true})});</script>"
      ]
     },
     "metadata": {},
     "output_type": "display_data"
    }
   ],
   "source": [
    "## UA Trees of size= 25, SIM=50\n",
    "allvsall = open('final_all6_S50_N25_ua.txt', 'w')\n",
    "print>>allvsall,'RESULTS: UA(25) & SIM=50 ||||||||||||||||||||||||||||||||||'\n",
    "print>>allvsall,'the six are looking for the source in the same graph'\n",
    "victories_25_ua={}\n",
    "victories_25_ua['leaves rem']=0\n",
    "victories_25_ua['pagerank']=0\n",
    "victories_25_ua['degree']=0\n",
    "victories_25_ua['shah-zaman']=0\n",
    "victories_25_ua['simple']=0\n",
    "victories_25_ua['distance']=0\n",
    "\n",
    "for N in [25]: \n",
    "    for i in range(0,50):\n",
    "        print>>allvsall,'SIM:_______=',i\n",
    "        #GENERATING THE GRAPH\n",
    "        ua=unif_tree(N)\n",
    "        #LEAVES REMOVAL TIME\n",
    "        rl=rem2(ua)\n",
    "        print>>allvsall,'leaves',rl\n",
    "        if rl==0:\n",
    "            victories_25_ua['leaves rem']+=1 \n",
    "        #PAGERANK TIME\n",
    "        pr_list=nx.pagerank(ua)\n",
    "        pr=max(pr_list.iteritems(), key=operator.itemgetter(1))[0]\n",
    "        print>>allvsall,'pagerank',pr\n",
    "        if pr==0:\n",
    "            victories_25_ua['pagerank']+=1\n",
    "        #DEGREE TIME\n",
    "        dc_list=nx.degree_centrality(ua)\n",
    "        list_maximum=[]\n",
    "        center=max(dc_list.iteritems(), key=operator.itemgetter(1))[1]\n",
    "        for i in range(N):\n",
    "                if dc_list[i]==center:\n",
    "                    list_maximum.append([i,dc_list[i]])\n",
    "        pair=random.choice(list_maximum)\n",
    "        print>>allvsall,'degree',pair[0]\n",
    "        if pair[0]==0:\n",
    "            victories_25_ua['degree']+=1\n",
    "        #SHAH-ZAMAN TIME\n",
    "        L=sz(ua)\n",
    "        v=L[len(L)-1][0]\n",
    "        print>>allvsall,'shah',v\n",
    "        if v==0:\n",
    "            victories_25_ua['shah-zaman']+=1 \n",
    "        #SIMPLE TIME\n",
    "        simple_rfa=simple(ua)\n",
    "        simple_center=simple_rfa[0][0]\n",
    "        print>>allvsall,'simple',simple_center\n",
    "        if simple_center==0:\n",
    "            victories_25_ua['simple']+=1\n",
    "        #DISTANCE TIME\n",
    "        cc=nx.closeness_centrality(ua)\n",
    "        center=max(cc.iteritems(), key=operator.itemgetter(1))[0]\n",
    "        print>>allvsall,'distance',center\n",
    "        if center==0:\n",
    "            victories_25_ua['distance']+=1\n",
    "allvsall.close()\n",
    "labels=[]\n",
    "values=[]\n",
    "\n",
    "colors =[distance,degree,simpl ,pagerank,leaves,shah]#\n",
    "for key, value in victories_25_ua.iteritems() :\n",
    "    labels.append(key)\n",
    "    values.append(value)\n",
    "\n",
    "\n",
    "\n",
    "tracee = go.Pie(labels=labels, values=values,\n",
    "               hoverinfo='label+percent', textinfo='value', \n",
    "               textfont=dict(size=20),\n",
    "               marker=dict(colors=colors,line=dict(color='#000000', width=2)))\n",
    "\n",
    "iplot([tracee], filename='styled_pie_chart1')"
   ]
  },
  {
   "cell_type": "code",
   "execution_count": 7,
   "metadata": {},
   "outputs": [
    {
     "data": {
      "application/vnd.plotly.v1+json": {
       "data": [
        {
         "hoverinfo": "label+percent",
         "labels": [
          "distance",
          "degree",
          "simple",
          "pagerank",
          "leaves rem",
          "shah-zaman"
         ],
         "marker": {
          "colors": [
           "greenyellow",
           "aqua",
           "lightgreen",
           "deepskyblue",
           "skyblue",
           "limegreen"
          ],
          "line": {
           "color": "#000000",
           "width": 2
          }
         },
         "textfont": {
          "size": 20
         },
         "textinfo": "value",
         "type": "pie",
         "values": [
          18,
          16,
          18,
          14,
          5,
          16
         ]
        }
       ],
       "layout": {}
      },
      "text/html": [
       "<div id=\"b12e92fe-3ad7-4d40-a7f6-7b331c8d96c5\" style=\"height: 525px; width: 100%;\" class=\"plotly-graph-div\"></div><script type=\"text/javascript\">require([\"plotly\"], function(Plotly) { window.PLOTLYENV=window.PLOTLYENV || {};window.PLOTLYENV.BASE_URL=\"https://plot.ly\";Plotly.newPlot(\"b12e92fe-3ad7-4d40-a7f6-7b331c8d96c5\", [{\"textfont\": {\"size\": 20}, \"labels\": [\"distance\", \"degree\", \"simple\", \"pagerank\", \"leaves rem\", \"shah-zaman\"], \"values\": [18, 16, 18, 14, 5, 16], \"hoverinfo\": \"label+percent\", \"marker\": {\"line\": {\"color\": \"#000000\", \"width\": 2}, \"colors\": [\"greenyellow\", \"aqua\", \"lightgreen\", \"deepskyblue\", \"skyblue\", \"limegreen\"]}, \"textinfo\": \"value\", \"type\": \"pie\"}], {}, {\"linkText\": \"Export to plot.ly\", \"showLink\": true})});</script>"
      ],
      "text/vnd.plotly.v1+html": [
       "<div id=\"b12e92fe-3ad7-4d40-a7f6-7b331c8d96c5\" style=\"height: 525px; width: 100%;\" class=\"plotly-graph-div\"></div><script type=\"text/javascript\">require([\"plotly\"], function(Plotly) { window.PLOTLYENV=window.PLOTLYENV || {};window.PLOTLYENV.BASE_URL=\"https://plot.ly\";Plotly.newPlot(\"b12e92fe-3ad7-4d40-a7f6-7b331c8d96c5\", [{\"textfont\": {\"size\": 20}, \"labels\": [\"distance\", \"degree\", \"simple\", \"pagerank\", \"leaves rem\", \"shah-zaman\"], \"values\": [18, 16, 18, 14, 5, 16], \"hoverinfo\": \"label+percent\", \"marker\": {\"line\": {\"color\": \"#000000\", \"width\": 2}, \"colors\": [\"greenyellow\", \"aqua\", \"lightgreen\", \"deepskyblue\", \"skyblue\", \"limegreen\"]}, \"textinfo\": \"value\", \"type\": \"pie\"}], {}, {\"linkText\": \"Export to plot.ly\", \"showLink\": true})});</script>"
      ]
     },
     "metadata": {},
     "output_type": "display_data"
    }
   ],
   "source": [
    "## UA Trees of size= 50, SIM=50\n",
    "allvsall = open('final_all6_S50_N50_ua.txt', 'w')\n",
    "print>>allvsall,'RESULTS: UA(50) & SIM=50 ||||||||||||||||||||||||||||||||||'\n",
    "print>>allvsall,'the 6 are looking for the source in the same graph'\n",
    "victories_50_ua={}\n",
    "victories_50_ua['leaves rem']=0\n",
    "victories_50_ua['pagerank']=0\n",
    "victories_50_ua['degree']=0\n",
    "victories_50_ua['shah-zaman']=0\n",
    "victories_50_ua['simple']=0\n",
    "victories_50_ua['distance']=0\n",
    "\n",
    "for N in [50]: \n",
    "    for i in range(0,50):\n",
    "        print>>allvsall,'SIM:_______=',i\n",
    "        #GENERATING THE GRAPH\n",
    "        ua=unif_tree(N)\n",
    "        #LEAVES REMOVAL TIME\n",
    "        rl=rem2(ua)\n",
    "        print>>allvsall,'leaves',rl\n",
    "        if rl==0:\n",
    "            victories_50_ua['leaves rem']+=1 \n",
    "        #PAGERANK TIME\n",
    "        pr_list=nx.pagerank(ua)\n",
    "        pr=max(pr_list.iteritems(), key=operator.itemgetter(1))[0]\n",
    "        print>>allvsall,'pagerank',pr\n",
    "        if pr==0:\n",
    "            victories_50_ua['pagerank']+=1\n",
    "        #DEGREE TIME\n",
    "        dc_list=nx.degree_centrality(ua)\n",
    "        list_maximum=[]\n",
    "        center=max(dc_list.iteritems(), key=operator.itemgetter(1))[1]\n",
    "        for i in range(N):\n",
    "                if dc_list[i]==center:\n",
    "                    list_maximum.append([i,dc_list[i]])\n",
    "        pair=random.choice(list_maximum)\n",
    "        print>>allvsall,'degree',pair[0]\n",
    "        if pair[0]==0:\n",
    "            victories_50_ua['degree']+=1\n",
    "        #SHAH-ZAMAN TIME\n",
    "        L=sz(ua)\n",
    "        v=L[len(L)-1][0]\n",
    "        print>>allvsall,'shah',v\n",
    "        if v==0:\n",
    "            victories_50_ua['shah-zaman']+=1 \n",
    "        #SIMPLE TIME\n",
    "        simple_rfa=simple(ua)\n",
    "        simple_center=simple_rfa[0][0]\n",
    "        print>>allvsall,'simple',simple_center\n",
    "        if simple_center==0:\n",
    "            victories_50_ua['simple']+=1\n",
    "        #DISTANCE TIME\n",
    "        cc=nx.closeness_centrality(ua)\n",
    "        center=max(cc.iteritems(), key=operator.itemgetter(1))[0]\n",
    "        print>>allvsall,'distance',center\n",
    "        if center==0:\n",
    "            victories_50_ua['distance']+=1\n",
    "allvsall.close()\n",
    "labels=[]\n",
    "values=[]\n",
    "\n",
    "colors =[distance,degree,simpl ,pagerank,leaves,shah]#\n",
    "for key, value in victories_50_ua.iteritems() :\n",
    "    labels.append(key)\n",
    "    values.append(value)\n",
    "\n",
    "\n",
    "\n",
    "tracee = go.Pie(labels=labels, values=values,\n",
    "               hoverinfo='label+percent', textinfo='value', \n",
    "               textfont=dict(size=20),\n",
    "               marker=dict(colors=colors,line=dict(color='#000000', width=2)))\n",
    "\n",
    "iplot([tracee], filename='styled_pie_chart1')"
   ]
  },
  {
   "cell_type": "code",
   "execution_count": 8,
   "metadata": {},
   "outputs": [
    {
     "data": {
      "application/vnd.plotly.v1+json": {
       "data": [
        {
         "hoverinfo": "label+percent",
         "labels": [
          "distance",
          "degree",
          "simple",
          "pagerank",
          "leaves rem",
          "shah-zaman"
         ],
         "marker": {
          "colors": [
           "greenyellow",
           "aqua",
           "lightgreen",
           "deepskyblue",
           "skyblue",
           "limegreen"
          ],
          "line": {
           "color": "#000000",
           "width": 2
          }
         },
         "textfont": {
          "size": 20
         },
         "textinfo": "value",
         "type": "pie",
         "values": [
          16,
          9,
          16,
          5,
          8,
          16
         ]
        }
       ],
       "layout": {}
      },
      "text/html": [
       "<div id=\"1424bd08-f151-4683-b5cd-97259eb6180e\" style=\"height: 525px; width: 100%;\" class=\"plotly-graph-div\"></div><script type=\"text/javascript\">require([\"plotly\"], function(Plotly) { window.PLOTLYENV=window.PLOTLYENV || {};window.PLOTLYENV.BASE_URL=\"https://plot.ly\";Plotly.newPlot(\"1424bd08-f151-4683-b5cd-97259eb6180e\", [{\"textfont\": {\"size\": 20}, \"labels\": [\"distance\", \"degree\", \"simple\", \"pagerank\", \"leaves rem\", \"shah-zaman\"], \"values\": [16, 9, 16, 5, 8, 16], \"hoverinfo\": \"label+percent\", \"marker\": {\"line\": {\"color\": \"#000000\", \"width\": 2}, \"colors\": [\"greenyellow\", \"aqua\", \"lightgreen\", \"deepskyblue\", \"skyblue\", \"limegreen\"]}, \"textinfo\": \"value\", \"type\": \"pie\"}], {}, {\"linkText\": \"Export to plot.ly\", \"showLink\": true})});</script>"
      ],
      "text/vnd.plotly.v1+html": [
       "<div id=\"1424bd08-f151-4683-b5cd-97259eb6180e\" style=\"height: 525px; width: 100%;\" class=\"plotly-graph-div\"></div><script type=\"text/javascript\">require([\"plotly\"], function(Plotly) { window.PLOTLYENV=window.PLOTLYENV || {};window.PLOTLYENV.BASE_URL=\"https://plot.ly\";Plotly.newPlot(\"1424bd08-f151-4683-b5cd-97259eb6180e\", [{\"textfont\": {\"size\": 20}, \"labels\": [\"distance\", \"degree\", \"simple\", \"pagerank\", \"leaves rem\", \"shah-zaman\"], \"values\": [16, 9, 16, 5, 8, 16], \"hoverinfo\": \"label+percent\", \"marker\": {\"line\": {\"color\": \"#000000\", \"width\": 2}, \"colors\": [\"greenyellow\", \"aqua\", \"lightgreen\", \"deepskyblue\", \"skyblue\", \"limegreen\"]}, \"textinfo\": \"value\", \"type\": \"pie\"}], {}, {\"linkText\": \"Export to plot.ly\", \"showLink\": true})});</script>"
      ]
     },
     "metadata": {},
     "output_type": "display_data"
    }
   ],
   "source": [
    "## BA Trees of size= 75, SIM=50\n",
    "allvsall = open('final_all6_S50_N75_ua.txt', 'w')\n",
    "print>>allvsall,'RESULTS: UA(75) & SIM=50 ||||||||||||||||||||||||||||||||||'\n",
    "print>>allvsall,'sz,simple and distance are looking for the source in the same graph'\n",
    "victories_75_ua={}\n",
    "victories_75_ua['leaves rem']=0\n",
    "victories_75_ua['pagerank']=0\n",
    "victories_75_ua['degree']=0\n",
    "victories_75_ua['shah-zaman']=0\n",
    "victories_75_ua['simple']=0\n",
    "victories_75_ua['distance']=0\n",
    "\n",
    "for N in [75]: \n",
    "    for i in range(0,50):\n",
    "        print>>allvsall,'SIM:_______=',i\n",
    "        #GENERATING THE GRAPH\n",
    "        ua=unif_tree(N)\n",
    "        #LEAVES REMOVAL TIME\n",
    "        rl=rem2(ua)\n",
    "        print>>allvsall,'leaves',rl\n",
    "        if rl==0:\n",
    "            victories_75_ua['leaves rem']+=1 \n",
    "        #PAGERANK TIME\n",
    "        pr_list=nx.pagerank(ua)\n",
    "        pr=max(pr_list.iteritems(), key=operator.itemgetter(1))[0]\n",
    "        print>>allvsall,'pagerank',pr\n",
    "        if pr==0:\n",
    "            victories_75_ua['pagerank']+=1\n",
    "        #DEGREE TIME\n",
    "        dc_list=nx.degree_centrality(ua)\n",
    "        list_maximum=[]\n",
    "        center=max(dc_list.iteritems(), key=operator.itemgetter(1))[1]\n",
    "        for i in range(N):\n",
    "                if dc_list[i]==center:\n",
    "                    list_maximum.append([i,dc_list[i]])\n",
    "        pair=random.choice(list_maximum)\n",
    "        print>>allvsall,'degree',pair[0]\n",
    "        if pair[0]==0:\n",
    "            victories_75_ua['degree']+=1\n",
    "        #SHAH-ZAMAN TIME\n",
    "        L=sz(ua)\n",
    "        v=L[len(L)-1][0]\n",
    "        print>>allvsall,'shah',v\n",
    "        if v==0:\n",
    "            victories_75_ua['shah-zaman']+=1 \n",
    "        #SIMPLE TIME\n",
    "        simple_rfa=simple(ua)\n",
    "        simple_center=simple_rfa[0][0]\n",
    "        print>>allvsall,'simple',simple_center\n",
    "        if simple_center==0:\n",
    "            victories_75_ua['simple']+=1\n",
    "        #DISTANCE TIME\n",
    "        cc=nx.closeness_centrality(ua)\n",
    "        center=max(cc.iteritems(), key=operator.itemgetter(1))[0]\n",
    "        print>>allvsall,'distance',center\n",
    "        if center==0:\n",
    "            victories_75_ua['distance']+=1\n",
    "allvsall.close()\n",
    "labels=[]\n",
    "values=[]\n",
    "\n",
    "colors =[distance,degree,simpl ,pagerank,leaves,shah]#\n",
    "for key, value in victories_75_ua.iteritems() :\n",
    "    labels.append(key)\n",
    "    values.append(value)\n",
    "\n",
    "\n",
    "\n",
    "tracee = go.Pie(labels=labels, values=values,\n",
    "               hoverinfo='label+percent', textinfo='value', \n",
    "               textfont=dict(size=20),\n",
    "               marker=dict(colors=colors,line=dict(color='#000000', width=2)))\n",
    "\n",
    "iplot([tracee], filename='styled_pie_chart1')"
   ]
  },
  {
   "cell_type": "code",
   "execution_count": 9,
   "metadata": {
    "collapsed": true
   },
   "outputs": [],
   "source": [
    "info= open(\"final_all6_S50_N75_ua.txt\").read().split()\n",
    "list_=[i for i in info]"
   ]
  },
  {
   "cell_type": "code",
   "execution_count": 30,
   "metadata": {},
   "outputs": [
    {
     "name": "stdout",
     "output_type": "stream",
     "text": [
      "[0, 4, 6, 1, 1, 1]\n",
      "[14, 3, 3, 5, 5, 5]\n",
      "[7, 0, 0, 0, 0, 0]\n",
      "[4, 7, 0, 1, 1, 1]\n",
      "[11, 1, 1, 1, 1, 1]\n",
      "[1, 10, 10, 0, 0, 0]\n",
      "[1, 0, 0, 0, 0, 0]\n",
      "[1, 16, 10, 1, 1, 1]\n",
      "[13, 17, 1, 2, 2, 2]\n",
      "[4, 1, 1, 1, 1, 1]\n",
      "[25, 1, 1, 1, 1, 1]\n",
      "[12, 25, 10, 4, 4, 4]\n",
      "[1, 7, 7, 0, 0, 0]\n",
      "[6, 2, 2, 2, 2, 2]\n",
      "[14, 3, 0, 0, 0, 0]\n",
      "[7, 9, 9, 3, 3, 3]\n",
      "[2, 10, 10, 0, 0, 0]\n",
      "[42, 1, 1, 1, 1, 1]\n",
      "[7, 3, 3, 1, 1, 1]\n",
      "[0, 2, 2, 2, 2, 2]\n",
      "[1, 2, 2, 1, 1, 1]\n",
      "[10, 2, 2, 2, 2, 2]\n",
      "[1, 6, 6, 1, 1, 1]\n",
      "[0, 0, 0, 0, 0, 0]\n",
      "[9, 3, 3, 1, 1, 1]\n",
      "[1, 6, 6, 1, 1, 1]\n",
      "[1, 1, 1, 1, 1, 1]\n",
      "[3, 7, 7, 5, 5, 5]\n",
      "[12, 7, 0, 0, 0, 0]\n",
      "[0, 9, 9, 0, 0, 0]\n",
      "[6, 2, 2, 2, 2, 2]\n",
      "[13, 9, 1, 1, 1, 1]\n",
      "[11, 12, 12, 2, 2, 2]\n",
      "[0, 1, 1, 0, 0, 0]\n",
      "[0, 1, 1, 1, 1, 1]\n",
      "[3, 1, 0, 1, 1, 1]\n",
      "[12, 1, 1, 1, 1, 1]\n",
      "[0, 6, 6, 0, 0, 0]\n",
      "[5, 0, 0, 0, 0, 0]\n",
      "[7, 1, 1, 1, 1, 1]\n",
      "[4, 7, 1, 0, 0, 0]\n",
      "[6, 2, 2, 2, 2, 2]\n",
      "[9, 0, 0, 0, 0, 0]\n",
      "[3, 13, 1, 3, 3, 3]\n",
      "[4, 1, 1, 1, 1, 1]\n",
      "[2, 1, 1, 1, 1, 1]\n",
      "[2, 14, 14, 0, 0, 0]\n",
      "[11, 1, 1, 1, 1, 1]\n",
      "[0, 14, 14, 0, 0, 0]\n",
      "[4, 10, 10, 4, 4, 4]\n",
      "[['Sim', 'Leaves Rem', 'PageRank', 'Degree', 'SZ', 'Simple', 'Distance'], [1, 0, 4, 6, 1, 1, 1], [2, 14, 3, 3, 5, 5, 5], [3, 7, 0, 0, 0, 0, 0], [4, 4, 7, 0, 1, 1, 1], [5, 11, 1, 1, 1, 1, 1], [6, 1, 10, 10, 0, 0, 0], [7, 1, 0, 0, 0, 0, 0], [8, 1, 16, 10, 1, 1, 1], [9, 13, 17, 1, 2, 2, 2], [10, 4, 1, 1, 1, 1, 1], [11, 25, 1, 1, 1, 1, 1], [12, 12, 25, 10, 4, 4, 4], [13, 1, 7, 7, 0, 0, 0], [14, 6, 2, 2, 2, 2, 2], [15, 14, 3, 0, 0, 0, 0], [16, 7, 9, 9, 3, 3, 3], [17, 2, 10, 10, 0, 0, 0], [18, 42, 1, 1, 1, 1, 1], [19, 7, 3, 3, 1, 1, 1], [20, 0, 2, 2, 2, 2, 2], [21, 1, 2, 2, 1, 1, 1], [22, 10, 2, 2, 2, 2, 2], [23, 1, 6, 6, 1, 1, 1], [24, 0, 0, 0, 0, 0, 0], [25, 9, 3, 3, 1, 1, 1]]\n"
     ]
    }
   ],
   "source": [
    "#print list_\n",
    "results={}\n",
    "values={}\n",
    "Header=['Sim','Leaves Rem','PageRank','Degree','SZ','Simple','Distance']\n",
    "data_matrix=[]\n",
    "data_matrix.append(Header)\n",
    "for i in range(len(list_)):\n",
    "    if list_[i]=='SIM:_______=':\n",
    "        results[list_[i+1]]=list_[i+2:i+14]\n",
    "        #print list_[i+1],results[list_[i+1]]\n",
    "        values[i]=[int(results[list_[i+1]][j]) for j in range(1,len(results[list_[i+1]]),2)]\n",
    "        if int(list_[i+1])+1<26:\n",
    "            data_matrix.append([int(list_[i+1])+1]+values[i])\n",
    "        print values[i]\n",
    "#print results\n",
    "\n",
    "\n",
    "print data_matrix\n"
   ]
  },
  {
   "cell_type": "markdown",
   "metadata": {},
   "source": [
    "In the next cell we show the results for each one of the 25 simulations that we did with the 6 estimators. "
   ]
  },
  {
   "cell_type": "code",
   "execution_count": 31,
   "metadata": {},
   "outputs": [
    {
     "data": {
      "application/vnd.plotly.v1+json": {
       "data": [
        {
         "colorscale": [
          [
           0,
           "#00083e"
          ],
          [
           0.5,
           "#ededee"
          ],
          [
           1,
           "#ffffff"
          ]
         ],
         "hoverinfo": "none",
         "opacity": 0.75,
         "showscale": false,
         "type": "heatmap",
         "z": [
          [
           0,
           0,
           0,
           0,
           0,
           0,
           0
          ],
          [
           0,
           0.5,
           0.5,
           0.5,
           0.5,
           0.5,
           0.5
          ],
          [
           0,
           1,
           1,
           1,
           1,
           1,
           1
          ],
          [
           0,
           0.5,
           0.5,
           0.5,
           0.5,
           0.5,
           0.5
          ],
          [
           0,
           1,
           1,
           1,
           1,
           1,
           1
          ],
          [
           0,
           0.5,
           0.5,
           0.5,
           0.5,
           0.5,
           0.5
          ],
          [
           0,
           1,
           1,
           1,
           1,
           1,
           1
          ],
          [
           0,
           0.5,
           0.5,
           0.5,
           0.5,
           0.5,
           0.5
          ],
          [
           0,
           1,
           1,
           1,
           1,
           1,
           1
          ],
          [
           0,
           0.5,
           0.5,
           0.5,
           0.5,
           0.5,
           0.5
          ],
          [
           0,
           1,
           1,
           1,
           1,
           1,
           1
          ],
          [
           0,
           0.5,
           0.5,
           0.5,
           0.5,
           0.5,
           0.5
          ],
          [
           0,
           1,
           1,
           1,
           1,
           1,
           1
          ],
          [
           0,
           0.5,
           0.5,
           0.5,
           0.5,
           0.5,
           0.5
          ],
          [
           0,
           1,
           1,
           1,
           1,
           1,
           1
          ],
          [
           0,
           0.5,
           0.5,
           0.5,
           0.5,
           0.5,
           0.5
          ],
          [
           0,
           1,
           1,
           1,
           1,
           1,
           1
          ],
          [
           0,
           0.5,
           0.5,
           0.5,
           0.5,
           0.5,
           0.5
          ],
          [
           0,
           1,
           1,
           1,
           1,
           1,
           1
          ],
          [
           0,
           0.5,
           0.5,
           0.5,
           0.5,
           0.5,
           0.5
          ],
          [
           0,
           1,
           1,
           1,
           1,
           1,
           1
          ],
          [
           0,
           0.5,
           0.5,
           0.5,
           0.5,
           0.5,
           0.5
          ],
          [
           0,
           1,
           1,
           1,
           1,
           1,
           1
          ],
          [
           0,
           0.5,
           0.5,
           0.5,
           0.5,
           0.5,
           0.5
          ],
          [
           0,
           1,
           1,
           1,
           1,
           1,
           1
          ],
          [
           0,
           0.5,
           0.5,
           0.5,
           0.5,
           0.5,
           0.5
          ]
         ]
        }
       ],
       "layout": {
        "annotations": [
         {
          "align": "left",
          "font": {
           "color": "#ffffff",
           "size": 15
          },
          "showarrow": false,
          "text": "<b>Sim</b>",
          "x": -0.45,
          "xanchor": "left",
          "xref": "x1",
          "y": 0,
          "yref": "y1"
         },
         {
          "align": "left",
          "font": {
           "color": "#ffffff",
           "size": 15
          },
          "showarrow": false,
          "text": "<b>Leaves Rem</b>",
          "x": 0.55,
          "xanchor": "left",
          "xref": "x1",
          "y": 0,
          "yref": "y1"
         },
         {
          "align": "left",
          "font": {
           "color": "#ffffff",
           "size": 15
          },
          "showarrow": false,
          "text": "<b>PageRank</b>",
          "x": 1.55,
          "xanchor": "left",
          "xref": "x1",
          "y": 0,
          "yref": "y1"
         },
         {
          "align": "left",
          "font": {
           "color": "#ffffff",
           "size": 15
          },
          "showarrow": false,
          "text": "<b>Degree</b>",
          "x": 2.55,
          "xanchor": "left",
          "xref": "x1",
          "y": 0,
          "yref": "y1"
         },
         {
          "align": "left",
          "font": {
           "color": "#ffffff",
           "size": 15
          },
          "showarrow": false,
          "text": "<b>SZ</b>",
          "x": 3.55,
          "xanchor": "left",
          "xref": "x1",
          "y": 0,
          "yref": "y1"
         },
         {
          "align": "left",
          "font": {
           "color": "#ffffff",
           "size": 15
          },
          "showarrow": false,
          "text": "<b>Simple</b>",
          "x": 4.55,
          "xanchor": "left",
          "xref": "x1",
          "y": 0,
          "yref": "y1"
         },
         {
          "align": "left",
          "font": {
           "color": "#ffffff",
           "size": 15
          },
          "showarrow": false,
          "text": "<b>Distance</b>",
          "x": 5.55,
          "xanchor": "left",
          "xref": "x1",
          "y": 0,
          "yref": "y1"
         },
         {
          "align": "left",
          "font": {
           "color": "#ffffff",
           "size": 15
          },
          "showarrow": false,
          "text": "<b>1</b>",
          "x": -0.45,
          "xanchor": "left",
          "xref": "x1",
          "y": 1,
          "yref": "y1"
         },
         {
          "align": "left",
          "font": {
           "color": "#000000",
           "size": 15
          },
          "showarrow": false,
          "text": "0",
          "x": 0.55,
          "xanchor": "left",
          "xref": "x1",
          "y": 1,
          "yref": "y1"
         },
         {
          "align": "left",
          "font": {
           "color": "#000000",
           "size": 15
          },
          "showarrow": false,
          "text": "4",
          "x": 1.55,
          "xanchor": "left",
          "xref": "x1",
          "y": 1,
          "yref": "y1"
         },
         {
          "align": "left",
          "font": {
           "color": "#000000",
           "size": 15
          },
          "showarrow": false,
          "text": "6",
          "x": 2.55,
          "xanchor": "left",
          "xref": "x1",
          "y": 1,
          "yref": "y1"
         },
         {
          "align": "left",
          "font": {
           "color": "#000000",
           "size": 15
          },
          "showarrow": false,
          "text": "1",
          "x": 3.55,
          "xanchor": "left",
          "xref": "x1",
          "y": 1,
          "yref": "y1"
         },
         {
          "align": "left",
          "font": {
           "color": "#000000",
           "size": 15
          },
          "showarrow": false,
          "text": "1",
          "x": 4.55,
          "xanchor": "left",
          "xref": "x1",
          "y": 1,
          "yref": "y1"
         },
         {
          "align": "left",
          "font": {
           "color": "#000000",
           "size": 15
          },
          "showarrow": false,
          "text": "1",
          "x": 5.55,
          "xanchor": "left",
          "xref": "x1",
          "y": 1,
          "yref": "y1"
         },
         {
          "align": "left",
          "font": {
           "color": "#ffffff",
           "size": 15
          },
          "showarrow": false,
          "text": "<b>2</b>",
          "x": -0.45,
          "xanchor": "left",
          "xref": "x1",
          "y": 2,
          "yref": "y1"
         },
         {
          "align": "left",
          "font": {
           "color": "#000000",
           "size": 15
          },
          "showarrow": false,
          "text": "14",
          "x": 0.55,
          "xanchor": "left",
          "xref": "x1",
          "y": 2,
          "yref": "y1"
         },
         {
          "align": "left",
          "font": {
           "color": "#000000",
           "size": 15
          },
          "showarrow": false,
          "text": "3",
          "x": 1.55,
          "xanchor": "left",
          "xref": "x1",
          "y": 2,
          "yref": "y1"
         },
         {
          "align": "left",
          "font": {
           "color": "#000000",
           "size": 15
          },
          "showarrow": false,
          "text": "3",
          "x": 2.55,
          "xanchor": "left",
          "xref": "x1",
          "y": 2,
          "yref": "y1"
         },
         {
          "align": "left",
          "font": {
           "color": "#000000",
           "size": 15
          },
          "showarrow": false,
          "text": "5",
          "x": 3.55,
          "xanchor": "left",
          "xref": "x1",
          "y": 2,
          "yref": "y1"
         },
         {
          "align": "left",
          "font": {
           "color": "#000000",
           "size": 15
          },
          "showarrow": false,
          "text": "5",
          "x": 4.55,
          "xanchor": "left",
          "xref": "x1",
          "y": 2,
          "yref": "y1"
         },
         {
          "align": "left",
          "font": {
           "color": "#000000",
           "size": 15
          },
          "showarrow": false,
          "text": "5",
          "x": 5.55,
          "xanchor": "left",
          "xref": "x1",
          "y": 2,
          "yref": "y1"
         },
         {
          "align": "left",
          "font": {
           "color": "#ffffff",
           "size": 15
          },
          "showarrow": false,
          "text": "<b>3</b>",
          "x": -0.45,
          "xanchor": "left",
          "xref": "x1",
          "y": 3,
          "yref": "y1"
         },
         {
          "align": "left",
          "font": {
           "color": "#000000",
           "size": 15
          },
          "showarrow": false,
          "text": "7",
          "x": 0.55,
          "xanchor": "left",
          "xref": "x1",
          "y": 3,
          "yref": "y1"
         },
         {
          "align": "left",
          "font": {
           "color": "#000000",
           "size": 15
          },
          "showarrow": false,
          "text": "0",
          "x": 1.55,
          "xanchor": "left",
          "xref": "x1",
          "y": 3,
          "yref": "y1"
         },
         {
          "align": "left",
          "font": {
           "color": "#000000",
           "size": 15
          },
          "showarrow": false,
          "text": "0",
          "x": 2.55,
          "xanchor": "left",
          "xref": "x1",
          "y": 3,
          "yref": "y1"
         },
         {
          "align": "left",
          "font": {
           "color": "#000000",
           "size": 15
          },
          "showarrow": false,
          "text": "0",
          "x": 3.55,
          "xanchor": "left",
          "xref": "x1",
          "y": 3,
          "yref": "y1"
         },
         {
          "align": "left",
          "font": {
           "color": "#000000",
           "size": 15
          },
          "showarrow": false,
          "text": "0",
          "x": 4.55,
          "xanchor": "left",
          "xref": "x1",
          "y": 3,
          "yref": "y1"
         },
         {
          "align": "left",
          "font": {
           "color": "#000000",
           "size": 15
          },
          "showarrow": false,
          "text": "0",
          "x": 5.55,
          "xanchor": "left",
          "xref": "x1",
          "y": 3,
          "yref": "y1"
         },
         {
          "align": "left",
          "font": {
           "color": "#ffffff",
           "size": 15
          },
          "showarrow": false,
          "text": "<b>4</b>",
          "x": -0.45,
          "xanchor": "left",
          "xref": "x1",
          "y": 4,
          "yref": "y1"
         },
         {
          "align": "left",
          "font": {
           "color": "#000000",
           "size": 15
          },
          "showarrow": false,
          "text": "4",
          "x": 0.55,
          "xanchor": "left",
          "xref": "x1",
          "y": 4,
          "yref": "y1"
         },
         {
          "align": "left",
          "font": {
           "color": "#000000",
           "size": 15
          },
          "showarrow": false,
          "text": "7",
          "x": 1.55,
          "xanchor": "left",
          "xref": "x1",
          "y": 4,
          "yref": "y1"
         },
         {
          "align": "left",
          "font": {
           "color": "#000000",
           "size": 15
          },
          "showarrow": false,
          "text": "0",
          "x": 2.55,
          "xanchor": "left",
          "xref": "x1",
          "y": 4,
          "yref": "y1"
         },
         {
          "align": "left",
          "font": {
           "color": "#000000",
           "size": 15
          },
          "showarrow": false,
          "text": "1",
          "x": 3.55,
          "xanchor": "left",
          "xref": "x1",
          "y": 4,
          "yref": "y1"
         },
         {
          "align": "left",
          "font": {
           "color": "#000000",
           "size": 15
          },
          "showarrow": false,
          "text": "1",
          "x": 4.55,
          "xanchor": "left",
          "xref": "x1",
          "y": 4,
          "yref": "y1"
         },
         {
          "align": "left",
          "font": {
           "color": "#000000",
           "size": 15
          },
          "showarrow": false,
          "text": "1",
          "x": 5.55,
          "xanchor": "left",
          "xref": "x1",
          "y": 4,
          "yref": "y1"
         },
         {
          "align": "left",
          "font": {
           "color": "#ffffff",
           "size": 15
          },
          "showarrow": false,
          "text": "<b>5</b>",
          "x": -0.45,
          "xanchor": "left",
          "xref": "x1",
          "y": 5,
          "yref": "y1"
         },
         {
          "align": "left",
          "font": {
           "color": "#000000",
           "size": 15
          },
          "showarrow": false,
          "text": "11",
          "x": 0.55,
          "xanchor": "left",
          "xref": "x1",
          "y": 5,
          "yref": "y1"
         },
         {
          "align": "left",
          "font": {
           "color": "#000000",
           "size": 15
          },
          "showarrow": false,
          "text": "1",
          "x": 1.55,
          "xanchor": "left",
          "xref": "x1",
          "y": 5,
          "yref": "y1"
         },
         {
          "align": "left",
          "font": {
           "color": "#000000",
           "size": 15
          },
          "showarrow": false,
          "text": "1",
          "x": 2.55,
          "xanchor": "left",
          "xref": "x1",
          "y": 5,
          "yref": "y1"
         },
         {
          "align": "left",
          "font": {
           "color": "#000000",
           "size": 15
          },
          "showarrow": false,
          "text": "1",
          "x": 3.55,
          "xanchor": "left",
          "xref": "x1",
          "y": 5,
          "yref": "y1"
         },
         {
          "align": "left",
          "font": {
           "color": "#000000",
           "size": 15
          },
          "showarrow": false,
          "text": "1",
          "x": 4.55,
          "xanchor": "left",
          "xref": "x1",
          "y": 5,
          "yref": "y1"
         },
         {
          "align": "left",
          "font": {
           "color": "#000000",
           "size": 15
          },
          "showarrow": false,
          "text": "1",
          "x": 5.55,
          "xanchor": "left",
          "xref": "x1",
          "y": 5,
          "yref": "y1"
         },
         {
          "align": "left",
          "font": {
           "color": "#ffffff",
           "size": 15
          },
          "showarrow": false,
          "text": "<b>6</b>",
          "x": -0.45,
          "xanchor": "left",
          "xref": "x1",
          "y": 6,
          "yref": "y1"
         },
         {
          "align": "left",
          "font": {
           "color": "#000000",
           "size": 15
          },
          "showarrow": false,
          "text": "1",
          "x": 0.55,
          "xanchor": "left",
          "xref": "x1",
          "y": 6,
          "yref": "y1"
         },
         {
          "align": "left",
          "font": {
           "color": "#000000",
           "size": 15
          },
          "showarrow": false,
          "text": "10",
          "x": 1.55,
          "xanchor": "left",
          "xref": "x1",
          "y": 6,
          "yref": "y1"
         },
         {
          "align": "left",
          "font": {
           "color": "#000000",
           "size": 15
          },
          "showarrow": false,
          "text": "10",
          "x": 2.55,
          "xanchor": "left",
          "xref": "x1",
          "y": 6,
          "yref": "y1"
         },
         {
          "align": "left",
          "font": {
           "color": "#000000",
           "size": 15
          },
          "showarrow": false,
          "text": "0",
          "x": 3.55,
          "xanchor": "left",
          "xref": "x1",
          "y": 6,
          "yref": "y1"
         },
         {
          "align": "left",
          "font": {
           "color": "#000000",
           "size": 15
          },
          "showarrow": false,
          "text": "0",
          "x": 4.55,
          "xanchor": "left",
          "xref": "x1",
          "y": 6,
          "yref": "y1"
         },
         {
          "align": "left",
          "font": {
           "color": "#000000",
           "size": 15
          },
          "showarrow": false,
          "text": "0",
          "x": 5.55,
          "xanchor": "left",
          "xref": "x1",
          "y": 6,
          "yref": "y1"
         },
         {
          "align": "left",
          "font": {
           "color": "#ffffff",
           "size": 15
          },
          "showarrow": false,
          "text": "<b>7</b>",
          "x": -0.45,
          "xanchor": "left",
          "xref": "x1",
          "y": 7,
          "yref": "y1"
         },
         {
          "align": "left",
          "font": {
           "color": "#000000",
           "size": 15
          },
          "showarrow": false,
          "text": "1",
          "x": 0.55,
          "xanchor": "left",
          "xref": "x1",
          "y": 7,
          "yref": "y1"
         },
         {
          "align": "left",
          "font": {
           "color": "#000000",
           "size": 15
          },
          "showarrow": false,
          "text": "0",
          "x": 1.55,
          "xanchor": "left",
          "xref": "x1",
          "y": 7,
          "yref": "y1"
         },
         {
          "align": "left",
          "font": {
           "color": "#000000",
           "size": 15
          },
          "showarrow": false,
          "text": "0",
          "x": 2.55,
          "xanchor": "left",
          "xref": "x1",
          "y": 7,
          "yref": "y1"
         },
         {
          "align": "left",
          "font": {
           "color": "#000000",
           "size": 15
          },
          "showarrow": false,
          "text": "0",
          "x": 3.55,
          "xanchor": "left",
          "xref": "x1",
          "y": 7,
          "yref": "y1"
         },
         {
          "align": "left",
          "font": {
           "color": "#000000",
           "size": 15
          },
          "showarrow": false,
          "text": "0",
          "x": 4.55,
          "xanchor": "left",
          "xref": "x1",
          "y": 7,
          "yref": "y1"
         },
         {
          "align": "left",
          "font": {
           "color": "#000000",
           "size": 15
          },
          "showarrow": false,
          "text": "0",
          "x": 5.55,
          "xanchor": "left",
          "xref": "x1",
          "y": 7,
          "yref": "y1"
         },
         {
          "align": "left",
          "font": {
           "color": "#ffffff",
           "size": 15
          },
          "showarrow": false,
          "text": "<b>8</b>",
          "x": -0.45,
          "xanchor": "left",
          "xref": "x1",
          "y": 8,
          "yref": "y1"
         },
         {
          "align": "left",
          "font": {
           "color": "#000000",
           "size": 15
          },
          "showarrow": false,
          "text": "1",
          "x": 0.55,
          "xanchor": "left",
          "xref": "x1",
          "y": 8,
          "yref": "y1"
         },
         {
          "align": "left",
          "font": {
           "color": "#000000",
           "size": 15
          },
          "showarrow": false,
          "text": "16",
          "x": 1.55,
          "xanchor": "left",
          "xref": "x1",
          "y": 8,
          "yref": "y1"
         },
         {
          "align": "left",
          "font": {
           "color": "#000000",
           "size": 15
          },
          "showarrow": false,
          "text": "10",
          "x": 2.55,
          "xanchor": "left",
          "xref": "x1",
          "y": 8,
          "yref": "y1"
         },
         {
          "align": "left",
          "font": {
           "color": "#000000",
           "size": 15
          },
          "showarrow": false,
          "text": "1",
          "x": 3.55,
          "xanchor": "left",
          "xref": "x1",
          "y": 8,
          "yref": "y1"
         },
         {
          "align": "left",
          "font": {
           "color": "#000000",
           "size": 15
          },
          "showarrow": false,
          "text": "1",
          "x": 4.55,
          "xanchor": "left",
          "xref": "x1",
          "y": 8,
          "yref": "y1"
         },
         {
          "align": "left",
          "font": {
           "color": "#000000",
           "size": 15
          },
          "showarrow": false,
          "text": "1",
          "x": 5.55,
          "xanchor": "left",
          "xref": "x1",
          "y": 8,
          "yref": "y1"
         },
         {
          "align": "left",
          "font": {
           "color": "#ffffff",
           "size": 15
          },
          "showarrow": false,
          "text": "<b>9</b>",
          "x": -0.45,
          "xanchor": "left",
          "xref": "x1",
          "y": 9,
          "yref": "y1"
         },
         {
          "align": "left",
          "font": {
           "color": "#000000",
           "size": 15
          },
          "showarrow": false,
          "text": "13",
          "x": 0.55,
          "xanchor": "left",
          "xref": "x1",
          "y": 9,
          "yref": "y1"
         },
         {
          "align": "left",
          "font": {
           "color": "#000000",
           "size": 15
          },
          "showarrow": false,
          "text": "17",
          "x": 1.55,
          "xanchor": "left",
          "xref": "x1",
          "y": 9,
          "yref": "y1"
         },
         {
          "align": "left",
          "font": {
           "color": "#000000",
           "size": 15
          },
          "showarrow": false,
          "text": "1",
          "x": 2.55,
          "xanchor": "left",
          "xref": "x1",
          "y": 9,
          "yref": "y1"
         },
         {
          "align": "left",
          "font": {
           "color": "#000000",
           "size": 15
          },
          "showarrow": false,
          "text": "2",
          "x": 3.55,
          "xanchor": "left",
          "xref": "x1",
          "y": 9,
          "yref": "y1"
         },
         {
          "align": "left",
          "font": {
           "color": "#000000",
           "size": 15
          },
          "showarrow": false,
          "text": "2",
          "x": 4.55,
          "xanchor": "left",
          "xref": "x1",
          "y": 9,
          "yref": "y1"
         },
         {
          "align": "left",
          "font": {
           "color": "#000000",
           "size": 15
          },
          "showarrow": false,
          "text": "2",
          "x": 5.55,
          "xanchor": "left",
          "xref": "x1",
          "y": 9,
          "yref": "y1"
         },
         {
          "align": "left",
          "font": {
           "color": "#ffffff",
           "size": 15
          },
          "showarrow": false,
          "text": "<b>10</b>",
          "x": -0.45,
          "xanchor": "left",
          "xref": "x1",
          "y": 10,
          "yref": "y1"
         },
         {
          "align": "left",
          "font": {
           "color": "#000000",
           "size": 15
          },
          "showarrow": false,
          "text": "4",
          "x": 0.55,
          "xanchor": "left",
          "xref": "x1",
          "y": 10,
          "yref": "y1"
         },
         {
          "align": "left",
          "font": {
           "color": "#000000",
           "size": 15
          },
          "showarrow": false,
          "text": "1",
          "x": 1.55,
          "xanchor": "left",
          "xref": "x1",
          "y": 10,
          "yref": "y1"
         },
         {
          "align": "left",
          "font": {
           "color": "#000000",
           "size": 15
          },
          "showarrow": false,
          "text": "1",
          "x": 2.55,
          "xanchor": "left",
          "xref": "x1",
          "y": 10,
          "yref": "y1"
         },
         {
          "align": "left",
          "font": {
           "color": "#000000",
           "size": 15
          },
          "showarrow": false,
          "text": "1",
          "x": 3.55,
          "xanchor": "left",
          "xref": "x1",
          "y": 10,
          "yref": "y1"
         },
         {
          "align": "left",
          "font": {
           "color": "#000000",
           "size": 15
          },
          "showarrow": false,
          "text": "1",
          "x": 4.55,
          "xanchor": "left",
          "xref": "x1",
          "y": 10,
          "yref": "y1"
         },
         {
          "align": "left",
          "font": {
           "color": "#000000",
           "size": 15
          },
          "showarrow": false,
          "text": "1",
          "x": 5.55,
          "xanchor": "left",
          "xref": "x1",
          "y": 10,
          "yref": "y1"
         },
         {
          "align": "left",
          "font": {
           "color": "#ffffff",
           "size": 15
          },
          "showarrow": false,
          "text": "<b>11</b>",
          "x": -0.45,
          "xanchor": "left",
          "xref": "x1",
          "y": 11,
          "yref": "y1"
         },
         {
          "align": "left",
          "font": {
           "color": "#000000",
           "size": 15
          },
          "showarrow": false,
          "text": "25",
          "x": 0.55,
          "xanchor": "left",
          "xref": "x1",
          "y": 11,
          "yref": "y1"
         },
         {
          "align": "left",
          "font": {
           "color": "#000000",
           "size": 15
          },
          "showarrow": false,
          "text": "1",
          "x": 1.55,
          "xanchor": "left",
          "xref": "x1",
          "y": 11,
          "yref": "y1"
         },
         {
          "align": "left",
          "font": {
           "color": "#000000",
           "size": 15
          },
          "showarrow": false,
          "text": "1",
          "x": 2.55,
          "xanchor": "left",
          "xref": "x1",
          "y": 11,
          "yref": "y1"
         },
         {
          "align": "left",
          "font": {
           "color": "#000000",
           "size": 15
          },
          "showarrow": false,
          "text": "1",
          "x": 3.55,
          "xanchor": "left",
          "xref": "x1",
          "y": 11,
          "yref": "y1"
         },
         {
          "align": "left",
          "font": {
           "color": "#000000",
           "size": 15
          },
          "showarrow": false,
          "text": "1",
          "x": 4.55,
          "xanchor": "left",
          "xref": "x1",
          "y": 11,
          "yref": "y1"
         },
         {
          "align": "left",
          "font": {
           "color": "#000000",
           "size": 15
          },
          "showarrow": false,
          "text": "1",
          "x": 5.55,
          "xanchor": "left",
          "xref": "x1",
          "y": 11,
          "yref": "y1"
         },
         {
          "align": "left",
          "font": {
           "color": "#ffffff",
           "size": 15
          },
          "showarrow": false,
          "text": "<b>12</b>",
          "x": -0.45,
          "xanchor": "left",
          "xref": "x1",
          "y": 12,
          "yref": "y1"
         },
         {
          "align": "left",
          "font": {
           "color": "#000000",
           "size": 15
          },
          "showarrow": false,
          "text": "12",
          "x": 0.55,
          "xanchor": "left",
          "xref": "x1",
          "y": 12,
          "yref": "y1"
         },
         {
          "align": "left",
          "font": {
           "color": "#000000",
           "size": 15
          },
          "showarrow": false,
          "text": "25",
          "x": 1.55,
          "xanchor": "left",
          "xref": "x1",
          "y": 12,
          "yref": "y1"
         },
         {
          "align": "left",
          "font": {
           "color": "#000000",
           "size": 15
          },
          "showarrow": false,
          "text": "10",
          "x": 2.55,
          "xanchor": "left",
          "xref": "x1",
          "y": 12,
          "yref": "y1"
         },
         {
          "align": "left",
          "font": {
           "color": "#000000",
           "size": 15
          },
          "showarrow": false,
          "text": "4",
          "x": 3.55,
          "xanchor": "left",
          "xref": "x1",
          "y": 12,
          "yref": "y1"
         },
         {
          "align": "left",
          "font": {
           "color": "#000000",
           "size": 15
          },
          "showarrow": false,
          "text": "4",
          "x": 4.55,
          "xanchor": "left",
          "xref": "x1",
          "y": 12,
          "yref": "y1"
         },
         {
          "align": "left",
          "font": {
           "color": "#000000",
           "size": 15
          },
          "showarrow": false,
          "text": "4",
          "x": 5.55,
          "xanchor": "left",
          "xref": "x1",
          "y": 12,
          "yref": "y1"
         },
         {
          "align": "left",
          "font": {
           "color": "#ffffff",
           "size": 15
          },
          "showarrow": false,
          "text": "<b>13</b>",
          "x": -0.45,
          "xanchor": "left",
          "xref": "x1",
          "y": 13,
          "yref": "y1"
         },
         {
          "align": "left",
          "font": {
           "color": "#000000",
           "size": 15
          },
          "showarrow": false,
          "text": "1",
          "x": 0.55,
          "xanchor": "left",
          "xref": "x1",
          "y": 13,
          "yref": "y1"
         },
         {
          "align": "left",
          "font": {
           "color": "#000000",
           "size": 15
          },
          "showarrow": false,
          "text": "7",
          "x": 1.55,
          "xanchor": "left",
          "xref": "x1",
          "y": 13,
          "yref": "y1"
         },
         {
          "align": "left",
          "font": {
           "color": "#000000",
           "size": 15
          },
          "showarrow": false,
          "text": "7",
          "x": 2.55,
          "xanchor": "left",
          "xref": "x1",
          "y": 13,
          "yref": "y1"
         },
         {
          "align": "left",
          "font": {
           "color": "#000000",
           "size": 15
          },
          "showarrow": false,
          "text": "0",
          "x": 3.55,
          "xanchor": "left",
          "xref": "x1",
          "y": 13,
          "yref": "y1"
         },
         {
          "align": "left",
          "font": {
           "color": "#000000",
           "size": 15
          },
          "showarrow": false,
          "text": "0",
          "x": 4.55,
          "xanchor": "left",
          "xref": "x1",
          "y": 13,
          "yref": "y1"
         },
         {
          "align": "left",
          "font": {
           "color": "#000000",
           "size": 15
          },
          "showarrow": false,
          "text": "0",
          "x": 5.55,
          "xanchor": "left",
          "xref": "x1",
          "y": 13,
          "yref": "y1"
         },
         {
          "align": "left",
          "font": {
           "color": "#ffffff",
           "size": 15
          },
          "showarrow": false,
          "text": "<b>14</b>",
          "x": -0.45,
          "xanchor": "left",
          "xref": "x1",
          "y": 14,
          "yref": "y1"
         },
         {
          "align": "left",
          "font": {
           "color": "#000000",
           "size": 15
          },
          "showarrow": false,
          "text": "6",
          "x": 0.55,
          "xanchor": "left",
          "xref": "x1",
          "y": 14,
          "yref": "y1"
         },
         {
          "align": "left",
          "font": {
           "color": "#000000",
           "size": 15
          },
          "showarrow": false,
          "text": "2",
          "x": 1.55,
          "xanchor": "left",
          "xref": "x1",
          "y": 14,
          "yref": "y1"
         },
         {
          "align": "left",
          "font": {
           "color": "#000000",
           "size": 15
          },
          "showarrow": false,
          "text": "2",
          "x": 2.55,
          "xanchor": "left",
          "xref": "x1",
          "y": 14,
          "yref": "y1"
         },
         {
          "align": "left",
          "font": {
           "color": "#000000",
           "size": 15
          },
          "showarrow": false,
          "text": "2",
          "x": 3.55,
          "xanchor": "left",
          "xref": "x1",
          "y": 14,
          "yref": "y1"
         },
         {
          "align": "left",
          "font": {
           "color": "#000000",
           "size": 15
          },
          "showarrow": false,
          "text": "2",
          "x": 4.55,
          "xanchor": "left",
          "xref": "x1",
          "y": 14,
          "yref": "y1"
         },
         {
          "align": "left",
          "font": {
           "color": "#000000",
           "size": 15
          },
          "showarrow": false,
          "text": "2",
          "x": 5.55,
          "xanchor": "left",
          "xref": "x1",
          "y": 14,
          "yref": "y1"
         },
         {
          "align": "left",
          "font": {
           "color": "#ffffff",
           "size": 15
          },
          "showarrow": false,
          "text": "<b>15</b>",
          "x": -0.45,
          "xanchor": "left",
          "xref": "x1",
          "y": 15,
          "yref": "y1"
         },
         {
          "align": "left",
          "font": {
           "color": "#000000",
           "size": 15
          },
          "showarrow": false,
          "text": "14",
          "x": 0.55,
          "xanchor": "left",
          "xref": "x1",
          "y": 15,
          "yref": "y1"
         },
         {
          "align": "left",
          "font": {
           "color": "#000000",
           "size": 15
          },
          "showarrow": false,
          "text": "3",
          "x": 1.55,
          "xanchor": "left",
          "xref": "x1",
          "y": 15,
          "yref": "y1"
         },
         {
          "align": "left",
          "font": {
           "color": "#000000",
           "size": 15
          },
          "showarrow": false,
          "text": "0",
          "x": 2.55,
          "xanchor": "left",
          "xref": "x1",
          "y": 15,
          "yref": "y1"
         },
         {
          "align": "left",
          "font": {
           "color": "#000000",
           "size": 15
          },
          "showarrow": false,
          "text": "0",
          "x": 3.55,
          "xanchor": "left",
          "xref": "x1",
          "y": 15,
          "yref": "y1"
         },
         {
          "align": "left",
          "font": {
           "color": "#000000",
           "size": 15
          },
          "showarrow": false,
          "text": "0",
          "x": 4.55,
          "xanchor": "left",
          "xref": "x1",
          "y": 15,
          "yref": "y1"
         },
         {
          "align": "left",
          "font": {
           "color": "#000000",
           "size": 15
          },
          "showarrow": false,
          "text": "0",
          "x": 5.55,
          "xanchor": "left",
          "xref": "x1",
          "y": 15,
          "yref": "y1"
         },
         {
          "align": "left",
          "font": {
           "color": "#ffffff",
           "size": 15
          },
          "showarrow": false,
          "text": "<b>16</b>",
          "x": -0.45,
          "xanchor": "left",
          "xref": "x1",
          "y": 16,
          "yref": "y1"
         },
         {
          "align": "left",
          "font": {
           "color": "#000000",
           "size": 15
          },
          "showarrow": false,
          "text": "7",
          "x": 0.55,
          "xanchor": "left",
          "xref": "x1",
          "y": 16,
          "yref": "y1"
         },
         {
          "align": "left",
          "font": {
           "color": "#000000",
           "size": 15
          },
          "showarrow": false,
          "text": "9",
          "x": 1.55,
          "xanchor": "left",
          "xref": "x1",
          "y": 16,
          "yref": "y1"
         },
         {
          "align": "left",
          "font": {
           "color": "#000000",
           "size": 15
          },
          "showarrow": false,
          "text": "9",
          "x": 2.55,
          "xanchor": "left",
          "xref": "x1",
          "y": 16,
          "yref": "y1"
         },
         {
          "align": "left",
          "font": {
           "color": "#000000",
           "size": 15
          },
          "showarrow": false,
          "text": "3",
          "x": 3.55,
          "xanchor": "left",
          "xref": "x1",
          "y": 16,
          "yref": "y1"
         },
         {
          "align": "left",
          "font": {
           "color": "#000000",
           "size": 15
          },
          "showarrow": false,
          "text": "3",
          "x": 4.55,
          "xanchor": "left",
          "xref": "x1",
          "y": 16,
          "yref": "y1"
         },
         {
          "align": "left",
          "font": {
           "color": "#000000",
           "size": 15
          },
          "showarrow": false,
          "text": "3",
          "x": 5.55,
          "xanchor": "left",
          "xref": "x1",
          "y": 16,
          "yref": "y1"
         },
         {
          "align": "left",
          "font": {
           "color": "#ffffff",
           "size": 15
          },
          "showarrow": false,
          "text": "<b>17</b>",
          "x": -0.45,
          "xanchor": "left",
          "xref": "x1",
          "y": 17,
          "yref": "y1"
         },
         {
          "align": "left",
          "font": {
           "color": "#000000",
           "size": 15
          },
          "showarrow": false,
          "text": "2",
          "x": 0.55,
          "xanchor": "left",
          "xref": "x1",
          "y": 17,
          "yref": "y1"
         },
         {
          "align": "left",
          "font": {
           "color": "#000000",
           "size": 15
          },
          "showarrow": false,
          "text": "10",
          "x": 1.55,
          "xanchor": "left",
          "xref": "x1",
          "y": 17,
          "yref": "y1"
         },
         {
          "align": "left",
          "font": {
           "color": "#000000",
           "size": 15
          },
          "showarrow": false,
          "text": "10",
          "x": 2.55,
          "xanchor": "left",
          "xref": "x1",
          "y": 17,
          "yref": "y1"
         },
         {
          "align": "left",
          "font": {
           "color": "#000000",
           "size": 15
          },
          "showarrow": false,
          "text": "0",
          "x": 3.55,
          "xanchor": "left",
          "xref": "x1",
          "y": 17,
          "yref": "y1"
         },
         {
          "align": "left",
          "font": {
           "color": "#000000",
           "size": 15
          },
          "showarrow": false,
          "text": "0",
          "x": 4.55,
          "xanchor": "left",
          "xref": "x1",
          "y": 17,
          "yref": "y1"
         },
         {
          "align": "left",
          "font": {
           "color": "#000000",
           "size": 15
          },
          "showarrow": false,
          "text": "0",
          "x": 5.55,
          "xanchor": "left",
          "xref": "x1",
          "y": 17,
          "yref": "y1"
         },
         {
          "align": "left",
          "font": {
           "color": "#ffffff",
           "size": 15
          },
          "showarrow": false,
          "text": "<b>18</b>",
          "x": -0.45,
          "xanchor": "left",
          "xref": "x1",
          "y": 18,
          "yref": "y1"
         },
         {
          "align": "left",
          "font": {
           "color": "#000000",
           "size": 15
          },
          "showarrow": false,
          "text": "42",
          "x": 0.55,
          "xanchor": "left",
          "xref": "x1",
          "y": 18,
          "yref": "y1"
         },
         {
          "align": "left",
          "font": {
           "color": "#000000",
           "size": 15
          },
          "showarrow": false,
          "text": "1",
          "x": 1.55,
          "xanchor": "left",
          "xref": "x1",
          "y": 18,
          "yref": "y1"
         },
         {
          "align": "left",
          "font": {
           "color": "#000000",
           "size": 15
          },
          "showarrow": false,
          "text": "1",
          "x": 2.55,
          "xanchor": "left",
          "xref": "x1",
          "y": 18,
          "yref": "y1"
         },
         {
          "align": "left",
          "font": {
           "color": "#000000",
           "size": 15
          },
          "showarrow": false,
          "text": "1",
          "x": 3.55,
          "xanchor": "left",
          "xref": "x1",
          "y": 18,
          "yref": "y1"
         },
         {
          "align": "left",
          "font": {
           "color": "#000000",
           "size": 15
          },
          "showarrow": false,
          "text": "1",
          "x": 4.55,
          "xanchor": "left",
          "xref": "x1",
          "y": 18,
          "yref": "y1"
         },
         {
          "align": "left",
          "font": {
           "color": "#000000",
           "size": 15
          },
          "showarrow": false,
          "text": "1",
          "x": 5.55,
          "xanchor": "left",
          "xref": "x1",
          "y": 18,
          "yref": "y1"
         },
         {
          "align": "left",
          "font": {
           "color": "#ffffff",
           "size": 15
          },
          "showarrow": false,
          "text": "<b>19</b>",
          "x": -0.45,
          "xanchor": "left",
          "xref": "x1",
          "y": 19,
          "yref": "y1"
         },
         {
          "align": "left",
          "font": {
           "color": "#000000",
           "size": 15
          },
          "showarrow": false,
          "text": "7",
          "x": 0.55,
          "xanchor": "left",
          "xref": "x1",
          "y": 19,
          "yref": "y1"
         },
         {
          "align": "left",
          "font": {
           "color": "#000000",
           "size": 15
          },
          "showarrow": false,
          "text": "3",
          "x": 1.55,
          "xanchor": "left",
          "xref": "x1",
          "y": 19,
          "yref": "y1"
         },
         {
          "align": "left",
          "font": {
           "color": "#000000",
           "size": 15
          },
          "showarrow": false,
          "text": "3",
          "x": 2.55,
          "xanchor": "left",
          "xref": "x1",
          "y": 19,
          "yref": "y1"
         },
         {
          "align": "left",
          "font": {
           "color": "#000000",
           "size": 15
          },
          "showarrow": false,
          "text": "1",
          "x": 3.55,
          "xanchor": "left",
          "xref": "x1",
          "y": 19,
          "yref": "y1"
         },
         {
          "align": "left",
          "font": {
           "color": "#000000",
           "size": 15
          },
          "showarrow": false,
          "text": "1",
          "x": 4.55,
          "xanchor": "left",
          "xref": "x1",
          "y": 19,
          "yref": "y1"
         },
         {
          "align": "left",
          "font": {
           "color": "#000000",
           "size": 15
          },
          "showarrow": false,
          "text": "1",
          "x": 5.55,
          "xanchor": "left",
          "xref": "x1",
          "y": 19,
          "yref": "y1"
         },
         {
          "align": "left",
          "font": {
           "color": "#ffffff",
           "size": 15
          },
          "showarrow": false,
          "text": "<b>20</b>",
          "x": -0.45,
          "xanchor": "left",
          "xref": "x1",
          "y": 20,
          "yref": "y1"
         },
         {
          "align": "left",
          "font": {
           "color": "#000000",
           "size": 15
          },
          "showarrow": false,
          "text": "0",
          "x": 0.55,
          "xanchor": "left",
          "xref": "x1",
          "y": 20,
          "yref": "y1"
         },
         {
          "align": "left",
          "font": {
           "color": "#000000",
           "size": 15
          },
          "showarrow": false,
          "text": "2",
          "x": 1.55,
          "xanchor": "left",
          "xref": "x1",
          "y": 20,
          "yref": "y1"
         },
         {
          "align": "left",
          "font": {
           "color": "#000000",
           "size": 15
          },
          "showarrow": false,
          "text": "2",
          "x": 2.55,
          "xanchor": "left",
          "xref": "x1",
          "y": 20,
          "yref": "y1"
         },
         {
          "align": "left",
          "font": {
           "color": "#000000",
           "size": 15
          },
          "showarrow": false,
          "text": "2",
          "x": 3.55,
          "xanchor": "left",
          "xref": "x1",
          "y": 20,
          "yref": "y1"
         },
         {
          "align": "left",
          "font": {
           "color": "#000000",
           "size": 15
          },
          "showarrow": false,
          "text": "2",
          "x": 4.55,
          "xanchor": "left",
          "xref": "x1",
          "y": 20,
          "yref": "y1"
         },
         {
          "align": "left",
          "font": {
           "color": "#000000",
           "size": 15
          },
          "showarrow": false,
          "text": "2",
          "x": 5.55,
          "xanchor": "left",
          "xref": "x1",
          "y": 20,
          "yref": "y1"
         },
         {
          "align": "left",
          "font": {
           "color": "#ffffff",
           "size": 15
          },
          "showarrow": false,
          "text": "<b>21</b>",
          "x": -0.45,
          "xanchor": "left",
          "xref": "x1",
          "y": 21,
          "yref": "y1"
         },
         {
          "align": "left",
          "font": {
           "color": "#000000",
           "size": 15
          },
          "showarrow": false,
          "text": "1",
          "x": 0.55,
          "xanchor": "left",
          "xref": "x1",
          "y": 21,
          "yref": "y1"
         },
         {
          "align": "left",
          "font": {
           "color": "#000000",
           "size": 15
          },
          "showarrow": false,
          "text": "2",
          "x": 1.55,
          "xanchor": "left",
          "xref": "x1",
          "y": 21,
          "yref": "y1"
         },
         {
          "align": "left",
          "font": {
           "color": "#000000",
           "size": 15
          },
          "showarrow": false,
          "text": "2",
          "x": 2.55,
          "xanchor": "left",
          "xref": "x1",
          "y": 21,
          "yref": "y1"
         },
         {
          "align": "left",
          "font": {
           "color": "#000000",
           "size": 15
          },
          "showarrow": false,
          "text": "1",
          "x": 3.55,
          "xanchor": "left",
          "xref": "x1",
          "y": 21,
          "yref": "y1"
         },
         {
          "align": "left",
          "font": {
           "color": "#000000",
           "size": 15
          },
          "showarrow": false,
          "text": "1",
          "x": 4.55,
          "xanchor": "left",
          "xref": "x1",
          "y": 21,
          "yref": "y1"
         },
         {
          "align": "left",
          "font": {
           "color": "#000000",
           "size": 15
          },
          "showarrow": false,
          "text": "1",
          "x": 5.55,
          "xanchor": "left",
          "xref": "x1",
          "y": 21,
          "yref": "y1"
         },
         {
          "align": "left",
          "font": {
           "color": "#ffffff",
           "size": 15
          },
          "showarrow": false,
          "text": "<b>22</b>",
          "x": -0.45,
          "xanchor": "left",
          "xref": "x1",
          "y": 22,
          "yref": "y1"
         },
         {
          "align": "left",
          "font": {
           "color": "#000000",
           "size": 15
          },
          "showarrow": false,
          "text": "10",
          "x": 0.55,
          "xanchor": "left",
          "xref": "x1",
          "y": 22,
          "yref": "y1"
         },
         {
          "align": "left",
          "font": {
           "color": "#000000",
           "size": 15
          },
          "showarrow": false,
          "text": "2",
          "x": 1.55,
          "xanchor": "left",
          "xref": "x1",
          "y": 22,
          "yref": "y1"
         },
         {
          "align": "left",
          "font": {
           "color": "#000000",
           "size": 15
          },
          "showarrow": false,
          "text": "2",
          "x": 2.55,
          "xanchor": "left",
          "xref": "x1",
          "y": 22,
          "yref": "y1"
         },
         {
          "align": "left",
          "font": {
           "color": "#000000",
           "size": 15
          },
          "showarrow": false,
          "text": "2",
          "x": 3.55,
          "xanchor": "left",
          "xref": "x1",
          "y": 22,
          "yref": "y1"
         },
         {
          "align": "left",
          "font": {
           "color": "#000000",
           "size": 15
          },
          "showarrow": false,
          "text": "2",
          "x": 4.55,
          "xanchor": "left",
          "xref": "x1",
          "y": 22,
          "yref": "y1"
         },
         {
          "align": "left",
          "font": {
           "color": "#000000",
           "size": 15
          },
          "showarrow": false,
          "text": "2",
          "x": 5.55,
          "xanchor": "left",
          "xref": "x1",
          "y": 22,
          "yref": "y1"
         },
         {
          "align": "left",
          "font": {
           "color": "#ffffff",
           "size": 15
          },
          "showarrow": false,
          "text": "<b>23</b>",
          "x": -0.45,
          "xanchor": "left",
          "xref": "x1",
          "y": 23,
          "yref": "y1"
         },
         {
          "align": "left",
          "font": {
           "color": "#000000",
           "size": 15
          },
          "showarrow": false,
          "text": "1",
          "x": 0.55,
          "xanchor": "left",
          "xref": "x1",
          "y": 23,
          "yref": "y1"
         },
         {
          "align": "left",
          "font": {
           "color": "#000000",
           "size": 15
          },
          "showarrow": false,
          "text": "6",
          "x": 1.55,
          "xanchor": "left",
          "xref": "x1",
          "y": 23,
          "yref": "y1"
         },
         {
          "align": "left",
          "font": {
           "color": "#000000",
           "size": 15
          },
          "showarrow": false,
          "text": "6",
          "x": 2.55,
          "xanchor": "left",
          "xref": "x1",
          "y": 23,
          "yref": "y1"
         },
         {
          "align": "left",
          "font": {
           "color": "#000000",
           "size": 15
          },
          "showarrow": false,
          "text": "1",
          "x": 3.55,
          "xanchor": "left",
          "xref": "x1",
          "y": 23,
          "yref": "y1"
         },
         {
          "align": "left",
          "font": {
           "color": "#000000",
           "size": 15
          },
          "showarrow": false,
          "text": "1",
          "x": 4.55,
          "xanchor": "left",
          "xref": "x1",
          "y": 23,
          "yref": "y1"
         },
         {
          "align": "left",
          "font": {
           "color": "#000000",
           "size": 15
          },
          "showarrow": false,
          "text": "1",
          "x": 5.55,
          "xanchor": "left",
          "xref": "x1",
          "y": 23,
          "yref": "y1"
         },
         {
          "align": "left",
          "font": {
           "color": "#ffffff",
           "size": 15
          },
          "showarrow": false,
          "text": "<b>24</b>",
          "x": -0.45,
          "xanchor": "left",
          "xref": "x1",
          "y": 24,
          "yref": "y1"
         },
         {
          "align": "left",
          "font": {
           "color": "#000000",
           "size": 15
          },
          "showarrow": false,
          "text": "0",
          "x": 0.55,
          "xanchor": "left",
          "xref": "x1",
          "y": 24,
          "yref": "y1"
         },
         {
          "align": "left",
          "font": {
           "color": "#000000",
           "size": 15
          },
          "showarrow": false,
          "text": "0",
          "x": 1.55,
          "xanchor": "left",
          "xref": "x1",
          "y": 24,
          "yref": "y1"
         },
         {
          "align": "left",
          "font": {
           "color": "#000000",
           "size": 15
          },
          "showarrow": false,
          "text": "0",
          "x": 2.55,
          "xanchor": "left",
          "xref": "x1",
          "y": 24,
          "yref": "y1"
         },
         {
          "align": "left",
          "font": {
           "color": "#000000",
           "size": 15
          },
          "showarrow": false,
          "text": "0",
          "x": 3.55,
          "xanchor": "left",
          "xref": "x1",
          "y": 24,
          "yref": "y1"
         },
         {
          "align": "left",
          "font": {
           "color": "#000000",
           "size": 15
          },
          "showarrow": false,
          "text": "0",
          "x": 4.55,
          "xanchor": "left",
          "xref": "x1",
          "y": 24,
          "yref": "y1"
         },
         {
          "align": "left",
          "font": {
           "color": "#000000",
           "size": 15
          },
          "showarrow": false,
          "text": "0",
          "x": 5.55,
          "xanchor": "left",
          "xref": "x1",
          "y": 24,
          "yref": "y1"
         },
         {
          "align": "left",
          "font": {
           "color": "#ffffff",
           "size": 15
          },
          "showarrow": false,
          "text": "<b>25</b>",
          "x": -0.45,
          "xanchor": "left",
          "xref": "x1",
          "y": 25,
          "yref": "y1"
         },
         {
          "align": "left",
          "font": {
           "color": "#000000",
           "size": 15
          },
          "showarrow": false,
          "text": "9",
          "x": 0.55,
          "xanchor": "left",
          "xref": "x1",
          "y": 25,
          "yref": "y1"
         },
         {
          "align": "left",
          "font": {
           "color": "#000000",
           "size": 15
          },
          "showarrow": false,
          "text": "3",
          "x": 1.55,
          "xanchor": "left",
          "xref": "x1",
          "y": 25,
          "yref": "y1"
         },
         {
          "align": "left",
          "font": {
           "color": "#000000",
           "size": 15
          },
          "showarrow": false,
          "text": "3",
          "x": 2.55,
          "xanchor": "left",
          "xref": "x1",
          "y": 25,
          "yref": "y1"
         },
         {
          "align": "left",
          "font": {
           "color": "#000000",
           "size": 15
          },
          "showarrow": false,
          "text": "1",
          "x": 3.55,
          "xanchor": "left",
          "xref": "x1",
          "y": 25,
          "yref": "y1"
         },
         {
          "align": "left",
          "font": {
           "color": "#000000",
           "size": 15
          },
          "showarrow": false,
          "text": "1",
          "x": 4.55,
          "xanchor": "left",
          "xref": "x1",
          "y": 25,
          "yref": "y1"
         },
         {
          "align": "left",
          "font": {
           "color": "#000000",
           "size": 15
          },
          "showarrow": false,
          "text": "1",
          "x": 5.55,
          "xanchor": "left",
          "xref": "x1",
          "y": 25,
          "yref": "y1"
         }
        ],
        "height": 830,
        "margin": {
         "b": 0,
         "l": 0,
         "r": 0,
         "t": 0
        },
        "xaxis": {
         "dtick": 1,
         "gridwidth": 2,
         "showticklabels": false,
         "tick0": -0.5,
         "ticks": "",
         "zeroline": false
        },
        "yaxis": {
         "autorange": "reversed",
         "dtick": 1,
         "gridwidth": 2,
         "showticklabels": false,
         "tick0": 0.5,
         "ticks": "",
         "zeroline": false
        }
       }
      },
      "text/html": [
       "<div id=\"b00e83ec-035d-4c05-ab53-8340bfe0dc65\" style=\"height: 830px; width: 100%;\" class=\"plotly-graph-div\"></div><script type=\"text/javascript\">require([\"plotly\"], function(Plotly) { window.PLOTLYENV=window.PLOTLYENV || {};window.PLOTLYENV.BASE_URL=\"https://plot.ly\";Plotly.newPlot(\"b00e83ec-035d-4c05-ab53-8340bfe0dc65\", [{\"opacity\": 0.75, \"colorscale\": [[0, \"#00083e\"], [0.5, \"#ededee\"], [1, \"#ffffff\"]], \"showscale\": false, \"hoverinfo\": \"none\", \"z\": [[0, 0, 0, 0, 0, 0, 0], [0, 0.5, 0.5, 0.5, 0.5, 0.5, 0.5], [0, 1, 1, 1, 1, 1, 1], [0, 0.5, 0.5, 0.5, 0.5, 0.5, 0.5], [0, 1, 1, 1, 1, 1, 1], [0, 0.5, 0.5, 0.5, 0.5, 0.5, 0.5], [0, 1, 1, 1, 1, 1, 1], [0, 0.5, 0.5, 0.5, 0.5, 0.5, 0.5], [0, 1, 1, 1, 1, 1, 1], [0, 0.5, 0.5, 0.5, 0.5, 0.5, 0.5], [0, 1, 1, 1, 1, 1, 1], [0, 0.5, 0.5, 0.5, 0.5, 0.5, 0.5], [0, 1, 1, 1, 1, 1, 1], [0, 0.5, 0.5, 0.5, 0.5, 0.5, 0.5], [0, 1, 1, 1, 1, 1, 1], [0, 0.5, 0.5, 0.5, 0.5, 0.5, 0.5], [0, 1, 1, 1, 1, 1, 1], [0, 0.5, 0.5, 0.5, 0.5, 0.5, 0.5], [0, 1, 1, 1, 1, 1, 1], [0, 0.5, 0.5, 0.5, 0.5, 0.5, 0.5], [0, 1, 1, 1, 1, 1, 1], [0, 0.5, 0.5, 0.5, 0.5, 0.5, 0.5], [0, 1, 1, 1, 1, 1, 1], [0, 0.5, 0.5, 0.5, 0.5, 0.5, 0.5], [0, 1, 1, 1, 1, 1, 1], [0, 0.5, 0.5, 0.5, 0.5, 0.5, 0.5]], \"type\": \"heatmap\"}], {\"yaxis\": {\"showticklabels\": false, \"tick0\": 0.5, \"ticks\": \"\", \"gridwidth\": 2, \"dtick\": 1, \"zeroline\": false, \"autorange\": \"reversed\"}, \"margin\": {\"r\": 0, \"b\": 0, \"l\": 0, \"t\": 0}, \"annotations\": [{\"xref\": \"x1\", \"xanchor\": \"left\", \"yref\": \"y1\", \"text\": \"<b>Sim</b>\", \"align\": \"left\", \"y\": 0, \"x\": -0.45, \"font\": {\"color\": \"#ffffff\", \"size\": 15}, \"showarrow\": false}, {\"xref\": \"x1\", \"xanchor\": \"left\", \"yref\": \"y1\", \"text\": \"<b>Leaves Rem</b>\", \"align\": \"left\", \"y\": 0, \"x\": 0.55, \"font\": {\"color\": \"#ffffff\", \"size\": 15}, \"showarrow\": false}, {\"xref\": \"x1\", \"xanchor\": \"left\", \"yref\": \"y1\", \"text\": \"<b>PageRank</b>\", \"align\": \"left\", \"y\": 0, \"x\": 1.55, \"font\": {\"color\": \"#ffffff\", \"size\": 15}, \"showarrow\": false}, {\"xref\": \"x1\", \"xanchor\": \"left\", \"yref\": \"y1\", \"text\": \"<b>Degree</b>\", \"align\": \"left\", \"y\": 0, \"x\": 2.55, \"font\": {\"color\": \"#ffffff\", \"size\": 15}, \"showarrow\": false}, {\"xref\": \"x1\", \"xanchor\": \"left\", \"yref\": \"y1\", \"text\": \"<b>SZ</b>\", \"align\": \"left\", \"y\": 0, \"x\": 3.55, \"font\": {\"color\": \"#ffffff\", \"size\": 15}, \"showarrow\": false}, {\"xref\": \"x1\", \"xanchor\": \"left\", \"yref\": \"y1\", \"text\": \"<b>Simple</b>\", \"align\": \"left\", \"y\": 0, \"x\": 4.55, \"font\": {\"color\": \"#ffffff\", \"size\": 15}, \"showarrow\": false}, {\"xref\": \"x1\", \"xanchor\": \"left\", \"yref\": \"y1\", \"text\": \"<b>Distance</b>\", \"align\": \"left\", \"y\": 0, \"x\": 5.55, \"font\": {\"color\": \"#ffffff\", \"size\": 15}, \"showarrow\": false}, {\"xref\": \"x1\", \"xanchor\": \"left\", \"yref\": \"y1\", \"text\": \"<b>1</b>\", \"align\": \"left\", \"y\": 1, \"x\": -0.45, \"font\": {\"color\": \"#ffffff\", \"size\": 15}, \"showarrow\": false}, {\"xref\": \"x1\", \"xanchor\": \"left\", \"yref\": \"y1\", \"text\": \"0\", \"align\": \"left\", \"y\": 1, \"x\": 0.55, \"font\": {\"color\": \"#000000\", \"size\": 15}, \"showarrow\": false}, {\"xref\": \"x1\", \"xanchor\": \"left\", \"yref\": \"y1\", \"text\": \"4\", \"align\": \"left\", \"y\": 1, \"x\": 1.55, \"font\": {\"color\": \"#000000\", \"size\": 15}, \"showarrow\": false}, {\"xref\": \"x1\", \"xanchor\": \"left\", \"yref\": \"y1\", \"text\": \"6\", \"align\": \"left\", \"y\": 1, \"x\": 2.55, \"font\": {\"color\": \"#000000\", \"size\": 15}, \"showarrow\": false}, {\"xref\": \"x1\", \"xanchor\": \"left\", \"yref\": \"y1\", \"text\": \"1\", \"align\": \"left\", \"y\": 1, \"x\": 3.55, \"font\": {\"color\": \"#000000\", \"size\": 15}, \"showarrow\": false}, {\"xref\": \"x1\", \"xanchor\": \"left\", \"yref\": \"y1\", \"text\": \"1\", \"align\": \"left\", \"y\": 1, \"x\": 4.55, \"font\": {\"color\": \"#000000\", \"size\": 15}, \"showarrow\": false}, {\"xref\": \"x1\", \"xanchor\": \"left\", \"yref\": \"y1\", \"text\": \"1\", \"align\": \"left\", \"y\": 1, \"x\": 5.55, \"font\": {\"color\": \"#000000\", \"size\": 15}, \"showarrow\": false}, {\"xref\": \"x1\", \"xanchor\": \"left\", \"yref\": \"y1\", \"text\": \"<b>2</b>\", \"align\": \"left\", \"y\": 2, \"x\": -0.45, \"font\": {\"color\": \"#ffffff\", \"size\": 15}, \"showarrow\": false}, {\"xref\": \"x1\", \"xanchor\": \"left\", \"yref\": \"y1\", \"text\": \"14\", \"align\": \"left\", \"y\": 2, \"x\": 0.55, \"font\": {\"color\": \"#000000\", \"size\": 15}, \"showarrow\": false}, {\"xref\": \"x1\", \"xanchor\": \"left\", \"yref\": \"y1\", \"text\": \"3\", \"align\": \"left\", \"y\": 2, \"x\": 1.55, \"font\": {\"color\": \"#000000\", \"size\": 15}, \"showarrow\": false}, {\"xref\": \"x1\", \"xanchor\": \"left\", \"yref\": \"y1\", \"text\": \"3\", \"align\": \"left\", \"y\": 2, \"x\": 2.55, \"font\": {\"color\": \"#000000\", \"size\": 15}, \"showarrow\": false}, {\"xref\": \"x1\", \"xanchor\": \"left\", \"yref\": \"y1\", \"text\": \"5\", \"align\": \"left\", \"y\": 2, \"x\": 3.55, \"font\": {\"color\": \"#000000\", \"size\": 15}, \"showarrow\": false}, {\"xref\": \"x1\", \"xanchor\": \"left\", \"yref\": \"y1\", \"text\": \"5\", \"align\": \"left\", \"y\": 2, \"x\": 4.55, \"font\": {\"color\": \"#000000\", \"size\": 15}, \"showarrow\": false}, {\"xref\": \"x1\", \"xanchor\": \"left\", \"yref\": \"y1\", \"text\": \"5\", \"align\": \"left\", \"y\": 2, \"x\": 5.55, \"font\": {\"color\": \"#000000\", \"size\": 15}, \"showarrow\": false}, {\"xref\": \"x1\", \"xanchor\": \"left\", \"yref\": \"y1\", \"text\": \"<b>3</b>\", \"align\": \"left\", \"y\": 3, \"x\": -0.45, \"font\": {\"color\": \"#ffffff\", \"size\": 15}, \"showarrow\": false}, {\"xref\": \"x1\", \"xanchor\": \"left\", \"yref\": \"y1\", \"text\": \"7\", \"align\": \"left\", \"y\": 3, \"x\": 0.55, \"font\": {\"color\": \"#000000\", \"size\": 15}, \"showarrow\": false}, {\"xref\": \"x1\", \"xanchor\": \"left\", \"yref\": \"y1\", \"text\": \"0\", \"align\": \"left\", \"y\": 3, \"x\": 1.55, \"font\": {\"color\": \"#000000\", \"size\": 15}, \"showarrow\": false}, {\"xref\": \"x1\", \"xanchor\": \"left\", \"yref\": \"y1\", \"text\": \"0\", \"align\": \"left\", \"y\": 3, \"x\": 2.55, \"font\": {\"color\": \"#000000\", \"size\": 15}, \"showarrow\": false}, {\"xref\": \"x1\", \"xanchor\": \"left\", \"yref\": \"y1\", \"text\": \"0\", \"align\": \"left\", \"y\": 3, \"x\": 3.55, \"font\": {\"color\": \"#000000\", \"size\": 15}, \"showarrow\": false}, {\"xref\": \"x1\", \"xanchor\": \"left\", \"yref\": \"y1\", \"text\": \"0\", \"align\": \"left\", \"y\": 3, \"x\": 4.55, \"font\": {\"color\": \"#000000\", \"size\": 15}, \"showarrow\": false}, {\"xref\": \"x1\", \"xanchor\": \"left\", \"yref\": \"y1\", \"text\": \"0\", \"align\": \"left\", \"y\": 3, \"x\": 5.55, \"font\": {\"color\": \"#000000\", \"size\": 15}, \"showarrow\": false}, {\"xref\": \"x1\", \"xanchor\": \"left\", \"yref\": \"y1\", \"text\": \"<b>4</b>\", \"align\": \"left\", \"y\": 4, \"x\": -0.45, \"font\": {\"color\": \"#ffffff\", \"size\": 15}, \"showarrow\": false}, {\"xref\": \"x1\", \"xanchor\": \"left\", \"yref\": \"y1\", \"text\": \"4\", \"align\": \"left\", \"y\": 4, \"x\": 0.55, \"font\": {\"color\": \"#000000\", \"size\": 15}, \"showarrow\": false}, {\"xref\": \"x1\", \"xanchor\": \"left\", \"yref\": \"y1\", \"text\": \"7\", \"align\": \"left\", \"y\": 4, \"x\": 1.55, \"font\": {\"color\": \"#000000\", \"size\": 15}, \"showarrow\": false}, {\"xref\": \"x1\", \"xanchor\": \"left\", \"yref\": \"y1\", \"text\": \"0\", \"align\": \"left\", \"y\": 4, \"x\": 2.55, \"font\": {\"color\": \"#000000\", \"size\": 15}, \"showarrow\": false}, {\"xref\": \"x1\", \"xanchor\": \"left\", \"yref\": \"y1\", \"text\": \"1\", \"align\": \"left\", \"y\": 4, \"x\": 3.55, \"font\": {\"color\": \"#000000\", \"size\": 15}, \"showarrow\": false}, {\"xref\": \"x1\", \"xanchor\": \"left\", \"yref\": \"y1\", \"text\": \"1\", \"align\": \"left\", \"y\": 4, \"x\": 4.55, \"font\": {\"color\": \"#000000\", \"size\": 15}, \"showarrow\": false}, {\"xref\": \"x1\", \"xanchor\": \"left\", \"yref\": \"y1\", \"text\": \"1\", \"align\": \"left\", \"y\": 4, \"x\": 5.55, \"font\": {\"color\": \"#000000\", \"size\": 15}, \"showarrow\": false}, {\"xref\": \"x1\", \"xanchor\": \"left\", \"yref\": \"y1\", \"text\": \"<b>5</b>\", \"align\": \"left\", \"y\": 5, \"x\": -0.45, \"font\": {\"color\": \"#ffffff\", \"size\": 15}, \"showarrow\": false}, {\"xref\": \"x1\", \"xanchor\": \"left\", \"yref\": \"y1\", \"text\": \"11\", \"align\": \"left\", \"y\": 5, \"x\": 0.55, \"font\": {\"color\": \"#000000\", \"size\": 15}, \"showarrow\": false}, {\"xref\": \"x1\", \"xanchor\": \"left\", \"yref\": \"y1\", \"text\": \"1\", \"align\": \"left\", \"y\": 5, \"x\": 1.55, \"font\": {\"color\": \"#000000\", \"size\": 15}, \"showarrow\": false}, {\"xref\": \"x1\", \"xanchor\": \"left\", \"yref\": \"y1\", \"text\": \"1\", \"align\": \"left\", \"y\": 5, \"x\": 2.55, \"font\": {\"color\": \"#000000\", \"size\": 15}, \"showarrow\": false}, {\"xref\": \"x1\", \"xanchor\": \"left\", \"yref\": \"y1\", \"text\": \"1\", \"align\": \"left\", \"y\": 5, \"x\": 3.55, \"font\": {\"color\": \"#000000\", \"size\": 15}, \"showarrow\": false}, {\"xref\": \"x1\", \"xanchor\": \"left\", \"yref\": \"y1\", \"text\": \"1\", \"align\": \"left\", \"y\": 5, \"x\": 4.55, \"font\": {\"color\": \"#000000\", \"size\": 15}, \"showarrow\": false}, {\"xref\": \"x1\", \"xanchor\": \"left\", \"yref\": \"y1\", \"text\": \"1\", \"align\": \"left\", \"y\": 5, \"x\": 5.55, \"font\": {\"color\": \"#000000\", \"size\": 15}, \"showarrow\": false}, {\"xref\": \"x1\", \"xanchor\": \"left\", \"yref\": \"y1\", \"text\": \"<b>6</b>\", \"align\": \"left\", \"y\": 6, \"x\": -0.45, \"font\": {\"color\": \"#ffffff\", \"size\": 15}, \"showarrow\": false}, {\"xref\": \"x1\", \"xanchor\": \"left\", \"yref\": \"y1\", \"text\": \"1\", \"align\": \"left\", \"y\": 6, \"x\": 0.55, \"font\": {\"color\": \"#000000\", \"size\": 15}, \"showarrow\": false}, {\"xref\": \"x1\", \"xanchor\": \"left\", \"yref\": \"y1\", \"text\": \"10\", \"align\": \"left\", \"y\": 6, \"x\": 1.55, \"font\": {\"color\": \"#000000\", \"size\": 15}, \"showarrow\": false}, {\"xref\": \"x1\", \"xanchor\": \"left\", \"yref\": \"y1\", \"text\": \"10\", \"align\": \"left\", \"y\": 6, \"x\": 2.55, \"font\": {\"color\": \"#000000\", \"size\": 15}, \"showarrow\": false}, {\"xref\": \"x1\", \"xanchor\": \"left\", \"yref\": \"y1\", \"text\": \"0\", \"align\": \"left\", \"y\": 6, \"x\": 3.55, \"font\": {\"color\": \"#000000\", \"size\": 15}, \"showarrow\": false}, {\"xref\": \"x1\", \"xanchor\": \"left\", \"yref\": \"y1\", \"text\": \"0\", \"align\": \"left\", \"y\": 6, \"x\": 4.55, \"font\": {\"color\": \"#000000\", \"size\": 15}, \"showarrow\": false}, {\"xref\": \"x1\", \"xanchor\": \"left\", \"yref\": \"y1\", \"text\": \"0\", \"align\": \"left\", \"y\": 6, \"x\": 5.55, \"font\": {\"color\": \"#000000\", \"size\": 15}, \"showarrow\": false}, {\"xref\": \"x1\", \"xanchor\": \"left\", \"yref\": \"y1\", \"text\": \"<b>7</b>\", \"align\": \"left\", \"y\": 7, \"x\": -0.45, \"font\": {\"color\": \"#ffffff\", \"size\": 15}, \"showarrow\": false}, {\"xref\": \"x1\", \"xanchor\": \"left\", \"yref\": \"y1\", \"text\": \"1\", \"align\": \"left\", \"y\": 7, \"x\": 0.55, \"font\": {\"color\": \"#000000\", \"size\": 15}, \"showarrow\": false}, {\"xref\": \"x1\", \"xanchor\": \"left\", \"yref\": \"y1\", \"text\": \"0\", \"align\": \"left\", \"y\": 7, \"x\": 1.55, \"font\": {\"color\": \"#000000\", \"size\": 15}, \"showarrow\": false}, {\"xref\": \"x1\", \"xanchor\": \"left\", \"yref\": \"y1\", \"text\": \"0\", \"align\": \"left\", \"y\": 7, \"x\": 2.55, \"font\": {\"color\": \"#000000\", \"size\": 15}, \"showarrow\": false}, {\"xref\": \"x1\", \"xanchor\": \"left\", \"yref\": \"y1\", \"text\": \"0\", \"align\": \"left\", \"y\": 7, \"x\": 3.55, \"font\": {\"color\": \"#000000\", \"size\": 15}, \"showarrow\": false}, {\"xref\": \"x1\", \"xanchor\": \"left\", \"yref\": \"y1\", \"text\": \"0\", \"align\": \"left\", \"y\": 7, \"x\": 4.55, \"font\": {\"color\": \"#000000\", \"size\": 15}, \"showarrow\": false}, {\"xref\": \"x1\", \"xanchor\": \"left\", \"yref\": \"y1\", \"text\": \"0\", \"align\": \"left\", \"y\": 7, \"x\": 5.55, \"font\": {\"color\": \"#000000\", \"size\": 15}, \"showarrow\": false}, {\"xref\": \"x1\", \"xanchor\": \"left\", \"yref\": \"y1\", \"text\": \"<b>8</b>\", \"align\": \"left\", \"y\": 8, \"x\": -0.45, \"font\": {\"color\": \"#ffffff\", \"size\": 15}, \"showarrow\": false}, {\"xref\": \"x1\", \"xanchor\": \"left\", \"yref\": \"y1\", \"text\": \"1\", \"align\": \"left\", \"y\": 8, \"x\": 0.55, \"font\": {\"color\": \"#000000\", \"size\": 15}, \"showarrow\": false}, {\"xref\": \"x1\", \"xanchor\": \"left\", \"yref\": \"y1\", \"text\": \"16\", \"align\": \"left\", \"y\": 8, \"x\": 1.55, \"font\": {\"color\": \"#000000\", \"size\": 15}, \"showarrow\": false}, {\"xref\": \"x1\", \"xanchor\": \"left\", \"yref\": \"y1\", \"text\": \"10\", \"align\": \"left\", \"y\": 8, \"x\": 2.55, \"font\": {\"color\": \"#000000\", \"size\": 15}, \"showarrow\": false}, {\"xref\": \"x1\", \"xanchor\": \"left\", \"yref\": \"y1\", \"text\": \"1\", \"align\": \"left\", \"y\": 8, \"x\": 3.55, \"font\": {\"color\": \"#000000\", \"size\": 15}, \"showarrow\": false}, {\"xref\": \"x1\", \"xanchor\": \"left\", \"yref\": \"y1\", \"text\": \"1\", \"align\": \"left\", \"y\": 8, \"x\": 4.55, \"font\": {\"color\": \"#000000\", \"size\": 15}, \"showarrow\": false}, {\"xref\": \"x1\", \"xanchor\": \"left\", \"yref\": \"y1\", \"text\": \"1\", \"align\": \"left\", \"y\": 8, \"x\": 5.55, \"font\": {\"color\": \"#000000\", \"size\": 15}, \"showarrow\": false}, {\"xref\": \"x1\", \"xanchor\": \"left\", \"yref\": \"y1\", \"text\": \"<b>9</b>\", \"align\": \"left\", \"y\": 9, \"x\": -0.45, \"font\": {\"color\": \"#ffffff\", \"size\": 15}, \"showarrow\": false}, {\"xref\": \"x1\", \"xanchor\": \"left\", \"yref\": \"y1\", \"text\": \"13\", \"align\": \"left\", \"y\": 9, \"x\": 0.55, \"font\": {\"color\": \"#000000\", \"size\": 15}, \"showarrow\": false}, {\"xref\": \"x1\", \"xanchor\": \"left\", \"yref\": \"y1\", \"text\": \"17\", \"align\": \"left\", \"y\": 9, \"x\": 1.55, \"font\": {\"color\": \"#000000\", \"size\": 15}, \"showarrow\": false}, {\"xref\": \"x1\", \"xanchor\": \"left\", \"yref\": \"y1\", \"text\": \"1\", \"align\": \"left\", \"y\": 9, \"x\": 2.55, \"font\": {\"color\": \"#000000\", \"size\": 15}, \"showarrow\": false}, {\"xref\": \"x1\", \"xanchor\": \"left\", \"yref\": \"y1\", \"text\": \"2\", \"align\": \"left\", \"y\": 9, \"x\": 3.55, \"font\": {\"color\": \"#000000\", \"size\": 15}, \"showarrow\": false}, {\"xref\": \"x1\", \"xanchor\": \"left\", \"yref\": \"y1\", \"text\": \"2\", \"align\": \"left\", \"y\": 9, \"x\": 4.55, \"font\": {\"color\": \"#000000\", \"size\": 15}, \"showarrow\": false}, {\"xref\": \"x1\", \"xanchor\": \"left\", \"yref\": \"y1\", \"text\": \"2\", \"align\": \"left\", \"y\": 9, \"x\": 5.55, \"font\": {\"color\": \"#000000\", \"size\": 15}, \"showarrow\": false}, {\"xref\": \"x1\", \"xanchor\": \"left\", \"yref\": \"y1\", \"text\": \"<b>10</b>\", \"align\": \"left\", \"y\": 10, \"x\": -0.45, \"font\": {\"color\": \"#ffffff\", \"size\": 15}, \"showarrow\": false}, {\"xref\": \"x1\", \"xanchor\": \"left\", \"yref\": \"y1\", \"text\": \"4\", \"align\": \"left\", \"y\": 10, \"x\": 0.55, \"font\": {\"color\": \"#000000\", \"size\": 15}, \"showarrow\": false}, {\"xref\": \"x1\", \"xanchor\": \"left\", \"yref\": \"y1\", \"text\": \"1\", \"align\": \"left\", \"y\": 10, \"x\": 1.55, \"font\": {\"color\": \"#000000\", \"size\": 15}, \"showarrow\": false}, {\"xref\": \"x1\", \"xanchor\": \"left\", \"yref\": \"y1\", \"text\": \"1\", \"align\": \"left\", \"y\": 10, \"x\": 2.55, \"font\": {\"color\": \"#000000\", \"size\": 15}, \"showarrow\": false}, {\"xref\": \"x1\", \"xanchor\": \"left\", \"yref\": \"y1\", \"text\": \"1\", \"align\": \"left\", \"y\": 10, \"x\": 3.55, \"font\": {\"color\": \"#000000\", \"size\": 15}, \"showarrow\": false}, {\"xref\": \"x1\", \"xanchor\": \"left\", \"yref\": \"y1\", \"text\": \"1\", \"align\": \"left\", \"y\": 10, \"x\": 4.55, \"font\": {\"color\": \"#000000\", \"size\": 15}, \"showarrow\": false}, {\"xref\": \"x1\", \"xanchor\": \"left\", \"yref\": \"y1\", \"text\": \"1\", \"align\": \"left\", \"y\": 10, \"x\": 5.55, \"font\": {\"color\": \"#000000\", \"size\": 15}, \"showarrow\": false}, {\"xref\": \"x1\", \"xanchor\": \"left\", \"yref\": \"y1\", \"text\": \"<b>11</b>\", \"align\": \"left\", \"y\": 11, \"x\": -0.45, \"font\": {\"color\": \"#ffffff\", \"size\": 15}, \"showarrow\": false}, {\"xref\": \"x1\", \"xanchor\": \"left\", \"yref\": \"y1\", \"text\": \"25\", \"align\": \"left\", \"y\": 11, \"x\": 0.55, \"font\": {\"color\": \"#000000\", \"size\": 15}, \"showarrow\": false}, {\"xref\": \"x1\", \"xanchor\": \"left\", \"yref\": \"y1\", \"text\": \"1\", \"align\": \"left\", \"y\": 11, \"x\": 1.55, \"font\": {\"color\": \"#000000\", \"size\": 15}, \"showarrow\": false}, {\"xref\": \"x1\", \"xanchor\": \"left\", \"yref\": \"y1\", \"text\": \"1\", \"align\": \"left\", \"y\": 11, \"x\": 2.55, \"font\": {\"color\": \"#000000\", \"size\": 15}, \"showarrow\": false}, {\"xref\": \"x1\", \"xanchor\": \"left\", \"yref\": \"y1\", \"text\": \"1\", \"align\": \"left\", \"y\": 11, \"x\": 3.55, \"font\": {\"color\": \"#000000\", \"size\": 15}, \"showarrow\": false}, {\"xref\": \"x1\", \"xanchor\": \"left\", \"yref\": \"y1\", \"text\": \"1\", \"align\": \"left\", \"y\": 11, \"x\": 4.55, \"font\": {\"color\": \"#000000\", \"size\": 15}, \"showarrow\": false}, {\"xref\": \"x1\", \"xanchor\": \"left\", \"yref\": \"y1\", \"text\": \"1\", \"align\": \"left\", \"y\": 11, \"x\": 5.55, \"font\": {\"color\": \"#000000\", \"size\": 15}, \"showarrow\": false}, {\"xref\": \"x1\", \"xanchor\": \"left\", \"yref\": \"y1\", \"text\": \"<b>12</b>\", \"align\": \"left\", \"y\": 12, \"x\": -0.45, \"font\": {\"color\": \"#ffffff\", \"size\": 15}, \"showarrow\": false}, {\"xref\": \"x1\", \"xanchor\": \"left\", \"yref\": \"y1\", \"text\": \"12\", \"align\": \"left\", \"y\": 12, \"x\": 0.55, \"font\": {\"color\": \"#000000\", \"size\": 15}, \"showarrow\": false}, {\"xref\": \"x1\", \"xanchor\": \"left\", \"yref\": \"y1\", \"text\": \"25\", \"align\": \"left\", \"y\": 12, \"x\": 1.55, \"font\": {\"color\": \"#000000\", \"size\": 15}, \"showarrow\": false}, {\"xref\": \"x1\", \"xanchor\": \"left\", \"yref\": \"y1\", \"text\": \"10\", \"align\": \"left\", \"y\": 12, \"x\": 2.55, \"font\": {\"color\": \"#000000\", \"size\": 15}, \"showarrow\": false}, {\"xref\": \"x1\", \"xanchor\": \"left\", \"yref\": \"y1\", \"text\": \"4\", \"align\": \"left\", \"y\": 12, \"x\": 3.55, \"font\": {\"color\": \"#000000\", \"size\": 15}, \"showarrow\": false}, {\"xref\": \"x1\", \"xanchor\": \"left\", \"yref\": \"y1\", \"text\": \"4\", \"align\": \"left\", \"y\": 12, \"x\": 4.55, \"font\": {\"color\": \"#000000\", \"size\": 15}, \"showarrow\": false}, {\"xref\": \"x1\", \"xanchor\": \"left\", \"yref\": \"y1\", \"text\": \"4\", \"align\": \"left\", \"y\": 12, \"x\": 5.55, \"font\": {\"color\": \"#000000\", \"size\": 15}, \"showarrow\": false}, {\"xref\": \"x1\", \"xanchor\": \"left\", \"yref\": \"y1\", \"text\": \"<b>13</b>\", \"align\": \"left\", \"y\": 13, \"x\": -0.45, \"font\": {\"color\": \"#ffffff\", \"size\": 15}, \"showarrow\": false}, {\"xref\": \"x1\", \"xanchor\": \"left\", \"yref\": \"y1\", \"text\": \"1\", \"align\": \"left\", \"y\": 13, \"x\": 0.55, \"font\": {\"color\": \"#000000\", \"size\": 15}, \"showarrow\": false}, {\"xref\": \"x1\", \"xanchor\": \"left\", \"yref\": \"y1\", \"text\": \"7\", \"align\": \"left\", \"y\": 13, \"x\": 1.55, \"font\": {\"color\": \"#000000\", \"size\": 15}, \"showarrow\": false}, {\"xref\": \"x1\", \"xanchor\": \"left\", \"yref\": \"y1\", \"text\": \"7\", \"align\": \"left\", \"y\": 13, \"x\": 2.55, \"font\": {\"color\": \"#000000\", \"size\": 15}, \"showarrow\": false}, {\"xref\": \"x1\", \"xanchor\": \"left\", \"yref\": \"y1\", \"text\": \"0\", \"align\": \"left\", \"y\": 13, \"x\": 3.55, \"font\": {\"color\": \"#000000\", \"size\": 15}, \"showarrow\": false}, {\"xref\": \"x1\", \"xanchor\": \"left\", \"yref\": \"y1\", \"text\": \"0\", \"align\": \"left\", \"y\": 13, \"x\": 4.55, \"font\": {\"color\": \"#000000\", \"size\": 15}, \"showarrow\": false}, {\"xref\": \"x1\", \"xanchor\": \"left\", \"yref\": \"y1\", \"text\": \"0\", \"align\": \"left\", \"y\": 13, \"x\": 5.55, \"font\": {\"color\": \"#000000\", \"size\": 15}, \"showarrow\": false}, {\"xref\": \"x1\", \"xanchor\": \"left\", \"yref\": \"y1\", \"text\": \"<b>14</b>\", \"align\": \"left\", \"y\": 14, \"x\": -0.45, \"font\": {\"color\": \"#ffffff\", \"size\": 15}, \"showarrow\": false}, {\"xref\": \"x1\", \"xanchor\": \"left\", \"yref\": \"y1\", \"text\": \"6\", \"align\": \"left\", \"y\": 14, \"x\": 0.55, \"font\": {\"color\": \"#000000\", \"size\": 15}, \"showarrow\": false}, {\"xref\": \"x1\", \"xanchor\": \"left\", \"yref\": \"y1\", \"text\": \"2\", \"align\": \"left\", \"y\": 14, \"x\": 1.55, \"font\": {\"color\": \"#000000\", \"size\": 15}, \"showarrow\": false}, {\"xref\": \"x1\", \"xanchor\": \"left\", \"yref\": \"y1\", \"text\": \"2\", \"align\": \"left\", \"y\": 14, \"x\": 2.55, \"font\": {\"color\": \"#000000\", \"size\": 15}, \"showarrow\": false}, {\"xref\": \"x1\", \"xanchor\": \"left\", \"yref\": \"y1\", \"text\": \"2\", \"align\": \"left\", \"y\": 14, \"x\": 3.55, \"font\": {\"color\": \"#000000\", \"size\": 15}, \"showarrow\": false}, {\"xref\": \"x1\", \"xanchor\": \"left\", \"yref\": \"y1\", \"text\": \"2\", \"align\": \"left\", \"y\": 14, \"x\": 4.55, \"font\": {\"color\": \"#000000\", \"size\": 15}, \"showarrow\": false}, {\"xref\": \"x1\", \"xanchor\": \"left\", \"yref\": \"y1\", \"text\": \"2\", \"align\": \"left\", \"y\": 14, \"x\": 5.55, \"font\": {\"color\": \"#000000\", \"size\": 15}, \"showarrow\": false}, {\"xref\": \"x1\", \"xanchor\": \"left\", \"yref\": \"y1\", \"text\": \"<b>15</b>\", \"align\": \"left\", \"y\": 15, \"x\": -0.45, \"font\": {\"color\": \"#ffffff\", \"size\": 15}, \"showarrow\": false}, {\"xref\": \"x1\", \"xanchor\": \"left\", \"yref\": \"y1\", \"text\": \"14\", \"align\": \"left\", \"y\": 15, \"x\": 0.55, \"font\": {\"color\": \"#000000\", \"size\": 15}, \"showarrow\": false}, {\"xref\": \"x1\", \"xanchor\": \"left\", \"yref\": \"y1\", \"text\": \"3\", \"align\": \"left\", \"y\": 15, \"x\": 1.55, \"font\": {\"color\": \"#000000\", \"size\": 15}, \"showarrow\": false}, {\"xref\": \"x1\", \"xanchor\": \"left\", \"yref\": \"y1\", \"text\": \"0\", \"align\": \"left\", \"y\": 15, \"x\": 2.55, \"font\": {\"color\": \"#000000\", \"size\": 15}, \"showarrow\": false}, {\"xref\": \"x1\", \"xanchor\": \"left\", \"yref\": \"y1\", \"text\": \"0\", \"align\": \"left\", \"y\": 15, \"x\": 3.55, \"font\": {\"color\": \"#000000\", \"size\": 15}, \"showarrow\": false}, {\"xref\": \"x1\", \"xanchor\": \"left\", \"yref\": \"y1\", \"text\": \"0\", \"align\": \"left\", \"y\": 15, \"x\": 4.55, \"font\": {\"color\": \"#000000\", \"size\": 15}, \"showarrow\": false}, {\"xref\": \"x1\", \"xanchor\": \"left\", \"yref\": \"y1\", \"text\": \"0\", \"align\": \"left\", \"y\": 15, \"x\": 5.55, \"font\": {\"color\": \"#000000\", \"size\": 15}, \"showarrow\": false}, {\"xref\": \"x1\", \"xanchor\": \"left\", \"yref\": \"y1\", \"text\": \"<b>16</b>\", \"align\": \"left\", \"y\": 16, \"x\": -0.45, \"font\": {\"color\": \"#ffffff\", \"size\": 15}, \"showarrow\": false}, {\"xref\": \"x1\", \"xanchor\": \"left\", \"yref\": \"y1\", \"text\": \"7\", \"align\": \"left\", \"y\": 16, \"x\": 0.55, \"font\": {\"color\": \"#000000\", \"size\": 15}, \"showarrow\": false}, {\"xref\": \"x1\", \"xanchor\": \"left\", \"yref\": \"y1\", \"text\": \"9\", \"align\": \"left\", \"y\": 16, \"x\": 1.55, \"font\": {\"color\": \"#000000\", \"size\": 15}, \"showarrow\": false}, {\"xref\": \"x1\", \"xanchor\": \"left\", \"yref\": \"y1\", \"text\": \"9\", \"align\": \"left\", \"y\": 16, \"x\": 2.55, \"font\": {\"color\": \"#000000\", \"size\": 15}, \"showarrow\": false}, {\"xref\": \"x1\", \"xanchor\": \"left\", \"yref\": \"y1\", \"text\": \"3\", \"align\": \"left\", \"y\": 16, \"x\": 3.55, \"font\": {\"color\": \"#000000\", \"size\": 15}, \"showarrow\": false}, {\"xref\": \"x1\", \"xanchor\": \"left\", \"yref\": \"y1\", \"text\": \"3\", \"align\": \"left\", \"y\": 16, \"x\": 4.55, \"font\": {\"color\": \"#000000\", \"size\": 15}, \"showarrow\": false}, {\"xref\": \"x1\", \"xanchor\": \"left\", \"yref\": \"y1\", \"text\": \"3\", \"align\": \"left\", \"y\": 16, \"x\": 5.55, \"font\": {\"color\": \"#000000\", \"size\": 15}, \"showarrow\": false}, {\"xref\": \"x1\", \"xanchor\": \"left\", \"yref\": \"y1\", \"text\": \"<b>17</b>\", \"align\": \"left\", \"y\": 17, \"x\": -0.45, \"font\": {\"color\": \"#ffffff\", \"size\": 15}, \"showarrow\": false}, {\"xref\": \"x1\", \"xanchor\": \"left\", \"yref\": \"y1\", \"text\": \"2\", \"align\": \"left\", \"y\": 17, \"x\": 0.55, \"font\": {\"color\": \"#000000\", \"size\": 15}, \"showarrow\": false}, {\"xref\": \"x1\", \"xanchor\": \"left\", \"yref\": \"y1\", \"text\": \"10\", \"align\": \"left\", \"y\": 17, \"x\": 1.55, \"font\": {\"color\": \"#000000\", \"size\": 15}, \"showarrow\": false}, {\"xref\": \"x1\", \"xanchor\": \"left\", \"yref\": \"y1\", \"text\": \"10\", \"align\": \"left\", \"y\": 17, \"x\": 2.55, \"font\": {\"color\": \"#000000\", \"size\": 15}, \"showarrow\": false}, {\"xref\": \"x1\", \"xanchor\": \"left\", \"yref\": \"y1\", \"text\": \"0\", \"align\": \"left\", \"y\": 17, \"x\": 3.55, \"font\": {\"color\": \"#000000\", \"size\": 15}, \"showarrow\": false}, {\"xref\": \"x1\", \"xanchor\": \"left\", \"yref\": \"y1\", \"text\": \"0\", \"align\": \"left\", \"y\": 17, \"x\": 4.55, \"font\": {\"color\": \"#000000\", \"size\": 15}, \"showarrow\": false}, {\"xref\": \"x1\", \"xanchor\": \"left\", \"yref\": \"y1\", \"text\": \"0\", \"align\": \"left\", \"y\": 17, \"x\": 5.55, \"font\": {\"color\": \"#000000\", \"size\": 15}, \"showarrow\": false}, {\"xref\": \"x1\", \"xanchor\": \"left\", \"yref\": \"y1\", \"text\": \"<b>18</b>\", \"align\": \"left\", \"y\": 18, \"x\": -0.45, \"font\": {\"color\": \"#ffffff\", \"size\": 15}, \"showarrow\": false}, {\"xref\": \"x1\", \"xanchor\": \"left\", \"yref\": \"y1\", \"text\": \"42\", \"align\": \"left\", \"y\": 18, \"x\": 0.55, \"font\": {\"color\": \"#000000\", \"size\": 15}, \"showarrow\": false}, {\"xref\": \"x1\", \"xanchor\": \"left\", \"yref\": \"y1\", \"text\": \"1\", \"align\": \"left\", \"y\": 18, \"x\": 1.55, \"font\": {\"color\": \"#000000\", \"size\": 15}, \"showarrow\": false}, {\"xref\": \"x1\", \"xanchor\": \"left\", \"yref\": \"y1\", \"text\": \"1\", \"align\": \"left\", \"y\": 18, \"x\": 2.55, \"font\": {\"color\": \"#000000\", \"size\": 15}, \"showarrow\": false}, {\"xref\": \"x1\", \"xanchor\": \"left\", \"yref\": \"y1\", \"text\": \"1\", \"align\": \"left\", \"y\": 18, \"x\": 3.55, \"font\": {\"color\": \"#000000\", \"size\": 15}, \"showarrow\": false}, {\"xref\": \"x1\", \"xanchor\": \"left\", \"yref\": \"y1\", \"text\": \"1\", \"align\": \"left\", \"y\": 18, \"x\": 4.55, \"font\": {\"color\": \"#000000\", \"size\": 15}, \"showarrow\": false}, {\"xref\": \"x1\", \"xanchor\": \"left\", \"yref\": \"y1\", \"text\": \"1\", \"align\": \"left\", \"y\": 18, \"x\": 5.55, \"font\": {\"color\": \"#000000\", \"size\": 15}, \"showarrow\": false}, {\"xref\": \"x1\", \"xanchor\": \"left\", \"yref\": \"y1\", \"text\": \"<b>19</b>\", \"align\": \"left\", \"y\": 19, \"x\": -0.45, \"font\": {\"color\": \"#ffffff\", \"size\": 15}, \"showarrow\": false}, {\"xref\": \"x1\", \"xanchor\": \"left\", \"yref\": \"y1\", \"text\": \"7\", \"align\": \"left\", \"y\": 19, \"x\": 0.55, \"font\": {\"color\": \"#000000\", \"size\": 15}, \"showarrow\": false}, {\"xref\": \"x1\", \"xanchor\": \"left\", \"yref\": \"y1\", \"text\": \"3\", \"align\": \"left\", \"y\": 19, \"x\": 1.55, \"font\": {\"color\": \"#000000\", \"size\": 15}, \"showarrow\": false}, {\"xref\": \"x1\", \"xanchor\": \"left\", \"yref\": \"y1\", \"text\": \"3\", \"align\": \"left\", \"y\": 19, \"x\": 2.55, \"font\": {\"color\": \"#000000\", \"size\": 15}, \"showarrow\": false}, {\"xref\": \"x1\", \"xanchor\": \"left\", \"yref\": \"y1\", \"text\": \"1\", \"align\": \"left\", \"y\": 19, \"x\": 3.55, \"font\": {\"color\": \"#000000\", \"size\": 15}, \"showarrow\": false}, {\"xref\": \"x1\", \"xanchor\": \"left\", \"yref\": \"y1\", \"text\": \"1\", \"align\": \"left\", \"y\": 19, \"x\": 4.55, \"font\": {\"color\": \"#000000\", \"size\": 15}, \"showarrow\": false}, {\"xref\": \"x1\", \"xanchor\": \"left\", \"yref\": \"y1\", \"text\": \"1\", \"align\": \"left\", \"y\": 19, \"x\": 5.55, \"font\": {\"color\": \"#000000\", \"size\": 15}, \"showarrow\": false}, {\"xref\": \"x1\", \"xanchor\": \"left\", \"yref\": \"y1\", \"text\": \"<b>20</b>\", \"align\": \"left\", \"y\": 20, \"x\": -0.45, \"font\": {\"color\": \"#ffffff\", \"size\": 15}, \"showarrow\": false}, {\"xref\": \"x1\", \"xanchor\": \"left\", \"yref\": \"y1\", \"text\": \"0\", \"align\": \"left\", \"y\": 20, \"x\": 0.55, \"font\": {\"color\": \"#000000\", \"size\": 15}, \"showarrow\": false}, {\"xref\": \"x1\", \"xanchor\": \"left\", \"yref\": \"y1\", \"text\": \"2\", \"align\": \"left\", \"y\": 20, \"x\": 1.55, \"font\": {\"color\": \"#000000\", \"size\": 15}, \"showarrow\": false}, {\"xref\": \"x1\", \"xanchor\": \"left\", \"yref\": \"y1\", \"text\": \"2\", \"align\": \"left\", \"y\": 20, \"x\": 2.55, \"font\": {\"color\": \"#000000\", \"size\": 15}, \"showarrow\": false}, {\"xref\": \"x1\", \"xanchor\": \"left\", \"yref\": \"y1\", \"text\": \"2\", \"align\": \"left\", \"y\": 20, \"x\": 3.55, \"font\": {\"color\": \"#000000\", \"size\": 15}, \"showarrow\": false}, {\"xref\": \"x1\", \"xanchor\": \"left\", \"yref\": \"y1\", \"text\": \"2\", \"align\": \"left\", \"y\": 20, \"x\": 4.55, \"font\": {\"color\": \"#000000\", \"size\": 15}, \"showarrow\": false}, {\"xref\": \"x1\", \"xanchor\": \"left\", \"yref\": \"y1\", \"text\": \"2\", \"align\": \"left\", \"y\": 20, \"x\": 5.55, \"font\": {\"color\": \"#000000\", \"size\": 15}, \"showarrow\": false}, {\"xref\": \"x1\", \"xanchor\": \"left\", \"yref\": \"y1\", \"text\": \"<b>21</b>\", \"align\": \"left\", \"y\": 21, \"x\": -0.45, \"font\": {\"color\": \"#ffffff\", \"size\": 15}, \"showarrow\": false}, {\"xref\": \"x1\", \"xanchor\": \"left\", \"yref\": \"y1\", \"text\": \"1\", \"align\": \"left\", \"y\": 21, \"x\": 0.55, \"font\": {\"color\": \"#000000\", \"size\": 15}, \"showarrow\": false}, {\"xref\": \"x1\", \"xanchor\": \"left\", \"yref\": \"y1\", \"text\": \"2\", \"align\": \"left\", \"y\": 21, \"x\": 1.55, \"font\": {\"color\": \"#000000\", \"size\": 15}, \"showarrow\": false}, {\"xref\": \"x1\", \"xanchor\": \"left\", \"yref\": \"y1\", \"text\": \"2\", \"align\": \"left\", \"y\": 21, \"x\": 2.55, \"font\": {\"color\": \"#000000\", \"size\": 15}, \"showarrow\": false}, {\"xref\": \"x1\", \"xanchor\": \"left\", \"yref\": \"y1\", \"text\": \"1\", \"align\": \"left\", \"y\": 21, \"x\": 3.55, \"font\": {\"color\": \"#000000\", \"size\": 15}, \"showarrow\": false}, {\"xref\": \"x1\", \"xanchor\": \"left\", \"yref\": \"y1\", \"text\": \"1\", \"align\": \"left\", \"y\": 21, \"x\": 4.55, \"font\": {\"color\": \"#000000\", \"size\": 15}, \"showarrow\": false}, {\"xref\": \"x1\", \"xanchor\": \"left\", \"yref\": \"y1\", \"text\": \"1\", \"align\": \"left\", \"y\": 21, \"x\": 5.55, \"font\": {\"color\": \"#000000\", \"size\": 15}, \"showarrow\": false}, {\"xref\": \"x1\", \"xanchor\": \"left\", \"yref\": \"y1\", \"text\": \"<b>22</b>\", \"align\": \"left\", \"y\": 22, \"x\": -0.45, \"font\": {\"color\": \"#ffffff\", \"size\": 15}, \"showarrow\": false}, {\"xref\": \"x1\", \"xanchor\": \"left\", \"yref\": \"y1\", \"text\": \"10\", \"align\": \"left\", \"y\": 22, \"x\": 0.55, \"font\": {\"color\": \"#000000\", \"size\": 15}, \"showarrow\": false}, {\"xref\": \"x1\", \"xanchor\": \"left\", \"yref\": \"y1\", \"text\": \"2\", \"align\": \"left\", \"y\": 22, \"x\": 1.55, \"font\": {\"color\": \"#000000\", \"size\": 15}, \"showarrow\": false}, {\"xref\": \"x1\", \"xanchor\": \"left\", \"yref\": \"y1\", \"text\": \"2\", \"align\": \"left\", \"y\": 22, \"x\": 2.55, \"font\": {\"color\": \"#000000\", \"size\": 15}, \"showarrow\": false}, {\"xref\": \"x1\", \"xanchor\": \"left\", \"yref\": \"y1\", \"text\": \"2\", \"align\": \"left\", \"y\": 22, \"x\": 3.55, \"font\": {\"color\": \"#000000\", \"size\": 15}, \"showarrow\": false}, {\"xref\": \"x1\", \"xanchor\": \"left\", \"yref\": \"y1\", \"text\": \"2\", \"align\": \"left\", \"y\": 22, \"x\": 4.55, \"font\": {\"color\": \"#000000\", \"size\": 15}, \"showarrow\": false}, {\"xref\": \"x1\", \"xanchor\": \"left\", \"yref\": \"y1\", \"text\": \"2\", \"align\": \"left\", \"y\": 22, \"x\": 5.55, \"font\": {\"color\": \"#000000\", \"size\": 15}, \"showarrow\": false}, {\"xref\": \"x1\", \"xanchor\": \"left\", \"yref\": \"y1\", \"text\": \"<b>23</b>\", \"align\": \"left\", \"y\": 23, \"x\": -0.45, \"font\": {\"color\": \"#ffffff\", \"size\": 15}, \"showarrow\": false}, {\"xref\": \"x1\", \"xanchor\": \"left\", \"yref\": \"y1\", \"text\": \"1\", \"align\": \"left\", \"y\": 23, \"x\": 0.55, \"font\": {\"color\": \"#000000\", \"size\": 15}, \"showarrow\": false}, {\"xref\": \"x1\", \"xanchor\": \"left\", \"yref\": \"y1\", \"text\": \"6\", \"align\": \"left\", \"y\": 23, \"x\": 1.55, \"font\": {\"color\": \"#000000\", \"size\": 15}, \"showarrow\": false}, {\"xref\": \"x1\", \"xanchor\": \"left\", \"yref\": \"y1\", \"text\": \"6\", \"align\": \"left\", \"y\": 23, \"x\": 2.55, \"font\": {\"color\": \"#000000\", \"size\": 15}, \"showarrow\": false}, {\"xref\": \"x1\", \"xanchor\": \"left\", \"yref\": \"y1\", \"text\": \"1\", \"align\": \"left\", \"y\": 23, \"x\": 3.55, \"font\": {\"color\": \"#000000\", \"size\": 15}, \"showarrow\": false}, {\"xref\": \"x1\", \"xanchor\": \"left\", \"yref\": \"y1\", \"text\": \"1\", \"align\": \"left\", \"y\": 23, \"x\": 4.55, \"font\": {\"color\": \"#000000\", \"size\": 15}, \"showarrow\": false}, {\"xref\": \"x1\", \"xanchor\": \"left\", \"yref\": \"y1\", \"text\": \"1\", \"align\": \"left\", \"y\": 23, \"x\": 5.55, \"font\": {\"color\": \"#000000\", \"size\": 15}, \"showarrow\": false}, {\"xref\": \"x1\", \"xanchor\": \"left\", \"yref\": \"y1\", \"text\": \"<b>24</b>\", \"align\": \"left\", \"y\": 24, \"x\": -0.45, \"font\": {\"color\": \"#ffffff\", \"size\": 15}, \"showarrow\": false}, {\"xref\": \"x1\", \"xanchor\": \"left\", \"yref\": \"y1\", \"text\": \"0\", \"align\": \"left\", \"y\": 24, \"x\": 0.55, \"font\": {\"color\": \"#000000\", \"size\": 15}, \"showarrow\": false}, {\"xref\": \"x1\", \"xanchor\": \"left\", \"yref\": \"y1\", \"text\": \"0\", \"align\": \"left\", \"y\": 24, \"x\": 1.55, \"font\": {\"color\": \"#000000\", \"size\": 15}, \"showarrow\": false}, {\"xref\": \"x1\", \"xanchor\": \"left\", \"yref\": \"y1\", \"text\": \"0\", \"align\": \"left\", \"y\": 24, \"x\": 2.55, \"font\": {\"color\": \"#000000\", \"size\": 15}, \"showarrow\": false}, {\"xref\": \"x1\", \"xanchor\": \"left\", \"yref\": \"y1\", \"text\": \"0\", \"align\": \"left\", \"y\": 24, \"x\": 3.55, \"font\": {\"color\": \"#000000\", \"size\": 15}, \"showarrow\": false}, {\"xref\": \"x1\", \"xanchor\": \"left\", \"yref\": \"y1\", \"text\": \"0\", \"align\": \"left\", \"y\": 24, \"x\": 4.55, \"font\": {\"color\": \"#000000\", \"size\": 15}, \"showarrow\": false}, {\"xref\": \"x1\", \"xanchor\": \"left\", \"yref\": \"y1\", \"text\": \"0\", \"align\": \"left\", \"y\": 24, \"x\": 5.55, \"font\": {\"color\": \"#000000\", \"size\": 15}, \"showarrow\": false}, {\"xref\": \"x1\", \"xanchor\": \"left\", \"yref\": \"y1\", \"text\": \"<b>25</b>\", \"align\": \"left\", \"y\": 25, \"x\": -0.45, \"font\": {\"color\": \"#ffffff\", \"size\": 15}, \"showarrow\": false}, {\"xref\": \"x1\", \"xanchor\": \"left\", \"yref\": \"y1\", \"text\": \"9\", \"align\": \"left\", \"y\": 25, \"x\": 0.55, \"font\": {\"color\": \"#000000\", \"size\": 15}, \"showarrow\": false}, {\"xref\": \"x1\", \"xanchor\": \"left\", \"yref\": \"y1\", \"text\": \"3\", \"align\": \"left\", \"y\": 25, \"x\": 1.55, \"font\": {\"color\": \"#000000\", \"size\": 15}, \"showarrow\": false}, {\"xref\": \"x1\", \"xanchor\": \"left\", \"yref\": \"y1\", \"text\": \"3\", \"align\": \"left\", \"y\": 25, \"x\": 2.55, \"font\": {\"color\": \"#000000\", \"size\": 15}, \"showarrow\": false}, {\"xref\": \"x1\", \"xanchor\": \"left\", \"yref\": \"y1\", \"text\": \"1\", \"align\": \"left\", \"y\": 25, \"x\": 3.55, \"font\": {\"color\": \"#000000\", \"size\": 15}, \"showarrow\": false}, {\"xref\": \"x1\", \"xanchor\": \"left\", \"yref\": \"y1\", \"text\": \"1\", \"align\": \"left\", \"y\": 25, \"x\": 4.55, \"font\": {\"color\": \"#000000\", \"size\": 15}, \"showarrow\": false}, {\"xref\": \"x1\", \"xanchor\": \"left\", \"yref\": \"y1\", \"text\": \"1\", \"align\": \"left\", \"y\": 25, \"x\": 5.55, \"font\": {\"color\": \"#000000\", \"size\": 15}, \"showarrow\": false}], \"xaxis\": {\"showticklabels\": false, \"tick0\": -0.5, \"ticks\": \"\", \"gridwidth\": 2, \"dtick\": 1, \"zeroline\": false}, \"height\": 830}, {\"linkText\": \"Export to plot.ly\", \"showLink\": true})});</script>"
      ],
      "text/vnd.plotly.v1+html": [
       "<div id=\"b00e83ec-035d-4c05-ab53-8340bfe0dc65\" style=\"height: 830px; width: 100%;\" class=\"plotly-graph-div\"></div><script type=\"text/javascript\">require([\"plotly\"], function(Plotly) { window.PLOTLYENV=window.PLOTLYENV || {};window.PLOTLYENV.BASE_URL=\"https://plot.ly\";Plotly.newPlot(\"b00e83ec-035d-4c05-ab53-8340bfe0dc65\", [{\"opacity\": 0.75, \"colorscale\": [[0, \"#00083e\"], [0.5, \"#ededee\"], [1, \"#ffffff\"]], \"showscale\": false, \"hoverinfo\": \"none\", \"z\": [[0, 0, 0, 0, 0, 0, 0], [0, 0.5, 0.5, 0.5, 0.5, 0.5, 0.5], [0, 1, 1, 1, 1, 1, 1], [0, 0.5, 0.5, 0.5, 0.5, 0.5, 0.5], [0, 1, 1, 1, 1, 1, 1], [0, 0.5, 0.5, 0.5, 0.5, 0.5, 0.5], [0, 1, 1, 1, 1, 1, 1], [0, 0.5, 0.5, 0.5, 0.5, 0.5, 0.5], [0, 1, 1, 1, 1, 1, 1], [0, 0.5, 0.5, 0.5, 0.5, 0.5, 0.5], [0, 1, 1, 1, 1, 1, 1], [0, 0.5, 0.5, 0.5, 0.5, 0.5, 0.5], [0, 1, 1, 1, 1, 1, 1], [0, 0.5, 0.5, 0.5, 0.5, 0.5, 0.5], [0, 1, 1, 1, 1, 1, 1], [0, 0.5, 0.5, 0.5, 0.5, 0.5, 0.5], [0, 1, 1, 1, 1, 1, 1], [0, 0.5, 0.5, 0.5, 0.5, 0.5, 0.5], [0, 1, 1, 1, 1, 1, 1], [0, 0.5, 0.5, 0.5, 0.5, 0.5, 0.5], [0, 1, 1, 1, 1, 1, 1], [0, 0.5, 0.5, 0.5, 0.5, 0.5, 0.5], [0, 1, 1, 1, 1, 1, 1], [0, 0.5, 0.5, 0.5, 0.5, 0.5, 0.5], [0, 1, 1, 1, 1, 1, 1], [0, 0.5, 0.5, 0.5, 0.5, 0.5, 0.5]], \"type\": \"heatmap\"}], {\"yaxis\": {\"showticklabels\": false, \"tick0\": 0.5, \"ticks\": \"\", \"gridwidth\": 2, \"dtick\": 1, \"zeroline\": false, \"autorange\": \"reversed\"}, \"margin\": {\"r\": 0, \"b\": 0, \"l\": 0, \"t\": 0}, \"annotations\": [{\"xref\": \"x1\", \"xanchor\": \"left\", \"yref\": \"y1\", \"text\": \"<b>Sim</b>\", \"align\": \"left\", \"y\": 0, \"x\": -0.45, \"font\": {\"color\": \"#ffffff\", \"size\": 15}, \"showarrow\": false}, {\"xref\": \"x1\", \"xanchor\": \"left\", \"yref\": \"y1\", \"text\": \"<b>Leaves Rem</b>\", \"align\": \"left\", \"y\": 0, \"x\": 0.55, \"font\": {\"color\": \"#ffffff\", \"size\": 15}, \"showarrow\": false}, {\"xref\": \"x1\", \"xanchor\": \"left\", \"yref\": \"y1\", \"text\": \"<b>PageRank</b>\", \"align\": \"left\", \"y\": 0, \"x\": 1.55, \"font\": {\"color\": \"#ffffff\", \"size\": 15}, \"showarrow\": false}, {\"xref\": \"x1\", \"xanchor\": \"left\", \"yref\": \"y1\", \"text\": \"<b>Degree</b>\", \"align\": \"left\", \"y\": 0, \"x\": 2.55, \"font\": {\"color\": \"#ffffff\", \"size\": 15}, \"showarrow\": false}, {\"xref\": \"x1\", \"xanchor\": \"left\", \"yref\": \"y1\", \"text\": \"<b>SZ</b>\", \"align\": \"left\", \"y\": 0, \"x\": 3.55, \"font\": {\"color\": \"#ffffff\", \"size\": 15}, \"showarrow\": false}, {\"xref\": \"x1\", \"xanchor\": \"left\", \"yref\": \"y1\", \"text\": \"<b>Simple</b>\", \"align\": \"left\", \"y\": 0, \"x\": 4.55, \"font\": {\"color\": \"#ffffff\", \"size\": 15}, \"showarrow\": false}, {\"xref\": \"x1\", \"xanchor\": \"left\", \"yref\": \"y1\", \"text\": \"<b>Distance</b>\", \"align\": \"left\", \"y\": 0, \"x\": 5.55, \"font\": {\"color\": \"#ffffff\", \"size\": 15}, \"showarrow\": false}, {\"xref\": \"x1\", \"xanchor\": \"left\", \"yref\": \"y1\", \"text\": \"<b>1</b>\", \"align\": \"left\", \"y\": 1, \"x\": -0.45, \"font\": {\"color\": \"#ffffff\", \"size\": 15}, \"showarrow\": false}, {\"xref\": \"x1\", \"xanchor\": \"left\", \"yref\": \"y1\", \"text\": \"0\", \"align\": \"left\", \"y\": 1, \"x\": 0.55, \"font\": {\"color\": \"#000000\", \"size\": 15}, \"showarrow\": false}, {\"xref\": \"x1\", \"xanchor\": \"left\", \"yref\": \"y1\", \"text\": \"4\", \"align\": \"left\", \"y\": 1, \"x\": 1.55, \"font\": {\"color\": \"#000000\", \"size\": 15}, \"showarrow\": false}, {\"xref\": \"x1\", \"xanchor\": \"left\", \"yref\": \"y1\", \"text\": \"6\", \"align\": \"left\", \"y\": 1, \"x\": 2.55, \"font\": {\"color\": \"#000000\", \"size\": 15}, \"showarrow\": false}, {\"xref\": \"x1\", \"xanchor\": \"left\", \"yref\": \"y1\", \"text\": \"1\", \"align\": \"left\", \"y\": 1, \"x\": 3.55, \"font\": {\"color\": \"#000000\", \"size\": 15}, \"showarrow\": false}, {\"xref\": \"x1\", \"xanchor\": \"left\", \"yref\": \"y1\", \"text\": \"1\", \"align\": \"left\", \"y\": 1, \"x\": 4.55, \"font\": {\"color\": \"#000000\", \"size\": 15}, \"showarrow\": false}, {\"xref\": \"x1\", \"xanchor\": \"left\", \"yref\": \"y1\", \"text\": \"1\", \"align\": \"left\", \"y\": 1, \"x\": 5.55, \"font\": {\"color\": \"#000000\", \"size\": 15}, \"showarrow\": false}, {\"xref\": \"x1\", \"xanchor\": \"left\", \"yref\": \"y1\", \"text\": \"<b>2</b>\", \"align\": \"left\", \"y\": 2, \"x\": -0.45, \"font\": {\"color\": \"#ffffff\", \"size\": 15}, \"showarrow\": false}, {\"xref\": \"x1\", \"xanchor\": \"left\", \"yref\": \"y1\", \"text\": \"14\", \"align\": \"left\", \"y\": 2, \"x\": 0.55, \"font\": {\"color\": \"#000000\", \"size\": 15}, \"showarrow\": false}, {\"xref\": \"x1\", \"xanchor\": \"left\", \"yref\": \"y1\", \"text\": \"3\", \"align\": \"left\", \"y\": 2, \"x\": 1.55, \"font\": {\"color\": \"#000000\", \"size\": 15}, \"showarrow\": false}, {\"xref\": \"x1\", \"xanchor\": \"left\", \"yref\": \"y1\", \"text\": \"3\", \"align\": \"left\", \"y\": 2, \"x\": 2.55, \"font\": {\"color\": \"#000000\", \"size\": 15}, \"showarrow\": false}, {\"xref\": \"x1\", \"xanchor\": \"left\", \"yref\": \"y1\", \"text\": \"5\", \"align\": \"left\", \"y\": 2, \"x\": 3.55, \"font\": {\"color\": \"#000000\", \"size\": 15}, \"showarrow\": false}, {\"xref\": \"x1\", \"xanchor\": \"left\", \"yref\": \"y1\", \"text\": \"5\", \"align\": \"left\", \"y\": 2, \"x\": 4.55, \"font\": {\"color\": \"#000000\", \"size\": 15}, \"showarrow\": false}, {\"xref\": \"x1\", \"xanchor\": \"left\", \"yref\": \"y1\", \"text\": \"5\", \"align\": \"left\", \"y\": 2, \"x\": 5.55, \"font\": {\"color\": \"#000000\", \"size\": 15}, \"showarrow\": false}, {\"xref\": \"x1\", \"xanchor\": \"left\", \"yref\": \"y1\", \"text\": \"<b>3</b>\", \"align\": \"left\", \"y\": 3, \"x\": -0.45, \"font\": {\"color\": \"#ffffff\", \"size\": 15}, \"showarrow\": false}, {\"xref\": \"x1\", \"xanchor\": \"left\", \"yref\": \"y1\", \"text\": \"7\", \"align\": \"left\", \"y\": 3, \"x\": 0.55, \"font\": {\"color\": \"#000000\", \"size\": 15}, \"showarrow\": false}, {\"xref\": \"x1\", \"xanchor\": \"left\", \"yref\": \"y1\", \"text\": \"0\", \"align\": \"left\", \"y\": 3, \"x\": 1.55, \"font\": {\"color\": \"#000000\", \"size\": 15}, \"showarrow\": false}, {\"xref\": \"x1\", \"xanchor\": \"left\", \"yref\": \"y1\", \"text\": \"0\", \"align\": \"left\", \"y\": 3, \"x\": 2.55, \"font\": {\"color\": \"#000000\", \"size\": 15}, \"showarrow\": false}, {\"xref\": \"x1\", \"xanchor\": \"left\", \"yref\": \"y1\", \"text\": \"0\", \"align\": \"left\", \"y\": 3, \"x\": 3.55, \"font\": {\"color\": \"#000000\", \"size\": 15}, \"showarrow\": false}, {\"xref\": \"x1\", \"xanchor\": \"left\", \"yref\": \"y1\", \"text\": \"0\", \"align\": \"left\", \"y\": 3, \"x\": 4.55, \"font\": {\"color\": \"#000000\", \"size\": 15}, \"showarrow\": false}, {\"xref\": \"x1\", \"xanchor\": \"left\", \"yref\": \"y1\", \"text\": \"0\", \"align\": \"left\", \"y\": 3, \"x\": 5.55, \"font\": {\"color\": \"#000000\", \"size\": 15}, \"showarrow\": false}, {\"xref\": \"x1\", \"xanchor\": \"left\", \"yref\": \"y1\", \"text\": \"<b>4</b>\", \"align\": \"left\", \"y\": 4, \"x\": -0.45, \"font\": {\"color\": \"#ffffff\", \"size\": 15}, \"showarrow\": false}, {\"xref\": \"x1\", \"xanchor\": \"left\", \"yref\": \"y1\", \"text\": \"4\", \"align\": \"left\", \"y\": 4, \"x\": 0.55, \"font\": {\"color\": \"#000000\", \"size\": 15}, \"showarrow\": false}, {\"xref\": \"x1\", \"xanchor\": \"left\", \"yref\": \"y1\", \"text\": \"7\", \"align\": \"left\", \"y\": 4, \"x\": 1.55, \"font\": {\"color\": \"#000000\", \"size\": 15}, \"showarrow\": false}, {\"xref\": \"x1\", \"xanchor\": \"left\", \"yref\": \"y1\", \"text\": \"0\", \"align\": \"left\", \"y\": 4, \"x\": 2.55, \"font\": {\"color\": \"#000000\", \"size\": 15}, \"showarrow\": false}, {\"xref\": \"x1\", \"xanchor\": \"left\", \"yref\": \"y1\", \"text\": \"1\", \"align\": \"left\", \"y\": 4, \"x\": 3.55, \"font\": {\"color\": \"#000000\", \"size\": 15}, \"showarrow\": false}, {\"xref\": \"x1\", \"xanchor\": \"left\", \"yref\": \"y1\", \"text\": \"1\", \"align\": \"left\", \"y\": 4, \"x\": 4.55, \"font\": {\"color\": \"#000000\", \"size\": 15}, \"showarrow\": false}, {\"xref\": \"x1\", \"xanchor\": \"left\", \"yref\": \"y1\", \"text\": \"1\", \"align\": \"left\", \"y\": 4, \"x\": 5.55, \"font\": {\"color\": \"#000000\", \"size\": 15}, \"showarrow\": false}, {\"xref\": \"x1\", \"xanchor\": \"left\", \"yref\": \"y1\", \"text\": \"<b>5</b>\", \"align\": \"left\", \"y\": 5, \"x\": -0.45, \"font\": {\"color\": \"#ffffff\", \"size\": 15}, \"showarrow\": false}, {\"xref\": \"x1\", \"xanchor\": \"left\", \"yref\": \"y1\", \"text\": \"11\", \"align\": \"left\", \"y\": 5, \"x\": 0.55, \"font\": {\"color\": \"#000000\", \"size\": 15}, \"showarrow\": false}, {\"xref\": \"x1\", \"xanchor\": \"left\", \"yref\": \"y1\", \"text\": \"1\", \"align\": \"left\", \"y\": 5, \"x\": 1.55, \"font\": {\"color\": \"#000000\", \"size\": 15}, \"showarrow\": false}, {\"xref\": \"x1\", \"xanchor\": \"left\", \"yref\": \"y1\", \"text\": \"1\", \"align\": \"left\", \"y\": 5, \"x\": 2.55, \"font\": {\"color\": \"#000000\", \"size\": 15}, \"showarrow\": false}, {\"xref\": \"x1\", \"xanchor\": \"left\", \"yref\": \"y1\", \"text\": \"1\", \"align\": \"left\", \"y\": 5, \"x\": 3.55, \"font\": {\"color\": \"#000000\", \"size\": 15}, \"showarrow\": false}, {\"xref\": \"x1\", \"xanchor\": \"left\", \"yref\": \"y1\", \"text\": \"1\", \"align\": \"left\", \"y\": 5, \"x\": 4.55, \"font\": {\"color\": \"#000000\", \"size\": 15}, \"showarrow\": false}, {\"xref\": \"x1\", \"xanchor\": \"left\", \"yref\": \"y1\", \"text\": \"1\", \"align\": \"left\", \"y\": 5, \"x\": 5.55, \"font\": {\"color\": \"#000000\", \"size\": 15}, \"showarrow\": false}, {\"xref\": \"x1\", \"xanchor\": \"left\", \"yref\": \"y1\", \"text\": \"<b>6</b>\", \"align\": \"left\", \"y\": 6, \"x\": -0.45, \"font\": {\"color\": \"#ffffff\", \"size\": 15}, \"showarrow\": false}, {\"xref\": \"x1\", \"xanchor\": \"left\", \"yref\": \"y1\", \"text\": \"1\", \"align\": \"left\", \"y\": 6, \"x\": 0.55, \"font\": {\"color\": \"#000000\", \"size\": 15}, \"showarrow\": false}, {\"xref\": \"x1\", \"xanchor\": \"left\", \"yref\": \"y1\", \"text\": \"10\", \"align\": \"left\", \"y\": 6, \"x\": 1.55, \"font\": {\"color\": \"#000000\", \"size\": 15}, \"showarrow\": false}, {\"xref\": \"x1\", \"xanchor\": \"left\", \"yref\": \"y1\", \"text\": \"10\", \"align\": \"left\", \"y\": 6, \"x\": 2.55, \"font\": {\"color\": \"#000000\", \"size\": 15}, \"showarrow\": false}, {\"xref\": \"x1\", \"xanchor\": \"left\", \"yref\": \"y1\", \"text\": \"0\", \"align\": \"left\", \"y\": 6, \"x\": 3.55, \"font\": {\"color\": \"#000000\", \"size\": 15}, \"showarrow\": false}, {\"xref\": \"x1\", \"xanchor\": \"left\", \"yref\": \"y1\", \"text\": \"0\", \"align\": \"left\", \"y\": 6, \"x\": 4.55, \"font\": {\"color\": \"#000000\", \"size\": 15}, \"showarrow\": false}, {\"xref\": \"x1\", \"xanchor\": \"left\", \"yref\": \"y1\", \"text\": \"0\", \"align\": \"left\", \"y\": 6, \"x\": 5.55, \"font\": {\"color\": \"#000000\", \"size\": 15}, \"showarrow\": false}, {\"xref\": \"x1\", \"xanchor\": \"left\", \"yref\": \"y1\", \"text\": \"<b>7</b>\", \"align\": \"left\", \"y\": 7, \"x\": -0.45, \"font\": {\"color\": \"#ffffff\", \"size\": 15}, \"showarrow\": false}, {\"xref\": \"x1\", \"xanchor\": \"left\", \"yref\": \"y1\", \"text\": \"1\", \"align\": \"left\", \"y\": 7, \"x\": 0.55, \"font\": {\"color\": \"#000000\", \"size\": 15}, \"showarrow\": false}, {\"xref\": \"x1\", \"xanchor\": \"left\", \"yref\": \"y1\", \"text\": \"0\", \"align\": \"left\", \"y\": 7, \"x\": 1.55, \"font\": {\"color\": \"#000000\", \"size\": 15}, \"showarrow\": false}, {\"xref\": \"x1\", \"xanchor\": \"left\", \"yref\": \"y1\", \"text\": \"0\", \"align\": \"left\", \"y\": 7, \"x\": 2.55, \"font\": {\"color\": \"#000000\", \"size\": 15}, \"showarrow\": false}, {\"xref\": \"x1\", \"xanchor\": \"left\", \"yref\": \"y1\", \"text\": \"0\", \"align\": \"left\", \"y\": 7, \"x\": 3.55, \"font\": {\"color\": \"#000000\", \"size\": 15}, \"showarrow\": false}, {\"xref\": \"x1\", \"xanchor\": \"left\", \"yref\": \"y1\", \"text\": \"0\", \"align\": \"left\", \"y\": 7, \"x\": 4.55, \"font\": {\"color\": \"#000000\", \"size\": 15}, \"showarrow\": false}, {\"xref\": \"x1\", \"xanchor\": \"left\", \"yref\": \"y1\", \"text\": \"0\", \"align\": \"left\", \"y\": 7, \"x\": 5.55, \"font\": {\"color\": \"#000000\", \"size\": 15}, \"showarrow\": false}, {\"xref\": \"x1\", \"xanchor\": \"left\", \"yref\": \"y1\", \"text\": \"<b>8</b>\", \"align\": \"left\", \"y\": 8, \"x\": -0.45, \"font\": {\"color\": \"#ffffff\", \"size\": 15}, \"showarrow\": false}, {\"xref\": \"x1\", \"xanchor\": \"left\", \"yref\": \"y1\", \"text\": \"1\", \"align\": \"left\", \"y\": 8, \"x\": 0.55, \"font\": {\"color\": \"#000000\", \"size\": 15}, \"showarrow\": false}, {\"xref\": \"x1\", \"xanchor\": \"left\", \"yref\": \"y1\", \"text\": \"16\", \"align\": \"left\", \"y\": 8, \"x\": 1.55, \"font\": {\"color\": \"#000000\", \"size\": 15}, \"showarrow\": false}, {\"xref\": \"x1\", \"xanchor\": \"left\", \"yref\": \"y1\", \"text\": \"10\", \"align\": \"left\", \"y\": 8, \"x\": 2.55, \"font\": {\"color\": \"#000000\", \"size\": 15}, \"showarrow\": false}, {\"xref\": \"x1\", \"xanchor\": \"left\", \"yref\": \"y1\", \"text\": \"1\", \"align\": \"left\", \"y\": 8, \"x\": 3.55, \"font\": {\"color\": \"#000000\", \"size\": 15}, \"showarrow\": false}, {\"xref\": \"x1\", \"xanchor\": \"left\", \"yref\": \"y1\", \"text\": \"1\", \"align\": \"left\", \"y\": 8, \"x\": 4.55, \"font\": {\"color\": \"#000000\", \"size\": 15}, \"showarrow\": false}, {\"xref\": \"x1\", \"xanchor\": \"left\", \"yref\": \"y1\", \"text\": \"1\", \"align\": \"left\", \"y\": 8, \"x\": 5.55, \"font\": {\"color\": \"#000000\", \"size\": 15}, \"showarrow\": false}, {\"xref\": \"x1\", \"xanchor\": \"left\", \"yref\": \"y1\", \"text\": \"<b>9</b>\", \"align\": \"left\", \"y\": 9, \"x\": -0.45, \"font\": {\"color\": \"#ffffff\", \"size\": 15}, \"showarrow\": false}, {\"xref\": \"x1\", \"xanchor\": \"left\", \"yref\": \"y1\", \"text\": \"13\", \"align\": \"left\", \"y\": 9, \"x\": 0.55, \"font\": {\"color\": \"#000000\", \"size\": 15}, \"showarrow\": false}, {\"xref\": \"x1\", \"xanchor\": \"left\", \"yref\": \"y1\", \"text\": \"17\", \"align\": \"left\", \"y\": 9, \"x\": 1.55, \"font\": {\"color\": \"#000000\", \"size\": 15}, \"showarrow\": false}, {\"xref\": \"x1\", \"xanchor\": \"left\", \"yref\": \"y1\", \"text\": \"1\", \"align\": \"left\", \"y\": 9, \"x\": 2.55, \"font\": {\"color\": \"#000000\", \"size\": 15}, \"showarrow\": false}, {\"xref\": \"x1\", \"xanchor\": \"left\", \"yref\": \"y1\", \"text\": \"2\", \"align\": \"left\", \"y\": 9, \"x\": 3.55, \"font\": {\"color\": \"#000000\", \"size\": 15}, \"showarrow\": false}, {\"xref\": \"x1\", \"xanchor\": \"left\", \"yref\": \"y1\", \"text\": \"2\", \"align\": \"left\", \"y\": 9, \"x\": 4.55, \"font\": {\"color\": \"#000000\", \"size\": 15}, \"showarrow\": false}, {\"xref\": \"x1\", \"xanchor\": \"left\", \"yref\": \"y1\", \"text\": \"2\", \"align\": \"left\", \"y\": 9, \"x\": 5.55, \"font\": {\"color\": \"#000000\", \"size\": 15}, \"showarrow\": false}, {\"xref\": \"x1\", \"xanchor\": \"left\", \"yref\": \"y1\", \"text\": \"<b>10</b>\", \"align\": \"left\", \"y\": 10, \"x\": -0.45, \"font\": {\"color\": \"#ffffff\", \"size\": 15}, \"showarrow\": false}, {\"xref\": \"x1\", \"xanchor\": \"left\", \"yref\": \"y1\", \"text\": \"4\", \"align\": \"left\", \"y\": 10, \"x\": 0.55, \"font\": {\"color\": \"#000000\", \"size\": 15}, \"showarrow\": false}, {\"xref\": \"x1\", \"xanchor\": \"left\", \"yref\": \"y1\", \"text\": \"1\", \"align\": \"left\", \"y\": 10, \"x\": 1.55, \"font\": {\"color\": \"#000000\", \"size\": 15}, \"showarrow\": false}, {\"xref\": \"x1\", \"xanchor\": \"left\", \"yref\": \"y1\", \"text\": \"1\", \"align\": \"left\", \"y\": 10, \"x\": 2.55, \"font\": {\"color\": \"#000000\", \"size\": 15}, \"showarrow\": false}, {\"xref\": \"x1\", \"xanchor\": \"left\", \"yref\": \"y1\", \"text\": \"1\", \"align\": \"left\", \"y\": 10, \"x\": 3.55, \"font\": {\"color\": \"#000000\", \"size\": 15}, \"showarrow\": false}, {\"xref\": \"x1\", \"xanchor\": \"left\", \"yref\": \"y1\", \"text\": \"1\", \"align\": \"left\", \"y\": 10, \"x\": 4.55, \"font\": {\"color\": \"#000000\", \"size\": 15}, \"showarrow\": false}, {\"xref\": \"x1\", \"xanchor\": \"left\", \"yref\": \"y1\", \"text\": \"1\", \"align\": \"left\", \"y\": 10, \"x\": 5.55, \"font\": {\"color\": \"#000000\", \"size\": 15}, \"showarrow\": false}, {\"xref\": \"x1\", \"xanchor\": \"left\", \"yref\": \"y1\", \"text\": \"<b>11</b>\", \"align\": \"left\", \"y\": 11, \"x\": -0.45, \"font\": {\"color\": \"#ffffff\", \"size\": 15}, \"showarrow\": false}, {\"xref\": \"x1\", \"xanchor\": \"left\", \"yref\": \"y1\", \"text\": \"25\", \"align\": \"left\", \"y\": 11, \"x\": 0.55, \"font\": {\"color\": \"#000000\", \"size\": 15}, \"showarrow\": false}, {\"xref\": \"x1\", \"xanchor\": \"left\", \"yref\": \"y1\", \"text\": \"1\", \"align\": \"left\", \"y\": 11, \"x\": 1.55, \"font\": {\"color\": \"#000000\", \"size\": 15}, \"showarrow\": false}, {\"xref\": \"x1\", \"xanchor\": \"left\", \"yref\": \"y1\", \"text\": \"1\", \"align\": \"left\", \"y\": 11, \"x\": 2.55, \"font\": {\"color\": \"#000000\", \"size\": 15}, \"showarrow\": false}, {\"xref\": \"x1\", \"xanchor\": \"left\", \"yref\": \"y1\", \"text\": \"1\", \"align\": \"left\", \"y\": 11, \"x\": 3.55, \"font\": {\"color\": \"#000000\", \"size\": 15}, \"showarrow\": false}, {\"xref\": \"x1\", \"xanchor\": \"left\", \"yref\": \"y1\", \"text\": \"1\", \"align\": \"left\", \"y\": 11, \"x\": 4.55, \"font\": {\"color\": \"#000000\", \"size\": 15}, \"showarrow\": false}, {\"xref\": \"x1\", \"xanchor\": \"left\", \"yref\": \"y1\", \"text\": \"1\", \"align\": \"left\", \"y\": 11, \"x\": 5.55, \"font\": {\"color\": \"#000000\", \"size\": 15}, \"showarrow\": false}, {\"xref\": \"x1\", \"xanchor\": \"left\", \"yref\": \"y1\", \"text\": \"<b>12</b>\", \"align\": \"left\", \"y\": 12, \"x\": -0.45, \"font\": {\"color\": \"#ffffff\", \"size\": 15}, \"showarrow\": false}, {\"xref\": \"x1\", \"xanchor\": \"left\", \"yref\": \"y1\", \"text\": \"12\", \"align\": \"left\", \"y\": 12, \"x\": 0.55, \"font\": {\"color\": \"#000000\", \"size\": 15}, \"showarrow\": false}, {\"xref\": \"x1\", \"xanchor\": \"left\", \"yref\": \"y1\", \"text\": \"25\", \"align\": \"left\", \"y\": 12, \"x\": 1.55, \"font\": {\"color\": \"#000000\", \"size\": 15}, \"showarrow\": false}, {\"xref\": \"x1\", \"xanchor\": \"left\", \"yref\": \"y1\", \"text\": \"10\", \"align\": \"left\", \"y\": 12, \"x\": 2.55, \"font\": {\"color\": \"#000000\", \"size\": 15}, \"showarrow\": false}, {\"xref\": \"x1\", \"xanchor\": \"left\", \"yref\": \"y1\", \"text\": \"4\", \"align\": \"left\", \"y\": 12, \"x\": 3.55, \"font\": {\"color\": \"#000000\", \"size\": 15}, \"showarrow\": false}, {\"xref\": \"x1\", \"xanchor\": \"left\", \"yref\": \"y1\", \"text\": \"4\", \"align\": \"left\", \"y\": 12, \"x\": 4.55, \"font\": {\"color\": \"#000000\", \"size\": 15}, \"showarrow\": false}, {\"xref\": \"x1\", \"xanchor\": \"left\", \"yref\": \"y1\", \"text\": \"4\", \"align\": \"left\", \"y\": 12, \"x\": 5.55, \"font\": {\"color\": \"#000000\", \"size\": 15}, \"showarrow\": false}, {\"xref\": \"x1\", \"xanchor\": \"left\", \"yref\": \"y1\", \"text\": \"<b>13</b>\", \"align\": \"left\", \"y\": 13, \"x\": -0.45, \"font\": {\"color\": \"#ffffff\", \"size\": 15}, \"showarrow\": false}, {\"xref\": \"x1\", \"xanchor\": \"left\", \"yref\": \"y1\", \"text\": \"1\", \"align\": \"left\", \"y\": 13, \"x\": 0.55, \"font\": {\"color\": \"#000000\", \"size\": 15}, \"showarrow\": false}, {\"xref\": \"x1\", \"xanchor\": \"left\", \"yref\": \"y1\", \"text\": \"7\", \"align\": \"left\", \"y\": 13, \"x\": 1.55, \"font\": {\"color\": \"#000000\", \"size\": 15}, \"showarrow\": false}, {\"xref\": \"x1\", \"xanchor\": \"left\", \"yref\": \"y1\", \"text\": \"7\", \"align\": \"left\", \"y\": 13, \"x\": 2.55, \"font\": {\"color\": \"#000000\", \"size\": 15}, \"showarrow\": false}, {\"xref\": \"x1\", \"xanchor\": \"left\", \"yref\": \"y1\", \"text\": \"0\", \"align\": \"left\", \"y\": 13, \"x\": 3.55, \"font\": {\"color\": \"#000000\", \"size\": 15}, \"showarrow\": false}, {\"xref\": \"x1\", \"xanchor\": \"left\", \"yref\": \"y1\", \"text\": \"0\", \"align\": \"left\", \"y\": 13, \"x\": 4.55, \"font\": {\"color\": \"#000000\", \"size\": 15}, \"showarrow\": false}, {\"xref\": \"x1\", \"xanchor\": \"left\", \"yref\": \"y1\", \"text\": \"0\", \"align\": \"left\", \"y\": 13, \"x\": 5.55, \"font\": {\"color\": \"#000000\", \"size\": 15}, \"showarrow\": false}, {\"xref\": \"x1\", \"xanchor\": \"left\", \"yref\": \"y1\", \"text\": \"<b>14</b>\", \"align\": \"left\", \"y\": 14, \"x\": -0.45, \"font\": {\"color\": \"#ffffff\", \"size\": 15}, \"showarrow\": false}, {\"xref\": \"x1\", \"xanchor\": \"left\", \"yref\": \"y1\", \"text\": \"6\", \"align\": \"left\", \"y\": 14, \"x\": 0.55, \"font\": {\"color\": \"#000000\", \"size\": 15}, \"showarrow\": false}, {\"xref\": \"x1\", \"xanchor\": \"left\", \"yref\": \"y1\", \"text\": \"2\", \"align\": \"left\", \"y\": 14, \"x\": 1.55, \"font\": {\"color\": \"#000000\", \"size\": 15}, \"showarrow\": false}, {\"xref\": \"x1\", \"xanchor\": \"left\", \"yref\": \"y1\", \"text\": \"2\", \"align\": \"left\", \"y\": 14, \"x\": 2.55, \"font\": {\"color\": \"#000000\", \"size\": 15}, \"showarrow\": false}, {\"xref\": \"x1\", \"xanchor\": \"left\", \"yref\": \"y1\", \"text\": \"2\", \"align\": \"left\", \"y\": 14, \"x\": 3.55, \"font\": {\"color\": \"#000000\", \"size\": 15}, \"showarrow\": false}, {\"xref\": \"x1\", \"xanchor\": \"left\", \"yref\": \"y1\", \"text\": \"2\", \"align\": \"left\", \"y\": 14, \"x\": 4.55, \"font\": {\"color\": \"#000000\", \"size\": 15}, \"showarrow\": false}, {\"xref\": \"x1\", \"xanchor\": \"left\", \"yref\": \"y1\", \"text\": \"2\", \"align\": \"left\", \"y\": 14, \"x\": 5.55, \"font\": {\"color\": \"#000000\", \"size\": 15}, \"showarrow\": false}, {\"xref\": \"x1\", \"xanchor\": \"left\", \"yref\": \"y1\", \"text\": \"<b>15</b>\", \"align\": \"left\", \"y\": 15, \"x\": -0.45, \"font\": {\"color\": \"#ffffff\", \"size\": 15}, \"showarrow\": false}, {\"xref\": \"x1\", \"xanchor\": \"left\", \"yref\": \"y1\", \"text\": \"14\", \"align\": \"left\", \"y\": 15, \"x\": 0.55, \"font\": {\"color\": \"#000000\", \"size\": 15}, \"showarrow\": false}, {\"xref\": \"x1\", \"xanchor\": \"left\", \"yref\": \"y1\", \"text\": \"3\", \"align\": \"left\", \"y\": 15, \"x\": 1.55, \"font\": {\"color\": \"#000000\", \"size\": 15}, \"showarrow\": false}, {\"xref\": \"x1\", \"xanchor\": \"left\", \"yref\": \"y1\", \"text\": \"0\", \"align\": \"left\", \"y\": 15, \"x\": 2.55, \"font\": {\"color\": \"#000000\", \"size\": 15}, \"showarrow\": false}, {\"xref\": \"x1\", \"xanchor\": \"left\", \"yref\": \"y1\", \"text\": \"0\", \"align\": \"left\", \"y\": 15, \"x\": 3.55, \"font\": {\"color\": \"#000000\", \"size\": 15}, \"showarrow\": false}, {\"xref\": \"x1\", \"xanchor\": \"left\", \"yref\": \"y1\", \"text\": \"0\", \"align\": \"left\", \"y\": 15, \"x\": 4.55, \"font\": {\"color\": \"#000000\", \"size\": 15}, \"showarrow\": false}, {\"xref\": \"x1\", \"xanchor\": \"left\", \"yref\": \"y1\", \"text\": \"0\", \"align\": \"left\", \"y\": 15, \"x\": 5.55, \"font\": {\"color\": \"#000000\", \"size\": 15}, \"showarrow\": false}, {\"xref\": \"x1\", \"xanchor\": \"left\", \"yref\": \"y1\", \"text\": \"<b>16</b>\", \"align\": \"left\", \"y\": 16, \"x\": -0.45, \"font\": {\"color\": \"#ffffff\", \"size\": 15}, \"showarrow\": false}, {\"xref\": \"x1\", \"xanchor\": \"left\", \"yref\": \"y1\", \"text\": \"7\", \"align\": \"left\", \"y\": 16, \"x\": 0.55, \"font\": {\"color\": \"#000000\", \"size\": 15}, \"showarrow\": false}, {\"xref\": \"x1\", \"xanchor\": \"left\", \"yref\": \"y1\", \"text\": \"9\", \"align\": \"left\", \"y\": 16, \"x\": 1.55, \"font\": {\"color\": \"#000000\", \"size\": 15}, \"showarrow\": false}, {\"xref\": \"x1\", \"xanchor\": \"left\", \"yref\": \"y1\", \"text\": \"9\", \"align\": \"left\", \"y\": 16, \"x\": 2.55, \"font\": {\"color\": \"#000000\", \"size\": 15}, \"showarrow\": false}, {\"xref\": \"x1\", \"xanchor\": \"left\", \"yref\": \"y1\", \"text\": \"3\", \"align\": \"left\", \"y\": 16, \"x\": 3.55, \"font\": {\"color\": \"#000000\", \"size\": 15}, \"showarrow\": false}, {\"xref\": \"x1\", \"xanchor\": \"left\", \"yref\": \"y1\", \"text\": \"3\", \"align\": \"left\", \"y\": 16, \"x\": 4.55, \"font\": {\"color\": \"#000000\", \"size\": 15}, \"showarrow\": false}, {\"xref\": \"x1\", \"xanchor\": \"left\", \"yref\": \"y1\", \"text\": \"3\", \"align\": \"left\", \"y\": 16, \"x\": 5.55, \"font\": {\"color\": \"#000000\", \"size\": 15}, \"showarrow\": false}, {\"xref\": \"x1\", \"xanchor\": \"left\", \"yref\": \"y1\", \"text\": \"<b>17</b>\", \"align\": \"left\", \"y\": 17, \"x\": -0.45, \"font\": {\"color\": \"#ffffff\", \"size\": 15}, \"showarrow\": false}, {\"xref\": \"x1\", \"xanchor\": \"left\", \"yref\": \"y1\", \"text\": \"2\", \"align\": \"left\", \"y\": 17, \"x\": 0.55, \"font\": {\"color\": \"#000000\", \"size\": 15}, \"showarrow\": false}, {\"xref\": \"x1\", \"xanchor\": \"left\", \"yref\": \"y1\", \"text\": \"10\", \"align\": \"left\", \"y\": 17, \"x\": 1.55, \"font\": {\"color\": \"#000000\", \"size\": 15}, \"showarrow\": false}, {\"xref\": \"x1\", \"xanchor\": \"left\", \"yref\": \"y1\", \"text\": \"10\", \"align\": \"left\", \"y\": 17, \"x\": 2.55, \"font\": {\"color\": \"#000000\", \"size\": 15}, \"showarrow\": false}, {\"xref\": \"x1\", \"xanchor\": \"left\", \"yref\": \"y1\", \"text\": \"0\", \"align\": \"left\", \"y\": 17, \"x\": 3.55, \"font\": {\"color\": \"#000000\", \"size\": 15}, \"showarrow\": false}, {\"xref\": \"x1\", \"xanchor\": \"left\", \"yref\": \"y1\", \"text\": \"0\", \"align\": \"left\", \"y\": 17, \"x\": 4.55, \"font\": {\"color\": \"#000000\", \"size\": 15}, \"showarrow\": false}, {\"xref\": \"x1\", \"xanchor\": \"left\", \"yref\": \"y1\", \"text\": \"0\", \"align\": \"left\", \"y\": 17, \"x\": 5.55, \"font\": {\"color\": \"#000000\", \"size\": 15}, \"showarrow\": false}, {\"xref\": \"x1\", \"xanchor\": \"left\", \"yref\": \"y1\", \"text\": \"<b>18</b>\", \"align\": \"left\", \"y\": 18, \"x\": -0.45, \"font\": {\"color\": \"#ffffff\", \"size\": 15}, \"showarrow\": false}, {\"xref\": \"x1\", \"xanchor\": \"left\", \"yref\": \"y1\", \"text\": \"42\", \"align\": \"left\", \"y\": 18, \"x\": 0.55, \"font\": {\"color\": \"#000000\", \"size\": 15}, \"showarrow\": false}, {\"xref\": \"x1\", \"xanchor\": \"left\", \"yref\": \"y1\", \"text\": \"1\", \"align\": \"left\", \"y\": 18, \"x\": 1.55, \"font\": {\"color\": \"#000000\", \"size\": 15}, \"showarrow\": false}, {\"xref\": \"x1\", \"xanchor\": \"left\", \"yref\": \"y1\", \"text\": \"1\", \"align\": \"left\", \"y\": 18, \"x\": 2.55, \"font\": {\"color\": \"#000000\", \"size\": 15}, \"showarrow\": false}, {\"xref\": \"x1\", \"xanchor\": \"left\", \"yref\": \"y1\", \"text\": \"1\", \"align\": \"left\", \"y\": 18, \"x\": 3.55, \"font\": {\"color\": \"#000000\", \"size\": 15}, \"showarrow\": false}, {\"xref\": \"x1\", \"xanchor\": \"left\", \"yref\": \"y1\", \"text\": \"1\", \"align\": \"left\", \"y\": 18, \"x\": 4.55, \"font\": {\"color\": \"#000000\", \"size\": 15}, \"showarrow\": false}, {\"xref\": \"x1\", \"xanchor\": \"left\", \"yref\": \"y1\", \"text\": \"1\", \"align\": \"left\", \"y\": 18, \"x\": 5.55, \"font\": {\"color\": \"#000000\", \"size\": 15}, \"showarrow\": false}, {\"xref\": \"x1\", \"xanchor\": \"left\", \"yref\": \"y1\", \"text\": \"<b>19</b>\", \"align\": \"left\", \"y\": 19, \"x\": -0.45, \"font\": {\"color\": \"#ffffff\", \"size\": 15}, \"showarrow\": false}, {\"xref\": \"x1\", \"xanchor\": \"left\", \"yref\": \"y1\", \"text\": \"7\", \"align\": \"left\", \"y\": 19, \"x\": 0.55, \"font\": {\"color\": \"#000000\", \"size\": 15}, \"showarrow\": false}, {\"xref\": \"x1\", \"xanchor\": \"left\", \"yref\": \"y1\", \"text\": \"3\", \"align\": \"left\", \"y\": 19, \"x\": 1.55, \"font\": {\"color\": \"#000000\", \"size\": 15}, \"showarrow\": false}, {\"xref\": \"x1\", \"xanchor\": \"left\", \"yref\": \"y1\", \"text\": \"3\", \"align\": \"left\", \"y\": 19, \"x\": 2.55, \"font\": {\"color\": \"#000000\", \"size\": 15}, \"showarrow\": false}, {\"xref\": \"x1\", \"xanchor\": \"left\", \"yref\": \"y1\", \"text\": \"1\", \"align\": \"left\", \"y\": 19, \"x\": 3.55, \"font\": {\"color\": \"#000000\", \"size\": 15}, \"showarrow\": false}, {\"xref\": \"x1\", \"xanchor\": \"left\", \"yref\": \"y1\", \"text\": \"1\", \"align\": \"left\", \"y\": 19, \"x\": 4.55, \"font\": {\"color\": \"#000000\", \"size\": 15}, \"showarrow\": false}, {\"xref\": \"x1\", \"xanchor\": \"left\", \"yref\": \"y1\", \"text\": \"1\", \"align\": \"left\", \"y\": 19, \"x\": 5.55, \"font\": {\"color\": \"#000000\", \"size\": 15}, \"showarrow\": false}, {\"xref\": \"x1\", \"xanchor\": \"left\", \"yref\": \"y1\", \"text\": \"<b>20</b>\", \"align\": \"left\", \"y\": 20, \"x\": -0.45, \"font\": {\"color\": \"#ffffff\", \"size\": 15}, \"showarrow\": false}, {\"xref\": \"x1\", \"xanchor\": \"left\", \"yref\": \"y1\", \"text\": \"0\", \"align\": \"left\", \"y\": 20, \"x\": 0.55, \"font\": {\"color\": \"#000000\", \"size\": 15}, \"showarrow\": false}, {\"xref\": \"x1\", \"xanchor\": \"left\", \"yref\": \"y1\", \"text\": \"2\", \"align\": \"left\", \"y\": 20, \"x\": 1.55, \"font\": {\"color\": \"#000000\", \"size\": 15}, \"showarrow\": false}, {\"xref\": \"x1\", \"xanchor\": \"left\", \"yref\": \"y1\", \"text\": \"2\", \"align\": \"left\", \"y\": 20, \"x\": 2.55, \"font\": {\"color\": \"#000000\", \"size\": 15}, \"showarrow\": false}, {\"xref\": \"x1\", \"xanchor\": \"left\", \"yref\": \"y1\", \"text\": \"2\", \"align\": \"left\", \"y\": 20, \"x\": 3.55, \"font\": {\"color\": \"#000000\", \"size\": 15}, \"showarrow\": false}, {\"xref\": \"x1\", \"xanchor\": \"left\", \"yref\": \"y1\", \"text\": \"2\", \"align\": \"left\", \"y\": 20, \"x\": 4.55, \"font\": {\"color\": \"#000000\", \"size\": 15}, \"showarrow\": false}, {\"xref\": \"x1\", \"xanchor\": \"left\", \"yref\": \"y1\", \"text\": \"2\", \"align\": \"left\", \"y\": 20, \"x\": 5.55, \"font\": {\"color\": \"#000000\", \"size\": 15}, \"showarrow\": false}, {\"xref\": \"x1\", \"xanchor\": \"left\", \"yref\": \"y1\", \"text\": \"<b>21</b>\", \"align\": \"left\", \"y\": 21, \"x\": -0.45, \"font\": {\"color\": \"#ffffff\", \"size\": 15}, \"showarrow\": false}, {\"xref\": \"x1\", \"xanchor\": \"left\", \"yref\": \"y1\", \"text\": \"1\", \"align\": \"left\", \"y\": 21, \"x\": 0.55, \"font\": {\"color\": \"#000000\", \"size\": 15}, \"showarrow\": false}, {\"xref\": \"x1\", \"xanchor\": \"left\", \"yref\": \"y1\", \"text\": \"2\", \"align\": \"left\", \"y\": 21, \"x\": 1.55, \"font\": {\"color\": \"#000000\", \"size\": 15}, \"showarrow\": false}, {\"xref\": \"x1\", \"xanchor\": \"left\", \"yref\": \"y1\", \"text\": \"2\", \"align\": \"left\", \"y\": 21, \"x\": 2.55, \"font\": {\"color\": \"#000000\", \"size\": 15}, \"showarrow\": false}, {\"xref\": \"x1\", \"xanchor\": \"left\", \"yref\": \"y1\", \"text\": \"1\", \"align\": \"left\", \"y\": 21, \"x\": 3.55, \"font\": {\"color\": \"#000000\", \"size\": 15}, \"showarrow\": false}, {\"xref\": \"x1\", \"xanchor\": \"left\", \"yref\": \"y1\", \"text\": \"1\", \"align\": \"left\", \"y\": 21, \"x\": 4.55, \"font\": {\"color\": \"#000000\", \"size\": 15}, \"showarrow\": false}, {\"xref\": \"x1\", \"xanchor\": \"left\", \"yref\": \"y1\", \"text\": \"1\", \"align\": \"left\", \"y\": 21, \"x\": 5.55, \"font\": {\"color\": \"#000000\", \"size\": 15}, \"showarrow\": false}, {\"xref\": \"x1\", \"xanchor\": \"left\", \"yref\": \"y1\", \"text\": \"<b>22</b>\", \"align\": \"left\", \"y\": 22, \"x\": -0.45, \"font\": {\"color\": \"#ffffff\", \"size\": 15}, \"showarrow\": false}, {\"xref\": \"x1\", \"xanchor\": \"left\", \"yref\": \"y1\", \"text\": \"10\", \"align\": \"left\", \"y\": 22, \"x\": 0.55, \"font\": {\"color\": \"#000000\", \"size\": 15}, \"showarrow\": false}, {\"xref\": \"x1\", \"xanchor\": \"left\", \"yref\": \"y1\", \"text\": \"2\", \"align\": \"left\", \"y\": 22, \"x\": 1.55, \"font\": {\"color\": \"#000000\", \"size\": 15}, \"showarrow\": false}, {\"xref\": \"x1\", \"xanchor\": \"left\", \"yref\": \"y1\", \"text\": \"2\", \"align\": \"left\", \"y\": 22, \"x\": 2.55, \"font\": {\"color\": \"#000000\", \"size\": 15}, \"showarrow\": false}, {\"xref\": \"x1\", \"xanchor\": \"left\", \"yref\": \"y1\", \"text\": \"2\", \"align\": \"left\", \"y\": 22, \"x\": 3.55, \"font\": {\"color\": \"#000000\", \"size\": 15}, \"showarrow\": false}, {\"xref\": \"x1\", \"xanchor\": \"left\", \"yref\": \"y1\", \"text\": \"2\", \"align\": \"left\", \"y\": 22, \"x\": 4.55, \"font\": {\"color\": \"#000000\", \"size\": 15}, \"showarrow\": false}, {\"xref\": \"x1\", \"xanchor\": \"left\", \"yref\": \"y1\", \"text\": \"2\", \"align\": \"left\", \"y\": 22, \"x\": 5.55, \"font\": {\"color\": \"#000000\", \"size\": 15}, \"showarrow\": false}, {\"xref\": \"x1\", \"xanchor\": \"left\", \"yref\": \"y1\", \"text\": \"<b>23</b>\", \"align\": \"left\", \"y\": 23, \"x\": -0.45, \"font\": {\"color\": \"#ffffff\", \"size\": 15}, \"showarrow\": false}, {\"xref\": \"x1\", \"xanchor\": \"left\", \"yref\": \"y1\", \"text\": \"1\", \"align\": \"left\", \"y\": 23, \"x\": 0.55, \"font\": {\"color\": \"#000000\", \"size\": 15}, \"showarrow\": false}, {\"xref\": \"x1\", \"xanchor\": \"left\", \"yref\": \"y1\", \"text\": \"6\", \"align\": \"left\", \"y\": 23, \"x\": 1.55, \"font\": {\"color\": \"#000000\", \"size\": 15}, \"showarrow\": false}, {\"xref\": \"x1\", \"xanchor\": \"left\", \"yref\": \"y1\", \"text\": \"6\", \"align\": \"left\", \"y\": 23, \"x\": 2.55, \"font\": {\"color\": \"#000000\", \"size\": 15}, \"showarrow\": false}, {\"xref\": \"x1\", \"xanchor\": \"left\", \"yref\": \"y1\", \"text\": \"1\", \"align\": \"left\", \"y\": 23, \"x\": 3.55, \"font\": {\"color\": \"#000000\", \"size\": 15}, \"showarrow\": false}, {\"xref\": \"x1\", \"xanchor\": \"left\", \"yref\": \"y1\", \"text\": \"1\", \"align\": \"left\", \"y\": 23, \"x\": 4.55, \"font\": {\"color\": \"#000000\", \"size\": 15}, \"showarrow\": false}, {\"xref\": \"x1\", \"xanchor\": \"left\", \"yref\": \"y1\", \"text\": \"1\", \"align\": \"left\", \"y\": 23, \"x\": 5.55, \"font\": {\"color\": \"#000000\", \"size\": 15}, \"showarrow\": false}, {\"xref\": \"x1\", \"xanchor\": \"left\", \"yref\": \"y1\", \"text\": \"<b>24</b>\", \"align\": \"left\", \"y\": 24, \"x\": -0.45, \"font\": {\"color\": \"#ffffff\", \"size\": 15}, \"showarrow\": false}, {\"xref\": \"x1\", \"xanchor\": \"left\", \"yref\": \"y1\", \"text\": \"0\", \"align\": \"left\", \"y\": 24, \"x\": 0.55, \"font\": {\"color\": \"#000000\", \"size\": 15}, \"showarrow\": false}, {\"xref\": \"x1\", \"xanchor\": \"left\", \"yref\": \"y1\", \"text\": \"0\", \"align\": \"left\", \"y\": 24, \"x\": 1.55, \"font\": {\"color\": \"#000000\", \"size\": 15}, \"showarrow\": false}, {\"xref\": \"x1\", \"xanchor\": \"left\", \"yref\": \"y1\", \"text\": \"0\", \"align\": \"left\", \"y\": 24, \"x\": 2.55, \"font\": {\"color\": \"#000000\", \"size\": 15}, \"showarrow\": false}, {\"xref\": \"x1\", \"xanchor\": \"left\", \"yref\": \"y1\", \"text\": \"0\", \"align\": \"left\", \"y\": 24, \"x\": 3.55, \"font\": {\"color\": \"#000000\", \"size\": 15}, \"showarrow\": false}, {\"xref\": \"x1\", \"xanchor\": \"left\", \"yref\": \"y1\", \"text\": \"0\", \"align\": \"left\", \"y\": 24, \"x\": 4.55, \"font\": {\"color\": \"#000000\", \"size\": 15}, \"showarrow\": false}, {\"xref\": \"x1\", \"xanchor\": \"left\", \"yref\": \"y1\", \"text\": \"0\", \"align\": \"left\", \"y\": 24, \"x\": 5.55, \"font\": {\"color\": \"#000000\", \"size\": 15}, \"showarrow\": false}, {\"xref\": \"x1\", \"xanchor\": \"left\", \"yref\": \"y1\", \"text\": \"<b>25</b>\", \"align\": \"left\", \"y\": 25, \"x\": -0.45, \"font\": {\"color\": \"#ffffff\", \"size\": 15}, \"showarrow\": false}, {\"xref\": \"x1\", \"xanchor\": \"left\", \"yref\": \"y1\", \"text\": \"9\", \"align\": \"left\", \"y\": 25, \"x\": 0.55, \"font\": {\"color\": \"#000000\", \"size\": 15}, \"showarrow\": false}, {\"xref\": \"x1\", \"xanchor\": \"left\", \"yref\": \"y1\", \"text\": \"3\", \"align\": \"left\", \"y\": 25, \"x\": 1.55, \"font\": {\"color\": \"#000000\", \"size\": 15}, \"showarrow\": false}, {\"xref\": \"x1\", \"xanchor\": \"left\", \"yref\": \"y1\", \"text\": \"3\", \"align\": \"left\", \"y\": 25, \"x\": 2.55, \"font\": {\"color\": \"#000000\", \"size\": 15}, \"showarrow\": false}, {\"xref\": \"x1\", \"xanchor\": \"left\", \"yref\": \"y1\", \"text\": \"1\", \"align\": \"left\", \"y\": 25, \"x\": 3.55, \"font\": {\"color\": \"#000000\", \"size\": 15}, \"showarrow\": false}, {\"xref\": \"x1\", \"xanchor\": \"left\", \"yref\": \"y1\", \"text\": \"1\", \"align\": \"left\", \"y\": 25, \"x\": 4.55, \"font\": {\"color\": \"#000000\", \"size\": 15}, \"showarrow\": false}, {\"xref\": \"x1\", \"xanchor\": \"left\", \"yref\": \"y1\", \"text\": \"1\", \"align\": \"left\", \"y\": 25, \"x\": 5.55, \"font\": {\"color\": \"#000000\", \"size\": 15}, \"showarrow\": false}], \"xaxis\": {\"showticklabels\": false, \"tick0\": -0.5, \"ticks\": \"\", \"gridwidth\": 2, \"dtick\": 1, \"zeroline\": false}, \"height\": 830}, {\"linkText\": \"Export to plot.ly\", \"showLink\": true})});</script>"
      ]
     },
     "metadata": {},
     "output_type": "display_data"
    }
   ],
   "source": [
    "table = ff.create_table(data_matrix,index=True, index_title='Date')\n",
    "for i in range(len(table.layout.annotations)):\n",
    "    table.layout.annotations[i].font.size = 15\n",
    "iplot(table, filename='simple_table')\n"
   ]
  },
  {
   "cell_type": "code",
   "execution_count": null,
   "metadata": {
    "collapsed": true
   },
   "outputs": [],
   "source": []
  }
 ],
 "metadata": {
  "kernelspec": {
   "display_name": "Python 2",
   "language": "python",
   "name": "python2"
  },
  "language_info": {
   "codemirror_mode": {
    "name": "ipython",
    "version": 2
   },
   "file_extension": ".py",
   "mimetype": "text/x-python",
   "name": "python",
   "nbconvert_exporter": "python",
   "pygments_lexer": "ipython2",
   "version": "2.7.13"
  }
 },
 "nbformat": 4,
 "nbformat_minor": 2
}
