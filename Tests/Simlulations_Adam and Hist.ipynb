{
 "cells": [
  {
   "cell_type": "markdown",
   "metadata": {},
   "source": [
    "### Simlulations: Adam & Hist"
   ]
  },
  {
   "cell_type": "code",
   "execution_count": 2,
   "metadata": {
    "collapsed": true
   },
   "outputs": [],
   "source": [
    "import time\n",
    "import powerlaw\n",
    "%run 'Removing-leaves estimator .ipynb'"
   ]
  },
  {
   "cell_type": "markdown",
   "metadata": {},
   "source": [
    "### BA Model"
   ]
  },
  {
   "cell_type": "code",
   "execution_count": 3,
   "metadata": {
    "collapsed": true
   },
   "outputs": [],
   "source": [
    "resultsRL={} #This dict contains all the vrtices found by the rl estimator for different graph sizes\n",
    "values_rl={} #This dict is created from resultsDC\n",
    "results_rl_time={}"
   ]
  },
  {
   "cell_type": "code",
   "execution_count": null,
   "metadata": {
    "collapsed": true
   },
   "outputs": [],
   "source": [
    "graph_size=[100,200,300,400,500,600,700,800,900,1000,1500,2000,2500,3000,4000,5000,10000]:\n",
    "\n",
    "\n",
    "for N in graph_size:\n",
    "    results_rl=[]\n",
    "    start_time=time.time()\n",
    "    for i in range(0,500):\n",
    "        ba=nx.barabasi_albert_graph(N,1)\n",
    "        v=rem2(ba)\n",
    "        results_rl.append([N,v])\n",
    "    final_time= -start_time +time.time()\n",
    "    results_rl_time[str(N)]=final_time\n",
    "    \n",
    "    resultsRL[str(N)]=[i[1] for i in results_rl]\n",
    "    print N"
   ]
  },
  {
   "cell_type": "markdown",
   "metadata": {},
   "source": [
    "#### BA size=100, simulations=500"
   ]
  },
  {
   "cell_type": "code",
   "execution_count": 5,
   "metadata": {},
   "outputs": [
    {
     "name": "stdout",
     "output_type": "stream",
     "text": [
      "Sim 100\n",
      "PROGRESS = |-------------                                            |\n",
      "PROGRESS = | -------------.-------------                             |\n",
      "PROGRESS = | -------------.-------------.-------------               |\n",
      "PROGRESS = | -------------.-------------.-------------.------------- | DONE!\n",
      "time 5.671329\n"
     ]
    }
   ],
   "source": [
    "start_time=time.clock()\n",
    "results100=[]\n",
    "print \"Sim 100\"\n",
    "for i in range(0,500):\n",
    "    ba=nx.barabasi_albert_graph(100,1)\n",
    "    a=rem(ba)\n",
    "    results100.append(a)\n",
    "    if i==500/4:\n",
    "        print \"PROGRESS = |-------------                                            |\"\n",
    "    if i==2*500/4:\n",
    "        print \"PROGRESS = | -------------.-------------                             |\"\n",
    "    if i==3*500/4:\n",
    "        print \"PROGRESS = | -------------.-------------.-------------               |\"\n",
    "    if  i==4*500/4-1:\n",
    "        print \"PROGRESS = | -------------.-------------.-------------.------------- | DONE!\"\n",
    "final_time=-start_time+time.clock()\n",
    "print 'time',final_time"
   ]
  },
  {
   "cell_type": "code",
   "execution_count": 30,
   "metadata": {},
   "outputs": [
    {
     "name": "stdout",
     "output_type": "stream",
     "text": [
      "500\n",
      "vtx 1 91\n",
      "vtx 0 72\n"
     ]
    }
   ],
   "source": [
    "print len(results100)\n",
    "i=0\n",
    "C=0\n",
    "D=0\n",
    "while i<500:\n",
    "    if results100[i]==1:\n",
    "        C=C+1\n",
    "    elif results100[i]==0:\n",
    "        D=D+1\n",
    "    i=i+1\n",
    "print 'vtx 1',C\n",
    "print 'vtx 0',D"
   ]
  },
  {
   "cell_type": "code",
   "execution_count": 33,
   "metadata": {},
   "outputs": [
    {
     "data": {
      "image/png": "[encoded data removed]",
      "text/plain": [
       "<matplotlib.figure.Figure at 0xaca2a88c>"
      ]
     },
     "metadata": {},
     "output_type": "display_data"
    }
   ],
   "source": [
    "%matplotlib inline \n",
    "#REMOVING LEAVES RESULTS\n",
    "#x = np.random.normal(size = 1000)\n",
    "plt.hist(results100, bins=100,normed=True)\n",
    "plt.ylabel('');"
   ]
  },
  {
   "cell_type": "code",
   "execution_count": null,
   "metadata": {
    "collapsed": true
   },
   "outputs": [],
   "source": [
    "results_deg100=[]\n",
    "for i in range(0,1000):\n",
    "    ba=nx.barabasi_albert_graph(100,1)\n",
    "    degree_c = nx.degree_centrality(ba)\n",
    "    a=max(degree_c.iteritems(), key=operator.itemgetter(1))[0]\n",
    "    results_deg100.append(a)\n",
    "    print i,"
   ]
  },
  {
   "cell_type": "code",
   "execution_count": null,
   "metadata": {
    "collapsed": true
   },
   "outputs": [],
   "source": [
    "%matplotlib inline \n",
    "#DEGREE RESULTS\n",
    "#x = np.random.normal(size = 1000)\n",
    "plt.hist(results_deg100, bins=100,color='r')\n",
    "plt.ylabel('');"
   ]
  },
  {
   "cell_type": "markdown",
   "metadata": {},
   "source": [
    "#### BA size=1000, simulations=500"
   ]
  },
  {
   "cell_type": "code",
   "execution_count": 7,
   "metadata": {},
   "outputs": [
    {
     "name": "stdout",
     "output_type": "stream",
     "text": [
      "Sim 1000\n",
      "time 39.034568\n"
     ]
    }
   ],
   "source": [
    "start_time=time.clock()\n",
    "results1000=[]\n",
    "n=50\n",
    "print \"Sim 1000\"\n",
    "for i in range(0,n):\n",
    "    ba=nx.barabasi_albert_graph(1000,1)\n",
    "    a=rem(ba)\n",
    "    results1000.append(a)\n",
    "    if i==500/4:\n",
    "        print \"PROGRESS = |-------------                                            |\"\n",
    "    if i==2*500/4:\n",
    "        print \"PROGRESS = | -------------.-------------                             |\"\n",
    "    if i==3*500/4:\n",
    "        print \"PROGRESS = | -------------.-------------.-------------               |\"\n",
    "    if  i==4*500/4-1:\n",
    "        print \"PROGRESS = | -------------.-------------.-------------.------------- | DONE!\"\n",
    "final_time=-start_time+time.clock()\n",
    "print 'time',final_time"
   ]
  },
  {
   "cell_type": "code",
   "execution_count": 29,
   "metadata": {},
   "outputs": [
    {
     "name": "stdout",
     "output_type": "stream",
     "text": [
      "500\n",
      "vtx 1 19\n",
      "vtx 0 21\n"
     ]
    }
   ],
   "source": [
    "print len(results1000)\n",
    "i=0\n",
    "C=0\n",
    "D=0\n",
    "while i<100:\n",
    "    if results1000[i]==1:\n",
    "        C=C+1\n",
    "    elif results1000[i]==0:\n",
    "        D=D+1\n",
    "    i=i+1\n",
    "print 'vtx 1',C\n",
    "print 'vtx 0',D"
   ]
  },
  {
   "cell_type": "code",
   "execution_count": 32,
   "metadata": {},
   "outputs": [
    {
     "data": {
      "image/png": "[encoded data removed]",
      "text/plain": [
       "<matplotlib.figure.Figure at 0xaca2a1ac>"
      ]
     },
     "metadata": {},
     "output_type": "display_data"
    }
   ],
   "source": [
    "%matplotlib inline\n",
    "plt.hist(results1000, bins=100,normed=True)\n",
    "plt.ylabel('');"
   ]
  },
  {
   "cell_type": "code",
   "execution_count": null,
   "metadata": {
    "collapsed": true
   },
   "outputs": [],
   "source": []
  },
  {
   "cell_type": "markdown",
   "metadata": {},
   "source": [
    "#### BA size=10000, simulations=500"
   ]
  },
  {
   "cell_type": "code",
   "execution_count": 34,
   "metadata": {},
   "outputs": [
    {
     "name": "stdout",
     "output_type": "stream",
     "text": [
      "Sim 10000\n"
     ]
    },
    {
     "ename": "MemoryError",
     "evalue": "",
     "output_type": "error",
     "traceback": [
      "\u001b[0;31m\u001b[0m",
      "\u001b[0;31mMemoryError\u001b[0mTraceback (most recent call last)",
      "\u001b[0;32m<ipython-input-34-88e7ba37c6f3>\u001b[0m in \u001b[0;36m<module>\u001b[0;34m()\u001b[0m\n\u001b[1;32m      3\u001b[0m \u001b[0;32mfor\u001b[0m \u001b[0mi\u001b[0m \u001b[0;32min\u001b[0m \u001b[0mrange\u001b[0m\u001b[0;34m(\u001b[0m\u001b[0;36m0\u001b[0m\u001b[0;34m,\u001b[0m\u001b[0;36m500\u001b[0m\u001b[0;34m)\u001b[0m\u001b[0;34m:\u001b[0m\u001b[0;34m\u001b[0m\u001b[0m\n\u001b[1;32m      4\u001b[0m     \u001b[0mba\u001b[0m\u001b[0;34m=\u001b[0m\u001b[0mnx\u001b[0m\u001b[0;34m.\u001b[0m\u001b[0mbarabasi_albert_graph\u001b[0m\u001b[0;34m(\u001b[0m\u001b[0;36m10000\u001b[0m\u001b[0;34m,\u001b[0m\u001b[0;36m1\u001b[0m\u001b[0;34m)\u001b[0m\u001b[0;34m\u001b[0m\u001b[0m\n\u001b[0;32m----> 5\u001b[0;31m     \u001b[0ma\u001b[0m\u001b[0;34m=\u001b[0m\u001b[0mrem\u001b[0m\u001b[0;34m(\u001b[0m\u001b[0mba\u001b[0m\u001b[0;34m)\u001b[0m\u001b[0;34m\u001b[0m\u001b[0m\n\u001b[0m\u001b[1;32m      6\u001b[0m     \u001b[0mresults10000\u001b[0m\u001b[0;34m.\u001b[0m\u001b[0mappend\u001b[0m\u001b[0;34m(\u001b[0m\u001b[0ma\u001b[0m\u001b[0;34m)\u001b[0m\u001b[0;34m\u001b[0m\u001b[0m\n\u001b[1;32m      7\u001b[0m     \u001b[0;32mif\u001b[0m \u001b[0mi\u001b[0m\u001b[0;34m==\u001b[0m\u001b[0;36m500\u001b[0m\u001b[0;34m/\u001b[0m\u001b[0;36m4\u001b[0m\u001b[0;34m:\u001b[0m\u001b[0;34m\u001b[0m\u001b[0m\n",
      "\u001b[0;32m<ipython-input-17-0517201f0f61>\u001b[0m in \u001b[0;36mrem\u001b[0;34m(G)\u001b[0m\n\u001b[1;32m     24\u001b[0m     \u001b[0mj\u001b[0m\u001b[0;34m=\u001b[0m\u001b[0mnode_list\u001b[0m\u001b[0;34m.\u001b[0m\u001b[0mindex\u001b[0m\u001b[0;34m(\u001b[0m\u001b[0ms\u001b[0m\u001b[0;34m[\u001b[0m\u001b[0;36m0\u001b[0m\u001b[0;34m]\u001b[0m\u001b[0;34m)\u001b[0m\u001b[0;34m\u001b[0m\u001b[0m\n\u001b[1;32m     25\u001b[0m     \u001b[0mcolors\u001b[0m\u001b[0;34m[\u001b[0m\u001b[0mj\u001b[0m\u001b[0;34m]\u001b[0m\u001b[0;34m=\u001b[0m\u001b[0;34m'#6495ed'\u001b[0m\u001b[0;34m\u001b[0m\u001b[0m\n\u001b[0;32m---> 26\u001b[0;31m     \u001b[0mpos\u001b[0m \u001b[0;34m=\u001b[0m \u001b[0mnx\u001b[0m\u001b[0;34m.\u001b[0m\u001b[0mspring_layout\u001b[0m\u001b[0;34m(\u001b[0m\u001b[0mGplot\u001b[0m\u001b[0;34m)\u001b[0m\u001b[0;34m\u001b[0m\u001b[0m\n\u001b[0m\u001b[1;32m     27\u001b[0m     \u001b[0;31m#nx.draw(Gplot,pos,node_color=colors,with_labels=True,alpha=.4, linewidths=0)\u001b[0m\u001b[0;34m\u001b[0m\u001b[0;34m\u001b[0m\u001b[0m\n\u001b[1;32m     28\u001b[0m     \u001b[0;31m#plt.axis('off')\u001b[0m\u001b[0;34m\u001b[0m\u001b[0;34m\u001b[0m\u001b[0m\n",
      "\u001b[0;32m/home/diego/anaconda2/lib/python2.7/site-packages/networkx/drawing/layout.pyc\u001b[0m in \u001b[0;36mfruchterman_reingold_layout\u001b[0;34m(G, k, pos, fixed, iterations, weight, scale, center, dim)\u001b[0m\n\u001b[1;32m    331\u001b[0m             \u001b[0mnnodes\u001b[0m\u001b[0;34m,\u001b[0m \u001b[0m_\u001b[0m \u001b[0;34m=\u001b[0m \u001b[0mA\u001b[0m\u001b[0;34m.\u001b[0m\u001b[0mshape\u001b[0m\u001b[0;34m\u001b[0m\u001b[0m\n\u001b[1;32m    332\u001b[0m             \u001b[0mk\u001b[0m \u001b[0;34m=\u001b[0m \u001b[0mdom_size\u001b[0m \u001b[0;34m/\u001b[0m \u001b[0mnp\u001b[0m\u001b[0;34m.\u001b[0m\u001b[0msqrt\u001b[0m\u001b[0;34m(\u001b[0m\u001b[0mnnodes\u001b[0m\u001b[0;34m)\u001b[0m\u001b[0;34m\u001b[0m\u001b[0m\n\u001b[0;32m--> 333\u001b[0;31m         \u001b[0mpos\u001b[0m \u001b[0;34m=\u001b[0m \u001b[0m_fruchterman_reingold\u001b[0m\u001b[0;34m(\u001b[0m\u001b[0mA\u001b[0m\u001b[0;34m,\u001b[0m \u001b[0mk\u001b[0m\u001b[0;34m,\u001b[0m \u001b[0mpos_arr\u001b[0m\u001b[0;34m,\u001b[0m \u001b[0mfixed\u001b[0m\u001b[0;34m,\u001b[0m \u001b[0miterations\u001b[0m\u001b[0;34m,\u001b[0m \u001b[0mdim\u001b[0m\u001b[0;34m)\u001b[0m\u001b[0;34m\u001b[0m\u001b[0m\n\u001b[0m\u001b[1;32m    334\u001b[0m     \u001b[0;32mif\u001b[0m \u001b[0mfixed\u001b[0m \u001b[0;32mis\u001b[0m \u001b[0mNone\u001b[0m\u001b[0;34m:\u001b[0m\u001b[0;34m\u001b[0m\u001b[0m\n\u001b[1;32m    335\u001b[0m         \u001b[0mpos\u001b[0m \u001b[0;34m=\u001b[0m \u001b[0mrescale_layout\u001b[0m\u001b[0;34m(\u001b[0m\u001b[0mpos\u001b[0m\u001b[0;34m,\u001b[0m \u001b[0mscale\u001b[0m\u001b[0;34m=\u001b[0m\u001b[0mscale\u001b[0m\u001b[0;34m)\u001b[0m \u001b[0;34m+\u001b[0m \u001b[0mcenter\u001b[0m\u001b[0;34m\u001b[0m\u001b[0m\n",
      "\u001b[0;32m/home/diego/anaconda2/lib/python2.7/site-packages/networkx/drawing/layout.pyc\u001b[0m in \u001b[0;36m_fruchterman_reingold\u001b[0;34m(A, k, pos, fixed, iterations, dim)\u001b[0m\n\u001b[1;32m    384\u001b[0m     \u001b[0;32mfor\u001b[0m \u001b[0miteration\u001b[0m \u001b[0;32min\u001b[0m \u001b[0mrange\u001b[0m\u001b[0;34m(\u001b[0m\u001b[0miterations\u001b[0m\u001b[0;34m)\u001b[0m\u001b[0;34m:\u001b[0m\u001b[0;34m\u001b[0m\u001b[0m\n\u001b[1;32m    385\u001b[0m         \u001b[0;31m# matrix of difference between points\u001b[0m\u001b[0;34m\u001b[0m\u001b[0;34m\u001b[0m\u001b[0m\n\u001b[0;32m--> 386\u001b[0;31m         \u001b[0mdelta\u001b[0m \u001b[0;34m=\u001b[0m \u001b[0mpos\u001b[0m\u001b[0;34m[\u001b[0m\u001b[0;34m:\u001b[0m\u001b[0;34m,\u001b[0m \u001b[0mnp\u001b[0m\u001b[0;34m.\u001b[0m\u001b[0mnewaxis\u001b[0m\u001b[0;34m,\u001b[0m \u001b[0;34m:\u001b[0m\u001b[0;34m]\u001b[0m \u001b[0;34m-\u001b[0m \u001b[0mpos\u001b[0m\u001b[0;34m[\u001b[0m\u001b[0mnp\u001b[0m\u001b[0;34m.\u001b[0m\u001b[0mnewaxis\u001b[0m\u001b[0;34m,\u001b[0m \u001b[0;34m:\u001b[0m\u001b[0;34m,\u001b[0m \u001b[0;34m:\u001b[0m\u001b[0;34m]\u001b[0m\u001b[0;34m\u001b[0m\u001b[0m\n\u001b[0m\u001b[1;32m    387\u001b[0m         \u001b[0;31m# distance between points\u001b[0m\u001b[0;34m\u001b[0m\u001b[0;34m\u001b[0m\u001b[0m\n\u001b[1;32m    388\u001b[0m         \u001b[0mdistance\u001b[0m \u001b[0;34m=\u001b[0m \u001b[0mnp\u001b[0m\u001b[0;34m.\u001b[0m\u001b[0mlinalg\u001b[0m\u001b[0;34m.\u001b[0m\u001b[0mnorm\u001b[0m\u001b[0;34m(\u001b[0m\u001b[0mdelta\u001b[0m\u001b[0;34m,\u001b[0m \u001b[0maxis\u001b[0m\u001b[0;34m=\u001b[0m\u001b[0;34m-\u001b[0m\u001b[0;36m1\u001b[0m\u001b[0;34m)\u001b[0m\u001b[0;34m\u001b[0m\u001b[0m\n",
      "\u001b[0;31mMemoryError\u001b[0m: "
     ]
    }
   ],
   "source": [
    "results10000=[]\n",
    "print \"Sim 10000\"\n",
    "for i in range(0,500):\n",
    "    ba=nx.barabasi_albert_graph(10000,1)\n",
    "    a=rem(ba)\n",
    "    results10000.append(a)\n",
    "    if i==500/4:\n",
    "        print \"PROGRESS = |-------------                                            |\"\n",
    "    if i==2*500/4:\n",
    "        print \"PROGRESS = | -------------.-------------                             |\"\n",
    "    if i==3*500/4:\n",
    "        print \"PROGRESS = | -------------.-------------.-------------               |\"\n",
    "    if  i==4*500/4-1:\n",
    "        print \"PROGRESS = | -------------.-------------.-------------.------------- | DONE!\""
   ]
  },
  {
   "cell_type": "code",
   "execution_count": 29,
   "metadata": {},
   "outputs": [
    {
     "name": "stdout",
     "output_type": "stream",
     "text": [
      "500\n",
      "vtx 1 19\n",
      "vtx 0 21\n"
     ]
    }
   ],
   "source": [
    "print len(results10000)\n",
    "i=0\n",
    "C=0\n",
    "D=0\n",
    "while i<100:\n",
    "    if results10000[i]==1:\n",
    "        C=C+1\n",
    "    elif results10000[i]==0:\n",
    "        D=D+1\n",
    "    i=i+1\n",
    "print 'vtx 1',C\n",
    "print 'vtx 0',D"
   ]
  },
  {
   "cell_type": "code",
   "execution_count": 32,
   "metadata": {},
   "outputs": [
    {
     "data": {
      "image/png": "[encoded data removed]",
      "text/plain": [
       "<matplotlib.figure.Figure at 0xaca2a1ac>"
      ]
     },
     "metadata": {},
     "output_type": "display_data"
    }
   ],
   "source": [
    "%matplotlib inline\n",
    "plt.hist(results10000, bins=100,normed=True)\n",
    "plt.ylabel('');"
   ]
  },
  {
   "cell_type": "code",
   "execution_count": 16,
   "metadata": {},
   "outputs": [
    {
     "data": {
      "application/vnd.jupyter.widget-view+json": {
       "model_id": "97a220587b7544fda7df03f50abecc70"
      }
     },
     "metadata": {},
     "output_type": "display_data"
    }
   ],
   "source": [
    "@interact\n",
    "def sim(N=(3,10)):  #[10**2,10**3,10**4]\n",
    "    results=[]\n",
    "    for i in range(0,10):\n",
    "        ba=nx.barabasi_albert_graph(N,1)\n",
    "        a=rem(ba)\n",
    "        results.append(a)\n",
    "    %matplotlib inline \n",
    "    #REMOVING LEAVES RESULTS\n",
    "    #x = np.random.normal(size = 1000)\n",
    "    plt.hist(results, bins=N)\n",
    "    plt.ylabel('');\n",
    "    plt.show()\n",
    "        #print i,"
   ]
  }
 ],
 "metadata": {
  "kernelspec": {
   "display_name": "Python 2",
   "language": "python",
   "name": "python2"
  },
  "language_info": {
   "codemirror_mode": {
    "name": "ipython",
    "version": 2
   },
   "file_extension": ".py",
   "mimetype": "text/x-python",
   "name": "python",
   "nbconvert_exporter": "python",
   "pygments_lexer": "ipython2",
   "version": "2.7.13"
  }
 },
 "nbformat": 4,
 "nbformat_minor": 2
}
