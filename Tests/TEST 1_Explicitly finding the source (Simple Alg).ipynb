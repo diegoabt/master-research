{
 "cells": [
  {
   "cell_type": "code",
   "execution_count": 1,
   "metadata": {
    "collapsed": true
   },
   "outputs": [],
   "source": [
    "#%run 'Removing-leaves estimator .ipynb'\n",
    "%run 'Estimators in their lasts versions.ipynb'\n",
    "%run '/home/diego/Dropbox/Tesis/Modelos/UA model.ipynb'\n",
    "%run '/home/diego/Dropbox/Tesis/Modelos/Shah Tree.ipynb'"
   ]
  },
  {
   "cell_type": "code",
   "execution_count": 2,
   "metadata": {},
   "outputs": [
    {
     "name": "stdout",
     "output_type": "stream",
     "text": [
      "2.2.2\n"
     ]
    },
    {
     "data": {
      "text/html": [
       "<script>requirejs.config({paths: { 'plotly': ['https://cdn.plot.ly/plotly-latest.min']},});if(!window.Plotly) {{require(['plotly'],function(plotly) {window.Plotly=plotly;});}}</script>"
      ],
      "text/vnd.plotly.v1+html": [
       "<script>requirejs.config({paths: { 'plotly': ['https://cdn.plot.ly/plotly-latest.min']},});if(!window.Plotly) {{require(['plotly'],function(plotly) {window.Plotly=plotly;});}}</script>"
      ]
     },
     "metadata": {},
     "output_type": "display_data"
    }
   ],
   "source": [
    "import time\n",
    "import networkx as nx\n",
    "import powerlaw\n",
    "import plotly.plotly as py\n",
    "import plotly.graph_objs as go\n",
    "import numpy as np\n",
    "from plotly import tools\n",
    "from plotly import __version__\n",
    "from plotly.offline import download_plotlyjs, init_notebook_mode, plot,iplot\n",
    "print (__version__) # requires version >= 1.9.0\n",
    "\n",
    "#Always run this the command before at the start of notebook\n",
    "init_notebook_mode(connected=True)\n",
    "import plotly.graph_objs as go"
   ]
  },
  {
   "cell_type": "code",
   "execution_count": 5,
   "metadata": {
    "collapsed": true
   },
   "outputs": [],
   "source": [
    "resultsSA={} #This dict contains all the vrtices found by the rl estimator for different graph sizes\n",
    "values_sa={} #This dict is created from resultsDC\n",
    "results_sa_time={}"
   ]
  },
  {
   "cell_type": "code",
   "execution_count": 12,
   "metadata": {},
   "outputs": [
    {
     "name": "stdout",
     "output_type": "stream",
     "text": [
      "50\n",
      "75\n",
      "100\n"
     ]
    }
   ],
   "source": [
    "#\n",
    "for N in [50,75,100]:\n",
    "    results_pr=[]\n",
    "    start_time=time.time()\n",
    "    for i in range(0,50):\n",
    "        ba=nx.barabasi_albert_graph(N,1)\n",
    "        simple_rfa=simple(ba)\n",
    "        simple_center=simple_rfa[0][0]\n",
    "        results_pr.append([N,simple_center])\n",
    "    final_time= -start_time +time.time()\n",
    "    results_sa_time[str(N)]=final_time\n",
    "    \n",
    "    resultsSA[str(N)]=[i[1] for i in results_pr]\n",
    "    print N\n",
    "    "
   ]
  },
  {
   "cell_type": "code",
   "execution_count": 13,
   "metadata": {},
   "outputs": [
    {
     "data": {
      "text/plain": [
       "{'100': [0,\n",
       "  0,\n",
       "  1,\n",
       "  4,\n",
       "  1,\n",
       "  0,\n",
       "  0,\n",
       "  2,\n",
       "  0,\n",
       "  1,\n",
       "  0,\n",
       "  4,\n",
       "  1,\n",
       "  2,\n",
       "  0,\n",
       "  3,\n",
       "  2,\n",
       "  0,\n",
       "  4,\n",
       "  0,\n",
       "  0,\n",
       "  1,\n",
       "  0,\n",
       "  0,\n",
       "  1,\n",
       "  1,\n",
       "  1,\n",
       "  0,\n",
       "  0,\n",
       "  0,\n",
       "  0,\n",
       "  1,\n",
       "  3,\n",
       "  1,\n",
       "  0,\n",
       "  0,\n",
       "  1,\n",
       "  2,\n",
       "  1,\n",
       "  2,\n",
       "  1,\n",
       "  0,\n",
       "  2,\n",
       "  0,\n",
       "  1,\n",
       "  0,\n",
       "  0,\n",
       "  2,\n",
       "  1,\n",
       "  0],\n",
       " '50': [2,\n",
       "  0,\n",
       "  2,\n",
       "  2,\n",
       "  1,\n",
       "  1,\n",
       "  0,\n",
       "  2,\n",
       "  0,\n",
       "  1,\n",
       "  2,\n",
       "  1,\n",
       "  1,\n",
       "  2,\n",
       "  1,\n",
       "  0,\n",
       "  1,\n",
       "  0,\n",
       "  2,\n",
       "  0,\n",
       "  0,\n",
       "  1,\n",
       "  2,\n",
       "  0,\n",
       "  3,\n",
       "  2,\n",
       "  1,\n",
       "  0,\n",
       "  0,\n",
       "  0,\n",
       "  1,\n",
       "  1,\n",
       "  1,\n",
       "  0,\n",
       "  3,\n",
       "  2,\n",
       "  1,\n",
       "  1,\n",
       "  1,\n",
       "  2,\n",
       "  0,\n",
       "  0,\n",
       "  1,\n",
       "  1,\n",
       "  0,\n",
       "  0,\n",
       "  2,\n",
       "  0,\n",
       "  0,\n",
       "  1],\n",
       " '75': [1,\n",
       "  3,\n",
       "  3,\n",
       "  0,\n",
       "  1,\n",
       "  3,\n",
       "  0,\n",
       "  0,\n",
       "  3,\n",
       "  5,\n",
       "  2,\n",
       "  0,\n",
       "  1,\n",
       "  0,\n",
       "  1,\n",
       "  1,\n",
       "  0,\n",
       "  1,\n",
       "  0,\n",
       "  2,\n",
       "  5,\n",
       "  0,\n",
       "  3,\n",
       "  1,\n",
       "  1,\n",
       "  1,\n",
       "  1,\n",
       "  1,\n",
       "  4,\n",
       "  0,\n",
       "  1,\n",
       "  1,\n",
       "  2,\n",
       "  0,\n",
       "  2,\n",
       "  4,\n",
       "  0,\n",
       "  0,\n",
       "  1,\n",
       "  3,\n",
       "  0,\n",
       "  1,\n",
       "  0,\n",
       "  1,\n",
       "  1,\n",
       "  1,\n",
       "  2,\n",
       "  1,\n",
       "  1,\n",
       "  0]}"
      ]
     },
     "execution_count": 13,
     "metadata": {},
     "output_type": "execute_result"
    }
   ],
   "source": [
    "resultsSA"
   ]
  },
  {
   "cell_type": "code",
   "execution_count": 14,
   "metadata": {},
   "outputs": [
    {
     "name": "stdout",
     "output_type": "stream",
     "text": [
      "This is the format of your plot grid:\n",
      "[ (1,1) x1,y1 ]  [ (1,2) x2,y2 ]\n",
      "[ (2,1) x3,y3 ]  [ (2,2) x4,y4 ]\n",
      "[ (3,1) x5,y5 ]  [ (3,2) x6,y6 ]\n",
      "\n"
     ]
    }
   ],
   "source": [
    "data_1={}\n",
    "data_2={}\n",
    "fig = tools.make_subplots(rows=3, cols=2, subplot_titles=('50', '50',\n",
    "                                                          '75', '75',\n",
    "                                                         '100','100'))\n",
    "j=0\n",
    "for i in [50,75,100]:\n",
    "    j+=1\n",
    "    \n",
    "    #SIMPLEST HISTOGRAM\n",
    "    x = resultsSA[str(i)]\n",
    "    data_1[str(i)] = go.Histogram(x=x,\n",
    "                                  marker=dict(\n",
    "        color='dodgerblue'\n",
    "    ),\n",
    "                     xbins=dict(\n",
    "            start=0,\n",
    "            end=i,\n",
    "            size=1.\n",
    "        ))\n",
    "    fig.append_trace(data_1[str(i)], j, 1)\n",
    "    #CUMM HISTOGRAM\n",
    "    data_2[str(i)] = go.Histogram(x=x,\n",
    "                                  marker=dict(\n",
    "        color='royalblue'\n",
    "    ),\n",
    "                     xbins=dict(\n",
    "        start=0,\n",
    "        end=i,\n",
    "        size=1.\n",
    "    ),\n",
    "                     histnorm='probability',\n",
    "                     cumulative=dict(enabled=True))\n",
    "    fig.append_trace(data_2[str(i)], j, 2)\n",
    "    "
   ]
  },
  {
   "cell_type": "code",
   "execution_count": 15,
   "metadata": {},
   "outputs": [
    {
     "data": {
      "application/vnd.plotly.v1+json": {
       "data": [
        {
         "marker": {
          "color": "dodgerblue"
         },
         "type": "histogram",
         "x": [
          2,
          0,
          2,
          2,
          1,
          1,
          0,
          2,
          0,
          1,
          2,
          1,
          1,
          2,
          1,
          0,
          1,
          0,
          2,
          0,
          0,
          1,
          2,
          0,
          3,
          2,
          1,
          0,
          0,
          0,
          1,
          1,
          1,
          0,
          3,
          2,
          1,
          1,
          1,
          2,
          0,
          0,
          1,
          1,
          0,
          0,
          2,
          0,
          0,
          1
         ],
         "xaxis": "x1",
         "xbins": {
          "end": 50,
          "size": 1,
          "start": 0
         },
         "yaxis": "y1"
        },
        {
         "cumulative": {
          "enabled": true
         },
         "histnorm": "probability",
         "marker": {
          "color": "royalblue"
         },
         "type": "histogram",
         "x": [
          2,
          0,
          2,
          2,
          1,
          1,
          0,
          2,
          0,
          1,
          2,
          1,
          1,
          2,
          1,
          0,
          1,
          0,
          2,
          0,
          0,
          1,
          2,
          0,
          3,
          2,
          1,
          0,
          0,
          0,
          1,
          1,
          1,
          0,
          3,
          2,
          1,
          1,
          1,
          2,
          0,
          0,
          1,
          1,
          0,
          0,
          2,
          0,
          0,
          1
         ],
         "xaxis": "x2",
         "xbins": {
          "end": 50,
          "size": 1,
          "start": 0
         },
         "yaxis": "y2"
        },
        {
         "marker": {
          "color": "dodgerblue"
         },
         "type": "histogram",
         "x": [
          1,
          3,
          3,
          0,
          1,
          3,
          0,
          0,
          3,
          5,
          2,
          0,
          1,
          0,
          1,
          1,
          0,
          1,
          0,
          2,
          5,
          0,
          3,
          1,
          1,
          1,
          1,
          1,
          4,
          0,
          1,
          1,
          2,
          0,
          2,
          4,
          0,
          0,
          1,
          3,
          0,
          1,
          0,
          1,
          1,
          1,
          2,
          1,
          1,
          0
         ],
         "xaxis": "x3",
         "xbins": {
          "end": 75,
          "size": 1,
          "start": 0
         },
         "yaxis": "y3"
        },
        {
         "cumulative": {
          "enabled": true
         },
         "histnorm": "probability",
         "marker": {
          "color": "royalblue"
         },
         "type": "histogram",
         "x": [
          1,
          3,
          3,
          0,
          1,
          3,
          0,
          0,
          3,
          5,
          2,
          0,
          1,
          0,
          1,
          1,
          0,
          1,
          0,
          2,
          5,
          0,
          3,
          1,
          1,
          1,
          1,
          1,
          4,
          0,
          1,
          1,
          2,
          0,
          2,
          4,
          0,
          0,
          1,
          3,
          0,
          1,
          0,
          1,
          1,
          1,
          2,
          1,
          1,
          0
         ],
         "xaxis": "x4",
         "xbins": {
          "end": 75,
          "size": 1,
          "start": 0
         },
         "yaxis": "y4"
        },
        {
         "marker": {
          "color": "dodgerblue"
         },
         "type": "histogram",
         "x": [
          0,
          0,
          1,
          4,
          1,
          0,
          0,
          2,
          0,
          1,
          0,
          4,
          1,
          2,
          0,
          3,
          2,
          0,
          4,
          0,
          0,
          1,
          0,
          0,
          1,
          1,
          1,
          0,
          0,
          0,
          0,
          1,
          3,
          1,
          0,
          0,
          1,
          2,
          1,
          2,
          1,
          0,
          2,
          0,
          1,
          0,
          0,
          2,
          1,
          0
         ],
         "xaxis": "x5",
         "xbins": {
          "end": 100,
          "size": 1,
          "start": 0
         },
         "yaxis": "y5"
        },
        {
         "cumulative": {
          "enabled": true
         },
         "histnorm": "probability",
         "marker": {
          "color": "royalblue"
         },
         "type": "histogram",
         "x": [
          0,
          0,
          1,
          4,
          1,
          0,
          0,
          2,
          0,
          1,
          0,
          4,
          1,
          2,
          0,
          3,
          2,
          0,
          4,
          0,
          0,
          1,
          0,
          0,
          1,
          1,
          1,
          0,
          0,
          0,
          0,
          1,
          3,
          1,
          0,
          0,
          1,
          2,
          1,
          2,
          1,
          0,
          2,
          0,
          1,
          0,
          0,
          2,
          1,
          0
         ],
         "xaxis": "x6",
         "xbins": {
          "end": 100,
          "size": 1,
          "start": 0
         },
         "yaxis": "y6"
        }
       ],
       "layout": {
        "annotations": [
         {
          "font": {
           "size": 16
          },
          "showarrow": false,
          "text": "50",
          "x": 0.225,
          "xanchor": "center",
          "xref": "paper",
          "y": 1,
          "yanchor": "bottom",
          "yref": "paper"
         },
         {
          "font": {
           "size": 16
          },
          "showarrow": false,
          "text": "50",
          "x": 0.775,
          "xanchor": "center",
          "xref": "paper",
          "y": 1,
          "yanchor": "bottom",
          "yref": "paper"
         },
         {
          "font": {
           "size": 16
          },
          "showarrow": false,
          "text": "75",
          "x": 0.225,
          "xanchor": "center",
          "xref": "paper",
          "y": 0.6111111111111112,
          "yanchor": "bottom",
          "yref": "paper"
         },
         {
          "font": {
           "size": 16
          },
          "showarrow": false,
          "text": "75",
          "x": 0.775,
          "xanchor": "center",
          "xref": "paper",
          "y": 0.6111111111111112,
          "yanchor": "bottom",
          "yref": "paper"
         },
         {
          "font": {
           "size": 16
          },
          "showarrow": false,
          "text": "100",
          "x": 0.225,
          "xanchor": "center",
          "xref": "paper",
          "y": 0.22222222222222224,
          "yanchor": "bottom",
          "yref": "paper"
         },
         {
          "font": {
           "size": 16
          },
          "showarrow": false,
          "text": "100",
          "x": 0.775,
          "xanchor": "center",
          "xref": "paper",
          "y": 0.22222222222222224,
          "yanchor": "bottom",
          "yref": "paper"
         }
        ],
        "height": 1000,
        "title": "Single vertex: simple",
        "width": 800,
        "xaxis1": {
         "anchor": "y1",
         "domain": [
          0,
          0.45
         ]
        },
        "xaxis2": {
         "anchor": "y2",
         "domain": [
          0.55,
          1
         ]
        },
        "xaxis3": {
         "anchor": "y3",
         "domain": [
          0,
          0.45
         ]
        },
        "xaxis4": {
         "anchor": "y4",
         "domain": [
          0.55,
          1
         ]
        },
        "xaxis5": {
         "anchor": "y5",
         "domain": [
          0,
          0.45
         ]
        },
        "xaxis6": {
         "anchor": "y6",
         "domain": [
          0.55,
          1
         ]
        },
        "yaxis1": {
         "anchor": "x1",
         "domain": [
          0.7777777777777778,
          1
         ]
        },
        "yaxis2": {
         "anchor": "x2",
         "domain": [
          0.7777777777777778,
          1
         ]
        },
        "yaxis3": {
         "anchor": "x3",
         "domain": [
          0.3888888888888889,
          0.6111111111111112
         ]
        },
        "yaxis4": {
         "anchor": "x4",
         "domain": [
          0.3888888888888889,
          0.6111111111111112
         ]
        },
        "yaxis5": {
         "anchor": "x5",
         "domain": [
          0,
          0.22222222222222224
         ]
        },
        "yaxis6": {
         "anchor": "x6",
         "domain": [
          0,
          0.22222222222222224
         ]
        }
       }
      },
      "text/html": [
       "<div id=\"2f352a61-db21-4996-be0e-1bdac38095a0\" style=\"height: 1000px; width: 800px;\" class=\"plotly-graph-div\"></div><script type=\"text/javascript\">require([\"plotly\"], function(Plotly) { window.PLOTLYENV=window.PLOTLYENV || {};window.PLOTLYENV.BASE_URL=\"https://plot.ly\";Plotly.newPlot(\"2f352a61-db21-4996-be0e-1bdac38095a0\", [{\"yaxis\": \"y1\", \"xaxis\": \"x1\", \"xbins\": {\"start\": 0, \"end\": 50, \"size\": 1.0}, \"marker\": {\"color\": \"dodgerblue\"}, \"x\": [2, 0, 2, 2, 1, 1, 0, 2, 0, 1, 2, 1, 1, 2, 1, 0, 1, 0, 2, 0, 0, 1, 2, 0, 3, 2, 1, 0, 0, 0, 1, 1, 1, 0, 3, 2, 1, 1, 1, 2, 0, 0, 1, 1, 0, 0, 2, 0, 0, 1], \"type\": \"histogram\"}, {\"yaxis\": \"y2\", \"cumulative\": {\"enabled\": true}, \"histnorm\": \"probability\", \"xaxis\": \"x2\", \"xbins\": {\"start\": 0, \"end\": 50, \"size\": 1.0}, \"marker\": {\"color\": \"royalblue\"}, \"x\": [2, 0, 2, 2, 1, 1, 0, 2, 0, 1, 2, 1, 1, 2, 1, 0, 1, 0, 2, 0, 0, 1, 2, 0, 3, 2, 1, 0, 0, 0, 1, 1, 1, 0, 3, 2, 1, 1, 1, 2, 0, 0, 1, 1, 0, 0, 2, 0, 0, 1], \"type\": \"histogram\"}, {\"yaxis\": \"y3\", \"xaxis\": \"x3\", \"xbins\": {\"start\": 0, \"end\": 75, \"size\": 1.0}, \"marker\": {\"color\": \"dodgerblue\"}, \"x\": [1, 3, 3, 0, 1, 3, 0, 0, 3, 5, 2, 0, 1, 0, 1, 1, 0, 1, 0, 2, 5, 0, 3, 1, 1, 1, 1, 1, 4, 0, 1, 1, 2, 0, 2, 4, 0, 0, 1, 3, 0, 1, 0, 1, 1, 1, 2, 1, 1, 0], \"type\": \"histogram\"}, {\"yaxis\": \"y4\", \"cumulative\": {\"enabled\": true}, \"histnorm\": \"probability\", \"xaxis\": \"x4\", \"xbins\": {\"start\": 0, \"end\": 75, \"size\": 1.0}, \"marker\": {\"color\": \"royalblue\"}, \"x\": [1, 3, 3, 0, 1, 3, 0, 0, 3, 5, 2, 0, 1, 0, 1, 1, 0, 1, 0, 2, 5, 0, 3, 1, 1, 1, 1, 1, 4, 0, 1, 1, 2, 0, 2, 4, 0, 0, 1, 3, 0, 1, 0, 1, 1, 1, 2, 1, 1, 0], \"type\": \"histogram\"}, {\"yaxis\": \"y5\", \"xaxis\": \"x5\", \"xbins\": {\"start\": 0, \"end\": 100, \"size\": 1.0}, \"marker\": {\"color\": \"dodgerblue\"}, \"x\": [0, 0, 1, 4, 1, 0, 0, 2, 0, 1, 0, 4, 1, 2, 0, 3, 2, 0, 4, 0, 0, 1, 0, 0, 1, 1, 1, 0, 0, 0, 0, 1, 3, 1, 0, 0, 1, 2, 1, 2, 1, 0, 2, 0, 1, 0, 0, 2, 1, 0], \"type\": \"histogram\"}, {\"yaxis\": \"y6\", \"cumulative\": {\"enabled\": true}, \"histnorm\": \"probability\", \"xaxis\": \"x6\", \"xbins\": {\"start\": 0, \"end\": 100, \"size\": 1.0}, \"marker\": {\"color\": \"royalblue\"}, \"x\": [0, 0, 1, 4, 1, 0, 0, 2, 0, 1, 0, 4, 1, 2, 0, 3, 2, 0, 4, 0, 0, 1, 0, 0, 1, 1, 1, 0, 0, 0, 0, 1, 3, 1, 0, 0, 1, 2, 1, 2, 1, 0, 2, 0, 1, 0, 0, 2, 1, 0], \"type\": \"histogram\"}], {\"yaxis1\": {\"domain\": [0.7777777777777778, 1.0], \"anchor\": \"x1\"}, \"xaxis6\": {\"domain\": [0.55, 1.0], \"anchor\": \"y6\"}, \"xaxis5\": {\"domain\": [0.0, 0.45], \"anchor\": \"y5\"}, \"xaxis4\": {\"domain\": [0.55, 1.0], \"anchor\": \"y4\"}, \"xaxis3\": {\"domain\": [0.0, 0.45], \"anchor\": \"y3\"}, \"xaxis2\": {\"domain\": [0.55, 1.0], \"anchor\": \"y2\"}, \"xaxis1\": {\"domain\": [0.0, 0.45], \"anchor\": \"y1\"}, \"height\": 1000, \"width\": 800, \"yaxis2\": {\"domain\": [0.7777777777777778, 1.0], \"anchor\": \"x2\"}, \"yaxis3\": {\"domain\": [0.3888888888888889, 0.6111111111111112], \"anchor\": \"x3\"}, \"yaxis4\": {\"domain\": [0.3888888888888889, 0.6111111111111112], \"anchor\": \"x4\"}, \"yaxis5\": {\"domain\": [0.0, 0.22222222222222224], \"anchor\": \"x5\"}, \"yaxis6\": {\"domain\": [0.0, 0.22222222222222224], \"anchor\": \"x6\"}, \"title\": \"Single vertex: simple\", \"annotations\": [{\"yanchor\": \"bottom\", \"xref\": \"paper\", \"xanchor\": \"center\", \"yref\": \"paper\", \"text\": \"50\", \"y\": 1.0, \"x\": 0.225, \"font\": {\"size\": 16}, \"showarrow\": false}, {\"yanchor\": \"bottom\", \"xref\": \"paper\", \"xanchor\": \"center\", \"yref\": \"paper\", \"text\": \"50\", \"y\": 1.0, \"x\": 0.775, \"font\": {\"size\": 16}, \"showarrow\": false}, {\"yanchor\": \"bottom\", \"xref\": \"paper\", \"xanchor\": \"center\", \"yref\": \"paper\", \"text\": \"75\", \"y\": 0.6111111111111112, \"x\": 0.225, \"font\": {\"size\": 16}, \"showarrow\": false}, {\"yanchor\": \"bottom\", \"xref\": \"paper\", \"xanchor\": \"center\", \"yref\": \"paper\", \"text\": \"75\", \"y\": 0.6111111111111112, \"x\": 0.775, \"font\": {\"size\": 16}, \"showarrow\": false}, {\"yanchor\": \"bottom\", \"xref\": \"paper\", \"xanchor\": \"center\", \"yref\": \"paper\", \"text\": \"100\", \"y\": 0.22222222222222224, \"x\": 0.225, \"font\": {\"size\": 16}, \"showarrow\": false}, {\"yanchor\": \"bottom\", \"xref\": \"paper\", \"xanchor\": \"center\", \"yref\": \"paper\", \"text\": \"100\", \"y\": 0.22222222222222224, \"x\": 0.775, \"font\": {\"size\": 16}, \"showarrow\": false}]}, {\"linkText\": \"Export to plot.ly\", \"showLink\": true})});</script>"
      ],
      "text/vnd.plotly.v1+html": [
       "<div id=\"2f352a61-db21-4996-be0e-1bdac38095a0\" style=\"height: 1000px; width: 800px;\" class=\"plotly-graph-div\"></div><script type=\"text/javascript\">require([\"plotly\"], function(Plotly) { window.PLOTLYENV=window.PLOTLYENV || {};window.PLOTLYENV.BASE_URL=\"https://plot.ly\";Plotly.newPlot(\"2f352a61-db21-4996-be0e-1bdac38095a0\", [{\"yaxis\": \"y1\", \"xaxis\": \"x1\", \"xbins\": {\"start\": 0, \"end\": 50, \"size\": 1.0}, \"marker\": {\"color\": \"dodgerblue\"}, \"x\": [2, 0, 2, 2, 1, 1, 0, 2, 0, 1, 2, 1, 1, 2, 1, 0, 1, 0, 2, 0, 0, 1, 2, 0, 3, 2, 1, 0, 0, 0, 1, 1, 1, 0, 3, 2, 1, 1, 1, 2, 0, 0, 1, 1, 0, 0, 2, 0, 0, 1], \"type\": \"histogram\"}, {\"yaxis\": \"y2\", \"cumulative\": {\"enabled\": true}, \"histnorm\": \"probability\", \"xaxis\": \"x2\", \"xbins\": {\"start\": 0, \"end\": 50, \"size\": 1.0}, \"marker\": {\"color\": \"royalblue\"}, \"x\": [2, 0, 2, 2, 1, 1, 0, 2, 0, 1, 2, 1, 1, 2, 1, 0, 1, 0, 2, 0, 0, 1, 2, 0, 3, 2, 1, 0, 0, 0, 1, 1, 1, 0, 3, 2, 1, 1, 1, 2, 0, 0, 1, 1, 0, 0, 2, 0, 0, 1], \"type\": \"histogram\"}, {\"yaxis\": \"y3\", \"xaxis\": \"x3\", \"xbins\": {\"start\": 0, \"end\": 75, \"size\": 1.0}, \"marker\": {\"color\": \"dodgerblue\"}, \"x\": [1, 3, 3, 0, 1, 3, 0, 0, 3, 5, 2, 0, 1, 0, 1, 1, 0, 1, 0, 2, 5, 0, 3, 1, 1, 1, 1, 1, 4, 0, 1, 1, 2, 0, 2, 4, 0, 0, 1, 3, 0, 1, 0, 1, 1, 1, 2, 1, 1, 0], \"type\": \"histogram\"}, {\"yaxis\": \"y4\", \"cumulative\": {\"enabled\": true}, \"histnorm\": \"probability\", \"xaxis\": \"x4\", \"xbins\": {\"start\": 0, \"end\": 75, \"size\": 1.0}, \"marker\": {\"color\": \"royalblue\"}, \"x\": [1, 3, 3, 0, 1, 3, 0, 0, 3, 5, 2, 0, 1, 0, 1, 1, 0, 1, 0, 2, 5, 0, 3, 1, 1, 1, 1, 1, 4, 0, 1, 1, 2, 0, 2, 4, 0, 0, 1, 3, 0, 1, 0, 1, 1, 1, 2, 1, 1, 0], \"type\": \"histogram\"}, {\"yaxis\": \"y5\", \"xaxis\": \"x5\", \"xbins\": {\"start\": 0, \"end\": 100, \"size\": 1.0}, \"marker\": {\"color\": \"dodgerblue\"}, \"x\": [0, 0, 1, 4, 1, 0, 0, 2, 0, 1, 0, 4, 1, 2, 0, 3, 2, 0, 4, 0, 0, 1, 0, 0, 1, 1, 1, 0, 0, 0, 0, 1, 3, 1, 0, 0, 1, 2, 1, 2, 1, 0, 2, 0, 1, 0, 0, 2, 1, 0], \"type\": \"histogram\"}, {\"yaxis\": \"y6\", \"cumulative\": {\"enabled\": true}, \"histnorm\": \"probability\", \"xaxis\": \"x6\", \"xbins\": {\"start\": 0, \"end\": 100, \"size\": 1.0}, \"marker\": {\"color\": \"royalblue\"}, \"x\": [0, 0, 1, 4, 1, 0, 0, 2, 0, 1, 0, 4, 1, 2, 0, 3, 2, 0, 4, 0, 0, 1, 0, 0, 1, 1, 1, 0, 0, 0, 0, 1, 3, 1, 0, 0, 1, 2, 1, 2, 1, 0, 2, 0, 1, 0, 0, 2, 1, 0], \"type\": \"histogram\"}], {\"yaxis1\": {\"domain\": [0.7777777777777778, 1.0], \"anchor\": \"x1\"}, \"xaxis6\": {\"domain\": [0.55, 1.0], \"anchor\": \"y6\"}, \"xaxis5\": {\"domain\": [0.0, 0.45], \"anchor\": \"y5\"}, \"xaxis4\": {\"domain\": [0.55, 1.0], \"anchor\": \"y4\"}, \"xaxis3\": {\"domain\": [0.0, 0.45], \"anchor\": \"y3\"}, \"xaxis2\": {\"domain\": [0.55, 1.0], \"anchor\": \"y2\"}, \"xaxis1\": {\"domain\": [0.0, 0.45], \"anchor\": \"y1\"}, \"height\": 1000, \"width\": 800, \"yaxis2\": {\"domain\": [0.7777777777777778, 1.0], \"anchor\": \"x2\"}, \"yaxis3\": {\"domain\": [0.3888888888888889, 0.6111111111111112], \"anchor\": \"x3\"}, \"yaxis4\": {\"domain\": [0.3888888888888889, 0.6111111111111112], \"anchor\": \"x4\"}, \"yaxis5\": {\"domain\": [0.0, 0.22222222222222224], \"anchor\": \"x5\"}, \"yaxis6\": {\"domain\": [0.0, 0.22222222222222224], \"anchor\": \"x6\"}, \"title\": \"Single vertex: simple\", \"annotations\": [{\"yanchor\": \"bottom\", \"xref\": \"paper\", \"xanchor\": \"center\", \"yref\": \"paper\", \"text\": \"50\", \"y\": 1.0, \"x\": 0.225, \"font\": {\"size\": 16}, \"showarrow\": false}, {\"yanchor\": \"bottom\", \"xref\": \"paper\", \"xanchor\": \"center\", \"yref\": \"paper\", \"text\": \"50\", \"y\": 1.0, \"x\": 0.775, \"font\": {\"size\": 16}, \"showarrow\": false}, {\"yanchor\": \"bottom\", \"xref\": \"paper\", \"xanchor\": \"center\", \"yref\": \"paper\", \"text\": \"75\", \"y\": 0.6111111111111112, \"x\": 0.225, \"font\": {\"size\": 16}, \"showarrow\": false}, {\"yanchor\": \"bottom\", \"xref\": \"paper\", \"xanchor\": \"center\", \"yref\": \"paper\", \"text\": \"75\", \"y\": 0.6111111111111112, \"x\": 0.775, \"font\": {\"size\": 16}, \"showarrow\": false}, {\"yanchor\": \"bottom\", \"xref\": \"paper\", \"xanchor\": \"center\", \"yref\": \"paper\", \"text\": \"100\", \"y\": 0.22222222222222224, \"x\": 0.225, \"font\": {\"size\": 16}, \"showarrow\": false}, {\"yanchor\": \"bottom\", \"xref\": \"paper\", \"xanchor\": \"center\", \"yref\": \"paper\", \"text\": \"100\", \"y\": 0.22222222222222224, \"x\": 0.775, \"font\": {\"size\": 16}, \"showarrow\": false}]}, {\"linkText\": \"Export to plot.ly\", \"showLink\": true})});</script>"
      ]
     },
     "metadata": {},
     "output_type": "display_data"
    }
   ],
   "source": [
    "fig['layout'].update(height=1000, width=800, title='Single vertex: simple')\n",
    "iplot(fig, filename='simple-subplot')"
   ]
  },
  {
   "cell_type": "markdown",
   "metadata": {},
   "source": [
    "#### Exporting results"
   ]
  },
  {
   "cell_type": "code",
   "execution_count": 16,
   "metadata": {
    "collapsed": true
   },
   "outputs": [],
   "source": [
    "pagerank_results = open('Final_simple_1v_BA_TIME.txt', 'w')\n",
    "for i in [50,75,100]:\n",
    "  print>>pagerank_results, str(i),results_sa_time[str(i)]\n",
    "pagerank_results.close()\n",
    "pagerank_results = open('Final_simple_1v_BA.txt', 'w')\n",
    "for i in [50,75,100]:\n",
    "  print>>pagerank_results, str(i),resultsSA[str(i)]\n",
    "pagerank_results.close()"
   ]
  },
  {
   "cell_type": "code",
   "execution_count": null,
   "metadata": {
    "collapsed": true
   },
   "outputs": [],
   "source": []
  },
  {
   "cell_type": "code",
   "execution_count": 20,
   "metadata": {
    "collapsed": true
   },
   "outputs": [],
   "source": [
    "resultsSA_ua={} #This dict contains all the vrtices found by the rl estimator for different graph sizes\n",
    "\n",
    "results_sa_time_ua={}"
   ]
  },
  {
   "cell_type": "code",
   "execution_count": 21,
   "metadata": {},
   "outputs": [
    {
     "name": "stdout",
     "output_type": "stream",
     "text": [
      "50\n",
      "75\n",
      "100\n"
     ]
    }
   ],
   "source": [
    "#\n",
    "for N in [50,75,100]:\n",
    "    results_pr=[]\n",
    "    start_time=time.time()\n",
    "    for i in range(0,50):\n",
    "        ua=unif_tree(N)\n",
    "        simple_rfa=simple(ua)\n",
    "        simple_center=simple_rfa[0][0]\n",
    "        results_pr.append([N,simple_center])\n",
    "    final_time= -start_time +time.time()\n",
    "    results_sa_time_ua[str(N)]=final_time\n",
    "    \n",
    "    resultsSA_ua[str(N)]=[i[1] for i in results_pr]\n",
    "    print N\n",
    "    "
   ]
  },
  {
   "cell_type": "code",
   "execution_count": 38,
   "metadata": {},
   "outputs": [
    {
     "data": {
      "text/plain": [
       "50"
      ]
     },
     "execution_count": 38,
     "metadata": {},
     "output_type": "execute_result"
    }
   ],
   "source": [
    "len(resultsSA_ua['100'])"
   ]
  },
  {
   "cell_type": "code",
   "execution_count": 22,
   "metadata": {},
   "outputs": [
    {
     "name": "stdout",
     "output_type": "stream",
     "text": [
      "This is the format of your plot grid:\n",
      "[ (1,1) x1,y1 ]  [ (1,2) x2,y2 ]\n",
      "[ (2,1) x3,y3 ]  [ (2,2) x4,y4 ]\n",
      "[ (3,1) x5,y5 ]  [ (3,2) x6,y6 ]\n",
      "\n"
     ]
    }
   ],
   "source": [
    "data_1={}\n",
    "data_2={}\n",
    "fig = tools.make_subplots(rows=3, cols=2, subplot_titles=('50', '50',\n",
    "                                                          '75', '75',\n",
    "                                                         '100','100'))\n",
    "j=0\n",
    "for i in [50,75,100]:\n",
    "    j+=1\n",
    "    \n",
    "    #SIMPLEST HISTOGRAM\n",
    "    x = resultsSA_ua[str(i)]\n",
    "    data_1[str(i)] = go.Histogram(x=x,\n",
    "                                  marker=dict(\n",
    "        color='dodgerblue'\n",
    "    ),\n",
    "                     xbins=dict(\n",
    "            start=0,\n",
    "            end=i,\n",
    "            size=1.\n",
    "        ))\n",
    "    fig.append_trace(data_1[str(i)], j, 1)\n",
    "    #CUMM HISTOGRAM\n",
    "    data_2[str(i)] = go.Histogram(x=x,\n",
    "                                  marker=dict(\n",
    "        color='royalblue'\n",
    "    ),\n",
    "                     xbins=dict(\n",
    "        start=0,\n",
    "        end=i,\n",
    "        size=1.\n",
    "    ),\n",
    "                     histnorm='probability',\n",
    "                     cumulative=dict(enabled=True))\n",
    "    fig.append_trace(data_2[str(i)], j, 2)\n",
    "    "
   ]
  },
  {
   "cell_type": "code",
   "execution_count": 23,
   "metadata": {
    "scrolled": false
   },
   "outputs": [
    {
     "data": {
      "application/vnd.plotly.v1+json": {
       "data": [
        {
         "marker": {
          "color": "dodgerblue"
         },
         "type": "histogram",
         "x": [
          2,
          0,
          2,
          2,
          0,
          0,
          0,
          3,
          0,
          4,
          4,
          1,
          3,
          4,
          5,
          1,
          0,
          1,
          3,
          1,
          0,
          1,
          1,
          1,
          2,
          1,
          2,
          0,
          5,
          2,
          1,
          2,
          2,
          2,
          2,
          3,
          1,
          0,
          2,
          1,
          5,
          6,
          1,
          3,
          0,
          2,
          0,
          1,
          0,
          0
         ],
         "xaxis": "x1",
         "xbins": {
          "end": 50,
          "size": 1,
          "start": 0
         },
         "yaxis": "y1"
        },
        {
         "cumulative": {
          "enabled": true
         },
         "histnorm": "probability",
         "marker": {
          "color": "royalblue"
         },
         "type": "histogram",
         "x": [
          2,
          0,
          2,
          2,
          0,
          0,
          0,
          3,
          0,
          4,
          4,
          1,
          3,
          4,
          5,
          1,
          0,
          1,
          3,
          1,
          0,
          1,
          1,
          1,
          2,
          1,
          2,
          0,
          5,
          2,
          1,
          2,
          2,
          2,
          2,
          3,
          1,
          0,
          2,
          1,
          5,
          6,
          1,
          3,
          0,
          2,
          0,
          1,
          0,
          0
         ],
         "xaxis": "x2",
         "xbins": {
          "end": 50,
          "size": 1,
          "start": 0
         },
         "yaxis": "y2"
        },
        {
         "marker": {
          "color": "dodgerblue"
         },
         "type": "histogram",
         "x": [
          1,
          7,
          3,
          0,
          0,
          1,
          0,
          3,
          0,
          2,
          0,
          0,
          0,
          0,
          0,
          0,
          0,
          7,
          5,
          0,
          1,
          1,
          0,
          5,
          4,
          1,
          0,
          2,
          1,
          3,
          2,
          1,
          1,
          0,
          0,
          0,
          5,
          1,
          0,
          1,
          1,
          2,
          2,
          0,
          0,
          0,
          0,
          0,
          0,
          1
         ],
         "xaxis": "x3",
         "xbins": {
          "end": 75,
          "size": 1,
          "start": 0
         },
         "yaxis": "y3"
        },
        {
         "cumulative": {
          "enabled": true
         },
         "histnorm": "probability",
         "marker": {
          "color": "royalblue"
         },
         "type": "histogram",
         "x": [
          1,
          7,
          3,
          0,
          0,
          1,
          0,
          3,
          0,
          2,
          0,
          0,
          0,
          0,
          0,
          0,
          0,
          7,
          5,
          0,
          1,
          1,
          0,
          5,
          4,
          1,
          0,
          2,
          1,
          3,
          2,
          1,
          1,
          0,
          0,
          0,
          5,
          1,
          0,
          1,
          1,
          2,
          2,
          0,
          0,
          0,
          0,
          0,
          0,
          1
         ],
         "xaxis": "x4",
         "xbins": {
          "end": 75,
          "size": 1,
          "start": 0
         },
         "yaxis": "y4"
        },
        {
         "marker": {
          "color": "dodgerblue"
         },
         "type": "histogram",
         "x": [
          4,
          0,
          2,
          2,
          3,
          2,
          0,
          2,
          1,
          4,
          1,
          1,
          1,
          2,
          2,
          6,
          0,
          1,
          1,
          7,
          3,
          3,
          2,
          1,
          3,
          3,
          1,
          1,
          2,
          1,
          6,
          2,
          2,
          0,
          1,
          2,
          0,
          1,
          4,
          1,
          0,
          0,
          1,
          0,
          1,
          1,
          0,
          2,
          3,
          0
         ],
         "xaxis": "x5",
         "xbins": {
          "end": 100,
          "size": 1,
          "start": 0
         },
         "yaxis": "y5"
        },
        {
         "cumulative": {
          "enabled": true
         },
         "histnorm": "probability",
         "marker": {
          "color": "royalblue"
         },
         "type": "histogram",
         "x": [
          4,
          0,
          2,
          2,
          3,
          2,
          0,
          2,
          1,
          4,
          1,
          1,
          1,
          2,
          2,
          6,
          0,
          1,
          1,
          7,
          3,
          3,
          2,
          1,
          3,
          3,
          1,
          1,
          2,
          1,
          6,
          2,
          2,
          0,
          1,
          2,
          0,
          1,
          4,
          1,
          0,
          0,
          1,
          0,
          1,
          1,
          0,
          2,
          3,
          0
         ],
         "xaxis": "x6",
         "xbins": {
          "end": 100,
          "size": 1,
          "start": 0
         },
         "yaxis": "y6"
        }
       ],
       "layout": {
        "annotations": [
         {
          "font": {
           "size": 16
          },
          "showarrow": false,
          "text": "50",
          "x": 0.225,
          "xanchor": "center",
          "xref": "paper",
          "y": 1,
          "yanchor": "bottom",
          "yref": "paper"
         },
         {
          "font": {
           "size": 16
          },
          "showarrow": false,
          "text": "50",
          "x": 0.775,
          "xanchor": "center",
          "xref": "paper",
          "y": 1,
          "yanchor": "bottom",
          "yref": "paper"
         },
         {
          "font": {
           "size": 16
          },
          "showarrow": false,
          "text": "75",
          "x": 0.225,
          "xanchor": "center",
          "xref": "paper",
          "y": 0.6111111111111112,
          "yanchor": "bottom",
          "yref": "paper"
         },
         {
          "font": {
           "size": 16
          },
          "showarrow": false,
          "text": "75",
          "x": 0.775,
          "xanchor": "center",
          "xref": "paper",
          "y": 0.6111111111111112,
          "yanchor": "bottom",
          "yref": "paper"
         },
         {
          "font": {
           "size": 16
          },
          "showarrow": false,
          "text": "100",
          "x": 0.225,
          "xanchor": "center",
          "xref": "paper",
          "y": 0.22222222222222224,
          "yanchor": "bottom",
          "yref": "paper"
         },
         {
          "font": {
           "size": 16
          },
          "showarrow": false,
          "text": "100",
          "x": 0.775,
          "xanchor": "center",
          "xref": "paper",
          "y": 0.22222222222222224,
          "yanchor": "bottom",
          "yref": "paper"
         }
        ],
        "height": 1000,
        "title": "Single vertex: simple (UA)",
        "width": 800,
        "xaxis1": {
         "anchor": "y1",
         "domain": [
          0,
          0.45
         ]
        },
        "xaxis2": {
         "anchor": "y2",
         "domain": [
          0.55,
          1
         ]
        },
        "xaxis3": {
         "anchor": "y3",
         "domain": [
          0,
          0.45
         ]
        },
        "xaxis4": {
         "anchor": "y4",
         "domain": [
          0.55,
          1
         ]
        },
        "xaxis5": {
         "anchor": "y5",
         "domain": [
          0,
          0.45
         ]
        },
        "xaxis6": {
         "anchor": "y6",
         "domain": [
          0.55,
          1
         ]
        },
        "yaxis1": {
         "anchor": "x1",
         "domain": [
          0.7777777777777778,
          1
         ]
        },
        "yaxis2": {
         "anchor": "x2",
         "domain": [
          0.7777777777777778,
          1
         ]
        },
        "yaxis3": {
         "anchor": "x3",
         "domain": [
          0.3888888888888889,
          0.6111111111111112
         ]
        },
        "yaxis4": {
         "anchor": "x4",
         "domain": [
          0.3888888888888889,
          0.6111111111111112
         ]
        },
        "yaxis5": {
         "anchor": "x5",
         "domain": [
          0,
          0.22222222222222224
         ]
        },
        "yaxis6": {
         "anchor": "x6",
         "domain": [
          0,
          0.22222222222222224
         ]
        }
       }
      },
      "text/html": [
       "<div id=\"99f7a125-cb84-457f-a2f9-d35b19109407\" style=\"height: 1000px; width: 800px;\" class=\"plotly-graph-div\"></div><script type=\"text/javascript\">require([\"plotly\"], function(Plotly) { window.PLOTLYENV=window.PLOTLYENV || {};window.PLOTLYENV.BASE_URL=\"https://plot.ly\";Plotly.newPlot(\"99f7a125-cb84-457f-a2f9-d35b19109407\", [{\"yaxis\": \"y1\", \"xaxis\": \"x1\", \"xbins\": {\"start\": 0, \"end\": 50, \"size\": 1.0}, \"marker\": {\"color\": \"dodgerblue\"}, \"x\": [2, 0, 2, 2, 0, 0, 0, 3, 0, 4, 4, 1, 3, 4, 5, 1, 0, 1, 3, 1, 0, 1, 1, 1, 2, 1, 2, 0, 5, 2, 1, 2, 2, 2, 2, 3, 1, 0, 2, 1, 5, 6, 1, 3, 0, 2, 0, 1, 0, 0], \"type\": \"histogram\"}, {\"yaxis\": \"y2\", \"cumulative\": {\"enabled\": true}, \"histnorm\": \"probability\", \"xaxis\": \"x2\", \"xbins\": {\"start\": 0, \"end\": 50, \"size\": 1.0}, \"marker\": {\"color\": \"royalblue\"}, \"x\": [2, 0, 2, 2, 0, 0, 0, 3, 0, 4, 4, 1, 3, 4, 5, 1, 0, 1, 3, 1, 0, 1, 1, 1, 2, 1, 2, 0, 5, 2, 1, 2, 2, 2, 2, 3, 1, 0, 2, 1, 5, 6, 1, 3, 0, 2, 0, 1, 0, 0], \"type\": \"histogram\"}, {\"yaxis\": \"y3\", \"xaxis\": \"x3\", \"xbins\": {\"start\": 0, \"end\": 75, \"size\": 1.0}, \"marker\": {\"color\": \"dodgerblue\"}, \"x\": [1, 7, 3, 0, 0, 1, 0, 3, 0, 2, 0, 0, 0, 0, 0, 0, 0, 7, 5, 0, 1, 1, 0, 5, 4, 1, 0, 2, 1, 3, 2, 1, 1, 0, 0, 0, 5, 1, 0, 1, 1, 2, 2, 0, 0, 0, 0, 0, 0, 1], \"type\": \"histogram\"}, {\"yaxis\": \"y4\", \"cumulative\": {\"enabled\": true}, \"histnorm\": \"probability\", \"xaxis\": \"x4\", \"xbins\": {\"start\": 0, \"end\": 75, \"size\": 1.0}, \"marker\": {\"color\": \"royalblue\"}, \"x\": [1, 7, 3, 0, 0, 1, 0, 3, 0, 2, 0, 0, 0, 0, 0, 0, 0, 7, 5, 0, 1, 1, 0, 5, 4, 1, 0, 2, 1, 3, 2, 1, 1, 0, 0, 0, 5, 1, 0, 1, 1, 2, 2, 0, 0, 0, 0, 0, 0, 1], \"type\": \"histogram\"}, {\"yaxis\": \"y5\", \"xaxis\": \"x5\", \"xbins\": {\"start\": 0, \"end\": 100, \"size\": 1.0}, \"marker\": {\"color\": \"dodgerblue\"}, \"x\": [4, 0, 2, 2, 3, 2, 0, 2, 1, 4, 1, 1, 1, 2, 2, 6, 0, 1, 1, 7, 3, 3, 2, 1, 3, 3, 1, 1, 2, 1, 6, 2, 2, 0, 1, 2, 0, 1, 4, 1, 0, 0, 1, 0, 1, 1, 0, 2, 3, 0], \"type\": \"histogram\"}, {\"yaxis\": \"y6\", \"cumulative\": {\"enabled\": true}, \"histnorm\": \"probability\", \"xaxis\": \"x6\", \"xbins\": {\"start\": 0, \"end\": 100, \"size\": 1.0}, \"marker\": {\"color\": \"royalblue\"}, \"x\": [4, 0, 2, 2, 3, 2, 0, 2, 1, 4, 1, 1, 1, 2, 2, 6, 0, 1, 1, 7, 3, 3, 2, 1, 3, 3, 1, 1, 2, 1, 6, 2, 2, 0, 1, 2, 0, 1, 4, 1, 0, 0, 1, 0, 1, 1, 0, 2, 3, 0], \"type\": \"histogram\"}], {\"yaxis1\": {\"domain\": [0.7777777777777778, 1.0], \"anchor\": \"x1\"}, \"xaxis6\": {\"domain\": [0.55, 1.0], \"anchor\": \"y6\"}, \"xaxis5\": {\"domain\": [0.0, 0.45], \"anchor\": \"y5\"}, \"xaxis4\": {\"domain\": [0.55, 1.0], \"anchor\": \"y4\"}, \"xaxis3\": {\"domain\": [0.0, 0.45], \"anchor\": \"y3\"}, \"xaxis2\": {\"domain\": [0.55, 1.0], \"anchor\": \"y2\"}, \"xaxis1\": {\"domain\": [0.0, 0.45], \"anchor\": \"y1\"}, \"height\": 1000, \"width\": 800, \"yaxis2\": {\"domain\": [0.7777777777777778, 1.0], \"anchor\": \"x2\"}, \"yaxis3\": {\"domain\": [0.3888888888888889, 0.6111111111111112], \"anchor\": \"x3\"}, \"yaxis4\": {\"domain\": [0.3888888888888889, 0.6111111111111112], \"anchor\": \"x4\"}, \"yaxis5\": {\"domain\": [0.0, 0.22222222222222224], \"anchor\": \"x5\"}, \"yaxis6\": {\"domain\": [0.0, 0.22222222222222224], \"anchor\": \"x6\"}, \"title\": \"Single vertex: simple (UA)\", \"annotations\": [{\"yanchor\": \"bottom\", \"xref\": \"paper\", \"xanchor\": \"center\", \"yref\": \"paper\", \"text\": \"50\", \"y\": 1.0, \"x\": 0.225, \"font\": {\"size\": 16}, \"showarrow\": false}, {\"yanchor\": \"bottom\", \"xref\": \"paper\", \"xanchor\": \"center\", \"yref\": \"paper\", \"text\": \"50\", \"y\": 1.0, \"x\": 0.775, \"font\": {\"size\": 16}, \"showarrow\": false}, {\"yanchor\": \"bottom\", \"xref\": \"paper\", \"xanchor\": \"center\", \"yref\": \"paper\", \"text\": \"75\", \"y\": 0.6111111111111112, \"x\": 0.225, \"font\": {\"size\": 16}, \"showarrow\": false}, {\"yanchor\": \"bottom\", \"xref\": \"paper\", \"xanchor\": \"center\", \"yref\": \"paper\", \"text\": \"75\", \"y\": 0.6111111111111112, \"x\": 0.775, \"font\": {\"size\": 16}, \"showarrow\": false}, {\"yanchor\": \"bottom\", \"xref\": \"paper\", \"xanchor\": \"center\", \"yref\": \"paper\", \"text\": \"100\", \"y\": 0.22222222222222224, \"x\": 0.225, \"font\": {\"size\": 16}, \"showarrow\": false}, {\"yanchor\": \"bottom\", \"xref\": \"paper\", \"xanchor\": \"center\", \"yref\": \"paper\", \"text\": \"100\", \"y\": 0.22222222222222224, \"x\": 0.775, \"font\": {\"size\": 16}, \"showarrow\": false}]}, {\"linkText\": \"Export to plot.ly\", \"showLink\": true})});</script>"
      ],
      "text/vnd.plotly.v1+html": [
       "<div id=\"99f7a125-cb84-457f-a2f9-d35b19109407\" style=\"height: 1000px; width: 800px;\" class=\"plotly-graph-div\"></div><script type=\"text/javascript\">require([\"plotly\"], function(Plotly) { window.PLOTLYENV=window.PLOTLYENV || {};window.PLOTLYENV.BASE_URL=\"https://plot.ly\";Plotly.newPlot(\"99f7a125-cb84-457f-a2f9-d35b19109407\", [{\"yaxis\": \"y1\", \"xaxis\": \"x1\", \"xbins\": {\"start\": 0, \"end\": 50, \"size\": 1.0}, \"marker\": {\"color\": \"dodgerblue\"}, \"x\": [2, 0, 2, 2, 0, 0, 0, 3, 0, 4, 4, 1, 3, 4, 5, 1, 0, 1, 3, 1, 0, 1, 1, 1, 2, 1, 2, 0, 5, 2, 1, 2, 2, 2, 2, 3, 1, 0, 2, 1, 5, 6, 1, 3, 0, 2, 0, 1, 0, 0], \"type\": \"histogram\"}, {\"yaxis\": \"y2\", \"cumulative\": {\"enabled\": true}, \"histnorm\": \"probability\", \"xaxis\": \"x2\", \"xbins\": {\"start\": 0, \"end\": 50, \"size\": 1.0}, \"marker\": {\"color\": \"royalblue\"}, \"x\": [2, 0, 2, 2, 0, 0, 0, 3, 0, 4, 4, 1, 3, 4, 5, 1, 0, 1, 3, 1, 0, 1, 1, 1, 2, 1, 2, 0, 5, 2, 1, 2, 2, 2, 2, 3, 1, 0, 2, 1, 5, 6, 1, 3, 0, 2, 0, 1, 0, 0], \"type\": \"histogram\"}, {\"yaxis\": \"y3\", \"xaxis\": \"x3\", \"xbins\": {\"start\": 0, \"end\": 75, \"size\": 1.0}, \"marker\": {\"color\": \"dodgerblue\"}, \"x\": [1, 7, 3, 0, 0, 1, 0, 3, 0, 2, 0, 0, 0, 0, 0, 0, 0, 7, 5, 0, 1, 1, 0, 5, 4, 1, 0, 2, 1, 3, 2, 1, 1, 0, 0, 0, 5, 1, 0, 1, 1, 2, 2, 0, 0, 0, 0, 0, 0, 1], \"type\": \"histogram\"}, {\"yaxis\": \"y4\", \"cumulative\": {\"enabled\": true}, \"histnorm\": \"probability\", \"xaxis\": \"x4\", \"xbins\": {\"start\": 0, \"end\": 75, \"size\": 1.0}, \"marker\": {\"color\": \"royalblue\"}, \"x\": [1, 7, 3, 0, 0, 1, 0, 3, 0, 2, 0, 0, 0, 0, 0, 0, 0, 7, 5, 0, 1, 1, 0, 5, 4, 1, 0, 2, 1, 3, 2, 1, 1, 0, 0, 0, 5, 1, 0, 1, 1, 2, 2, 0, 0, 0, 0, 0, 0, 1], \"type\": \"histogram\"}, {\"yaxis\": \"y5\", \"xaxis\": \"x5\", \"xbins\": {\"start\": 0, \"end\": 100, \"size\": 1.0}, \"marker\": {\"color\": \"dodgerblue\"}, \"x\": [4, 0, 2, 2, 3, 2, 0, 2, 1, 4, 1, 1, 1, 2, 2, 6, 0, 1, 1, 7, 3, 3, 2, 1, 3, 3, 1, 1, 2, 1, 6, 2, 2, 0, 1, 2, 0, 1, 4, 1, 0, 0, 1, 0, 1, 1, 0, 2, 3, 0], \"type\": \"histogram\"}, {\"yaxis\": \"y6\", \"cumulative\": {\"enabled\": true}, \"histnorm\": \"probability\", \"xaxis\": \"x6\", \"xbins\": {\"start\": 0, \"end\": 100, \"size\": 1.0}, \"marker\": {\"color\": \"royalblue\"}, \"x\": [4, 0, 2, 2, 3, 2, 0, 2, 1, 4, 1, 1, 1, 2, 2, 6, 0, 1, 1, 7, 3, 3, 2, 1, 3, 3, 1, 1, 2, 1, 6, 2, 2, 0, 1, 2, 0, 1, 4, 1, 0, 0, 1, 0, 1, 1, 0, 2, 3, 0], \"type\": \"histogram\"}], {\"yaxis1\": {\"domain\": [0.7777777777777778, 1.0], \"anchor\": \"x1\"}, \"xaxis6\": {\"domain\": [0.55, 1.0], \"anchor\": \"y6\"}, \"xaxis5\": {\"domain\": [0.0, 0.45], \"anchor\": \"y5\"}, \"xaxis4\": {\"domain\": [0.55, 1.0], \"anchor\": \"y4\"}, \"xaxis3\": {\"domain\": [0.0, 0.45], \"anchor\": \"y3\"}, \"xaxis2\": {\"domain\": [0.55, 1.0], \"anchor\": \"y2\"}, \"xaxis1\": {\"domain\": [0.0, 0.45], \"anchor\": \"y1\"}, \"height\": 1000, \"width\": 800, \"yaxis2\": {\"domain\": [0.7777777777777778, 1.0], \"anchor\": \"x2\"}, \"yaxis3\": {\"domain\": [0.3888888888888889, 0.6111111111111112], \"anchor\": \"x3\"}, \"yaxis4\": {\"domain\": [0.3888888888888889, 0.6111111111111112], \"anchor\": \"x4\"}, \"yaxis5\": {\"domain\": [0.0, 0.22222222222222224], \"anchor\": \"x5\"}, \"yaxis6\": {\"domain\": [0.0, 0.22222222222222224], \"anchor\": \"x6\"}, \"title\": \"Single vertex: simple (UA)\", \"annotations\": [{\"yanchor\": \"bottom\", \"xref\": \"paper\", \"xanchor\": \"center\", \"yref\": \"paper\", \"text\": \"50\", \"y\": 1.0, \"x\": 0.225, \"font\": {\"size\": 16}, \"showarrow\": false}, {\"yanchor\": \"bottom\", \"xref\": \"paper\", \"xanchor\": \"center\", \"yref\": \"paper\", \"text\": \"50\", \"y\": 1.0, \"x\": 0.775, \"font\": {\"size\": 16}, \"showarrow\": false}, {\"yanchor\": \"bottom\", \"xref\": \"paper\", \"xanchor\": \"center\", \"yref\": \"paper\", \"text\": \"75\", \"y\": 0.6111111111111112, \"x\": 0.225, \"font\": {\"size\": 16}, \"showarrow\": false}, {\"yanchor\": \"bottom\", \"xref\": \"paper\", \"xanchor\": \"center\", \"yref\": \"paper\", \"text\": \"75\", \"y\": 0.6111111111111112, \"x\": 0.775, \"font\": {\"size\": 16}, \"showarrow\": false}, {\"yanchor\": \"bottom\", \"xref\": \"paper\", \"xanchor\": \"center\", \"yref\": \"paper\", \"text\": \"100\", \"y\": 0.22222222222222224, \"x\": 0.225, \"font\": {\"size\": 16}, \"showarrow\": false}, {\"yanchor\": \"bottom\", \"xref\": \"paper\", \"xanchor\": \"center\", \"yref\": \"paper\", \"text\": \"100\", \"y\": 0.22222222222222224, \"x\": 0.775, \"font\": {\"size\": 16}, \"showarrow\": false}]}, {\"linkText\": \"Export to plot.ly\", \"showLink\": true})});</script>"
      ]
     },
     "metadata": {},
     "output_type": "display_data"
    }
   ],
   "source": [
    "fig['layout'].update(height=1000, width=800, title='Single vertex: simple (UA)')\n",
    "iplot(fig, filename='simple-subplot')"
   ]
  },
  {
   "cell_type": "markdown",
   "metadata": {},
   "source": [
    "#### Exporting results"
   ]
  },
  {
   "cell_type": "code",
   "execution_count": 24,
   "metadata": {
    "collapsed": true
   },
   "outputs": [],
   "source": [
    "pagerank_results = open('Final_simple_1v_UA_TIME.txt', 'w')\n",
    "for i in [50,75,100]:\n",
    "  print>>pagerank_results, str(i),results_sa_time_ua[str(i)]\n",
    "pagerank_results.close()"
   ]
  },
  {
   "cell_type": "code",
   "execution_count": 25,
   "metadata": {
    "collapsed": true
   },
   "outputs": [],
   "source": [
    "pagerank_results = open('Final_simple_1v_UA.txt', 'w')\n",
    "for i in [50,75,100]:\n",
    "  print>>pagerank_results, str(i),resultsSA_ua[str(i)]\n",
    "pagerank_results.close()"
   ]
  },
  {
   "cell_type": "code",
   "execution_count": 39,
   "metadata": {
    "collapsed": true
   },
   "outputs": [],
   "source": [
    "resultsSA_p3r={} #This dict contains all the vrtices found by the rl estimator for different graph sizes\n",
    "\n",
    "results_sa_time_p3r={}"
   ]
  },
  {
   "cell_type": "code",
   "execution_count": 41,
   "metadata": {},
   "outputs": [
    {
     "name": "stdout",
     "output_type": "stream",
     "text": [
      "50\n",
      "75\n",
      "100\n"
     ]
    }
   ],
   "source": [
    "#\n",
    "for N in [50,75,100]:\n",
    "    results_pr=[]\n",
    "    start_time=time.time()\n",
    "    for i in range(0,50):\n",
    "        p3r=areg(N)\n",
    "        simple_rfa=simple(p3r)\n",
    "        simple_center=simple_rfa[0][0]\n",
    "        results_pr.append([N,simple_center])\n",
    "    final_time= -start_time +time.time()\n",
    "    results_sa_time_p3r[str(N)]=final_time\n",
    "    \n",
    "    resultsSA_p3r[str(N)]=[i[1] for i in results_pr]\n",
    "    print N\n",
    "   "
   ]
  },
  {
   "cell_type": "code",
   "execution_count": 42,
   "metadata": {},
   "outputs": [
    {
     "data": {
      "text/plain": [
       "50"
      ]
     },
     "execution_count": 42,
     "metadata": {},
     "output_type": "execute_result"
    }
   ],
   "source": [
    "len(resultsSA_p3r['100'])"
   ]
  },
  {
   "cell_type": "code",
   "execution_count": 43,
   "metadata": {},
   "outputs": [
    {
     "name": "stdout",
     "output_type": "stream",
     "text": [
      "This is the format of your plot grid:\n",
      "[ (1,1) x1,y1 ]  [ (1,2) x2,y2 ]\n",
      "[ (2,1) x3,y3 ]  [ (2,2) x4,y4 ]\n",
      "[ (3,1) x5,y5 ]  [ (3,2) x6,y6 ]\n",
      "\n"
     ]
    }
   ],
   "source": [
    " \n",
    "\n",
    "data_1={}\n",
    "data_2={}\n",
    "fig = tools.make_subplots(rows=3, cols=2, subplot_titles=('50', '50',\n",
    "                                                          '75', '75',\n",
    "                                                         '100','100'))\n",
    "j=0\n",
    "for i in [50,75,100]:\n",
    "    j+=1\n",
    "    \n",
    "    #SIMPLEST HISTOGRAM\n",
    "    x = resultsSA_p3r[str(i)]\n",
    "    data_1[str(i)] = go.Histogram(x=x,\n",
    "                                  marker=dict(\n",
    "        color='dodgerblue'\n",
    "    ),\n",
    "                     xbins=dict(\n",
    "            start=0,\n",
    "            end=i,\n",
    "            size=1.\n",
    "        ))\n",
    "    fig.append_trace(data_1[str(i)], j, 1)\n",
    "    #CUMM HISTOGRAM\n",
    "    data_2[str(i)] = go.Histogram(x=x,\n",
    "                                  marker=dict(\n",
    "        color='royalblue'\n",
    "    ),\n",
    "                     xbins=dict(\n",
    "        start=0,\n",
    "        end=i,\n",
    "        size=1.\n",
    "    ),\n",
    "                     histnorm='probability',\n",
    "                     cumulative=dict(enabled=True))\n",
    "    fig.append_trace(data_2[str(i)], j, 2)\n",
    "    "
   ]
  },
  {
   "cell_type": "code",
   "execution_count": 44,
   "metadata": {},
   "outputs": [
    {
     "data": {
      "application/vnd.plotly.v1+json": {
       "data": [
        {
         "marker": {
          "color": "dodgerblue"
         },
         "type": "histogram",
         "x": [
          6,
          2,
          2,
          0,
          0,
          0,
          4,
          2,
          0,
          3,
          1,
          2,
          1,
          1,
          3,
          2,
          1,
          2,
          1,
          0,
          1,
          1,
          3,
          1,
          0,
          0,
          1,
          1,
          4,
          0,
          0,
          1,
          2,
          1,
          1,
          2,
          3,
          0,
          0,
          2,
          0,
          8,
          1,
          1,
          1,
          2,
          1,
          2,
          6,
          3
         ],
         "xaxis": "x1",
         "xbins": {
          "end": 50,
          "size": 1,
          "start": 0
         },
         "yaxis": "y1"
        },
        {
         "cumulative": {
          "enabled": true
         },
         "histnorm": "probability",
         "marker": {
          "color": "royalblue"
         },
         "type": "histogram",
         "x": [
          6,
          2,
          2,
          0,
          0,
          0,
          4,
          2,
          0,
          3,
          1,
          2,
          1,
          1,
          3,
          2,
          1,
          2,
          1,
          0,
          1,
          1,
          3,
          1,
          0,
          0,
          1,
          1,
          4,
          0,
          0,
          1,
          2,
          1,
          1,
          2,
          3,
          0,
          0,
          2,
          0,
          8,
          1,
          1,
          1,
          2,
          1,
          2,
          6,
          3
         ],
         "xaxis": "x2",
         "xbins": {
          "end": 50,
          "size": 1,
          "start": 0
         },
         "yaxis": "y2"
        },
        {
         "marker": {
          "color": "dodgerblue"
         },
         "type": "histogram",
         "x": [
          4,
          1,
          1,
          1,
          2,
          3,
          2,
          0,
          1,
          1,
          5,
          0,
          0,
          2,
          1,
          5,
          5,
          3,
          0,
          1,
          1,
          1,
          0,
          3,
          1,
          0,
          1,
          0,
          1,
          0,
          1,
          3,
          0,
          1,
          1,
          0,
          2,
          4,
          0,
          0,
          0,
          1,
          3,
          2,
          3,
          0,
          1,
          1,
          3,
          1
         ],
         "xaxis": "x3",
         "xbins": {
          "end": 75,
          "size": 1,
          "start": 0
         },
         "yaxis": "y3"
        },
        {
         "cumulative": {
          "enabled": true
         },
         "histnorm": "probability",
         "marker": {
          "color": "royalblue"
         },
         "type": "histogram",
         "x": [
          4,
          1,
          1,
          1,
          2,
          3,
          2,
          0,
          1,
          1,
          5,
          0,
          0,
          2,
          1,
          5,
          5,
          3,
          0,
          1,
          1,
          1,
          0,
          3,
          1,
          0,
          1,
          0,
          1,
          0,
          1,
          3,
          0,
          1,
          1,
          0,
          2,
          4,
          0,
          0,
          0,
          1,
          3,
          2,
          3,
          0,
          1,
          1,
          3,
          1
         ],
         "xaxis": "x4",
         "xbins": {
          "end": 75,
          "size": 1,
          "start": 0
         },
         "yaxis": "y4"
        },
        {
         "marker": {
          "color": "dodgerblue"
         },
         "type": "histogram",
         "x": [
          6,
          0,
          2,
          1,
          0,
          0,
          0,
          3,
          1,
          2,
          5,
          1,
          1,
          1,
          1,
          2,
          1,
          1,
          0,
          0,
          3,
          2,
          5,
          0,
          4,
          1,
          2,
          2,
          7,
          0,
          4,
          1,
          0,
          2,
          6,
          0,
          5,
          3,
          3,
          3,
          0,
          1,
          2,
          2,
          3,
          0,
          2,
          1,
          1,
          1
         ],
         "xaxis": "x5",
         "xbins": {
          "end": 100,
          "size": 1,
          "start": 0
         },
         "yaxis": "y5"
        },
        {
         "cumulative": {
          "enabled": true
         },
         "histnorm": "probability",
         "marker": {
          "color": "royalblue"
         },
         "type": "histogram",
         "x": [
          6,
          0,
          2,
          1,
          0,
          0,
          0,
          3,
          1,
          2,
          5,
          1,
          1,
          1,
          1,
          2,
          1,
          1,
          0,
          0,
          3,
          2,
          5,
          0,
          4,
          1,
          2,
          2,
          7,
          0,
          4,
          1,
          0,
          2,
          6,
          0,
          5,
          3,
          3,
          3,
          0,
          1,
          2,
          2,
          3,
          0,
          2,
          1,
          1,
          1
         ],
         "xaxis": "x6",
         "xbins": {
          "end": 100,
          "size": 1,
          "start": 0
         },
         "yaxis": "y6"
        }
       ],
       "layout": {
        "annotations": [
         {
          "font": {
           "size": 16
          },
          "showarrow": false,
          "text": "50",
          "x": 0.225,
          "xanchor": "center",
          "xref": "paper",
          "y": 1,
          "yanchor": "bottom",
          "yref": "paper"
         },
         {
          "font": {
           "size": 16
          },
          "showarrow": false,
          "text": "50",
          "x": 0.775,
          "xanchor": "center",
          "xref": "paper",
          "y": 1,
          "yanchor": "bottom",
          "yref": "paper"
         },
         {
          "font": {
           "size": 16
          },
          "showarrow": false,
          "text": "75",
          "x": 0.225,
          "xanchor": "center",
          "xref": "paper",
          "y": 0.6111111111111112,
          "yanchor": "bottom",
          "yref": "paper"
         },
         {
          "font": {
           "size": 16
          },
          "showarrow": false,
          "text": "75",
          "x": 0.775,
          "xanchor": "center",
          "xref": "paper",
          "y": 0.6111111111111112,
          "yanchor": "bottom",
          "yref": "paper"
         },
         {
          "font": {
           "size": 16
          },
          "showarrow": false,
          "text": "100",
          "x": 0.225,
          "xanchor": "center",
          "xref": "paper",
          "y": 0.22222222222222224,
          "yanchor": "bottom",
          "yref": "paper"
         },
         {
          "font": {
           "size": 16
          },
          "showarrow": false,
          "text": "100",
          "x": 0.775,
          "xanchor": "center",
          "xref": "paper",
          "y": 0.22222222222222224,
          "yanchor": "bottom",
          "yref": "paper"
         }
        ],
        "height": 1000,
        "title": "Single vertex: simple (P3R)",
        "width": 800,
        "xaxis1": {
         "anchor": "y1",
         "domain": [
          0,
          0.45
         ]
        },
        "xaxis2": {
         "anchor": "y2",
         "domain": [
          0.55,
          1
         ]
        },
        "xaxis3": {
         "anchor": "y3",
         "domain": [
          0,
          0.45
         ]
        },
        "xaxis4": {
         "anchor": "y4",
         "domain": [
          0.55,
          1
         ]
        },
        "xaxis5": {
         "anchor": "y5",
         "domain": [
          0,
          0.45
         ]
        },
        "xaxis6": {
         "anchor": "y6",
         "domain": [
          0.55,
          1
         ]
        },
        "yaxis1": {
         "anchor": "x1",
         "domain": [
          0.7777777777777778,
          1
         ]
        },
        "yaxis2": {
         "anchor": "x2",
         "domain": [
          0.7777777777777778,
          1
         ]
        },
        "yaxis3": {
         "anchor": "x3",
         "domain": [
          0.3888888888888889,
          0.6111111111111112
         ]
        },
        "yaxis4": {
         "anchor": "x4",
         "domain": [
          0.3888888888888889,
          0.6111111111111112
         ]
        },
        "yaxis5": {
         "anchor": "x5",
         "domain": [
          0,
          0.22222222222222224
         ]
        },
        "yaxis6": {
         "anchor": "x6",
         "domain": [
          0,
          0.22222222222222224
         ]
        }
       }
      },
      "text/html": [
       "<div id=\"1678b097-178c-4ebd-9247-63147ee236bc\" style=\"height: 1000px; width: 800px;\" class=\"plotly-graph-div\"></div><script type=\"text/javascript\">require([\"plotly\"], function(Plotly) { window.PLOTLYENV=window.PLOTLYENV || {};window.PLOTLYENV.BASE_URL=\"https://plot.ly\";Plotly.newPlot(\"1678b097-178c-4ebd-9247-63147ee236bc\", [{\"yaxis\": \"y1\", \"xaxis\": \"x1\", \"xbins\": {\"start\": 0, \"end\": 50, \"size\": 1.0}, \"marker\": {\"color\": \"dodgerblue\"}, \"x\": [6, 2, 2, 0, 0, 0, 4, 2, 0, 3, 1, 2, 1, 1, 3, 2, 1, 2, 1, 0, 1, 1, 3, 1, 0, 0, 1, 1, 4, 0, 0, 1, 2, 1, 1, 2, 3, 0, 0, 2, 0, 8, 1, 1, 1, 2, 1, 2, 6, 3], \"type\": \"histogram\"}, {\"yaxis\": \"y2\", \"cumulative\": {\"enabled\": true}, \"histnorm\": \"probability\", \"xaxis\": \"x2\", \"xbins\": {\"start\": 0, \"end\": 50, \"size\": 1.0}, \"marker\": {\"color\": \"royalblue\"}, \"x\": [6, 2, 2, 0, 0, 0, 4, 2, 0, 3, 1, 2, 1, 1, 3, 2, 1, 2, 1, 0, 1, 1, 3, 1, 0, 0, 1, 1, 4, 0, 0, 1, 2, 1, 1, 2, 3, 0, 0, 2, 0, 8, 1, 1, 1, 2, 1, 2, 6, 3], \"type\": \"histogram\"}, {\"yaxis\": \"y3\", \"xaxis\": \"x3\", \"xbins\": {\"start\": 0, \"end\": 75, \"size\": 1.0}, \"marker\": {\"color\": \"dodgerblue\"}, \"x\": [4, 1, 1, 1, 2, 3, 2, 0, 1, 1, 5, 0, 0, 2, 1, 5, 5, 3, 0, 1, 1, 1, 0, 3, 1, 0, 1, 0, 1, 0, 1, 3, 0, 1, 1, 0, 2, 4, 0, 0, 0, 1, 3, 2, 3, 0, 1, 1, 3, 1], \"type\": \"histogram\"}, {\"yaxis\": \"y4\", \"cumulative\": {\"enabled\": true}, \"histnorm\": \"probability\", \"xaxis\": \"x4\", \"xbins\": {\"start\": 0, \"end\": 75, \"size\": 1.0}, \"marker\": {\"color\": \"royalblue\"}, \"x\": [4, 1, 1, 1, 2, 3, 2, 0, 1, 1, 5, 0, 0, 2, 1, 5, 5, 3, 0, 1, 1, 1, 0, 3, 1, 0, 1, 0, 1, 0, 1, 3, 0, 1, 1, 0, 2, 4, 0, 0, 0, 1, 3, 2, 3, 0, 1, 1, 3, 1], \"type\": \"histogram\"}, {\"yaxis\": \"y5\", \"xaxis\": \"x5\", \"xbins\": {\"start\": 0, \"end\": 100, \"size\": 1.0}, \"marker\": {\"color\": \"dodgerblue\"}, \"x\": [6, 0, 2, 1, 0, 0, 0, 3, 1, 2, 5, 1, 1, 1, 1, 2, 1, 1, 0, 0, 3, 2, 5, 0, 4, 1, 2, 2, 7, 0, 4, 1, 0, 2, 6, 0, 5, 3, 3, 3, 0, 1, 2, 2, 3, 0, 2, 1, 1, 1], \"type\": \"histogram\"}, {\"yaxis\": \"y6\", \"cumulative\": {\"enabled\": true}, \"histnorm\": \"probability\", \"xaxis\": \"x6\", \"xbins\": {\"start\": 0, \"end\": 100, \"size\": 1.0}, \"marker\": {\"color\": \"royalblue\"}, \"x\": [6, 0, 2, 1, 0, 0, 0, 3, 1, 2, 5, 1, 1, 1, 1, 2, 1, 1, 0, 0, 3, 2, 5, 0, 4, 1, 2, 2, 7, 0, 4, 1, 0, 2, 6, 0, 5, 3, 3, 3, 0, 1, 2, 2, 3, 0, 2, 1, 1, 1], \"type\": \"histogram\"}], {\"yaxis1\": {\"domain\": [0.7777777777777778, 1.0], \"anchor\": \"x1\"}, \"xaxis6\": {\"domain\": [0.55, 1.0], \"anchor\": \"y6\"}, \"xaxis5\": {\"domain\": [0.0, 0.45], \"anchor\": \"y5\"}, \"xaxis4\": {\"domain\": [0.55, 1.0], \"anchor\": \"y4\"}, \"xaxis3\": {\"domain\": [0.0, 0.45], \"anchor\": \"y3\"}, \"xaxis2\": {\"domain\": [0.55, 1.0], \"anchor\": \"y2\"}, \"xaxis1\": {\"domain\": [0.0, 0.45], \"anchor\": \"y1\"}, \"height\": 1000, \"width\": 800, \"yaxis2\": {\"domain\": [0.7777777777777778, 1.0], \"anchor\": \"x2\"}, \"yaxis3\": {\"domain\": [0.3888888888888889, 0.6111111111111112], \"anchor\": \"x3\"}, \"yaxis4\": {\"domain\": [0.3888888888888889, 0.6111111111111112], \"anchor\": \"x4\"}, \"yaxis5\": {\"domain\": [0.0, 0.22222222222222224], \"anchor\": \"x5\"}, \"yaxis6\": {\"domain\": [0.0, 0.22222222222222224], \"anchor\": \"x6\"}, \"title\": \"Single vertex: simple (P3R)\", \"annotations\": [{\"yanchor\": \"bottom\", \"xref\": \"paper\", \"xanchor\": \"center\", \"yref\": \"paper\", \"text\": \"50\", \"y\": 1.0, \"x\": 0.225, \"font\": {\"size\": 16}, \"showarrow\": false}, {\"yanchor\": \"bottom\", \"xref\": \"paper\", \"xanchor\": \"center\", \"yref\": \"paper\", \"text\": \"50\", \"y\": 1.0, \"x\": 0.775, \"font\": {\"size\": 16}, \"showarrow\": false}, {\"yanchor\": \"bottom\", \"xref\": \"paper\", \"xanchor\": \"center\", \"yref\": \"paper\", \"text\": \"75\", \"y\": 0.6111111111111112, \"x\": 0.225, \"font\": {\"size\": 16}, \"showarrow\": false}, {\"yanchor\": \"bottom\", \"xref\": \"paper\", \"xanchor\": \"center\", \"yref\": \"paper\", \"text\": \"75\", \"y\": 0.6111111111111112, \"x\": 0.775, \"font\": {\"size\": 16}, \"showarrow\": false}, {\"yanchor\": \"bottom\", \"xref\": \"paper\", \"xanchor\": \"center\", \"yref\": \"paper\", \"text\": \"100\", \"y\": 0.22222222222222224, \"x\": 0.225, \"font\": {\"size\": 16}, \"showarrow\": false}, {\"yanchor\": \"bottom\", \"xref\": \"paper\", \"xanchor\": \"center\", \"yref\": \"paper\", \"text\": \"100\", \"y\": 0.22222222222222224, \"x\": 0.775, \"font\": {\"size\": 16}, \"showarrow\": false}]}, {\"linkText\": \"Export to plot.ly\", \"showLink\": true})});</script>"
      ],
      "text/vnd.plotly.v1+html": [
       "<div id=\"1678b097-178c-4ebd-9247-63147ee236bc\" style=\"height: 1000px; width: 800px;\" class=\"plotly-graph-div\"></div><script type=\"text/javascript\">require([\"plotly\"], function(Plotly) { window.PLOTLYENV=window.PLOTLYENV || {};window.PLOTLYENV.BASE_URL=\"https://plot.ly\";Plotly.newPlot(\"1678b097-178c-4ebd-9247-63147ee236bc\", [{\"yaxis\": \"y1\", \"xaxis\": \"x1\", \"xbins\": {\"start\": 0, \"end\": 50, \"size\": 1.0}, \"marker\": {\"color\": \"dodgerblue\"}, \"x\": [6, 2, 2, 0, 0, 0, 4, 2, 0, 3, 1, 2, 1, 1, 3, 2, 1, 2, 1, 0, 1, 1, 3, 1, 0, 0, 1, 1, 4, 0, 0, 1, 2, 1, 1, 2, 3, 0, 0, 2, 0, 8, 1, 1, 1, 2, 1, 2, 6, 3], \"type\": \"histogram\"}, {\"yaxis\": \"y2\", \"cumulative\": {\"enabled\": true}, \"histnorm\": \"probability\", \"xaxis\": \"x2\", \"xbins\": {\"start\": 0, \"end\": 50, \"size\": 1.0}, \"marker\": {\"color\": \"royalblue\"}, \"x\": [6, 2, 2, 0, 0, 0, 4, 2, 0, 3, 1, 2, 1, 1, 3, 2, 1, 2, 1, 0, 1, 1, 3, 1, 0, 0, 1, 1, 4, 0, 0, 1, 2, 1, 1, 2, 3, 0, 0, 2, 0, 8, 1, 1, 1, 2, 1, 2, 6, 3], \"type\": \"histogram\"}, {\"yaxis\": \"y3\", \"xaxis\": \"x3\", \"xbins\": {\"start\": 0, \"end\": 75, \"size\": 1.0}, \"marker\": {\"color\": \"dodgerblue\"}, \"x\": [4, 1, 1, 1, 2, 3, 2, 0, 1, 1, 5, 0, 0, 2, 1, 5, 5, 3, 0, 1, 1, 1, 0, 3, 1, 0, 1, 0, 1, 0, 1, 3, 0, 1, 1, 0, 2, 4, 0, 0, 0, 1, 3, 2, 3, 0, 1, 1, 3, 1], \"type\": \"histogram\"}, {\"yaxis\": \"y4\", \"cumulative\": {\"enabled\": true}, \"histnorm\": \"probability\", \"xaxis\": \"x4\", \"xbins\": {\"start\": 0, \"end\": 75, \"size\": 1.0}, \"marker\": {\"color\": \"royalblue\"}, \"x\": [4, 1, 1, 1, 2, 3, 2, 0, 1, 1, 5, 0, 0, 2, 1, 5, 5, 3, 0, 1, 1, 1, 0, 3, 1, 0, 1, 0, 1, 0, 1, 3, 0, 1, 1, 0, 2, 4, 0, 0, 0, 1, 3, 2, 3, 0, 1, 1, 3, 1], \"type\": \"histogram\"}, {\"yaxis\": \"y5\", \"xaxis\": \"x5\", \"xbins\": {\"start\": 0, \"end\": 100, \"size\": 1.0}, \"marker\": {\"color\": \"dodgerblue\"}, \"x\": [6, 0, 2, 1, 0, 0, 0, 3, 1, 2, 5, 1, 1, 1, 1, 2, 1, 1, 0, 0, 3, 2, 5, 0, 4, 1, 2, 2, 7, 0, 4, 1, 0, 2, 6, 0, 5, 3, 3, 3, 0, 1, 2, 2, 3, 0, 2, 1, 1, 1], \"type\": \"histogram\"}, {\"yaxis\": \"y6\", \"cumulative\": {\"enabled\": true}, \"histnorm\": \"probability\", \"xaxis\": \"x6\", \"xbins\": {\"start\": 0, \"end\": 100, \"size\": 1.0}, \"marker\": {\"color\": \"royalblue\"}, \"x\": [6, 0, 2, 1, 0, 0, 0, 3, 1, 2, 5, 1, 1, 1, 1, 2, 1, 1, 0, 0, 3, 2, 5, 0, 4, 1, 2, 2, 7, 0, 4, 1, 0, 2, 6, 0, 5, 3, 3, 3, 0, 1, 2, 2, 3, 0, 2, 1, 1, 1], \"type\": \"histogram\"}], {\"yaxis1\": {\"domain\": [0.7777777777777778, 1.0], \"anchor\": \"x1\"}, \"xaxis6\": {\"domain\": [0.55, 1.0], \"anchor\": \"y6\"}, \"xaxis5\": {\"domain\": [0.0, 0.45], \"anchor\": \"y5\"}, \"xaxis4\": {\"domain\": [0.55, 1.0], \"anchor\": \"y4\"}, \"xaxis3\": {\"domain\": [0.0, 0.45], \"anchor\": \"y3\"}, \"xaxis2\": {\"domain\": [0.55, 1.0], \"anchor\": \"y2\"}, \"xaxis1\": {\"domain\": [0.0, 0.45], \"anchor\": \"y1\"}, \"height\": 1000, \"width\": 800, \"yaxis2\": {\"domain\": [0.7777777777777778, 1.0], \"anchor\": \"x2\"}, \"yaxis3\": {\"domain\": [0.3888888888888889, 0.6111111111111112], \"anchor\": \"x3\"}, \"yaxis4\": {\"domain\": [0.3888888888888889, 0.6111111111111112], \"anchor\": \"x4\"}, \"yaxis5\": {\"domain\": [0.0, 0.22222222222222224], \"anchor\": \"x5\"}, \"yaxis6\": {\"domain\": [0.0, 0.22222222222222224], \"anchor\": \"x6\"}, \"title\": \"Single vertex: simple (P3R)\", \"annotations\": [{\"yanchor\": \"bottom\", \"xref\": \"paper\", \"xanchor\": \"center\", \"yref\": \"paper\", \"text\": \"50\", \"y\": 1.0, \"x\": 0.225, \"font\": {\"size\": 16}, \"showarrow\": false}, {\"yanchor\": \"bottom\", \"xref\": \"paper\", \"xanchor\": \"center\", \"yref\": \"paper\", \"text\": \"50\", \"y\": 1.0, \"x\": 0.775, \"font\": {\"size\": 16}, \"showarrow\": false}, {\"yanchor\": \"bottom\", \"xref\": \"paper\", \"xanchor\": \"center\", \"yref\": \"paper\", \"text\": \"75\", \"y\": 0.6111111111111112, \"x\": 0.225, \"font\": {\"size\": 16}, \"showarrow\": false}, {\"yanchor\": \"bottom\", \"xref\": \"paper\", \"xanchor\": \"center\", \"yref\": \"paper\", \"text\": \"75\", \"y\": 0.6111111111111112, \"x\": 0.775, \"font\": {\"size\": 16}, \"showarrow\": false}, {\"yanchor\": \"bottom\", \"xref\": \"paper\", \"xanchor\": \"center\", \"yref\": \"paper\", \"text\": \"100\", \"y\": 0.22222222222222224, \"x\": 0.225, \"font\": {\"size\": 16}, \"showarrow\": false}, {\"yanchor\": \"bottom\", \"xref\": \"paper\", \"xanchor\": \"center\", \"yref\": \"paper\", \"text\": \"100\", \"y\": 0.22222222222222224, \"x\": 0.775, \"font\": {\"size\": 16}, \"showarrow\": false}]}, {\"linkText\": \"Export to plot.ly\", \"showLink\": true})});</script>"
      ]
     },
     "metadata": {},
     "output_type": "display_data"
    }
   ],
   "source": [
    "fig['layout'].update(height=1000, width=800, title='Single vertex: simple (P3R)')\n",
    "iplot(fig, filename='simple-subplot')"
   ]
  },
  {
   "cell_type": "markdown",
   "metadata": {},
   "source": [
    "#### Exporting results"
   ]
  },
  {
   "cell_type": "code",
   "execution_count": 45,
   "metadata": {
    "collapsed": true
   },
   "outputs": [],
   "source": [
    "pagerank_results = open('Final_simple_1v_P3R.txt', 'w')\n",
    "for i in [50,75,100]:\n",
    "  print>>pagerank_results, str(i),resultsSA_p3r[str(i)]\n",
    "pagerank_results.close()"
   ]
  },
  {
   "cell_type": "code",
   "execution_count": 46,
   "metadata": {
    "collapsed": true
   },
   "outputs": [],
   "source": [
    "pagerank_results = open('Final_simple_1v_P3R_TIME.txt', 'w')\n",
    "for i in [50,75,100]:\n",
    "  print>>pagerank_results, str(i),results_sa_time_p3r[str(i)]\n",
    "pagerank_results.close()"
   ]
  },
  {
   "cell_type": "code",
   "execution_count": null,
   "metadata": {
    "collapsed": true
   },
   "outputs": [],
   "source": []
  }
 ],
 "metadata": {
  "kernelspec": {
   "display_name": "Python 2",
   "language": "python",
   "name": "python2"
  },
  "language_info": {
   "codemirror_mode": {
    "name": "ipython",
    "version": 2
   },
   "file_extension": ".py",
   "mimetype": "text/x-python",
   "name": "python",
   "nbconvert_exporter": "python",
   "pygments_lexer": "ipython2",
   "version": "2.7.13"
  }
 },
 "nbformat": 4,
 "nbformat_minor": 2
}
