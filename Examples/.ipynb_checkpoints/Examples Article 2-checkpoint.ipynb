{
 "cells": [
  {
   "cell_type": "code",
   "execution_count": 1,
   "metadata": {
    "collapsed": true
   },
   "outputs": [],
   "source": [
    "import matplotlib.pyplot as plt\n",
    "import numpy as np\n",
    "import networkx as nx\n",
    "import random\n",
    "import operator"
   ]
  },
  {
   "cell_type": "markdown",
   "metadata": {},
   "source": [
    "### Examples of Trees"
   ]
  },
  {
   "cell_type": "markdown",
   "metadata": {},
   "source": [
    "Labeled tree"
   ]
  },
  {
   "cell_type": "code",
   "execution_count": 2,
   "metadata": {},
   "outputs": [
    {
     "name": "stdout",
     "output_type": "stream",
     "text": [
      "[(0, 1), (0, 2), (0, 3), (1, 4), (1, 5), (1, 6), (2, 7), (2, 8), (2, 9), (3, 10), (3, 11), (3, 12)]\n"
     ]
    }
   ],
   "source": [
    "def _tree_edges(n,r):\n",
    "    # helper function for trees\n",
    "    # yields edges in rooted tree at 0 with n nodes and branching ratio r\n",
    "    nodes=iter(range(n))\n",
    "    parents=[next(nodes)] # stack of max length r\n",
    "    while parents:\n",
    "        source=parents.pop(0)\n",
    "        for i in range(r):\n",
    "            try:\n",
    "                target=next(nodes)\n",
    "                parents.append(target)\n",
    "                yield source,target\n",
    "            except StopIteration:\n",
    "                break\n",
    "\n",
    "print list(_tree_edges(13,3))\n",
    "#[(0, 1), (0, 2), (0, 3), (1, 4), (1, 5), (1, 6), (2, 7), (2, 8), (2, 9), (3, 10), (3, 11), (3, 12)]\n",
    "import networkx as nx\n",
    "G = nx.Graph(_tree_edges(10,3))\n",
    "G.add_edge(2,10)\n",
    "G.add_edge(3,11)\n",
    "G.add_edge(3,12)\n",
    "\n",
    "G.add_edge(5,13)\n",
    "G.add_edge(5,14)\n",
    "G.add_edge(11,15)\n",
    "G.add_edge(11,16)\n",
    "G.add_edge(11,17)"
   ]
  },
  {
   "cell_type": "code",
   "execution_count": 8,
   "metadata": {},
   "outputs": [
    {
     "name": "stdout",
     "output_type": "stream",
     "text": [
      "{0: array([2, 5]), 1: array([ 0. ,  4.5]), 2: array([ 2. ,  4.5]), 3: array([ 4. ,  4.5]), 4: array([-0.5,  4. ]), 5: array([0, 4]), 6: array([ 0.5,  4. ]), 7: array([ 1.5,  4. ]), 8: array([2, 4]), 9: array([ 2.5,  4. ]), 10: array([3, 4]), 11: array([ 3.5,  4. ]), 12: array([ 4.5,  4. ]), 13: array([-0.5,  3.5]), 14: array([ 0.5,  3.5]), 15: array([ 3. ,  3.5]), 16: array([ 3.5,  3.5]), 17: array([ 4. ,  3.5])}\n"
     ]
    },
    {
     "data": {
      "image/png": "[encoded data removed]",
      "text/plain": [
       "<matplotlib.figure.Figure at 0xad6cf4cc>"
      ]
     },
     "metadata": {},
     "output_type": "display_data"
    }
   ],
   "source": [
    "pos_tree={}\n",
    "pos_tree[0]=np.array([2,5])\n",
    "pos_tree[1]=np.array([0,4.5])\n",
    "pos_tree[2]=np.array([2,4.5])\n",
    "pos_tree[3]=np.array([4,4.5])\n",
    "pos_tree[4]=np.array([-.5,4])\n",
    "pos_tree[5]=np.array([0,4])\n",
    "pos_tree[6]=np.array([.5,4])\n",
    "pos_tree[7]=np.array([1.5,4])\n",
    "pos_tree[8]=np.array([2,4])\n",
    "pos_tree[9]=np.array([2.5,4])\n",
    "pos_tree[10]=np.array([3,4])\n",
    "pos_tree[11]=np.array([3.5,4])\n",
    "pos_tree[12]=np.array([4.5,4])\n",
    "pos_tree[13]=np.array([-.5,3.5])\n",
    "pos_tree[14]=np.array([.5,3.5])\n",
    "pos_tree[15]=np.array([3,3.5])\n",
    "pos_tree[16]=np.array([3.5,3.5])\n",
    "pos_tree[17]=np.array([4,3.5])\n",
    "\n",
    "nx.draw(G,node_color='blue',with_labels=True,node_size=750,pos=pos_tree)\n",
    "print pos_tree\n",
    "plt.show()"
   ]
  },
  {
   "cell_type": "code",
   "execution_count": 5,
   "metadata": {},
   "outputs": [
    {
     "name": "stdout",
     "output_type": "stream",
     "text": [
      "['ybrg', 'ybgr', 'yrbg', 'yrgb', 'ygbr', 'ygrb', 'byrg', 'bygr', 'bryg', 'brgy', 'bgyr', 'bgry', 'rybg', 'rygb', 'rbyg', 'rbgy', 'rgyb', 'rgby', 'gybr', 'gyrb', 'gbyr', 'gbry', 'gryb', 'grby']\n",
      "24\n"
     ]
    }
   ],
   "source": [
    "from itertools import permutations\n",
    "perms = [''.join(p) for p in permutations('ybrg')]\n",
    "print perms\n",
    "print len(perms)"
   ]
  },
  {
   "cell_type": "code",
   "execution_count": 34,
   "metadata": {},
   "outputs": [
    {
     "name": "stdout",
     "output_type": "stream",
     "text": [
      "['ybrg', 'ybgr', 'yrbg', 'ygbr', 'ygrb', 'byrg', 'bygr', 'bryg', 'bgyr', 'bgry', 'rybg', 'rbyg']\n"
     ]
    }
   ],
   "source": [
    "del perms[3]\n",
    "print perms"
   ]
  },
  {
   "cell_type": "code",
   "execution_count": 35,
   "metadata": {},
   "outputs": [
    {
     "name": "stdout",
     "output_type": "stream",
     "text": [
      "======here ybrg\n",
      "==comparing w ybgr\n",
      "y and    r\n",
      "b and    g\n",
      "r and    b\n",
      "==comparing w yrbg\n",
      "y and    g\n",
      "b and    b\n",
      "ybrg yrbg\n",
      "r and    r\n",
      "ybrg yrbg\n",
      "==comparing w ygbr\n",
      "y and    r\n",
      "b and    b\n",
      "ybrg ygbr\n",
      "r and    g\n",
      "==comparing w ygrb\n",
      "y and    b\n",
      "b and    r\n",
      "r and    g\n",
      "==comparing w byrg\n",
      "y and    g\n",
      "b and    r\n",
      "r and    y\n",
      "==comparing w bygr\n",
      "y and    r\n",
      "b and    g\n",
      "r and    y\n",
      "==comparing w bryg\n",
      "y and    g\n",
      "b and    y\n",
      "r and    r\n",
      "ybrg bryg\n",
      "==comparing w bgyr\n",
      "y and    r\n",
      "b and    y\n",
      "r and    g\n",
      "==comparing w bgry\n",
      "y and    y\n",
      "ybrg bgry\n",
      "b and    r\n",
      "r and    g\n",
      "==comparing w rybg\n",
      "y and    g\n",
      "b and    b\n",
      "ybrg rybg\n",
      "r and    y\n",
      "==comparing w rbyg\n",
      "y and    g\n",
      "b and    y\n",
      "r and    b\n",
      "======here ybgr\n",
      "==comparing w yrbg\n",
      "y and    g\n",
      "b and    b\n",
      "ybgr yrbg\n",
      "g and    r\n",
      "==comparing w ygbr\n",
      "y and    r\n",
      "b and    b\n",
      "ybgr ygbr\n",
      "g and    g\n",
      "ybgr ygbr\n",
      "==comparing w ygrb\n",
      "y and    b\n",
      "b and    r\n",
      "g and    g\n",
      "ybgr ygrb\n",
      "==comparing w byrg\n",
      "y and    g\n",
      "b and    r\n",
      "g and    y\n",
      "==comparing w bygr\n",
      "y and    r\n",
      "b and    g\n",
      "g and    y\n",
      "==comparing w bryg\n",
      "y and    g\n",
      "b and    y\n",
      "g and    r\n",
      "==comparing w bgyr\n",
      "y and    r\n",
      "b and    y\n",
      "g and    g\n",
      "ybgr bgyr\n",
      "==comparing w bgry\n",
      "y and    y\n",
      "ybgr bgry\n",
      "b and    r\n",
      "g and    g\n",
      "ybgr bgry\n",
      "==comparing w rybg\n",
      "y and    g\n",
      "b and    b\n",
      "ybgr rybg\n",
      "g and    y\n",
      "==comparing w rbyg\n",
      "y and    g\n",
      "b and    y\n",
      "g and    b\n",
      "======here yrbg\n",
      "==comparing w ygbr\n",
      "y and    r\n",
      "r and    b\n",
      "b and    g\n",
      "==comparing w ygrb\n",
      "y and    b\n",
      "r and    r\n",
      "yrbg ygrb\n",
      "b and    g\n",
      "==comparing w byrg\n",
      "y and    g\n",
      "r and    r\n",
      "yrbg byrg\n",
      "b and    y\n",
      "==comparing w bygr\n",
      "y and    r\n",
      "r and    g\n",
      "b and    y\n",
      "==comparing w bryg\n",
      "y and    g\n",
      "r and    y\n",
      "b and    r\n",
      "==comparing w bgyr\n",
      "y and    r\n",
      "r and    y\n",
      "b and    g\n",
      "==comparing w bgry\n",
      "y and    y\n",
      "yrbg bgry\n",
      "r and    r\n",
      "yrbg bgry\n",
      "b and    g\n",
      "==comparing w rybg\n",
      "y and    g\n",
      "r and    b\n",
      "b and    y\n",
      "==comparing w rbyg\n",
      "y and    g\n",
      "r and    y\n",
      "b and    b\n",
      "yrbg rbyg\n",
      "======here ygbr\n",
      "==comparing w ygrb\n",
      "y and    b\n",
      "g and    r\n",
      "b and    g\n",
      "==comparing w byrg\n",
      "y and    g\n",
      "g and    r\n",
      "b and    y\n",
      "==comparing w bygr\n",
      "y and    r\n",
      "g and    g\n",
      "ygbr bygr\n",
      "b and    y\n",
      "==comparing w bryg\n",
      "y and    g\n",
      "g and    y\n",
      "b and    r\n",
      "==comparing w bgyr\n",
      "y and    r\n",
      "g and    y\n",
      "b and    g\n",
      "==comparing w bgry\n",
      "y and    y\n",
      "ygbr bgry\n",
      "g and    r\n",
      "b and    g\n",
      "==comparing w rybg\n",
      "y and    g\n",
      "g and    b\n",
      "b and    y\n",
      "==comparing w rbyg\n",
      "y and    g\n",
      "g and    y\n",
      "b and    b\n",
      "ygbr rbyg\n",
      "======here ygrb\n",
      "==comparing w byrg\n",
      "y and    g\n",
      "g and    r\n",
      "r and    y\n",
      "==comparing w bygr\n",
      "y and    r\n",
      "g and    g\n",
      "ygrb bygr\n",
      "r and    y\n",
      "==comparing w bryg\n",
      "y and    g\n",
      "g and    y\n",
      "r and    r\n",
      "ygrb bryg\n",
      "==comparing w bgyr\n",
      "y and    r\n",
      "g and    y\n",
      "r and    g\n",
      "==comparing w bgry\n",
      "y and    y\n",
      "ygrb bgry\n",
      "g and    r\n",
      "r and    g\n",
      "==comparing w rybg\n",
      "y and    g\n",
      "g and    b\n",
      "r and    y\n",
      "==comparing w rbyg\n",
      "y and    g\n",
      "g and    y\n",
      "r and    b\n",
      "======here byrg\n",
      "==comparing w bygr\n",
      "b and    r\n",
      "y and    g\n",
      "r and    y\n",
      "==comparing w bryg\n",
      "b and    g\n",
      "y and    y\n",
      "byrg bryg\n",
      "r and    r\n",
      "byrg bryg\n",
      "==comparing w bgyr\n",
      "b and    r\n",
      "y and    y\n",
      "byrg bgyr\n",
      "r and    g\n",
      "==comparing w bgry\n",
      "b and    y\n",
      "y and    r\n",
      "r and    g\n",
      "==comparing w rybg\n",
      "b and    g\n",
      "y and    b\n",
      "r and    y\n",
      "==comparing w rbyg\n",
      "b and    g\n",
      "y and    y\n",
      "byrg rbyg\n",
      "r and    b\n",
      "======here bygr\n",
      "==comparing w bryg\n",
      "b and    g\n",
      "y and    y\n",
      "bygr bryg\n",
      "g and    r\n",
      "==comparing w bgyr\n",
      "b and    r\n",
      "y and    y\n",
      "bygr bgyr\n",
      "g and    g\n",
      "bygr bgyr\n",
      "==comparing w bgry\n",
      "b and    y\n",
      "y and    r\n",
      "g and    g\n",
      "bygr bgry\n",
      "==comparing w rybg\n",
      "b and    g\n",
      "y and    b\n",
      "g and    y\n",
      "==comparing w rbyg\n",
      "b and    g\n",
      "y and    y\n",
      "bygr rbyg\n",
      "g and    b\n",
      "======here bryg\n",
      "==comparing w bgyr\n",
      "b and    r\n",
      "r and    y\n",
      "y and    g\n",
      "==comparing w bgry\n",
      "b and    y\n",
      "r and    r\n",
      "bryg bgry\n",
      "y and    g\n",
      "==comparing w rybg\n",
      "b and    g\n",
      "r and    b\n",
      "y and    y\n",
      "bryg rybg\n",
      "==comparing w rbyg\n",
      "b and    g\n",
      "r and    y\n",
      "y and    b\n",
      "======here bgyr\n",
      "==comparing w bgry\n",
      "b and    y\n",
      "g and    r\n",
      "y and    g\n",
      "==comparing w rybg\n",
      "b and    g\n",
      "g and    b\n",
      "y and    y\n",
      "bgyr rybg\n",
      "==comparing w rbyg\n",
      "b and    g\n",
      "g and    y\n",
      "y and    b\n",
      "======here bgry\n",
      "==comparing w rybg\n",
      "b and    g\n",
      "g and    b\n",
      "r and    y\n",
      "==comparing w rbyg\n",
      "b and    g\n",
      "g and    y\n",
      "r and    b\n",
      "======here rybg\n",
      "==comparing w rbyg\n",
      "r and    g\n",
      "y and    y\n",
      "rybg rbyg\n",
      "b and    b\n",
      "rybg rbyg\n",
      "======here rbyg\n",
      "0\n"
     ]
    }
   ],
   "source": [
    "M=0\n",
    "for i in range(len(perms)):\n",
    "    print '======here',perms[i]\n",
    "    for j in range(i+1,len(perms)):\n",
    "        print '==comparing w',perms[j]\n",
    "        counter=0\n",
    "        for k in range(0,3):\n",
    "            \n",
    "            print perms[i][k], 'and   ', perms[j][-(k+1)]\n",
    "            if perms[i][k]==perms[j][-(k+1)]:\n",
    "                counter+=1\n",
    "                print perms[i],perms[j]\n",
    "        if counter==3:\n",
    "            print 'match!',i,j\n",
    "            M+=1\n",
    "print M"
   ]
  },
  {
   "cell_type": "code",
   "execution_count": 36,
   "metadata": {},
   "outputs": [
    {
     "data": {
      "text/plain": [
       "12"
      ]
     },
     "execution_count": 36,
     "metadata": {},
     "output_type": "execute_result"
    }
   ],
   "source": [
    "len(perms)"
   ]
  },
  {
   "cell_type": "code",
   "execution_count": 63,
   "metadata": {
    "scrolled": false
   },
   "outputs": [
    {
     "data": {
      "image/png": "[encoded data removed]",
      "text/plain": [
       "<matplotlib.figure.Figure at 0xab7a592c>"
      ]
     },
     "metadata": {},
     "output_type": "display_data"
    }
   ],
   "source": [
    "word=True\n",
    "#f, ((ax1, ax2,ax3, ax4),(ax5, ax6,ax7, ax8),(ax9, ax10,ax11, ax12),(ax13, ax14,ax15, ax16)) = plt.subplots(4,4,figsize=(4,4))\n",
    "\n",
    "G4=nx.Graph()\n",
    "G4.add_edge(0,1)\n",
    "G4.add_edge(1,2)\n",
    "G4.add_edge(2,3)\n",
    "k=0\n",
    "for i in perms[0:4]:\n",
    "    \n",
    "    colors=list(i)\n",
    "    pos_G4={}\n",
    "    pos_G4[0]=np.array([k+1,0])\n",
    "    pos_G4[1]=np.array([k+1,1])\n",
    "    pos_G4[2]=np.array([k,1])\n",
    "    pos_G4[3]=np.array([k,0])\n",
    "    k+=2\n",
    "    nx.draw_networkx(G4,pos=pos_G4,node_color=colors,with_labels=word)\n",
    "k=0\n",
    "for i in perms[4:8]:\n",
    "    \n",
    "    colors=list(i)\n",
    "    pos_G4={}\n",
    "    pos_G4[0]=np.array([k+1,-2])\n",
    "    pos_G4[1]=np.array([k+1,-1])\n",
    "    pos_G4[2]=np.array([k,-1])\n",
    "    pos_G4[3]=np.array([k,-2])\n",
    "    k+=2\n",
    "    nx.draw_networkx(G4,pos=pos_G4,node_color=colors,with_labels=word)\n",
    "k=0\n",
    "for i in perms[8:12]:\n",
    "    \n",
    "    colors=list(i)\n",
    "    pos_G4={}\n",
    "    pos_G4[0]=np.array([k+1,-4])\n",
    "    pos_G4[1]=np.array([k+1,-3])\n",
    "    pos_G4[2]=np.array([k,-3])\n",
    "    pos_G4[3]=np.array([k,-4])\n",
    "    k+=2\n",
    "    nx.draw_networkx(G4,pos=pos_G4,node_color=colors,with_labels=word)\n",
    "\n",
    "G4_2=nx.Graph()\n",
    "G4_2.add_edge(0,1)\n",
    "G4_2.add_edge(0,2)\n",
    "G4_2.add_edge(0,3)\n",
    "\n",
    "pos_G4_2={}\n",
    "pos_G4_2[1]=np.array([.5,1.2-6])\n",
    "pos_G4_2[0]=np.array([.5,.5-6])\n",
    "pos_G4_2[2]=np.array([0,0-6])\n",
    "pos_G4_2[3]=np.array([1,0-6])\n",
    "nx.draw_networkx(G4_2,pos=pos_G4_2,node_color=list(perms[0]),with_labels=word)\n",
    "\n",
    "pos_G4_2={}\n",
    "pos_G4_2[1]=np.array([.5+2,1.2-6])\n",
    "pos_G4_2[0]=np.array([.5+2,.5-6])\n",
    "pos_G4_2[2]=np.array([0+2,0-6])\n",
    "pos_G4_2[3]=np.array([1+2,0-6])\n",
    "nx.draw_networkx(G4_2,pos=pos_G4_2,node_color=list(perms[9]),with_labels=word)\n",
    "\n",
    "pos_G4_2={}\n",
    "pos_G4_2[1]=np.array([.5+4,1.2-6])\n",
    "pos_G4_2[0]=np.array([.5+4,.5-6])\n",
    "pos_G4_2[2]=np.array([0+4,0-6])\n",
    "pos_G4_2[3]=np.array([1+4,0-6])\n",
    "nx.draw_networkx(G4_2,pos=pos_G4_2,node_color=list(perms[11]),with_labels=word)\n",
    "\n",
    "pos_G4_2={}\n",
    "pos_G4_2[1]=np.array([.5+6,1.2-6])\n",
    "pos_G4_2[0]=np.array([.5+6,.5-6])\n",
    "pos_G4_2[2]=np.array([0+6,0-6])\n",
    "pos_G4_2[3]=np.array([1+6,0-6])\n",
    "nx.draw(G4_2,pos=pos_G4_2,node_color=list('gryb'),with_labels=word)\n",
    "\n",
    "plt.show()"
   ]
  },
  {
   "cell_type": "code",
   "execution_count": 47,
   "metadata": {
    "scrolled": false
   },
   "outputs": [
    {
     "data": {
      "image/png": "[encoded data removed]",
      "text/plain": [
       "<matplotlib.figure.Figure at 0xab825a0c>"
      ]
     },
     "metadata": {},
     "output_type": "display_data"
    }
   ],
   "source": [
    "word=True\n",
    "\n",
    "G4_2=nx.Graph()\n",
    "G4_2.add_edge(0,1)\n",
    "G4_2.add_edge(0,2)\n",
    "G4_2.add_edge(0,3)\n",
    "\n",
    "pos_G4_2={}\n",
    "pos_G4_2[1]=np.array([.5,1.1-4])\n",
    "pos_G4_2[0]=np.array([.5,.5-4])\n",
    "pos_G4_2[2]=np.array([0,0-4])\n",
    "pos_G4_2[3]=np.array([1,0-4])\n",
    "nx.draw(G4_2,pos=pos_G4_2,node_size=650,node_color=list(perms[0]),width=3,with_labels=word)\n",
    "\n",
    "pos_G4_2={}\n",
    "pos_G4_2[1]=np.array([.5,1.1-6])\n",
    "pos_G4_2[0]=np.array([.5,.5-6])\n",
    "pos_G4_2[2]=np.array([0,0-6])\n",
    "pos_G4_2[3]=np.array([1,0-6])\n",
    "nx.draw(G4_2,pos=pos_G4_2,node_size=650,node_color=list(perms[0]),with_labels=word)\n",
    "\n",
    "pos_G4_2={}\n",
    "pos_G4_2[1]=np.array([.5+2,1.1-6])\n",
    "pos_G4_2[0]=np.array([.5+2,.5-6])\n",
    "pos_G4_2[2]=np.array([0+2,0-6])\n",
    "pos_G4_2[3]=np.array([1+2,0-6])\n",
    "nx.draw(G4_2,pos=pos_G4_2,node_size=650,node_color=list(perms[9]),with_labels=word)\n",
    "\n",
    "pos_G4_2={}\n",
    "pos_G4_2[1]=np.array([.5+4,1.1-6])\n",
    "pos_G4_2[0]=np.array([.5+4,.5-6])\n",
    "pos_G4_2[2]=np.array([0+4,0-6])\n",
    "pos_G4_2[3]=np.array([1+4,0-6])\n",
    "nx.draw(G4_2,pos=pos_G4_2,node_size=650,node_color=list(perms[11]),with_labels=word)\n",
    "\n",
    "pos_G4_2={}\n",
    "pos_G4_2[1]=np.array([.5+6,1.2-6])\n",
    "pos_G4_2[0]=np.array([.5+6,.5-6])\n",
    "pos_G4_2[2]=np.array([0+6,0-6])\n",
    "pos_G4_2[3]=np.array([1+6,0-6])\n",
    "nx.draw(G4_2,pos=pos_G4_2,node_size=650,node_color=list('gryb'),with_labels=word)\n",
    "\n",
    "plt.show()"
   ]
  },
  {
   "cell_type": "code",
   "execution_count": 45,
   "metadata": {},
   "outputs": [
    {
     "data": {
      "image/png": "[encoded data removed]",
      "text/plain": [
       "<matplotlib.figure.Figure at 0xaba3024c>"
      ]
     },
     "metadata": {},
     "output_type": "display_data"
    }
   ],
   "source": [
    "G_aut=nx.Graph()\n",
    "G_aut.add_edge(0,1)\n",
    "G_aut.add_edge(0,2)\n",
    "G_aut.add_edge(0,3)\n",
    "G_aut.add_edge(1,4)\n",
    "G_aut.add_edge(1,5)\n",
    "G_aut.add_edge(2,6)\n",
    "G_aut.add_edge(2,7)\n",
    "G_aut.add_edge(3,8)\n",
    "G_aut.add_edge(3,9)\n",
    "G_aut.add_edge(3,10)\n",
    "pos_aut={}\n",
    "pos_aut[0]=np.array([0,0])\n",
    "pos_aut[1]=np.array([0,1])\n",
    "pos_aut[2]=np.array([-.5,-1])\n",
    "pos_aut[3]=np.array([.5,-1])\n",
    "pos_aut[4]=np.array([-.5,2])\n",
    "pos_aut[5]=np.array([.5,2])\n",
    "pos_aut[6]=np.array([-1,-1])\n",
    "pos_aut[7]=np.array([-.5,-2])\n",
    "pos_aut[8]=np.array([0.5,-2])\n",
    "pos_aut[9]=np.array([1,-2])\n",
    "pos_aut[10]=np.array([1,-1])\n",
    "labels={}\n",
    "labels[0]=r'$v$'\n",
    "labels[1]=r'$v_1$'\n",
    "labels[2]=r'$v_2$'\n",
    "labels[3]=r'$v_3$'\n",
    "labels[4]=r'$u$'\n",
    "labels[5]=r'$u$'\n",
    "labels[6]=r'$u$'\n",
    "labels[7]=r'$u$'\n",
    "labels[8]=r'$u$'\n",
    "labels[9]=r'$u$'\n",
    "labels[10]=r'$u$'\n",
    "nx.draw(G_aut,pos=pos_aut,node_size=750,node_color=['skyblue','r','y','g','r','r','y','y','g','g','g'],with_labels=False)\n",
    "nx.draw_networkx_labels(G_aut,pos_aut,labels)\n",
    "plt.show()"
   ]
  },
  {
   "cell_type": "markdown",
   "metadata": {
    "collapsed": true
   },
   "source": [
    "#### Examples of Aut for unrooted and unlabeled trees"
   ]
  },
  {
   "cell_type": "code",
   "execution_count": 54,
   "metadata": {},
   "outputs": [
    {
     "name": "stdout",
     "output_type": "stream",
     "text": [
      "{'a': array([2, 5]), 'c': array([4, 4]), 'b': array([0, 4]), 'e': array([1, 3]), 'd': array([-1,  3])}\n"
     ]
    },
    {
     "data": {
      "image/png": "[encoded data removed]",
      "text/plain": [
       "<matplotlib.figure.Figure at 0xb5e2a8cc>"
      ]
     },
     "metadata": {},
     "output_type": "display_data"
    }
   ],
   "source": [
    "G_uu=nx.Graph()\n",
    "G_uu.add_edge('a','b')\n",
    "G_uu.add_edge('a','c')\n",
    "G_uu.add_edge('b','d')\n",
    "G_uu.add_edge('b','e')\n",
    "\n",
    "pos_tree={}\n",
    "pos_tree['a']=np.array([2,5])\n",
    "pos_tree['b']=np.array([0,4])\n",
    "pos_tree['c']=np.array([4,4])\n",
    "pos_tree['d']=np.array([-1,3])\n",
    "pos_tree['e']=np.array([1,3])\n",
    "\n",
    "\n",
    "nx.draw(G_uu,with_labels=True,node_size=850,node_color='dodgerblue',pos=pos_tree)\n",
    "print pos_tree\n",
    "plt.show()"
   ]
  },
  {
   "cell_type": "code",
   "execution_count": 61,
   "metadata": {},
   "outputs": [
    {
     "name": "stdout",
     "output_type": "stream",
     "text": [
      "{'a': array([3, 3]), 'c': array([3, 2]), 'b': array([2, 4]), 'e': array([1, 3]), 'd': array([2, 5])}\n"
     ]
    },
    {
     "data": {
      "image/png": "[encoded data removed]",
      "text/plain": [
       "<matplotlib.figure.Figure at 0xab8305cc>"
      ]
     },
     "metadata": {},
     "output_type": "display_data"
    }
   ],
   "source": [
    "G_uu1=nx.Graph()\n",
    "G_uu1.add_edge('a','b')\n",
    "G_uu1.add_edge('a','c')\n",
    "G_uu1.add_edge('b','d')\n",
    "G_uu1.add_edge('b','e')\n",
    "\n",
    "pos_tree={}\n",
    "pos_tree['d']=np.array([2,5])\n",
    "pos_tree['b']=np.array([2,4])\n",
    "pos_tree['e']=np.array([1,3])\n",
    "pos_tree['a']=np.array([3,3])\n",
    "pos_tree['c']=np.array([3,2])\n",
    "\n",
    "\n",
    "nx.draw(G_uu1,node_color='dodgerblue',node_size=1200,with_labels=True,pos=pos_tree)\n",
    "print pos_tree\n",
    "plt.show()"
   ]
  },
  {
   "cell_type": "code",
   "execution_count": 60,
   "metadata": {},
   "outputs": [
    {
     "name": "stdout",
     "output_type": "stream",
     "text": [
      "{'a': array([3, 3]), 'c': array([3, 2]), 'b': array([2, 4]), 'e': array([2, 5]), 'd': array([1, 3])}\n"
     ]
    },
    {
     "data": {
      "image/png": "[encoded data removed]",
      "text/plain": [
       "<matplotlib.figure.Figure at 0xab7d13ac>"
      ]
     },
     "metadata": {},
     "output_type": "display_data"
    }
   ],
   "source": [
    "G_uu2=nx.Graph()\n",
    "G_uu2.add_edge('a','b')\n",
    "G_uu2.add_edge('a','c')\n",
    "G_uu2.add_edge('b','d')\n",
    "G_uu2.add_edge('b','e')\n",
    "\n",
    "pos_tree={}\n",
    "pos_tree['d']=np.array([1,3])\n",
    "pos_tree['b']=np.array([2,4])\n",
    "pos_tree['e']=np.array([2,5])\n",
    "pos_tree['a']=np.array([3,3])\n",
    "pos_tree['c']=np.array([3,2])\n",
    "\n",
    "\n",
    "nx.draw(G_uu2,node_color='dodgerblue',node_size=1200,with_labels=True,pos=pos_tree)\n",
    "print pos_tree\n",
    "plt.show()"
   ]
  },
  {
   "cell_type": "code",
   "execution_count": null,
   "metadata": {
    "collapsed": true
   },
   "outputs": [],
   "source": []
  }
 ],
 "metadata": {
  "kernelspec": {
   "display_name": "Python 2",
   "language": "python",
   "name": "python2"
  },
  "language_info": {
   "codemirror_mode": {
    "name": "ipython",
    "version": 2
   },
   "file_extension": ".py",
   "mimetype": "text/x-python",
   "name": "python",
   "nbconvert_exporter": "python",
   "pygments_lexer": "ipython2",
   "version": "2.7.13"
  }
 },
 "nbformat": 4,
 "nbformat_minor": 2
}
