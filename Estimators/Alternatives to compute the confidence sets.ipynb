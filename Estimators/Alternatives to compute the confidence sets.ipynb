{
 "cells": [
  {
   "cell_type": "markdown",
   "metadata": {},
   "source": [
    "So far, only two different ways of getting the confidence sets "
   ]
  },
  {
   "cell_type": "code",
   "execution_count": 8,
   "metadata": {
    "collapsed": true
   },
   "outputs": [],
   "source": [
    "def conf_set(values,p):\n",
    "    values=list(values)\n",
    "    values2=list(values)\n",
    "    for i in range(0,len(values)):\n",
    "        values2[i]=sum(values[:i+1])\n",
    "    i=0\n",
    "    j=0\n",
    "    I=0\n",
    "    s=0\n",
    "    while s<p:\n",
    "        s=s+values[j]\n",
    "        j=j+1\n",
    "    while values2[i]<p:\n",
    "        i=i+1\n",
    "    %matplotlib inline\n",
    "    plt.bar(range(len(values)), values2)\n",
    "\n",
    "    #values, bins, _ =plt.hist(results_cs_100, bins=100,normed=True)\n",
    "    plt.ylabel('');\n",
    "    plt.xlabel('size of V when 0 is removed')\n",
    "    return i,j"
   ]
  },
  {
   "cell_type": "markdown",
   "metadata": {},
   "source": [
    "It has to be a way of doing this better"
   ]
  },
  {
   "cell_type": "code",
   "execution_count": null,
   "metadata": {
    "collapsed": true
   },
   "outputs": [],
   "source": []
  }
 ],
 "metadata": {
  "kernelspec": {
   "display_name": "Python 2",
   "language": "python",
   "name": "python2"
  },
  "language_info": {
   "codemirror_mode": {
    "name": "ipython",
    "version": 2
   },
   "file_extension": ".py",
   "mimetype": "text/x-python",
   "name": "python",
   "nbconvert_exporter": "python",
   "pygments_lexer": "ipython2",
   "version": "2.7.13"
  }
 },
 "nbformat": 4,
 "nbformat_minor": 2
}
