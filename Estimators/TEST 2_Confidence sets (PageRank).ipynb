{
 "cells": [
  {
   "cell_type": "markdown",
   "metadata": {},
   "source": [
    "# TEST 2: Confidence Sets\n",
    "## PageRank Estimator\n",
    "\n",
    "In this notebook we do many simulations in order to find possible confidence sets for the PageRank estimator. In order to fully undertand this material, I suggest to read the thesis first (which is in another folder)."
   ]
  },
  {
   "cell_type": "code",
   "execution_count": 5,
   "metadata": {
    "collapsed": true
   },
   "outputs": [],
   "source": [
    "#%run 'Removing-leaves estimator .ipynb'\n",
    "%run 'Estimators in their lasts versions.ipynb'\n",
    "%run '/home/diego/Dropbox/Tesis/Modelos/UA model.ipynb'\n",
    "%run '/home/diego/Dropbox/Tesis/Modelos/Shah Tree.ipynb'"
   ]
  },
  {
   "cell_type": "code",
   "execution_count": 6,
   "metadata": {},
   "outputs": [
    {
     "name": "stdout",
     "output_type": "stream",
     "text": [
      "2.2.2\n"
     ]
    },
    {
     "data": {
      "text/html": [
       "<script>requirejs.config({paths: { 'plotly': ['https://cdn.plot.ly/plotly-latest.min']},});if(!window.Plotly) {{require(['plotly'],function(plotly) {window.Plotly=plotly;});}}</script>"
      ],
      "text/vnd.plotly.v1+html": [
       "<script>requirejs.config({paths: { 'plotly': ['https://cdn.plot.ly/plotly-latest.min']},});if(!window.Plotly) {{require(['plotly'],function(plotly) {window.Plotly=plotly;});}}</script>"
      ]
     },
     "metadata": {},
     "output_type": "display_data"
    }
   ],
   "source": [
    "import time\n",
    "import networkx as nx\n",
    "import powerlaw\n",
    "import plotly.plotly as py\n",
    "import plotly.graph_objs as go\n",
    "import numpy as np\n",
    "from plotly import tools\n",
    "from plotly import __version__\n",
    "from plotly.offline import download_plotlyjs, init_notebook_mode, plot,iplot\n",
    "import plotly.figure_factory as ff\n",
    "print (__version__) # requires version >= 1.9.0\n",
    "\n",
    "#Always run this the command before at the start of notebook\n",
    "init_notebook_mode(connected=True)\n",
    "import plotly.graph_objs as go"
   ]
  },
  {
   "cell_type": "code",
   "execution_count": 5,
   "metadata": {
    "collapsed": true
   },
   "outputs": [],
   "source": [
    "resultsPR_ba_cs={} #This dict contains all the vrtices found by the rl estimator for different graph sizes\n",
    "results_pr_time_ba_cs={}\n",
    "size_pr_ba={}"
   ]
  },
  {
   "cell_type": "code",
   "execution_count": 7,
   "metadata": {},
   "outputs": [
    {
     "name": "stdout",
     "output_type": "stream",
     "text": [
      "i!= 11\n",
      "100\n",
      "i!= 13\n",
      "200\n",
      "i!= 14\n",
      "500\n",
      "i!= 17\n",
      "1000\n",
      "i!= 15\n",
      "1500\n",
      "i!= 16\n",
      "2000\n"
     ]
    }
   ],
   "source": [
    "prob=.8\n",
    "for N in [100,200,500,1000,1500,2000]:\n",
    "    results_pr=[]\n",
    "    start_time=time.time()\n",
    "    for i in range(0,500):\n",
    "        ba=nx.barabasi_albert_graph(N,1)\n",
    "        pr=nx.pagerank(ba) #!\n",
    "        cs_size=confset_pr(pr) #CHANGE THIS FOR EACH EST!\n",
    "        results_pr.append([N,cs_size]) #AND THIS!\n",
    "        \n",
    "    final_time= -start_time +time.time()\n",
    "    results_pr_time_ba_cs[str(N)]=final_time #AND THIS\n",
    "    #### Saving the sizes of the confidence sets for each graph size \n",
    "    resultsPR_ba_cs[str(N)]=[i[1] for i in results_pr] #AND THIS\n",
    "    #### Numpy for the histograms\n",
    "    bins = np.arange(0,N)\n",
    "    values, base = np.histogram(resultsPR_ba_cs[str(N)], bins=bins, density=1) #AND THIS\n",
    "    #Looking for the right amount of vertices\n",
    "    for i in range(1,N):\n",
    "        S=np.sum(values[:i])\n",
    "    \n",
    "        if S>prob:\n",
    "            print 'i!=',i\n",
    "            size_pr_ba[str(N)]=i\n",
    "            break\n",
    "    \n",
    "    print N\n"
   ]
  },
  {
   "cell_type": "code",
   "execution_count": 8,
   "metadata": {},
   "outputs": [
    {
     "name": "stdout",
     "output_type": "stream",
     "text": [
      "i!= 19\n",
      "100\n",
      "i!= 25\n",
      "200\n",
      "i!= 34\n",
      "500\n",
      "i!= 48\n",
      "1000\n",
      "i!= 65\n",
      "1500\n",
      "i!= 96\n",
      "2000\n"
     ]
    }
   ],
   "source": [
    "resultsPR_ua_cs={} #This dict contains all the vrtices found by the rl estimator for different graph sizes\n",
    "results_pr_time_ua_cs={}\n",
    "size_pr_ua={}\n",
    "prob=.8\n",
    "for N in [100,200,500,1000,1500,2000]:\n",
    "    results_pr=[]\n",
    "    start_time=time.time()\n",
    "    for i in range(0,500):\n",
    "        ua=unif_tree(N)\n",
    "        pr=nx.pagerank(ua) #!\n",
    "        cs_size=confset_pr(pr) #CHANGE THIS FOR EACH EST!\n",
    "        results_pr.append([N,cs_size]) #AND THIS!\n",
    "        \n",
    "    final_time= -start_time +time.time()\n",
    "    results_pr_time_ua_cs[str(N)]=final_time #AND THIS\n",
    "    #### Saving the sizes of the confidence sets for each graph size \n",
    "    resultsPR_ua_cs[str(N)]=[i[1] for i in results_pr] #AND THIS\n",
    "    #### Numpy for the histograms\n",
    "    bins = np.arange(0,N)\n",
    "    values, base = np.histogram(resultsPR_ua_cs[str(N)], bins=bins, density=1) #AND THIS\n",
    "    #Looking for the right amount of vertices\n",
    "    for i in range(1,N):\n",
    "        S=np.sum(values[:i])\n",
    "    \n",
    "        if S>prob:\n",
    "            print 'i!=',i\n",
    "            size_pr_ua[str(N)]=i\n",
    "            break\n",
    "    \n",
    "    print N\n"
   ]
  },
  {
   "cell_type": "code",
   "execution_count": 9,
   "metadata": {},
   "outputs": [
    {
     "name": "stdout",
     "output_type": "stream",
     "text": [
      "i!= 33\n",
      "100\n",
      "i!= 66\n",
      "200\n",
      "i!= 177\n",
      "500\n",
      "i!= 402\n",
      "1000\n",
      "i!= 633\n",
      "1500\n",
      "i!= 864\n",
      "2000\n"
     ]
    }
   ],
   "source": [
    "resultsPR_p3r_cs={} #This dict contains all the vrtices found by the rl estimator for different graph sizes\n",
    "results_pr_time_p3r_cs={}\n",
    "size_pr_p3r={}\n",
    "prob=.8\n",
    "for N in [100,200,500,1000,1500,2000]:\n",
    "    results_pr=[]\n",
    "    start_time=time.time()\n",
    "    for i in range(0,500):\n",
    "        p3r=areg(N)\n",
    "        pr=nx.pagerank(p3r) #!\n",
    "        cs_size=confset_pr(pr) #CHANGE THIS FOR EACH EST!\n",
    "        results_pr.append([N,cs_size]) #AND THIS!\n",
    "        \n",
    "    final_time= -start_time +time.time()\n",
    "    results_pr_time_p3r_cs[str(N)]=final_time #AND THIS\n",
    "    #### Saving the sizes of the confidence sets for each graph size \n",
    "    resultsPR_p3r_cs[str(N)]=[i[1] for i in results_pr] #AND THIS\n",
    "    #### Numpy for the histograms\n",
    "    bins = np.arange(0,N)\n",
    "    values, base = np.histogram(resultsPR_p3r_cs[str(N)], bins=bins, density=1) #AND THIS\n",
    "    #Looking for the right amount of vertices\n",
    "    for i in range(1,N):\n",
    "        S=np.sum(values[:i])\n",
    "    \n",
    "        if S>prob:\n",
    "            print 'i!=',i\n",
    "            size_pr_p3r[str(N)]=i\n",
    "            break\n",
    "    \n",
    "    print N\n"
   ]
  },
  {
   "cell_type": "code",
   "execution_count": 14,
   "metadata": {},
   "outputs": [
    {
     "name": "stdout",
     "output_type": "stream",
     "text": [
      "0.8\n",
      "i!= 11\n",
      "i!= 13\n",
      "i!= 14\n",
      "i!= 17\n",
      "i!= 15\n",
      "i!= 16\n",
      "0.85\n",
      "i!= 16\n",
      "i!= 24\n",
      "i!= 20\n",
      "i!= 24\n",
      "i!= 25\n",
      "i!= 22\n",
      "0.9\n",
      "i!= 26\n",
      "i!= 48\n",
      "i!= 34\n",
      "i!= 44\n",
      "i!= 43\n",
      "i!= 44\n",
      "0.95\n",
      "i!= 73\n",
      "i!= 153\n",
      "i!= 132\n",
      "i!= 138\n",
      "i!= 129\n",
      "i!= 123\n",
      "0.975\n",
      "i!= 85\n",
      "i!= 181\n",
      "i!= 167\n",
      "i!= 312\n",
      "i!= 478\n",
      "i!= 317\n",
      "0.99\n",
      "i!= 94\n",
      "i!= 186\n",
      "i!= 463\n",
      "i!= 347\n",
      "i!= 1423\n",
      "i!= 616\n"
     ]
    }
   ],
   "source": [
    "size_pr_ba={}\n",
    "for p in [0.8,0.85,0.9,0.95,0.975,0.99]:\n",
    "    print p\n",
    "    size_pr_ba[str(p)]={}\n",
    "    for N in [100,200,500,1000,1500,2000]:\n",
    "        bins = np.arange(0,N)\n",
    "        values, base = np.histogram(RL_ba[str(N)], bins=bins, density=1) #AND THIS\n",
    "        for i in range(1,N):\n",
    "            S=np.sum(values[:i])\n",
    "    \n",
    "            if S>p:\n",
    "                print 'i!=',i\n",
    "                size_pr_ba[str(p)][str(N)]=i\n",
    "                break\n",
    "list1ba=[]\n",
    "list2ba=[]\n",
    "list3ba=[]\n",
    "list4ba=[]\n",
    "list5ba=[]\n",
    "list6ba=[]\n",
    "for i in [100,200,500,1000,1500,2000]:\n",
    "    list1ba.append(size_pr_ba[str(0.8)][str(i)])\n",
    "    list2ba.append(size_pr_ba[str(0.85)][str(i)])\n",
    "    list3ba.append(size_pr_ba[str(0.9)][str(i)])\n",
    "    list4ba.append(size_pr_ba[str(0.95)][str(i)])\n",
    "    list5ba.append(size_pr_ba[str(0.975)][str(i)])\n",
    "    list6ba.append(size_pr_ba[str(0.99)][str(i)]) "
   ]
  },
  {
   "cell_type": "code",
   "execution_count": 13,
   "metadata": {},
   "outputs": [
    {
     "name": "stdout",
     "output_type": "stream",
     "text": [
      "0.8\n",
      "i!= 19\n",
      "i!= 25\n",
      "i!= 34\n",
      "i!= 48\n",
      "i!= 65\n",
      "i!= 96\n",
      "0.85\n",
      "i!= 25\n",
      "i!= 28\n",
      "i!= 39\n",
      "i!= 73\n",
      "i!= 78\n",
      "i!= 140\n",
      "0.9\n",
      "i!= 27\n",
      "i!= 46\n",
      "i!= 63\n",
      "i!= 89\n",
      "i!= 132\n",
      "i!= 186\n",
      "0.95\n",
      "i!= 47\n",
      "i!= 51\n",
      "i!= 120\n",
      "i!= 132\n",
      "i!= 179\n",
      "i!= 314\n",
      "0.975\n",
      "i!= 53\n",
      "i!= 94\n",
      "i!= 130\n",
      "i!= 181\n",
      "i!= 231\n",
      "i!= 486\n",
      "0.99\n",
      "i!= 88\n",
      "i!= 104\n",
      "i!= 256\n",
      "i!= 254\n",
      "i!= 378\n",
      "i!= 526\n"
     ]
    }
   ],
   "source": [
    "size_pr_ua={}\n",
    "for p in [0.8,0.85,0.9,0.95,0.975,0.99]:\n",
    "    print p\n",
    "    size_pr_ua[str(p)]={}\n",
    "    for N in [100,200,500,1000,1500,2000]:\n",
    "        \n",
    "        bins = np.arange(0,N)\n",
    "        values, base = np.histogram(RL_ua[str(N)], bins=bins, density=1) #AND THIS\n",
    "        for i in range(1,N):\n",
    "            S=np.sum(values[:i])\n",
    "    \n",
    "            if S>p:\n",
    "                print 'i!=',i\n",
    "                size_pr_ua[str(p)][str(N)]=i\n",
    "                break\n",
    "        \n",
    "list1ua=[]\n",
    "list2ua=[]\n",
    "list3ua=[]\n",
    "list4ua=[]\n",
    "list5ua=[]\n",
    "list6ua=[]\n",
    "for i in [100,200,500,1000,1500,2000]:\n",
    "    list1ua.append(size_pr_ua[str(0.8)][str(i)])\n",
    "    list2ua.append(size_pr_ua[str(0.85)][str(i)])\n",
    "    list3ua.append(size_pr_ua[str(0.9)][str(i)])\n",
    "    list4ua.append(size_pr_ua[str(0.95)][str(i)])\n",
    "    list5ua.append(size_pr_ua[str(0.975)][str(i)])\n",
    "    list6ua.append(size_pr_ua[str(0.99)][str(i)])"
   ]
  },
  {
   "cell_type": "code",
   "execution_count": 9,
   "metadata": {},
   "outputs": [
    {
     "name": "stdout",
     "output_type": "stream",
     "text": [
      "i!= 33\n",
      "i!= 66\n",
      "i!= 177\n",
      "i!= 402\n",
      "i!= 633\n",
      "i!= 864\n",
      "i!= 34\n",
      "i!= 66\n",
      "i!= 180\n",
      "i!= 408\n",
      "i!= 639\n",
      "i!= 873\n",
      "i!= 35\n",
      "i!= 67\n",
      "i!= 185\n",
      "i!= 413\n",
      "i!= 649\n",
      "i!= 884\n",
      "i!= 65\n",
      "i!= 69\n",
      "i!= 189\n",
      "i!= 421\n",
      "i!= 659\n",
      "i!= 895\n",
      "i!= 67\n",
      "i!= 71\n",
      "i!= 196\n",
      "i!= 428\n",
      "i!= 667\n",
      "i!= 903\n",
      "i!= 68\n",
      "i!= 133\n",
      "i!= 329\n",
      "i!= 433\n",
      "i!= 677\n",
      "i!= 909\n"
     ]
    }
   ],
   "source": [
    "size_pr_p3r={}\n",
    "for p in [0.8,0.85,0.9,0.95,0.975,0.99]:\n",
    "    size_pr_p3r[str(p)]={}\n",
    "    for N in [100,200,500,1000,1500,2000]:\n",
    "        bins = np.arange(0,N)\n",
    "        values, base = np.histogram(RL_p3r[str(N)], bins=bins, density=1) #AND THIS\n",
    "        for i in range(1,N):\n",
    "            S=np.sum(values[:i])\n",
    "    \n",
    "            if S>p:\n",
    "                print 'i!=',i\n",
    "                size_pr_p3r[str(p)][str(N)]=i\n",
    "                break\n",
    "        \n",
    "list1p3r=[]\n",
    "list2p3r=[]\n",
    "list3p3r=[]\n",
    "list4p3r=[]\n",
    "list5p3r=[]\n",
    "list6p3r=[]\n",
    "for i in [100,200,500,1000,1500,2000]:\n",
    "    list1p3r.append(size_pr_p3r[str(0.8)][str(i)])\n",
    "    list2p3r.append(size_pr_p3r[str(0.85)][str(i)])\n",
    "    list3p3r.append(size_pr_p3r[str(0.9)][str(i)])\n",
    "    list4p3r.append(size_pr_p3r[str(0.95)][str(i)])\n",
    "    list5p3r.append(size_pr_p3r[str(0.975)][str(i)])\n",
    "    list6p3r.append(size_pr_p3r[str(0.99)][str(i)])\n"
   ]
  },
  {
   "cell_type": "code",
   "execution_count": 10,
   "metadata": {},
   "outputs": [
    {
     "data": {
      "application/vnd.plotly.v1+json": {
       "data": [
        {
         "colorscale": [
          [
           0,
           "#00083e"
          ],
          [
           0.5,
           "#ededee"
          ],
          [
           1,
           "#ffffff"
          ]
         ],
         "hoverinfo": "none",
         "opacity": 0.75,
         "showscale": false,
         "type": "heatmap",
         "z": [
          [
           0,
           0,
           0,
           0,
           0,
           0,
           0
          ],
          [
           0,
           0.5,
           0.5,
           0.5,
           0.5,
           0.5,
           0.5
          ],
          [
           0,
           1,
           1,
           1,
           1,
           1,
           1
          ],
          [
           0,
           0.5,
           0.5,
           0.5,
           0.5,
           0.5,
           0.5
          ],
          [
           0,
           1,
           1,
           1,
           1,
           1,
           1
          ],
          [
           0,
           0.5,
           0.5,
           0.5,
           0.5,
           0.5,
           0.5
          ],
          [
           0,
           1,
           1,
           1,
           1,
           1,
           1
          ],
          [
           0,
           0.5,
           0.5,
           0.5,
           0.5,
           0.5,
           0.5
          ]
         ]
        }
       ],
       "layout": {
        "annotations": [
         {
          "align": "left",
          "font": {
           "color": "#ffffff",
           "size": 15
          },
          "showarrow": false,
          "text": "<b>Probability</b>",
          "x": -0.45,
          "xanchor": "left",
          "xref": "x1",
          "y": 0,
          "yref": "y1"
         },
         {
          "align": "left",
          "font": {
           "color": "#ffffff",
           "size": 15
          },
          "showarrow": false,
          "text": "<b>N=100</b>",
          "x": 0.55,
          "xanchor": "left",
          "xref": "x1",
          "y": 0,
          "yref": "y1"
         },
         {
          "align": "left",
          "font": {
           "color": "#ffffff",
           "size": 15
          },
          "showarrow": false,
          "text": "<b>N=200</b>",
          "x": 1.55,
          "xanchor": "left",
          "xref": "x1",
          "y": 0,
          "yref": "y1"
         },
         {
          "align": "left",
          "font": {
           "color": "#ffffff",
           "size": 15
          },
          "showarrow": false,
          "text": "<b>N=500</b>",
          "x": 2.55,
          "xanchor": "left",
          "xref": "x1",
          "y": 0,
          "yref": "y1"
         },
         {
          "align": "left",
          "font": {
           "color": "#ffffff",
           "size": 15
          },
          "showarrow": false,
          "text": "<b>N=1000</b>",
          "x": 3.55,
          "xanchor": "left",
          "xref": "x1",
          "y": 0,
          "yref": "y1"
         },
         {
          "align": "left",
          "font": {
           "color": "#ffffff",
           "size": 15
          },
          "showarrow": false,
          "text": "<b>N=1500</b>",
          "x": 4.55,
          "xanchor": "left",
          "xref": "x1",
          "y": 0,
          "yref": "y1"
         },
         {
          "align": "left",
          "font": {
           "color": "#ffffff",
           "size": 15
          },
          "showarrow": false,
          "text": "<b>N=2000</b>",
          "x": 5.55,
          "xanchor": "left",
          "xref": "x1",
          "y": 0,
          "yref": "y1"
         },
         {
          "align": "left",
          "font": {
           "color": "#ffffff",
           "size": 15
          },
          "showarrow": false,
          "text": "<b>0.8</b>",
          "x": -0.45,
          "xanchor": "left",
          "xref": "x1",
          "y": 1,
          "yref": "y1"
         },
         {
          "align": "left",
          "font": {
           "color": "#000000",
           "size": 15
          },
          "showarrow": false,
          "text": "19",
          "x": 0.55,
          "xanchor": "left",
          "xref": "x1",
          "y": 1,
          "yref": "y1"
         },
         {
          "align": "left",
          "font": {
           "color": "#000000",
           "size": 15
          },
          "showarrow": false,
          "text": "25",
          "x": 1.55,
          "xanchor": "left",
          "xref": "x1",
          "y": 1,
          "yref": "y1"
         },
         {
          "align": "left",
          "font": {
           "color": "#000000",
           "size": 15
          },
          "showarrow": false,
          "text": "34",
          "x": 2.55,
          "xanchor": "left",
          "xref": "x1",
          "y": 1,
          "yref": "y1"
         },
         {
          "align": "left",
          "font": {
           "color": "#000000",
           "size": 15
          },
          "showarrow": false,
          "text": "48",
          "x": 3.55,
          "xanchor": "left",
          "xref": "x1",
          "y": 1,
          "yref": "y1"
         },
         {
          "align": "left",
          "font": {
           "color": "#000000",
           "size": 15
          },
          "showarrow": false,
          "text": "65",
          "x": 4.55,
          "xanchor": "left",
          "xref": "x1",
          "y": 1,
          "yref": "y1"
         },
         {
          "align": "left",
          "font": {
           "color": "#000000",
           "size": 15
          },
          "showarrow": false,
          "text": "96",
          "x": 5.55,
          "xanchor": "left",
          "xref": "x1",
          "y": 1,
          "yref": "y1"
         },
         {
          "align": "left",
          "font": {
           "color": "#ffffff",
           "size": 15
          },
          "showarrow": false,
          "text": "<b>0.85</b>",
          "x": -0.45,
          "xanchor": "left",
          "xref": "x1",
          "y": 2,
          "yref": "y1"
         },
         {
          "align": "left",
          "font": {
           "color": "#000000",
           "size": 15
          },
          "showarrow": false,
          "text": "25",
          "x": 0.55,
          "xanchor": "left",
          "xref": "x1",
          "y": 2,
          "yref": "y1"
         },
         {
          "align": "left",
          "font": {
           "color": "#000000",
           "size": 15
          },
          "showarrow": false,
          "text": "28",
          "x": 1.55,
          "xanchor": "left",
          "xref": "x1",
          "y": 2,
          "yref": "y1"
         },
         {
          "align": "left",
          "font": {
           "color": "#000000",
           "size": 15
          },
          "showarrow": false,
          "text": "39",
          "x": 2.55,
          "xanchor": "left",
          "xref": "x1",
          "y": 2,
          "yref": "y1"
         },
         {
          "align": "left",
          "font": {
           "color": "#000000",
           "size": 15
          },
          "showarrow": false,
          "text": "73",
          "x": 3.55,
          "xanchor": "left",
          "xref": "x1",
          "y": 2,
          "yref": "y1"
         },
         {
          "align": "left",
          "font": {
           "color": "#000000",
           "size": 15
          },
          "showarrow": false,
          "text": "78",
          "x": 4.55,
          "xanchor": "left",
          "xref": "x1",
          "y": 2,
          "yref": "y1"
         },
         {
          "align": "left",
          "font": {
           "color": "#000000",
           "size": 15
          },
          "showarrow": false,
          "text": "140",
          "x": 5.55,
          "xanchor": "left",
          "xref": "x1",
          "y": 2,
          "yref": "y1"
         },
         {
          "align": "left",
          "font": {
           "color": "#ffffff",
           "size": 15
          },
          "showarrow": false,
          "text": "<b>0.9</b>",
          "x": -0.45,
          "xanchor": "left",
          "xref": "x1",
          "y": 3,
          "yref": "y1"
         },
         {
          "align": "left",
          "font": {
           "color": "#000000",
           "size": 15
          },
          "showarrow": false,
          "text": "27",
          "x": 0.55,
          "xanchor": "left",
          "xref": "x1",
          "y": 3,
          "yref": "y1"
         },
         {
          "align": "left",
          "font": {
           "color": "#000000",
           "size": 15
          },
          "showarrow": false,
          "text": "46",
          "x": 1.55,
          "xanchor": "left",
          "xref": "x1",
          "y": 3,
          "yref": "y1"
         },
         {
          "align": "left",
          "font": {
           "color": "#000000",
           "size": 15
          },
          "showarrow": false,
          "text": "63",
          "x": 2.55,
          "xanchor": "left",
          "xref": "x1",
          "y": 3,
          "yref": "y1"
         },
         {
          "align": "left",
          "font": {
           "color": "#000000",
           "size": 15
          },
          "showarrow": false,
          "text": "89",
          "x": 3.55,
          "xanchor": "left",
          "xref": "x1",
          "y": 3,
          "yref": "y1"
         },
         {
          "align": "left",
          "font": {
           "color": "#000000",
           "size": 15
          },
          "showarrow": false,
          "text": "132",
          "x": 4.55,
          "xanchor": "left",
          "xref": "x1",
          "y": 3,
          "yref": "y1"
         },
         {
          "align": "left",
          "font": {
           "color": "#000000",
           "size": 15
          },
          "showarrow": false,
          "text": "186",
          "x": 5.55,
          "xanchor": "left",
          "xref": "x1",
          "y": 3,
          "yref": "y1"
         },
         {
          "align": "left",
          "font": {
           "color": "#ffffff",
           "size": 15
          },
          "showarrow": false,
          "text": "<b>0.95</b>",
          "x": -0.45,
          "xanchor": "left",
          "xref": "x1",
          "y": 4,
          "yref": "y1"
         },
         {
          "align": "left",
          "font": {
           "color": "#000000",
           "size": 15
          },
          "showarrow": false,
          "text": "47",
          "x": 0.55,
          "xanchor": "left",
          "xref": "x1",
          "y": 4,
          "yref": "y1"
         },
         {
          "align": "left",
          "font": {
           "color": "#000000",
           "size": 15
          },
          "showarrow": false,
          "text": "51",
          "x": 1.55,
          "xanchor": "left",
          "xref": "x1",
          "y": 4,
          "yref": "y1"
         },
         {
          "align": "left",
          "font": {
           "color": "#000000",
           "size": 15
          },
          "showarrow": false,
          "text": "120",
          "x": 2.55,
          "xanchor": "left",
          "xref": "x1",
          "y": 4,
          "yref": "y1"
         },
         {
          "align": "left",
          "font": {
           "color": "#000000",
           "size": 15
          },
          "showarrow": false,
          "text": "132",
          "x": 3.55,
          "xanchor": "left",
          "xref": "x1",
          "y": 4,
          "yref": "y1"
         },
         {
          "align": "left",
          "font": {
           "color": "#000000",
           "size": 15
          },
          "showarrow": false,
          "text": "179",
          "x": 4.55,
          "xanchor": "left",
          "xref": "x1",
          "y": 4,
          "yref": "y1"
         },
         {
          "align": "left",
          "font": {
           "color": "#000000",
           "size": 15
          },
          "showarrow": false,
          "text": "314",
          "x": 5.55,
          "xanchor": "left",
          "xref": "x1",
          "y": 4,
          "yref": "y1"
         },
         {
          "align": "left",
          "font": {
           "color": "#ffffff",
           "size": 15
          },
          "showarrow": false,
          "text": "<b>0.975</b>",
          "x": -0.45,
          "xanchor": "left",
          "xref": "x1",
          "y": 5,
          "yref": "y1"
         },
         {
          "align": "left",
          "font": {
           "color": "#000000",
           "size": 15
          },
          "showarrow": false,
          "text": "53",
          "x": 0.55,
          "xanchor": "left",
          "xref": "x1",
          "y": 5,
          "yref": "y1"
         },
         {
          "align": "left",
          "font": {
           "color": "#000000",
           "size": 15
          },
          "showarrow": false,
          "text": "94",
          "x": 1.55,
          "xanchor": "left",
          "xref": "x1",
          "y": 5,
          "yref": "y1"
         },
         {
          "align": "left",
          "font": {
           "color": "#000000",
           "size": 15
          },
          "showarrow": false,
          "text": "130",
          "x": 2.55,
          "xanchor": "left",
          "xref": "x1",
          "y": 5,
          "yref": "y1"
         },
         {
          "align": "left",
          "font": {
           "color": "#000000",
           "size": 15
          },
          "showarrow": false,
          "text": "181",
          "x": 3.55,
          "xanchor": "left",
          "xref": "x1",
          "y": 5,
          "yref": "y1"
         },
         {
          "align": "left",
          "font": {
           "color": "#000000",
           "size": 15
          },
          "showarrow": false,
          "text": "231",
          "x": 4.55,
          "xanchor": "left",
          "xref": "x1",
          "y": 5,
          "yref": "y1"
         },
         {
          "align": "left",
          "font": {
           "color": "#000000",
           "size": 15
          },
          "showarrow": false,
          "text": "486",
          "x": 5.55,
          "xanchor": "left",
          "xref": "x1",
          "y": 5,
          "yref": "y1"
         },
         {
          "align": "left",
          "font": {
           "color": "#ffffff",
           "size": 15
          },
          "showarrow": false,
          "text": "<b>0.99</b>",
          "x": -0.45,
          "xanchor": "left",
          "xref": "x1",
          "y": 6,
          "yref": "y1"
         },
         {
          "align": "left",
          "font": {
           "color": "#000000",
           "size": 15
          },
          "showarrow": false,
          "text": "88",
          "x": 0.55,
          "xanchor": "left",
          "xref": "x1",
          "y": 6,
          "yref": "y1"
         },
         {
          "align": "left",
          "font": {
           "color": "#000000",
           "size": 15
          },
          "showarrow": false,
          "text": "104",
          "x": 1.55,
          "xanchor": "left",
          "xref": "x1",
          "y": 6,
          "yref": "y1"
         },
         {
          "align": "left",
          "font": {
           "color": "#000000",
           "size": 15
          },
          "showarrow": false,
          "text": "256",
          "x": 2.55,
          "xanchor": "left",
          "xref": "x1",
          "y": 6,
          "yref": "y1"
         },
         {
          "align": "left",
          "font": {
           "color": "#000000",
           "size": 15
          },
          "showarrow": false,
          "text": "254",
          "x": 3.55,
          "xanchor": "left",
          "xref": "x1",
          "y": 6,
          "yref": "y1"
         },
         {
          "align": "left",
          "font": {
           "color": "#000000",
           "size": 15
          },
          "showarrow": false,
          "text": "378",
          "x": 4.55,
          "xanchor": "left",
          "xref": "x1",
          "y": 6,
          "yref": "y1"
         },
         {
          "align": "left",
          "font": {
           "color": "#000000",
           "size": 15
          },
          "showarrow": false,
          "text": "526",
          "x": 5.55,
          "xanchor": "left",
          "xref": "x1",
          "y": 6,
          "yref": "y1"
         },
         {
          "align": "left",
          "font": {
           "color": "#ffffff",
           "size": 15
          },
          "showarrow": false,
          "text": "<b></b>",
          "x": -0.45,
          "xanchor": "left",
          "xref": "x1",
          "y": 7,
          "yref": "y1"
         },
         {
          "align": "left",
          "font": {
           "color": "#000000",
           "size": 15
          },
          "showarrow": false,
          "text": "",
          "x": 0.55,
          "xanchor": "left",
          "xref": "x1",
          "y": 7,
          "yref": "y1"
         },
         {
          "align": "left",
          "font": {
           "color": "#000000",
           "size": 15
          },
          "showarrow": false,
          "text": "",
          "x": 1.55,
          "xanchor": "left",
          "xref": "x1",
          "y": 7,
          "yref": "y1"
         },
         {
          "align": "left",
          "font": {
           "color": "#000000",
           "size": 15
          },
          "showarrow": false,
          "text": "",
          "x": 2.55,
          "xanchor": "left",
          "xref": "x1",
          "y": 7,
          "yref": "y1"
         },
         {
          "align": "left",
          "font": {
           "color": "#000000",
           "size": 15
          },
          "showarrow": false,
          "text": "",
          "x": 3.55,
          "xanchor": "left",
          "xref": "x1",
          "y": 7,
          "yref": "y1"
         },
         {
          "align": "left",
          "font": {
           "color": "#000000",
           "size": 15
          },
          "showarrow": false,
          "text": "",
          "x": 4.55,
          "xanchor": "left",
          "xref": "x1",
          "y": 7,
          "yref": "y1"
         },
         {
          "align": "left",
          "font": {
           "color": "#000000",
           "size": 15
          },
          "showarrow": false,
          "text": "",
          "x": 5.55,
          "xanchor": "left",
          "xref": "x1",
          "y": 7,
          "yref": "y1"
         }
        ],
        "height": 290,
        "margin": {
         "b": 0,
         "l": 0,
         "r": 0,
         "t": 0
        },
        "xaxis": {
         "dtick": 1,
         "gridwidth": 2,
         "showticklabels": false,
         "tick0": -0.5,
         "ticks": "",
         "zeroline": false
        },
        "yaxis": {
         "autorange": "reversed",
         "dtick": 1,
         "gridwidth": 2,
         "showticklabels": false,
         "tick0": 0.5,
         "ticks": "",
         "zeroline": false
        }
       }
      },
      "text/html": [
       "<div id=\"5da36fa0-c99f-4479-888c-320e92f3868a\" style=\"height: 290px; width: 100%;\" class=\"plotly-graph-div\"></div><script type=\"text/javascript\">require([\"plotly\"], function(Plotly) { window.PLOTLYENV=window.PLOTLYENV || {};window.PLOTLYENV.BASE_URL=\"https://plot.ly\";Plotly.newPlot(\"5da36fa0-c99f-4479-888c-320e92f3868a\", [{\"opacity\": 0.75, \"colorscale\": [[0, \"#00083e\"], [0.5, \"#ededee\"], [1, \"#ffffff\"]], \"showscale\": false, \"hoverinfo\": \"none\", \"z\": [[0, 0, 0, 0, 0, 0, 0], [0, 0.5, 0.5, 0.5, 0.5, 0.5, 0.5], [0, 1, 1, 1, 1, 1, 1], [0, 0.5, 0.5, 0.5, 0.5, 0.5, 0.5], [0, 1, 1, 1, 1, 1, 1], [0, 0.5, 0.5, 0.5, 0.5, 0.5, 0.5], [0, 1, 1, 1, 1, 1, 1], [0, 0.5, 0.5, 0.5, 0.5, 0.5, 0.5]], \"type\": \"heatmap\"}], {\"yaxis\": {\"showticklabels\": false, \"tick0\": 0.5, \"ticks\": \"\", \"gridwidth\": 2, \"dtick\": 1, \"zeroline\": false, \"autorange\": \"reversed\"}, \"margin\": {\"r\": 0, \"b\": 0, \"l\": 0, \"t\": 0}, \"annotations\": [{\"xref\": \"x1\", \"xanchor\": \"left\", \"yref\": \"y1\", \"text\": \"<b>Probability</b>\", \"align\": \"left\", \"y\": 0, \"x\": -0.45, \"font\": {\"color\": \"#ffffff\", \"size\": 15}, \"showarrow\": false}, {\"xref\": \"x1\", \"xanchor\": \"left\", \"yref\": \"y1\", \"text\": \"<b>N=100</b>\", \"align\": \"left\", \"y\": 0, \"x\": 0.55, \"font\": {\"color\": \"#ffffff\", \"size\": 15}, \"showarrow\": false}, {\"xref\": \"x1\", \"xanchor\": \"left\", \"yref\": \"y1\", \"text\": \"<b>N=200</b>\", \"align\": \"left\", \"y\": 0, \"x\": 1.55, \"font\": {\"color\": \"#ffffff\", \"size\": 15}, \"showarrow\": false}, {\"xref\": \"x1\", \"xanchor\": \"left\", \"yref\": \"y1\", \"text\": \"<b>N=500</b>\", \"align\": \"left\", \"y\": 0, \"x\": 2.55, \"font\": {\"color\": \"#ffffff\", \"size\": 15}, \"showarrow\": false}, {\"xref\": \"x1\", \"xanchor\": \"left\", \"yref\": \"y1\", \"text\": \"<b>N=1000</b>\", \"align\": \"left\", \"y\": 0, \"x\": 3.55, \"font\": {\"color\": \"#ffffff\", \"size\": 15}, \"showarrow\": false}, {\"xref\": \"x1\", \"xanchor\": \"left\", \"yref\": \"y1\", \"text\": \"<b>N=1500</b>\", \"align\": \"left\", \"y\": 0, \"x\": 4.55, \"font\": {\"color\": \"#ffffff\", \"size\": 15}, \"showarrow\": false}, {\"xref\": \"x1\", \"xanchor\": \"left\", \"yref\": \"y1\", \"text\": \"<b>N=2000</b>\", \"align\": \"left\", \"y\": 0, \"x\": 5.55, \"font\": {\"color\": \"#ffffff\", \"size\": 15}, \"showarrow\": false}, {\"xref\": \"x1\", \"xanchor\": \"left\", \"yref\": \"y1\", \"text\": \"<b>0.8</b>\", \"align\": \"left\", \"y\": 1, \"x\": -0.45, \"font\": {\"color\": \"#ffffff\", \"size\": 15}, \"showarrow\": false}, {\"xref\": \"x1\", \"xanchor\": \"left\", \"yref\": \"y1\", \"text\": \"19\", \"align\": \"left\", \"y\": 1, \"x\": 0.55, \"font\": {\"color\": \"#000000\", \"size\": 15}, \"showarrow\": false}, {\"xref\": \"x1\", \"xanchor\": \"left\", \"yref\": \"y1\", \"text\": \"25\", \"align\": \"left\", \"y\": 1, \"x\": 1.55, \"font\": {\"color\": \"#000000\", \"size\": 15}, \"showarrow\": false}, {\"xref\": \"x1\", \"xanchor\": \"left\", \"yref\": \"y1\", \"text\": \"34\", \"align\": \"left\", \"y\": 1, \"x\": 2.55, \"font\": {\"color\": \"#000000\", \"size\": 15}, \"showarrow\": false}, {\"xref\": \"x1\", \"xanchor\": \"left\", \"yref\": \"y1\", \"text\": \"48\", \"align\": \"left\", \"y\": 1, \"x\": 3.55, \"font\": {\"color\": \"#000000\", \"size\": 15}, \"showarrow\": false}, {\"xref\": \"x1\", \"xanchor\": \"left\", \"yref\": \"y1\", \"text\": \"65\", \"align\": \"left\", \"y\": 1, \"x\": 4.55, \"font\": {\"color\": \"#000000\", \"size\": 15}, \"showarrow\": false}, {\"xref\": \"x1\", \"xanchor\": \"left\", \"yref\": \"y1\", \"text\": \"96\", \"align\": \"left\", \"y\": 1, \"x\": 5.55, \"font\": {\"color\": \"#000000\", \"size\": 15}, \"showarrow\": false}, {\"xref\": \"x1\", \"xanchor\": \"left\", \"yref\": \"y1\", \"text\": \"<b>0.85</b>\", \"align\": \"left\", \"y\": 2, \"x\": -0.45, \"font\": {\"color\": \"#ffffff\", \"size\": 15}, \"showarrow\": false}, {\"xref\": \"x1\", \"xanchor\": \"left\", \"yref\": \"y1\", \"text\": \"25\", \"align\": \"left\", \"y\": 2, \"x\": 0.55, \"font\": {\"color\": \"#000000\", \"size\": 15}, \"showarrow\": false}, {\"xref\": \"x1\", \"xanchor\": \"left\", \"yref\": \"y1\", \"text\": \"28\", \"align\": \"left\", \"y\": 2, \"x\": 1.55, \"font\": {\"color\": \"#000000\", \"size\": 15}, \"showarrow\": false}, {\"xref\": \"x1\", \"xanchor\": \"left\", \"yref\": \"y1\", \"text\": \"39\", \"align\": \"left\", \"y\": 2, \"x\": 2.55, \"font\": {\"color\": \"#000000\", \"size\": 15}, \"showarrow\": false}, {\"xref\": \"x1\", \"xanchor\": \"left\", \"yref\": \"y1\", \"text\": \"73\", \"align\": \"left\", \"y\": 2, \"x\": 3.55, \"font\": {\"color\": \"#000000\", \"size\": 15}, \"showarrow\": false}, {\"xref\": \"x1\", \"xanchor\": \"left\", \"yref\": \"y1\", \"text\": \"78\", \"align\": \"left\", \"y\": 2, \"x\": 4.55, \"font\": {\"color\": \"#000000\", \"size\": 15}, \"showarrow\": false}, {\"xref\": \"x1\", \"xanchor\": \"left\", \"yref\": \"y1\", \"text\": \"140\", \"align\": \"left\", \"y\": 2, \"x\": 5.55, \"font\": {\"color\": \"#000000\", \"size\": 15}, \"showarrow\": false}, {\"xref\": \"x1\", \"xanchor\": \"left\", \"yref\": \"y1\", \"text\": \"<b>0.9</b>\", \"align\": \"left\", \"y\": 3, \"x\": -0.45, \"font\": {\"color\": \"#ffffff\", \"size\": 15}, \"showarrow\": false}, {\"xref\": \"x1\", \"xanchor\": \"left\", \"yref\": \"y1\", \"text\": \"27\", \"align\": \"left\", \"y\": 3, \"x\": 0.55, \"font\": {\"color\": \"#000000\", \"size\": 15}, \"showarrow\": false}, {\"xref\": \"x1\", \"xanchor\": \"left\", \"yref\": \"y1\", \"text\": \"46\", \"align\": \"left\", \"y\": 3, \"x\": 1.55, \"font\": {\"color\": \"#000000\", \"size\": 15}, \"showarrow\": false}, {\"xref\": \"x1\", \"xanchor\": \"left\", \"yref\": \"y1\", \"text\": \"63\", \"align\": \"left\", \"y\": 3, \"x\": 2.55, \"font\": {\"color\": \"#000000\", \"size\": 15}, \"showarrow\": false}, {\"xref\": \"x1\", \"xanchor\": \"left\", \"yref\": \"y1\", \"text\": \"89\", \"align\": \"left\", \"y\": 3, \"x\": 3.55, \"font\": {\"color\": \"#000000\", \"size\": 15}, \"showarrow\": false}, {\"xref\": \"x1\", \"xanchor\": \"left\", \"yref\": \"y1\", \"text\": \"132\", \"align\": \"left\", \"y\": 3, \"x\": 4.55, \"font\": {\"color\": \"#000000\", \"size\": 15}, \"showarrow\": false}, {\"xref\": \"x1\", \"xanchor\": \"left\", \"yref\": \"y1\", \"text\": \"186\", \"align\": \"left\", \"y\": 3, \"x\": 5.55, \"font\": {\"color\": \"#000000\", \"size\": 15}, \"showarrow\": false}, {\"xref\": \"x1\", \"xanchor\": \"left\", \"yref\": \"y1\", \"text\": \"<b>0.95</b>\", \"align\": \"left\", \"y\": 4, \"x\": -0.45, \"font\": {\"color\": \"#ffffff\", \"size\": 15}, \"showarrow\": false}, {\"xref\": \"x1\", \"xanchor\": \"left\", \"yref\": \"y1\", \"text\": \"47\", \"align\": \"left\", \"y\": 4, \"x\": 0.55, \"font\": {\"color\": \"#000000\", \"size\": 15}, \"showarrow\": false}, {\"xref\": \"x1\", \"xanchor\": \"left\", \"yref\": \"y1\", \"text\": \"51\", \"align\": \"left\", \"y\": 4, \"x\": 1.55, \"font\": {\"color\": \"#000000\", \"size\": 15}, \"showarrow\": false}, {\"xref\": \"x1\", \"xanchor\": \"left\", \"yref\": \"y1\", \"text\": \"120\", \"align\": \"left\", \"y\": 4, \"x\": 2.55, \"font\": {\"color\": \"#000000\", \"size\": 15}, \"showarrow\": false}, {\"xref\": \"x1\", \"xanchor\": \"left\", \"yref\": \"y1\", \"text\": \"132\", \"align\": \"left\", \"y\": 4, \"x\": 3.55, \"font\": {\"color\": \"#000000\", \"size\": 15}, \"showarrow\": false}, {\"xref\": \"x1\", \"xanchor\": \"left\", \"yref\": \"y1\", \"text\": \"179\", \"align\": \"left\", \"y\": 4, \"x\": 4.55, \"font\": {\"color\": \"#000000\", \"size\": 15}, \"showarrow\": false}, {\"xref\": \"x1\", \"xanchor\": \"left\", \"yref\": \"y1\", \"text\": \"314\", \"align\": \"left\", \"y\": 4, \"x\": 5.55, \"font\": {\"color\": \"#000000\", \"size\": 15}, \"showarrow\": false}, {\"xref\": \"x1\", \"xanchor\": \"left\", \"yref\": \"y1\", \"text\": \"<b>0.975</b>\", \"align\": \"left\", \"y\": 5, \"x\": -0.45, \"font\": {\"color\": \"#ffffff\", \"size\": 15}, \"showarrow\": false}, {\"xref\": \"x1\", \"xanchor\": \"left\", \"yref\": \"y1\", \"text\": \"53\", \"align\": \"left\", \"y\": 5, \"x\": 0.55, \"font\": {\"color\": \"#000000\", \"size\": 15}, \"showarrow\": false}, {\"xref\": \"x1\", \"xanchor\": \"left\", \"yref\": \"y1\", \"text\": \"94\", \"align\": \"left\", \"y\": 5, \"x\": 1.55, \"font\": {\"color\": \"#000000\", \"size\": 15}, \"showarrow\": false}, {\"xref\": \"x1\", \"xanchor\": \"left\", \"yref\": \"y1\", \"text\": \"130\", \"align\": \"left\", \"y\": 5, \"x\": 2.55, \"font\": {\"color\": \"#000000\", \"size\": 15}, \"showarrow\": false}, {\"xref\": \"x1\", \"xanchor\": \"left\", \"yref\": \"y1\", \"text\": \"181\", \"align\": \"left\", \"y\": 5, \"x\": 3.55, \"font\": {\"color\": \"#000000\", \"size\": 15}, \"showarrow\": false}, {\"xref\": \"x1\", \"xanchor\": \"left\", \"yref\": \"y1\", \"text\": \"231\", \"align\": \"left\", \"y\": 5, \"x\": 4.55, \"font\": {\"color\": \"#000000\", \"size\": 15}, \"showarrow\": false}, {\"xref\": \"x1\", \"xanchor\": \"left\", \"yref\": \"y1\", \"text\": \"486\", \"align\": \"left\", \"y\": 5, \"x\": 5.55, \"font\": {\"color\": \"#000000\", \"size\": 15}, \"showarrow\": false}, {\"xref\": \"x1\", \"xanchor\": \"left\", \"yref\": \"y1\", \"text\": \"<b>0.99</b>\", \"align\": \"left\", \"y\": 6, \"x\": -0.45, \"font\": {\"color\": \"#ffffff\", \"size\": 15}, \"showarrow\": false}, {\"xref\": \"x1\", \"xanchor\": \"left\", \"yref\": \"y1\", \"text\": \"88\", \"align\": \"left\", \"y\": 6, \"x\": 0.55, \"font\": {\"color\": \"#000000\", \"size\": 15}, \"showarrow\": false}, {\"xref\": \"x1\", \"xanchor\": \"left\", \"yref\": \"y1\", \"text\": \"104\", \"align\": \"left\", \"y\": 6, \"x\": 1.55, \"font\": {\"color\": \"#000000\", \"size\": 15}, \"showarrow\": false}, {\"xref\": \"x1\", \"xanchor\": \"left\", \"yref\": \"y1\", \"text\": \"256\", \"align\": \"left\", \"y\": 6, \"x\": 2.55, \"font\": {\"color\": \"#000000\", \"size\": 15}, \"showarrow\": false}, {\"xref\": \"x1\", \"xanchor\": \"left\", \"yref\": \"y1\", \"text\": \"254\", \"align\": \"left\", \"y\": 6, \"x\": 3.55, \"font\": {\"color\": \"#000000\", \"size\": 15}, \"showarrow\": false}, {\"xref\": \"x1\", \"xanchor\": \"left\", \"yref\": \"y1\", \"text\": \"378\", \"align\": \"left\", \"y\": 6, \"x\": 4.55, \"font\": {\"color\": \"#000000\", \"size\": 15}, \"showarrow\": false}, {\"xref\": \"x1\", \"xanchor\": \"left\", \"yref\": \"y1\", \"text\": \"526\", \"align\": \"left\", \"y\": 6, \"x\": 5.55, \"font\": {\"color\": \"#000000\", \"size\": 15}, \"showarrow\": false}, {\"xref\": \"x1\", \"xanchor\": \"left\", \"yref\": \"y1\", \"text\": \"<b></b>\", \"align\": \"left\", \"y\": 7, \"x\": -0.45, \"font\": {\"color\": \"#ffffff\", \"size\": 15}, \"showarrow\": false}, {\"xref\": \"x1\", \"xanchor\": \"left\", \"yref\": \"y1\", \"text\": \"\", \"align\": \"left\", \"y\": 7, \"x\": 0.55, \"font\": {\"color\": \"#000000\", \"size\": 15}, \"showarrow\": false}, {\"xref\": \"x1\", \"xanchor\": \"left\", \"yref\": \"y1\", \"text\": \"\", \"align\": \"left\", \"y\": 7, \"x\": 1.55, \"font\": {\"color\": \"#000000\", \"size\": 15}, \"showarrow\": false}, {\"xref\": \"x1\", \"xanchor\": \"left\", \"yref\": \"y1\", \"text\": \"\", \"align\": \"left\", \"y\": 7, \"x\": 2.55, \"font\": {\"color\": \"#000000\", \"size\": 15}, \"showarrow\": false}, {\"xref\": \"x1\", \"xanchor\": \"left\", \"yref\": \"y1\", \"text\": \"\", \"align\": \"left\", \"y\": 7, \"x\": 3.55, \"font\": {\"color\": \"#000000\", \"size\": 15}, \"showarrow\": false}, {\"xref\": \"x1\", \"xanchor\": \"left\", \"yref\": \"y1\", \"text\": \"\", \"align\": \"left\", \"y\": 7, \"x\": 4.55, \"font\": {\"color\": \"#000000\", \"size\": 15}, \"showarrow\": false}, {\"xref\": \"x1\", \"xanchor\": \"left\", \"yref\": \"y1\", \"text\": \"\", \"align\": \"left\", \"y\": 7, \"x\": 5.55, \"font\": {\"color\": \"#000000\", \"size\": 15}, \"showarrow\": false}], \"xaxis\": {\"showticklabels\": false, \"tick0\": -0.5, \"ticks\": \"\", \"gridwidth\": 2, \"dtick\": 1, \"zeroline\": false}, \"height\": 290}, {\"linkText\": \"Export to plot.ly\", \"showLink\": true})});</script>"
      ],
      "text/vnd.plotly.v1+html": [
       "<div id=\"5da36fa0-c99f-4479-888c-320e92f3868a\" style=\"height: 290px; width: 100%;\" class=\"plotly-graph-div\"></div><script type=\"text/javascript\">require([\"plotly\"], function(Plotly) { window.PLOTLYENV=window.PLOTLYENV || {};window.PLOTLYENV.BASE_URL=\"https://plot.ly\";Plotly.newPlot(\"5da36fa0-c99f-4479-888c-320e92f3868a\", [{\"opacity\": 0.75, \"colorscale\": [[0, \"#00083e\"], [0.5, \"#ededee\"], [1, \"#ffffff\"]], \"showscale\": false, \"hoverinfo\": \"none\", \"z\": [[0, 0, 0, 0, 0, 0, 0], [0, 0.5, 0.5, 0.5, 0.5, 0.5, 0.5], [0, 1, 1, 1, 1, 1, 1], [0, 0.5, 0.5, 0.5, 0.5, 0.5, 0.5], [0, 1, 1, 1, 1, 1, 1], [0, 0.5, 0.5, 0.5, 0.5, 0.5, 0.5], [0, 1, 1, 1, 1, 1, 1], [0, 0.5, 0.5, 0.5, 0.5, 0.5, 0.5]], \"type\": \"heatmap\"}], {\"yaxis\": {\"showticklabels\": false, \"tick0\": 0.5, \"ticks\": \"\", \"gridwidth\": 2, \"dtick\": 1, \"zeroline\": false, \"autorange\": \"reversed\"}, \"margin\": {\"r\": 0, \"b\": 0, \"l\": 0, \"t\": 0}, \"annotations\": [{\"xref\": \"x1\", \"xanchor\": \"left\", \"yref\": \"y1\", \"text\": \"<b>Probability</b>\", \"align\": \"left\", \"y\": 0, \"x\": -0.45, \"font\": {\"color\": \"#ffffff\", \"size\": 15}, \"showarrow\": false}, {\"xref\": \"x1\", \"xanchor\": \"left\", \"yref\": \"y1\", \"text\": \"<b>N=100</b>\", \"align\": \"left\", \"y\": 0, \"x\": 0.55, \"font\": {\"color\": \"#ffffff\", \"size\": 15}, \"showarrow\": false}, {\"xref\": \"x1\", \"xanchor\": \"left\", \"yref\": \"y1\", \"text\": \"<b>N=200</b>\", \"align\": \"left\", \"y\": 0, \"x\": 1.55, \"font\": {\"color\": \"#ffffff\", \"size\": 15}, \"showarrow\": false}, {\"xref\": \"x1\", \"xanchor\": \"left\", \"yref\": \"y1\", \"text\": \"<b>N=500</b>\", \"align\": \"left\", \"y\": 0, \"x\": 2.55, \"font\": {\"color\": \"#ffffff\", \"size\": 15}, \"showarrow\": false}, {\"xref\": \"x1\", \"xanchor\": \"left\", \"yref\": \"y1\", \"text\": \"<b>N=1000</b>\", \"align\": \"left\", \"y\": 0, \"x\": 3.55, \"font\": {\"color\": \"#ffffff\", \"size\": 15}, \"showarrow\": false}, {\"xref\": \"x1\", \"xanchor\": \"left\", \"yref\": \"y1\", \"text\": \"<b>N=1500</b>\", \"align\": \"left\", \"y\": 0, \"x\": 4.55, \"font\": {\"color\": \"#ffffff\", \"size\": 15}, \"showarrow\": false}, {\"xref\": \"x1\", \"xanchor\": \"left\", \"yref\": \"y1\", \"text\": \"<b>N=2000</b>\", \"align\": \"left\", \"y\": 0, \"x\": 5.55, \"font\": {\"color\": \"#ffffff\", \"size\": 15}, \"showarrow\": false}, {\"xref\": \"x1\", \"xanchor\": \"left\", \"yref\": \"y1\", \"text\": \"<b>0.8</b>\", \"align\": \"left\", \"y\": 1, \"x\": -0.45, \"font\": {\"color\": \"#ffffff\", \"size\": 15}, \"showarrow\": false}, {\"xref\": \"x1\", \"xanchor\": \"left\", \"yref\": \"y1\", \"text\": \"19\", \"align\": \"left\", \"y\": 1, \"x\": 0.55, \"font\": {\"color\": \"#000000\", \"size\": 15}, \"showarrow\": false}, {\"xref\": \"x1\", \"xanchor\": \"left\", \"yref\": \"y1\", \"text\": \"25\", \"align\": \"left\", \"y\": 1, \"x\": 1.55, \"font\": {\"color\": \"#000000\", \"size\": 15}, \"showarrow\": false}, {\"xref\": \"x1\", \"xanchor\": \"left\", \"yref\": \"y1\", \"text\": \"34\", \"align\": \"left\", \"y\": 1, \"x\": 2.55, \"font\": {\"color\": \"#000000\", \"size\": 15}, \"showarrow\": false}, {\"xref\": \"x1\", \"xanchor\": \"left\", \"yref\": \"y1\", \"text\": \"48\", \"align\": \"left\", \"y\": 1, \"x\": 3.55, \"font\": {\"color\": \"#000000\", \"size\": 15}, \"showarrow\": false}, {\"xref\": \"x1\", \"xanchor\": \"left\", \"yref\": \"y1\", \"text\": \"65\", \"align\": \"left\", \"y\": 1, \"x\": 4.55, \"font\": {\"color\": \"#000000\", \"size\": 15}, \"showarrow\": false}, {\"xref\": \"x1\", \"xanchor\": \"left\", \"yref\": \"y1\", \"text\": \"96\", \"align\": \"left\", \"y\": 1, \"x\": 5.55, \"font\": {\"color\": \"#000000\", \"size\": 15}, \"showarrow\": false}, {\"xref\": \"x1\", \"xanchor\": \"left\", \"yref\": \"y1\", \"text\": \"<b>0.85</b>\", \"align\": \"left\", \"y\": 2, \"x\": -0.45, \"font\": {\"color\": \"#ffffff\", \"size\": 15}, \"showarrow\": false}, {\"xref\": \"x1\", \"xanchor\": \"left\", \"yref\": \"y1\", \"text\": \"25\", \"align\": \"left\", \"y\": 2, \"x\": 0.55, \"font\": {\"color\": \"#000000\", \"size\": 15}, \"showarrow\": false}, {\"xref\": \"x1\", \"xanchor\": \"left\", \"yref\": \"y1\", \"text\": \"28\", \"align\": \"left\", \"y\": 2, \"x\": 1.55, \"font\": {\"color\": \"#000000\", \"size\": 15}, \"showarrow\": false}, {\"xref\": \"x1\", \"xanchor\": \"left\", \"yref\": \"y1\", \"text\": \"39\", \"align\": \"left\", \"y\": 2, \"x\": 2.55, \"font\": {\"color\": \"#000000\", \"size\": 15}, \"showarrow\": false}, {\"xref\": \"x1\", \"xanchor\": \"left\", \"yref\": \"y1\", \"text\": \"73\", \"align\": \"left\", \"y\": 2, \"x\": 3.55, \"font\": {\"color\": \"#000000\", \"size\": 15}, \"showarrow\": false}, {\"xref\": \"x1\", \"xanchor\": \"left\", \"yref\": \"y1\", \"text\": \"78\", \"align\": \"left\", \"y\": 2, \"x\": 4.55, \"font\": {\"color\": \"#000000\", \"size\": 15}, \"showarrow\": false}, {\"xref\": \"x1\", \"xanchor\": \"left\", \"yref\": \"y1\", \"text\": \"140\", \"align\": \"left\", \"y\": 2, \"x\": 5.55, \"font\": {\"color\": \"#000000\", \"size\": 15}, \"showarrow\": false}, {\"xref\": \"x1\", \"xanchor\": \"left\", \"yref\": \"y1\", \"text\": \"<b>0.9</b>\", \"align\": \"left\", \"y\": 3, \"x\": -0.45, \"font\": {\"color\": \"#ffffff\", \"size\": 15}, \"showarrow\": false}, {\"xref\": \"x1\", \"xanchor\": \"left\", \"yref\": \"y1\", \"text\": \"27\", \"align\": \"left\", \"y\": 3, \"x\": 0.55, \"font\": {\"color\": \"#000000\", \"size\": 15}, \"showarrow\": false}, {\"xref\": \"x1\", \"xanchor\": \"left\", \"yref\": \"y1\", \"text\": \"46\", \"align\": \"left\", \"y\": 3, \"x\": 1.55, \"font\": {\"color\": \"#000000\", \"size\": 15}, \"showarrow\": false}, {\"xref\": \"x1\", \"xanchor\": \"left\", \"yref\": \"y1\", \"text\": \"63\", \"align\": \"left\", \"y\": 3, \"x\": 2.55, \"font\": {\"color\": \"#000000\", \"size\": 15}, \"showarrow\": false}, {\"xref\": \"x1\", \"xanchor\": \"left\", \"yref\": \"y1\", \"text\": \"89\", \"align\": \"left\", \"y\": 3, \"x\": 3.55, \"font\": {\"color\": \"#000000\", \"size\": 15}, \"showarrow\": false}, {\"xref\": \"x1\", \"xanchor\": \"left\", \"yref\": \"y1\", \"text\": \"132\", \"align\": \"left\", \"y\": 3, \"x\": 4.55, \"font\": {\"color\": \"#000000\", \"size\": 15}, \"showarrow\": false}, {\"xref\": \"x1\", \"xanchor\": \"left\", \"yref\": \"y1\", \"text\": \"186\", \"align\": \"left\", \"y\": 3, \"x\": 5.55, \"font\": {\"color\": \"#000000\", \"size\": 15}, \"showarrow\": false}, {\"xref\": \"x1\", \"xanchor\": \"left\", \"yref\": \"y1\", \"text\": \"<b>0.95</b>\", \"align\": \"left\", \"y\": 4, \"x\": -0.45, \"font\": {\"color\": \"#ffffff\", \"size\": 15}, \"showarrow\": false}, {\"xref\": \"x1\", \"xanchor\": \"left\", \"yref\": \"y1\", \"text\": \"47\", \"align\": \"left\", \"y\": 4, \"x\": 0.55, \"font\": {\"color\": \"#000000\", \"size\": 15}, \"showarrow\": false}, {\"xref\": \"x1\", \"xanchor\": \"left\", \"yref\": \"y1\", \"text\": \"51\", \"align\": \"left\", \"y\": 4, \"x\": 1.55, \"font\": {\"color\": \"#000000\", \"size\": 15}, \"showarrow\": false}, {\"xref\": \"x1\", \"xanchor\": \"left\", \"yref\": \"y1\", \"text\": \"120\", \"align\": \"left\", \"y\": 4, \"x\": 2.55, \"font\": {\"color\": \"#000000\", \"size\": 15}, \"showarrow\": false}, {\"xref\": \"x1\", \"xanchor\": \"left\", \"yref\": \"y1\", \"text\": \"132\", \"align\": \"left\", \"y\": 4, \"x\": 3.55, \"font\": {\"color\": \"#000000\", \"size\": 15}, \"showarrow\": false}, {\"xref\": \"x1\", \"xanchor\": \"left\", \"yref\": \"y1\", \"text\": \"179\", \"align\": \"left\", \"y\": 4, \"x\": 4.55, \"font\": {\"color\": \"#000000\", \"size\": 15}, \"showarrow\": false}, {\"xref\": \"x1\", \"xanchor\": \"left\", \"yref\": \"y1\", \"text\": \"314\", \"align\": \"left\", \"y\": 4, \"x\": 5.55, \"font\": {\"color\": \"#000000\", \"size\": 15}, \"showarrow\": false}, {\"xref\": \"x1\", \"xanchor\": \"left\", \"yref\": \"y1\", \"text\": \"<b>0.975</b>\", \"align\": \"left\", \"y\": 5, \"x\": -0.45, \"font\": {\"color\": \"#ffffff\", \"size\": 15}, \"showarrow\": false}, {\"xref\": \"x1\", \"xanchor\": \"left\", \"yref\": \"y1\", \"text\": \"53\", \"align\": \"left\", \"y\": 5, \"x\": 0.55, \"font\": {\"color\": \"#000000\", \"size\": 15}, \"showarrow\": false}, {\"xref\": \"x1\", \"xanchor\": \"left\", \"yref\": \"y1\", \"text\": \"94\", \"align\": \"left\", \"y\": 5, \"x\": 1.55, \"font\": {\"color\": \"#000000\", \"size\": 15}, \"showarrow\": false}, {\"xref\": \"x1\", \"xanchor\": \"left\", \"yref\": \"y1\", \"text\": \"130\", \"align\": \"left\", \"y\": 5, \"x\": 2.55, \"font\": {\"color\": \"#000000\", \"size\": 15}, \"showarrow\": false}, {\"xref\": \"x1\", \"xanchor\": \"left\", \"yref\": \"y1\", \"text\": \"181\", \"align\": \"left\", \"y\": 5, \"x\": 3.55, \"font\": {\"color\": \"#000000\", \"size\": 15}, \"showarrow\": false}, {\"xref\": \"x1\", \"xanchor\": \"left\", \"yref\": \"y1\", \"text\": \"231\", \"align\": \"left\", \"y\": 5, \"x\": 4.55, \"font\": {\"color\": \"#000000\", \"size\": 15}, \"showarrow\": false}, {\"xref\": \"x1\", \"xanchor\": \"left\", \"yref\": \"y1\", \"text\": \"486\", \"align\": \"left\", \"y\": 5, \"x\": 5.55, \"font\": {\"color\": \"#000000\", \"size\": 15}, \"showarrow\": false}, {\"xref\": \"x1\", \"xanchor\": \"left\", \"yref\": \"y1\", \"text\": \"<b>0.99</b>\", \"align\": \"left\", \"y\": 6, \"x\": -0.45, \"font\": {\"color\": \"#ffffff\", \"size\": 15}, \"showarrow\": false}, {\"xref\": \"x1\", \"xanchor\": \"left\", \"yref\": \"y1\", \"text\": \"88\", \"align\": \"left\", \"y\": 6, \"x\": 0.55, \"font\": {\"color\": \"#000000\", \"size\": 15}, \"showarrow\": false}, {\"xref\": \"x1\", \"xanchor\": \"left\", \"yref\": \"y1\", \"text\": \"104\", \"align\": \"left\", \"y\": 6, \"x\": 1.55, \"font\": {\"color\": \"#000000\", \"size\": 15}, \"showarrow\": false}, {\"xref\": \"x1\", \"xanchor\": \"left\", \"yref\": \"y1\", \"text\": \"256\", \"align\": \"left\", \"y\": 6, \"x\": 2.55, \"font\": {\"color\": \"#000000\", \"size\": 15}, \"showarrow\": false}, {\"xref\": \"x1\", \"xanchor\": \"left\", \"yref\": \"y1\", \"text\": \"254\", \"align\": \"left\", \"y\": 6, \"x\": 3.55, \"font\": {\"color\": \"#000000\", \"size\": 15}, \"showarrow\": false}, {\"xref\": \"x1\", \"xanchor\": \"left\", \"yref\": \"y1\", \"text\": \"378\", \"align\": \"left\", \"y\": 6, \"x\": 4.55, \"font\": {\"color\": \"#000000\", \"size\": 15}, \"showarrow\": false}, {\"xref\": \"x1\", \"xanchor\": \"left\", \"yref\": \"y1\", \"text\": \"526\", \"align\": \"left\", \"y\": 6, \"x\": 5.55, \"font\": {\"color\": \"#000000\", \"size\": 15}, \"showarrow\": false}, {\"xref\": \"x1\", \"xanchor\": \"left\", \"yref\": \"y1\", \"text\": \"<b></b>\", \"align\": \"left\", \"y\": 7, \"x\": -0.45, \"font\": {\"color\": \"#ffffff\", \"size\": 15}, \"showarrow\": false}, {\"xref\": \"x1\", \"xanchor\": \"left\", \"yref\": \"y1\", \"text\": \"\", \"align\": \"left\", \"y\": 7, \"x\": 0.55, \"font\": {\"color\": \"#000000\", \"size\": 15}, \"showarrow\": false}, {\"xref\": \"x1\", \"xanchor\": \"left\", \"yref\": \"y1\", \"text\": \"\", \"align\": \"left\", \"y\": 7, \"x\": 1.55, \"font\": {\"color\": \"#000000\", \"size\": 15}, \"showarrow\": false}, {\"xref\": \"x1\", \"xanchor\": \"left\", \"yref\": \"y1\", \"text\": \"\", \"align\": \"left\", \"y\": 7, \"x\": 2.55, \"font\": {\"color\": \"#000000\", \"size\": 15}, \"showarrow\": false}, {\"xref\": \"x1\", \"xanchor\": \"left\", \"yref\": \"y1\", \"text\": \"\", \"align\": \"left\", \"y\": 7, \"x\": 3.55, \"font\": {\"color\": \"#000000\", \"size\": 15}, \"showarrow\": false}, {\"xref\": \"x1\", \"xanchor\": \"left\", \"yref\": \"y1\", \"text\": \"\", \"align\": \"left\", \"y\": 7, \"x\": 4.55, \"font\": {\"color\": \"#000000\", \"size\": 15}, \"showarrow\": false}, {\"xref\": \"x1\", \"xanchor\": \"left\", \"yref\": \"y1\", \"text\": \"\", \"align\": \"left\", \"y\": 7, \"x\": 5.55, \"font\": {\"color\": \"#000000\", \"size\": 15}, \"showarrow\": false}], \"xaxis\": {\"showticklabels\": false, \"tick0\": -0.5, \"ticks\": \"\", \"gridwidth\": 2, \"dtick\": 1, \"zeroline\": false}, \"height\": 290}, {\"linkText\": \"Export to plot.ly\", \"showLink\": true})});</script>"
      ]
     },
     "metadata": {},
     "output_type": "display_data"
    }
   ],
   "source": [
    "data_matrix = [['Probability', 'N=100','N=200','N=500','N=1000','N=1500','N=2000'],\n",
    "               ['0.8']+list1ua,\n",
    "               ['0.85']+list2ua,\n",
    "               ['0.9']+list3ua,\n",
    "               ['0.95']+list4ua,\n",
    "               ['0.975']+list5ua,\n",
    "               ['0.99']+list6ua,\n",
    "               ['','','','','','','']\n",
    "               ]\n",
    "\n",
    "table = ff.create_table(data_matrix,index=True, index_title='Date')\n",
    "for i in range(len(table.layout.annotations)):\n",
    "    table.layout.annotations[i].font.size = 15\n",
    "iplot(table, filename='simple_table')"
   ]
  },
  {
   "cell_type": "code",
   "execution_count": 11,
   "metadata": {},
   "outputs": [
    {
     "data": {
      "application/vnd.plotly.v1+json": {
       "data": [
        {
         "colorscale": [
          [
           0,
           "#00083e"
          ],
          [
           0.5,
           "#ededee"
          ],
          [
           1,
           "#ffffff"
          ]
         ],
         "hoverinfo": "none",
         "opacity": 0.75,
         "showscale": false,
         "type": "heatmap",
         "z": [
          [
           0,
           0,
           0,
           0,
           0,
           0,
           0
          ],
          [
           0,
           0.5,
           0.5,
           0.5,
           0.5,
           0.5,
           0.5
          ],
          [
           0,
           1,
           1,
           1,
           1,
           1,
           1
          ],
          [
           0,
           0.5,
           0.5,
           0.5,
           0.5,
           0.5,
           0.5
          ],
          [
           0,
           1,
           1,
           1,
           1,
           1,
           1
          ],
          [
           0,
           0.5,
           0.5,
           0.5,
           0.5,
           0.5,
           0.5
          ],
          [
           0,
           1,
           1,
           1,
           1,
           1,
           1
          ],
          [
           0,
           0.5,
           0.5,
           0.5,
           0.5,
           0.5,
           0.5
          ]
         ]
        }
       ],
       "layout": {
        "annotations": [
         {
          "align": "left",
          "font": {
           "color": "#ffffff",
           "size": 15
          },
          "showarrow": false,
          "text": "<b>Probability</b>",
          "x": -0.45,
          "xanchor": "left",
          "xref": "x1",
          "y": 0,
          "yref": "y1"
         },
         {
          "align": "left",
          "font": {
           "color": "#ffffff",
           "size": 15
          },
          "showarrow": false,
          "text": "<b>N=100</b>",
          "x": 0.55,
          "xanchor": "left",
          "xref": "x1",
          "y": 0,
          "yref": "y1"
         },
         {
          "align": "left",
          "font": {
           "color": "#ffffff",
           "size": 15
          },
          "showarrow": false,
          "text": "<b>N=200</b>",
          "x": 1.55,
          "xanchor": "left",
          "xref": "x1",
          "y": 0,
          "yref": "y1"
         },
         {
          "align": "left",
          "font": {
           "color": "#ffffff",
           "size": 15
          },
          "showarrow": false,
          "text": "<b>N=500</b>",
          "x": 2.55,
          "xanchor": "left",
          "xref": "x1",
          "y": 0,
          "yref": "y1"
         },
         {
          "align": "left",
          "font": {
           "color": "#ffffff",
           "size": 15
          },
          "showarrow": false,
          "text": "<b>N=1000</b>",
          "x": 3.55,
          "xanchor": "left",
          "xref": "x1",
          "y": 0,
          "yref": "y1"
         },
         {
          "align": "left",
          "font": {
           "color": "#ffffff",
           "size": 15
          },
          "showarrow": false,
          "text": "<b>N=1500</b>",
          "x": 4.55,
          "xanchor": "left",
          "xref": "x1",
          "y": 0,
          "yref": "y1"
         },
         {
          "align": "left",
          "font": {
           "color": "#ffffff",
           "size": 15
          },
          "showarrow": false,
          "text": "<b>N=2000</b>",
          "x": 5.55,
          "xanchor": "left",
          "xref": "x1",
          "y": 0,
          "yref": "y1"
         },
         {
          "align": "left",
          "font": {
           "color": "#ffffff",
           "size": 15
          },
          "showarrow": false,
          "text": "<b>0.8</b>",
          "x": -0.45,
          "xanchor": "left",
          "xref": "x1",
          "y": 1,
          "yref": "y1"
         },
         {
          "align": "left",
          "font": {
           "color": "#000000",
           "size": 15
          },
          "showarrow": false,
          "text": "11",
          "x": 0.55,
          "xanchor": "left",
          "xref": "x1",
          "y": 1,
          "yref": "y1"
         },
         {
          "align": "left",
          "font": {
           "color": "#000000",
           "size": 15
          },
          "showarrow": false,
          "text": "13",
          "x": 1.55,
          "xanchor": "left",
          "xref": "x1",
          "y": 1,
          "yref": "y1"
         },
         {
          "align": "left",
          "font": {
           "color": "#000000",
           "size": 15
          },
          "showarrow": false,
          "text": "14",
          "x": 2.55,
          "xanchor": "left",
          "xref": "x1",
          "y": 1,
          "yref": "y1"
         },
         {
          "align": "left",
          "font": {
           "color": "#000000",
           "size": 15
          },
          "showarrow": false,
          "text": "17",
          "x": 3.55,
          "xanchor": "left",
          "xref": "x1",
          "y": 1,
          "yref": "y1"
         },
         {
          "align": "left",
          "font": {
           "color": "#000000",
           "size": 15
          },
          "showarrow": false,
          "text": "15",
          "x": 4.55,
          "xanchor": "left",
          "xref": "x1",
          "y": 1,
          "yref": "y1"
         },
         {
          "align": "left",
          "font": {
           "color": "#000000",
           "size": 15
          },
          "showarrow": false,
          "text": "16",
          "x": 5.55,
          "xanchor": "left",
          "xref": "x1",
          "y": 1,
          "yref": "y1"
         },
         {
          "align": "left",
          "font": {
           "color": "#ffffff",
           "size": 15
          },
          "showarrow": false,
          "text": "<b>0.85</b>",
          "x": -0.45,
          "xanchor": "left",
          "xref": "x1",
          "y": 2,
          "yref": "y1"
         },
         {
          "align": "left",
          "font": {
           "color": "#000000",
           "size": 15
          },
          "showarrow": false,
          "text": "16",
          "x": 0.55,
          "xanchor": "left",
          "xref": "x1",
          "y": 2,
          "yref": "y1"
         },
         {
          "align": "left",
          "font": {
           "color": "#000000",
           "size": 15
          },
          "showarrow": false,
          "text": "24",
          "x": 1.55,
          "xanchor": "left",
          "xref": "x1",
          "y": 2,
          "yref": "y1"
         },
         {
          "align": "left",
          "font": {
           "color": "#000000",
           "size": 15
          },
          "showarrow": false,
          "text": "20",
          "x": 2.55,
          "xanchor": "left",
          "xref": "x1",
          "y": 2,
          "yref": "y1"
         },
         {
          "align": "left",
          "font": {
           "color": "#000000",
           "size": 15
          },
          "showarrow": false,
          "text": "24",
          "x": 3.55,
          "xanchor": "left",
          "xref": "x1",
          "y": 2,
          "yref": "y1"
         },
         {
          "align": "left",
          "font": {
           "color": "#000000",
           "size": 15
          },
          "showarrow": false,
          "text": "25",
          "x": 4.55,
          "xanchor": "left",
          "xref": "x1",
          "y": 2,
          "yref": "y1"
         },
         {
          "align": "left",
          "font": {
           "color": "#000000",
           "size": 15
          },
          "showarrow": false,
          "text": "22",
          "x": 5.55,
          "xanchor": "left",
          "xref": "x1",
          "y": 2,
          "yref": "y1"
         },
         {
          "align": "left",
          "font": {
           "color": "#ffffff",
           "size": 15
          },
          "showarrow": false,
          "text": "<b>0.9</b>",
          "x": -0.45,
          "xanchor": "left",
          "xref": "x1",
          "y": 3,
          "yref": "y1"
         },
         {
          "align": "left",
          "font": {
           "color": "#000000",
           "size": 15
          },
          "showarrow": false,
          "text": "26",
          "x": 0.55,
          "xanchor": "left",
          "xref": "x1",
          "y": 3,
          "yref": "y1"
         },
         {
          "align": "left",
          "font": {
           "color": "#000000",
           "size": 15
          },
          "showarrow": false,
          "text": "48",
          "x": 1.55,
          "xanchor": "left",
          "xref": "x1",
          "y": 3,
          "yref": "y1"
         },
         {
          "align": "left",
          "font": {
           "color": "#000000",
           "size": 15
          },
          "showarrow": false,
          "text": "34",
          "x": 2.55,
          "xanchor": "left",
          "xref": "x1",
          "y": 3,
          "yref": "y1"
         },
         {
          "align": "left",
          "font": {
           "color": "#000000",
           "size": 15
          },
          "showarrow": false,
          "text": "44",
          "x": 3.55,
          "xanchor": "left",
          "xref": "x1",
          "y": 3,
          "yref": "y1"
         },
         {
          "align": "left",
          "font": {
           "color": "#000000",
           "size": 15
          },
          "showarrow": false,
          "text": "43",
          "x": 4.55,
          "xanchor": "left",
          "xref": "x1",
          "y": 3,
          "yref": "y1"
         },
         {
          "align": "left",
          "font": {
           "color": "#000000",
           "size": 15
          },
          "showarrow": false,
          "text": "44",
          "x": 5.55,
          "xanchor": "left",
          "xref": "x1",
          "y": 3,
          "yref": "y1"
         },
         {
          "align": "left",
          "font": {
           "color": "#ffffff",
           "size": 15
          },
          "showarrow": false,
          "text": "<b>0.95</b>",
          "x": -0.45,
          "xanchor": "left",
          "xref": "x1",
          "y": 4,
          "yref": "y1"
         },
         {
          "align": "left",
          "font": {
           "color": "#000000",
           "size": 15
          },
          "showarrow": false,
          "text": "73",
          "x": 0.55,
          "xanchor": "left",
          "xref": "x1",
          "y": 4,
          "yref": "y1"
         },
         {
          "align": "left",
          "font": {
           "color": "#000000",
           "size": 15
          },
          "showarrow": false,
          "text": "153",
          "x": 1.55,
          "xanchor": "left",
          "xref": "x1",
          "y": 4,
          "yref": "y1"
         },
         {
          "align": "left",
          "font": {
           "color": "#000000",
           "size": 15
          },
          "showarrow": false,
          "text": "132",
          "x": 2.55,
          "xanchor": "left",
          "xref": "x1",
          "y": 4,
          "yref": "y1"
         },
         {
          "align": "left",
          "font": {
           "color": "#000000",
           "size": 15
          },
          "showarrow": false,
          "text": "138",
          "x": 3.55,
          "xanchor": "left",
          "xref": "x1",
          "y": 4,
          "yref": "y1"
         },
         {
          "align": "left",
          "font": {
           "color": "#000000",
           "size": 15
          },
          "showarrow": false,
          "text": "129",
          "x": 4.55,
          "xanchor": "left",
          "xref": "x1",
          "y": 4,
          "yref": "y1"
         },
         {
          "align": "left",
          "font": {
           "color": "#000000",
           "size": 15
          },
          "showarrow": false,
          "text": "123",
          "x": 5.55,
          "xanchor": "left",
          "xref": "x1",
          "y": 4,
          "yref": "y1"
         },
         {
          "align": "left",
          "font": {
           "color": "#ffffff",
           "size": 15
          },
          "showarrow": false,
          "text": "<b>0.975</b>",
          "x": -0.45,
          "xanchor": "left",
          "xref": "x1",
          "y": 5,
          "yref": "y1"
         },
         {
          "align": "left",
          "font": {
           "color": "#000000",
           "size": 15
          },
          "showarrow": false,
          "text": "85",
          "x": 0.55,
          "xanchor": "left",
          "xref": "x1",
          "y": 5,
          "yref": "y1"
         },
         {
          "align": "left",
          "font": {
           "color": "#000000",
           "size": 15
          },
          "showarrow": false,
          "text": "181",
          "x": 1.55,
          "xanchor": "left",
          "xref": "x1",
          "y": 5,
          "yref": "y1"
         },
         {
          "align": "left",
          "font": {
           "color": "#000000",
           "size": 15
          },
          "showarrow": false,
          "text": "167",
          "x": 2.55,
          "xanchor": "left",
          "xref": "x1",
          "y": 5,
          "yref": "y1"
         },
         {
          "align": "left",
          "font": {
           "color": "#000000",
           "size": 15
          },
          "showarrow": false,
          "text": "312",
          "x": 3.55,
          "xanchor": "left",
          "xref": "x1",
          "y": 5,
          "yref": "y1"
         },
         {
          "align": "left",
          "font": {
           "color": "#000000",
           "size": 15
          },
          "showarrow": false,
          "text": "478",
          "x": 4.55,
          "xanchor": "left",
          "xref": "x1",
          "y": 5,
          "yref": "y1"
         },
         {
          "align": "left",
          "font": {
           "color": "#000000",
           "size": 15
          },
          "showarrow": false,
          "text": "317",
          "x": 5.55,
          "xanchor": "left",
          "xref": "x1",
          "y": 5,
          "yref": "y1"
         },
         {
          "align": "left",
          "font": {
           "color": "#ffffff",
           "size": 15
          },
          "showarrow": false,
          "text": "<b>0.99</b>",
          "x": -0.45,
          "xanchor": "left",
          "xref": "x1",
          "y": 6,
          "yref": "y1"
         },
         {
          "align": "left",
          "font": {
           "color": "#000000",
           "size": 15
          },
          "showarrow": false,
          "text": "94",
          "x": 0.55,
          "xanchor": "left",
          "xref": "x1",
          "y": 6,
          "yref": "y1"
         },
         {
          "align": "left",
          "font": {
           "color": "#000000",
           "size": 15
          },
          "showarrow": false,
          "text": "186",
          "x": 1.55,
          "xanchor": "left",
          "xref": "x1",
          "y": 6,
          "yref": "y1"
         },
         {
          "align": "left",
          "font": {
           "color": "#000000",
           "size": 15
          },
          "showarrow": false,
          "text": "463",
          "x": 2.55,
          "xanchor": "left",
          "xref": "x1",
          "y": 6,
          "yref": "y1"
         },
         {
          "align": "left",
          "font": {
           "color": "#000000",
           "size": 15
          },
          "showarrow": false,
          "text": "347",
          "x": 3.55,
          "xanchor": "left",
          "xref": "x1",
          "y": 6,
          "yref": "y1"
         },
         {
          "align": "left",
          "font": {
           "color": "#000000",
           "size": 15
          },
          "showarrow": false,
          "text": "1423",
          "x": 4.55,
          "xanchor": "left",
          "xref": "x1",
          "y": 6,
          "yref": "y1"
         },
         {
          "align": "left",
          "font": {
           "color": "#000000",
           "size": 15
          },
          "showarrow": false,
          "text": "616",
          "x": 5.55,
          "xanchor": "left",
          "xref": "x1",
          "y": 6,
          "yref": "y1"
         },
         {
          "align": "left",
          "font": {
           "color": "#ffffff",
           "size": 15
          },
          "showarrow": false,
          "text": "<b></b>",
          "x": -0.45,
          "xanchor": "left",
          "xref": "x1",
          "y": 7,
          "yref": "y1"
         },
         {
          "align": "left",
          "font": {
           "color": "#000000",
           "size": 15
          },
          "showarrow": false,
          "text": "",
          "x": 0.55,
          "xanchor": "left",
          "xref": "x1",
          "y": 7,
          "yref": "y1"
         },
         {
          "align": "left",
          "font": {
           "color": "#000000",
           "size": 15
          },
          "showarrow": false,
          "text": "",
          "x": 1.55,
          "xanchor": "left",
          "xref": "x1",
          "y": 7,
          "yref": "y1"
         },
         {
          "align": "left",
          "font": {
           "color": "#000000",
           "size": 15
          },
          "showarrow": false,
          "text": "",
          "x": 2.55,
          "xanchor": "left",
          "xref": "x1",
          "y": 7,
          "yref": "y1"
         },
         {
          "align": "left",
          "font": {
           "color": "#000000",
           "size": 15
          },
          "showarrow": false,
          "text": "",
          "x": 3.55,
          "xanchor": "left",
          "xref": "x1",
          "y": 7,
          "yref": "y1"
         },
         {
          "align": "left",
          "font": {
           "color": "#000000",
           "size": 15
          },
          "showarrow": false,
          "text": "",
          "x": 4.55,
          "xanchor": "left",
          "xref": "x1",
          "y": 7,
          "yref": "y1"
         },
         {
          "align": "left",
          "font": {
           "color": "#000000",
           "size": 15
          },
          "showarrow": false,
          "text": "",
          "x": 5.55,
          "xanchor": "left",
          "xref": "x1",
          "y": 7,
          "yref": "y1"
         }
        ],
        "height": 290,
        "margin": {
         "b": 0,
         "l": 0,
         "r": 0,
         "t": 0
        },
        "xaxis": {
         "dtick": 1,
         "gridwidth": 2,
         "showticklabels": false,
         "tick0": -0.5,
         "ticks": "",
         "zeroline": false
        },
        "yaxis": {
         "autorange": "reversed",
         "dtick": 1,
         "gridwidth": 2,
         "showticklabels": false,
         "tick0": 0.5,
         "ticks": "",
         "zeroline": false
        }
       }
      },
      "text/html": [
       "<div id=\"2da8206d-6b48-4cd7-8570-f14cd9ec5d01\" style=\"height: 290px; width: 100%;\" class=\"plotly-graph-div\"></div><script type=\"text/javascript\">require([\"plotly\"], function(Plotly) { window.PLOTLYENV=window.PLOTLYENV || {};window.PLOTLYENV.BASE_URL=\"https://plot.ly\";Plotly.newPlot(\"2da8206d-6b48-4cd7-8570-f14cd9ec5d01\", [{\"opacity\": 0.75, \"colorscale\": [[0, \"#00083e\"], [0.5, \"#ededee\"], [1, \"#ffffff\"]], \"showscale\": false, \"hoverinfo\": \"none\", \"z\": [[0, 0, 0, 0, 0, 0, 0], [0, 0.5, 0.5, 0.5, 0.5, 0.5, 0.5], [0, 1, 1, 1, 1, 1, 1], [0, 0.5, 0.5, 0.5, 0.5, 0.5, 0.5], [0, 1, 1, 1, 1, 1, 1], [0, 0.5, 0.5, 0.5, 0.5, 0.5, 0.5], [0, 1, 1, 1, 1, 1, 1], [0, 0.5, 0.5, 0.5, 0.5, 0.5, 0.5]], \"type\": \"heatmap\"}], {\"yaxis\": {\"showticklabels\": false, \"tick0\": 0.5, \"ticks\": \"\", \"gridwidth\": 2, \"dtick\": 1, \"zeroline\": false, \"autorange\": \"reversed\"}, \"margin\": {\"r\": 0, \"b\": 0, \"l\": 0, \"t\": 0}, \"annotations\": [{\"xref\": \"x1\", \"xanchor\": \"left\", \"yref\": \"y1\", \"text\": \"<b>Probability</b>\", \"align\": \"left\", \"y\": 0, \"x\": -0.45, \"font\": {\"color\": \"#ffffff\", \"size\": 15}, \"showarrow\": false}, {\"xref\": \"x1\", \"xanchor\": \"left\", \"yref\": \"y1\", \"text\": \"<b>N=100</b>\", \"align\": \"left\", \"y\": 0, \"x\": 0.55, \"font\": {\"color\": \"#ffffff\", \"size\": 15}, \"showarrow\": false}, {\"xref\": \"x1\", \"xanchor\": \"left\", \"yref\": \"y1\", \"text\": \"<b>N=200</b>\", \"align\": \"left\", \"y\": 0, \"x\": 1.55, \"font\": {\"color\": \"#ffffff\", \"size\": 15}, \"showarrow\": false}, {\"xref\": \"x1\", \"xanchor\": \"left\", \"yref\": \"y1\", \"text\": \"<b>N=500</b>\", \"align\": \"left\", \"y\": 0, \"x\": 2.55, \"font\": {\"color\": \"#ffffff\", \"size\": 15}, \"showarrow\": false}, {\"xref\": \"x1\", \"xanchor\": \"left\", \"yref\": \"y1\", \"text\": \"<b>N=1000</b>\", \"align\": \"left\", \"y\": 0, \"x\": 3.55, \"font\": {\"color\": \"#ffffff\", \"size\": 15}, \"showarrow\": false}, {\"xref\": \"x1\", \"xanchor\": \"left\", \"yref\": \"y1\", \"text\": \"<b>N=1500</b>\", \"align\": \"left\", \"y\": 0, \"x\": 4.55, \"font\": {\"color\": \"#ffffff\", \"size\": 15}, \"showarrow\": false}, {\"xref\": \"x1\", \"xanchor\": \"left\", \"yref\": \"y1\", \"text\": \"<b>N=2000</b>\", \"align\": \"left\", \"y\": 0, \"x\": 5.55, \"font\": {\"color\": \"#ffffff\", \"size\": 15}, \"showarrow\": false}, {\"xref\": \"x1\", \"xanchor\": \"left\", \"yref\": \"y1\", \"text\": \"<b>0.8</b>\", \"align\": \"left\", \"y\": 1, \"x\": -0.45, \"font\": {\"color\": \"#ffffff\", \"size\": 15}, \"showarrow\": false}, {\"xref\": \"x1\", \"xanchor\": \"left\", \"yref\": \"y1\", \"text\": \"11\", \"align\": \"left\", \"y\": 1, \"x\": 0.55, \"font\": {\"color\": \"#000000\", \"size\": 15}, \"showarrow\": false}, {\"xref\": \"x1\", \"xanchor\": \"left\", \"yref\": \"y1\", \"text\": \"13\", \"align\": \"left\", \"y\": 1, \"x\": 1.55, \"font\": {\"color\": \"#000000\", \"size\": 15}, \"showarrow\": false}, {\"xref\": \"x1\", \"xanchor\": \"left\", \"yref\": \"y1\", \"text\": \"14\", \"align\": \"left\", \"y\": 1, \"x\": 2.55, \"font\": {\"color\": \"#000000\", \"size\": 15}, \"showarrow\": false}, {\"xref\": \"x1\", \"xanchor\": \"left\", \"yref\": \"y1\", \"text\": \"17\", \"align\": \"left\", \"y\": 1, \"x\": 3.55, \"font\": {\"color\": \"#000000\", \"size\": 15}, \"showarrow\": false}, {\"xref\": \"x1\", \"xanchor\": \"left\", \"yref\": \"y1\", \"text\": \"15\", \"align\": \"left\", \"y\": 1, \"x\": 4.55, \"font\": {\"color\": \"#000000\", \"size\": 15}, \"showarrow\": false}, {\"xref\": \"x1\", \"xanchor\": \"left\", \"yref\": \"y1\", \"text\": \"16\", \"align\": \"left\", \"y\": 1, \"x\": 5.55, \"font\": {\"color\": \"#000000\", \"size\": 15}, \"showarrow\": false}, {\"xref\": \"x1\", \"xanchor\": \"left\", \"yref\": \"y1\", \"text\": \"<b>0.85</b>\", \"align\": \"left\", \"y\": 2, \"x\": -0.45, \"font\": {\"color\": \"#ffffff\", \"size\": 15}, \"showarrow\": false}, {\"xref\": \"x1\", \"xanchor\": \"left\", \"yref\": \"y1\", \"text\": \"16\", \"align\": \"left\", \"y\": 2, \"x\": 0.55, \"font\": {\"color\": \"#000000\", \"size\": 15}, \"showarrow\": false}, {\"xref\": \"x1\", \"xanchor\": \"left\", \"yref\": \"y1\", \"text\": \"24\", \"align\": \"left\", \"y\": 2, \"x\": 1.55, \"font\": {\"color\": \"#000000\", \"size\": 15}, \"showarrow\": false}, {\"xref\": \"x1\", \"xanchor\": \"left\", \"yref\": \"y1\", \"text\": \"20\", \"align\": \"left\", \"y\": 2, \"x\": 2.55, \"font\": {\"color\": \"#000000\", \"size\": 15}, \"showarrow\": false}, {\"xref\": \"x1\", \"xanchor\": \"left\", \"yref\": \"y1\", \"text\": \"24\", \"align\": \"left\", \"y\": 2, \"x\": 3.55, \"font\": {\"color\": \"#000000\", \"size\": 15}, \"showarrow\": false}, {\"xref\": \"x1\", \"xanchor\": \"left\", \"yref\": \"y1\", \"text\": \"25\", \"align\": \"left\", \"y\": 2, \"x\": 4.55, \"font\": {\"color\": \"#000000\", \"size\": 15}, \"showarrow\": false}, {\"xref\": \"x1\", \"xanchor\": \"left\", \"yref\": \"y1\", \"text\": \"22\", \"align\": \"left\", \"y\": 2, \"x\": 5.55, \"font\": {\"color\": \"#000000\", \"size\": 15}, \"showarrow\": false}, {\"xref\": \"x1\", \"xanchor\": \"left\", \"yref\": \"y1\", \"text\": \"<b>0.9</b>\", \"align\": \"left\", \"y\": 3, \"x\": -0.45, \"font\": {\"color\": \"#ffffff\", \"size\": 15}, \"showarrow\": false}, {\"xref\": \"x1\", \"xanchor\": \"left\", \"yref\": \"y1\", \"text\": \"26\", \"align\": \"left\", \"y\": 3, \"x\": 0.55, \"font\": {\"color\": \"#000000\", \"size\": 15}, \"showarrow\": false}, {\"xref\": \"x1\", \"xanchor\": \"left\", \"yref\": \"y1\", \"text\": \"48\", \"align\": \"left\", \"y\": 3, \"x\": 1.55, \"font\": {\"color\": \"#000000\", \"size\": 15}, \"showarrow\": false}, {\"xref\": \"x1\", \"xanchor\": \"left\", \"yref\": \"y1\", \"text\": \"34\", \"align\": \"left\", \"y\": 3, \"x\": 2.55, \"font\": {\"color\": \"#000000\", \"size\": 15}, \"showarrow\": false}, {\"xref\": \"x1\", \"xanchor\": \"left\", \"yref\": \"y1\", \"text\": \"44\", \"align\": \"left\", \"y\": 3, \"x\": 3.55, \"font\": {\"color\": \"#000000\", \"size\": 15}, \"showarrow\": false}, {\"xref\": \"x1\", \"xanchor\": \"left\", \"yref\": \"y1\", \"text\": \"43\", \"align\": \"left\", \"y\": 3, \"x\": 4.55, \"font\": {\"color\": \"#000000\", \"size\": 15}, \"showarrow\": false}, {\"xref\": \"x1\", \"xanchor\": \"left\", \"yref\": \"y1\", \"text\": \"44\", \"align\": \"left\", \"y\": 3, \"x\": 5.55, \"font\": {\"color\": \"#000000\", \"size\": 15}, \"showarrow\": false}, {\"xref\": \"x1\", \"xanchor\": \"left\", \"yref\": \"y1\", \"text\": \"<b>0.95</b>\", \"align\": \"left\", \"y\": 4, \"x\": -0.45, \"font\": {\"color\": \"#ffffff\", \"size\": 15}, \"showarrow\": false}, {\"xref\": \"x1\", \"xanchor\": \"left\", \"yref\": \"y1\", \"text\": \"73\", \"align\": \"left\", \"y\": 4, \"x\": 0.55, \"font\": {\"color\": \"#000000\", \"size\": 15}, \"showarrow\": false}, {\"xref\": \"x1\", \"xanchor\": \"left\", \"yref\": \"y1\", \"text\": \"153\", \"align\": \"left\", \"y\": 4, \"x\": 1.55, \"font\": {\"color\": \"#000000\", \"size\": 15}, \"showarrow\": false}, {\"xref\": \"x1\", \"xanchor\": \"left\", \"yref\": \"y1\", \"text\": \"132\", \"align\": \"left\", \"y\": 4, \"x\": 2.55, \"font\": {\"color\": \"#000000\", \"size\": 15}, \"showarrow\": false}, {\"xref\": \"x1\", \"xanchor\": \"left\", \"yref\": \"y1\", \"text\": \"138\", \"align\": \"left\", \"y\": 4, \"x\": 3.55, \"font\": {\"color\": \"#000000\", \"size\": 15}, \"showarrow\": false}, {\"xref\": \"x1\", \"xanchor\": \"left\", \"yref\": \"y1\", \"text\": \"129\", \"align\": \"left\", \"y\": 4, \"x\": 4.55, \"font\": {\"color\": \"#000000\", \"size\": 15}, \"showarrow\": false}, {\"xref\": \"x1\", \"xanchor\": \"left\", \"yref\": \"y1\", \"text\": \"123\", \"align\": \"left\", \"y\": 4, \"x\": 5.55, \"font\": {\"color\": \"#000000\", \"size\": 15}, \"showarrow\": false}, {\"xref\": \"x1\", \"xanchor\": \"left\", \"yref\": \"y1\", \"text\": \"<b>0.975</b>\", \"align\": \"left\", \"y\": 5, \"x\": -0.45, \"font\": {\"color\": \"#ffffff\", \"size\": 15}, \"showarrow\": false}, {\"xref\": \"x1\", \"xanchor\": \"left\", \"yref\": \"y1\", \"text\": \"85\", \"align\": \"left\", \"y\": 5, \"x\": 0.55, \"font\": {\"color\": \"#000000\", \"size\": 15}, \"showarrow\": false}, {\"xref\": \"x1\", \"xanchor\": \"left\", \"yref\": \"y1\", \"text\": \"181\", \"align\": \"left\", \"y\": 5, \"x\": 1.55, \"font\": {\"color\": \"#000000\", \"size\": 15}, \"showarrow\": false}, {\"xref\": \"x1\", \"xanchor\": \"left\", \"yref\": \"y1\", \"text\": \"167\", \"align\": \"left\", \"y\": 5, \"x\": 2.55, \"font\": {\"color\": \"#000000\", \"size\": 15}, \"showarrow\": false}, {\"xref\": \"x1\", \"xanchor\": \"left\", \"yref\": \"y1\", \"text\": \"312\", \"align\": \"left\", \"y\": 5, \"x\": 3.55, \"font\": {\"color\": \"#000000\", \"size\": 15}, \"showarrow\": false}, {\"xref\": \"x1\", \"xanchor\": \"left\", \"yref\": \"y1\", \"text\": \"478\", \"align\": \"left\", \"y\": 5, \"x\": 4.55, \"font\": {\"color\": \"#000000\", \"size\": 15}, \"showarrow\": false}, {\"xref\": \"x1\", \"xanchor\": \"left\", \"yref\": \"y1\", \"text\": \"317\", \"align\": \"left\", \"y\": 5, \"x\": 5.55, \"font\": {\"color\": \"#000000\", \"size\": 15}, \"showarrow\": false}, {\"xref\": \"x1\", \"xanchor\": \"left\", \"yref\": \"y1\", \"text\": \"<b>0.99</b>\", \"align\": \"left\", \"y\": 6, \"x\": -0.45, \"font\": {\"color\": \"#ffffff\", \"size\": 15}, \"showarrow\": false}, {\"xref\": \"x1\", \"xanchor\": \"left\", \"yref\": \"y1\", \"text\": \"94\", \"align\": \"left\", \"y\": 6, \"x\": 0.55, \"font\": {\"color\": \"#000000\", \"size\": 15}, \"showarrow\": false}, {\"xref\": \"x1\", \"xanchor\": \"left\", \"yref\": \"y1\", \"text\": \"186\", \"align\": \"left\", \"y\": 6, \"x\": 1.55, \"font\": {\"color\": \"#000000\", \"size\": 15}, \"showarrow\": false}, {\"xref\": \"x1\", \"xanchor\": \"left\", \"yref\": \"y1\", \"text\": \"463\", \"align\": \"left\", \"y\": 6, \"x\": 2.55, \"font\": {\"color\": \"#000000\", \"size\": 15}, \"showarrow\": false}, {\"xref\": \"x1\", \"xanchor\": \"left\", \"yref\": \"y1\", \"text\": \"347\", \"align\": \"left\", \"y\": 6, \"x\": 3.55, \"font\": {\"color\": \"#000000\", \"size\": 15}, \"showarrow\": false}, {\"xref\": \"x1\", \"xanchor\": \"left\", \"yref\": \"y1\", \"text\": \"1423\", \"align\": \"left\", \"y\": 6, \"x\": 4.55, \"font\": {\"color\": \"#000000\", \"size\": 15}, \"showarrow\": false}, {\"xref\": \"x1\", \"xanchor\": \"left\", \"yref\": \"y1\", \"text\": \"616\", \"align\": \"left\", \"y\": 6, \"x\": 5.55, \"font\": {\"color\": \"#000000\", \"size\": 15}, \"showarrow\": false}, {\"xref\": \"x1\", \"xanchor\": \"left\", \"yref\": \"y1\", \"text\": \"<b></b>\", \"align\": \"left\", \"y\": 7, \"x\": -0.45, \"font\": {\"color\": \"#ffffff\", \"size\": 15}, \"showarrow\": false}, {\"xref\": \"x1\", \"xanchor\": \"left\", \"yref\": \"y1\", \"text\": \"\", \"align\": \"left\", \"y\": 7, \"x\": 0.55, \"font\": {\"color\": \"#000000\", \"size\": 15}, \"showarrow\": false}, {\"xref\": \"x1\", \"xanchor\": \"left\", \"yref\": \"y1\", \"text\": \"\", \"align\": \"left\", \"y\": 7, \"x\": 1.55, \"font\": {\"color\": \"#000000\", \"size\": 15}, \"showarrow\": false}, {\"xref\": \"x1\", \"xanchor\": \"left\", \"yref\": \"y1\", \"text\": \"\", \"align\": \"left\", \"y\": 7, \"x\": 2.55, \"font\": {\"color\": \"#000000\", \"size\": 15}, \"showarrow\": false}, {\"xref\": \"x1\", \"xanchor\": \"left\", \"yref\": \"y1\", \"text\": \"\", \"align\": \"left\", \"y\": 7, \"x\": 3.55, \"font\": {\"color\": \"#000000\", \"size\": 15}, \"showarrow\": false}, {\"xref\": \"x1\", \"xanchor\": \"left\", \"yref\": \"y1\", \"text\": \"\", \"align\": \"left\", \"y\": 7, \"x\": 4.55, \"font\": {\"color\": \"#000000\", \"size\": 15}, \"showarrow\": false}, {\"xref\": \"x1\", \"xanchor\": \"left\", \"yref\": \"y1\", \"text\": \"\", \"align\": \"left\", \"y\": 7, \"x\": 5.55, \"font\": {\"color\": \"#000000\", \"size\": 15}, \"showarrow\": false}], \"xaxis\": {\"showticklabels\": false, \"tick0\": -0.5, \"ticks\": \"\", \"gridwidth\": 2, \"dtick\": 1, \"zeroline\": false}, \"height\": 290}, {\"linkText\": \"Export to plot.ly\", \"showLink\": true})});</script>"
      ],
      "text/vnd.plotly.v1+html": [
       "<div id=\"2da8206d-6b48-4cd7-8570-f14cd9ec5d01\" style=\"height: 290px; width: 100%;\" class=\"plotly-graph-div\"></div><script type=\"text/javascript\">require([\"plotly\"], function(Plotly) { window.PLOTLYENV=window.PLOTLYENV || {};window.PLOTLYENV.BASE_URL=\"https://plot.ly\";Plotly.newPlot(\"2da8206d-6b48-4cd7-8570-f14cd9ec5d01\", [{\"opacity\": 0.75, \"colorscale\": [[0, \"#00083e\"], [0.5, \"#ededee\"], [1, \"#ffffff\"]], \"showscale\": false, \"hoverinfo\": \"none\", \"z\": [[0, 0, 0, 0, 0, 0, 0], [0, 0.5, 0.5, 0.5, 0.5, 0.5, 0.5], [0, 1, 1, 1, 1, 1, 1], [0, 0.5, 0.5, 0.5, 0.5, 0.5, 0.5], [0, 1, 1, 1, 1, 1, 1], [0, 0.5, 0.5, 0.5, 0.5, 0.5, 0.5], [0, 1, 1, 1, 1, 1, 1], [0, 0.5, 0.5, 0.5, 0.5, 0.5, 0.5]], \"type\": \"heatmap\"}], {\"yaxis\": {\"showticklabels\": false, \"tick0\": 0.5, \"ticks\": \"\", \"gridwidth\": 2, \"dtick\": 1, \"zeroline\": false, \"autorange\": \"reversed\"}, \"margin\": {\"r\": 0, \"b\": 0, \"l\": 0, \"t\": 0}, \"annotations\": [{\"xref\": \"x1\", \"xanchor\": \"left\", \"yref\": \"y1\", \"text\": \"<b>Probability</b>\", \"align\": \"left\", \"y\": 0, \"x\": -0.45, \"font\": {\"color\": \"#ffffff\", \"size\": 15}, \"showarrow\": false}, {\"xref\": \"x1\", \"xanchor\": \"left\", \"yref\": \"y1\", \"text\": \"<b>N=100</b>\", \"align\": \"left\", \"y\": 0, \"x\": 0.55, \"font\": {\"color\": \"#ffffff\", \"size\": 15}, \"showarrow\": false}, {\"xref\": \"x1\", \"xanchor\": \"left\", \"yref\": \"y1\", \"text\": \"<b>N=200</b>\", \"align\": \"left\", \"y\": 0, \"x\": 1.55, \"font\": {\"color\": \"#ffffff\", \"size\": 15}, \"showarrow\": false}, {\"xref\": \"x1\", \"xanchor\": \"left\", \"yref\": \"y1\", \"text\": \"<b>N=500</b>\", \"align\": \"left\", \"y\": 0, \"x\": 2.55, \"font\": {\"color\": \"#ffffff\", \"size\": 15}, \"showarrow\": false}, {\"xref\": \"x1\", \"xanchor\": \"left\", \"yref\": \"y1\", \"text\": \"<b>N=1000</b>\", \"align\": \"left\", \"y\": 0, \"x\": 3.55, \"font\": {\"color\": \"#ffffff\", \"size\": 15}, \"showarrow\": false}, {\"xref\": \"x1\", \"xanchor\": \"left\", \"yref\": \"y1\", \"text\": \"<b>N=1500</b>\", \"align\": \"left\", \"y\": 0, \"x\": 4.55, \"font\": {\"color\": \"#ffffff\", \"size\": 15}, \"showarrow\": false}, {\"xref\": \"x1\", \"xanchor\": \"left\", \"yref\": \"y1\", \"text\": \"<b>N=2000</b>\", \"align\": \"left\", \"y\": 0, \"x\": 5.55, \"font\": {\"color\": \"#ffffff\", \"size\": 15}, \"showarrow\": false}, {\"xref\": \"x1\", \"xanchor\": \"left\", \"yref\": \"y1\", \"text\": \"<b>0.8</b>\", \"align\": \"left\", \"y\": 1, \"x\": -0.45, \"font\": {\"color\": \"#ffffff\", \"size\": 15}, \"showarrow\": false}, {\"xref\": \"x1\", \"xanchor\": \"left\", \"yref\": \"y1\", \"text\": \"11\", \"align\": \"left\", \"y\": 1, \"x\": 0.55, \"font\": {\"color\": \"#000000\", \"size\": 15}, \"showarrow\": false}, {\"xref\": \"x1\", \"xanchor\": \"left\", \"yref\": \"y1\", \"text\": \"13\", \"align\": \"left\", \"y\": 1, \"x\": 1.55, \"font\": {\"color\": \"#000000\", \"size\": 15}, \"showarrow\": false}, {\"xref\": \"x1\", \"xanchor\": \"left\", \"yref\": \"y1\", \"text\": \"14\", \"align\": \"left\", \"y\": 1, \"x\": 2.55, \"font\": {\"color\": \"#000000\", \"size\": 15}, \"showarrow\": false}, {\"xref\": \"x1\", \"xanchor\": \"left\", \"yref\": \"y1\", \"text\": \"17\", \"align\": \"left\", \"y\": 1, \"x\": 3.55, \"font\": {\"color\": \"#000000\", \"size\": 15}, \"showarrow\": false}, {\"xref\": \"x1\", \"xanchor\": \"left\", \"yref\": \"y1\", \"text\": \"15\", \"align\": \"left\", \"y\": 1, \"x\": 4.55, \"font\": {\"color\": \"#000000\", \"size\": 15}, \"showarrow\": false}, {\"xref\": \"x1\", \"xanchor\": \"left\", \"yref\": \"y1\", \"text\": \"16\", \"align\": \"left\", \"y\": 1, \"x\": 5.55, \"font\": {\"color\": \"#000000\", \"size\": 15}, \"showarrow\": false}, {\"xref\": \"x1\", \"xanchor\": \"left\", \"yref\": \"y1\", \"text\": \"<b>0.85</b>\", \"align\": \"left\", \"y\": 2, \"x\": -0.45, \"font\": {\"color\": \"#ffffff\", \"size\": 15}, \"showarrow\": false}, {\"xref\": \"x1\", \"xanchor\": \"left\", \"yref\": \"y1\", \"text\": \"16\", \"align\": \"left\", \"y\": 2, \"x\": 0.55, \"font\": {\"color\": \"#000000\", \"size\": 15}, \"showarrow\": false}, {\"xref\": \"x1\", \"xanchor\": \"left\", \"yref\": \"y1\", \"text\": \"24\", \"align\": \"left\", \"y\": 2, \"x\": 1.55, \"font\": {\"color\": \"#000000\", \"size\": 15}, \"showarrow\": false}, {\"xref\": \"x1\", \"xanchor\": \"left\", \"yref\": \"y1\", \"text\": \"20\", \"align\": \"left\", \"y\": 2, \"x\": 2.55, \"font\": {\"color\": \"#000000\", \"size\": 15}, \"showarrow\": false}, {\"xref\": \"x1\", \"xanchor\": \"left\", \"yref\": \"y1\", \"text\": \"24\", \"align\": \"left\", \"y\": 2, \"x\": 3.55, \"font\": {\"color\": \"#000000\", \"size\": 15}, \"showarrow\": false}, {\"xref\": \"x1\", \"xanchor\": \"left\", \"yref\": \"y1\", \"text\": \"25\", \"align\": \"left\", \"y\": 2, \"x\": 4.55, \"font\": {\"color\": \"#000000\", \"size\": 15}, \"showarrow\": false}, {\"xref\": \"x1\", \"xanchor\": \"left\", \"yref\": \"y1\", \"text\": \"22\", \"align\": \"left\", \"y\": 2, \"x\": 5.55, \"font\": {\"color\": \"#000000\", \"size\": 15}, \"showarrow\": false}, {\"xref\": \"x1\", \"xanchor\": \"left\", \"yref\": \"y1\", \"text\": \"<b>0.9</b>\", \"align\": \"left\", \"y\": 3, \"x\": -0.45, \"font\": {\"color\": \"#ffffff\", \"size\": 15}, \"showarrow\": false}, {\"xref\": \"x1\", \"xanchor\": \"left\", \"yref\": \"y1\", \"text\": \"26\", \"align\": \"left\", \"y\": 3, \"x\": 0.55, \"font\": {\"color\": \"#000000\", \"size\": 15}, \"showarrow\": false}, {\"xref\": \"x1\", \"xanchor\": \"left\", \"yref\": \"y1\", \"text\": \"48\", \"align\": \"left\", \"y\": 3, \"x\": 1.55, \"font\": {\"color\": \"#000000\", \"size\": 15}, \"showarrow\": false}, {\"xref\": \"x1\", \"xanchor\": \"left\", \"yref\": \"y1\", \"text\": \"34\", \"align\": \"left\", \"y\": 3, \"x\": 2.55, \"font\": {\"color\": \"#000000\", \"size\": 15}, \"showarrow\": false}, {\"xref\": \"x1\", \"xanchor\": \"left\", \"yref\": \"y1\", \"text\": \"44\", \"align\": \"left\", \"y\": 3, \"x\": 3.55, \"font\": {\"color\": \"#000000\", \"size\": 15}, \"showarrow\": false}, {\"xref\": \"x1\", \"xanchor\": \"left\", \"yref\": \"y1\", \"text\": \"43\", \"align\": \"left\", \"y\": 3, \"x\": 4.55, \"font\": {\"color\": \"#000000\", \"size\": 15}, \"showarrow\": false}, {\"xref\": \"x1\", \"xanchor\": \"left\", \"yref\": \"y1\", \"text\": \"44\", \"align\": \"left\", \"y\": 3, \"x\": 5.55, \"font\": {\"color\": \"#000000\", \"size\": 15}, \"showarrow\": false}, {\"xref\": \"x1\", \"xanchor\": \"left\", \"yref\": \"y1\", \"text\": \"<b>0.95</b>\", \"align\": \"left\", \"y\": 4, \"x\": -0.45, \"font\": {\"color\": \"#ffffff\", \"size\": 15}, \"showarrow\": false}, {\"xref\": \"x1\", \"xanchor\": \"left\", \"yref\": \"y1\", \"text\": \"73\", \"align\": \"left\", \"y\": 4, \"x\": 0.55, \"font\": {\"color\": \"#000000\", \"size\": 15}, \"showarrow\": false}, {\"xref\": \"x1\", \"xanchor\": \"left\", \"yref\": \"y1\", \"text\": \"153\", \"align\": \"left\", \"y\": 4, \"x\": 1.55, \"font\": {\"color\": \"#000000\", \"size\": 15}, \"showarrow\": false}, {\"xref\": \"x1\", \"xanchor\": \"left\", \"yref\": \"y1\", \"text\": \"132\", \"align\": \"left\", \"y\": 4, \"x\": 2.55, \"font\": {\"color\": \"#000000\", \"size\": 15}, \"showarrow\": false}, {\"xref\": \"x1\", \"xanchor\": \"left\", \"yref\": \"y1\", \"text\": \"138\", \"align\": \"left\", \"y\": 4, \"x\": 3.55, \"font\": {\"color\": \"#000000\", \"size\": 15}, \"showarrow\": false}, {\"xref\": \"x1\", \"xanchor\": \"left\", \"yref\": \"y1\", \"text\": \"129\", \"align\": \"left\", \"y\": 4, \"x\": 4.55, \"font\": {\"color\": \"#000000\", \"size\": 15}, \"showarrow\": false}, {\"xref\": \"x1\", \"xanchor\": \"left\", \"yref\": \"y1\", \"text\": \"123\", \"align\": \"left\", \"y\": 4, \"x\": 5.55, \"font\": {\"color\": \"#000000\", \"size\": 15}, \"showarrow\": false}, {\"xref\": \"x1\", \"xanchor\": \"left\", \"yref\": \"y1\", \"text\": \"<b>0.975</b>\", \"align\": \"left\", \"y\": 5, \"x\": -0.45, \"font\": {\"color\": \"#ffffff\", \"size\": 15}, \"showarrow\": false}, {\"xref\": \"x1\", \"xanchor\": \"left\", \"yref\": \"y1\", \"text\": \"85\", \"align\": \"left\", \"y\": 5, \"x\": 0.55, \"font\": {\"color\": \"#000000\", \"size\": 15}, \"showarrow\": false}, {\"xref\": \"x1\", \"xanchor\": \"left\", \"yref\": \"y1\", \"text\": \"181\", \"align\": \"left\", \"y\": 5, \"x\": 1.55, \"font\": {\"color\": \"#000000\", \"size\": 15}, \"showarrow\": false}, {\"xref\": \"x1\", \"xanchor\": \"left\", \"yref\": \"y1\", \"text\": \"167\", \"align\": \"left\", \"y\": 5, \"x\": 2.55, \"font\": {\"color\": \"#000000\", \"size\": 15}, \"showarrow\": false}, {\"xref\": \"x1\", \"xanchor\": \"left\", \"yref\": \"y1\", \"text\": \"312\", \"align\": \"left\", \"y\": 5, \"x\": 3.55, \"font\": {\"color\": \"#000000\", \"size\": 15}, \"showarrow\": false}, {\"xref\": \"x1\", \"xanchor\": \"left\", \"yref\": \"y1\", \"text\": \"478\", \"align\": \"left\", \"y\": 5, \"x\": 4.55, \"font\": {\"color\": \"#000000\", \"size\": 15}, \"showarrow\": false}, {\"xref\": \"x1\", \"xanchor\": \"left\", \"yref\": \"y1\", \"text\": \"317\", \"align\": \"left\", \"y\": 5, \"x\": 5.55, \"font\": {\"color\": \"#000000\", \"size\": 15}, \"showarrow\": false}, {\"xref\": \"x1\", \"xanchor\": \"left\", \"yref\": \"y1\", \"text\": \"<b>0.99</b>\", \"align\": \"left\", \"y\": 6, \"x\": -0.45, \"font\": {\"color\": \"#ffffff\", \"size\": 15}, \"showarrow\": false}, {\"xref\": \"x1\", \"xanchor\": \"left\", \"yref\": \"y1\", \"text\": \"94\", \"align\": \"left\", \"y\": 6, \"x\": 0.55, \"font\": {\"color\": \"#000000\", \"size\": 15}, \"showarrow\": false}, {\"xref\": \"x1\", \"xanchor\": \"left\", \"yref\": \"y1\", \"text\": \"186\", \"align\": \"left\", \"y\": 6, \"x\": 1.55, \"font\": {\"color\": \"#000000\", \"size\": 15}, \"showarrow\": false}, {\"xref\": \"x1\", \"xanchor\": \"left\", \"yref\": \"y1\", \"text\": \"463\", \"align\": \"left\", \"y\": 6, \"x\": 2.55, \"font\": {\"color\": \"#000000\", \"size\": 15}, \"showarrow\": false}, {\"xref\": \"x1\", \"xanchor\": \"left\", \"yref\": \"y1\", \"text\": \"347\", \"align\": \"left\", \"y\": 6, \"x\": 3.55, \"font\": {\"color\": \"#000000\", \"size\": 15}, \"showarrow\": false}, {\"xref\": \"x1\", \"xanchor\": \"left\", \"yref\": \"y1\", \"text\": \"1423\", \"align\": \"left\", \"y\": 6, \"x\": 4.55, \"font\": {\"color\": \"#000000\", \"size\": 15}, \"showarrow\": false}, {\"xref\": \"x1\", \"xanchor\": \"left\", \"yref\": \"y1\", \"text\": \"616\", \"align\": \"left\", \"y\": 6, \"x\": 5.55, \"font\": {\"color\": \"#000000\", \"size\": 15}, \"showarrow\": false}, {\"xref\": \"x1\", \"xanchor\": \"left\", \"yref\": \"y1\", \"text\": \"<b></b>\", \"align\": \"left\", \"y\": 7, \"x\": -0.45, \"font\": {\"color\": \"#ffffff\", \"size\": 15}, \"showarrow\": false}, {\"xref\": \"x1\", \"xanchor\": \"left\", \"yref\": \"y1\", \"text\": \"\", \"align\": \"left\", \"y\": 7, \"x\": 0.55, \"font\": {\"color\": \"#000000\", \"size\": 15}, \"showarrow\": false}, {\"xref\": \"x1\", \"xanchor\": \"left\", \"yref\": \"y1\", \"text\": \"\", \"align\": \"left\", \"y\": 7, \"x\": 1.55, \"font\": {\"color\": \"#000000\", \"size\": 15}, \"showarrow\": false}, {\"xref\": \"x1\", \"xanchor\": \"left\", \"yref\": \"y1\", \"text\": \"\", \"align\": \"left\", \"y\": 7, \"x\": 2.55, \"font\": {\"color\": \"#000000\", \"size\": 15}, \"showarrow\": false}, {\"xref\": \"x1\", \"xanchor\": \"left\", \"yref\": \"y1\", \"text\": \"\", \"align\": \"left\", \"y\": 7, \"x\": 3.55, \"font\": {\"color\": \"#000000\", \"size\": 15}, \"showarrow\": false}, {\"xref\": \"x1\", \"xanchor\": \"left\", \"yref\": \"y1\", \"text\": \"\", \"align\": \"left\", \"y\": 7, \"x\": 4.55, \"font\": {\"color\": \"#000000\", \"size\": 15}, \"showarrow\": false}, {\"xref\": \"x1\", \"xanchor\": \"left\", \"yref\": \"y1\", \"text\": \"\", \"align\": \"left\", \"y\": 7, \"x\": 5.55, \"font\": {\"color\": \"#000000\", \"size\": 15}, \"showarrow\": false}], \"xaxis\": {\"showticklabels\": false, \"tick0\": -0.5, \"ticks\": \"\", \"gridwidth\": 2, \"dtick\": 1, \"zeroline\": false}, \"height\": 290}, {\"linkText\": \"Export to plot.ly\", \"showLink\": true})});</script>"
      ]
     },
     "metadata": {},
     "output_type": "display_data"
    }
   ],
   "source": [
    "data_matrix = [['Probability', 'N=100','N=200','N=500','N=1000','N=1500','N=2000'],\n",
    "               ['0.8']+list1ba,\n",
    "               ['0.85']+list2ba,\n",
    "               ['0.9']+list3ba,\n",
    "               ['0.95']+list4ba,\n",
    "               ['0.975']+list5ba,\n",
    "               ['0.99']+list6ba,\n",
    "               ['','','','','','','']\n",
    "               ]\n",
    "\n",
    "table = ff.create_table(data_matrix,index=True, index_title='Date')\n",
    "for i in range(len(table.layout.annotations)):\n",
    "    table.layout.annotations[i].font.size = 15\n",
    "iplot(table, filename='simple_table')"
   ]
  },
  {
   "cell_type": "code",
   "execution_count": 12,
   "metadata": {},
   "outputs": [
    {
     "data": {
      "application/vnd.plotly.v1+json": {
       "data": [
        {
         "colorscale": [
          [
           0,
           "#00083e"
          ],
          [
           0.5,
           "#ededee"
          ],
          [
           1,
           "#ffffff"
          ]
         ],
         "hoverinfo": "none",
         "opacity": 0.75,
         "showscale": false,
         "type": "heatmap",
         "z": [
          [
           0,
           0,
           0,
           0,
           0,
           0,
           0
          ],
          [
           0,
           0.5,
           0.5,
           0.5,
           0.5,
           0.5,
           0.5
          ],
          [
           0,
           1,
           1,
           1,
           1,
           1,
           1
          ],
          [
           0,
           0.5,
           0.5,
           0.5,
           0.5,
           0.5,
           0.5
          ],
          [
           0,
           1,
           1,
           1,
           1,
           1,
           1
          ],
          [
           0,
           0.5,
           0.5,
           0.5,
           0.5,
           0.5,
           0.5
          ],
          [
           0,
           1,
           1,
           1,
           1,
           1,
           1
          ],
          [
           0,
           0.5,
           0.5,
           0.5,
           0.5,
           0.5,
           0.5
          ]
         ]
        }
       ],
       "layout": {
        "annotations": [
         {
          "align": "left",
          "font": {
           "color": "#ffffff",
           "size": 15
          },
          "showarrow": false,
          "text": "<b>Probability</b>",
          "x": -0.45,
          "xanchor": "left",
          "xref": "x1",
          "y": 0,
          "yref": "y1"
         },
         {
          "align": "left",
          "font": {
           "color": "#ffffff",
           "size": 15
          },
          "showarrow": false,
          "text": "<b>N=100</b>",
          "x": 0.55,
          "xanchor": "left",
          "xref": "x1",
          "y": 0,
          "yref": "y1"
         },
         {
          "align": "left",
          "font": {
           "color": "#ffffff",
           "size": 15
          },
          "showarrow": false,
          "text": "<b>N=200</b>",
          "x": 1.55,
          "xanchor": "left",
          "xref": "x1",
          "y": 0,
          "yref": "y1"
         },
         {
          "align": "left",
          "font": {
           "color": "#ffffff",
           "size": 15
          },
          "showarrow": false,
          "text": "<b>N=500</b>",
          "x": 2.55,
          "xanchor": "left",
          "xref": "x1",
          "y": 0,
          "yref": "y1"
         },
         {
          "align": "left",
          "font": {
           "color": "#ffffff",
           "size": 15
          },
          "showarrow": false,
          "text": "<b>N=1000</b>",
          "x": 3.55,
          "xanchor": "left",
          "xref": "x1",
          "y": 0,
          "yref": "y1"
         },
         {
          "align": "left",
          "font": {
           "color": "#ffffff",
           "size": 15
          },
          "showarrow": false,
          "text": "<b>N=1500</b>",
          "x": 4.55,
          "xanchor": "left",
          "xref": "x1",
          "y": 0,
          "yref": "y1"
         },
         {
          "align": "left",
          "font": {
           "color": "#ffffff",
           "size": 15
          },
          "showarrow": false,
          "text": "<b>N=2000</b>",
          "x": 5.55,
          "xanchor": "left",
          "xref": "x1",
          "y": 0,
          "yref": "y1"
         },
         {
          "align": "left",
          "font": {
           "color": "#ffffff",
           "size": 15
          },
          "showarrow": false,
          "text": "<b>0.8</b>",
          "x": -0.45,
          "xanchor": "left",
          "xref": "x1",
          "y": 1,
          "yref": "y1"
         },
         {
          "align": "left",
          "font": {
           "color": "#000000",
           "size": 15
          },
          "showarrow": false,
          "text": "33",
          "x": 0.55,
          "xanchor": "left",
          "xref": "x1",
          "y": 1,
          "yref": "y1"
         },
         {
          "align": "left",
          "font": {
           "color": "#000000",
           "size": 15
          },
          "showarrow": false,
          "text": "66",
          "x": 1.55,
          "xanchor": "left",
          "xref": "x1",
          "y": 1,
          "yref": "y1"
         },
         {
          "align": "left",
          "font": {
           "color": "#000000",
           "size": 15
          },
          "showarrow": false,
          "text": "177",
          "x": 2.55,
          "xanchor": "left",
          "xref": "x1",
          "y": 1,
          "yref": "y1"
         },
         {
          "align": "left",
          "font": {
           "color": "#000000",
           "size": 15
          },
          "showarrow": false,
          "text": "402",
          "x": 3.55,
          "xanchor": "left",
          "xref": "x1",
          "y": 1,
          "yref": "y1"
         },
         {
          "align": "left",
          "font": {
           "color": "#000000",
           "size": 15
          },
          "showarrow": false,
          "text": "633",
          "x": 4.55,
          "xanchor": "left",
          "xref": "x1",
          "y": 1,
          "yref": "y1"
         },
         {
          "align": "left",
          "font": {
           "color": "#000000",
           "size": 15
          },
          "showarrow": false,
          "text": "864",
          "x": 5.55,
          "xanchor": "left",
          "xref": "x1",
          "y": 1,
          "yref": "y1"
         },
         {
          "align": "left",
          "font": {
           "color": "#ffffff",
           "size": 15
          },
          "showarrow": false,
          "text": "<b>0.85</b>",
          "x": -0.45,
          "xanchor": "left",
          "xref": "x1",
          "y": 2,
          "yref": "y1"
         },
         {
          "align": "left",
          "font": {
           "color": "#000000",
           "size": 15
          },
          "showarrow": false,
          "text": "34",
          "x": 0.55,
          "xanchor": "left",
          "xref": "x1",
          "y": 2,
          "yref": "y1"
         },
         {
          "align": "left",
          "font": {
           "color": "#000000",
           "size": 15
          },
          "showarrow": false,
          "text": "66",
          "x": 1.55,
          "xanchor": "left",
          "xref": "x1",
          "y": 2,
          "yref": "y1"
         },
         {
          "align": "left",
          "font": {
           "color": "#000000",
           "size": 15
          },
          "showarrow": false,
          "text": "180",
          "x": 2.55,
          "xanchor": "left",
          "xref": "x1",
          "y": 2,
          "yref": "y1"
         },
         {
          "align": "left",
          "font": {
           "color": "#000000",
           "size": 15
          },
          "showarrow": false,
          "text": "408",
          "x": 3.55,
          "xanchor": "left",
          "xref": "x1",
          "y": 2,
          "yref": "y1"
         },
         {
          "align": "left",
          "font": {
           "color": "#000000",
           "size": 15
          },
          "showarrow": false,
          "text": "639",
          "x": 4.55,
          "xanchor": "left",
          "xref": "x1",
          "y": 2,
          "yref": "y1"
         },
         {
          "align": "left",
          "font": {
           "color": "#000000",
           "size": 15
          },
          "showarrow": false,
          "text": "873",
          "x": 5.55,
          "xanchor": "left",
          "xref": "x1",
          "y": 2,
          "yref": "y1"
         },
         {
          "align": "left",
          "font": {
           "color": "#ffffff",
           "size": 15
          },
          "showarrow": false,
          "text": "<b>0.9</b>",
          "x": -0.45,
          "xanchor": "left",
          "xref": "x1",
          "y": 3,
          "yref": "y1"
         },
         {
          "align": "left",
          "font": {
           "color": "#000000",
           "size": 15
          },
          "showarrow": false,
          "text": "35",
          "x": 0.55,
          "xanchor": "left",
          "xref": "x1",
          "y": 3,
          "yref": "y1"
         },
         {
          "align": "left",
          "font": {
           "color": "#000000",
           "size": 15
          },
          "showarrow": false,
          "text": "67",
          "x": 1.55,
          "xanchor": "left",
          "xref": "x1",
          "y": 3,
          "yref": "y1"
         },
         {
          "align": "left",
          "font": {
           "color": "#000000",
           "size": 15
          },
          "showarrow": false,
          "text": "185",
          "x": 2.55,
          "xanchor": "left",
          "xref": "x1",
          "y": 3,
          "yref": "y1"
         },
         {
          "align": "left",
          "font": {
           "color": "#000000",
           "size": 15
          },
          "showarrow": false,
          "text": "413",
          "x": 3.55,
          "xanchor": "left",
          "xref": "x1",
          "y": 3,
          "yref": "y1"
         },
         {
          "align": "left",
          "font": {
           "color": "#000000",
           "size": 15
          },
          "showarrow": false,
          "text": "649",
          "x": 4.55,
          "xanchor": "left",
          "xref": "x1",
          "y": 3,
          "yref": "y1"
         },
         {
          "align": "left",
          "font": {
           "color": "#000000",
           "size": 15
          },
          "showarrow": false,
          "text": "884",
          "x": 5.55,
          "xanchor": "left",
          "xref": "x1",
          "y": 3,
          "yref": "y1"
         },
         {
          "align": "left",
          "font": {
           "color": "#ffffff",
           "size": 15
          },
          "showarrow": false,
          "text": "<b>0.95</b>",
          "x": -0.45,
          "xanchor": "left",
          "xref": "x1",
          "y": 4,
          "yref": "y1"
         },
         {
          "align": "left",
          "font": {
           "color": "#000000",
           "size": 15
          },
          "showarrow": false,
          "text": "65",
          "x": 0.55,
          "xanchor": "left",
          "xref": "x1",
          "y": 4,
          "yref": "y1"
         },
         {
          "align": "left",
          "font": {
           "color": "#000000",
           "size": 15
          },
          "showarrow": false,
          "text": "69",
          "x": 1.55,
          "xanchor": "left",
          "xref": "x1",
          "y": 4,
          "yref": "y1"
         },
         {
          "align": "left",
          "font": {
           "color": "#000000",
           "size": 15
          },
          "showarrow": false,
          "text": "189",
          "x": 2.55,
          "xanchor": "left",
          "xref": "x1",
          "y": 4,
          "yref": "y1"
         },
         {
          "align": "left",
          "font": {
           "color": "#000000",
           "size": 15
          },
          "showarrow": false,
          "text": "421",
          "x": 3.55,
          "xanchor": "left",
          "xref": "x1",
          "y": 4,
          "yref": "y1"
         },
         {
          "align": "left",
          "font": {
           "color": "#000000",
           "size": 15
          },
          "showarrow": false,
          "text": "659",
          "x": 4.55,
          "xanchor": "left",
          "xref": "x1",
          "y": 4,
          "yref": "y1"
         },
         {
          "align": "left",
          "font": {
           "color": "#000000",
           "size": 15
          },
          "showarrow": false,
          "text": "895",
          "x": 5.55,
          "xanchor": "left",
          "xref": "x1",
          "y": 4,
          "yref": "y1"
         },
         {
          "align": "left",
          "font": {
           "color": "#ffffff",
           "size": 15
          },
          "showarrow": false,
          "text": "<b>0.975</b>",
          "x": -0.45,
          "xanchor": "left",
          "xref": "x1",
          "y": 5,
          "yref": "y1"
         },
         {
          "align": "left",
          "font": {
           "color": "#000000",
           "size": 15
          },
          "showarrow": false,
          "text": "67",
          "x": 0.55,
          "xanchor": "left",
          "xref": "x1",
          "y": 5,
          "yref": "y1"
         },
         {
          "align": "left",
          "font": {
           "color": "#000000",
           "size": 15
          },
          "showarrow": false,
          "text": "71",
          "x": 1.55,
          "xanchor": "left",
          "xref": "x1",
          "y": 5,
          "yref": "y1"
         },
         {
          "align": "left",
          "font": {
           "color": "#000000",
           "size": 15
          },
          "showarrow": false,
          "text": "196",
          "x": 2.55,
          "xanchor": "left",
          "xref": "x1",
          "y": 5,
          "yref": "y1"
         },
         {
          "align": "left",
          "font": {
           "color": "#000000",
           "size": 15
          },
          "showarrow": false,
          "text": "428",
          "x": 3.55,
          "xanchor": "left",
          "xref": "x1",
          "y": 5,
          "yref": "y1"
         },
         {
          "align": "left",
          "font": {
           "color": "#000000",
           "size": 15
          },
          "showarrow": false,
          "text": "667",
          "x": 4.55,
          "xanchor": "left",
          "xref": "x1",
          "y": 5,
          "yref": "y1"
         },
         {
          "align": "left",
          "font": {
           "color": "#000000",
           "size": 15
          },
          "showarrow": false,
          "text": "903",
          "x": 5.55,
          "xanchor": "left",
          "xref": "x1",
          "y": 5,
          "yref": "y1"
         },
         {
          "align": "left",
          "font": {
           "color": "#ffffff",
           "size": 15
          },
          "showarrow": false,
          "text": "<b>0.99</b>",
          "x": -0.45,
          "xanchor": "left",
          "xref": "x1",
          "y": 6,
          "yref": "y1"
         },
         {
          "align": "left",
          "font": {
           "color": "#000000",
           "size": 15
          },
          "showarrow": false,
          "text": "68",
          "x": 0.55,
          "xanchor": "left",
          "xref": "x1",
          "y": 6,
          "yref": "y1"
         },
         {
          "align": "left",
          "font": {
           "color": "#000000",
           "size": 15
          },
          "showarrow": false,
          "text": "133",
          "x": 1.55,
          "xanchor": "left",
          "xref": "x1",
          "y": 6,
          "yref": "y1"
         },
         {
          "align": "left",
          "font": {
           "color": "#000000",
           "size": 15
          },
          "showarrow": false,
          "text": "329",
          "x": 2.55,
          "xanchor": "left",
          "xref": "x1",
          "y": 6,
          "yref": "y1"
         },
         {
          "align": "left",
          "font": {
           "color": "#000000",
           "size": 15
          },
          "showarrow": false,
          "text": "433",
          "x": 3.55,
          "xanchor": "left",
          "xref": "x1",
          "y": 6,
          "yref": "y1"
         },
         {
          "align": "left",
          "font": {
           "color": "#000000",
           "size": 15
          },
          "showarrow": false,
          "text": "677",
          "x": 4.55,
          "xanchor": "left",
          "xref": "x1",
          "y": 6,
          "yref": "y1"
         },
         {
          "align": "left",
          "font": {
           "color": "#000000",
           "size": 15
          },
          "showarrow": false,
          "text": "909",
          "x": 5.55,
          "xanchor": "left",
          "xref": "x1",
          "y": 6,
          "yref": "y1"
         },
         {
          "align": "left",
          "font": {
           "color": "#ffffff",
           "size": 15
          },
          "showarrow": false,
          "text": "<b></b>",
          "x": -0.45,
          "xanchor": "left",
          "xref": "x1",
          "y": 7,
          "yref": "y1"
         },
         {
          "align": "left",
          "font": {
           "color": "#000000",
           "size": 15
          },
          "showarrow": false,
          "text": "",
          "x": 0.55,
          "xanchor": "left",
          "xref": "x1",
          "y": 7,
          "yref": "y1"
         },
         {
          "align": "left",
          "font": {
           "color": "#000000",
           "size": 15
          },
          "showarrow": false,
          "text": "",
          "x": 1.55,
          "xanchor": "left",
          "xref": "x1",
          "y": 7,
          "yref": "y1"
         },
         {
          "align": "left",
          "font": {
           "color": "#000000",
           "size": 15
          },
          "showarrow": false,
          "text": "",
          "x": 2.55,
          "xanchor": "left",
          "xref": "x1",
          "y": 7,
          "yref": "y1"
         },
         {
          "align": "left",
          "font": {
           "color": "#000000",
           "size": 15
          },
          "showarrow": false,
          "text": "",
          "x": 3.55,
          "xanchor": "left",
          "xref": "x1",
          "y": 7,
          "yref": "y1"
         },
         {
          "align": "left",
          "font": {
           "color": "#000000",
           "size": 15
          },
          "showarrow": false,
          "text": "",
          "x": 4.55,
          "xanchor": "left",
          "xref": "x1",
          "y": 7,
          "yref": "y1"
         },
         {
          "align": "left",
          "font": {
           "color": "#000000",
           "size": 15
          },
          "showarrow": false,
          "text": "",
          "x": 5.55,
          "xanchor": "left",
          "xref": "x1",
          "y": 7,
          "yref": "y1"
         }
        ],
        "height": 290,
        "margin": {
         "b": 0,
         "l": 0,
         "r": 0,
         "t": 0
        },
        "xaxis": {
         "dtick": 1,
         "gridwidth": 2,
         "showticklabels": false,
         "tick0": -0.5,
         "ticks": "",
         "zeroline": false
        },
        "yaxis": {
         "autorange": "reversed",
         "dtick": 1,
         "gridwidth": 2,
         "showticklabels": false,
         "tick0": 0.5,
         "ticks": "",
         "zeroline": false
        }
       }
      },
      "text/html": [
       "<div id=\"4aa46d7b-5883-410e-af7e-6ae331856144\" style=\"height: 290px; width: 100%;\" class=\"plotly-graph-div\"></div><script type=\"text/javascript\">require([\"plotly\"], function(Plotly) { window.PLOTLYENV=window.PLOTLYENV || {};window.PLOTLYENV.BASE_URL=\"https://plot.ly\";Plotly.newPlot(\"4aa46d7b-5883-410e-af7e-6ae331856144\", [{\"opacity\": 0.75, \"colorscale\": [[0, \"#00083e\"], [0.5, \"#ededee\"], [1, \"#ffffff\"]], \"showscale\": false, \"hoverinfo\": \"none\", \"z\": [[0, 0, 0, 0, 0, 0, 0], [0, 0.5, 0.5, 0.5, 0.5, 0.5, 0.5], [0, 1, 1, 1, 1, 1, 1], [0, 0.5, 0.5, 0.5, 0.5, 0.5, 0.5], [0, 1, 1, 1, 1, 1, 1], [0, 0.5, 0.5, 0.5, 0.5, 0.5, 0.5], [0, 1, 1, 1, 1, 1, 1], [0, 0.5, 0.5, 0.5, 0.5, 0.5, 0.5]], \"type\": \"heatmap\"}], {\"yaxis\": {\"showticklabels\": false, \"tick0\": 0.5, \"ticks\": \"\", \"gridwidth\": 2, \"dtick\": 1, \"zeroline\": false, \"autorange\": \"reversed\"}, \"margin\": {\"r\": 0, \"b\": 0, \"l\": 0, \"t\": 0}, \"annotations\": [{\"xref\": \"x1\", \"xanchor\": \"left\", \"yref\": \"y1\", \"text\": \"<b>Probability</b>\", \"align\": \"left\", \"y\": 0, \"x\": -0.45, \"font\": {\"color\": \"#ffffff\", \"size\": 15}, \"showarrow\": false}, {\"xref\": \"x1\", \"xanchor\": \"left\", \"yref\": \"y1\", \"text\": \"<b>N=100</b>\", \"align\": \"left\", \"y\": 0, \"x\": 0.55, \"font\": {\"color\": \"#ffffff\", \"size\": 15}, \"showarrow\": false}, {\"xref\": \"x1\", \"xanchor\": \"left\", \"yref\": \"y1\", \"text\": \"<b>N=200</b>\", \"align\": \"left\", \"y\": 0, \"x\": 1.55, \"font\": {\"color\": \"#ffffff\", \"size\": 15}, \"showarrow\": false}, {\"xref\": \"x1\", \"xanchor\": \"left\", \"yref\": \"y1\", \"text\": \"<b>N=500</b>\", \"align\": \"left\", \"y\": 0, \"x\": 2.55, \"font\": {\"color\": \"#ffffff\", \"size\": 15}, \"showarrow\": false}, {\"xref\": \"x1\", \"xanchor\": \"left\", \"yref\": \"y1\", \"text\": \"<b>N=1000</b>\", \"align\": \"left\", \"y\": 0, \"x\": 3.55, \"font\": {\"color\": \"#ffffff\", \"size\": 15}, \"showarrow\": false}, {\"xref\": \"x1\", \"xanchor\": \"left\", \"yref\": \"y1\", \"text\": \"<b>N=1500</b>\", \"align\": \"left\", \"y\": 0, \"x\": 4.55, \"font\": {\"color\": \"#ffffff\", \"size\": 15}, \"showarrow\": false}, {\"xref\": \"x1\", \"xanchor\": \"left\", \"yref\": \"y1\", \"text\": \"<b>N=2000</b>\", \"align\": \"left\", \"y\": 0, \"x\": 5.55, \"font\": {\"color\": \"#ffffff\", \"size\": 15}, \"showarrow\": false}, {\"xref\": \"x1\", \"xanchor\": \"left\", \"yref\": \"y1\", \"text\": \"<b>0.8</b>\", \"align\": \"left\", \"y\": 1, \"x\": -0.45, \"font\": {\"color\": \"#ffffff\", \"size\": 15}, \"showarrow\": false}, {\"xref\": \"x1\", \"xanchor\": \"left\", \"yref\": \"y1\", \"text\": \"33\", \"align\": \"left\", \"y\": 1, \"x\": 0.55, \"font\": {\"color\": \"#000000\", \"size\": 15}, \"showarrow\": false}, {\"xref\": \"x1\", \"xanchor\": \"left\", \"yref\": \"y1\", \"text\": \"66\", \"align\": \"left\", \"y\": 1, \"x\": 1.55, \"font\": {\"color\": \"#000000\", \"size\": 15}, \"showarrow\": false}, {\"xref\": \"x1\", \"xanchor\": \"left\", \"yref\": \"y1\", \"text\": \"177\", \"align\": \"left\", \"y\": 1, \"x\": 2.55, \"font\": {\"color\": \"#000000\", \"size\": 15}, \"showarrow\": false}, {\"xref\": \"x1\", \"xanchor\": \"left\", \"yref\": \"y1\", \"text\": \"402\", \"align\": \"left\", \"y\": 1, \"x\": 3.55, \"font\": {\"color\": \"#000000\", \"size\": 15}, \"showarrow\": false}, {\"xref\": \"x1\", \"xanchor\": \"left\", \"yref\": \"y1\", \"text\": \"633\", \"align\": \"left\", \"y\": 1, \"x\": 4.55, \"font\": {\"color\": \"#000000\", \"size\": 15}, \"showarrow\": false}, {\"xref\": \"x1\", \"xanchor\": \"left\", \"yref\": \"y1\", \"text\": \"864\", \"align\": \"left\", \"y\": 1, \"x\": 5.55, \"font\": {\"color\": \"#000000\", \"size\": 15}, \"showarrow\": false}, {\"xref\": \"x1\", \"xanchor\": \"left\", \"yref\": \"y1\", \"text\": \"<b>0.85</b>\", \"align\": \"left\", \"y\": 2, \"x\": -0.45, \"font\": {\"color\": \"#ffffff\", \"size\": 15}, \"showarrow\": false}, {\"xref\": \"x1\", \"xanchor\": \"left\", \"yref\": \"y1\", \"text\": \"34\", \"align\": \"left\", \"y\": 2, \"x\": 0.55, \"font\": {\"color\": \"#000000\", \"size\": 15}, \"showarrow\": false}, {\"xref\": \"x1\", \"xanchor\": \"left\", \"yref\": \"y1\", \"text\": \"66\", \"align\": \"left\", \"y\": 2, \"x\": 1.55, \"font\": {\"color\": \"#000000\", \"size\": 15}, \"showarrow\": false}, {\"xref\": \"x1\", \"xanchor\": \"left\", \"yref\": \"y1\", \"text\": \"180\", \"align\": \"left\", \"y\": 2, \"x\": 2.55, \"font\": {\"color\": \"#000000\", \"size\": 15}, \"showarrow\": false}, {\"xref\": \"x1\", \"xanchor\": \"left\", \"yref\": \"y1\", \"text\": \"408\", \"align\": \"left\", \"y\": 2, \"x\": 3.55, \"font\": {\"color\": \"#000000\", \"size\": 15}, \"showarrow\": false}, {\"xref\": \"x1\", \"xanchor\": \"left\", \"yref\": \"y1\", \"text\": \"639\", \"align\": \"left\", \"y\": 2, \"x\": 4.55, \"font\": {\"color\": \"#000000\", \"size\": 15}, \"showarrow\": false}, {\"xref\": \"x1\", \"xanchor\": \"left\", \"yref\": \"y1\", \"text\": \"873\", \"align\": \"left\", \"y\": 2, \"x\": 5.55, \"font\": {\"color\": \"#000000\", \"size\": 15}, \"showarrow\": false}, {\"xref\": \"x1\", \"xanchor\": \"left\", \"yref\": \"y1\", \"text\": \"<b>0.9</b>\", \"align\": \"left\", \"y\": 3, \"x\": -0.45, \"font\": {\"color\": \"#ffffff\", \"size\": 15}, \"showarrow\": false}, {\"xref\": \"x1\", \"xanchor\": \"left\", \"yref\": \"y1\", \"text\": \"35\", \"align\": \"left\", \"y\": 3, \"x\": 0.55, \"font\": {\"color\": \"#000000\", \"size\": 15}, \"showarrow\": false}, {\"xref\": \"x1\", \"xanchor\": \"left\", \"yref\": \"y1\", \"text\": \"67\", \"align\": \"left\", \"y\": 3, \"x\": 1.55, \"font\": {\"color\": \"#000000\", \"size\": 15}, \"showarrow\": false}, {\"xref\": \"x1\", \"xanchor\": \"left\", \"yref\": \"y1\", \"text\": \"185\", \"align\": \"left\", \"y\": 3, \"x\": 2.55, \"font\": {\"color\": \"#000000\", \"size\": 15}, \"showarrow\": false}, {\"xref\": \"x1\", \"xanchor\": \"left\", \"yref\": \"y1\", \"text\": \"413\", \"align\": \"left\", \"y\": 3, \"x\": 3.55, \"font\": {\"color\": \"#000000\", \"size\": 15}, \"showarrow\": false}, {\"xref\": \"x1\", \"xanchor\": \"left\", \"yref\": \"y1\", \"text\": \"649\", \"align\": \"left\", \"y\": 3, \"x\": 4.55, \"font\": {\"color\": \"#000000\", \"size\": 15}, \"showarrow\": false}, {\"xref\": \"x1\", \"xanchor\": \"left\", \"yref\": \"y1\", \"text\": \"884\", \"align\": \"left\", \"y\": 3, \"x\": 5.55, \"font\": {\"color\": \"#000000\", \"size\": 15}, \"showarrow\": false}, {\"xref\": \"x1\", \"xanchor\": \"left\", \"yref\": \"y1\", \"text\": \"<b>0.95</b>\", \"align\": \"left\", \"y\": 4, \"x\": -0.45, \"font\": {\"color\": \"#ffffff\", \"size\": 15}, \"showarrow\": false}, {\"xref\": \"x1\", \"xanchor\": \"left\", \"yref\": \"y1\", \"text\": \"65\", \"align\": \"left\", \"y\": 4, \"x\": 0.55, \"font\": {\"color\": \"#000000\", \"size\": 15}, \"showarrow\": false}, {\"xref\": \"x1\", \"xanchor\": \"left\", \"yref\": \"y1\", \"text\": \"69\", \"align\": \"left\", \"y\": 4, \"x\": 1.55, \"font\": {\"color\": \"#000000\", \"size\": 15}, \"showarrow\": false}, {\"xref\": \"x1\", \"xanchor\": \"left\", \"yref\": \"y1\", \"text\": \"189\", \"align\": \"left\", \"y\": 4, \"x\": 2.55, \"font\": {\"color\": \"#000000\", \"size\": 15}, \"showarrow\": false}, {\"xref\": \"x1\", \"xanchor\": \"left\", \"yref\": \"y1\", \"text\": \"421\", \"align\": \"left\", \"y\": 4, \"x\": 3.55, \"font\": {\"color\": \"#000000\", \"size\": 15}, \"showarrow\": false}, {\"xref\": \"x1\", \"xanchor\": \"left\", \"yref\": \"y1\", \"text\": \"659\", \"align\": \"left\", \"y\": 4, \"x\": 4.55, \"font\": {\"color\": \"#000000\", \"size\": 15}, \"showarrow\": false}, {\"xref\": \"x1\", \"xanchor\": \"left\", \"yref\": \"y1\", \"text\": \"895\", \"align\": \"left\", \"y\": 4, \"x\": 5.55, \"font\": {\"color\": \"#000000\", \"size\": 15}, \"showarrow\": false}, {\"xref\": \"x1\", \"xanchor\": \"left\", \"yref\": \"y1\", \"text\": \"<b>0.975</b>\", \"align\": \"left\", \"y\": 5, \"x\": -0.45, \"font\": {\"color\": \"#ffffff\", \"size\": 15}, \"showarrow\": false}, {\"xref\": \"x1\", \"xanchor\": \"left\", \"yref\": \"y1\", \"text\": \"67\", \"align\": \"left\", \"y\": 5, \"x\": 0.55, \"font\": {\"color\": \"#000000\", \"size\": 15}, \"showarrow\": false}, {\"xref\": \"x1\", \"xanchor\": \"left\", \"yref\": \"y1\", \"text\": \"71\", \"align\": \"left\", \"y\": 5, \"x\": 1.55, \"font\": {\"color\": \"#000000\", \"size\": 15}, \"showarrow\": false}, {\"xref\": \"x1\", \"xanchor\": \"left\", \"yref\": \"y1\", \"text\": \"196\", \"align\": \"left\", \"y\": 5, \"x\": 2.55, \"font\": {\"color\": \"#000000\", \"size\": 15}, \"showarrow\": false}, {\"xref\": \"x1\", \"xanchor\": \"left\", \"yref\": \"y1\", \"text\": \"428\", \"align\": \"left\", \"y\": 5, \"x\": 3.55, \"font\": {\"color\": \"#000000\", \"size\": 15}, \"showarrow\": false}, {\"xref\": \"x1\", \"xanchor\": \"left\", \"yref\": \"y1\", \"text\": \"667\", \"align\": \"left\", \"y\": 5, \"x\": 4.55, \"font\": {\"color\": \"#000000\", \"size\": 15}, \"showarrow\": false}, {\"xref\": \"x1\", \"xanchor\": \"left\", \"yref\": \"y1\", \"text\": \"903\", \"align\": \"left\", \"y\": 5, \"x\": 5.55, \"font\": {\"color\": \"#000000\", \"size\": 15}, \"showarrow\": false}, {\"xref\": \"x1\", \"xanchor\": \"left\", \"yref\": \"y1\", \"text\": \"<b>0.99</b>\", \"align\": \"left\", \"y\": 6, \"x\": -0.45, \"font\": {\"color\": \"#ffffff\", \"size\": 15}, \"showarrow\": false}, {\"xref\": \"x1\", \"xanchor\": \"left\", \"yref\": \"y1\", \"text\": \"68\", \"align\": \"left\", \"y\": 6, \"x\": 0.55, \"font\": {\"color\": \"#000000\", \"size\": 15}, \"showarrow\": false}, {\"xref\": \"x1\", \"xanchor\": \"left\", \"yref\": \"y1\", \"text\": \"133\", \"align\": \"left\", \"y\": 6, \"x\": 1.55, \"font\": {\"color\": \"#000000\", \"size\": 15}, \"showarrow\": false}, {\"xref\": \"x1\", \"xanchor\": \"left\", \"yref\": \"y1\", \"text\": \"329\", \"align\": \"left\", \"y\": 6, \"x\": 2.55, \"font\": {\"color\": \"#000000\", \"size\": 15}, \"showarrow\": false}, {\"xref\": \"x1\", \"xanchor\": \"left\", \"yref\": \"y1\", \"text\": \"433\", \"align\": \"left\", \"y\": 6, \"x\": 3.55, \"font\": {\"color\": \"#000000\", \"size\": 15}, \"showarrow\": false}, {\"xref\": \"x1\", \"xanchor\": \"left\", \"yref\": \"y1\", \"text\": \"677\", \"align\": \"left\", \"y\": 6, \"x\": 4.55, \"font\": {\"color\": \"#000000\", \"size\": 15}, \"showarrow\": false}, {\"xref\": \"x1\", \"xanchor\": \"left\", \"yref\": \"y1\", \"text\": \"909\", \"align\": \"left\", \"y\": 6, \"x\": 5.55, \"font\": {\"color\": \"#000000\", \"size\": 15}, \"showarrow\": false}, {\"xref\": \"x1\", \"xanchor\": \"left\", \"yref\": \"y1\", \"text\": \"<b></b>\", \"align\": \"left\", \"y\": 7, \"x\": -0.45, \"font\": {\"color\": \"#ffffff\", \"size\": 15}, \"showarrow\": false}, {\"xref\": \"x1\", \"xanchor\": \"left\", \"yref\": \"y1\", \"text\": \"\", \"align\": \"left\", \"y\": 7, \"x\": 0.55, \"font\": {\"color\": \"#000000\", \"size\": 15}, \"showarrow\": false}, {\"xref\": \"x1\", \"xanchor\": \"left\", \"yref\": \"y1\", \"text\": \"\", \"align\": \"left\", \"y\": 7, \"x\": 1.55, \"font\": {\"color\": \"#000000\", \"size\": 15}, \"showarrow\": false}, {\"xref\": \"x1\", \"xanchor\": \"left\", \"yref\": \"y1\", \"text\": \"\", \"align\": \"left\", \"y\": 7, \"x\": 2.55, \"font\": {\"color\": \"#000000\", \"size\": 15}, \"showarrow\": false}, {\"xref\": \"x1\", \"xanchor\": \"left\", \"yref\": \"y1\", \"text\": \"\", \"align\": \"left\", \"y\": 7, \"x\": 3.55, \"font\": {\"color\": \"#000000\", \"size\": 15}, \"showarrow\": false}, {\"xref\": \"x1\", \"xanchor\": \"left\", \"yref\": \"y1\", \"text\": \"\", \"align\": \"left\", \"y\": 7, \"x\": 4.55, \"font\": {\"color\": \"#000000\", \"size\": 15}, \"showarrow\": false}, {\"xref\": \"x1\", \"xanchor\": \"left\", \"yref\": \"y1\", \"text\": \"\", \"align\": \"left\", \"y\": 7, \"x\": 5.55, \"font\": {\"color\": \"#000000\", \"size\": 15}, \"showarrow\": false}], \"xaxis\": {\"showticklabels\": false, \"tick0\": -0.5, \"ticks\": \"\", \"gridwidth\": 2, \"dtick\": 1, \"zeroline\": false}, \"height\": 290}, {\"linkText\": \"Export to plot.ly\", \"showLink\": true})});</script>"
      ],
      "text/vnd.plotly.v1+html": [
       "<div id=\"4aa46d7b-5883-410e-af7e-6ae331856144\" style=\"height: 290px; width: 100%;\" class=\"plotly-graph-div\"></div><script type=\"text/javascript\">require([\"plotly\"], function(Plotly) { window.PLOTLYENV=window.PLOTLYENV || {};window.PLOTLYENV.BASE_URL=\"https://plot.ly\";Plotly.newPlot(\"4aa46d7b-5883-410e-af7e-6ae331856144\", [{\"opacity\": 0.75, \"colorscale\": [[0, \"#00083e\"], [0.5, \"#ededee\"], [1, \"#ffffff\"]], \"showscale\": false, \"hoverinfo\": \"none\", \"z\": [[0, 0, 0, 0, 0, 0, 0], [0, 0.5, 0.5, 0.5, 0.5, 0.5, 0.5], [0, 1, 1, 1, 1, 1, 1], [0, 0.5, 0.5, 0.5, 0.5, 0.5, 0.5], [0, 1, 1, 1, 1, 1, 1], [0, 0.5, 0.5, 0.5, 0.5, 0.5, 0.5], [0, 1, 1, 1, 1, 1, 1], [0, 0.5, 0.5, 0.5, 0.5, 0.5, 0.5]], \"type\": \"heatmap\"}], {\"yaxis\": {\"showticklabels\": false, \"tick0\": 0.5, \"ticks\": \"\", \"gridwidth\": 2, \"dtick\": 1, \"zeroline\": false, \"autorange\": \"reversed\"}, \"margin\": {\"r\": 0, \"b\": 0, \"l\": 0, \"t\": 0}, \"annotations\": [{\"xref\": \"x1\", \"xanchor\": \"left\", \"yref\": \"y1\", \"text\": \"<b>Probability</b>\", \"align\": \"left\", \"y\": 0, \"x\": -0.45, \"font\": {\"color\": \"#ffffff\", \"size\": 15}, \"showarrow\": false}, {\"xref\": \"x1\", \"xanchor\": \"left\", \"yref\": \"y1\", \"text\": \"<b>N=100</b>\", \"align\": \"left\", \"y\": 0, \"x\": 0.55, \"font\": {\"color\": \"#ffffff\", \"size\": 15}, \"showarrow\": false}, {\"xref\": \"x1\", \"xanchor\": \"left\", \"yref\": \"y1\", \"text\": \"<b>N=200</b>\", \"align\": \"left\", \"y\": 0, \"x\": 1.55, \"font\": {\"color\": \"#ffffff\", \"size\": 15}, \"showarrow\": false}, {\"xref\": \"x1\", \"xanchor\": \"left\", \"yref\": \"y1\", \"text\": \"<b>N=500</b>\", \"align\": \"left\", \"y\": 0, \"x\": 2.55, \"font\": {\"color\": \"#ffffff\", \"size\": 15}, \"showarrow\": false}, {\"xref\": \"x1\", \"xanchor\": \"left\", \"yref\": \"y1\", \"text\": \"<b>N=1000</b>\", \"align\": \"left\", \"y\": 0, \"x\": 3.55, \"font\": {\"color\": \"#ffffff\", \"size\": 15}, \"showarrow\": false}, {\"xref\": \"x1\", \"xanchor\": \"left\", \"yref\": \"y1\", \"text\": \"<b>N=1500</b>\", \"align\": \"left\", \"y\": 0, \"x\": 4.55, \"font\": {\"color\": \"#ffffff\", \"size\": 15}, \"showarrow\": false}, {\"xref\": \"x1\", \"xanchor\": \"left\", \"yref\": \"y1\", \"text\": \"<b>N=2000</b>\", \"align\": \"left\", \"y\": 0, \"x\": 5.55, \"font\": {\"color\": \"#ffffff\", \"size\": 15}, \"showarrow\": false}, {\"xref\": \"x1\", \"xanchor\": \"left\", \"yref\": \"y1\", \"text\": \"<b>0.8</b>\", \"align\": \"left\", \"y\": 1, \"x\": -0.45, \"font\": {\"color\": \"#ffffff\", \"size\": 15}, \"showarrow\": false}, {\"xref\": \"x1\", \"xanchor\": \"left\", \"yref\": \"y1\", \"text\": \"33\", \"align\": \"left\", \"y\": 1, \"x\": 0.55, \"font\": {\"color\": \"#000000\", \"size\": 15}, \"showarrow\": false}, {\"xref\": \"x1\", \"xanchor\": \"left\", \"yref\": \"y1\", \"text\": \"66\", \"align\": \"left\", \"y\": 1, \"x\": 1.55, \"font\": {\"color\": \"#000000\", \"size\": 15}, \"showarrow\": false}, {\"xref\": \"x1\", \"xanchor\": \"left\", \"yref\": \"y1\", \"text\": \"177\", \"align\": \"left\", \"y\": 1, \"x\": 2.55, \"font\": {\"color\": \"#000000\", \"size\": 15}, \"showarrow\": false}, {\"xref\": \"x1\", \"xanchor\": \"left\", \"yref\": \"y1\", \"text\": \"402\", \"align\": \"left\", \"y\": 1, \"x\": 3.55, \"font\": {\"color\": \"#000000\", \"size\": 15}, \"showarrow\": false}, {\"xref\": \"x1\", \"xanchor\": \"left\", \"yref\": \"y1\", \"text\": \"633\", \"align\": \"left\", \"y\": 1, \"x\": 4.55, \"font\": {\"color\": \"#000000\", \"size\": 15}, \"showarrow\": false}, {\"xref\": \"x1\", \"xanchor\": \"left\", \"yref\": \"y1\", \"text\": \"864\", \"align\": \"left\", \"y\": 1, \"x\": 5.55, \"font\": {\"color\": \"#000000\", \"size\": 15}, \"showarrow\": false}, {\"xref\": \"x1\", \"xanchor\": \"left\", \"yref\": \"y1\", \"text\": \"<b>0.85</b>\", \"align\": \"left\", \"y\": 2, \"x\": -0.45, \"font\": {\"color\": \"#ffffff\", \"size\": 15}, \"showarrow\": false}, {\"xref\": \"x1\", \"xanchor\": \"left\", \"yref\": \"y1\", \"text\": \"34\", \"align\": \"left\", \"y\": 2, \"x\": 0.55, \"font\": {\"color\": \"#000000\", \"size\": 15}, \"showarrow\": false}, {\"xref\": \"x1\", \"xanchor\": \"left\", \"yref\": \"y1\", \"text\": \"66\", \"align\": \"left\", \"y\": 2, \"x\": 1.55, \"font\": {\"color\": \"#000000\", \"size\": 15}, \"showarrow\": false}, {\"xref\": \"x1\", \"xanchor\": \"left\", \"yref\": \"y1\", \"text\": \"180\", \"align\": \"left\", \"y\": 2, \"x\": 2.55, \"font\": {\"color\": \"#000000\", \"size\": 15}, \"showarrow\": false}, {\"xref\": \"x1\", \"xanchor\": \"left\", \"yref\": \"y1\", \"text\": \"408\", \"align\": \"left\", \"y\": 2, \"x\": 3.55, \"font\": {\"color\": \"#000000\", \"size\": 15}, \"showarrow\": false}, {\"xref\": \"x1\", \"xanchor\": \"left\", \"yref\": \"y1\", \"text\": \"639\", \"align\": \"left\", \"y\": 2, \"x\": 4.55, \"font\": {\"color\": \"#000000\", \"size\": 15}, \"showarrow\": false}, {\"xref\": \"x1\", \"xanchor\": \"left\", \"yref\": \"y1\", \"text\": \"873\", \"align\": \"left\", \"y\": 2, \"x\": 5.55, \"font\": {\"color\": \"#000000\", \"size\": 15}, \"showarrow\": false}, {\"xref\": \"x1\", \"xanchor\": \"left\", \"yref\": \"y1\", \"text\": \"<b>0.9</b>\", \"align\": \"left\", \"y\": 3, \"x\": -0.45, \"font\": {\"color\": \"#ffffff\", \"size\": 15}, \"showarrow\": false}, {\"xref\": \"x1\", \"xanchor\": \"left\", \"yref\": \"y1\", \"text\": \"35\", \"align\": \"left\", \"y\": 3, \"x\": 0.55, \"font\": {\"color\": \"#000000\", \"size\": 15}, \"showarrow\": false}, {\"xref\": \"x1\", \"xanchor\": \"left\", \"yref\": \"y1\", \"text\": \"67\", \"align\": \"left\", \"y\": 3, \"x\": 1.55, \"font\": {\"color\": \"#000000\", \"size\": 15}, \"showarrow\": false}, {\"xref\": \"x1\", \"xanchor\": \"left\", \"yref\": \"y1\", \"text\": \"185\", \"align\": \"left\", \"y\": 3, \"x\": 2.55, \"font\": {\"color\": \"#000000\", \"size\": 15}, \"showarrow\": false}, {\"xref\": \"x1\", \"xanchor\": \"left\", \"yref\": \"y1\", \"text\": \"413\", \"align\": \"left\", \"y\": 3, \"x\": 3.55, \"font\": {\"color\": \"#000000\", \"size\": 15}, \"showarrow\": false}, {\"xref\": \"x1\", \"xanchor\": \"left\", \"yref\": \"y1\", \"text\": \"649\", \"align\": \"left\", \"y\": 3, \"x\": 4.55, \"font\": {\"color\": \"#000000\", \"size\": 15}, \"showarrow\": false}, {\"xref\": \"x1\", \"xanchor\": \"left\", \"yref\": \"y1\", \"text\": \"884\", \"align\": \"left\", \"y\": 3, \"x\": 5.55, \"font\": {\"color\": \"#000000\", \"size\": 15}, \"showarrow\": false}, {\"xref\": \"x1\", \"xanchor\": \"left\", \"yref\": \"y1\", \"text\": \"<b>0.95</b>\", \"align\": \"left\", \"y\": 4, \"x\": -0.45, \"font\": {\"color\": \"#ffffff\", \"size\": 15}, \"showarrow\": false}, {\"xref\": \"x1\", \"xanchor\": \"left\", \"yref\": \"y1\", \"text\": \"65\", \"align\": \"left\", \"y\": 4, \"x\": 0.55, \"font\": {\"color\": \"#000000\", \"size\": 15}, \"showarrow\": false}, {\"xref\": \"x1\", \"xanchor\": \"left\", \"yref\": \"y1\", \"text\": \"69\", \"align\": \"left\", \"y\": 4, \"x\": 1.55, \"font\": {\"color\": \"#000000\", \"size\": 15}, \"showarrow\": false}, {\"xref\": \"x1\", \"xanchor\": \"left\", \"yref\": \"y1\", \"text\": \"189\", \"align\": \"left\", \"y\": 4, \"x\": 2.55, \"font\": {\"color\": \"#000000\", \"size\": 15}, \"showarrow\": false}, {\"xref\": \"x1\", \"xanchor\": \"left\", \"yref\": \"y1\", \"text\": \"421\", \"align\": \"left\", \"y\": 4, \"x\": 3.55, \"font\": {\"color\": \"#000000\", \"size\": 15}, \"showarrow\": false}, {\"xref\": \"x1\", \"xanchor\": \"left\", \"yref\": \"y1\", \"text\": \"659\", \"align\": \"left\", \"y\": 4, \"x\": 4.55, \"font\": {\"color\": \"#000000\", \"size\": 15}, \"showarrow\": false}, {\"xref\": \"x1\", \"xanchor\": \"left\", \"yref\": \"y1\", \"text\": \"895\", \"align\": \"left\", \"y\": 4, \"x\": 5.55, \"font\": {\"color\": \"#000000\", \"size\": 15}, \"showarrow\": false}, {\"xref\": \"x1\", \"xanchor\": \"left\", \"yref\": \"y1\", \"text\": \"<b>0.975</b>\", \"align\": \"left\", \"y\": 5, \"x\": -0.45, \"font\": {\"color\": \"#ffffff\", \"size\": 15}, \"showarrow\": false}, {\"xref\": \"x1\", \"xanchor\": \"left\", \"yref\": \"y1\", \"text\": \"67\", \"align\": \"left\", \"y\": 5, \"x\": 0.55, \"font\": {\"color\": \"#000000\", \"size\": 15}, \"showarrow\": false}, {\"xref\": \"x1\", \"xanchor\": \"left\", \"yref\": \"y1\", \"text\": \"71\", \"align\": \"left\", \"y\": 5, \"x\": 1.55, \"font\": {\"color\": \"#000000\", \"size\": 15}, \"showarrow\": false}, {\"xref\": \"x1\", \"xanchor\": \"left\", \"yref\": \"y1\", \"text\": \"196\", \"align\": \"left\", \"y\": 5, \"x\": 2.55, \"font\": {\"color\": \"#000000\", \"size\": 15}, \"showarrow\": false}, {\"xref\": \"x1\", \"xanchor\": \"left\", \"yref\": \"y1\", \"text\": \"428\", \"align\": \"left\", \"y\": 5, \"x\": 3.55, \"font\": {\"color\": \"#000000\", \"size\": 15}, \"showarrow\": false}, {\"xref\": \"x1\", \"xanchor\": \"left\", \"yref\": \"y1\", \"text\": \"667\", \"align\": \"left\", \"y\": 5, \"x\": 4.55, \"font\": {\"color\": \"#000000\", \"size\": 15}, \"showarrow\": false}, {\"xref\": \"x1\", \"xanchor\": \"left\", \"yref\": \"y1\", \"text\": \"903\", \"align\": \"left\", \"y\": 5, \"x\": 5.55, \"font\": {\"color\": \"#000000\", \"size\": 15}, \"showarrow\": false}, {\"xref\": \"x1\", \"xanchor\": \"left\", \"yref\": \"y1\", \"text\": \"<b>0.99</b>\", \"align\": \"left\", \"y\": 6, \"x\": -0.45, \"font\": {\"color\": \"#ffffff\", \"size\": 15}, \"showarrow\": false}, {\"xref\": \"x1\", \"xanchor\": \"left\", \"yref\": \"y1\", \"text\": \"68\", \"align\": \"left\", \"y\": 6, \"x\": 0.55, \"font\": {\"color\": \"#000000\", \"size\": 15}, \"showarrow\": false}, {\"xref\": \"x1\", \"xanchor\": \"left\", \"yref\": \"y1\", \"text\": \"133\", \"align\": \"left\", \"y\": 6, \"x\": 1.55, \"font\": {\"color\": \"#000000\", \"size\": 15}, \"showarrow\": false}, {\"xref\": \"x1\", \"xanchor\": \"left\", \"yref\": \"y1\", \"text\": \"329\", \"align\": \"left\", \"y\": 6, \"x\": 2.55, \"font\": {\"color\": \"#000000\", \"size\": 15}, \"showarrow\": false}, {\"xref\": \"x1\", \"xanchor\": \"left\", \"yref\": \"y1\", \"text\": \"433\", \"align\": \"left\", \"y\": 6, \"x\": 3.55, \"font\": {\"color\": \"#000000\", \"size\": 15}, \"showarrow\": false}, {\"xref\": \"x1\", \"xanchor\": \"left\", \"yref\": \"y1\", \"text\": \"677\", \"align\": \"left\", \"y\": 6, \"x\": 4.55, \"font\": {\"color\": \"#000000\", \"size\": 15}, \"showarrow\": false}, {\"xref\": \"x1\", \"xanchor\": \"left\", \"yref\": \"y1\", \"text\": \"909\", \"align\": \"left\", \"y\": 6, \"x\": 5.55, \"font\": {\"color\": \"#000000\", \"size\": 15}, \"showarrow\": false}, {\"xref\": \"x1\", \"xanchor\": \"left\", \"yref\": \"y1\", \"text\": \"<b></b>\", \"align\": \"left\", \"y\": 7, \"x\": -0.45, \"font\": {\"color\": \"#ffffff\", \"size\": 15}, \"showarrow\": false}, {\"xref\": \"x1\", \"xanchor\": \"left\", \"yref\": \"y1\", \"text\": \"\", \"align\": \"left\", \"y\": 7, \"x\": 0.55, \"font\": {\"color\": \"#000000\", \"size\": 15}, \"showarrow\": false}, {\"xref\": \"x1\", \"xanchor\": \"left\", \"yref\": \"y1\", \"text\": \"\", \"align\": \"left\", \"y\": 7, \"x\": 1.55, \"font\": {\"color\": \"#000000\", \"size\": 15}, \"showarrow\": false}, {\"xref\": \"x1\", \"xanchor\": \"left\", \"yref\": \"y1\", \"text\": \"\", \"align\": \"left\", \"y\": 7, \"x\": 2.55, \"font\": {\"color\": \"#000000\", \"size\": 15}, \"showarrow\": false}, {\"xref\": \"x1\", \"xanchor\": \"left\", \"yref\": \"y1\", \"text\": \"\", \"align\": \"left\", \"y\": 7, \"x\": 3.55, \"font\": {\"color\": \"#000000\", \"size\": 15}, \"showarrow\": false}, {\"xref\": \"x1\", \"xanchor\": \"left\", \"yref\": \"y1\", \"text\": \"\", \"align\": \"left\", \"y\": 7, \"x\": 4.55, \"font\": {\"color\": \"#000000\", \"size\": 15}, \"showarrow\": false}, {\"xref\": \"x1\", \"xanchor\": \"left\", \"yref\": \"y1\", \"text\": \"\", \"align\": \"left\", \"y\": 7, \"x\": 5.55, \"font\": {\"color\": \"#000000\", \"size\": 15}, \"showarrow\": false}], \"xaxis\": {\"showticklabels\": false, \"tick0\": -0.5, \"ticks\": \"\", \"gridwidth\": 2, \"dtick\": 1, \"zeroline\": false}, \"height\": 290}, {\"linkText\": \"Export to plot.ly\", \"showLink\": true})});</script>"
      ]
     },
     "metadata": {},
     "output_type": "display_data"
    }
   ],
   "source": [
    "data_matrix = [['Probability', 'N=100','N=200','N=500','N=1000','N=1500','N=2000'],\n",
    "               ['0.8']+list1p3r,\n",
    "               ['0.85']+list2p3r,\n",
    "               ['0.9']+list3p3r,\n",
    "               ['0.95']+list4p3r,\n",
    "               ['0.975']+list5p3r,\n",
    "               ['0.99']+list6p3r,\n",
    "               ['','','','','','','']\n",
    "               ]\n",
    "\n",
    "table = ff.create_table(data_matrix,index=True, index_title='Date')\n",
    "for i in range(len(table.layout.annotations)):\n",
    "    table.layout.annotations[i].font.size = 15\n",
    "iplot(table, filename='simple_table')"
   ]
  },
  {
   "cell_type": "code",
   "execution_count": null,
   "metadata": {
    "collapsed": true
   },
   "outputs": [],
   "source": []
  },
  {
   "cell_type": "code",
   "execution_count": 10,
   "metadata": {
    "collapsed": true
   },
   "outputs": [],
   "source": [
    "pr_results = open('Final_pagerank_cs_BA.txt', 'w')\n",
    "for i in [100,200,500,1000,1500,2000]:\n",
    "  print>>pr_results, str(i),resultsPR_ba_cs[str(i)]\n",
    "pr_results.close()\n",
    "pr_results = open('Final_pagerank_cs_BA_TIME.txt', 'w')\n",
    "for i in [100,200,500,1000,1500,2000]:\n",
    "  print>>pr_results, str(i),results_pr_time_ba_cs[str(i)]\n",
    "pr_results.close()\n",
    "pr_results = open('Final_pagerank_cs_BA_size.txt', 'w')\n",
    "for i in [100,200,500,1000,1500,2000]:\n",
    "  print>>pr_results, str(i),size_pr_ba[str(i)]\n",
    "pr_results.close()"
   ]
  },
  {
   "cell_type": "code",
   "execution_count": 11,
   "metadata": {
    "collapsed": true
   },
   "outputs": [],
   "source": [
    "pr_results = open('Final_pagerank_cs_UA.txt', 'w')\n",
    "for i in [100,200,500,1000,1500,2000]:\n",
    "  print>>pr_results, str(i),resultsPR_ua_cs[str(i)]\n",
    "pr_results.close()\n",
    "pr_results = open('Final_pagerank_cs_UA_TIME.txt', 'w')\n",
    "for i in [100,200,500,1000,1500,2000]:\n",
    "  print>>pr_results, str(i),results_pr_time_ua_cs[str(i)]\n",
    "pr_results.close()\n",
    "pr_results = open('Final_pagerank_cs_UA_size.txt', 'w')\n",
    "for i in [100,200,500,1000,1500,2000]:\n",
    "  print>>pr_results, str(i),size_pr_ua[str(i)]\n",
    "pr_results.close()"
   ]
  },
  {
   "cell_type": "code",
   "execution_count": 12,
   "metadata": {
    "collapsed": true
   },
   "outputs": [],
   "source": [
    "pr_results = open('Final_pagerank_cs_P3R.txt', 'w')\n",
    "for i in [100,200,500,1000,1500,2000]:\n",
    "  print>>pr_results, str(i),resultsPR_p3r_cs[str(i)]\n",
    "pr_results.close()\n",
    "pr_results = open('Final_pagerank_cs_P3R_TIME.txt', 'w')\n",
    "for i in [100,200,500,1000,1500,2000]:\n",
    "  print>>pr_results, str(i),results_pr_time_p3r_cs[str(i)]\n",
    "pr_results.close()\n",
    "pr_results = open('Final_pagerank_cs_P3R_size.txt', 'w')\n",
    "for i in [100,200,500,1000,1500,2000]:\n",
    "  print>>pr_results, str(i),size_pr_p3r[str(i)]\n",
    "pr_results.close()"
   ]
  },
  {
   "cell_type": "markdown",
   "metadata": {
    "collapsed": true
   },
   "source": [
    "Importing the results"
   ]
  },
  {
   "cell_type": "code",
   "execution_count": 1,
   "metadata": {},
   "outputs": [
    {
     "name": "stdout",
     "output_type": "stream",
     "text": [
      "[6, 0, 11, 0, 10, 1, 0, 8, 0, 5, 0, 5, 0, 9, 199, 1, 0, 9, 1, 8, 0, 4, 16, 0, 80, 7, 0, 4, 17, 1, 3, 8, 1, 291, 672, 11, 6, 4, 0, 16, 0, 2, 93, 1, 0, 320, 42, 1, 1, 0, 1, 0, 319, 28, 2, 21, 0, 22, 51, 0, 0, 0, 2, 327, 9, 72, 0, 54, 0, 3, 0, 30, 0, 1, 1, 1, 0, 1, 0, 12, 0, 74, 0, 8, 76, 3, 2, 15, 6, 0, 0, 0, 0, 660, 11, 1, 1, 53, 608, 0, 19, 0, 1, 101, 17, 1912, 3, 2, 2, 615, 0, 2, 1, 1, 5, 0, 1, 0, 1, 1, 0, 2, 1, 59, 0, 5, 0, 43, 0, 0, 1, 0, 0, 3, 35, 0, 5, 7, 1, 4, 5, 0, 0, 4, 1, 0, 0, 20, 1, 1, 1, 1, 2, 17, 1, 0, 0, 9, 10, 0, 1, 0, 0, 0, 0, 18, 0, 0, 0, 0, 17, 4, 213, 5, 0, 0, 13, 4, 0, 6, 0, 0, 3, 3, 21, 0, 0, 1, 17, 4, 0, 6, 45, 1, 26, 2, 0, 0, 24, 1, 9, 3, 0, 4, 0, 4, 3, 6, 4, 122, 28, 70, 3, 1, 1, 4, 11, 180, 13, 0, 4, 2, 316, 5, 0, 0, 0, 0, 0, 0, 1, 31, 33, 3, 0, 0, 1, 0, 9, 0, 207, 0, 580, 2, 1, 3, 0, 0, 0, 12, 0, 0, 4, 1, 2, 3, 1, 0, 1, 0, 1, 9, 3, 10, 141, 7, 20, 1, 0, 0, 5, 0, 0, 0, 0, 0, 0, 13, 1, 13, 5, 1, 0, 0, 1, 2, 16, 0, 5, 0, 2, 1, 13, 11, 0, 1, 42, 4, 3, 3, 5, 1, 2, 0, 197, 3, 3, 0, 120, 4, 22, 23, 7, 0, 0, 1, 4, 4, 6, 5, 1, 12, 0, 0, 13, 35, 0, 0, 4, 182, 17, 8, 1, 3, 0, 3, 3, 0, 17, 15, 0, 54, 1, 2, 0, 0, 90, 1, 7, 2, 0, 142, 8, 30, 19, 99, 2, 1, 0, 0, 8, 16, 1, 60, 0, 4, 0, 71, 4, 0, 0, 4, 0, 0, 0, 3, 0, 37, 1735, 1, 0, 1, 13, 0, 0, 1, 3, 0, 0, 2, 16, 16, 4, 26, 0, 0, 0, 60, 4, 5, 3, 9, 0, 3, 20, 1, 14, 0, 2, 9, 5, 19, 13, 1, 1, 1714, 33, 6, 320, 36, 2, 29, 1, 0, 16, 9, 1, 78, 0, 4, 0, 4, 0, 0, 1, 4, 0, 1, 159, 3, 0, 1, 134, 0, 0, 7, 4, 1, 3, 0, 0, 18, 0, 1, 4, 53, 1, 3, 0, 0, 10, 2, 0, 12, 4, 95, 24, 35, 1, 0, 3, 97, 11, 135, 0, 0, 0, 4, 1, 0, 0, 0, 20, 3, 27, 2, 0, 0, 4, 6, 0, 10, 1, 3, 0, 0, 0, 1, 1, 3]\n"
     ]
    }
   ],
   "source": [
    "inforl_cs= open(\"Final_pagerank_cs_BA.txt\").read().split()\n",
    "importedrl_cs=[i for i in inforl_cs]\n",
    "RL_ba={}\n",
    "j=1\n",
    "for N in [100,200,500,1000,1500,2000]:\n",
    "    RL_ba[str(N)]=importedrl_cs[j:j+500]\n",
    "    j=j+501\n",
    "\n",
    "ll=0\n",
    "for N in [100,200,500,1000,1500,2000]:\n",
    "    for k in range(len(RL_ba[str(N)])):\n",
    "        RL_ba[str(N)][k]=RL_ba[str(N)][k][:-1]\n",
    "        for l in RL_ba[str(N)][k]:\n",
    "            if l=='[':\n",
    "                RL_ba[str(N)][k]=RL_ba[str(N)][k][1:]\n",
    "            if l==']':\n",
    "                RL_ba[str(N)][k]=RL_ba[str(N)][k]\n",
    "for N in [100,200,500,1000,1500,2000]:\n",
    "    for k in range(len(RL_ba[str(N)])):\n",
    "        RL_ba[str(N)][k]=int(RL_ba[str(N)][k])\n",
    "print RL_ba['2000']"
   ]
  },
  {
   "cell_type": "code",
   "execution_count": 2,
   "metadata": {},
   "outputs": [
    {
     "name": "stdout",
     "output_type": "stream",
     "text": [
      "[9, 203, 63, 11, 8, 1, 6, 14, 506, 12, 25, 28, 6, 20, 10, 39, 10, 79, 323, 83, 39, 6, 30, 185, 1, 20, 133, 22, 19, 3, 1, 88, 7, 24, 145, 26, 331, 4, 180, 44, 3, 5, 36, 97, 2, 137, 23, 32, 86, 100, 14, 12, 126, 85, 4, 32, 5, 1009, 5, 9, 0, 52, 0, 16, 20, 215, 9, 2, 41, 38, 280, 5, 2, 53, 0, 120, 7, 9, 485, 2, 51, 4, 38, 0, 19, 55, 2, 1, 7, 13, 12, 0, 152, 23, 20, 4, 6, 38, 2, 35, 2, 10, 16, 1, 10, 49, 65, 973, 0, 0, 24, 124, 9, 75, 29, 485, 0, 42, 16, 23, 17, 52, 0, 7, 2, 362, 11, 56, 17, 77, 9, 203, 0, 25, 67, 69, 19, 30, 32, 179, 525, 0, 0, 273, 202, 154, 259, 22, 58, 4, 18, 3, 485, 22, 19, 153, 0, 12, 22, 57, 28, 147, 11, 237, 21, 266, 135, 264, 25, 179, 104, 315, 12, 100, 1, 11, 71, 17, 147, 2, 42, 24, 69, 29, 12, 0, 22, 13, 3, 34, 87, 30, 494, 0, 196, 31, 11, 139, 71, 1, 87, 10, 3, 161, 9, 19, 15, 1, 8, 8, 47, 25, 23, 28, 133, 1, 0, 0, 23, 100, 498, 77, 0, 9, 45, 73, 43, 3, 0, 23, 38, 2, 22, 39, 43, 1, 148, 9, 81, 3, 20, 5, 22, 414, 96, 1, 46, 5, 39, 51, 0, 1, 0, 33, 19, 26, 4, 150, 25, 174, 10, 31, 1, 0, 126, 102, 8, 102, 78, 147, 111, 123, 5, 126, 2, 85, 0, 5, 14, 53, 1, 3, 74, 1, 47, 3, 28, 4, 214, 0, 13, 60, 5, 46, 1, 5, 13, 0, 102, 14, 8, 19, 23, 6, 14, 25, 0, 85, 481, 205, 31, 57, 54, 92, 23, 313, 10, 266, 103, 2, 1, 174, 0, 37, 0, 39, 0, 82, 164, 167, 6, 23, 3, 47, 20, 27, 149, 43, 0, 70, 6, 379, 0, 14, 7, 11, 1021, 1008, 1, 171, 4, 14, 2, 49, 43, 10, 228, 10, 11, 15, 16, 245, 43, 47, 43, 484, 8, 96, 1, 0, 105, 1, 11, 8, 90, 18, 27, 9, 13, 41, 6, 2, 5, 4, 14, 315, 22, 4, 5, 15, 263, 13, 44, 243, 1, 185, 44, 1, 306, 3, 28, 90, 24, 26, 78, 0, 310, 7, 154, 0, 5, 30, 2, 11, 9, 3, 56, 1, 4, 7, 4, 80, 0, 96, 3, 0, 180, 200, 29, 6, 0, 2, 1, 36, 38, 69, 0, 0, 15, 17, 34, 39, 2, 50, 165, 4, 3, 7, 8, 0, 32, 1, 32, 48, 331, 0, 41, 7, 166, 88, 18, 54, 2, 9, 1, 95, 72, 22, 3, 3, 501, 36, 31, 12, 222, 27, 4, 69, 2, 2, 0, 509, 5, 34, 142, 43, 10, 0, 3, 5, 9, 51, 87, 18, 23, 368, 20, 1, 44, 291]\n"
     ]
    }
   ],
   "source": [
    "inforl_cs= open(\"Final_pagerank_cs_UA.txt\").read().split()\n",
    "importedrl_cs=[i for i in inforl_cs]\n",
    "RL_ua={}\n",
    "j=1\n",
    "for N in [100,200,500,1000,1500,2000]:\n",
    "    RL_ua[str(N)]=importedrl_cs[j:j+500]\n",
    "    j=j+501\n",
    "\n",
    "ll=0\n",
    "for N in [100,200,500,1000,1500,2000]:\n",
    "    for k in range(len(RL_ua[str(N)])):\n",
    "        RL_ua[str(N)][k]=RL_ua[str(N)][k][:-1]\n",
    "        for l in RL_ua[str(N)][k]:\n",
    "            if l=='[':\n",
    "                RL_ua[str(N)][k]=RL_ua[str(N)][k][1:]\n",
    "            if l==']':\n",
    "                RL_ua[str(N)][k]=RL_ua[str(N)][k]\n",
    "for N in [100,200,500,1000,1500,2000]:\n",
    "    for k in range(len(RL_ua[str(N)])):\n",
    "        RL_ua[str(N)][k]=int(RL_ua[str(N)][k])\n",
    "print RL_ua['2000']"
   ]
  },
  {
   "cell_type": "code",
   "execution_count": 3,
   "metadata": {},
   "outputs": [
    {
     "name": "stdout",
     "output_type": "stream",
     "text": [
      "[640, 854, 833, 800, 693, 662, 810, 863, 789, 733, 733, 798, 871, 837, 826, 787, 878, 872, 908, 762, 783, 908, 723, 787, 708, 698, 814, 781, 877, 774, 836, 857, 902, 829, 810, 829, 873, 703, 709, 676, 782, 865, 783, 755, 801, 876, 872, 799, 855, 802, 764, 855, 810, 798, 811, 772, 724, 708, 786, 739, 825, 747, 885, 885, 836, 900, 748, 849, 849, 726, 814, 830, 821, 895, 848, 730, 746, 876, 780, 739, 864, 827, 590, 743, 799, 710, 816, 843, 816, 717, 834, 886, 836, 846, 879, 712, 881, 829, 698, 841, 840, 820, 877, 809, 858, 721, 896, 653, 715, 840, 701, 864, 764, 832, 826, 811, 838, 843, 782, 761, 644, 883, 863, 894, 829, 845, 894, 847, 813, 645, 686, 886, 800, 813, 649, 683, 664, 850, 633, 679, 799, 779, 833, 752, 877, 767, 784, 794, 891, 741, 630, 831, 685, 893, 691, 858, 622, 872, 832, 851, 854, 839, 895, 844, 791, 842, 759, 785, 667, 844, 794, 742, 897, 858, 785, 671, 903, 857, 865, 757, 619, 658, 783, 719, 751, 855, 848, 873, 853, 654, 830, 846, 778, 894, 648, 718, 895, 755, 660, 767, 797, 621, 884, 700, 872, 806, 892, 838, 694, 739, 839, 822, 740, 834, 902, 887, 862, 829, 823, 810, 658, 804, 708, 875, 825, 884, 714, 844, 729, 781, 782, 886, 841, 869, 888, 829, 853, 753, 735, 676, 869, 792, 772, 863, 872, 828, 677, 780, 810, 785, 822, 722, 858, 802, 612, 855, 857, 874, 711, 811, 818, 883, 654, 786, 874, 871, 873, 720, 886, 627, 903, 882, 821, 855, 847, 768, 675, 836, 746, 782, 901, 724, 868, 810, 838, 910, 873, 864, 737, 848, 795, 763, 814, 846, 812, 881, 647, 815, 750, 878, 876, 805, 861, 833, 611, 752, 648, 736, 841, 868, 854, 799, 830, 914, 826, 748, 634, 826, 706, 670, 856, 862, 831, 750, 876, 841, 640, 846, 899, 851, 844, 826, 753, 838, 843, 871, 719, 758, 901, 754, 616, 644, 828, 812, 732, 847, 791, 765, 831, 858, 813, 737, 866, 742, 826, 730, 630, 802, 784, 858, 790, 927, 718, 861, 816, 805, 798, 846, 793, 831, 656, 767, 840, 889, 837, 708, 712, 687, 833, 894, 846, 789, 793, 735, 821, 821, 870, 893, 742, 818, 793, 833, 800, 685, 787, 615, 893, 850, 814, 837, 878, 866, 857, 841, 811, 718, 902, 890, 727, 812, 848, 625, 779, 879, 850, 838, 835, 675, 754, 805, 899, 725, 819, 793, 736, 843, 758, 862, 775, 619, 765, 864, 786, 632, 758, 845, 741, 835, 635, 710, 801, 813, 778, 878, 847, 906, 844, 606, 828, 854, 861, 786, 814, 636, 784, 849, 812, 869, 832, 867, 889, 849, 785, 1343, 830, 882, 653, 863, 632, 832, 688, 836, 687, 818, 780, 855, 834, 764, 829, 744, 889, 789, 835, 820, 905, 686, 831, 699, 854, 779, 675, 808, 891, 863, 891, 842, 723, 676, 753, 867]\n"
     ]
    }
   ],
   "source": [
    "inforl_cs= open(\"Final_pagerank_cs_P3R.txt\").read().split()\n",
    "importedrl_cs=[i for i in inforl_cs]\n",
    "RL_p3r={}\n",
    "j=1\n",
    "for N in [100,200,500,1000,1500,2000]:\n",
    "    RL_p3r[str(N)]=importedrl_cs[j:j+500]\n",
    "    j=j+501\n",
    "\n",
    "ll=0\n",
    "for N in [100,200,500,1000,1500,2000]:\n",
    "    for k in range(len(RL_p3r[str(N)])):\n",
    "        RL_p3r[str(N)][k]=RL_p3r[str(N)][k][:-1]\n",
    "        for l in RL_p3r[str(N)][k]:\n",
    "            if l=='[':\n",
    "                RL_p3r[str(N)][k]=RL_p3r[str(N)][k][1:]\n",
    "            if l==']':\n",
    "                RL_p3r[str(N)][k]=RL_p3r[str(N)][k]\n",
    "for N in [100,200,500,1000,1500,2000]:\n",
    "    for k in range(len(RL_ba[str(N)])):\n",
    "        RL_p3r[str(N)][k]=int(RL_p3r[str(N)][k])\n",
    "print RL_p3r['2000']"
   ]
  },
  {
   "cell_type": "code",
   "execution_count": null,
   "metadata": {
    "collapsed": true
   },
   "outputs": [],
   "source": []
  }
 ],
 "metadata": {
  "kernelspec": {
   "display_name": "Python 2",
   "language": "python",
   "name": "python2"
  },
  "language_info": {
   "codemirror_mode": {
    "name": "ipython",
    "version": 2
   },
   "file_extension": ".py",
   "mimetype": "text/x-python",
   "name": "python",
   "nbconvert_exporter": "python",
   "pygments_lexer": "ipython2",
   "version": "2.7.13"
  }
 },
 "nbformat": 4,
 "nbformat_minor": 2
}
