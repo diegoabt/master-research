{
 "cells": [
  {
   "cell_type": "code",
   "execution_count": 6,
   "metadata": {
    "collapsed": true
   },
   "outputs": [],
   "source": [
    "#%run 'Removing-leaves estimator .ipynb'\n",
    "%run 'Estimators in their lasts versions.ipynb'\n",
    "%run '/home/diego/Dropbox/Tesis/Modelos/UA model.ipynb'\n",
    "%run '/home/diego/Dropbox/Tesis/Modelos/Shah Tree.ipynb'"
   ]
  },
  {
   "cell_type": "code",
   "execution_count": 7,
   "metadata": {},
   "outputs": [
    {
     "name": "stdout",
     "output_type": "stream",
     "text": [
      "2.2.2\n"
     ]
    },
    {
     "data": {
      "text/html": [
       "<script>requirejs.config({paths: { 'plotly': ['https://cdn.plot.ly/plotly-latest.min']},});if(!window.Plotly) {{require(['plotly'],function(plotly) {window.Plotly=plotly;});}}</script>"
      ],
      "text/vnd.plotly.v1+html": [
       "<script>requirejs.config({paths: { 'plotly': ['https://cdn.plot.ly/plotly-latest.min']},});if(!window.Plotly) {{require(['plotly'],function(plotly) {window.Plotly=plotly;});}}</script>"
      ]
     },
     "metadata": {},
     "output_type": "display_data"
    }
   ],
   "source": [
    "import time\n",
    "import networkx as nx\n",
    "import powerlaw\n",
    "import plotly.plotly as py\n",
    "import plotly.graph_objs as go\n",
    "import numpy as np\n",
    "from plotly import tools\n",
    "from plotly import __version__\n",
    "from plotly.offline import download_plotlyjs, init_notebook_mode, plot,iplot\n",
    "print (__version__) # requires version >= 1.9.0\n",
    "\n",
    "#Always run this the command before at the start of notebook\n",
    "init_notebook_mode(connected=True)\n",
    "import plotly.graph_objs as go"
   ]
  },
  {
   "cell_type": "code",
   "execution_count": 37,
   "metadata": {
    "collapsed": true
   },
   "outputs": [],
   "source": [
    "resultsSZ={} #This dict contains all the vrtices found by the rl estimator for different graph sizes\n",
    "values_sz={} #This dict is created from resultsDC\n",
    "results_sz_time={}"
   ]
  },
  {
   "cell_type": "code",
   "execution_count": 38,
   "metadata": {},
   "outputs": [
    {
     "name": "stdout",
     "output_type": "stream",
     "text": [
      "50\n",
      "75\n",
      "100\n"
     ]
    }
   ],
   "source": [
    "#\n",
    "for N in [50,75,100]:\n",
    "    results_pr=[]\n",
    "    start_time=time.time()\n",
    "    for i in range(0,50):\n",
    "        ba=nx.barabasi_albert_graph(N,1)\n",
    "        L=sz(ba) #...............\n",
    "        center=L[len(L)-1][0]\n",
    "        results_pr.append([N,center])\n",
    "    final_time= -start_time +time.time()\n",
    "    results_sz_time[str(N)]=final_time\n",
    "    \n",
    "    resultsSZ[str(N)]=[i[1] for i in results_pr]\n",
    "    print N\n",
    "    "
   ]
  },
  {
   "cell_type": "code",
   "execution_count": 39,
   "metadata": {},
   "outputs": [
    {
     "name": "stdout",
     "output_type": "stream",
     "text": [
      "This is the format of your plot grid:\n",
      "[ (1,1) x1,y1 ]  [ (1,2) x2,y2 ]\n",
      "[ (2,1) x3,y3 ]  [ (2,2) x4,y4 ]\n",
      "[ (3,1) x5,y5 ]  [ (3,2) x6,y6 ]\n",
      "\n"
     ]
    }
   ],
   "source": [
    "data_1={}\n",
    "data_2={}\n",
    "fig = tools.make_subplots(rows=3, cols=2, subplot_titles=('50', '50',\n",
    "                                                          '75', '75',\n",
    "                                                         '100','100'))\n",
    "j=0\n",
    "for i in [50,75,100]:\n",
    "    j+=1\n",
    "    \n",
    "    #SIMPLEST HISTOGRAM\n",
    "    x = resultsSZ[str(i)]\n",
    "    data_1[str(i)] = go.Histogram(x=x,\n",
    "                                  marker=dict(\n",
    "        color='dodgerblue'\n",
    "    ),\n",
    "                     xbins=dict(\n",
    "            start=0,\n",
    "            end=i,\n",
    "            size=1.\n",
    "        ))\n",
    "    fig.append_trace(data_1[str(i)], j, 1)\n",
    "    #CUMM HISTOGRAM\n",
    "    data_2[str(i)] = go.Histogram(x=x,\n",
    "                                  marker=dict(\n",
    "        color='royalblue'\n",
    "    ),\n",
    "                     xbins=dict(\n",
    "        start=0,\n",
    "        end=i,\n",
    "        size=1.\n",
    "    ),\n",
    "                     histnorm='probability',\n",
    "                     cumulative=dict(enabled=True))\n",
    "    fig.append_trace(data_2[str(i)], j, 2)\n",
    "    "
   ]
  },
  {
   "cell_type": "code",
   "execution_count": 40,
   "metadata": {},
   "outputs": [
    {
     "data": {
      "application/vnd.plotly.v1+json": {
       "data": [
        {
         "marker": {
          "color": "dodgerblue"
         },
         "type": "histogram",
         "x": [
          0,
          0,
          1,
          2,
          1,
          3,
          1,
          1,
          1,
          1,
          3,
          1,
          1,
          2,
          4,
          1,
          1,
          2,
          2,
          0,
          0,
          0,
          1,
          0,
          0,
          0,
          1,
          2,
          1,
          1,
          0,
          1,
          1,
          4,
          1,
          1,
          0,
          2,
          2,
          0,
          1,
          1,
          0,
          1,
          1,
          1,
          1,
          0,
          0,
          1
         ],
         "xaxis": "x1",
         "xbins": {
          "end": 50,
          "size": 1,
          "start": 0
         },
         "yaxis": "y1"
        },
        {
         "cumulative": {
          "enabled": true
         },
         "histnorm": "probability",
         "marker": {
          "color": "royalblue"
         },
         "type": "histogram",
         "x": [
          0,
          0,
          1,
          2,
          1,
          3,
          1,
          1,
          1,
          1,
          3,
          1,
          1,
          2,
          4,
          1,
          1,
          2,
          2,
          0,
          0,
          0,
          1,
          0,
          0,
          0,
          1,
          2,
          1,
          1,
          0,
          1,
          1,
          4,
          1,
          1,
          0,
          2,
          2,
          0,
          1,
          1,
          0,
          1,
          1,
          1,
          1,
          0,
          0,
          1
         ],
         "xaxis": "x2",
         "xbins": {
          "end": 50,
          "size": 1,
          "start": 0
         },
         "yaxis": "y2"
        },
        {
         "marker": {
          "color": "dodgerblue"
         },
         "type": "histogram",
         "x": [
          1,
          3,
          1,
          2,
          0,
          2,
          4,
          1,
          1,
          2,
          0,
          0,
          3,
          1,
          2,
          2,
          0,
          2,
          0,
          0,
          0,
          1,
          0,
          4,
          0,
          0,
          3,
          0,
          6,
          1,
          2,
          0,
          7,
          5,
          3,
          1,
          0,
          1,
          0,
          2,
          1,
          1,
          0,
          0,
          1,
          2,
          0,
          0,
          1,
          1
         ],
         "xaxis": "x3",
         "xbins": {
          "end": 75,
          "size": 1,
          "start": 0
         },
         "yaxis": "y3"
        },
        {
         "cumulative": {
          "enabled": true
         },
         "histnorm": "probability",
         "marker": {
          "color": "royalblue"
         },
         "type": "histogram",
         "x": [
          1,
          3,
          1,
          2,
          0,
          2,
          4,
          1,
          1,
          2,
          0,
          0,
          3,
          1,
          2,
          2,
          0,
          2,
          0,
          0,
          0,
          1,
          0,
          4,
          0,
          0,
          3,
          0,
          6,
          1,
          2,
          0,
          7,
          5,
          3,
          1,
          0,
          1,
          0,
          2,
          1,
          1,
          0,
          0,
          1,
          2,
          0,
          0,
          1,
          1
         ],
         "xaxis": "x4",
         "xbins": {
          "end": 75,
          "size": 1,
          "start": 0
         },
         "yaxis": "y4"
        },
        {
         "marker": {
          "color": "dodgerblue"
         },
         "type": "histogram",
         "x": [
          1,
          1,
          0,
          6,
          2,
          0,
          1,
          2,
          1,
          0,
          2,
          1,
          0,
          1,
          0,
          1,
          3,
          2,
          1,
          0,
          0,
          0,
          0,
          3,
          0,
          3,
          1,
          1,
          0,
          1,
          2,
          2,
          2,
          3,
          1,
          1,
          1,
          0,
          2,
          1,
          2,
          1,
          0,
          0,
          1,
          6,
          0,
          0,
          2,
          0
         ],
         "xaxis": "x5",
         "xbins": {
          "end": 100,
          "size": 1,
          "start": 0
         },
         "yaxis": "y5"
        },
        {
         "cumulative": {
          "enabled": true
         },
         "histnorm": "probability",
         "marker": {
          "color": "royalblue"
         },
         "type": "histogram",
         "x": [
          1,
          1,
          0,
          6,
          2,
          0,
          1,
          2,
          1,
          0,
          2,
          1,
          0,
          1,
          0,
          1,
          3,
          2,
          1,
          0,
          0,
          0,
          0,
          3,
          0,
          3,
          1,
          1,
          0,
          1,
          2,
          2,
          2,
          3,
          1,
          1,
          1,
          0,
          2,
          1,
          2,
          1,
          0,
          0,
          1,
          6,
          0,
          0,
          2,
          0
         ],
         "xaxis": "x6",
         "xbins": {
          "end": 100,
          "size": 1,
          "start": 0
         },
         "yaxis": "y6"
        }
       ],
       "layout": {
        "annotations": [
         {
          "font": {
           "size": 16
          },
          "showarrow": false,
          "text": "50",
          "x": 0.225,
          "xanchor": "center",
          "xref": "paper",
          "y": 1,
          "yanchor": "bottom",
          "yref": "paper"
         },
         {
          "font": {
           "size": 16
          },
          "showarrow": false,
          "text": "50",
          "x": 0.775,
          "xanchor": "center",
          "xref": "paper",
          "y": 1,
          "yanchor": "bottom",
          "yref": "paper"
         },
         {
          "font": {
           "size": 16
          },
          "showarrow": false,
          "text": "75",
          "x": 0.225,
          "xanchor": "center",
          "xref": "paper",
          "y": 0.6111111111111112,
          "yanchor": "bottom",
          "yref": "paper"
         },
         {
          "font": {
           "size": 16
          },
          "showarrow": false,
          "text": "75",
          "x": 0.775,
          "xanchor": "center",
          "xref": "paper",
          "y": 0.6111111111111112,
          "yanchor": "bottom",
          "yref": "paper"
         },
         {
          "font": {
           "size": 16
          },
          "showarrow": false,
          "text": "100",
          "x": 0.225,
          "xanchor": "center",
          "xref": "paper",
          "y": 0.22222222222222224,
          "yanchor": "bottom",
          "yref": "paper"
         },
         {
          "font": {
           "size": 16
          },
          "showarrow": false,
          "text": "100",
          "x": 0.775,
          "xanchor": "center",
          "xref": "paper",
          "y": 0.22222222222222224,
          "yanchor": "bottom",
          "yref": "paper"
         }
        ],
        "height": 1000,
        "title": "Single vertex: shah",
        "width": 800,
        "xaxis1": {
         "anchor": "y1",
         "domain": [
          0,
          0.45
         ]
        },
        "xaxis2": {
         "anchor": "y2",
         "domain": [
          0.55,
          1
         ]
        },
        "xaxis3": {
         "anchor": "y3",
         "domain": [
          0,
          0.45
         ]
        },
        "xaxis4": {
         "anchor": "y4",
         "domain": [
          0.55,
          1
         ]
        },
        "xaxis5": {
         "anchor": "y5",
         "domain": [
          0,
          0.45
         ]
        },
        "xaxis6": {
         "anchor": "y6",
         "domain": [
          0.55,
          1
         ]
        },
        "yaxis1": {
         "anchor": "x1",
         "domain": [
          0.7777777777777778,
          1
         ]
        },
        "yaxis2": {
         "anchor": "x2",
         "domain": [
          0.7777777777777778,
          1
         ]
        },
        "yaxis3": {
         "anchor": "x3",
         "domain": [
          0.3888888888888889,
          0.6111111111111112
         ]
        },
        "yaxis4": {
         "anchor": "x4",
         "domain": [
          0.3888888888888889,
          0.6111111111111112
         ]
        },
        "yaxis5": {
         "anchor": "x5",
         "domain": [
          0,
          0.22222222222222224
         ]
        },
        "yaxis6": {
         "anchor": "x6",
         "domain": [
          0,
          0.22222222222222224
         ]
        }
       }
      },
      "text/html": [
       "<div id=\"9cb11e96-1924-4b59-9539-90990e51e433\" style=\"height: 1000px; width: 800px;\" class=\"plotly-graph-div\"></div><script type=\"text/javascript\">require([\"plotly\"], function(Plotly) { window.PLOTLYENV=window.PLOTLYENV || {};window.PLOTLYENV.BASE_URL=\"https://plot.ly\";Plotly.newPlot(\"9cb11e96-1924-4b59-9539-90990e51e433\", [{\"yaxis\": \"y1\", \"xaxis\": \"x1\", \"xbins\": {\"start\": 0, \"end\": 50, \"size\": 1.0}, \"marker\": {\"color\": \"dodgerblue\"}, \"x\": [0, 0, 1, 2, 1, 3, 1, 1, 1, 1, 3, 1, 1, 2, 4, 1, 1, 2, 2, 0, 0, 0, 1, 0, 0, 0, 1, 2, 1, 1, 0, 1, 1, 4, 1, 1, 0, 2, 2, 0, 1, 1, 0, 1, 1, 1, 1, 0, 0, 1], \"type\": \"histogram\"}, {\"yaxis\": \"y2\", \"cumulative\": {\"enabled\": true}, \"histnorm\": \"probability\", \"xaxis\": \"x2\", \"xbins\": {\"start\": 0, \"end\": 50, \"size\": 1.0}, \"marker\": {\"color\": \"royalblue\"}, \"x\": [0, 0, 1, 2, 1, 3, 1, 1, 1, 1, 3, 1, 1, 2, 4, 1, 1, 2, 2, 0, 0, 0, 1, 0, 0, 0, 1, 2, 1, 1, 0, 1, 1, 4, 1, 1, 0, 2, 2, 0, 1, 1, 0, 1, 1, 1, 1, 0, 0, 1], \"type\": \"histogram\"}, {\"yaxis\": \"y3\", \"xaxis\": \"x3\", \"xbins\": {\"start\": 0, \"end\": 75, \"size\": 1.0}, \"marker\": {\"color\": \"dodgerblue\"}, \"x\": [1, 3, 1, 2, 0, 2, 4, 1, 1, 2, 0, 0, 3, 1, 2, 2, 0, 2, 0, 0, 0, 1, 0, 4, 0, 0, 3, 0, 6, 1, 2, 0, 7, 5, 3, 1, 0, 1, 0, 2, 1, 1, 0, 0, 1, 2, 0, 0, 1, 1], \"type\": \"histogram\"}, {\"yaxis\": \"y4\", \"cumulative\": {\"enabled\": true}, \"histnorm\": \"probability\", \"xaxis\": \"x4\", \"xbins\": {\"start\": 0, \"end\": 75, \"size\": 1.0}, \"marker\": {\"color\": \"royalblue\"}, \"x\": [1, 3, 1, 2, 0, 2, 4, 1, 1, 2, 0, 0, 3, 1, 2, 2, 0, 2, 0, 0, 0, 1, 0, 4, 0, 0, 3, 0, 6, 1, 2, 0, 7, 5, 3, 1, 0, 1, 0, 2, 1, 1, 0, 0, 1, 2, 0, 0, 1, 1], \"type\": \"histogram\"}, {\"yaxis\": \"y5\", \"xaxis\": \"x5\", \"xbins\": {\"start\": 0, \"end\": 100, \"size\": 1.0}, \"marker\": {\"color\": \"dodgerblue\"}, \"x\": [1, 1, 0, 6, 2, 0, 1, 2, 1, 0, 2, 1, 0, 1, 0, 1, 3, 2, 1, 0, 0, 0, 0, 3, 0, 3, 1, 1, 0, 1, 2, 2, 2, 3, 1, 1, 1, 0, 2, 1, 2, 1, 0, 0, 1, 6, 0, 0, 2, 0], \"type\": \"histogram\"}, {\"yaxis\": \"y6\", \"cumulative\": {\"enabled\": true}, \"histnorm\": \"probability\", \"xaxis\": \"x6\", \"xbins\": {\"start\": 0, \"end\": 100, \"size\": 1.0}, \"marker\": {\"color\": \"royalblue\"}, \"x\": [1, 1, 0, 6, 2, 0, 1, 2, 1, 0, 2, 1, 0, 1, 0, 1, 3, 2, 1, 0, 0, 0, 0, 3, 0, 3, 1, 1, 0, 1, 2, 2, 2, 3, 1, 1, 1, 0, 2, 1, 2, 1, 0, 0, 1, 6, 0, 0, 2, 0], \"type\": \"histogram\"}], {\"yaxis1\": {\"domain\": [0.7777777777777778, 1.0], \"anchor\": \"x1\"}, \"xaxis6\": {\"domain\": [0.55, 1.0], \"anchor\": \"y6\"}, \"xaxis5\": {\"domain\": [0.0, 0.45], \"anchor\": \"y5\"}, \"xaxis4\": {\"domain\": [0.55, 1.0], \"anchor\": \"y4\"}, \"xaxis3\": {\"domain\": [0.0, 0.45], \"anchor\": \"y3\"}, \"xaxis2\": {\"domain\": [0.55, 1.0], \"anchor\": \"y2\"}, \"xaxis1\": {\"domain\": [0.0, 0.45], \"anchor\": \"y1\"}, \"height\": 1000, \"width\": 800, \"yaxis2\": {\"domain\": [0.7777777777777778, 1.0], \"anchor\": \"x2\"}, \"yaxis3\": {\"domain\": [0.3888888888888889, 0.6111111111111112], \"anchor\": \"x3\"}, \"yaxis4\": {\"domain\": [0.3888888888888889, 0.6111111111111112], \"anchor\": \"x4\"}, \"yaxis5\": {\"domain\": [0.0, 0.22222222222222224], \"anchor\": \"x5\"}, \"yaxis6\": {\"domain\": [0.0, 0.22222222222222224], \"anchor\": \"x6\"}, \"title\": \"Single vertex: shah\", \"annotations\": [{\"yanchor\": \"bottom\", \"xref\": \"paper\", \"xanchor\": \"center\", \"yref\": \"paper\", \"text\": \"50\", \"y\": 1.0, \"x\": 0.225, \"font\": {\"size\": 16}, \"showarrow\": false}, {\"yanchor\": \"bottom\", \"xref\": \"paper\", \"xanchor\": \"center\", \"yref\": \"paper\", \"text\": \"50\", \"y\": 1.0, \"x\": 0.775, \"font\": {\"size\": 16}, \"showarrow\": false}, {\"yanchor\": \"bottom\", \"xref\": \"paper\", \"xanchor\": \"center\", \"yref\": \"paper\", \"text\": \"75\", \"y\": 0.6111111111111112, \"x\": 0.225, \"font\": {\"size\": 16}, \"showarrow\": false}, {\"yanchor\": \"bottom\", \"xref\": \"paper\", \"xanchor\": \"center\", \"yref\": \"paper\", \"text\": \"75\", \"y\": 0.6111111111111112, \"x\": 0.775, \"font\": {\"size\": 16}, \"showarrow\": false}, {\"yanchor\": \"bottom\", \"xref\": \"paper\", \"xanchor\": \"center\", \"yref\": \"paper\", \"text\": \"100\", \"y\": 0.22222222222222224, \"x\": 0.225, \"font\": {\"size\": 16}, \"showarrow\": false}, {\"yanchor\": \"bottom\", \"xref\": \"paper\", \"xanchor\": \"center\", \"yref\": \"paper\", \"text\": \"100\", \"y\": 0.22222222222222224, \"x\": 0.775, \"font\": {\"size\": 16}, \"showarrow\": false}]}, {\"linkText\": \"Export to plot.ly\", \"showLink\": true})});</script>"
      ],
      "text/vnd.plotly.v1+html": [
       "<div id=\"9cb11e96-1924-4b59-9539-90990e51e433\" style=\"height: 1000px; width: 800px;\" class=\"plotly-graph-div\"></div><script type=\"text/javascript\">require([\"plotly\"], function(Plotly) { window.PLOTLYENV=window.PLOTLYENV || {};window.PLOTLYENV.BASE_URL=\"https://plot.ly\";Plotly.newPlot(\"9cb11e96-1924-4b59-9539-90990e51e433\", [{\"yaxis\": \"y1\", \"xaxis\": \"x1\", \"xbins\": {\"start\": 0, \"end\": 50, \"size\": 1.0}, \"marker\": {\"color\": \"dodgerblue\"}, \"x\": [0, 0, 1, 2, 1, 3, 1, 1, 1, 1, 3, 1, 1, 2, 4, 1, 1, 2, 2, 0, 0, 0, 1, 0, 0, 0, 1, 2, 1, 1, 0, 1, 1, 4, 1, 1, 0, 2, 2, 0, 1, 1, 0, 1, 1, 1, 1, 0, 0, 1], \"type\": \"histogram\"}, {\"yaxis\": \"y2\", \"cumulative\": {\"enabled\": true}, \"histnorm\": \"probability\", \"xaxis\": \"x2\", \"xbins\": {\"start\": 0, \"end\": 50, \"size\": 1.0}, \"marker\": {\"color\": \"royalblue\"}, \"x\": [0, 0, 1, 2, 1, 3, 1, 1, 1, 1, 3, 1, 1, 2, 4, 1, 1, 2, 2, 0, 0, 0, 1, 0, 0, 0, 1, 2, 1, 1, 0, 1, 1, 4, 1, 1, 0, 2, 2, 0, 1, 1, 0, 1, 1, 1, 1, 0, 0, 1], \"type\": \"histogram\"}, {\"yaxis\": \"y3\", \"xaxis\": \"x3\", \"xbins\": {\"start\": 0, \"end\": 75, \"size\": 1.0}, \"marker\": {\"color\": \"dodgerblue\"}, \"x\": [1, 3, 1, 2, 0, 2, 4, 1, 1, 2, 0, 0, 3, 1, 2, 2, 0, 2, 0, 0, 0, 1, 0, 4, 0, 0, 3, 0, 6, 1, 2, 0, 7, 5, 3, 1, 0, 1, 0, 2, 1, 1, 0, 0, 1, 2, 0, 0, 1, 1], \"type\": \"histogram\"}, {\"yaxis\": \"y4\", \"cumulative\": {\"enabled\": true}, \"histnorm\": \"probability\", \"xaxis\": \"x4\", \"xbins\": {\"start\": 0, \"end\": 75, \"size\": 1.0}, \"marker\": {\"color\": \"royalblue\"}, \"x\": [1, 3, 1, 2, 0, 2, 4, 1, 1, 2, 0, 0, 3, 1, 2, 2, 0, 2, 0, 0, 0, 1, 0, 4, 0, 0, 3, 0, 6, 1, 2, 0, 7, 5, 3, 1, 0, 1, 0, 2, 1, 1, 0, 0, 1, 2, 0, 0, 1, 1], \"type\": \"histogram\"}, {\"yaxis\": \"y5\", \"xaxis\": \"x5\", \"xbins\": {\"start\": 0, \"end\": 100, \"size\": 1.0}, \"marker\": {\"color\": \"dodgerblue\"}, \"x\": [1, 1, 0, 6, 2, 0, 1, 2, 1, 0, 2, 1, 0, 1, 0, 1, 3, 2, 1, 0, 0, 0, 0, 3, 0, 3, 1, 1, 0, 1, 2, 2, 2, 3, 1, 1, 1, 0, 2, 1, 2, 1, 0, 0, 1, 6, 0, 0, 2, 0], \"type\": \"histogram\"}, {\"yaxis\": \"y6\", \"cumulative\": {\"enabled\": true}, \"histnorm\": \"probability\", \"xaxis\": \"x6\", \"xbins\": {\"start\": 0, \"end\": 100, \"size\": 1.0}, \"marker\": {\"color\": \"royalblue\"}, \"x\": [1, 1, 0, 6, 2, 0, 1, 2, 1, 0, 2, 1, 0, 1, 0, 1, 3, 2, 1, 0, 0, 0, 0, 3, 0, 3, 1, 1, 0, 1, 2, 2, 2, 3, 1, 1, 1, 0, 2, 1, 2, 1, 0, 0, 1, 6, 0, 0, 2, 0], \"type\": \"histogram\"}], {\"yaxis1\": {\"domain\": [0.7777777777777778, 1.0], \"anchor\": \"x1\"}, \"xaxis6\": {\"domain\": [0.55, 1.0], \"anchor\": \"y6\"}, \"xaxis5\": {\"domain\": [0.0, 0.45], \"anchor\": \"y5\"}, \"xaxis4\": {\"domain\": [0.55, 1.0], \"anchor\": \"y4\"}, \"xaxis3\": {\"domain\": [0.0, 0.45], \"anchor\": \"y3\"}, \"xaxis2\": {\"domain\": [0.55, 1.0], \"anchor\": \"y2\"}, \"xaxis1\": {\"domain\": [0.0, 0.45], \"anchor\": \"y1\"}, \"height\": 1000, \"width\": 800, \"yaxis2\": {\"domain\": [0.7777777777777778, 1.0], \"anchor\": \"x2\"}, \"yaxis3\": {\"domain\": [0.3888888888888889, 0.6111111111111112], \"anchor\": \"x3\"}, \"yaxis4\": {\"domain\": [0.3888888888888889, 0.6111111111111112], \"anchor\": \"x4\"}, \"yaxis5\": {\"domain\": [0.0, 0.22222222222222224], \"anchor\": \"x5\"}, \"yaxis6\": {\"domain\": [0.0, 0.22222222222222224], \"anchor\": \"x6\"}, \"title\": \"Single vertex: shah\", \"annotations\": [{\"yanchor\": \"bottom\", \"xref\": \"paper\", \"xanchor\": \"center\", \"yref\": \"paper\", \"text\": \"50\", \"y\": 1.0, \"x\": 0.225, \"font\": {\"size\": 16}, \"showarrow\": false}, {\"yanchor\": \"bottom\", \"xref\": \"paper\", \"xanchor\": \"center\", \"yref\": \"paper\", \"text\": \"50\", \"y\": 1.0, \"x\": 0.775, \"font\": {\"size\": 16}, \"showarrow\": false}, {\"yanchor\": \"bottom\", \"xref\": \"paper\", \"xanchor\": \"center\", \"yref\": \"paper\", \"text\": \"75\", \"y\": 0.6111111111111112, \"x\": 0.225, \"font\": {\"size\": 16}, \"showarrow\": false}, {\"yanchor\": \"bottom\", \"xref\": \"paper\", \"xanchor\": \"center\", \"yref\": \"paper\", \"text\": \"75\", \"y\": 0.6111111111111112, \"x\": 0.775, \"font\": {\"size\": 16}, \"showarrow\": false}, {\"yanchor\": \"bottom\", \"xref\": \"paper\", \"xanchor\": \"center\", \"yref\": \"paper\", \"text\": \"100\", \"y\": 0.22222222222222224, \"x\": 0.225, \"font\": {\"size\": 16}, \"showarrow\": false}, {\"yanchor\": \"bottom\", \"xref\": \"paper\", \"xanchor\": \"center\", \"yref\": \"paper\", \"text\": \"100\", \"y\": 0.22222222222222224, \"x\": 0.775, \"font\": {\"size\": 16}, \"showarrow\": false}]}, {\"linkText\": \"Export to plot.ly\", \"showLink\": true})});</script>"
      ]
     },
     "metadata": {},
     "output_type": "display_data"
    }
   ],
   "source": [
    "fig['layout'].update(height=1000, width=800, title='Single vertex: shah')\n",
    "iplot(fig, filename='simple-subplot')"
   ]
  },
  {
   "cell_type": "markdown",
   "metadata": {},
   "source": [
    "#### Exporting results"
   ]
  },
  {
   "cell_type": "code",
   "execution_count": 41,
   "metadata": {
    "collapsed": true
   },
   "outputs": [],
   "source": [
    "pagerank_results = open('Final_shah_1v_BA_TIME.txt', 'w')\n",
    "for i in [50,75,100]:\n",
    "  print>>pagerank_results, str(i),results_sz_time[str(i)]\n",
    "pagerank_results.close()\n",
    "pagerank_results = open('Final_shah_1v_BA.txt', 'w')\n",
    "for i in [50,75,100]:\n",
    "  print>>pagerank_results, str(i),resultsSZ[str(i)]\n",
    "pagerank_results.close()"
   ]
  },
  {
   "cell_type": "code",
   "execution_count": null,
   "metadata": {
    "collapsed": true
   },
   "outputs": [],
   "source": []
  },
  {
   "cell_type": "code",
   "execution_count": 14,
   "metadata": {
    "collapsed": true
   },
   "outputs": [],
   "source": [
    "resultsSZ_ua={} #This dict contains all the vrtices found by the rl estimator for different graph sizes\n",
    "\n",
    "results_sz_time_ua={}"
   ]
  },
  {
   "cell_type": "code",
   "execution_count": null,
   "metadata": {
    "collapsed": true
   },
   "outputs": [],
   "source": [
    "#\n",
    "for N in [50,75,100]:\n",
    "    results_pr=[]\n",
    "    start_time=time.time()\n",
    "    for i in range(0,50):\n",
    "        ua=unif_tree(N)\n",
    "        L=sz(ua) #...............\n",
    "        center=L[len(L)-1][0]\n",
    "        results_pr.append([N,center])\n",
    "    final_time= -start_time +time.time()\n",
    "    results_sz_time_ua[str(N)]=final_time\n",
    "    \n",
    "    resultsSZ_ua[str(N)]=[i[1] for i in results_pr]\n",
    "    print N\n",
    "    "
   ]
  },
  {
   "cell_type": "code",
   "execution_count": 18,
   "metadata": {},
   "outputs": [
    {
     "name": "stdout",
     "output_type": "stream",
     "text": [
      "This is the format of your plot grid:\n",
      "[ (1,1) x1,y1 ]  [ (1,2) x2,y2 ]\n",
      "[ (2,1) x3,y3 ]  [ (2,2) x4,y4 ]\n",
      "[ (3,1) x5,y5 ]  [ (3,2) x6,y6 ]\n",
      "\n"
     ]
    }
   ],
   "source": [
    "data_1={}\n",
    "data_2={}\n",
    "fig = tools.make_subplots(rows=3, cols=2, subplot_titles=('50', '50',\n",
    "                                                          '75', '75',\n",
    "                                                         '100','100'))\n",
    "j=0\n",
    "for i in [50,75,100]:\n",
    "    j+=1\n",
    "    \n",
    "    #SIMPLEST HISTOGRAM\n",
    "    x = resultsSZ_ua[str(i)]\n",
    "    data_1[str(i)] = go.Histogram(x=x,\n",
    "                                  marker=dict(\n",
    "        color='dodgerblue'\n",
    "    ),\n",
    "                     xbins=dict(\n",
    "            start=0,\n",
    "            end=i,\n",
    "            size=1.\n",
    "        ))\n",
    "    fig.append_trace(data_1[str(i)], j, 1)\n",
    "    #CUMM HISTOGRAM\n",
    "    data_2[str(i)] = go.Histogram(x=x,\n",
    "                                  marker=dict(\n",
    "        color='royalblue'\n",
    "    ),\n",
    "                     xbins=dict(\n",
    "        start=0,\n",
    "        end=i,\n",
    "        size=1.\n",
    "    ),\n",
    "                     histnorm='probability',\n",
    "                     cumulative=dict(enabled=True))\n",
    "    fig.append_trace(data_2[str(i)], j, 2)\n",
    "    "
   ]
  },
  {
   "cell_type": "code",
   "execution_count": 19,
   "metadata": {},
   "outputs": [
    {
     "data": {
      "application/vnd.plotly.v1+json": {
       "data": [
        {
         "marker": {
          "color": "dodgerblue"
         },
         "type": "histogram",
         "x": [
          2,
          2,
          1,
          2,
          3,
          0,
          2,
          0,
          4,
          8,
          1,
          4,
          1,
          0,
          4,
          0,
          1,
          2,
          2,
          0,
          1,
          1,
          0,
          3,
          0,
          1,
          1,
          2,
          2,
          4,
          1,
          1,
          0,
          0,
          1,
          4,
          1,
          3,
          1,
          2,
          0,
          0,
          0,
          0,
          1,
          1,
          1,
          1,
          0,
          5
         ],
         "xaxis": "x1",
         "xbins": {
          "end": 50,
          "size": 1,
          "start": 0
         },
         "yaxis": "y1"
        },
        {
         "cumulative": {
          "enabled": true
         },
         "histnorm": "probability",
         "marker": {
          "color": "royalblue"
         },
         "type": "histogram",
         "x": [
          2,
          2,
          1,
          2,
          3,
          0,
          2,
          0,
          4,
          8,
          1,
          4,
          1,
          0,
          4,
          0,
          1,
          2,
          2,
          0,
          1,
          1,
          0,
          3,
          0,
          1,
          1,
          2,
          2,
          4,
          1,
          1,
          0,
          0,
          1,
          4,
          1,
          3,
          1,
          2,
          0,
          0,
          0,
          0,
          1,
          1,
          1,
          1,
          0,
          5
         ],
         "xaxis": "x2",
         "xbins": {
          "end": 50,
          "size": 1,
          "start": 0
         },
         "yaxis": "y2"
        },
        {
         "marker": {
          "color": "dodgerblue"
         },
         "type": "histogram",
         "x": [
          2,
          0,
          1,
          1,
          2,
          0,
          1,
          2,
          0,
          1,
          2,
          2,
          3,
          5,
          2,
          0,
          1,
          0,
          1,
          0,
          0,
          0,
          1,
          0,
          5,
          2,
          0,
          3,
          2,
          2,
          3,
          0,
          0,
          0,
          1,
          2,
          6,
          2,
          1,
          3,
          1,
          1,
          1,
          0,
          1,
          1,
          1,
          0,
          1,
          1
         ],
         "xaxis": "x3",
         "xbins": {
          "end": 75,
          "size": 1,
          "start": 0
         },
         "yaxis": "y3"
        },
        {
         "cumulative": {
          "enabled": true
         },
         "histnorm": "probability",
         "marker": {
          "color": "royalblue"
         },
         "type": "histogram",
         "x": [
          2,
          0,
          1,
          1,
          2,
          0,
          1,
          2,
          0,
          1,
          2,
          2,
          3,
          5,
          2,
          0,
          1,
          0,
          1,
          0,
          0,
          0,
          1,
          0,
          5,
          2,
          0,
          3,
          2,
          2,
          3,
          0,
          0,
          0,
          1,
          2,
          6,
          2,
          1,
          3,
          1,
          1,
          1,
          0,
          1,
          1,
          1,
          0,
          1,
          1
         ],
         "xaxis": "x4",
         "xbins": {
          "end": 75,
          "size": 1,
          "start": 0
         },
         "yaxis": "y4"
        },
        {
         "marker": {
          "color": "dodgerblue"
         },
         "type": "histogram",
         "x": [
          1,
          1,
          2,
          2,
          1,
          1,
          1,
          1,
          2,
          0,
          1,
          2,
          4,
          2,
          1,
          3,
          2,
          0,
          4,
          5,
          0,
          3,
          2,
          3,
          0,
          1,
          0,
          0,
          0,
          2,
          0,
          0,
          2,
          1,
          1,
          2,
          1,
          2,
          2,
          1,
          1,
          3,
          1,
          0,
          1,
          2,
          0,
          0,
          5,
          0
         ],
         "xaxis": "x5",
         "xbins": {
          "end": 100,
          "size": 1,
          "start": 0
         },
         "yaxis": "y5"
        },
        {
         "cumulative": {
          "enabled": true
         },
         "histnorm": "probability",
         "marker": {
          "color": "royalblue"
         },
         "type": "histogram",
         "x": [
          1,
          1,
          2,
          2,
          1,
          1,
          1,
          1,
          2,
          0,
          1,
          2,
          4,
          2,
          1,
          3,
          2,
          0,
          4,
          5,
          0,
          3,
          2,
          3,
          0,
          1,
          0,
          0,
          0,
          2,
          0,
          0,
          2,
          1,
          1,
          2,
          1,
          2,
          2,
          1,
          1,
          3,
          1,
          0,
          1,
          2,
          0,
          0,
          5,
          0
         ],
         "xaxis": "x6",
         "xbins": {
          "end": 100,
          "size": 1,
          "start": 0
         },
         "yaxis": "y6"
        }
       ],
       "layout": {
        "annotations": [
         {
          "font": {
           "size": 16
          },
          "showarrow": false,
          "text": "50",
          "x": 0.225,
          "xanchor": "center",
          "xref": "paper",
          "y": 1,
          "yanchor": "bottom",
          "yref": "paper"
         },
         {
          "font": {
           "size": 16
          },
          "showarrow": false,
          "text": "50",
          "x": 0.775,
          "xanchor": "center",
          "xref": "paper",
          "y": 1,
          "yanchor": "bottom",
          "yref": "paper"
         },
         {
          "font": {
           "size": 16
          },
          "showarrow": false,
          "text": "75",
          "x": 0.225,
          "xanchor": "center",
          "xref": "paper",
          "y": 0.6111111111111112,
          "yanchor": "bottom",
          "yref": "paper"
         },
         {
          "font": {
           "size": 16
          },
          "showarrow": false,
          "text": "75",
          "x": 0.775,
          "xanchor": "center",
          "xref": "paper",
          "y": 0.6111111111111112,
          "yanchor": "bottom",
          "yref": "paper"
         },
         {
          "font": {
           "size": 16
          },
          "showarrow": false,
          "text": "100",
          "x": 0.225,
          "xanchor": "center",
          "xref": "paper",
          "y": 0.22222222222222224,
          "yanchor": "bottom",
          "yref": "paper"
         },
         {
          "font": {
           "size": 16
          },
          "showarrow": false,
          "text": "100",
          "x": 0.775,
          "xanchor": "center",
          "xref": "paper",
          "y": 0.22222222222222224,
          "yanchor": "bottom",
          "yref": "paper"
         }
        ],
        "height": 1000,
        "title": "Single vertex: shah (UA)",
        "width": 800,
        "xaxis1": {
         "anchor": "y1",
         "domain": [
          0,
          0.45
         ]
        },
        "xaxis2": {
         "anchor": "y2",
         "domain": [
          0.55,
          1
         ]
        },
        "xaxis3": {
         "anchor": "y3",
         "domain": [
          0,
          0.45
         ]
        },
        "xaxis4": {
         "anchor": "y4",
         "domain": [
          0.55,
          1
         ]
        },
        "xaxis5": {
         "anchor": "y5",
         "domain": [
          0,
          0.45
         ]
        },
        "xaxis6": {
         "anchor": "y6",
         "domain": [
          0.55,
          1
         ]
        },
        "yaxis1": {
         "anchor": "x1",
         "domain": [
          0.7777777777777778,
          1
         ]
        },
        "yaxis2": {
         "anchor": "x2",
         "domain": [
          0.7777777777777778,
          1
         ]
        },
        "yaxis3": {
         "anchor": "x3",
         "domain": [
          0.3888888888888889,
          0.6111111111111112
         ]
        },
        "yaxis4": {
         "anchor": "x4",
         "domain": [
          0.3888888888888889,
          0.6111111111111112
         ]
        },
        "yaxis5": {
         "anchor": "x5",
         "domain": [
          0,
          0.22222222222222224
         ]
        },
        "yaxis6": {
         "anchor": "x6",
         "domain": [
          0,
          0.22222222222222224
         ]
        }
       }
      },
      "text/html": [
       "<div id=\"3732153b-b055-47b8-bc21-caea32e1a791\" style=\"height: 1000px; width: 800px;\" class=\"plotly-graph-div\"></div><script type=\"text/javascript\">require([\"plotly\"], function(Plotly) { window.PLOTLYENV=window.PLOTLYENV || {};window.PLOTLYENV.BASE_URL=\"https://plot.ly\";Plotly.newPlot(\"3732153b-b055-47b8-bc21-caea32e1a791\", [{\"yaxis\": \"y1\", \"xaxis\": \"x1\", \"xbins\": {\"start\": 0, \"end\": 50, \"size\": 1.0}, \"marker\": {\"color\": \"dodgerblue\"}, \"x\": [2, 2, 1, 2, 3, 0, 2, 0, 4, 8, 1, 4, 1, 0, 4, 0, 1, 2, 2, 0, 1, 1, 0, 3, 0, 1, 1, 2, 2, 4, 1, 1, 0, 0, 1, 4, 1, 3, 1, 2, 0, 0, 0, 0, 1, 1, 1, 1, 0, 5], \"type\": \"histogram\"}, {\"yaxis\": \"y2\", \"cumulative\": {\"enabled\": true}, \"histnorm\": \"probability\", \"xaxis\": \"x2\", \"xbins\": {\"start\": 0, \"end\": 50, \"size\": 1.0}, \"marker\": {\"color\": \"royalblue\"}, \"x\": [2, 2, 1, 2, 3, 0, 2, 0, 4, 8, 1, 4, 1, 0, 4, 0, 1, 2, 2, 0, 1, 1, 0, 3, 0, 1, 1, 2, 2, 4, 1, 1, 0, 0, 1, 4, 1, 3, 1, 2, 0, 0, 0, 0, 1, 1, 1, 1, 0, 5], \"type\": \"histogram\"}, {\"yaxis\": \"y3\", \"xaxis\": \"x3\", \"xbins\": {\"start\": 0, \"end\": 75, \"size\": 1.0}, \"marker\": {\"color\": \"dodgerblue\"}, \"x\": [2, 0, 1, 1, 2, 0, 1, 2, 0, 1, 2, 2, 3, 5, 2, 0, 1, 0, 1, 0, 0, 0, 1, 0, 5, 2, 0, 3, 2, 2, 3, 0, 0, 0, 1, 2, 6, 2, 1, 3, 1, 1, 1, 0, 1, 1, 1, 0, 1, 1], \"type\": \"histogram\"}, {\"yaxis\": \"y4\", \"cumulative\": {\"enabled\": true}, \"histnorm\": \"probability\", \"xaxis\": \"x4\", \"xbins\": {\"start\": 0, \"end\": 75, \"size\": 1.0}, \"marker\": {\"color\": \"royalblue\"}, \"x\": [2, 0, 1, 1, 2, 0, 1, 2, 0, 1, 2, 2, 3, 5, 2, 0, 1, 0, 1, 0, 0, 0, 1, 0, 5, 2, 0, 3, 2, 2, 3, 0, 0, 0, 1, 2, 6, 2, 1, 3, 1, 1, 1, 0, 1, 1, 1, 0, 1, 1], \"type\": \"histogram\"}, {\"yaxis\": \"y5\", \"xaxis\": \"x5\", \"xbins\": {\"start\": 0, \"end\": 100, \"size\": 1.0}, \"marker\": {\"color\": \"dodgerblue\"}, \"x\": [1, 1, 2, 2, 1, 1, 1, 1, 2, 0, 1, 2, 4, 2, 1, 3, 2, 0, 4, 5, 0, 3, 2, 3, 0, 1, 0, 0, 0, 2, 0, 0, 2, 1, 1, 2, 1, 2, 2, 1, 1, 3, 1, 0, 1, 2, 0, 0, 5, 0], \"type\": \"histogram\"}, {\"yaxis\": \"y6\", \"cumulative\": {\"enabled\": true}, \"histnorm\": \"probability\", \"xaxis\": \"x6\", \"xbins\": {\"start\": 0, \"end\": 100, \"size\": 1.0}, \"marker\": {\"color\": \"royalblue\"}, \"x\": [1, 1, 2, 2, 1, 1, 1, 1, 2, 0, 1, 2, 4, 2, 1, 3, 2, 0, 4, 5, 0, 3, 2, 3, 0, 1, 0, 0, 0, 2, 0, 0, 2, 1, 1, 2, 1, 2, 2, 1, 1, 3, 1, 0, 1, 2, 0, 0, 5, 0], \"type\": \"histogram\"}], {\"yaxis1\": {\"domain\": [0.7777777777777778, 1.0], \"anchor\": \"x1\"}, \"xaxis6\": {\"domain\": [0.55, 1.0], \"anchor\": \"y6\"}, \"xaxis5\": {\"domain\": [0.0, 0.45], \"anchor\": \"y5\"}, \"xaxis4\": {\"domain\": [0.55, 1.0], \"anchor\": \"y4\"}, \"xaxis3\": {\"domain\": [0.0, 0.45], \"anchor\": \"y3\"}, \"xaxis2\": {\"domain\": [0.55, 1.0], \"anchor\": \"y2\"}, \"xaxis1\": {\"domain\": [0.0, 0.45], \"anchor\": \"y1\"}, \"height\": 1000, \"width\": 800, \"yaxis2\": {\"domain\": [0.7777777777777778, 1.0], \"anchor\": \"x2\"}, \"yaxis3\": {\"domain\": [0.3888888888888889, 0.6111111111111112], \"anchor\": \"x3\"}, \"yaxis4\": {\"domain\": [0.3888888888888889, 0.6111111111111112], \"anchor\": \"x4\"}, \"yaxis5\": {\"domain\": [0.0, 0.22222222222222224], \"anchor\": \"x5\"}, \"yaxis6\": {\"domain\": [0.0, 0.22222222222222224], \"anchor\": \"x6\"}, \"title\": \"Single vertex: shah (UA)\", \"annotations\": [{\"yanchor\": \"bottom\", \"xref\": \"paper\", \"xanchor\": \"center\", \"yref\": \"paper\", \"text\": \"50\", \"y\": 1.0, \"x\": 0.225, \"font\": {\"size\": 16}, \"showarrow\": false}, {\"yanchor\": \"bottom\", \"xref\": \"paper\", \"xanchor\": \"center\", \"yref\": \"paper\", \"text\": \"50\", \"y\": 1.0, \"x\": 0.775, \"font\": {\"size\": 16}, \"showarrow\": false}, {\"yanchor\": \"bottom\", \"xref\": \"paper\", \"xanchor\": \"center\", \"yref\": \"paper\", \"text\": \"75\", \"y\": 0.6111111111111112, \"x\": 0.225, \"font\": {\"size\": 16}, \"showarrow\": false}, {\"yanchor\": \"bottom\", \"xref\": \"paper\", \"xanchor\": \"center\", \"yref\": \"paper\", \"text\": \"75\", \"y\": 0.6111111111111112, \"x\": 0.775, \"font\": {\"size\": 16}, \"showarrow\": false}, {\"yanchor\": \"bottom\", \"xref\": \"paper\", \"xanchor\": \"center\", \"yref\": \"paper\", \"text\": \"100\", \"y\": 0.22222222222222224, \"x\": 0.225, \"font\": {\"size\": 16}, \"showarrow\": false}, {\"yanchor\": \"bottom\", \"xref\": \"paper\", \"xanchor\": \"center\", \"yref\": \"paper\", \"text\": \"100\", \"y\": 0.22222222222222224, \"x\": 0.775, \"font\": {\"size\": 16}, \"showarrow\": false}]}, {\"linkText\": \"Export to plot.ly\", \"showLink\": true})});</script>"
      ],
      "text/vnd.plotly.v1+html": [
       "<div id=\"3732153b-b055-47b8-bc21-caea32e1a791\" style=\"height: 1000px; width: 800px;\" class=\"plotly-graph-div\"></div><script type=\"text/javascript\">require([\"plotly\"], function(Plotly) { window.PLOTLYENV=window.PLOTLYENV || {};window.PLOTLYENV.BASE_URL=\"https://plot.ly\";Plotly.newPlot(\"3732153b-b055-47b8-bc21-caea32e1a791\", [{\"yaxis\": \"y1\", \"xaxis\": \"x1\", \"xbins\": {\"start\": 0, \"end\": 50, \"size\": 1.0}, \"marker\": {\"color\": \"dodgerblue\"}, \"x\": [2, 2, 1, 2, 3, 0, 2, 0, 4, 8, 1, 4, 1, 0, 4, 0, 1, 2, 2, 0, 1, 1, 0, 3, 0, 1, 1, 2, 2, 4, 1, 1, 0, 0, 1, 4, 1, 3, 1, 2, 0, 0, 0, 0, 1, 1, 1, 1, 0, 5], \"type\": \"histogram\"}, {\"yaxis\": \"y2\", \"cumulative\": {\"enabled\": true}, \"histnorm\": \"probability\", \"xaxis\": \"x2\", \"xbins\": {\"start\": 0, \"end\": 50, \"size\": 1.0}, \"marker\": {\"color\": \"royalblue\"}, \"x\": [2, 2, 1, 2, 3, 0, 2, 0, 4, 8, 1, 4, 1, 0, 4, 0, 1, 2, 2, 0, 1, 1, 0, 3, 0, 1, 1, 2, 2, 4, 1, 1, 0, 0, 1, 4, 1, 3, 1, 2, 0, 0, 0, 0, 1, 1, 1, 1, 0, 5], \"type\": \"histogram\"}, {\"yaxis\": \"y3\", \"xaxis\": \"x3\", \"xbins\": {\"start\": 0, \"end\": 75, \"size\": 1.0}, \"marker\": {\"color\": \"dodgerblue\"}, \"x\": [2, 0, 1, 1, 2, 0, 1, 2, 0, 1, 2, 2, 3, 5, 2, 0, 1, 0, 1, 0, 0, 0, 1, 0, 5, 2, 0, 3, 2, 2, 3, 0, 0, 0, 1, 2, 6, 2, 1, 3, 1, 1, 1, 0, 1, 1, 1, 0, 1, 1], \"type\": \"histogram\"}, {\"yaxis\": \"y4\", \"cumulative\": {\"enabled\": true}, \"histnorm\": \"probability\", \"xaxis\": \"x4\", \"xbins\": {\"start\": 0, \"end\": 75, \"size\": 1.0}, \"marker\": {\"color\": \"royalblue\"}, \"x\": [2, 0, 1, 1, 2, 0, 1, 2, 0, 1, 2, 2, 3, 5, 2, 0, 1, 0, 1, 0, 0, 0, 1, 0, 5, 2, 0, 3, 2, 2, 3, 0, 0, 0, 1, 2, 6, 2, 1, 3, 1, 1, 1, 0, 1, 1, 1, 0, 1, 1], \"type\": \"histogram\"}, {\"yaxis\": \"y5\", \"xaxis\": \"x5\", \"xbins\": {\"start\": 0, \"end\": 100, \"size\": 1.0}, \"marker\": {\"color\": \"dodgerblue\"}, \"x\": [1, 1, 2, 2, 1, 1, 1, 1, 2, 0, 1, 2, 4, 2, 1, 3, 2, 0, 4, 5, 0, 3, 2, 3, 0, 1, 0, 0, 0, 2, 0, 0, 2, 1, 1, 2, 1, 2, 2, 1, 1, 3, 1, 0, 1, 2, 0, 0, 5, 0], \"type\": \"histogram\"}, {\"yaxis\": \"y6\", \"cumulative\": {\"enabled\": true}, \"histnorm\": \"probability\", \"xaxis\": \"x6\", \"xbins\": {\"start\": 0, \"end\": 100, \"size\": 1.0}, \"marker\": {\"color\": \"royalblue\"}, \"x\": [1, 1, 2, 2, 1, 1, 1, 1, 2, 0, 1, 2, 4, 2, 1, 3, 2, 0, 4, 5, 0, 3, 2, 3, 0, 1, 0, 0, 0, 2, 0, 0, 2, 1, 1, 2, 1, 2, 2, 1, 1, 3, 1, 0, 1, 2, 0, 0, 5, 0], \"type\": \"histogram\"}], {\"yaxis1\": {\"domain\": [0.7777777777777778, 1.0], \"anchor\": \"x1\"}, \"xaxis6\": {\"domain\": [0.55, 1.0], \"anchor\": \"y6\"}, \"xaxis5\": {\"domain\": [0.0, 0.45], \"anchor\": \"y5\"}, \"xaxis4\": {\"domain\": [0.55, 1.0], \"anchor\": \"y4\"}, \"xaxis3\": {\"domain\": [0.0, 0.45], \"anchor\": \"y3\"}, \"xaxis2\": {\"domain\": [0.55, 1.0], \"anchor\": \"y2\"}, \"xaxis1\": {\"domain\": [0.0, 0.45], \"anchor\": \"y1\"}, \"height\": 1000, \"width\": 800, \"yaxis2\": {\"domain\": [0.7777777777777778, 1.0], \"anchor\": \"x2\"}, \"yaxis3\": {\"domain\": [0.3888888888888889, 0.6111111111111112], \"anchor\": \"x3\"}, \"yaxis4\": {\"domain\": [0.3888888888888889, 0.6111111111111112], \"anchor\": \"x4\"}, \"yaxis5\": {\"domain\": [0.0, 0.22222222222222224], \"anchor\": \"x5\"}, \"yaxis6\": {\"domain\": [0.0, 0.22222222222222224], \"anchor\": \"x6\"}, \"title\": \"Single vertex: shah (UA)\", \"annotations\": [{\"yanchor\": \"bottom\", \"xref\": \"paper\", \"xanchor\": \"center\", \"yref\": \"paper\", \"text\": \"50\", \"y\": 1.0, \"x\": 0.225, \"font\": {\"size\": 16}, \"showarrow\": false}, {\"yanchor\": \"bottom\", \"xref\": \"paper\", \"xanchor\": \"center\", \"yref\": \"paper\", \"text\": \"50\", \"y\": 1.0, \"x\": 0.775, \"font\": {\"size\": 16}, \"showarrow\": false}, {\"yanchor\": \"bottom\", \"xref\": \"paper\", \"xanchor\": \"center\", \"yref\": \"paper\", \"text\": \"75\", \"y\": 0.6111111111111112, \"x\": 0.225, \"font\": {\"size\": 16}, \"showarrow\": false}, {\"yanchor\": \"bottom\", \"xref\": \"paper\", \"xanchor\": \"center\", \"yref\": \"paper\", \"text\": \"75\", \"y\": 0.6111111111111112, \"x\": 0.775, \"font\": {\"size\": 16}, \"showarrow\": false}, {\"yanchor\": \"bottom\", \"xref\": \"paper\", \"xanchor\": \"center\", \"yref\": \"paper\", \"text\": \"100\", \"y\": 0.22222222222222224, \"x\": 0.225, \"font\": {\"size\": 16}, \"showarrow\": false}, {\"yanchor\": \"bottom\", \"xref\": \"paper\", \"xanchor\": \"center\", \"yref\": \"paper\", \"text\": \"100\", \"y\": 0.22222222222222224, \"x\": 0.775, \"font\": {\"size\": 16}, \"showarrow\": false}]}, {\"linkText\": \"Export to plot.ly\", \"showLink\": true})});</script>"
      ]
     },
     "metadata": {},
     "output_type": "display_data"
    }
   ],
   "source": [
    "fig['layout'].update(height=1000, width=800, title='Single vertex: shah (UA)')\n",
    "iplot(fig, filename='simple-subplot')"
   ]
  },
  {
   "cell_type": "markdown",
   "metadata": {},
   "source": [
    "#### Exporting results"
   ]
  },
  {
   "cell_type": "code",
   "execution_count": 21,
   "metadata": {
    "collapsed": true
   },
   "outputs": [],
   "source": [
    "pagerank_results = open('Final_shah_1v_UA_TIME.txt', 'w')\n",
    "for i in [50,75,100]:\n",
    "  print>>pagerank_results, str(i),results_sz_time_ua[str(i)]\n",
    "pagerank_results.close()"
   ]
  },
  {
   "cell_type": "code",
   "execution_count": 22,
   "metadata": {
    "collapsed": true
   },
   "outputs": [],
   "source": [
    "pagerank_results = open('Final_shah_1v_UA.txt', 'w')\n",
    "for i in [50,75,100]:\n",
    "  print>>pagerank_results, str(i),resultsSZ_ua[str(i)]\n",
    "pagerank_results.close()"
   ]
  },
  {
   "cell_type": "code",
   "execution_count": 31,
   "metadata": {
    "collapsed": true
   },
   "outputs": [],
   "source": [
    "resultsSZ_p3r={} #This dict contains all the vrtices found by the rl estimator for different graph sizes\n",
    "\n",
    "results_sz_time_p3r={}"
   ]
  },
  {
   "cell_type": "code",
   "execution_count": 32,
   "metadata": {},
   "outputs": [
    {
     "name": "stdout",
     "output_type": "stream",
     "text": [
      "50\n",
      "75\n",
      "100\n"
     ]
    }
   ],
   "source": [
    "#\n",
    "for N in [50,75,100]:\n",
    "    results_pr=[]\n",
    "    start_time=time.time()\n",
    "    for i in range(0,50):\n",
    "        p3r=areg(N)\n",
    "        L=sz(p3r) #...............\n",
    "        center=L[len(L)-1][0] \n",
    "        results_pr.append([N,center])\n",
    "    final_time= -start_time +time.time()\n",
    "    results_sz_time_p3r[str(N)]=final_time\n",
    "    \n",
    "    resultsSZ_p3r[str(N)]=[i[1] for i in results_pr]\n",
    "    print N\n",
    "   "
   ]
  },
  {
   "cell_type": "code",
   "execution_count": 42,
   "metadata": {},
   "outputs": [
    {
     "name": "stdout",
     "output_type": "stream",
     "text": [
      "This is the format of your plot grid:\n",
      "[ (1,1) x1,y1 ]  [ (1,2) x2,y2 ]\n",
      "[ (2,1) x3,y3 ]  [ (2,2) x4,y4 ]\n",
      "[ (3,1) x5,y5 ]  [ (3,2) x6,y6 ]\n",
      "\n"
     ]
    }
   ],
   "source": [
    " \n",
    "\n",
    "data_1={}\n",
    "data_2={}\n",
    "fig = tools.make_subplots(rows=3, cols=2, subplot_titles=('50', '50',\n",
    "                                                          '75', '75',\n",
    "                                                         '100','100'))\n",
    "j=0\n",
    "for i in [50,75,100]:\n",
    "    j+=1\n",
    "    \n",
    "    #SIMPLEST HISTOGRAM\n",
    "    x = resultsSZ_p3r[str(i)]\n",
    "    data_1[str(i)] = go.Histogram(x=x,\n",
    "                                  marker=dict(\n",
    "        color='dodgerblue'\n",
    "    ),\n",
    "                     xbins=dict(\n",
    "            start=0,\n",
    "            end=i,\n",
    "            size=1.\n",
    "        ))\n",
    "    fig.append_trace(data_1[str(i)], j, 1)\n",
    "    #CUMM HISTOGRAM\n",
    "    data_2[str(i)] = go.Histogram(x=x,\n",
    "                                  marker=dict(\n",
    "        color='royalblue'\n",
    "    ),\n",
    "                     xbins=dict(\n",
    "        start=0,\n",
    "        end=i,\n",
    "        size=1.\n",
    "    ),\n",
    "                     histnorm='probability',\n",
    "                     cumulative=dict(enabled=True))\n",
    "    fig.append_trace(data_2[str(i)], j, 2)\n",
    "    "
   ]
  },
  {
   "cell_type": "code",
   "execution_count": 43,
   "metadata": {},
   "outputs": [
    {
     "data": {
      "application/vnd.plotly.v1+json": {
       "data": [
        {
         "marker": {
          "color": "dodgerblue"
         },
         "type": "histogram",
         "x": [
          2,
          6,
          3,
          3,
          0,
          3,
          0,
          0,
          5,
          1,
          1,
          1,
          1,
          5,
          0,
          5,
          3,
          0,
          2,
          0,
          6,
          4,
          2,
          0,
          0,
          3,
          2,
          3,
          2,
          0,
          2,
          2,
          1,
          1,
          6,
          1,
          2,
          2,
          4,
          3,
          0,
          0,
          0,
          7,
          0,
          4,
          1,
          1,
          2,
          0
         ],
         "xaxis": "x1",
         "xbins": {
          "end": 50,
          "size": 1,
          "start": 0
         },
         "yaxis": "y1"
        },
        {
         "cumulative": {
          "enabled": true
         },
         "histnorm": "probability",
         "marker": {
          "color": "royalblue"
         },
         "type": "histogram",
         "x": [
          2,
          6,
          3,
          3,
          0,
          3,
          0,
          0,
          5,
          1,
          1,
          1,
          1,
          5,
          0,
          5,
          3,
          0,
          2,
          0,
          6,
          4,
          2,
          0,
          0,
          3,
          2,
          3,
          2,
          0,
          2,
          2,
          1,
          1,
          6,
          1,
          2,
          2,
          4,
          3,
          0,
          0,
          0,
          7,
          0,
          4,
          1,
          1,
          2,
          0
         ],
         "xaxis": "x2",
         "xbins": {
          "end": 50,
          "size": 1,
          "start": 0
         },
         "yaxis": "y2"
        },
        {
         "marker": {
          "color": "dodgerblue"
         },
         "type": "histogram",
         "x": [
          0,
          0,
          3,
          4,
          2,
          5,
          4,
          3,
          2,
          3,
          0,
          0,
          0,
          1,
          1,
          5,
          5,
          0,
          8,
          3,
          1,
          2,
          0,
          4,
          2,
          2,
          0,
          2,
          8,
          3,
          3,
          1,
          3,
          4,
          3,
          5,
          2,
          5,
          2,
          3,
          0,
          3,
          2,
          1,
          3,
          3,
          0,
          3,
          3,
          0
         ],
         "xaxis": "x3",
         "xbins": {
          "end": 75,
          "size": 1,
          "start": 0
         },
         "yaxis": "y3"
        },
        {
         "cumulative": {
          "enabled": true
         },
         "histnorm": "probability",
         "marker": {
          "color": "royalblue"
         },
         "type": "histogram",
         "x": [
          0,
          0,
          3,
          4,
          2,
          5,
          4,
          3,
          2,
          3,
          0,
          0,
          0,
          1,
          1,
          5,
          5,
          0,
          8,
          3,
          1,
          2,
          0,
          4,
          2,
          2,
          0,
          2,
          8,
          3,
          3,
          1,
          3,
          4,
          3,
          5,
          2,
          5,
          2,
          3,
          0,
          3,
          2,
          1,
          3,
          3,
          0,
          3,
          3,
          0
         ],
         "xaxis": "x4",
         "xbins": {
          "end": 75,
          "size": 1,
          "start": 0
         },
         "yaxis": "y4"
        },
        {
         "marker": {
          "color": "dodgerblue"
         },
         "type": "histogram",
         "x": [
          2,
          0,
          11,
          1,
          0,
          1,
          3,
          1,
          0,
          0,
          1,
          2,
          1,
          0,
          1,
          1,
          1,
          3,
          2,
          4,
          1,
          0,
          1,
          0,
          4,
          2,
          3,
          1,
          1,
          3,
          2,
          4,
          2,
          1,
          1,
          0,
          0,
          3,
          0,
          1,
          0,
          3,
          1,
          5,
          1,
          1,
          0,
          3,
          1,
          3
         ],
         "xaxis": "x5",
         "xbins": {
          "end": 100,
          "size": 1,
          "start": 0
         },
         "yaxis": "y5"
        },
        {
         "cumulative": {
          "enabled": true
         },
         "histnorm": "probability",
         "marker": {
          "color": "royalblue"
         },
         "type": "histogram",
         "x": [
          2,
          0,
          11,
          1,
          0,
          1,
          3,
          1,
          0,
          0,
          1,
          2,
          1,
          0,
          1,
          1,
          1,
          3,
          2,
          4,
          1,
          0,
          1,
          0,
          4,
          2,
          3,
          1,
          1,
          3,
          2,
          4,
          2,
          1,
          1,
          0,
          0,
          3,
          0,
          1,
          0,
          3,
          1,
          5,
          1,
          1,
          0,
          3,
          1,
          3
         ],
         "xaxis": "x6",
         "xbins": {
          "end": 100,
          "size": 1,
          "start": 0
         },
         "yaxis": "y6"
        }
       ],
       "layout": {
        "annotations": [
         {
          "font": {
           "size": 16
          },
          "showarrow": false,
          "text": "50",
          "x": 0.225,
          "xanchor": "center",
          "xref": "paper",
          "y": 1,
          "yanchor": "bottom",
          "yref": "paper"
         },
         {
          "font": {
           "size": 16
          },
          "showarrow": false,
          "text": "50",
          "x": 0.775,
          "xanchor": "center",
          "xref": "paper",
          "y": 1,
          "yanchor": "bottom",
          "yref": "paper"
         },
         {
          "font": {
           "size": 16
          },
          "showarrow": false,
          "text": "75",
          "x": 0.225,
          "xanchor": "center",
          "xref": "paper",
          "y": 0.6111111111111112,
          "yanchor": "bottom",
          "yref": "paper"
         },
         {
          "font": {
           "size": 16
          },
          "showarrow": false,
          "text": "75",
          "x": 0.775,
          "xanchor": "center",
          "xref": "paper",
          "y": 0.6111111111111112,
          "yanchor": "bottom",
          "yref": "paper"
         },
         {
          "font": {
           "size": 16
          },
          "showarrow": false,
          "text": "100",
          "x": 0.225,
          "xanchor": "center",
          "xref": "paper",
          "y": 0.22222222222222224,
          "yanchor": "bottom",
          "yref": "paper"
         },
         {
          "font": {
           "size": 16
          },
          "showarrow": false,
          "text": "100",
          "x": 0.775,
          "xanchor": "center",
          "xref": "paper",
          "y": 0.22222222222222224,
          "yanchor": "bottom",
          "yref": "paper"
         }
        ],
        "height": 1000,
        "title": "Single vertex: shah (P3R)",
        "width": 800,
        "xaxis1": {
         "anchor": "y1",
         "domain": [
          0,
          0.45
         ]
        },
        "xaxis2": {
         "anchor": "y2",
         "domain": [
          0.55,
          1
         ]
        },
        "xaxis3": {
         "anchor": "y3",
         "domain": [
          0,
          0.45
         ]
        },
        "xaxis4": {
         "anchor": "y4",
         "domain": [
          0.55,
          1
         ]
        },
        "xaxis5": {
         "anchor": "y5",
         "domain": [
          0,
          0.45
         ]
        },
        "xaxis6": {
         "anchor": "y6",
         "domain": [
          0.55,
          1
         ]
        },
        "yaxis1": {
         "anchor": "x1",
         "domain": [
          0.7777777777777778,
          1
         ]
        },
        "yaxis2": {
         "anchor": "x2",
         "domain": [
          0.7777777777777778,
          1
         ]
        },
        "yaxis3": {
         "anchor": "x3",
         "domain": [
          0.3888888888888889,
          0.6111111111111112
         ]
        },
        "yaxis4": {
         "anchor": "x4",
         "domain": [
          0.3888888888888889,
          0.6111111111111112
         ]
        },
        "yaxis5": {
         "anchor": "x5",
         "domain": [
          0,
          0.22222222222222224
         ]
        },
        "yaxis6": {
         "anchor": "x6",
         "domain": [
          0,
          0.22222222222222224
         ]
        }
       }
      },
      "text/html": [
       "<div id=\"2773c3a6-a404-4f78-9527-ea019ab1baae\" style=\"height: 1000px; width: 800px;\" class=\"plotly-graph-div\"></div><script type=\"text/javascript\">require([\"plotly\"], function(Plotly) { window.PLOTLYENV=window.PLOTLYENV || {};window.PLOTLYENV.BASE_URL=\"https://plot.ly\";Plotly.newPlot(\"2773c3a6-a404-4f78-9527-ea019ab1baae\", [{\"yaxis\": \"y1\", \"xaxis\": \"x1\", \"xbins\": {\"start\": 0, \"end\": 50, \"size\": 1.0}, \"marker\": {\"color\": \"dodgerblue\"}, \"x\": [2, 6, 3, 3, 0, 3, 0, 0, 5, 1, 1, 1, 1, 5, 0, 5, 3, 0, 2, 0, 6, 4, 2, 0, 0, 3, 2, 3, 2, 0, 2, 2, 1, 1, 6, 1, 2, 2, 4, 3, 0, 0, 0, 7, 0, 4, 1, 1, 2, 0], \"type\": \"histogram\"}, {\"yaxis\": \"y2\", \"cumulative\": {\"enabled\": true}, \"histnorm\": \"probability\", \"xaxis\": \"x2\", \"xbins\": {\"start\": 0, \"end\": 50, \"size\": 1.0}, \"marker\": {\"color\": \"royalblue\"}, \"x\": [2, 6, 3, 3, 0, 3, 0, 0, 5, 1, 1, 1, 1, 5, 0, 5, 3, 0, 2, 0, 6, 4, 2, 0, 0, 3, 2, 3, 2, 0, 2, 2, 1, 1, 6, 1, 2, 2, 4, 3, 0, 0, 0, 7, 0, 4, 1, 1, 2, 0], \"type\": \"histogram\"}, {\"yaxis\": \"y3\", \"xaxis\": \"x3\", \"xbins\": {\"start\": 0, \"end\": 75, \"size\": 1.0}, \"marker\": {\"color\": \"dodgerblue\"}, \"x\": [0, 0, 3, 4, 2, 5, 4, 3, 2, 3, 0, 0, 0, 1, 1, 5, 5, 0, 8, 3, 1, 2, 0, 4, 2, 2, 0, 2, 8, 3, 3, 1, 3, 4, 3, 5, 2, 5, 2, 3, 0, 3, 2, 1, 3, 3, 0, 3, 3, 0], \"type\": \"histogram\"}, {\"yaxis\": \"y4\", \"cumulative\": {\"enabled\": true}, \"histnorm\": \"probability\", \"xaxis\": \"x4\", \"xbins\": {\"start\": 0, \"end\": 75, \"size\": 1.0}, \"marker\": {\"color\": \"royalblue\"}, \"x\": [0, 0, 3, 4, 2, 5, 4, 3, 2, 3, 0, 0, 0, 1, 1, 5, 5, 0, 8, 3, 1, 2, 0, 4, 2, 2, 0, 2, 8, 3, 3, 1, 3, 4, 3, 5, 2, 5, 2, 3, 0, 3, 2, 1, 3, 3, 0, 3, 3, 0], \"type\": \"histogram\"}, {\"yaxis\": \"y5\", \"xaxis\": \"x5\", \"xbins\": {\"start\": 0, \"end\": 100, \"size\": 1.0}, \"marker\": {\"color\": \"dodgerblue\"}, \"x\": [2, 0, 11, 1, 0, 1, 3, 1, 0, 0, 1, 2, 1, 0, 1, 1, 1, 3, 2, 4, 1, 0, 1, 0, 4, 2, 3, 1, 1, 3, 2, 4, 2, 1, 1, 0, 0, 3, 0, 1, 0, 3, 1, 5, 1, 1, 0, 3, 1, 3], \"type\": \"histogram\"}, {\"yaxis\": \"y6\", \"cumulative\": {\"enabled\": true}, \"histnorm\": \"probability\", \"xaxis\": \"x6\", \"xbins\": {\"start\": 0, \"end\": 100, \"size\": 1.0}, \"marker\": {\"color\": \"royalblue\"}, \"x\": [2, 0, 11, 1, 0, 1, 3, 1, 0, 0, 1, 2, 1, 0, 1, 1, 1, 3, 2, 4, 1, 0, 1, 0, 4, 2, 3, 1, 1, 3, 2, 4, 2, 1, 1, 0, 0, 3, 0, 1, 0, 3, 1, 5, 1, 1, 0, 3, 1, 3], \"type\": \"histogram\"}], {\"yaxis1\": {\"domain\": [0.7777777777777778, 1.0], \"anchor\": \"x1\"}, \"xaxis6\": {\"domain\": [0.55, 1.0], \"anchor\": \"y6\"}, \"xaxis5\": {\"domain\": [0.0, 0.45], \"anchor\": \"y5\"}, \"xaxis4\": {\"domain\": [0.55, 1.0], \"anchor\": \"y4\"}, \"xaxis3\": {\"domain\": [0.0, 0.45], \"anchor\": \"y3\"}, \"xaxis2\": {\"domain\": [0.55, 1.0], \"anchor\": \"y2\"}, \"xaxis1\": {\"domain\": [0.0, 0.45], \"anchor\": \"y1\"}, \"height\": 1000, \"width\": 800, \"yaxis2\": {\"domain\": [0.7777777777777778, 1.0], \"anchor\": \"x2\"}, \"yaxis3\": {\"domain\": [0.3888888888888889, 0.6111111111111112], \"anchor\": \"x3\"}, \"yaxis4\": {\"domain\": [0.3888888888888889, 0.6111111111111112], \"anchor\": \"x4\"}, \"yaxis5\": {\"domain\": [0.0, 0.22222222222222224], \"anchor\": \"x5\"}, \"yaxis6\": {\"domain\": [0.0, 0.22222222222222224], \"anchor\": \"x6\"}, \"title\": \"Single vertex: shah (P3R)\", \"annotations\": [{\"yanchor\": \"bottom\", \"xref\": \"paper\", \"xanchor\": \"center\", \"yref\": \"paper\", \"text\": \"50\", \"y\": 1.0, \"x\": 0.225, \"font\": {\"size\": 16}, \"showarrow\": false}, {\"yanchor\": \"bottom\", \"xref\": \"paper\", \"xanchor\": \"center\", \"yref\": \"paper\", \"text\": \"50\", \"y\": 1.0, \"x\": 0.775, \"font\": {\"size\": 16}, \"showarrow\": false}, {\"yanchor\": \"bottom\", \"xref\": \"paper\", \"xanchor\": \"center\", \"yref\": \"paper\", \"text\": \"75\", \"y\": 0.6111111111111112, \"x\": 0.225, \"font\": {\"size\": 16}, \"showarrow\": false}, {\"yanchor\": \"bottom\", \"xref\": \"paper\", \"xanchor\": \"center\", \"yref\": \"paper\", \"text\": \"75\", \"y\": 0.6111111111111112, \"x\": 0.775, \"font\": {\"size\": 16}, \"showarrow\": false}, {\"yanchor\": \"bottom\", \"xref\": \"paper\", \"xanchor\": \"center\", \"yref\": \"paper\", \"text\": \"100\", \"y\": 0.22222222222222224, \"x\": 0.225, \"font\": {\"size\": 16}, \"showarrow\": false}, {\"yanchor\": \"bottom\", \"xref\": \"paper\", \"xanchor\": \"center\", \"yref\": \"paper\", \"text\": \"100\", \"y\": 0.22222222222222224, \"x\": 0.775, \"font\": {\"size\": 16}, \"showarrow\": false}]}, {\"linkText\": \"Export to plot.ly\", \"showLink\": true})});</script>"
      ],
      "text/vnd.plotly.v1+html": [
       "<div id=\"2773c3a6-a404-4f78-9527-ea019ab1baae\" style=\"height: 1000px; width: 800px;\" class=\"plotly-graph-div\"></div><script type=\"text/javascript\">require([\"plotly\"], function(Plotly) { window.PLOTLYENV=window.PLOTLYENV || {};window.PLOTLYENV.BASE_URL=\"https://plot.ly\";Plotly.newPlot(\"2773c3a6-a404-4f78-9527-ea019ab1baae\", [{\"yaxis\": \"y1\", \"xaxis\": \"x1\", \"xbins\": {\"start\": 0, \"end\": 50, \"size\": 1.0}, \"marker\": {\"color\": \"dodgerblue\"}, \"x\": [2, 6, 3, 3, 0, 3, 0, 0, 5, 1, 1, 1, 1, 5, 0, 5, 3, 0, 2, 0, 6, 4, 2, 0, 0, 3, 2, 3, 2, 0, 2, 2, 1, 1, 6, 1, 2, 2, 4, 3, 0, 0, 0, 7, 0, 4, 1, 1, 2, 0], \"type\": \"histogram\"}, {\"yaxis\": \"y2\", \"cumulative\": {\"enabled\": true}, \"histnorm\": \"probability\", \"xaxis\": \"x2\", \"xbins\": {\"start\": 0, \"end\": 50, \"size\": 1.0}, \"marker\": {\"color\": \"royalblue\"}, \"x\": [2, 6, 3, 3, 0, 3, 0, 0, 5, 1, 1, 1, 1, 5, 0, 5, 3, 0, 2, 0, 6, 4, 2, 0, 0, 3, 2, 3, 2, 0, 2, 2, 1, 1, 6, 1, 2, 2, 4, 3, 0, 0, 0, 7, 0, 4, 1, 1, 2, 0], \"type\": \"histogram\"}, {\"yaxis\": \"y3\", \"xaxis\": \"x3\", \"xbins\": {\"start\": 0, \"end\": 75, \"size\": 1.0}, \"marker\": {\"color\": \"dodgerblue\"}, \"x\": [0, 0, 3, 4, 2, 5, 4, 3, 2, 3, 0, 0, 0, 1, 1, 5, 5, 0, 8, 3, 1, 2, 0, 4, 2, 2, 0, 2, 8, 3, 3, 1, 3, 4, 3, 5, 2, 5, 2, 3, 0, 3, 2, 1, 3, 3, 0, 3, 3, 0], \"type\": \"histogram\"}, {\"yaxis\": \"y4\", \"cumulative\": {\"enabled\": true}, \"histnorm\": \"probability\", \"xaxis\": \"x4\", \"xbins\": {\"start\": 0, \"end\": 75, \"size\": 1.0}, \"marker\": {\"color\": \"royalblue\"}, \"x\": [0, 0, 3, 4, 2, 5, 4, 3, 2, 3, 0, 0, 0, 1, 1, 5, 5, 0, 8, 3, 1, 2, 0, 4, 2, 2, 0, 2, 8, 3, 3, 1, 3, 4, 3, 5, 2, 5, 2, 3, 0, 3, 2, 1, 3, 3, 0, 3, 3, 0], \"type\": \"histogram\"}, {\"yaxis\": \"y5\", \"xaxis\": \"x5\", \"xbins\": {\"start\": 0, \"end\": 100, \"size\": 1.0}, \"marker\": {\"color\": \"dodgerblue\"}, \"x\": [2, 0, 11, 1, 0, 1, 3, 1, 0, 0, 1, 2, 1, 0, 1, 1, 1, 3, 2, 4, 1, 0, 1, 0, 4, 2, 3, 1, 1, 3, 2, 4, 2, 1, 1, 0, 0, 3, 0, 1, 0, 3, 1, 5, 1, 1, 0, 3, 1, 3], \"type\": \"histogram\"}, {\"yaxis\": \"y6\", \"cumulative\": {\"enabled\": true}, \"histnorm\": \"probability\", \"xaxis\": \"x6\", \"xbins\": {\"start\": 0, \"end\": 100, \"size\": 1.0}, \"marker\": {\"color\": \"royalblue\"}, \"x\": [2, 0, 11, 1, 0, 1, 3, 1, 0, 0, 1, 2, 1, 0, 1, 1, 1, 3, 2, 4, 1, 0, 1, 0, 4, 2, 3, 1, 1, 3, 2, 4, 2, 1, 1, 0, 0, 3, 0, 1, 0, 3, 1, 5, 1, 1, 0, 3, 1, 3], \"type\": \"histogram\"}], {\"yaxis1\": {\"domain\": [0.7777777777777778, 1.0], \"anchor\": \"x1\"}, \"xaxis6\": {\"domain\": [0.55, 1.0], \"anchor\": \"y6\"}, \"xaxis5\": {\"domain\": [0.0, 0.45], \"anchor\": \"y5\"}, \"xaxis4\": {\"domain\": [0.55, 1.0], \"anchor\": \"y4\"}, \"xaxis3\": {\"domain\": [0.0, 0.45], \"anchor\": \"y3\"}, \"xaxis2\": {\"domain\": [0.55, 1.0], \"anchor\": \"y2\"}, \"xaxis1\": {\"domain\": [0.0, 0.45], \"anchor\": \"y1\"}, \"height\": 1000, \"width\": 800, \"yaxis2\": {\"domain\": [0.7777777777777778, 1.0], \"anchor\": \"x2\"}, \"yaxis3\": {\"domain\": [0.3888888888888889, 0.6111111111111112], \"anchor\": \"x3\"}, \"yaxis4\": {\"domain\": [0.3888888888888889, 0.6111111111111112], \"anchor\": \"x4\"}, \"yaxis5\": {\"domain\": [0.0, 0.22222222222222224], \"anchor\": \"x5\"}, \"yaxis6\": {\"domain\": [0.0, 0.22222222222222224], \"anchor\": \"x6\"}, \"title\": \"Single vertex: shah (P3R)\", \"annotations\": [{\"yanchor\": \"bottom\", \"xref\": \"paper\", \"xanchor\": \"center\", \"yref\": \"paper\", \"text\": \"50\", \"y\": 1.0, \"x\": 0.225, \"font\": {\"size\": 16}, \"showarrow\": false}, {\"yanchor\": \"bottom\", \"xref\": \"paper\", \"xanchor\": \"center\", \"yref\": \"paper\", \"text\": \"50\", \"y\": 1.0, \"x\": 0.775, \"font\": {\"size\": 16}, \"showarrow\": false}, {\"yanchor\": \"bottom\", \"xref\": \"paper\", \"xanchor\": \"center\", \"yref\": \"paper\", \"text\": \"75\", \"y\": 0.6111111111111112, \"x\": 0.225, \"font\": {\"size\": 16}, \"showarrow\": false}, {\"yanchor\": \"bottom\", \"xref\": \"paper\", \"xanchor\": \"center\", \"yref\": \"paper\", \"text\": \"75\", \"y\": 0.6111111111111112, \"x\": 0.775, \"font\": {\"size\": 16}, \"showarrow\": false}, {\"yanchor\": \"bottom\", \"xref\": \"paper\", \"xanchor\": \"center\", \"yref\": \"paper\", \"text\": \"100\", \"y\": 0.22222222222222224, \"x\": 0.225, \"font\": {\"size\": 16}, \"showarrow\": false}, {\"yanchor\": \"bottom\", \"xref\": \"paper\", \"xanchor\": \"center\", \"yref\": \"paper\", \"text\": \"100\", \"y\": 0.22222222222222224, \"x\": 0.775, \"font\": {\"size\": 16}, \"showarrow\": false}]}, {\"linkText\": \"Export to plot.ly\", \"showLink\": true})});</script>"
      ]
     },
     "metadata": {},
     "output_type": "display_data"
    }
   ],
   "source": [
    "fig['layout'].update(height=1000, width=800, title='Single vertex: shah (P3R)')\n",
    "iplot(fig, filename='simple-subplot')"
   ]
  },
  {
   "cell_type": "markdown",
   "metadata": {},
   "source": [
    "#### Exporting results"
   ]
  },
  {
   "cell_type": "code",
   "execution_count": 35,
   "metadata": {
    "collapsed": true
   },
   "outputs": [],
   "source": [
    "pagerank_results = open('Final_shah_1v_P3R.txt', 'w')\n",
    "for i in [50,75,100]:\n",
    "  print>>pagerank_results, str(i),resultsSZ_p3r[str(i)]\n",
    "pagerank_results.close()"
   ]
  },
  {
   "cell_type": "code",
   "execution_count": 36,
   "metadata": {
    "collapsed": true
   },
   "outputs": [],
   "source": [
    "pagerank_results = open('Final_shah_1v_P3R_TIME.txt', 'w')\n",
    "for i in [50,75,100]:\n",
    "  print>>pagerank_results, str(i),results_sz_time_p3r[str(i)]\n",
    "pagerank_results.close()"
   ]
  },
  {
   "cell_type": "code",
   "execution_count": null,
   "metadata": {
    "collapsed": true
   },
   "outputs": [],
   "source": []
  }
 ],
 "metadata": {
  "kernelspec": {
   "display_name": "Python 2",
   "language": "python",
   "name": "python2"
  },
  "language_info": {
   "codemirror_mode": {
    "name": "ipython",
    "version": 2
   },
   "file_extension": ".py",
   "mimetype": "text/x-python",
   "name": "python",
   "nbconvert_exporter": "python",
   "pygments_lexer": "ipython2",
   "version": "2.7.13"
  }
 },
 "nbformat": 4,
 "nbformat_minor": 2
}
