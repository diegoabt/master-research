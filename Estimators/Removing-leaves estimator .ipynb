{
 "cells": [
  {
   "cell_type": "code",
   "execution_count": 6,
   "metadata": {
    "collapsed": true
   },
   "outputs": [],
   "source": [
    "from operator import itemgetter\n",
    "\n",
    "import matplotlib.pyplot as plt\n",
    "import numpy as np\n",
    "import networkx as nx\n",
    "import random\n",
    "import operator\n",
    "\n",
    "from ipywidgets import interact"
   ]
  },
  {
   "cell_type": "markdown",
   "metadata": {},
   "source": [
    "### teaching version of the algorithm"
   ]
  },
  {
   "cell_type": "code",
   "execution_count": 5,
   "metadata": {
    "collapsed": true
   },
   "outputs": [],
   "source": [
    "def rem_plot(G):\n",
    "    Gplot=G.copy()\n",
    "    i=1\n",
    "    nx.draw(G,with_labels=True)\n",
    "    plt.show()\n",
    "    while i<2*G.number_of_edges()+1: \n",
    "        \n",
    "        L=sorted(G.degree,key=itemgetter(1))\n",
    "        print L\n",
    "        min_grau=L[0][1]\n",
    "        print min_grau\n",
    "        equal_vtx= [item[0] for item in L if item[1]==min_grau]\n",
    "        min_ver=random.choice(equal_vtx)\n",
    "        print equal_vtx\n",
    "        print 'min vert', min_ver\n",
    "        if L[0][1]==1:\n",
    "            G.remove_node(min_ver)\n",
    "            \n",
    "        else:\n",
    "            edges_min_ver=G.edges(min_ver)\n",
    "            a=random.choice(list(edges_min_ver))\n",
    "            print 'grados',L\n",
    "            print 'vertice selecc',min_ver\n",
    "            print edges_min_ver\n",
    "            print a\n",
    "            print 'aristas',G.edges()\n",
    "            G.remove_edge(a[0],a[1])\n",
    "            print 'grafo resultante',G.edges()\n",
    "            print '------'\n",
    "            i=i+1\n",
    "        nx.draw(G,with_labels=True)\n",
    "        plt.show()\n",
    "    print i,G.number_of_edges(),G.nodes()\n",
    "    if G.number_of_nodes()==1:\n",
    "        s=list(G.nodes())\n",
    "        print 'vertice seleccionado (unico)',s\n",
    "    else:\n",
    "        s=random.choice(list(G.nodes))\n",
    "        print 'vertice seleccionado',s\n",
    "    colors=['r']*Gplot.number_of_nodes()\n",
    "    node_list=list(Gplot.nodes())\n",
    "    j=node_list.index(s[0])\n",
    "    colors[j]='#6495ed'\n",
    "    pos = nx.spring_layout(Gplot)\n",
    "    nx.draw(Gplot,pos,node_color=colors,with_labels=True,alpha=.4, linewidths=0)\n",
    "    plt.axis('off')\n",
    "    plt.show()"
   ]
  },
  {
   "cell_type": "markdown",
   "metadata": {},
   "source": [
    "### for simulations"
   ]
  },
  {
   "cell_type": "code",
   "execution_count": 2,
   "metadata": {
    "collapsed": true
   },
   "outputs": [],
   "source": [
    "def rem(G):\n",
    "    #Gplot=G.copy()\n",
    "    i=1\n",
    "    while i<2*G.number_of_edges()+1: #+ cuanto? misterio\n",
    "        L=sorted(G.degree,key=itemgetter(1))\n",
    "        min_grau=L[0][1]\n",
    "        equal_vtx= [item[0] for item in L if item[1]==min_grau]\n",
    "        min_ver=random.choice(equal_vtx)\n",
    "        if L[0][1]==1:\n",
    "            G.remove_node(min_ver) \n",
    "        else:##############################################################\n",
    "            edges_min_ver=G.edges(min_ver)\n",
    "            a=random.choice(list(edges_min_ver))\n",
    "            G.remove_edge(a[0],a[1])\n",
    "            i=i+1\n",
    "    if G.number_of_nodes()==1:\n",
    "        s=list(G.nodes())\n",
    "        #print 'vertice seleccionado (unico)',s\n",
    "    else:##################################################################\n",
    "        s=random.choice(list(G.nodes))\n",
    "        #print 'vertice seleccionado',s\n",
    "    #colors=['r']*Gplot.number_of_nodes()\n",
    "    #node_list=list(Gplot.nodes())\n",
    "    #j=node_list.index(s[0])\n",
    "    #colors[j]='#6495ed'\n",
    "    #pos = nx.spring_layout(Gplot)\n",
    "    #nx.draw(Gplot,pos,node_color=colors,with_labels=True,alpha=.4, linewidths=0)\n",
    "    #plt.axis('off')\n",
    "    #plt.show()\n",
    "    return s[0]"
   ]
  },
  {
   "cell_type": "markdown",
   "metadata": {},
   "source": [
    "#### for simulations: version2"
   ]
  },
  {
   "cell_type": "code",
   "execution_count": 28,
   "metadata": {
    "collapsed": true
   },
   "outputs": [],
   "source": [
    "def rem2(G):\n",
    "    \n",
    "    n=G.number_of_nodes()\n",
    "    graph_nodes=list(G.nodes())\n",
    "    graph_dict={}\n",
    "    graph={}\n",
    "    for i in graph_nodes:\n",
    "        graph_dict[str(i)]={}\n",
    "        graph[str(i)]=G.degree(i)\n",
    "        graph_dict[str(i)]=list(G.neighbors(i))\n",
    "    while n>1:\n",
    "        leaves=[int(i) for i in graph if graph[i]==1]\n",
    "        #print 'leaves',leaves\n",
    "        index=random.choice(range(len(leaves)))\n",
    "        #print 'index',index,'node',leaves[index]\n",
    "        graph[str(leaves[index])]=0\n",
    "        #print 'neig',graph_dict[str(leaves[index])]\n",
    "        for j in graph_dict[str(leaves[index])]:\n",
    "            graph[str(j)]=graph[str(j)]-1\n",
    "        #print graph\n",
    "        n=n-1\n",
    "    #print 'last leaves',leaves\n",
    "    finalvertx=random.choice(leaves)\n",
    "    #print finalvertx\n",
    "    return finalvertx"
   ]
  },
  {
   "cell_type": "markdown",
   "metadata": {},
   "source": [
    "ba=nx.barabasi_albert_graph(10,1)"
   ]
  },
  {
   "cell_type": "markdown",
   "metadata": {},
   "source": [
    "nx.draw(ba,with_labels=True)\n",
    "plt.show()"
   ]
  },
  {
   "cell_type": "markdown",
   "metadata": {},
   "source": [
    "rl=rem2(ba)"
   ]
  },
  {
   "cell_type": "markdown",
   "metadata": {},
   "source": [
    "## confidence sets\n",
    "\n",
    "The following algorithm looks for Adam and one it finds it, it counts the number of remaining vertices in the tree. "
   ]
  },
  {
   "cell_type": "code",
   "execution_count": 4,
   "metadata": {
    "collapsed": true
   },
   "outputs": [],
   "source": [
    "def rem_cs(G): #Confidence sets\n",
    "    Gplot=G.copy()\n",
    "    i=1\n",
    "    rem=0\n",
    "    while i<2*G.number_of_edges()+1:\n",
    "        L=sorted(G.degree,key=itemgetter(1))\n",
    "        min_grau=L[0][1]\n",
    "        equal_vtx= [item[0] for item in L if item[1]==min_grau]\n",
    "        min_ver=random.choice(equal_vtx)\n",
    "        \n",
    "        if L[0][1]==1:\n",
    "            if min_ver==0:\n",
    "                rem=G.number_of_nodes()-1 #remaining vrtx\n",
    "                #print 'Adam. N of remaining vrtx=',rem\n",
    "            G.remove_node(min_ver) \n",
    "        else:\n",
    "            edges_min_ver=G.edges(min_ver)\n",
    "            a=random.choice(list(edges_min_ver))\n",
    "            G.remove_edge(a[0],a[1])\n",
    "            i=i+1 #tal vez en grafos mas generales el contador se este moviendo dos veces. \n",
    "                  #una para i y la otra para edges\n",
    "    if G.number_of_nodes()==1:\n",
    "        s=list(G.nodes())\n",
    "        #print 'vertice seleccionado (unico)',s\n",
    "    else:\n",
    "        s=random.choice(list(G.nodes))\n",
    "        #print 'vertice seleccionado',s\n",
    "    colors=['r']*Gplot.number_of_nodes()\n",
    "    node_list=list(Gplot.nodes())\n",
    "    j=node_list.index(s[0])\n",
    "    colors[j]='#6495ed'\n",
    "    pos = nx.spring_layout(Gplot)\n",
    "    #nx.draw(Gplot,pos,node_color=colors,with_labels=True,alpha=.4, linewidths=0)\n",
    "    #plt.axis('off')\n",
    "    #plt.show()\n",
    "    #print s\n",
    "    return s[0],rem"
   ]
  },
  {
   "cell_type": "markdown",
   "metadata": {},
   "source": [
    "Version 2.0 (not ordering the graph)"
   ]
  },
  {
   "cell_type": "code",
   "execution_count": 23,
   "metadata": {
    "collapsed": true
   },
   "outputs": [],
   "source": [
    "def rem_cs2(G):\n",
    "    \n",
    "    n=G.number_of_nodes()\n",
    "    graph_nodes=list(G.nodes())\n",
    "    graph_dict={}\n",
    "    graph={}\n",
    "    for i in graph_nodes:\n",
    "        graph_dict[str(i)]={}\n",
    "        graph[str(i)]=G.degree(i)\n",
    "        graph_dict[str(i)]=list(G.neighbors(i))\n",
    "    while n>1:\n",
    "        leaves=[int(i) for i in graph if graph[i]==1]\n",
    "        #print 'leaves',leaves\n",
    "        index=random.choice(range(len(leaves)))\n",
    "        #print 'index',index,'node',leaves[index]\n",
    "        if leaves[index]==0:\n",
    "            #print 'Adam!',n,'vertices remaining including Adam'\n",
    "            break\n",
    "        else:\n",
    "            graph[str(leaves[index])]=0\n",
    "        #print 'neig',graph_dict[str(leaves[index])]\n",
    "        for j in graph_dict[str(leaves[index])]:\n",
    "            graph[str(j)]=graph[str(j)]-1\n",
    "        #print graph\n",
    "        n=n-1\n",
    "    #print 'n='\n",
    "    #if n==1:\n",
    "        #print 'Adam is the last vrtx choosen'\n",
    "        \n",
    "    return n"
   ]
  },
  {
   "cell_type": "code",
   "execution_count": 25,
   "metadata": {
    "collapsed": true
   },
   "outputs": [],
   "source": [
    "#pagerank_c = nx.pagerank(ba)\n",
    "#eigenvector_c = nx.eigenvector_centrality(ba)\n",
    "#betweenness_c = nx.betweenness_centrality(ba)"
   ]
  },
  {
   "cell_type": "code",
   "execution_count": null,
   "metadata": {
    "collapsed": true
   },
   "outputs": [],
   "source": []
  }
 ],
 "metadata": {
  "kernelspec": {
   "display_name": "Python 2",
   "language": "python",
   "name": "python2"
  },
  "language_info": {
   "codemirror_mode": {
    "name": "ipython",
    "version": 2
   },
   "file_extension": ".py",
   "mimetype": "text/x-python",
   "name": "python",
   "nbconvert_exporter": "python",
   "pygments_lexer": "ipython2",
   "version": "2.7.13"
  }
 },
 "nbformat": 4,
 "nbformat_minor": 2
}
