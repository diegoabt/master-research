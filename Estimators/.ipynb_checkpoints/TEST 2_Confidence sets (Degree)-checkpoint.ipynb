{
 "cells": [
  {
   "cell_type": "markdown",
   "metadata": {},
   "source": [
    "Falta por explicar:\n",
    "- Para que se usaron las probabilidades"
   ]
  },
  {
   "cell_type": "markdown",
   "metadata": {},
   "source": [
    "# TEST 2: Confidence Sets\n",
    "## Degree Estimator\n",
    "\n",
    "In this notebook we do many simulations in order to find possible confidence sets for the degree estimator. In order to fully undertand this material, I suggest to read the thesis first (which is in another folder)."
   ]
  },
  {
   "cell_type": "markdown",
   "metadata": {},
   "source": [
    "First, we run the notebooks that contain the scripts of the mentioned estimator and the random trees that we are going to use."
   ]
  },
  {
   "cell_type": "code",
   "execution_count": 21,
   "metadata": {
    "collapsed": true
   },
   "outputs": [],
   "source": [
    "#%run 'Removing-leaves estimator .ipynb'\n",
    "%run 'Estimators in their lasts versions.ipynb'\n",
    "%run '/home/diego/Dropbox/Tesis/Modelos/UA model.ipynb'\n",
    "%run '/home/diego/Dropbox/Tesis/Modelos/Shah Tree.ipynb'\n"
   ]
  },
  {
   "cell_type": "markdown",
   "metadata": {},
   "source": [
    "Now, we import the libraries."
   ]
  },
  {
   "cell_type": "code",
   "execution_count": 22,
   "metadata": {},
   "outputs": [
    {
     "name": "stdout",
     "output_type": "stream",
     "text": [
      "2.2.2\n"
     ]
    },
    {
     "data": {
      "text/html": [
       "<script>requirejs.config({paths: { 'plotly': ['https://cdn.plot.ly/plotly-latest.min']},});if(!window.Plotly) {{require(['plotly'],function(plotly) {window.Plotly=plotly;});}}</script>"
      ],
      "text/vnd.plotly.v1+html": [
       "<script>requirejs.config({paths: { 'plotly': ['https://cdn.plot.ly/plotly-latest.min']},});if(!window.Plotly) {{require(['plotly'],function(plotly) {window.Plotly=plotly;});}}</script>"
      ]
     },
     "metadata": {},
     "output_type": "display_data"
    }
   ],
   "source": [
    "import time\n",
    "import networkx as nx\n",
    "import powerlaw\n",
    "import plotly.plotly as py\n",
    "import plotly.graph_objs as go\n",
    "import numpy as np\n",
    "from plotly import tools\n",
    "from plotly import __version__\n",
    "from plotly.offline import download_plotlyjs, init_notebook_mode, plot,iplot\n",
    "import plotly.figure_factory as ff\n",
    "print (__version__) # requires version >= 1.9.0\n",
    "\n",
    "#Always run this the command before at the start of notebook\n",
    "init_notebook_mode(connected=True)\n",
    "import plotly.graph_objs as go"
   ]
  },
  {
   "cell_type": "markdown",
   "metadata": {},
   "source": [
    "We define the dictionaries where we will storage the important data. \n",
    "\n",
    "In this case we test our estimator for the Barabási-Albert model."
   ]
  },
  {
   "cell_type": "code",
   "execution_count": 3,
   "metadata": {
    "collapsed": true
   },
   "outputs": [],
   "source": [
    "resultsDG_ba_cs={} #This dict contains all the vrtices found by the degree estimator for different graph sizes\n",
    "results_dg_time_ba_cs={}\n",
    "size_dg_ba={} #This dict contains the size of the set of the remaining vertices"
   ]
  },
  {
   "cell_type": "code",
   "execution_count": 49,
   "metadata": {},
   "outputs": [
    {
     "name": "stdout",
     "output_type": "stream",
     "text": [
      "i!= 12\n",
      "100\n"
     ]
    }
   ],
   "source": [
    "prob=.8\n",
    "for N in [100,200,500,1000,1500,2000]: #N is the size of the tree\n",
    "    results_dg=[]\n",
    "    start_time=time.time()\n",
    "    for i in range(0,500): #We did 500 simulations for this case\n",
    "        ba=nx.barabasi_albert_graph(N,1) #Here we generate the BA graph\n",
    "        dg=nx.degree_centrality(ba) #Now, we compute the degree centrality of the vertices of ba\n",
    "        dg_new=mixer_dg(dg) #We re arrange the vertices (they sort by label)\n",
    "        \n",
    "        cs_size=confset_dc(dg_new)#CHANGE THIS FOR EACH TEST!\n",
    "        results_dg.append([N,cs_size]) #AND THIS!\n",
    "        \n",
    "    final_time= -start_time +time.time()\n",
    "    results_dg_time_ba_cs[str(N)]=final_time #AND THIS\n",
    "    #### Saving the sizes of the confidence sets for each graph size \n",
    "    resultsDG_ba_cs[str(N)]=[i[1] for i in results_dg] #AND THIS\n",
    "    #### Numpy for the histograms\n",
    "    bins = np.arange(0,N)\n",
    "    values, base = np.histogram(resultsDG_ba_cs[str(N)], bins=bins, density=1) #AND THIS\n",
    "    #Looking for the right amount of vertices\n",
    "    for i in range(1,N):\n",
    "        S=np.sum(values[:i])\n",
    "    \n",
    "        if S>prob:\n",
    "            print 'i!=',i\n",
    "            size_dg_ba[str(N)]=i\n",
    "            break\n",
    "    \n",
    "    print N\n"
   ]
  },
  {
   "cell_type": "markdown",
   "metadata": {},
   "source": [
    "In this case we test our estimator for the Uniform Attachment model."
   ]
  },
  {
   "cell_type": "code",
   "execution_count": 4,
   "metadata": {
    "collapsed": true
   },
   "outputs": [],
   "source": [
    "resultsDG_ua_cs={} #This dict contains all the vertices found by the degree estimator for different graph sizes\n",
    "results_dg_time_ua_cs={}\n",
    "size_dg_ua={} #This dict contains the size of the set of the remaining vertices"
   ]
  },
  {
   "cell_type": "code",
   "execution_count": null,
   "metadata": {
    "collapsed": true
   },
   "outputs": [],
   "source": [
    "prob=.8\n",
    "for N in [100,200,500,1000,1500,2000]: #N is the size of the tree\n",
    "    results_dg=[]\n",
    "    start_time=time.time()\n",
    "    for i in range(0,500): #We did 500 simulations for this case\n",
    "        ua=unif_tree(N) #Here we generate the UA graph\n",
    "        dg=nx.degree_centrality(ua) #Now, we compute the degree centrality of the vertices of ua\n",
    "        dg_new=mixer_dg(dg) #We re arrange the vertices (they sort by label)\n",
    "        cs_size=confset_dc(dg_new) #CHANGE THIS FOR EACH EST!\n",
    "        results_dg.append([N,cs_size]) #AND THIS!\n",
    "        \n",
    "    final_time= -start_time +time.time()\n",
    "    results_dg_time_ua_cs[str(N)]=final_time #AND THIS\n",
    "    #### Saving the sizes of the confidence sets for each graph size \n",
    "    resultsDG_ua_cs[str(N)]=[i[1] for i in results_dg] #AND THIS\n",
    "    #### Numpy for the histograms\n",
    "    bins = np.arange(0,N)\n",
    "    values, base = np.histogram(resultsDG_ua_cs[str(N)], bins=bins, density=1) #AND THIS\n",
    "    #Looking for the right amount of vertices\n",
    "    for i in range(1,N):\n",
    "        S=np.sum(values[:i])\n",
    "    \n",
    "        if S>prob:\n",
    "            print 'i!=',i\n",
    "            size_dg_ua[str(N)]=i\n",
    "            break\n",
    "    \n",
    "    print N\n"
   ]
  },
  {
   "cell_type": "markdown",
   "metadata": {},
   "source": [
    "In this case we test our estimator for the Pseudo-3-Regular model."
   ]
  },
  {
   "cell_type": "code",
   "execution_count": 5,
   "metadata": {
    "collapsed": true
   },
   "outputs": [],
   "source": [
    "resultsDG_p3r_cs={} #This dict contains all the vrtices found by the rl estimator for different graph sizes\n",
    "results_dg_time_p3r_cs={}\n",
    "size_dg_p3r={} #This dict contains the size of the set of the remaining vertices"
   ]
  },
  {
   "cell_type": "code",
   "execution_count": 52,
   "metadata": {},
   "outputs": [
    {
     "name": "stdout",
     "output_type": "stream",
     "text": [
      "i!= 28\n",
      "100\n",
      "i!= 57\n",
      "200\n",
      "i!= 137\n",
      "500\n",
      "i!= 271\n",
      "1000\n",
      "i!= 396\n",
      "1500\n",
      "i!= 537\n",
      "2000\n"
     ]
    }
   ],
   "source": [
    "prob=.8\n",
    "for N in [100,200,500,1000,1500,2000]: #N is the size of the tree\n",
    "    results_dg=[]\n",
    "    start_time=time.time()\n",
    "    for i in range(0,500): #We did 500 simulations for this case\n",
    "        p3r=areg(N) #Here we generate the P3R graph\n",
    "        dg=nx.degree_centrality(p3r) #Now, we compute the degree centrality of the vertices of p3r\n",
    "        dg_new=mixer_dg(dg) #We re arrange the vertices (they sort by label)\n",
    "        cs_size=confset_dc(dg_new) #CHANGE THIS FOR EACH EST!\n",
    "        results_dg.append([N,cs_size]) #AND THIS!\n",
    "        \n",
    "    final_time= -start_time +time.time()\n",
    "    results_dg_time_p3r_cs[str(N)]=final_time #AND THIS\n",
    "    #### Saving the sizes of the confidence sets for each graph size \n",
    "    resultsDG_p3r_cs[str(N)]=[i[1] for i in results_dg] #AND THIS\n",
    "    #### Numpy for the histograms\n",
    "    bins = np.arange(0,N)\n",
    "    values, base = np.histogram(resultsDG_p3r_cs[str(N)], bins=bins, density=1) #AND THIS\n",
    "    #Looking for the right amount of vertic\n",
    "    for i in range(1,N):\n",
    "        S=np.sum(values[:i])\n",
    "    \n",
    "        if S>prob:\n",
    "            print 'i!=',i\n",
    "            size_dg_p3r[str(N)]=i\n",
    "            break\n",
    "    \n",
    "    print N\n"
   ]
  },
  {
   "cell_type": "markdown",
   "metadata": {},
   "source": [
    "Now, we print the dictionary that contains the size of the set of the remaining vertices after finding the source. "
   ]
  },
  {
   "cell_type": "code",
   "execution_count": 53,
   "metadata": {},
   "outputs": [
    {
     "name": "stdout",
     "output_type": "stream",
     "text": [
      "{'200': [41, 64, 46, 60, 36, 9, 53, 44, 46, 42, 48, 46, 45, 36, 18, 42, 51, 8, 42, 125, 44, 32, 28, 56, 60, 110, 61, 19, 1, 35, 36, 46, 50, 61, 18, 39, 14, 7, 53, 27, 39, 23, 63, 53, 44, 6, 3, 23, 8, 16, 41, 4, 56, 8, 12, 64, 38, 1, 29, 61, 52, 4, 4, 24, 58, 45, 17, 65, 11, 28, 38, 55, 47, 25, 52, 11, 56, 40, 26, 62, 52, 61, 8, 8, 31, 39, 6, 27, 31, 29, 35, 13, 69, 30, 57, 16, 23, 30, 129, 10, 101, 26, 13, 16, 18, 29, 31, 88, 7, 65, 17, 18, 17, 17, 62, 44, 13, 32, 26, 33, 37, 48, 32, 29, 27, 43, 53, 45, 33, 22, 21, 30, 37, 21, 32, 123, 26, 3, 52, 52, 75, 57, 56, 69, 27, 38, 3, 29, 5, 20, 26, 37, 61, 62, 64, 69, 45, 44, 50, 53, 36, 60, 35, 31, 2, 44, 58, 10, 83, 6, 43, 51, 1, 21, 16, 54, 73, 56, 18, 50, 47, 12, 1, 2, 9, 17, 34, 5, 53, 51, 14, 34, 19, 25, 55, 5, 64, 69, 36, 34, 66, 9, 52, 2, 14, 17, 53, 40, 13, 17, 9, 19, 63, 51, 53, 12, 6, 65, 8, 76, 38, 40, 38, 27, 64, 9, 34, 47, 49, 5, 2, 40, 93, 39, 66, 25, 15, 18, 39, 114, 54, 45, 7, 40, 41, 60, 63, 59, 61, 35, 46, 21, 49, 41, 35, 21, 52, 15, 17, 62, 10, 59, 51, 13, 63, 59, 19, 24, 36, 7, 52, 10, 33, 50, 34, 19, 8, 23, 51, 40, 45, 20, 50, 4, 59, 24, 38, 40, 28, 36, 53, 33, 42, 48, 10, 13, 46, 65, 20, 7, 20, 80, 29, 33, 4, 63, 58, 32, 54, 18, 44, 38, 22, 44, 23, 25, 4, 18, 57, 58, 47, 48, 48, 8, 44, 62, 46, 36, 54, 9, 9, 7, 33, 33, 52, 34, 52, 31, 9, 32, 42, 41, 41, 16, 12, 61, 7, 49, 53, 34, 13, 13, 43, 58, 39, 19, 4, 19, 44, 57, 40, 34, 3, 38, 51, 11, 15, 3, 39, 23, 54, 34, 47, 1, 60, 60, 28, 51, 3, 53, 2, 33, 26, 46, 45, 70, 125, 56, 58, 114, 20, 39, 12, 6, 32, 34, 120, 33, 48, 26, 10, 30, 2, 46, 30, 120, 60, 5, 34, 1, 15, 61, 22, 3, 31, 45, 43, 9, 12, 40, 1, 4, 8, 59, 21, 11, 15, 58, 64, 25, 48, 29, 40, 38, 52, 26, 20, 25, 63, 70, 4, 19, 10, 60, 10, 52, 16, 60, 125, 40, 39, 62, 44, 51, 57, 66, 2, 2, 23, 41, 48, 16, 118, 68, 4, 54, 16, 54, 44, 26, 8, 67, 33, 66, 18, 46, 26, 43, 54, 33, 130, 37, 41, 50, 57, 5, 9, 56, 96, 20, 61, 116, 55, 53, 35, 41, 23, 58, 45, 26], '1500': [447, 354, 157, 34, 43, 189, 253, 257, 180, 356, 363, 453, 135, 464, 212, 70, 441, 272, 178, 77, 106, 475, 396, 130, 664, 207, 200, 150, 416, 63, 323, 151, 161, 122, 27, 305, 455, 2, 83, 271, 247, 327, 84, 91, 187, 296, 119, 76, 220, 382, 54, 216, 394, 297, 340, 200, 200, 454, 120, 284, 191, 332, 275, 476, 38, 345, 324, 341, 16, 460, 3, 9, 61, 267, 80, 97, 296, 374, 136, 470, 220, 114, 433, 245, 321, 253, 465, 326, 349, 333, 353, 263, 179, 37, 121, 459, 136, 177, 186, 142, 195, 353, 266, 135, 448, 379, 445, 323, 451, 279, 98, 443, 316, 380, 69, 108, 130, 95, 377, 395, 495, 233, 435, 444, 254, 498, 246, 78, 271, 371, 9, 78, 226, 174, 9, 258, 485, 73, 265, 366, 414, 303, 101, 3, 160, 169, 187, 177, 148, 264, 72, 475, 276, 206, 93, 357, 180, 393, 299, 451, 81, 178, 285, 370, 114, 7, 364, 176, 457, 198, 345, 297, 372, 190, 436, 386, 290, 165, 299, 331, 252, 97, 196, 414, 293, 373, 285, 273, 411, 93, 272, 358, 103, 380, 34, 222, 190, 79, 85, 405, 332, 43, 357, 50, 187, 235, 404, 94, 382, 345, 489, 66, 298, 29, 315, 113, 284, 377, 437, 470, 250, 192, 245, 300, 1, 257, 62, 281, 351, 66, 349, 8, 44, 409, 410, 168, 283, 261, 318, 454, 209, 238, 298, 50, 288, 474, 76, 116, 422, 1, 454, 186, 133, 128, 189, 45, 155, 288, 290, 391, 335, 449, 443, 75, 156, 417, 422, 95, 12, 322, 372, 468, 35, 83, 383, 214, 439, 123, 144, 306, 461, 401, 149, 139, 244, 18, 477, 33, 456, 306, 395, 139, 108, 309, 77, 305, 242, 16, 325, 301, 60, 30, 480, 198, 385, 430, 124, 125, 102, 351, 372, 298, 103, 285, 481, 393, 299, 607, 13, 142, 294, 116, 307, 130, 427, 71, 182, 287, 355, 87, 420, 35, 122, 306, 207, 396, 128, 255, 82, 271, 202, 223, 260, 130, 119, 94, 283, 375, 154, 81, 215, 198, 231, 463, 124, 380, 348, 184, 371, 14, 12, 447, 348, 418, 63, 115, 115, 425, 221, 177, 182, 43, 207, 469, 223, 48, 274, 33, 396, 186, 331, 440, 67, 473, 327, 177, 157, 21, 399, 15, 156, 14, 111, 48, 442, 82, 190, 206, 471, 35, 497, 270, 391, 156, 491, 239, 175, 25, 435, 404, 7, 187, 50, 478, 312, 270, 413, 464, 408, 489, 357, 325, 269, 458, 243, 123, 87, 141, 152, 143, 232, 491, 143, 455, 136, 415, 123, 148, 223, 462, 199, 15, 447, 31, 161, 109, 171, 94, 106, 117, 427, 333, 2, 259, 444, 487, 137, 49, 378, 279, 159, 264, 304, 84, 385, 20, 51, 411, 398, 47, 181, 324, 266, 212, 32, 306, 508, 450, 454, 327, 99, 149, 46, 402, 63, 119, 103, 462, 308, 486, 106, 307, 318, 276, 29, 398, 48, 233, 367, 108], '2000': [651, 94, 135, 293, 594, 619, 543, 378, 514, 447, 435, 581, 524, 228, 153, 343, 580, 45, 602, 246, 585, 148, 85, 624, 217, 627, 229, 281, 415, 56, 511, 291, 153, 609, 255, 493, 89, 315, 671, 458, 58, 4, 56, 191, 494, 223, 567, 339, 160, 614, 92, 52, 566, 498, 314, 349, 659, 33, 535, 31, 106, 569, 303, 175, 66, 51, 129, 547, 454, 149, 52, 35, 657, 332, 160, 379, 155, 192, 611, 642, 130, 250, 367, 572, 355, 646, 605, 227, 124, 311, 15, 228, 355, 574, 596, 563, 237, 654, 611, 182, 92, 390, 293, 52, 89, 483, 445, 218, 77, 73, 227, 481, 286, 88, 388, 260, 542, 486, 504, 552, 251, 215, 236, 133, 427, 20, 572, 419, 348, 499, 56, 535, 53, 399, 210, 1, 582, 388, 421, 267, 452, 378, 75, 976, 519, 81, 443, 338, 182, 90, 435, 73, 409, 382, 266, 560, 569, 310, 305, 523, 47, 589, 96, 300, 177, 502, 582, 123, 6, 351, 430, 497, 358, 206, 401, 364, 536, 132, 580, 430, 260, 6, 221, 506, 156, 596, 605, 256, 137, 244, 422, 508, 97, 644, 400, 621, 186, 113, 392, 82, 256, 669, 337, 71, 409, 615, 1133, 1, 291, 62, 48, 433, 82, 85, 338, 334, 361, 400, 269, 511, 162, 40, 371, 25, 517, 635, 230, 170, 25, 269, 562, 381, 392, 113, 535, 436, 547, 102, 476, 63, 348, 339, 290, 544, 261, 206, 440, 257, 256, 254, 339, 274, 47, 377, 522, 151, 62, 26, 514, 152, 313, 274, 156, 242, 579, 443, 175, 69, 267, 579, 488, 354, 664, 131, 472, 114, 594, 526, 17, 385, 481, 229, 554, 527, 190, 285, 256, 633, 260, 231, 162, 99, 145, 313, 167, 387, 398, 500, 474, 338, 487, 104, 367, 172, 84, 490, 131, 28, 83, 64, 466, 347, 347, 538, 554, 334, 640, 339, 573, 238, 596, 643, 443, 90, 637, 199, 203, 524, 431, 15, 457, 451, 213, 213, 234, 345, 286, 39, 270, 12, 9, 608, 500, 372, 467, 603, 479, 644, 74, 258, 464, 344, 524, 387, 68, 547, 50, 177, 284, 294, 466, 587, 551, 425, 542, 367, 84, 456, 269, 390, 226, 315, 317, 284, 381, 574, 332, 104, 441, 337, 256, 111, 670, 383, 51, 110, 293, 80, 434, 418, 174, 626, 98, 552, 205, 549, 635, 61, 293, 458, 676, 236, 113, 38, 668, 173, 420, 399, 299, 316, 227, 636, 218, 490, 3, 152, 313, 180, 559, 555, 279, 408, 79, 554, 593, 543, 172, 368, 6, 75, 328, 587, 159, 294, 471, 294, 547, 212, 82, 326, 192, 658, 246, 184, 182, 490, 160, 614, 572, 310, 528, 480, 295, 627, 6, 49, 315, 554, 7, 340, 622, 337, 242, 603, 75, 8, 247, 405, 249, 474, 465, 176, 581, 519, 665, 372, 525, 452, 503, 180, 395, 200, 34, 70, 414, 223, 221, 446, 618, 633, 664, 513, 40, 452, 441, 409, 44, 548, 75, 118], '100': [7, 24, 5, 26, 19, 21, 33, 20, 7, 29, 15, 30, 31, 29, 17, 1, 1, 19, 10, 18, 12, 7, 3, 17, 31, 11, 25, 21, 3, 21, 7, 2, 32, 21, 2, 13, 8, 11, 1, 11, 4, 27, 2, 10, 9, 23, 28, 4, 21, 11, 22, 7, 24, 4, 24, 10, 22, 17, 31, 26, 12, 14, 29, 31, 3, 6, 1, 12, 26, 23, 23, 11, 14, 6, 2, 2, 19, 30, 29, 16, 26, 10, 18, 22, 15, 7, 3, 12, 30, 24, 30, 31, 4, 17, 22, 7, 64, 16, 23, 13, 15, 1, 26, 8, 3, 12, 6, 25, 24, 7, 19, 24, 17, 13, 4, 16, 1, 29, 18, 9, 10, 1, 2, 23, 14, 17, 23, 1, 21, 10, 1, 15, 40, 10, 16, 27, 33, 18, 23, 17, 19, 2, 21, 18, 20, 8, 5, 58, 12, 27, 17, 23, 13, 3, 20, 26, 9, 12, 4, 11, 3, 15, 31, 21, 27, 11, 70, 19, 31, 5, 40, 29, 18, 38, 21, 5, 4, 25, 28, 25, 15, 25, 1, 13, 33, 20, 30, 17, 5, 13, 25, 57, 14, 8, 15, 31, 26, 12, 17, 10, 6, 22, 17, 24, 12, 31, 32, 32, 23, 8, 30, 17, 19, 27, 2, 21, 3, 4, 7, 22, 30, 16, 36, 14, 46, 26, 9, 29, 24, 8, 17, 2, 26, 27, 1, 29, 30, 7, 28, 8, 11, 41, 15, 7, 8, 21, 33, 26, 4, 13, 11, 10, 9, 22, 21, 24, 7, 8, 9, 9, 33, 31, 20, 5, 24, 36, 22, 32, 34, 25, 6, 24, 23, 26, 31, 24, 29, 7, 16, 26, 18, 22, 31, 22, 22, 15, 1, 7, 6, 2, 19, 1, 5, 22, 29, 29, 27, 16, 8, 2, 12, 22, 26, 30, 28, 3, 19, 51, 1, 9, 30, 5, 6, 22, 18, 25, 8, 18, 27, 9, 9, 11, 13, 15, 6, 21, 13, 3, 25, 28, 33, 30, 7, 5, 27, 67, 8, 19, 6, 9, 28, 21, 13, 1, 19, 1, 18, 12, 2, 28, 25, 31, 27, 19, 24, 11, 20, 2, 6, 32, 5, 12, 10, 27, 25, 18, 18, 14, 4, 34, 33, 15, 28, 20, 17, 19, 6, 31, 25, 6, 10, 19, 27, 26, 33, 4, 28, 15, 16, 15, 24, 27, 21, 10, 28, 6, 27, 18, 41, 20, 10, 15, 14, 1, 18, 26, 19, 10, 3, 15, 26, 24, 17, 21, 25, 39, 17, 27, 8, 15, 17, 24, 2, 12, 9, 25, 10, 23, 22, 19, 14, 23, 54, 2, 3, 21, 5, 14, 23, 16, 9, 4, 12, 16, 29, 22, 27, 1, 5, 6, 16, 29, 16, 19, 3, 17, 10, 4, 16, 45, 14, 7, 14, 21, 20, 25, 14, 29, 29, 7, 14, 2, 3, 32, 24, 34, 60, 23, 5, 58, 1, 65, 27, 10, 24, 21, 15, 27, 11, 31, 19, 12, 7, 28, 1, 28, 2, 25, 35, 28], '500': [86, 96, 77, 3, 55, 56, 81, 46, 3, 30, 8, 81, 4, 167, 88, 74, 148, 24, 79, 33, 91, 131, 109, 65, 101, 102, 50, 106, 155, 127, 141, 79, 121, 51, 144, 123, 2, 10, 63, 142, 61, 84, 104, 136, 41, 85, 113, 137, 25, 161, 149, 124, 161, 25, 53, 67, 124, 15, 151, 63, 92, 4, 165, 51, 43, 111, 146, 63, 94, 76, 41, 94, 95, 78, 326, 58, 110, 131, 139, 121, 3, 69, 52, 10, 133, 22, 55, 63, 121, 50, 26, 55, 11, 9, 58, 111, 83, 121, 108, 21, 62, 154, 139, 118, 86, 25, 138, 143, 149, 55, 56, 9, 18, 40, 116, 72, 48, 86, 9, 162, 37, 112, 142, 90, 137, 90, 52, 51, 62, 94, 152, 140, 94, 217, 54, 69, 6, 160, 55, 35, 87, 108, 104, 72, 25, 63, 151, 52, 30, 70, 30, 80, 121, 111, 61, 139, 28, 103, 34, 78, 70, 151, 69, 160, 88, 137, 165, 24, 167, 143, 39, 69, 83, 77, 143, 126, 164, 21, 110, 89, 116, 52, 33, 30, 121, 37, 106, 133, 12, 162, 178, 13, 125, 57, 60, 158, 10, 113, 92, 113, 69, 4, 77, 18, 73, 125, 38, 80, 160, 1, 10, 43, 91, 156, 32, 73, 34, 123, 55, 11, 31, 167, 111, 67, 85, 29, 155, 30, 91, 160, 149, 1, 165, 1, 73, 130, 6, 136, 118, 139, 156, 22, 126, 118, 164, 55, 138, 93, 109, 59, 41, 78, 17, 117, 92, 2, 118, 77, 154, 133, 24, 143, 33, 81, 58, 45, 144, 87, 81, 93, 136, 154, 124, 137, 161, 101, 41, 147, 117, 43, 7, 78, 64, 143, 148, 9, 55, 34, 127, 9, 3, 166, 162, 136, 89, 135, 6, 31, 140, 39, 120, 115, 98, 169, 4, 12, 71, 108, 87, 53, 65, 143, 27, 4, 55, 99, 90, 135, 160, 138, 151, 90, 157, 113, 4, 64, 56, 57, 144, 10, 56, 73, 14, 136, 15, 112, 63, 47, 39, 56, 31, 45, 77, 16, 104, 150, 13, 11, 132, 112, 163, 39, 146, 86, 17, 164, 37, 100, 113, 37, 67, 109, 84, 98, 131, 43, 35, 22, 77, 44, 6, 127, 58, 159, 16, 132, 132, 128, 95, 77, 12, 74, 85, 40, 8, 130, 75, 40, 101, 149, 17, 106, 89, 161, 30, 146, 63, 2, 138, 99, 71, 54, 94, 150, 119, 44, 23, 101, 145, 158, 141, 69, 157, 41, 132, 70, 9, 152, 9, 34, 153, 34, 130, 52, 154, 79, 152, 54, 17, 39, 93, 100, 69, 28, 33, 154, 79, 129, 105, 3, 135, 24, 111, 157, 140, 148, 90, 104, 25, 77, 77, 151, 41, 163, 118, 91, 30, 18, 5, 99, 6, 163, 162, 35, 3, 71, 34, 67, 109, 101, 117, 15, 10, 72, 2, 84, 76, 144, 23, 67, 123, 97, 117, 37, 149, 24, 115, 69, 4, 49, 136, 67, 99, 21, 37, 6, 97, 46, 140, 28], '1000': [319, 49, 21, 128, 98, 313, 73, 177, 153, 74, 313, 7, 68, 205, 74, 223, 33, 123, 167, 224, 118, 96, 106, 292, 297, 324, 223, 91, 275, 276, 168, 130, 89, 230, 22, 14, 210, 291, 284, 68, 170, 71, 179, 57, 220, 5, 258, 48, 48, 304, 256, 203, 124, 11, 270, 230, 188, 11, 36, 91, 36, 79, 38, 71, 209, 46, 126, 87, 247, 258, 108, 337, 659, 112, 228, 271, 64, 278, 299, 235, 136, 269, 191, 181, 141, 196, 334, 203, 281, 165, 63, 295, 7, 297, 95, 166, 262, 307, 132, 214, 127, 312, 323, 298, 110, 122, 56, 243, 105, 93, 47, 323, 285, 225, 197, 304, 56, 101, 90, 310, 165, 200, 286, 154, 186, 100, 127, 4, 145, 145, 236, 301, 16, 182, 313, 155, 282, 199, 21, 3, 111, 18, 31, 251, 13, 225, 123, 29, 156, 308, 264, 136, 192, 275, 248, 292, 60, 190, 182, 11, 7, 5, 70, 73, 66, 326, 308, 277, 16, 165, 317, 190, 172, 212, 264, 331, 211, 264, 11, 94, 54, 45, 16, 97, 225, 28, 224, 275, 169, 18, 283, 154, 45, 277, 316, 196, 38, 294, 203, 138, 103, 283, 37, 6, 163, 271, 38, 228, 177, 179, 95, 208, 117, 157, 309, 256, 239, 272, 206, 259, 193, 133, 251, 172, 32, 110, 243, 297, 20, 22, 182, 259, 293, 231, 6, 266, 643, 243, 167, 125, 314, 147, 89, 38, 310, 56, 206, 161, 86, 201, 105, 179, 163, 67, 113, 113, 153, 33, 226, 224, 33, 102, 192, 217, 260, 92, 144, 69, 307, 209, 236, 282, 307, 326, 81, 170, 76, 36, 147, 260, 308, 228, 270, 241, 49, 120, 244, 65, 276, 188, 256, 29, 32, 85, 220, 126, 203, 188, 83, 287, 22, 10, 150, 49, 38, 101, 74, 79, 114, 273, 61, 69, 324, 304, 62, 78, 89, 246, 147, 57, 234, 145, 44, 227, 314, 149, 176, 63, 298, 32, 206, 80, 127, 277, 168, 33, 77, 187, 171, 37, 265, 454, 118, 88, 609, 139, 235, 302, 288, 180, 178, 199, 150, 260, 278, 172, 72, 321, 222, 239, 205, 220, 258, 189, 152, 148, 209, 94, 111, 270, 34, 271, 266, 72, 5, 249, 95, 276, 196, 263, 50, 149, 209, 211, 186, 265, 308, 315, 234, 269, 205, 84, 331, 162, 74, 343, 188, 316, 278, 91, 128, 28, 236, 250, 197, 95, 98, 306, 33, 186, 289, 221, 330, 154, 110, 5, 221, 54, 304, 111, 18, 99, 146, 312, 285, 171, 216, 133, 8, 249, 58, 194, 286, 281, 146, 161, 194, 44, 104, 77, 26, 67, 320, 81, 325, 307, 21, 93, 316, 69, 37, 259, 228, 247, 251, 181, 217, 158, 204, 160, 59, 256, 275, 105, 147, 48, 168, 254, 42, 291, 71, 236, 319, 175, 130, 255, 83, 155, 307, 98, 248, 1, 93, 228, 119, 53, 50, 8, 99, 141, 190, 71, 239, 231, 66, 160, 210, 85, 65, 12]}\n"
     ]
    }
   ],
   "source": [
    "print resultsDG_p3r_cs"
   ]
  },
  {
   "cell_type": "code",
   "execution_count": 23,
   "metadata": {},
   "outputs": [
    {
     "name": "stdout",
     "output_type": "stream",
     "text": [
      "i!= 9\n",
      "i!= 10\n",
      "i!= 9\n",
      "i!= 14\n",
      "i!= 18\n",
      "i!= 15\n",
      "i!= 13\n",
      "i!= 13\n",
      "i!= 12\n",
      "i!= 22\n",
      "i!= 29\n",
      "i!= 24\n",
      "i!= 19\n",
      "i!= 21\n",
      "i!= 18\n",
      "i!= 50\n",
      "i!= 60\n",
      "i!= 48\n",
      "i!= 34\n",
      "i!= 39\n",
      "i!= 76\n",
      "i!= 103\n",
      "i!= 129\n",
      "i!= 125\n",
      "i!= 37\n",
      "i!= 66\n",
      "i!= 148\n",
      "i!= 166\n",
      "i!= 238\n",
      "i!= 322\n",
      "i!= 39\n",
      "i!= 71\n",
      "i!= 168\n",
      "i!= 337\n",
      "i!= 479\n",
      "i!= 544\n"
     ]
    }
   ],
   "source": [
    "size_dg_ba={}\n",
    "for p in [0.8,0.85,0.9,0.95,0.975,0.99]:\n",
    "    size_dg_ba[str(p)]={}\n",
    "    for N in [100,200,500,1000,1500,2000]:\n",
    "        bins = np.arange(0,N)\n",
    "        values, base = np.histogram(RL_ba[str(N)], bins=bins, density=1) #AND THIS\n",
    "        for i in range(1,N):\n",
    "            S=np.sum(values[:i])\n",
    "    \n",
    "            if S>p:\n",
    "                print 'i!=',i\n",
    "                size_dg_ba[str(p)][str(N)]=i\n",
    "                break\n",
    "list1ba=[]\n",
    "list2ba=[]\n",
    "list3ba=[]\n",
    "list4ba=[]\n",
    "list5ba=[]\n",
    "list6ba=[]\n",
    "for i in [100,200,500,1000,1500,2000]:\n",
    "    list1ba.append(size_dg_ba[str(0.8)][str(i)])\n",
    "    list2ba.append(size_dg_ba[str(0.85)][str(i)])\n",
    "    list3ba.append(size_dg_ba[str(0.9)][str(i)])\n",
    "    list4ba.append(size_dg_ba[str(0.95)][str(i)])\n",
    "    list5ba.append(size_dg_ba[str(0.975)][str(i)])\n",
    "    list6ba.append(size_dg_ba[str(0.99)][str(i)]) "
   ]
  },
  {
   "cell_type": "code",
   "execution_count": 25,
   "metadata": {},
   "outputs": [
    {
     "name": "stdout",
     "output_type": "stream",
     "text": [
      "i!= 8\n",
      "i!= 12\n",
      "i!= 18\n",
      "i!= 28\n",
      "i!= 29\n",
      "i!= 35\n",
      "i!= 12\n",
      "i!= 15\n",
      "i!= 30\n",
      "i!= 33\n",
      "i!= 47\n",
      "i!= 59\n",
      "i!= 14\n",
      "i!= 25\n",
      "i!= 36\n",
      "i!= 52\n",
      "i!= 82\n",
      "i!= 67\n",
      "i!= 25\n",
      "i!= 29\n",
      "i!= 61\n",
      "i!= 68\n",
      "i!= 100\n",
      "i!= 122\n",
      "i!= 26\n",
      "i!= 49\n",
      "i!= 67\n",
      "i!= 129\n",
      "i!= 186\n",
      "i!= 133\n",
      "i!= 28\n",
      "i!= 54\n",
      "i!= 127\n",
      "i!= 135\n",
      "i!= 196\n",
      "i!= 248\n"
     ]
    }
   ],
   "source": [
    "size_dg_ua={}\n",
    "for p in [0.8,0.85,0.9,0.95,0.975,0.99]:\n",
    "    size_dg_ua[str(p)]={}\n",
    "    for N in [100,200,500,1000,1500,2000]:\n",
    "        \n",
    "        bins = np.arange(0,N)\n",
    "        values, base = np.histogram(RL_ua[str(N)], bins=bins, density=1) #AND THIS\n",
    "        for i in range(1,N):\n",
    "            S=np.sum(values[:i])\n",
    "    \n",
    "            if S>p:\n",
    "                print 'i!=',i\n",
    "                size_dg_ua[str(p)][str(N)]=i\n",
    "                break\n",
    "        \n",
    "list1ua=[]\n",
    "list2ua=[]\n",
    "list3ua=[]\n",
    "list4ua=[]\n",
    "list5ua=[]\n",
    "list6ua=[]\n",
    "for i in [100,200,500,1000,1500,2000]:\n",
    "    list1ua.append(size_dg_ua[str(0.8)][str(i)])\n",
    "    list2ua.append(size_dg_ua[str(0.85)][str(i)])\n",
    "    list3ua.append(size_dg_ua[str(0.9)][str(i)])\n",
    "    list4ua.append(size_dg_ua[str(0.95)][str(i)])\n",
    "    list5ua.append(size_dg_ua[str(0.975)][str(i)])\n",
    "    list6ua.append(size_dg_ua[str(0.99)][str(i)])"
   ]
  },
  {
   "cell_type": "code",
   "execution_count": 26,
   "metadata": {},
   "outputs": [
    {
     "name": "stdout",
     "output_type": "stream",
     "text": [
      "i!= 28\n",
      "i!= 57\n",
      "i!= 137\n",
      "i!= 271\n",
      "i!= 396\n",
      "i!= 537\n",
      "i!= 30\n",
      "i!= 60\n",
      "i!= 144\n",
      "i!= 284\n",
      "i!= 421\n",
      "i!= 567\n",
      "i!= 32\n",
      "i!= 64\n",
      "i!= 152\n",
      "i!= 305\n",
      "i!= 450\n",
      "i!= 597\n",
      "i!= 34\n",
      "i!= 70\n",
      "i!= 162\n",
      "i!= 317\n",
      "i!= 470\n",
      "i!= 634\n",
      "i!= 42\n",
      "i!= 111\n",
      "i!= 165\n",
      "i!= 326\n",
      "i!= 486\n",
      "i!= 658\n",
      "i!= 61\n",
      "i!= 126\n",
      "i!= 168\n",
      "i!= 344\n",
      "i!= 498\n",
      "i!= 671\n"
     ]
    }
   ],
   "source": [
    "size_dg_p3r={}\n",
    "for p in [0.8,0.85,0.9,0.95,0.975,0.99]:\n",
    "    size_dg_p3r[str(p)]={}\n",
    "    for N in [100,200,500,1000,1500,2000]:\n",
    "        bins = np.arange(0,N)\n",
    "        values, base = np.histogram(RL_p3r[str(N)], bins=bins, density=1) #AND THIS\n",
    "        for i in range(1,N):\n",
    "            S=np.sum(values[:i])\n",
    "    \n",
    "            if S>p:\n",
    "                print 'i!=',i\n",
    "                size_dg_p3r[str(p)][str(N)]=i\n",
    "                break\n",
    "        \n",
    "list1p3r=[]\n",
    "list2p3r=[]\n",
    "list3p3r=[]\n",
    "list4p3r=[]\n",
    "list5p3r=[]\n",
    "list6p3r=[]\n",
    "for i in [100,200,500,1000,1500,2000]:\n",
    "    list1p3r.append(size_dg_p3r[str(0.8)][str(i)])\n",
    "    list2p3r.append(size_dg_p3r[str(0.85)][str(i)])\n",
    "    list3p3r.append(size_dg_p3r[str(0.9)][str(i)])\n",
    "    list4p3r.append(size_dg_p3r[str(0.95)][str(i)])\n",
    "    list5p3r.append(size_dg_p3r[str(0.975)][str(i)])\n",
    "    list6p3r.append(size_dg_p3r[str(0.99)][str(i)])"
   ]
  },
  {
   "cell_type": "code",
   "execution_count": 27,
   "metadata": {},
   "outputs": [
    {
     "data": {
      "application/vnd.plotly.v1+json": {
       "data": [
        {
         "colorscale": [
          [
           0,
           "#00083e"
          ],
          [
           0.5,
           "#ededee"
          ],
          [
           1,
           "#ffffff"
          ]
         ],
         "hoverinfo": "none",
         "opacity": 0.75,
         "showscale": false,
         "type": "heatmap",
         "z": [
          [
           0,
           0,
           0,
           0,
           0,
           0,
           0
          ],
          [
           0,
           0.5,
           0.5,
           0.5,
           0.5,
           0.5,
           0.5
          ],
          [
           0,
           1,
           1,
           1,
           1,
           1,
           1
          ],
          [
           0,
           0.5,
           0.5,
           0.5,
           0.5,
           0.5,
           0.5
          ],
          [
           0,
           1,
           1,
           1,
           1,
           1,
           1
          ],
          [
           0,
           0.5,
           0.5,
           0.5,
           0.5,
           0.5,
           0.5
          ],
          [
           0,
           1,
           1,
           1,
           1,
           1,
           1
          ],
          [
           0,
           0.5,
           0.5,
           0.5,
           0.5,
           0.5,
           0.5
          ]
         ]
        }
       ],
       "layout": {
        "annotations": [
         {
          "align": "left",
          "font": {
           "color": "#ffffff",
           "size": 15
          },
          "showarrow": false,
          "text": "<b>Probability</b>",
          "x": -0.45,
          "xanchor": "left",
          "xref": "x1",
          "y": 0,
          "yref": "y1"
         },
         {
          "align": "left",
          "font": {
           "color": "#ffffff",
           "size": 15
          },
          "showarrow": false,
          "text": "<b>N=100</b>",
          "x": 0.55,
          "xanchor": "left",
          "xref": "x1",
          "y": 0,
          "yref": "y1"
         },
         {
          "align": "left",
          "font": {
           "color": "#ffffff",
           "size": 15
          },
          "showarrow": false,
          "text": "<b>N=200</b>",
          "x": 1.55,
          "xanchor": "left",
          "xref": "x1",
          "y": 0,
          "yref": "y1"
         },
         {
          "align": "left",
          "font": {
           "color": "#ffffff",
           "size": 15
          },
          "showarrow": false,
          "text": "<b>N=500</b>",
          "x": 2.55,
          "xanchor": "left",
          "xref": "x1",
          "y": 0,
          "yref": "y1"
         },
         {
          "align": "left",
          "font": {
           "color": "#ffffff",
           "size": 15
          },
          "showarrow": false,
          "text": "<b>N=1000</b>",
          "x": 3.55,
          "xanchor": "left",
          "xref": "x1",
          "y": 0,
          "yref": "y1"
         },
         {
          "align": "left",
          "font": {
           "color": "#ffffff",
           "size": 15
          },
          "showarrow": false,
          "text": "<b>N=1500</b>",
          "x": 4.55,
          "xanchor": "left",
          "xref": "x1",
          "y": 0,
          "yref": "y1"
         },
         {
          "align": "left",
          "font": {
           "color": "#ffffff",
           "size": 15
          },
          "showarrow": false,
          "text": "<b>N=2000</b>",
          "x": 5.55,
          "xanchor": "left",
          "xref": "x1",
          "y": 0,
          "yref": "y1"
         },
         {
          "align": "left",
          "font": {
           "color": "#ffffff",
           "size": 15
          },
          "showarrow": false,
          "text": "<b>0.8</b>",
          "x": -0.45,
          "xanchor": "left",
          "xref": "x1",
          "y": 1,
          "yref": "y1"
         },
         {
          "align": "left",
          "font": {
           "color": "#000000",
           "size": 15
          },
          "showarrow": false,
          "text": "8",
          "x": 0.55,
          "xanchor": "left",
          "xref": "x1",
          "y": 1,
          "yref": "y1"
         },
         {
          "align": "left",
          "font": {
           "color": "#000000",
           "size": 15
          },
          "showarrow": false,
          "text": "12",
          "x": 1.55,
          "xanchor": "left",
          "xref": "x1",
          "y": 1,
          "yref": "y1"
         },
         {
          "align": "left",
          "font": {
           "color": "#000000",
           "size": 15
          },
          "showarrow": false,
          "text": "18",
          "x": 2.55,
          "xanchor": "left",
          "xref": "x1",
          "y": 1,
          "yref": "y1"
         },
         {
          "align": "left",
          "font": {
           "color": "#000000",
           "size": 15
          },
          "showarrow": false,
          "text": "28",
          "x": 3.55,
          "xanchor": "left",
          "xref": "x1",
          "y": 1,
          "yref": "y1"
         },
         {
          "align": "left",
          "font": {
           "color": "#000000",
           "size": 15
          },
          "showarrow": false,
          "text": "29",
          "x": 4.55,
          "xanchor": "left",
          "xref": "x1",
          "y": 1,
          "yref": "y1"
         },
         {
          "align": "left",
          "font": {
           "color": "#000000",
           "size": 15
          },
          "showarrow": false,
          "text": "35",
          "x": 5.55,
          "xanchor": "left",
          "xref": "x1",
          "y": 1,
          "yref": "y1"
         },
         {
          "align": "left",
          "font": {
           "color": "#ffffff",
           "size": 15
          },
          "showarrow": false,
          "text": "<b>0.85</b>",
          "x": -0.45,
          "xanchor": "left",
          "xref": "x1",
          "y": 2,
          "yref": "y1"
         },
         {
          "align": "left",
          "font": {
           "color": "#000000",
           "size": 15
          },
          "showarrow": false,
          "text": "12",
          "x": 0.55,
          "xanchor": "left",
          "xref": "x1",
          "y": 2,
          "yref": "y1"
         },
         {
          "align": "left",
          "font": {
           "color": "#000000",
           "size": 15
          },
          "showarrow": false,
          "text": "15",
          "x": 1.55,
          "xanchor": "left",
          "xref": "x1",
          "y": 2,
          "yref": "y1"
         },
         {
          "align": "left",
          "font": {
           "color": "#000000",
           "size": 15
          },
          "showarrow": false,
          "text": "30",
          "x": 2.55,
          "xanchor": "left",
          "xref": "x1",
          "y": 2,
          "yref": "y1"
         },
         {
          "align": "left",
          "font": {
           "color": "#000000",
           "size": 15
          },
          "showarrow": false,
          "text": "33",
          "x": 3.55,
          "xanchor": "left",
          "xref": "x1",
          "y": 2,
          "yref": "y1"
         },
         {
          "align": "left",
          "font": {
           "color": "#000000",
           "size": 15
          },
          "showarrow": false,
          "text": "47",
          "x": 4.55,
          "xanchor": "left",
          "xref": "x1",
          "y": 2,
          "yref": "y1"
         },
         {
          "align": "left",
          "font": {
           "color": "#000000",
           "size": 15
          },
          "showarrow": false,
          "text": "59",
          "x": 5.55,
          "xanchor": "left",
          "xref": "x1",
          "y": 2,
          "yref": "y1"
         },
         {
          "align": "left",
          "font": {
           "color": "#ffffff",
           "size": 15
          },
          "showarrow": false,
          "text": "<b>0.9</b>",
          "x": -0.45,
          "xanchor": "left",
          "xref": "x1",
          "y": 3,
          "yref": "y1"
         },
         {
          "align": "left",
          "font": {
           "color": "#000000",
           "size": 15
          },
          "showarrow": false,
          "text": "14",
          "x": 0.55,
          "xanchor": "left",
          "xref": "x1",
          "y": 3,
          "yref": "y1"
         },
         {
          "align": "left",
          "font": {
           "color": "#000000",
           "size": 15
          },
          "showarrow": false,
          "text": "25",
          "x": 1.55,
          "xanchor": "left",
          "xref": "x1",
          "y": 3,
          "yref": "y1"
         },
         {
          "align": "left",
          "font": {
           "color": "#000000",
           "size": 15
          },
          "showarrow": false,
          "text": "36",
          "x": 2.55,
          "xanchor": "left",
          "xref": "x1",
          "y": 3,
          "yref": "y1"
         },
         {
          "align": "left",
          "font": {
           "color": "#000000",
           "size": 15
          },
          "showarrow": false,
          "text": "52",
          "x": 3.55,
          "xanchor": "left",
          "xref": "x1",
          "y": 3,
          "yref": "y1"
         },
         {
          "align": "left",
          "font": {
           "color": "#000000",
           "size": 15
          },
          "showarrow": false,
          "text": "82",
          "x": 4.55,
          "xanchor": "left",
          "xref": "x1",
          "y": 3,
          "yref": "y1"
         },
         {
          "align": "left",
          "font": {
           "color": "#000000",
           "size": 15
          },
          "showarrow": false,
          "text": "67",
          "x": 5.55,
          "xanchor": "left",
          "xref": "x1",
          "y": 3,
          "yref": "y1"
         },
         {
          "align": "left",
          "font": {
           "color": "#ffffff",
           "size": 15
          },
          "showarrow": false,
          "text": "<b>0.95</b>",
          "x": -0.45,
          "xanchor": "left",
          "xref": "x1",
          "y": 4,
          "yref": "y1"
         },
         {
          "align": "left",
          "font": {
           "color": "#000000",
           "size": 15
          },
          "showarrow": false,
          "text": "25",
          "x": 0.55,
          "xanchor": "left",
          "xref": "x1",
          "y": 4,
          "yref": "y1"
         },
         {
          "align": "left",
          "font": {
           "color": "#000000",
           "size": 15
          },
          "showarrow": false,
          "text": "29",
          "x": 1.55,
          "xanchor": "left",
          "xref": "x1",
          "y": 4,
          "yref": "y1"
         },
         {
          "align": "left",
          "font": {
           "color": "#000000",
           "size": 15
          },
          "showarrow": false,
          "text": "61",
          "x": 2.55,
          "xanchor": "left",
          "xref": "x1",
          "y": 4,
          "yref": "y1"
         },
         {
          "align": "left",
          "font": {
           "color": "#000000",
           "size": 15
          },
          "showarrow": false,
          "text": "68",
          "x": 3.55,
          "xanchor": "left",
          "xref": "x1",
          "y": 4,
          "yref": "y1"
         },
         {
          "align": "left",
          "font": {
           "color": "#000000",
           "size": 15
          },
          "showarrow": false,
          "text": "100",
          "x": 4.55,
          "xanchor": "left",
          "xref": "x1",
          "y": 4,
          "yref": "y1"
         },
         {
          "align": "left",
          "font": {
           "color": "#000000",
           "size": 15
          },
          "showarrow": false,
          "text": "122",
          "x": 5.55,
          "xanchor": "left",
          "xref": "x1",
          "y": 4,
          "yref": "y1"
         },
         {
          "align": "left",
          "font": {
           "color": "#ffffff",
           "size": 15
          },
          "showarrow": false,
          "text": "<b>0.975</b>",
          "x": -0.45,
          "xanchor": "left",
          "xref": "x1",
          "y": 5,
          "yref": "y1"
         },
         {
          "align": "left",
          "font": {
           "color": "#000000",
           "size": 15
          },
          "showarrow": false,
          "text": "26",
          "x": 0.55,
          "xanchor": "left",
          "xref": "x1",
          "y": 5,
          "yref": "y1"
         },
         {
          "align": "left",
          "font": {
           "color": "#000000",
           "size": 15
          },
          "showarrow": false,
          "text": "49",
          "x": 1.55,
          "xanchor": "left",
          "xref": "x1",
          "y": 5,
          "yref": "y1"
         },
         {
          "align": "left",
          "font": {
           "color": "#000000",
           "size": 15
          },
          "showarrow": false,
          "text": "67",
          "x": 2.55,
          "xanchor": "left",
          "xref": "x1",
          "y": 5,
          "yref": "y1"
         },
         {
          "align": "left",
          "font": {
           "color": "#000000",
           "size": 15
          },
          "showarrow": false,
          "text": "129",
          "x": 3.55,
          "xanchor": "left",
          "xref": "x1",
          "y": 5,
          "yref": "y1"
         },
         {
          "align": "left",
          "font": {
           "color": "#000000",
           "size": 15
          },
          "showarrow": false,
          "text": "186",
          "x": 4.55,
          "xanchor": "left",
          "xref": "x1",
          "y": 5,
          "yref": "y1"
         },
         {
          "align": "left",
          "font": {
           "color": "#000000",
           "size": 15
          },
          "showarrow": false,
          "text": "133",
          "x": 5.55,
          "xanchor": "left",
          "xref": "x1",
          "y": 5,
          "yref": "y1"
         },
         {
          "align": "left",
          "font": {
           "color": "#ffffff",
           "size": 15
          },
          "showarrow": false,
          "text": "<b>0.99</b>",
          "x": -0.45,
          "xanchor": "left",
          "xref": "x1",
          "y": 6,
          "yref": "y1"
         },
         {
          "align": "left",
          "font": {
           "color": "#000000",
           "size": 15
          },
          "showarrow": false,
          "text": "28",
          "x": 0.55,
          "xanchor": "left",
          "xref": "x1",
          "y": 6,
          "yref": "y1"
         },
         {
          "align": "left",
          "font": {
           "color": "#000000",
           "size": 15
          },
          "showarrow": false,
          "text": "54",
          "x": 1.55,
          "xanchor": "left",
          "xref": "x1",
          "y": 6,
          "yref": "y1"
         },
         {
          "align": "left",
          "font": {
           "color": "#000000",
           "size": 15
          },
          "showarrow": false,
          "text": "127",
          "x": 2.55,
          "xanchor": "left",
          "xref": "x1",
          "y": 6,
          "yref": "y1"
         },
         {
          "align": "left",
          "font": {
           "color": "#000000",
           "size": 15
          },
          "showarrow": false,
          "text": "135",
          "x": 3.55,
          "xanchor": "left",
          "xref": "x1",
          "y": 6,
          "yref": "y1"
         },
         {
          "align": "left",
          "font": {
           "color": "#000000",
           "size": 15
          },
          "showarrow": false,
          "text": "196",
          "x": 4.55,
          "xanchor": "left",
          "xref": "x1",
          "y": 6,
          "yref": "y1"
         },
         {
          "align": "left",
          "font": {
           "color": "#000000",
           "size": 15
          },
          "showarrow": false,
          "text": "248",
          "x": 5.55,
          "xanchor": "left",
          "xref": "x1",
          "y": 6,
          "yref": "y1"
         },
         {
          "align": "left",
          "font": {
           "color": "#ffffff",
           "size": 15
          },
          "showarrow": false,
          "text": "<b></b>",
          "x": -0.45,
          "xanchor": "left",
          "xref": "x1",
          "y": 7,
          "yref": "y1"
         },
         {
          "align": "left",
          "font": {
           "color": "#000000",
           "size": 15
          },
          "showarrow": false,
          "text": "",
          "x": 0.55,
          "xanchor": "left",
          "xref": "x1",
          "y": 7,
          "yref": "y1"
         },
         {
          "align": "left",
          "font": {
           "color": "#000000",
           "size": 15
          },
          "showarrow": false,
          "text": "",
          "x": 1.55,
          "xanchor": "left",
          "xref": "x1",
          "y": 7,
          "yref": "y1"
         },
         {
          "align": "left",
          "font": {
           "color": "#000000",
           "size": 15
          },
          "showarrow": false,
          "text": "",
          "x": 2.55,
          "xanchor": "left",
          "xref": "x1",
          "y": 7,
          "yref": "y1"
         },
         {
          "align": "left",
          "font": {
           "color": "#000000",
           "size": 15
          },
          "showarrow": false,
          "text": "",
          "x": 3.55,
          "xanchor": "left",
          "xref": "x1",
          "y": 7,
          "yref": "y1"
         },
         {
          "align": "left",
          "font": {
           "color": "#000000",
           "size": 15
          },
          "showarrow": false,
          "text": "",
          "x": 4.55,
          "xanchor": "left",
          "xref": "x1",
          "y": 7,
          "yref": "y1"
         },
         {
          "align": "left",
          "font": {
           "color": "#000000",
           "size": 15
          },
          "showarrow": false,
          "text": "",
          "x": 5.55,
          "xanchor": "left",
          "xref": "x1",
          "y": 7,
          "yref": "y1"
         }
        ],
        "height": 290,
        "margin": {
         "b": 0,
         "l": 0,
         "r": 0,
         "t": 0
        },
        "xaxis": {
         "dtick": 1,
         "gridwidth": 2,
         "showticklabels": false,
         "tick0": -0.5,
         "ticks": "",
         "zeroline": false
        },
        "yaxis": {
         "autorange": "reversed",
         "dtick": 1,
         "gridwidth": 2,
         "showticklabels": false,
         "tick0": 0.5,
         "ticks": "",
         "zeroline": false
        }
       }
      },
      "text/html": [
       "<div id=\"72c2e131-c590-4ba2-9576-db0813d88baa\" style=\"height: 290px; width: 100%;\" class=\"plotly-graph-div\"></div><script type=\"text/javascript\">require([\"plotly\"], function(Plotly) { window.PLOTLYENV=window.PLOTLYENV || {};window.PLOTLYENV.BASE_URL=\"https://plot.ly\";Plotly.newPlot(\"72c2e131-c590-4ba2-9576-db0813d88baa\", [{\"opacity\": 0.75, \"colorscale\": [[0, \"#00083e\"], [0.5, \"#ededee\"], [1, \"#ffffff\"]], \"showscale\": false, \"hoverinfo\": \"none\", \"z\": [[0, 0, 0, 0, 0, 0, 0], [0, 0.5, 0.5, 0.5, 0.5, 0.5, 0.5], [0, 1, 1, 1, 1, 1, 1], [0, 0.5, 0.5, 0.5, 0.5, 0.5, 0.5], [0, 1, 1, 1, 1, 1, 1], [0, 0.5, 0.5, 0.5, 0.5, 0.5, 0.5], [0, 1, 1, 1, 1, 1, 1], [0, 0.5, 0.5, 0.5, 0.5, 0.5, 0.5]], \"type\": \"heatmap\"}], {\"yaxis\": {\"showticklabels\": false, \"tick0\": 0.5, \"ticks\": \"\", \"gridwidth\": 2, \"dtick\": 1, \"zeroline\": false, \"autorange\": \"reversed\"}, \"margin\": {\"r\": 0, \"b\": 0, \"l\": 0, \"t\": 0}, \"annotations\": [{\"xref\": \"x1\", \"xanchor\": \"left\", \"yref\": \"y1\", \"text\": \"<b>Probability</b>\", \"align\": \"left\", \"y\": 0, \"x\": -0.45, \"font\": {\"color\": \"#ffffff\", \"size\": 15}, \"showarrow\": false}, {\"xref\": \"x1\", \"xanchor\": \"left\", \"yref\": \"y1\", \"text\": \"<b>N=100</b>\", \"align\": \"left\", \"y\": 0, \"x\": 0.55, \"font\": {\"color\": \"#ffffff\", \"size\": 15}, \"showarrow\": false}, {\"xref\": \"x1\", \"xanchor\": \"left\", \"yref\": \"y1\", \"text\": \"<b>N=200</b>\", \"align\": \"left\", \"y\": 0, \"x\": 1.55, \"font\": {\"color\": \"#ffffff\", \"size\": 15}, \"showarrow\": false}, {\"xref\": \"x1\", \"xanchor\": \"left\", \"yref\": \"y1\", \"text\": \"<b>N=500</b>\", \"align\": \"left\", \"y\": 0, \"x\": 2.55, \"font\": {\"color\": \"#ffffff\", \"size\": 15}, \"showarrow\": false}, {\"xref\": \"x1\", \"xanchor\": \"left\", \"yref\": \"y1\", \"text\": \"<b>N=1000</b>\", \"align\": \"left\", \"y\": 0, \"x\": 3.55, \"font\": {\"color\": \"#ffffff\", \"size\": 15}, \"showarrow\": false}, {\"xref\": \"x1\", \"xanchor\": \"left\", \"yref\": \"y1\", \"text\": \"<b>N=1500</b>\", \"align\": \"left\", \"y\": 0, \"x\": 4.55, \"font\": {\"color\": \"#ffffff\", \"size\": 15}, \"showarrow\": false}, {\"xref\": \"x1\", \"xanchor\": \"left\", \"yref\": \"y1\", \"text\": \"<b>N=2000</b>\", \"align\": \"left\", \"y\": 0, \"x\": 5.55, \"font\": {\"color\": \"#ffffff\", \"size\": 15}, \"showarrow\": false}, {\"xref\": \"x1\", \"xanchor\": \"left\", \"yref\": \"y1\", \"text\": \"<b>0.8</b>\", \"align\": \"left\", \"y\": 1, \"x\": -0.45, \"font\": {\"color\": \"#ffffff\", \"size\": 15}, \"showarrow\": false}, {\"xref\": \"x1\", \"xanchor\": \"left\", \"yref\": \"y1\", \"text\": \"8\", \"align\": \"left\", \"y\": 1, \"x\": 0.55, \"font\": {\"color\": \"#000000\", \"size\": 15}, \"showarrow\": false}, {\"xref\": \"x1\", \"xanchor\": \"left\", \"yref\": \"y1\", \"text\": \"12\", \"align\": \"left\", \"y\": 1, \"x\": 1.55, \"font\": {\"color\": \"#000000\", \"size\": 15}, \"showarrow\": false}, {\"xref\": \"x1\", \"xanchor\": \"left\", \"yref\": \"y1\", \"text\": \"18\", \"align\": \"left\", \"y\": 1, \"x\": 2.55, \"font\": {\"color\": \"#000000\", \"size\": 15}, \"showarrow\": false}, {\"xref\": \"x1\", \"xanchor\": \"left\", \"yref\": \"y1\", \"text\": \"28\", \"align\": \"left\", \"y\": 1, \"x\": 3.55, \"font\": {\"color\": \"#000000\", \"size\": 15}, \"showarrow\": false}, {\"xref\": \"x1\", \"xanchor\": \"left\", \"yref\": \"y1\", \"text\": \"29\", \"align\": \"left\", \"y\": 1, \"x\": 4.55, \"font\": {\"color\": \"#000000\", \"size\": 15}, \"showarrow\": false}, {\"xref\": \"x1\", \"xanchor\": \"left\", \"yref\": \"y1\", \"text\": \"35\", \"align\": \"left\", \"y\": 1, \"x\": 5.55, \"font\": {\"color\": \"#000000\", \"size\": 15}, \"showarrow\": false}, {\"xref\": \"x1\", \"xanchor\": \"left\", \"yref\": \"y1\", \"text\": \"<b>0.85</b>\", \"align\": \"left\", \"y\": 2, \"x\": -0.45, \"font\": {\"color\": \"#ffffff\", \"size\": 15}, \"showarrow\": false}, {\"xref\": \"x1\", \"xanchor\": \"left\", \"yref\": \"y1\", \"text\": \"12\", \"align\": \"left\", \"y\": 2, \"x\": 0.55, \"font\": {\"color\": \"#000000\", \"size\": 15}, \"showarrow\": false}, {\"xref\": \"x1\", \"xanchor\": \"left\", \"yref\": \"y1\", \"text\": \"15\", \"align\": \"left\", \"y\": 2, \"x\": 1.55, \"font\": {\"color\": \"#000000\", \"size\": 15}, \"showarrow\": false}, {\"xref\": \"x1\", \"xanchor\": \"left\", \"yref\": \"y1\", \"text\": \"30\", \"align\": \"left\", \"y\": 2, \"x\": 2.55, \"font\": {\"color\": \"#000000\", \"size\": 15}, \"showarrow\": false}, {\"xref\": \"x1\", \"xanchor\": \"left\", \"yref\": \"y1\", \"text\": \"33\", \"align\": \"left\", \"y\": 2, \"x\": 3.55, \"font\": {\"color\": \"#000000\", \"size\": 15}, \"showarrow\": false}, {\"xref\": \"x1\", \"xanchor\": \"left\", \"yref\": \"y1\", \"text\": \"47\", \"align\": \"left\", \"y\": 2, \"x\": 4.55, \"font\": {\"color\": \"#000000\", \"size\": 15}, \"showarrow\": false}, {\"xref\": \"x1\", \"xanchor\": \"left\", \"yref\": \"y1\", \"text\": \"59\", \"align\": \"left\", \"y\": 2, \"x\": 5.55, \"font\": {\"color\": \"#000000\", \"size\": 15}, \"showarrow\": false}, {\"xref\": \"x1\", \"xanchor\": \"left\", \"yref\": \"y1\", \"text\": \"<b>0.9</b>\", \"align\": \"left\", \"y\": 3, \"x\": -0.45, \"font\": {\"color\": \"#ffffff\", \"size\": 15}, \"showarrow\": false}, {\"xref\": \"x1\", \"xanchor\": \"left\", \"yref\": \"y1\", \"text\": \"14\", \"align\": \"left\", \"y\": 3, \"x\": 0.55, \"font\": {\"color\": \"#000000\", \"size\": 15}, \"showarrow\": false}, {\"xref\": \"x1\", \"xanchor\": \"left\", \"yref\": \"y1\", \"text\": \"25\", \"align\": \"left\", \"y\": 3, \"x\": 1.55, \"font\": {\"color\": \"#000000\", \"size\": 15}, \"showarrow\": false}, {\"xref\": \"x1\", \"xanchor\": \"left\", \"yref\": \"y1\", \"text\": \"36\", \"align\": \"left\", \"y\": 3, \"x\": 2.55, \"font\": {\"color\": \"#000000\", \"size\": 15}, \"showarrow\": false}, {\"xref\": \"x1\", \"xanchor\": \"left\", \"yref\": \"y1\", \"text\": \"52\", \"align\": \"left\", \"y\": 3, \"x\": 3.55, \"font\": {\"color\": \"#000000\", \"size\": 15}, \"showarrow\": false}, {\"xref\": \"x1\", \"xanchor\": \"left\", \"yref\": \"y1\", \"text\": \"82\", \"align\": \"left\", \"y\": 3, \"x\": 4.55, \"font\": {\"color\": \"#000000\", \"size\": 15}, \"showarrow\": false}, {\"xref\": \"x1\", \"xanchor\": \"left\", \"yref\": \"y1\", \"text\": \"67\", \"align\": \"left\", \"y\": 3, \"x\": 5.55, \"font\": {\"color\": \"#000000\", \"size\": 15}, \"showarrow\": false}, {\"xref\": \"x1\", \"xanchor\": \"left\", \"yref\": \"y1\", \"text\": \"<b>0.95</b>\", \"align\": \"left\", \"y\": 4, \"x\": -0.45, \"font\": {\"color\": \"#ffffff\", \"size\": 15}, \"showarrow\": false}, {\"xref\": \"x1\", \"xanchor\": \"left\", \"yref\": \"y1\", \"text\": \"25\", \"align\": \"left\", \"y\": 4, \"x\": 0.55, \"font\": {\"color\": \"#000000\", \"size\": 15}, \"showarrow\": false}, {\"xref\": \"x1\", \"xanchor\": \"left\", \"yref\": \"y1\", \"text\": \"29\", \"align\": \"left\", \"y\": 4, \"x\": 1.55, \"font\": {\"color\": \"#000000\", \"size\": 15}, \"showarrow\": false}, {\"xref\": \"x1\", \"xanchor\": \"left\", \"yref\": \"y1\", \"text\": \"61\", \"align\": \"left\", \"y\": 4, \"x\": 2.55, \"font\": {\"color\": \"#000000\", \"size\": 15}, \"showarrow\": false}, {\"xref\": \"x1\", \"xanchor\": \"left\", \"yref\": \"y1\", \"text\": \"68\", \"align\": \"left\", \"y\": 4, \"x\": 3.55, \"font\": {\"color\": \"#000000\", \"size\": 15}, \"showarrow\": false}, {\"xref\": \"x1\", \"xanchor\": \"left\", \"yref\": \"y1\", \"text\": \"100\", \"align\": \"left\", \"y\": 4, \"x\": 4.55, \"font\": {\"color\": \"#000000\", \"size\": 15}, \"showarrow\": false}, {\"xref\": \"x1\", \"xanchor\": \"left\", \"yref\": \"y1\", \"text\": \"122\", \"align\": \"left\", \"y\": 4, \"x\": 5.55, \"font\": {\"color\": \"#000000\", \"size\": 15}, \"showarrow\": false}, {\"xref\": \"x1\", \"xanchor\": \"left\", \"yref\": \"y1\", \"text\": \"<b>0.975</b>\", \"align\": \"left\", \"y\": 5, \"x\": -0.45, \"font\": {\"color\": \"#ffffff\", \"size\": 15}, \"showarrow\": false}, {\"xref\": \"x1\", \"xanchor\": \"left\", \"yref\": \"y1\", \"text\": \"26\", \"align\": \"left\", \"y\": 5, \"x\": 0.55, \"font\": {\"color\": \"#000000\", \"size\": 15}, \"showarrow\": false}, {\"xref\": \"x1\", \"xanchor\": \"left\", \"yref\": \"y1\", \"text\": \"49\", \"align\": \"left\", \"y\": 5, \"x\": 1.55, \"font\": {\"color\": \"#000000\", \"size\": 15}, \"showarrow\": false}, {\"xref\": \"x1\", \"xanchor\": \"left\", \"yref\": \"y1\", \"text\": \"67\", \"align\": \"left\", \"y\": 5, \"x\": 2.55, \"font\": {\"color\": \"#000000\", \"size\": 15}, \"showarrow\": false}, {\"xref\": \"x1\", \"xanchor\": \"left\", \"yref\": \"y1\", \"text\": \"129\", \"align\": \"left\", \"y\": 5, \"x\": 3.55, \"font\": {\"color\": \"#000000\", \"size\": 15}, \"showarrow\": false}, {\"xref\": \"x1\", \"xanchor\": \"left\", \"yref\": \"y1\", \"text\": \"186\", \"align\": \"left\", \"y\": 5, \"x\": 4.55, \"font\": {\"color\": \"#000000\", \"size\": 15}, \"showarrow\": false}, {\"xref\": \"x1\", \"xanchor\": \"left\", \"yref\": \"y1\", \"text\": \"133\", \"align\": \"left\", \"y\": 5, \"x\": 5.55, \"font\": {\"color\": \"#000000\", \"size\": 15}, \"showarrow\": false}, {\"xref\": \"x1\", \"xanchor\": \"left\", \"yref\": \"y1\", \"text\": \"<b>0.99</b>\", \"align\": \"left\", \"y\": 6, \"x\": -0.45, \"font\": {\"color\": \"#ffffff\", \"size\": 15}, \"showarrow\": false}, {\"xref\": \"x1\", \"xanchor\": \"left\", \"yref\": \"y1\", \"text\": \"28\", \"align\": \"left\", \"y\": 6, \"x\": 0.55, \"font\": {\"color\": \"#000000\", \"size\": 15}, \"showarrow\": false}, {\"xref\": \"x1\", \"xanchor\": \"left\", \"yref\": \"y1\", \"text\": \"54\", \"align\": \"left\", \"y\": 6, \"x\": 1.55, \"font\": {\"color\": \"#000000\", \"size\": 15}, \"showarrow\": false}, {\"xref\": \"x1\", \"xanchor\": \"left\", \"yref\": \"y1\", \"text\": \"127\", \"align\": \"left\", \"y\": 6, \"x\": 2.55, \"font\": {\"color\": \"#000000\", \"size\": 15}, \"showarrow\": false}, {\"xref\": \"x1\", \"xanchor\": \"left\", \"yref\": \"y1\", \"text\": \"135\", \"align\": \"left\", \"y\": 6, \"x\": 3.55, \"font\": {\"color\": \"#000000\", \"size\": 15}, \"showarrow\": false}, {\"xref\": \"x1\", \"xanchor\": \"left\", \"yref\": \"y1\", \"text\": \"196\", \"align\": \"left\", \"y\": 6, \"x\": 4.55, \"font\": {\"color\": \"#000000\", \"size\": 15}, \"showarrow\": false}, {\"xref\": \"x1\", \"xanchor\": \"left\", \"yref\": \"y1\", \"text\": \"248\", \"align\": \"left\", \"y\": 6, \"x\": 5.55, \"font\": {\"color\": \"#000000\", \"size\": 15}, \"showarrow\": false}, {\"xref\": \"x1\", \"xanchor\": \"left\", \"yref\": \"y1\", \"text\": \"<b></b>\", \"align\": \"left\", \"y\": 7, \"x\": -0.45, \"font\": {\"color\": \"#ffffff\", \"size\": 15}, \"showarrow\": false}, {\"xref\": \"x1\", \"xanchor\": \"left\", \"yref\": \"y1\", \"text\": \"\", \"align\": \"left\", \"y\": 7, \"x\": 0.55, \"font\": {\"color\": \"#000000\", \"size\": 15}, \"showarrow\": false}, {\"xref\": \"x1\", \"xanchor\": \"left\", \"yref\": \"y1\", \"text\": \"\", \"align\": \"left\", \"y\": 7, \"x\": 1.55, \"font\": {\"color\": \"#000000\", \"size\": 15}, \"showarrow\": false}, {\"xref\": \"x1\", \"xanchor\": \"left\", \"yref\": \"y1\", \"text\": \"\", \"align\": \"left\", \"y\": 7, \"x\": 2.55, \"font\": {\"color\": \"#000000\", \"size\": 15}, \"showarrow\": false}, {\"xref\": \"x1\", \"xanchor\": \"left\", \"yref\": \"y1\", \"text\": \"\", \"align\": \"left\", \"y\": 7, \"x\": 3.55, \"font\": {\"color\": \"#000000\", \"size\": 15}, \"showarrow\": false}, {\"xref\": \"x1\", \"xanchor\": \"left\", \"yref\": \"y1\", \"text\": \"\", \"align\": \"left\", \"y\": 7, \"x\": 4.55, \"font\": {\"color\": \"#000000\", \"size\": 15}, \"showarrow\": false}, {\"xref\": \"x1\", \"xanchor\": \"left\", \"yref\": \"y1\", \"text\": \"\", \"align\": \"left\", \"y\": 7, \"x\": 5.55, \"font\": {\"color\": \"#000000\", \"size\": 15}, \"showarrow\": false}], \"xaxis\": {\"showticklabels\": false, \"tick0\": -0.5, \"ticks\": \"\", \"gridwidth\": 2, \"dtick\": 1, \"zeroline\": false}, \"height\": 290}, {\"linkText\": \"Export to plot.ly\", \"showLink\": true})});</script>"
      ],
      "text/vnd.plotly.v1+html": [
       "<div id=\"72c2e131-c590-4ba2-9576-db0813d88baa\" style=\"height: 290px; width: 100%;\" class=\"plotly-graph-div\"></div><script type=\"text/javascript\">require([\"plotly\"], function(Plotly) { window.PLOTLYENV=window.PLOTLYENV || {};window.PLOTLYENV.BASE_URL=\"https://plot.ly\";Plotly.newPlot(\"72c2e131-c590-4ba2-9576-db0813d88baa\", [{\"opacity\": 0.75, \"colorscale\": [[0, \"#00083e\"], [0.5, \"#ededee\"], [1, \"#ffffff\"]], \"showscale\": false, \"hoverinfo\": \"none\", \"z\": [[0, 0, 0, 0, 0, 0, 0], [0, 0.5, 0.5, 0.5, 0.5, 0.5, 0.5], [0, 1, 1, 1, 1, 1, 1], [0, 0.5, 0.5, 0.5, 0.5, 0.5, 0.5], [0, 1, 1, 1, 1, 1, 1], [0, 0.5, 0.5, 0.5, 0.5, 0.5, 0.5], [0, 1, 1, 1, 1, 1, 1], [0, 0.5, 0.5, 0.5, 0.5, 0.5, 0.5]], \"type\": \"heatmap\"}], {\"yaxis\": {\"showticklabels\": false, \"tick0\": 0.5, \"ticks\": \"\", \"gridwidth\": 2, \"dtick\": 1, \"zeroline\": false, \"autorange\": \"reversed\"}, \"margin\": {\"r\": 0, \"b\": 0, \"l\": 0, \"t\": 0}, \"annotations\": [{\"xref\": \"x1\", \"xanchor\": \"left\", \"yref\": \"y1\", \"text\": \"<b>Probability</b>\", \"align\": \"left\", \"y\": 0, \"x\": -0.45, \"font\": {\"color\": \"#ffffff\", \"size\": 15}, \"showarrow\": false}, {\"xref\": \"x1\", \"xanchor\": \"left\", \"yref\": \"y1\", \"text\": \"<b>N=100</b>\", \"align\": \"left\", \"y\": 0, \"x\": 0.55, \"font\": {\"color\": \"#ffffff\", \"size\": 15}, \"showarrow\": false}, {\"xref\": \"x1\", \"xanchor\": \"left\", \"yref\": \"y1\", \"text\": \"<b>N=200</b>\", \"align\": \"left\", \"y\": 0, \"x\": 1.55, \"font\": {\"color\": \"#ffffff\", \"size\": 15}, \"showarrow\": false}, {\"xref\": \"x1\", \"xanchor\": \"left\", \"yref\": \"y1\", \"text\": \"<b>N=500</b>\", \"align\": \"left\", \"y\": 0, \"x\": 2.55, \"font\": {\"color\": \"#ffffff\", \"size\": 15}, \"showarrow\": false}, {\"xref\": \"x1\", \"xanchor\": \"left\", \"yref\": \"y1\", \"text\": \"<b>N=1000</b>\", \"align\": \"left\", \"y\": 0, \"x\": 3.55, \"font\": {\"color\": \"#ffffff\", \"size\": 15}, \"showarrow\": false}, {\"xref\": \"x1\", \"xanchor\": \"left\", \"yref\": \"y1\", \"text\": \"<b>N=1500</b>\", \"align\": \"left\", \"y\": 0, \"x\": 4.55, \"font\": {\"color\": \"#ffffff\", \"size\": 15}, \"showarrow\": false}, {\"xref\": \"x1\", \"xanchor\": \"left\", \"yref\": \"y1\", \"text\": \"<b>N=2000</b>\", \"align\": \"left\", \"y\": 0, \"x\": 5.55, \"font\": {\"color\": \"#ffffff\", \"size\": 15}, \"showarrow\": false}, {\"xref\": \"x1\", \"xanchor\": \"left\", \"yref\": \"y1\", \"text\": \"<b>0.8</b>\", \"align\": \"left\", \"y\": 1, \"x\": -0.45, \"font\": {\"color\": \"#ffffff\", \"size\": 15}, \"showarrow\": false}, {\"xref\": \"x1\", \"xanchor\": \"left\", \"yref\": \"y1\", \"text\": \"8\", \"align\": \"left\", \"y\": 1, \"x\": 0.55, \"font\": {\"color\": \"#000000\", \"size\": 15}, \"showarrow\": false}, {\"xref\": \"x1\", \"xanchor\": \"left\", \"yref\": \"y1\", \"text\": \"12\", \"align\": \"left\", \"y\": 1, \"x\": 1.55, \"font\": {\"color\": \"#000000\", \"size\": 15}, \"showarrow\": false}, {\"xref\": \"x1\", \"xanchor\": \"left\", \"yref\": \"y1\", \"text\": \"18\", \"align\": \"left\", \"y\": 1, \"x\": 2.55, \"font\": {\"color\": \"#000000\", \"size\": 15}, \"showarrow\": false}, {\"xref\": \"x1\", \"xanchor\": \"left\", \"yref\": \"y1\", \"text\": \"28\", \"align\": \"left\", \"y\": 1, \"x\": 3.55, \"font\": {\"color\": \"#000000\", \"size\": 15}, \"showarrow\": false}, {\"xref\": \"x1\", \"xanchor\": \"left\", \"yref\": \"y1\", \"text\": \"29\", \"align\": \"left\", \"y\": 1, \"x\": 4.55, \"font\": {\"color\": \"#000000\", \"size\": 15}, \"showarrow\": false}, {\"xref\": \"x1\", \"xanchor\": \"left\", \"yref\": \"y1\", \"text\": \"35\", \"align\": \"left\", \"y\": 1, \"x\": 5.55, \"font\": {\"color\": \"#000000\", \"size\": 15}, \"showarrow\": false}, {\"xref\": \"x1\", \"xanchor\": \"left\", \"yref\": \"y1\", \"text\": \"<b>0.85</b>\", \"align\": \"left\", \"y\": 2, \"x\": -0.45, \"font\": {\"color\": \"#ffffff\", \"size\": 15}, \"showarrow\": false}, {\"xref\": \"x1\", \"xanchor\": \"left\", \"yref\": \"y1\", \"text\": \"12\", \"align\": \"left\", \"y\": 2, \"x\": 0.55, \"font\": {\"color\": \"#000000\", \"size\": 15}, \"showarrow\": false}, {\"xref\": \"x1\", \"xanchor\": \"left\", \"yref\": \"y1\", \"text\": \"15\", \"align\": \"left\", \"y\": 2, \"x\": 1.55, \"font\": {\"color\": \"#000000\", \"size\": 15}, \"showarrow\": false}, {\"xref\": \"x1\", \"xanchor\": \"left\", \"yref\": \"y1\", \"text\": \"30\", \"align\": \"left\", \"y\": 2, \"x\": 2.55, \"font\": {\"color\": \"#000000\", \"size\": 15}, \"showarrow\": false}, {\"xref\": \"x1\", \"xanchor\": \"left\", \"yref\": \"y1\", \"text\": \"33\", \"align\": \"left\", \"y\": 2, \"x\": 3.55, \"font\": {\"color\": \"#000000\", \"size\": 15}, \"showarrow\": false}, {\"xref\": \"x1\", \"xanchor\": \"left\", \"yref\": \"y1\", \"text\": \"47\", \"align\": \"left\", \"y\": 2, \"x\": 4.55, \"font\": {\"color\": \"#000000\", \"size\": 15}, \"showarrow\": false}, {\"xref\": \"x1\", \"xanchor\": \"left\", \"yref\": \"y1\", \"text\": \"59\", \"align\": \"left\", \"y\": 2, \"x\": 5.55, \"font\": {\"color\": \"#000000\", \"size\": 15}, \"showarrow\": false}, {\"xref\": \"x1\", \"xanchor\": \"left\", \"yref\": \"y1\", \"text\": \"<b>0.9</b>\", \"align\": \"left\", \"y\": 3, \"x\": -0.45, \"font\": {\"color\": \"#ffffff\", \"size\": 15}, \"showarrow\": false}, {\"xref\": \"x1\", \"xanchor\": \"left\", \"yref\": \"y1\", \"text\": \"14\", \"align\": \"left\", \"y\": 3, \"x\": 0.55, \"font\": {\"color\": \"#000000\", \"size\": 15}, \"showarrow\": false}, {\"xref\": \"x1\", \"xanchor\": \"left\", \"yref\": \"y1\", \"text\": \"25\", \"align\": \"left\", \"y\": 3, \"x\": 1.55, \"font\": {\"color\": \"#000000\", \"size\": 15}, \"showarrow\": false}, {\"xref\": \"x1\", \"xanchor\": \"left\", \"yref\": \"y1\", \"text\": \"36\", \"align\": \"left\", \"y\": 3, \"x\": 2.55, \"font\": {\"color\": \"#000000\", \"size\": 15}, \"showarrow\": false}, {\"xref\": \"x1\", \"xanchor\": \"left\", \"yref\": \"y1\", \"text\": \"52\", \"align\": \"left\", \"y\": 3, \"x\": 3.55, \"font\": {\"color\": \"#000000\", \"size\": 15}, \"showarrow\": false}, {\"xref\": \"x1\", \"xanchor\": \"left\", \"yref\": \"y1\", \"text\": \"82\", \"align\": \"left\", \"y\": 3, \"x\": 4.55, \"font\": {\"color\": \"#000000\", \"size\": 15}, \"showarrow\": false}, {\"xref\": \"x1\", \"xanchor\": \"left\", \"yref\": \"y1\", \"text\": \"67\", \"align\": \"left\", \"y\": 3, \"x\": 5.55, \"font\": {\"color\": \"#000000\", \"size\": 15}, \"showarrow\": false}, {\"xref\": \"x1\", \"xanchor\": \"left\", \"yref\": \"y1\", \"text\": \"<b>0.95</b>\", \"align\": \"left\", \"y\": 4, \"x\": -0.45, \"font\": {\"color\": \"#ffffff\", \"size\": 15}, \"showarrow\": false}, {\"xref\": \"x1\", \"xanchor\": \"left\", \"yref\": \"y1\", \"text\": \"25\", \"align\": \"left\", \"y\": 4, \"x\": 0.55, \"font\": {\"color\": \"#000000\", \"size\": 15}, \"showarrow\": false}, {\"xref\": \"x1\", \"xanchor\": \"left\", \"yref\": \"y1\", \"text\": \"29\", \"align\": \"left\", \"y\": 4, \"x\": 1.55, \"font\": {\"color\": \"#000000\", \"size\": 15}, \"showarrow\": false}, {\"xref\": \"x1\", \"xanchor\": \"left\", \"yref\": \"y1\", \"text\": \"61\", \"align\": \"left\", \"y\": 4, \"x\": 2.55, \"font\": {\"color\": \"#000000\", \"size\": 15}, \"showarrow\": false}, {\"xref\": \"x1\", \"xanchor\": \"left\", \"yref\": \"y1\", \"text\": \"68\", \"align\": \"left\", \"y\": 4, \"x\": 3.55, \"font\": {\"color\": \"#000000\", \"size\": 15}, \"showarrow\": false}, {\"xref\": \"x1\", \"xanchor\": \"left\", \"yref\": \"y1\", \"text\": \"100\", \"align\": \"left\", \"y\": 4, \"x\": 4.55, \"font\": {\"color\": \"#000000\", \"size\": 15}, \"showarrow\": false}, {\"xref\": \"x1\", \"xanchor\": \"left\", \"yref\": \"y1\", \"text\": \"122\", \"align\": \"left\", \"y\": 4, \"x\": 5.55, \"font\": {\"color\": \"#000000\", \"size\": 15}, \"showarrow\": false}, {\"xref\": \"x1\", \"xanchor\": \"left\", \"yref\": \"y1\", \"text\": \"<b>0.975</b>\", \"align\": \"left\", \"y\": 5, \"x\": -0.45, \"font\": {\"color\": \"#ffffff\", \"size\": 15}, \"showarrow\": false}, {\"xref\": \"x1\", \"xanchor\": \"left\", \"yref\": \"y1\", \"text\": \"26\", \"align\": \"left\", \"y\": 5, \"x\": 0.55, \"font\": {\"color\": \"#000000\", \"size\": 15}, \"showarrow\": false}, {\"xref\": \"x1\", \"xanchor\": \"left\", \"yref\": \"y1\", \"text\": \"49\", \"align\": \"left\", \"y\": 5, \"x\": 1.55, \"font\": {\"color\": \"#000000\", \"size\": 15}, \"showarrow\": false}, {\"xref\": \"x1\", \"xanchor\": \"left\", \"yref\": \"y1\", \"text\": \"67\", \"align\": \"left\", \"y\": 5, \"x\": 2.55, \"font\": {\"color\": \"#000000\", \"size\": 15}, \"showarrow\": false}, {\"xref\": \"x1\", \"xanchor\": \"left\", \"yref\": \"y1\", \"text\": \"129\", \"align\": \"left\", \"y\": 5, \"x\": 3.55, \"font\": {\"color\": \"#000000\", \"size\": 15}, \"showarrow\": false}, {\"xref\": \"x1\", \"xanchor\": \"left\", \"yref\": \"y1\", \"text\": \"186\", \"align\": \"left\", \"y\": 5, \"x\": 4.55, \"font\": {\"color\": \"#000000\", \"size\": 15}, \"showarrow\": false}, {\"xref\": \"x1\", \"xanchor\": \"left\", \"yref\": \"y1\", \"text\": \"133\", \"align\": \"left\", \"y\": 5, \"x\": 5.55, \"font\": {\"color\": \"#000000\", \"size\": 15}, \"showarrow\": false}, {\"xref\": \"x1\", \"xanchor\": \"left\", \"yref\": \"y1\", \"text\": \"<b>0.99</b>\", \"align\": \"left\", \"y\": 6, \"x\": -0.45, \"font\": {\"color\": \"#ffffff\", \"size\": 15}, \"showarrow\": false}, {\"xref\": \"x1\", \"xanchor\": \"left\", \"yref\": \"y1\", \"text\": \"28\", \"align\": \"left\", \"y\": 6, \"x\": 0.55, \"font\": {\"color\": \"#000000\", \"size\": 15}, \"showarrow\": false}, {\"xref\": \"x1\", \"xanchor\": \"left\", \"yref\": \"y1\", \"text\": \"54\", \"align\": \"left\", \"y\": 6, \"x\": 1.55, \"font\": {\"color\": \"#000000\", \"size\": 15}, \"showarrow\": false}, {\"xref\": \"x1\", \"xanchor\": \"left\", \"yref\": \"y1\", \"text\": \"127\", \"align\": \"left\", \"y\": 6, \"x\": 2.55, \"font\": {\"color\": \"#000000\", \"size\": 15}, \"showarrow\": false}, {\"xref\": \"x1\", \"xanchor\": \"left\", \"yref\": \"y1\", \"text\": \"135\", \"align\": \"left\", \"y\": 6, \"x\": 3.55, \"font\": {\"color\": \"#000000\", \"size\": 15}, \"showarrow\": false}, {\"xref\": \"x1\", \"xanchor\": \"left\", \"yref\": \"y1\", \"text\": \"196\", \"align\": \"left\", \"y\": 6, \"x\": 4.55, \"font\": {\"color\": \"#000000\", \"size\": 15}, \"showarrow\": false}, {\"xref\": \"x1\", \"xanchor\": \"left\", \"yref\": \"y1\", \"text\": \"248\", \"align\": \"left\", \"y\": 6, \"x\": 5.55, \"font\": {\"color\": \"#000000\", \"size\": 15}, \"showarrow\": false}, {\"xref\": \"x1\", \"xanchor\": \"left\", \"yref\": \"y1\", \"text\": \"<b></b>\", \"align\": \"left\", \"y\": 7, \"x\": -0.45, \"font\": {\"color\": \"#ffffff\", \"size\": 15}, \"showarrow\": false}, {\"xref\": \"x1\", \"xanchor\": \"left\", \"yref\": \"y1\", \"text\": \"\", \"align\": \"left\", \"y\": 7, \"x\": 0.55, \"font\": {\"color\": \"#000000\", \"size\": 15}, \"showarrow\": false}, {\"xref\": \"x1\", \"xanchor\": \"left\", \"yref\": \"y1\", \"text\": \"\", \"align\": \"left\", \"y\": 7, \"x\": 1.55, \"font\": {\"color\": \"#000000\", \"size\": 15}, \"showarrow\": false}, {\"xref\": \"x1\", \"xanchor\": \"left\", \"yref\": \"y1\", \"text\": \"\", \"align\": \"left\", \"y\": 7, \"x\": 2.55, \"font\": {\"color\": \"#000000\", \"size\": 15}, \"showarrow\": false}, {\"xref\": \"x1\", \"xanchor\": \"left\", \"yref\": \"y1\", \"text\": \"\", \"align\": \"left\", \"y\": 7, \"x\": 3.55, \"font\": {\"color\": \"#000000\", \"size\": 15}, \"showarrow\": false}, {\"xref\": \"x1\", \"xanchor\": \"left\", \"yref\": \"y1\", \"text\": \"\", \"align\": \"left\", \"y\": 7, \"x\": 4.55, \"font\": {\"color\": \"#000000\", \"size\": 15}, \"showarrow\": false}, {\"xref\": \"x1\", \"xanchor\": \"left\", \"yref\": \"y1\", \"text\": \"\", \"align\": \"left\", \"y\": 7, \"x\": 5.55, \"font\": {\"color\": \"#000000\", \"size\": 15}, \"showarrow\": false}], \"xaxis\": {\"showticklabels\": false, \"tick0\": -0.5, \"ticks\": \"\", \"gridwidth\": 2, \"dtick\": 1, \"zeroline\": false}, \"height\": 290}, {\"linkText\": \"Export to plot.ly\", \"showLink\": true})});</script>"
      ]
     },
     "metadata": {},
     "output_type": "display_data"
    }
   ],
   "source": [
    "data_matrix = [['Probability', 'N=100','N=200','N=500','N=1000','N=1500','N=2000'],\n",
    "               ['0.8']+list1ua,\n",
    "               ['0.85']+list2ua,\n",
    "               ['0.9']+list3ua,\n",
    "               ['0.95']+list4ua,\n",
    "               ['0.975']+list5ua,\n",
    "               ['0.99']+list6ua,\n",
    "               ['','','','','','','']\n",
    "               ]\n",
    "\n",
    "table = ff.create_table(data_matrix,index=True, index_title='Date')\n",
    "for i in range(len(table.layout.annotations)):\n",
    "    table.layout.annotations[i].font.size = 15\n",
    "iplot(table, filename='simple_table')"
   ]
  },
  {
   "cell_type": "code",
   "execution_count": 28,
   "metadata": {},
   "outputs": [
    {
     "data": {
      "application/vnd.plotly.v1+json": {
       "data": [
        {
         "colorscale": [
          [
           0,
           "#00083e"
          ],
          [
           0.5,
           "#ededee"
          ],
          [
           1,
           "#ffffff"
          ]
         ],
         "hoverinfo": "none",
         "opacity": 0.75,
         "showscale": false,
         "type": "heatmap",
         "z": [
          [
           0,
           0,
           0,
           0,
           0,
           0,
           0
          ],
          [
           0,
           0.5,
           0.5,
           0.5,
           0.5,
           0.5,
           0.5
          ],
          [
           0,
           1,
           1,
           1,
           1,
           1,
           1
          ],
          [
           0,
           0.5,
           0.5,
           0.5,
           0.5,
           0.5,
           0.5
          ],
          [
           0,
           1,
           1,
           1,
           1,
           1,
           1
          ],
          [
           0,
           0.5,
           0.5,
           0.5,
           0.5,
           0.5,
           0.5
          ],
          [
           0,
           1,
           1,
           1,
           1,
           1,
           1
          ],
          [
           0,
           0.5,
           0.5,
           0.5,
           0.5,
           0.5,
           0.5
          ]
         ]
        }
       ],
       "layout": {
        "annotations": [
         {
          "align": "left",
          "font": {
           "color": "#ffffff",
           "size": 15
          },
          "showarrow": false,
          "text": "<b>Probability</b>",
          "x": -0.45,
          "xanchor": "left",
          "xref": "x1",
          "y": 0,
          "yref": "y1"
         },
         {
          "align": "left",
          "font": {
           "color": "#ffffff",
           "size": 15
          },
          "showarrow": false,
          "text": "<b>N=100</b>",
          "x": 0.55,
          "xanchor": "left",
          "xref": "x1",
          "y": 0,
          "yref": "y1"
         },
         {
          "align": "left",
          "font": {
           "color": "#ffffff",
           "size": 15
          },
          "showarrow": false,
          "text": "<b>N=200</b>",
          "x": 1.55,
          "xanchor": "left",
          "xref": "x1",
          "y": 0,
          "yref": "y1"
         },
         {
          "align": "left",
          "font": {
           "color": "#ffffff",
           "size": 15
          },
          "showarrow": false,
          "text": "<b>N=500</b>",
          "x": 2.55,
          "xanchor": "left",
          "xref": "x1",
          "y": 0,
          "yref": "y1"
         },
         {
          "align": "left",
          "font": {
           "color": "#ffffff",
           "size": 15
          },
          "showarrow": false,
          "text": "<b>N=1000</b>",
          "x": 3.55,
          "xanchor": "left",
          "xref": "x1",
          "y": 0,
          "yref": "y1"
         },
         {
          "align": "left",
          "font": {
           "color": "#ffffff",
           "size": 15
          },
          "showarrow": false,
          "text": "<b>N=1500</b>",
          "x": 4.55,
          "xanchor": "left",
          "xref": "x1",
          "y": 0,
          "yref": "y1"
         },
         {
          "align": "left",
          "font": {
           "color": "#ffffff",
           "size": 15
          },
          "showarrow": false,
          "text": "<b>N=2000</b>",
          "x": 5.55,
          "xanchor": "left",
          "xref": "x1",
          "y": 0,
          "yref": "y1"
         },
         {
          "align": "left",
          "font": {
           "color": "#ffffff",
           "size": 15
          },
          "showarrow": false,
          "text": "<b>0.8</b>",
          "x": -0.45,
          "xanchor": "left",
          "xref": "x1",
          "y": 1,
          "yref": "y1"
         },
         {
          "align": "left",
          "font": {
           "color": "#000000",
           "size": 15
          },
          "showarrow": false,
          "text": "9",
          "x": 0.55,
          "xanchor": "left",
          "xref": "x1",
          "y": 1,
          "yref": "y1"
         },
         {
          "align": "left",
          "font": {
           "color": "#000000",
           "size": 15
          },
          "showarrow": false,
          "text": "10",
          "x": 1.55,
          "xanchor": "left",
          "xref": "x1",
          "y": 1,
          "yref": "y1"
         },
         {
          "align": "left",
          "font": {
           "color": "#000000",
           "size": 15
          },
          "showarrow": false,
          "text": "9",
          "x": 2.55,
          "xanchor": "left",
          "xref": "x1",
          "y": 1,
          "yref": "y1"
         },
         {
          "align": "left",
          "font": {
           "color": "#000000",
           "size": 15
          },
          "showarrow": false,
          "text": "14",
          "x": 3.55,
          "xanchor": "left",
          "xref": "x1",
          "y": 1,
          "yref": "y1"
         },
         {
          "align": "left",
          "font": {
           "color": "#000000",
           "size": 15
          },
          "showarrow": false,
          "text": "18",
          "x": 4.55,
          "xanchor": "left",
          "xref": "x1",
          "y": 1,
          "yref": "y1"
         },
         {
          "align": "left",
          "font": {
           "color": "#000000",
           "size": 15
          },
          "showarrow": false,
          "text": "15",
          "x": 5.55,
          "xanchor": "left",
          "xref": "x1",
          "y": 1,
          "yref": "y1"
         },
         {
          "align": "left",
          "font": {
           "color": "#ffffff",
           "size": 15
          },
          "showarrow": false,
          "text": "<b>0.85</b>",
          "x": -0.45,
          "xanchor": "left",
          "xref": "x1",
          "y": 2,
          "yref": "y1"
         },
         {
          "align": "left",
          "font": {
           "color": "#000000",
           "size": 15
          },
          "showarrow": false,
          "text": "13",
          "x": 0.55,
          "xanchor": "left",
          "xref": "x1",
          "y": 2,
          "yref": "y1"
         },
         {
          "align": "left",
          "font": {
           "color": "#000000",
           "size": 15
          },
          "showarrow": false,
          "text": "13",
          "x": 1.55,
          "xanchor": "left",
          "xref": "x1",
          "y": 2,
          "yref": "y1"
         },
         {
          "align": "left",
          "font": {
           "color": "#000000",
           "size": 15
          },
          "showarrow": false,
          "text": "12",
          "x": 2.55,
          "xanchor": "left",
          "xref": "x1",
          "y": 2,
          "yref": "y1"
         },
         {
          "align": "left",
          "font": {
           "color": "#000000",
           "size": 15
          },
          "showarrow": false,
          "text": "22",
          "x": 3.55,
          "xanchor": "left",
          "xref": "x1",
          "y": 2,
          "yref": "y1"
         },
         {
          "align": "left",
          "font": {
           "color": "#000000",
           "size": 15
          },
          "showarrow": false,
          "text": "29",
          "x": 4.55,
          "xanchor": "left",
          "xref": "x1",
          "y": 2,
          "yref": "y1"
         },
         {
          "align": "left",
          "font": {
           "color": "#000000",
           "size": 15
          },
          "showarrow": false,
          "text": "24",
          "x": 5.55,
          "xanchor": "left",
          "xref": "x1",
          "y": 2,
          "yref": "y1"
         },
         {
          "align": "left",
          "font": {
           "color": "#ffffff",
           "size": 15
          },
          "showarrow": false,
          "text": "<b>0.9</b>",
          "x": -0.45,
          "xanchor": "left",
          "xref": "x1",
          "y": 3,
          "yref": "y1"
         },
         {
          "align": "left",
          "font": {
           "color": "#000000",
           "size": 15
          },
          "showarrow": false,
          "text": "19",
          "x": 0.55,
          "xanchor": "left",
          "xref": "x1",
          "y": 3,
          "yref": "y1"
         },
         {
          "align": "left",
          "font": {
           "color": "#000000",
           "size": 15
          },
          "showarrow": false,
          "text": "21",
          "x": 1.55,
          "xanchor": "left",
          "xref": "x1",
          "y": 3,
          "yref": "y1"
         },
         {
          "align": "left",
          "font": {
           "color": "#000000",
           "size": 15
          },
          "showarrow": false,
          "text": "18",
          "x": 2.55,
          "xanchor": "left",
          "xref": "x1",
          "y": 3,
          "yref": "y1"
         },
         {
          "align": "left",
          "font": {
           "color": "#000000",
           "size": 15
          },
          "showarrow": false,
          "text": "50",
          "x": 3.55,
          "xanchor": "left",
          "xref": "x1",
          "y": 3,
          "yref": "y1"
         },
         {
          "align": "left",
          "font": {
           "color": "#000000",
           "size": 15
          },
          "showarrow": false,
          "text": "60",
          "x": 4.55,
          "xanchor": "left",
          "xref": "x1",
          "y": 3,
          "yref": "y1"
         },
         {
          "align": "left",
          "font": {
           "color": "#000000",
           "size": 15
          },
          "showarrow": false,
          "text": "48",
          "x": 5.55,
          "xanchor": "left",
          "xref": "x1",
          "y": 3,
          "yref": "y1"
         },
         {
          "align": "left",
          "font": {
           "color": "#ffffff",
           "size": 15
          },
          "showarrow": false,
          "text": "<b>0.95</b>",
          "x": -0.45,
          "xanchor": "left",
          "xref": "x1",
          "y": 4,
          "yref": "y1"
         },
         {
          "align": "left",
          "font": {
           "color": "#000000",
           "size": 15
          },
          "showarrow": false,
          "text": "34",
          "x": 0.55,
          "xanchor": "left",
          "xref": "x1",
          "y": 4,
          "yref": "y1"
         },
         {
          "align": "left",
          "font": {
           "color": "#000000",
           "size": 15
          },
          "showarrow": false,
          "text": "39",
          "x": 1.55,
          "xanchor": "left",
          "xref": "x1",
          "y": 4,
          "yref": "y1"
         },
         {
          "align": "left",
          "font": {
           "color": "#000000",
           "size": 15
          },
          "showarrow": false,
          "text": "76",
          "x": 2.55,
          "xanchor": "left",
          "xref": "x1",
          "y": 4,
          "yref": "y1"
         },
         {
          "align": "left",
          "font": {
           "color": "#000000",
           "size": 15
          },
          "showarrow": false,
          "text": "103",
          "x": 3.55,
          "xanchor": "left",
          "xref": "x1",
          "y": 4,
          "yref": "y1"
         },
         {
          "align": "left",
          "font": {
           "color": "#000000",
           "size": 15
          },
          "showarrow": false,
          "text": "129",
          "x": 4.55,
          "xanchor": "left",
          "xref": "x1",
          "y": 4,
          "yref": "y1"
         },
         {
          "align": "left",
          "font": {
           "color": "#000000",
           "size": 15
          },
          "showarrow": false,
          "text": "125",
          "x": 5.55,
          "xanchor": "left",
          "xref": "x1",
          "y": 4,
          "yref": "y1"
         },
         {
          "align": "left",
          "font": {
           "color": "#ffffff",
           "size": 15
          },
          "showarrow": false,
          "text": "<b>0.975</b>",
          "x": -0.45,
          "xanchor": "left",
          "xref": "x1",
          "y": 5,
          "yref": "y1"
         },
         {
          "align": "left",
          "font": {
           "color": "#000000",
           "size": 15
          },
          "showarrow": false,
          "text": "37",
          "x": 0.55,
          "xanchor": "left",
          "xref": "x1",
          "y": 5,
          "yref": "y1"
         },
         {
          "align": "left",
          "font": {
           "color": "#000000",
           "size": 15
          },
          "showarrow": false,
          "text": "66",
          "x": 1.55,
          "xanchor": "left",
          "xref": "x1",
          "y": 5,
          "yref": "y1"
         },
         {
          "align": "left",
          "font": {
           "color": "#000000",
           "size": 15
          },
          "showarrow": false,
          "text": "148",
          "x": 2.55,
          "xanchor": "left",
          "xref": "x1",
          "y": 5,
          "yref": "y1"
         },
         {
          "align": "left",
          "font": {
           "color": "#000000",
           "size": 15
          },
          "showarrow": false,
          "text": "166",
          "x": 3.55,
          "xanchor": "left",
          "xref": "x1",
          "y": 5,
          "yref": "y1"
         },
         {
          "align": "left",
          "font": {
           "color": "#000000",
           "size": 15
          },
          "showarrow": false,
          "text": "238",
          "x": 4.55,
          "xanchor": "left",
          "xref": "x1",
          "y": 5,
          "yref": "y1"
         },
         {
          "align": "left",
          "font": {
           "color": "#000000",
           "size": 15
          },
          "showarrow": false,
          "text": "322",
          "x": 5.55,
          "xanchor": "left",
          "xref": "x1",
          "y": 5,
          "yref": "y1"
         },
         {
          "align": "left",
          "font": {
           "color": "#ffffff",
           "size": 15
          },
          "showarrow": false,
          "text": "<b>0.99</b>",
          "x": -0.45,
          "xanchor": "left",
          "xref": "x1",
          "y": 6,
          "yref": "y1"
         },
         {
          "align": "left",
          "font": {
           "color": "#000000",
           "size": 15
          },
          "showarrow": false,
          "text": "39",
          "x": 0.55,
          "xanchor": "left",
          "xref": "x1",
          "y": 6,
          "yref": "y1"
         },
         {
          "align": "left",
          "font": {
           "color": "#000000",
           "size": 15
          },
          "showarrow": false,
          "text": "71",
          "x": 1.55,
          "xanchor": "left",
          "xref": "x1",
          "y": 6,
          "yref": "y1"
         },
         {
          "align": "left",
          "font": {
           "color": "#000000",
           "size": 15
          },
          "showarrow": false,
          "text": "168",
          "x": 2.55,
          "xanchor": "left",
          "xref": "x1",
          "y": 6,
          "yref": "y1"
         },
         {
          "align": "left",
          "font": {
           "color": "#000000",
           "size": 15
          },
          "showarrow": false,
          "text": "337",
          "x": 3.55,
          "xanchor": "left",
          "xref": "x1",
          "y": 6,
          "yref": "y1"
         },
         {
          "align": "left",
          "font": {
           "color": "#000000",
           "size": 15
          },
          "showarrow": false,
          "text": "479",
          "x": 4.55,
          "xanchor": "left",
          "xref": "x1",
          "y": 6,
          "yref": "y1"
         },
         {
          "align": "left",
          "font": {
           "color": "#000000",
           "size": 15
          },
          "showarrow": false,
          "text": "544",
          "x": 5.55,
          "xanchor": "left",
          "xref": "x1",
          "y": 6,
          "yref": "y1"
         },
         {
          "align": "left",
          "font": {
           "color": "#ffffff",
           "size": 15
          },
          "showarrow": false,
          "text": "<b></b>",
          "x": -0.45,
          "xanchor": "left",
          "xref": "x1",
          "y": 7,
          "yref": "y1"
         },
         {
          "align": "left",
          "font": {
           "color": "#000000",
           "size": 15
          },
          "showarrow": false,
          "text": "",
          "x": 0.55,
          "xanchor": "left",
          "xref": "x1",
          "y": 7,
          "yref": "y1"
         },
         {
          "align": "left",
          "font": {
           "color": "#000000",
           "size": 15
          },
          "showarrow": false,
          "text": "",
          "x": 1.55,
          "xanchor": "left",
          "xref": "x1",
          "y": 7,
          "yref": "y1"
         },
         {
          "align": "left",
          "font": {
           "color": "#000000",
           "size": 15
          },
          "showarrow": false,
          "text": "",
          "x": 2.55,
          "xanchor": "left",
          "xref": "x1",
          "y": 7,
          "yref": "y1"
         },
         {
          "align": "left",
          "font": {
           "color": "#000000",
           "size": 15
          },
          "showarrow": false,
          "text": "",
          "x": 3.55,
          "xanchor": "left",
          "xref": "x1",
          "y": 7,
          "yref": "y1"
         },
         {
          "align": "left",
          "font": {
           "color": "#000000",
           "size": 15
          },
          "showarrow": false,
          "text": "",
          "x": 4.55,
          "xanchor": "left",
          "xref": "x1",
          "y": 7,
          "yref": "y1"
         },
         {
          "align": "left",
          "font": {
           "color": "#000000",
           "size": 15
          },
          "showarrow": false,
          "text": "",
          "x": 5.55,
          "xanchor": "left",
          "xref": "x1",
          "y": 7,
          "yref": "y1"
         }
        ],
        "height": 290,
        "margin": {
         "b": 0,
         "l": 0,
         "r": 0,
         "t": 0
        },
        "xaxis": {
         "dtick": 1,
         "gridwidth": 2,
         "showticklabels": false,
         "tick0": -0.5,
         "ticks": "",
         "zeroline": false
        },
        "yaxis": {
         "autorange": "reversed",
         "dtick": 1,
         "gridwidth": 2,
         "showticklabels": false,
         "tick0": 0.5,
         "ticks": "",
         "zeroline": false
        }
       }
      },
      "text/html": [
       "<div id=\"a19f3d2b-610e-4f2e-b04c-7dcb7876b835\" style=\"height: 290px; width: 100%;\" class=\"plotly-graph-div\"></div><script type=\"text/javascript\">require([\"plotly\"], function(Plotly) { window.PLOTLYENV=window.PLOTLYENV || {};window.PLOTLYENV.BASE_URL=\"https://plot.ly\";Plotly.newPlot(\"a19f3d2b-610e-4f2e-b04c-7dcb7876b835\", [{\"opacity\": 0.75, \"colorscale\": [[0, \"#00083e\"], [0.5, \"#ededee\"], [1, \"#ffffff\"]], \"showscale\": false, \"hoverinfo\": \"none\", \"z\": [[0, 0, 0, 0, 0, 0, 0], [0, 0.5, 0.5, 0.5, 0.5, 0.5, 0.5], [0, 1, 1, 1, 1, 1, 1], [0, 0.5, 0.5, 0.5, 0.5, 0.5, 0.5], [0, 1, 1, 1, 1, 1, 1], [0, 0.5, 0.5, 0.5, 0.5, 0.5, 0.5], [0, 1, 1, 1, 1, 1, 1], [0, 0.5, 0.5, 0.5, 0.5, 0.5, 0.5]], \"type\": \"heatmap\"}], {\"yaxis\": {\"showticklabels\": false, \"tick0\": 0.5, \"ticks\": \"\", \"gridwidth\": 2, \"dtick\": 1, \"zeroline\": false, \"autorange\": \"reversed\"}, \"margin\": {\"r\": 0, \"b\": 0, \"l\": 0, \"t\": 0}, \"annotations\": [{\"xref\": \"x1\", \"xanchor\": \"left\", \"yref\": \"y1\", \"text\": \"<b>Probability</b>\", \"align\": \"left\", \"y\": 0, \"x\": -0.45, \"font\": {\"color\": \"#ffffff\", \"size\": 15}, \"showarrow\": false}, {\"xref\": \"x1\", \"xanchor\": \"left\", \"yref\": \"y1\", \"text\": \"<b>N=100</b>\", \"align\": \"left\", \"y\": 0, \"x\": 0.55, \"font\": {\"color\": \"#ffffff\", \"size\": 15}, \"showarrow\": false}, {\"xref\": \"x1\", \"xanchor\": \"left\", \"yref\": \"y1\", \"text\": \"<b>N=200</b>\", \"align\": \"left\", \"y\": 0, \"x\": 1.55, \"font\": {\"color\": \"#ffffff\", \"size\": 15}, \"showarrow\": false}, {\"xref\": \"x1\", \"xanchor\": \"left\", \"yref\": \"y1\", \"text\": \"<b>N=500</b>\", \"align\": \"left\", \"y\": 0, \"x\": 2.55, \"font\": {\"color\": \"#ffffff\", \"size\": 15}, \"showarrow\": false}, {\"xref\": \"x1\", \"xanchor\": \"left\", \"yref\": \"y1\", \"text\": \"<b>N=1000</b>\", \"align\": \"left\", \"y\": 0, \"x\": 3.55, \"font\": {\"color\": \"#ffffff\", \"size\": 15}, \"showarrow\": false}, {\"xref\": \"x1\", \"xanchor\": \"left\", \"yref\": \"y1\", \"text\": \"<b>N=1500</b>\", \"align\": \"left\", \"y\": 0, \"x\": 4.55, \"font\": {\"color\": \"#ffffff\", \"size\": 15}, \"showarrow\": false}, {\"xref\": \"x1\", \"xanchor\": \"left\", \"yref\": \"y1\", \"text\": \"<b>N=2000</b>\", \"align\": \"left\", \"y\": 0, \"x\": 5.55, \"font\": {\"color\": \"#ffffff\", \"size\": 15}, \"showarrow\": false}, {\"xref\": \"x1\", \"xanchor\": \"left\", \"yref\": \"y1\", \"text\": \"<b>0.8</b>\", \"align\": \"left\", \"y\": 1, \"x\": -0.45, \"font\": {\"color\": \"#ffffff\", \"size\": 15}, \"showarrow\": false}, {\"xref\": \"x1\", \"xanchor\": \"left\", \"yref\": \"y1\", \"text\": \"9\", \"align\": \"left\", \"y\": 1, \"x\": 0.55, \"font\": {\"color\": \"#000000\", \"size\": 15}, \"showarrow\": false}, {\"xref\": \"x1\", \"xanchor\": \"left\", \"yref\": \"y1\", \"text\": \"10\", \"align\": \"left\", \"y\": 1, \"x\": 1.55, \"font\": {\"color\": \"#000000\", \"size\": 15}, \"showarrow\": false}, {\"xref\": \"x1\", \"xanchor\": \"left\", \"yref\": \"y1\", \"text\": \"9\", \"align\": \"left\", \"y\": 1, \"x\": 2.55, \"font\": {\"color\": \"#000000\", \"size\": 15}, \"showarrow\": false}, {\"xref\": \"x1\", \"xanchor\": \"left\", \"yref\": \"y1\", \"text\": \"14\", \"align\": \"left\", \"y\": 1, \"x\": 3.55, \"font\": {\"color\": \"#000000\", \"size\": 15}, \"showarrow\": false}, {\"xref\": \"x1\", \"xanchor\": \"left\", \"yref\": \"y1\", \"text\": \"18\", \"align\": \"left\", \"y\": 1, \"x\": 4.55, \"font\": {\"color\": \"#000000\", \"size\": 15}, \"showarrow\": false}, {\"xref\": \"x1\", \"xanchor\": \"left\", \"yref\": \"y1\", \"text\": \"15\", \"align\": \"left\", \"y\": 1, \"x\": 5.55, \"font\": {\"color\": \"#000000\", \"size\": 15}, \"showarrow\": false}, {\"xref\": \"x1\", \"xanchor\": \"left\", \"yref\": \"y1\", \"text\": \"<b>0.85</b>\", \"align\": \"left\", \"y\": 2, \"x\": -0.45, \"font\": {\"color\": \"#ffffff\", \"size\": 15}, \"showarrow\": false}, {\"xref\": \"x1\", \"xanchor\": \"left\", \"yref\": \"y1\", \"text\": \"13\", \"align\": \"left\", \"y\": 2, \"x\": 0.55, \"font\": {\"color\": \"#000000\", \"size\": 15}, \"showarrow\": false}, {\"xref\": \"x1\", \"xanchor\": \"left\", \"yref\": \"y1\", \"text\": \"13\", \"align\": \"left\", \"y\": 2, \"x\": 1.55, \"font\": {\"color\": \"#000000\", \"size\": 15}, \"showarrow\": false}, {\"xref\": \"x1\", \"xanchor\": \"left\", \"yref\": \"y1\", \"text\": \"12\", \"align\": \"left\", \"y\": 2, \"x\": 2.55, \"font\": {\"color\": \"#000000\", \"size\": 15}, \"showarrow\": false}, {\"xref\": \"x1\", \"xanchor\": \"left\", \"yref\": \"y1\", \"text\": \"22\", \"align\": \"left\", \"y\": 2, \"x\": 3.55, \"font\": {\"color\": \"#000000\", \"size\": 15}, \"showarrow\": false}, {\"xref\": \"x1\", \"xanchor\": \"left\", \"yref\": \"y1\", \"text\": \"29\", \"align\": \"left\", \"y\": 2, \"x\": 4.55, \"font\": {\"color\": \"#000000\", \"size\": 15}, \"showarrow\": false}, {\"xref\": \"x1\", \"xanchor\": \"left\", \"yref\": \"y1\", \"text\": \"24\", \"align\": \"left\", \"y\": 2, \"x\": 5.55, \"font\": {\"color\": \"#000000\", \"size\": 15}, \"showarrow\": false}, {\"xref\": \"x1\", \"xanchor\": \"left\", \"yref\": \"y1\", \"text\": \"<b>0.9</b>\", \"align\": \"left\", \"y\": 3, \"x\": -0.45, \"font\": {\"color\": \"#ffffff\", \"size\": 15}, \"showarrow\": false}, {\"xref\": \"x1\", \"xanchor\": \"left\", \"yref\": \"y1\", \"text\": \"19\", \"align\": \"left\", \"y\": 3, \"x\": 0.55, \"font\": {\"color\": \"#000000\", \"size\": 15}, \"showarrow\": false}, {\"xref\": \"x1\", \"xanchor\": \"left\", \"yref\": \"y1\", \"text\": \"21\", \"align\": \"left\", \"y\": 3, \"x\": 1.55, \"font\": {\"color\": \"#000000\", \"size\": 15}, \"showarrow\": false}, {\"xref\": \"x1\", \"xanchor\": \"left\", \"yref\": \"y1\", \"text\": \"18\", \"align\": \"left\", \"y\": 3, \"x\": 2.55, \"font\": {\"color\": \"#000000\", \"size\": 15}, \"showarrow\": false}, {\"xref\": \"x1\", \"xanchor\": \"left\", \"yref\": \"y1\", \"text\": \"50\", \"align\": \"left\", \"y\": 3, \"x\": 3.55, \"font\": {\"color\": \"#000000\", \"size\": 15}, \"showarrow\": false}, {\"xref\": \"x1\", \"xanchor\": \"left\", \"yref\": \"y1\", \"text\": \"60\", \"align\": \"left\", \"y\": 3, \"x\": 4.55, \"font\": {\"color\": \"#000000\", \"size\": 15}, \"showarrow\": false}, {\"xref\": \"x1\", \"xanchor\": \"left\", \"yref\": \"y1\", \"text\": \"48\", \"align\": \"left\", \"y\": 3, \"x\": 5.55, \"font\": {\"color\": \"#000000\", \"size\": 15}, \"showarrow\": false}, {\"xref\": \"x1\", \"xanchor\": \"left\", \"yref\": \"y1\", \"text\": \"<b>0.95</b>\", \"align\": \"left\", \"y\": 4, \"x\": -0.45, \"font\": {\"color\": \"#ffffff\", \"size\": 15}, \"showarrow\": false}, {\"xref\": \"x1\", \"xanchor\": \"left\", \"yref\": \"y1\", \"text\": \"34\", \"align\": \"left\", \"y\": 4, \"x\": 0.55, \"font\": {\"color\": \"#000000\", \"size\": 15}, \"showarrow\": false}, {\"xref\": \"x1\", \"xanchor\": \"left\", \"yref\": \"y1\", \"text\": \"39\", \"align\": \"left\", \"y\": 4, \"x\": 1.55, \"font\": {\"color\": \"#000000\", \"size\": 15}, \"showarrow\": false}, {\"xref\": \"x1\", \"xanchor\": \"left\", \"yref\": \"y1\", \"text\": \"76\", \"align\": \"left\", \"y\": 4, \"x\": 2.55, \"font\": {\"color\": \"#000000\", \"size\": 15}, \"showarrow\": false}, {\"xref\": \"x1\", \"xanchor\": \"left\", \"yref\": \"y1\", \"text\": \"103\", \"align\": \"left\", \"y\": 4, \"x\": 3.55, \"font\": {\"color\": \"#000000\", \"size\": 15}, \"showarrow\": false}, {\"xref\": \"x1\", \"xanchor\": \"left\", \"yref\": \"y1\", \"text\": \"129\", \"align\": \"left\", \"y\": 4, \"x\": 4.55, \"font\": {\"color\": \"#000000\", \"size\": 15}, \"showarrow\": false}, {\"xref\": \"x1\", \"xanchor\": \"left\", \"yref\": \"y1\", \"text\": \"125\", \"align\": \"left\", \"y\": 4, \"x\": 5.55, \"font\": {\"color\": \"#000000\", \"size\": 15}, \"showarrow\": false}, {\"xref\": \"x1\", \"xanchor\": \"left\", \"yref\": \"y1\", \"text\": \"<b>0.975</b>\", \"align\": \"left\", \"y\": 5, \"x\": -0.45, \"font\": {\"color\": \"#ffffff\", \"size\": 15}, \"showarrow\": false}, {\"xref\": \"x1\", \"xanchor\": \"left\", \"yref\": \"y1\", \"text\": \"37\", \"align\": \"left\", \"y\": 5, \"x\": 0.55, \"font\": {\"color\": \"#000000\", \"size\": 15}, \"showarrow\": false}, {\"xref\": \"x1\", \"xanchor\": \"left\", \"yref\": \"y1\", \"text\": \"66\", \"align\": \"left\", \"y\": 5, \"x\": 1.55, \"font\": {\"color\": \"#000000\", \"size\": 15}, \"showarrow\": false}, {\"xref\": \"x1\", \"xanchor\": \"left\", \"yref\": \"y1\", \"text\": \"148\", \"align\": \"left\", \"y\": 5, \"x\": 2.55, \"font\": {\"color\": \"#000000\", \"size\": 15}, \"showarrow\": false}, {\"xref\": \"x1\", \"xanchor\": \"left\", \"yref\": \"y1\", \"text\": \"166\", \"align\": \"left\", \"y\": 5, \"x\": 3.55, \"font\": {\"color\": \"#000000\", \"size\": 15}, \"showarrow\": false}, {\"xref\": \"x1\", \"xanchor\": \"left\", \"yref\": \"y1\", \"text\": \"238\", \"align\": \"left\", \"y\": 5, \"x\": 4.55, \"font\": {\"color\": \"#000000\", \"size\": 15}, \"showarrow\": false}, {\"xref\": \"x1\", \"xanchor\": \"left\", \"yref\": \"y1\", \"text\": \"322\", \"align\": \"left\", \"y\": 5, \"x\": 5.55, \"font\": {\"color\": \"#000000\", \"size\": 15}, \"showarrow\": false}, {\"xref\": \"x1\", \"xanchor\": \"left\", \"yref\": \"y1\", \"text\": \"<b>0.99</b>\", \"align\": \"left\", \"y\": 6, \"x\": -0.45, \"font\": {\"color\": \"#ffffff\", \"size\": 15}, \"showarrow\": false}, {\"xref\": \"x1\", \"xanchor\": \"left\", \"yref\": \"y1\", \"text\": \"39\", \"align\": \"left\", \"y\": 6, \"x\": 0.55, \"font\": {\"color\": \"#000000\", \"size\": 15}, \"showarrow\": false}, {\"xref\": \"x1\", \"xanchor\": \"left\", \"yref\": \"y1\", \"text\": \"71\", \"align\": \"left\", \"y\": 6, \"x\": 1.55, \"font\": {\"color\": \"#000000\", \"size\": 15}, \"showarrow\": false}, {\"xref\": \"x1\", \"xanchor\": \"left\", \"yref\": \"y1\", \"text\": \"168\", \"align\": \"left\", \"y\": 6, \"x\": 2.55, \"font\": {\"color\": \"#000000\", \"size\": 15}, \"showarrow\": false}, {\"xref\": \"x1\", \"xanchor\": \"left\", \"yref\": \"y1\", \"text\": \"337\", \"align\": \"left\", \"y\": 6, \"x\": 3.55, \"font\": {\"color\": \"#000000\", \"size\": 15}, \"showarrow\": false}, {\"xref\": \"x1\", \"xanchor\": \"left\", \"yref\": \"y1\", \"text\": \"479\", \"align\": \"left\", \"y\": 6, \"x\": 4.55, \"font\": {\"color\": \"#000000\", \"size\": 15}, \"showarrow\": false}, {\"xref\": \"x1\", \"xanchor\": \"left\", \"yref\": \"y1\", \"text\": \"544\", \"align\": \"left\", \"y\": 6, \"x\": 5.55, \"font\": {\"color\": \"#000000\", \"size\": 15}, \"showarrow\": false}, {\"xref\": \"x1\", \"xanchor\": \"left\", \"yref\": \"y1\", \"text\": \"<b></b>\", \"align\": \"left\", \"y\": 7, \"x\": -0.45, \"font\": {\"color\": \"#ffffff\", \"size\": 15}, \"showarrow\": false}, {\"xref\": \"x1\", \"xanchor\": \"left\", \"yref\": \"y1\", \"text\": \"\", \"align\": \"left\", \"y\": 7, \"x\": 0.55, \"font\": {\"color\": \"#000000\", \"size\": 15}, \"showarrow\": false}, {\"xref\": \"x1\", \"xanchor\": \"left\", \"yref\": \"y1\", \"text\": \"\", \"align\": \"left\", \"y\": 7, \"x\": 1.55, \"font\": {\"color\": \"#000000\", \"size\": 15}, \"showarrow\": false}, {\"xref\": \"x1\", \"xanchor\": \"left\", \"yref\": \"y1\", \"text\": \"\", \"align\": \"left\", \"y\": 7, \"x\": 2.55, \"font\": {\"color\": \"#000000\", \"size\": 15}, \"showarrow\": false}, {\"xref\": \"x1\", \"xanchor\": \"left\", \"yref\": \"y1\", \"text\": \"\", \"align\": \"left\", \"y\": 7, \"x\": 3.55, \"font\": {\"color\": \"#000000\", \"size\": 15}, \"showarrow\": false}, {\"xref\": \"x1\", \"xanchor\": \"left\", \"yref\": \"y1\", \"text\": \"\", \"align\": \"left\", \"y\": 7, \"x\": 4.55, \"font\": {\"color\": \"#000000\", \"size\": 15}, \"showarrow\": false}, {\"xref\": \"x1\", \"xanchor\": \"left\", \"yref\": \"y1\", \"text\": \"\", \"align\": \"left\", \"y\": 7, \"x\": 5.55, \"font\": {\"color\": \"#000000\", \"size\": 15}, \"showarrow\": false}], \"xaxis\": {\"showticklabels\": false, \"tick0\": -0.5, \"ticks\": \"\", \"gridwidth\": 2, \"dtick\": 1, \"zeroline\": false}, \"height\": 290}, {\"linkText\": \"Export to plot.ly\", \"showLink\": true})});</script>"
      ],
      "text/vnd.plotly.v1+html": [
       "<div id=\"a19f3d2b-610e-4f2e-b04c-7dcb7876b835\" style=\"height: 290px; width: 100%;\" class=\"plotly-graph-div\"></div><script type=\"text/javascript\">require([\"plotly\"], function(Plotly) { window.PLOTLYENV=window.PLOTLYENV || {};window.PLOTLYENV.BASE_URL=\"https://plot.ly\";Plotly.newPlot(\"a19f3d2b-610e-4f2e-b04c-7dcb7876b835\", [{\"opacity\": 0.75, \"colorscale\": [[0, \"#00083e\"], [0.5, \"#ededee\"], [1, \"#ffffff\"]], \"showscale\": false, \"hoverinfo\": \"none\", \"z\": [[0, 0, 0, 0, 0, 0, 0], [0, 0.5, 0.5, 0.5, 0.5, 0.5, 0.5], [0, 1, 1, 1, 1, 1, 1], [0, 0.5, 0.5, 0.5, 0.5, 0.5, 0.5], [0, 1, 1, 1, 1, 1, 1], [0, 0.5, 0.5, 0.5, 0.5, 0.5, 0.5], [0, 1, 1, 1, 1, 1, 1], [0, 0.5, 0.5, 0.5, 0.5, 0.5, 0.5]], \"type\": \"heatmap\"}], {\"yaxis\": {\"showticklabels\": false, \"tick0\": 0.5, \"ticks\": \"\", \"gridwidth\": 2, \"dtick\": 1, \"zeroline\": false, \"autorange\": \"reversed\"}, \"margin\": {\"r\": 0, \"b\": 0, \"l\": 0, \"t\": 0}, \"annotations\": [{\"xref\": \"x1\", \"xanchor\": \"left\", \"yref\": \"y1\", \"text\": \"<b>Probability</b>\", \"align\": \"left\", \"y\": 0, \"x\": -0.45, \"font\": {\"color\": \"#ffffff\", \"size\": 15}, \"showarrow\": false}, {\"xref\": \"x1\", \"xanchor\": \"left\", \"yref\": \"y1\", \"text\": \"<b>N=100</b>\", \"align\": \"left\", \"y\": 0, \"x\": 0.55, \"font\": {\"color\": \"#ffffff\", \"size\": 15}, \"showarrow\": false}, {\"xref\": \"x1\", \"xanchor\": \"left\", \"yref\": \"y1\", \"text\": \"<b>N=200</b>\", \"align\": \"left\", \"y\": 0, \"x\": 1.55, \"font\": {\"color\": \"#ffffff\", \"size\": 15}, \"showarrow\": false}, {\"xref\": \"x1\", \"xanchor\": \"left\", \"yref\": \"y1\", \"text\": \"<b>N=500</b>\", \"align\": \"left\", \"y\": 0, \"x\": 2.55, \"font\": {\"color\": \"#ffffff\", \"size\": 15}, \"showarrow\": false}, {\"xref\": \"x1\", \"xanchor\": \"left\", \"yref\": \"y1\", \"text\": \"<b>N=1000</b>\", \"align\": \"left\", \"y\": 0, \"x\": 3.55, \"font\": {\"color\": \"#ffffff\", \"size\": 15}, \"showarrow\": false}, {\"xref\": \"x1\", \"xanchor\": \"left\", \"yref\": \"y1\", \"text\": \"<b>N=1500</b>\", \"align\": \"left\", \"y\": 0, \"x\": 4.55, \"font\": {\"color\": \"#ffffff\", \"size\": 15}, \"showarrow\": false}, {\"xref\": \"x1\", \"xanchor\": \"left\", \"yref\": \"y1\", \"text\": \"<b>N=2000</b>\", \"align\": \"left\", \"y\": 0, \"x\": 5.55, \"font\": {\"color\": \"#ffffff\", \"size\": 15}, \"showarrow\": false}, {\"xref\": \"x1\", \"xanchor\": \"left\", \"yref\": \"y1\", \"text\": \"<b>0.8</b>\", \"align\": \"left\", \"y\": 1, \"x\": -0.45, \"font\": {\"color\": \"#ffffff\", \"size\": 15}, \"showarrow\": false}, {\"xref\": \"x1\", \"xanchor\": \"left\", \"yref\": \"y1\", \"text\": \"9\", \"align\": \"left\", \"y\": 1, \"x\": 0.55, \"font\": {\"color\": \"#000000\", \"size\": 15}, \"showarrow\": false}, {\"xref\": \"x1\", \"xanchor\": \"left\", \"yref\": \"y1\", \"text\": \"10\", \"align\": \"left\", \"y\": 1, \"x\": 1.55, \"font\": {\"color\": \"#000000\", \"size\": 15}, \"showarrow\": false}, {\"xref\": \"x1\", \"xanchor\": \"left\", \"yref\": \"y1\", \"text\": \"9\", \"align\": \"left\", \"y\": 1, \"x\": 2.55, \"font\": {\"color\": \"#000000\", \"size\": 15}, \"showarrow\": false}, {\"xref\": \"x1\", \"xanchor\": \"left\", \"yref\": \"y1\", \"text\": \"14\", \"align\": \"left\", \"y\": 1, \"x\": 3.55, \"font\": {\"color\": \"#000000\", \"size\": 15}, \"showarrow\": false}, {\"xref\": \"x1\", \"xanchor\": \"left\", \"yref\": \"y1\", \"text\": \"18\", \"align\": \"left\", \"y\": 1, \"x\": 4.55, \"font\": {\"color\": \"#000000\", \"size\": 15}, \"showarrow\": false}, {\"xref\": \"x1\", \"xanchor\": \"left\", \"yref\": \"y1\", \"text\": \"15\", \"align\": \"left\", \"y\": 1, \"x\": 5.55, \"font\": {\"color\": \"#000000\", \"size\": 15}, \"showarrow\": false}, {\"xref\": \"x1\", \"xanchor\": \"left\", \"yref\": \"y1\", \"text\": \"<b>0.85</b>\", \"align\": \"left\", \"y\": 2, \"x\": -0.45, \"font\": {\"color\": \"#ffffff\", \"size\": 15}, \"showarrow\": false}, {\"xref\": \"x1\", \"xanchor\": \"left\", \"yref\": \"y1\", \"text\": \"13\", \"align\": \"left\", \"y\": 2, \"x\": 0.55, \"font\": {\"color\": \"#000000\", \"size\": 15}, \"showarrow\": false}, {\"xref\": \"x1\", \"xanchor\": \"left\", \"yref\": \"y1\", \"text\": \"13\", \"align\": \"left\", \"y\": 2, \"x\": 1.55, \"font\": {\"color\": \"#000000\", \"size\": 15}, \"showarrow\": false}, {\"xref\": \"x1\", \"xanchor\": \"left\", \"yref\": \"y1\", \"text\": \"12\", \"align\": \"left\", \"y\": 2, \"x\": 2.55, \"font\": {\"color\": \"#000000\", \"size\": 15}, \"showarrow\": false}, {\"xref\": \"x1\", \"xanchor\": \"left\", \"yref\": \"y1\", \"text\": \"22\", \"align\": \"left\", \"y\": 2, \"x\": 3.55, \"font\": {\"color\": \"#000000\", \"size\": 15}, \"showarrow\": false}, {\"xref\": \"x1\", \"xanchor\": \"left\", \"yref\": \"y1\", \"text\": \"29\", \"align\": \"left\", \"y\": 2, \"x\": 4.55, \"font\": {\"color\": \"#000000\", \"size\": 15}, \"showarrow\": false}, {\"xref\": \"x1\", \"xanchor\": \"left\", \"yref\": \"y1\", \"text\": \"24\", \"align\": \"left\", \"y\": 2, \"x\": 5.55, \"font\": {\"color\": \"#000000\", \"size\": 15}, \"showarrow\": false}, {\"xref\": \"x1\", \"xanchor\": \"left\", \"yref\": \"y1\", \"text\": \"<b>0.9</b>\", \"align\": \"left\", \"y\": 3, \"x\": -0.45, \"font\": {\"color\": \"#ffffff\", \"size\": 15}, \"showarrow\": false}, {\"xref\": \"x1\", \"xanchor\": \"left\", \"yref\": \"y1\", \"text\": \"19\", \"align\": \"left\", \"y\": 3, \"x\": 0.55, \"font\": {\"color\": \"#000000\", \"size\": 15}, \"showarrow\": false}, {\"xref\": \"x1\", \"xanchor\": \"left\", \"yref\": \"y1\", \"text\": \"21\", \"align\": \"left\", \"y\": 3, \"x\": 1.55, \"font\": {\"color\": \"#000000\", \"size\": 15}, \"showarrow\": false}, {\"xref\": \"x1\", \"xanchor\": \"left\", \"yref\": \"y1\", \"text\": \"18\", \"align\": \"left\", \"y\": 3, \"x\": 2.55, \"font\": {\"color\": \"#000000\", \"size\": 15}, \"showarrow\": false}, {\"xref\": \"x1\", \"xanchor\": \"left\", \"yref\": \"y1\", \"text\": \"50\", \"align\": \"left\", \"y\": 3, \"x\": 3.55, \"font\": {\"color\": \"#000000\", \"size\": 15}, \"showarrow\": false}, {\"xref\": \"x1\", \"xanchor\": \"left\", \"yref\": \"y1\", \"text\": \"60\", \"align\": \"left\", \"y\": 3, \"x\": 4.55, \"font\": {\"color\": \"#000000\", \"size\": 15}, \"showarrow\": false}, {\"xref\": \"x1\", \"xanchor\": \"left\", \"yref\": \"y1\", \"text\": \"48\", \"align\": \"left\", \"y\": 3, \"x\": 5.55, \"font\": {\"color\": \"#000000\", \"size\": 15}, \"showarrow\": false}, {\"xref\": \"x1\", \"xanchor\": \"left\", \"yref\": \"y1\", \"text\": \"<b>0.95</b>\", \"align\": \"left\", \"y\": 4, \"x\": -0.45, \"font\": {\"color\": \"#ffffff\", \"size\": 15}, \"showarrow\": false}, {\"xref\": \"x1\", \"xanchor\": \"left\", \"yref\": \"y1\", \"text\": \"34\", \"align\": \"left\", \"y\": 4, \"x\": 0.55, \"font\": {\"color\": \"#000000\", \"size\": 15}, \"showarrow\": false}, {\"xref\": \"x1\", \"xanchor\": \"left\", \"yref\": \"y1\", \"text\": \"39\", \"align\": \"left\", \"y\": 4, \"x\": 1.55, \"font\": {\"color\": \"#000000\", \"size\": 15}, \"showarrow\": false}, {\"xref\": \"x1\", \"xanchor\": \"left\", \"yref\": \"y1\", \"text\": \"76\", \"align\": \"left\", \"y\": 4, \"x\": 2.55, \"font\": {\"color\": \"#000000\", \"size\": 15}, \"showarrow\": false}, {\"xref\": \"x1\", \"xanchor\": \"left\", \"yref\": \"y1\", \"text\": \"103\", \"align\": \"left\", \"y\": 4, \"x\": 3.55, \"font\": {\"color\": \"#000000\", \"size\": 15}, \"showarrow\": false}, {\"xref\": \"x1\", \"xanchor\": \"left\", \"yref\": \"y1\", \"text\": \"129\", \"align\": \"left\", \"y\": 4, \"x\": 4.55, \"font\": {\"color\": \"#000000\", \"size\": 15}, \"showarrow\": false}, {\"xref\": \"x1\", \"xanchor\": \"left\", \"yref\": \"y1\", \"text\": \"125\", \"align\": \"left\", \"y\": 4, \"x\": 5.55, \"font\": {\"color\": \"#000000\", \"size\": 15}, \"showarrow\": false}, {\"xref\": \"x1\", \"xanchor\": \"left\", \"yref\": \"y1\", \"text\": \"<b>0.975</b>\", \"align\": \"left\", \"y\": 5, \"x\": -0.45, \"font\": {\"color\": \"#ffffff\", \"size\": 15}, \"showarrow\": false}, {\"xref\": \"x1\", \"xanchor\": \"left\", \"yref\": \"y1\", \"text\": \"37\", \"align\": \"left\", \"y\": 5, \"x\": 0.55, \"font\": {\"color\": \"#000000\", \"size\": 15}, \"showarrow\": false}, {\"xref\": \"x1\", \"xanchor\": \"left\", \"yref\": \"y1\", \"text\": \"66\", \"align\": \"left\", \"y\": 5, \"x\": 1.55, \"font\": {\"color\": \"#000000\", \"size\": 15}, \"showarrow\": false}, {\"xref\": \"x1\", \"xanchor\": \"left\", \"yref\": \"y1\", \"text\": \"148\", \"align\": \"left\", \"y\": 5, \"x\": 2.55, \"font\": {\"color\": \"#000000\", \"size\": 15}, \"showarrow\": false}, {\"xref\": \"x1\", \"xanchor\": \"left\", \"yref\": \"y1\", \"text\": \"166\", \"align\": \"left\", \"y\": 5, \"x\": 3.55, \"font\": {\"color\": \"#000000\", \"size\": 15}, \"showarrow\": false}, {\"xref\": \"x1\", \"xanchor\": \"left\", \"yref\": \"y1\", \"text\": \"238\", \"align\": \"left\", \"y\": 5, \"x\": 4.55, \"font\": {\"color\": \"#000000\", \"size\": 15}, \"showarrow\": false}, {\"xref\": \"x1\", \"xanchor\": \"left\", \"yref\": \"y1\", \"text\": \"322\", \"align\": \"left\", \"y\": 5, \"x\": 5.55, \"font\": {\"color\": \"#000000\", \"size\": 15}, \"showarrow\": false}, {\"xref\": \"x1\", \"xanchor\": \"left\", \"yref\": \"y1\", \"text\": \"<b>0.99</b>\", \"align\": \"left\", \"y\": 6, \"x\": -0.45, \"font\": {\"color\": \"#ffffff\", \"size\": 15}, \"showarrow\": false}, {\"xref\": \"x1\", \"xanchor\": \"left\", \"yref\": \"y1\", \"text\": \"39\", \"align\": \"left\", \"y\": 6, \"x\": 0.55, \"font\": {\"color\": \"#000000\", \"size\": 15}, \"showarrow\": false}, {\"xref\": \"x1\", \"xanchor\": \"left\", \"yref\": \"y1\", \"text\": \"71\", \"align\": \"left\", \"y\": 6, \"x\": 1.55, \"font\": {\"color\": \"#000000\", \"size\": 15}, \"showarrow\": false}, {\"xref\": \"x1\", \"xanchor\": \"left\", \"yref\": \"y1\", \"text\": \"168\", \"align\": \"left\", \"y\": 6, \"x\": 2.55, \"font\": {\"color\": \"#000000\", \"size\": 15}, \"showarrow\": false}, {\"xref\": \"x1\", \"xanchor\": \"left\", \"yref\": \"y1\", \"text\": \"337\", \"align\": \"left\", \"y\": 6, \"x\": 3.55, \"font\": {\"color\": \"#000000\", \"size\": 15}, \"showarrow\": false}, {\"xref\": \"x1\", \"xanchor\": \"left\", \"yref\": \"y1\", \"text\": \"479\", \"align\": \"left\", \"y\": 6, \"x\": 4.55, \"font\": {\"color\": \"#000000\", \"size\": 15}, \"showarrow\": false}, {\"xref\": \"x1\", \"xanchor\": \"left\", \"yref\": \"y1\", \"text\": \"544\", \"align\": \"left\", \"y\": 6, \"x\": 5.55, \"font\": {\"color\": \"#000000\", \"size\": 15}, \"showarrow\": false}, {\"xref\": \"x1\", \"xanchor\": \"left\", \"yref\": \"y1\", \"text\": \"<b></b>\", \"align\": \"left\", \"y\": 7, \"x\": -0.45, \"font\": {\"color\": \"#ffffff\", \"size\": 15}, \"showarrow\": false}, {\"xref\": \"x1\", \"xanchor\": \"left\", \"yref\": \"y1\", \"text\": \"\", \"align\": \"left\", \"y\": 7, \"x\": 0.55, \"font\": {\"color\": \"#000000\", \"size\": 15}, \"showarrow\": false}, {\"xref\": \"x1\", \"xanchor\": \"left\", \"yref\": \"y1\", \"text\": \"\", \"align\": \"left\", \"y\": 7, \"x\": 1.55, \"font\": {\"color\": \"#000000\", \"size\": 15}, \"showarrow\": false}, {\"xref\": \"x1\", \"xanchor\": \"left\", \"yref\": \"y1\", \"text\": \"\", \"align\": \"left\", \"y\": 7, \"x\": 2.55, \"font\": {\"color\": \"#000000\", \"size\": 15}, \"showarrow\": false}, {\"xref\": \"x1\", \"xanchor\": \"left\", \"yref\": \"y1\", \"text\": \"\", \"align\": \"left\", \"y\": 7, \"x\": 3.55, \"font\": {\"color\": \"#000000\", \"size\": 15}, \"showarrow\": false}, {\"xref\": \"x1\", \"xanchor\": \"left\", \"yref\": \"y1\", \"text\": \"\", \"align\": \"left\", \"y\": 7, \"x\": 4.55, \"font\": {\"color\": \"#000000\", \"size\": 15}, \"showarrow\": false}, {\"xref\": \"x1\", \"xanchor\": \"left\", \"yref\": \"y1\", \"text\": \"\", \"align\": \"left\", \"y\": 7, \"x\": 5.55, \"font\": {\"color\": \"#000000\", \"size\": 15}, \"showarrow\": false}], \"xaxis\": {\"showticklabels\": false, \"tick0\": -0.5, \"ticks\": \"\", \"gridwidth\": 2, \"dtick\": 1, \"zeroline\": false}, \"height\": 290}, {\"linkText\": \"Export to plot.ly\", \"showLink\": true})});</script>"
      ]
     },
     "metadata": {},
     "output_type": "display_data"
    }
   ],
   "source": [
    "data_matrix = [['Probability', 'N=100','N=200','N=500','N=1000','N=1500','N=2000'],\n",
    "               ['0.8']+list1ba,\n",
    "               ['0.85']+list2ba,\n",
    "               ['0.9']+list3ba,\n",
    "               ['0.95']+list4ba,\n",
    "               ['0.975']+list5ba,\n",
    "               ['0.99']+list6ba,\n",
    "               ['','','','','','','']\n",
    "               ]\n",
    "\n",
    "table = ff.create_table(data_matrix,index=True, index_title='Date')\n",
    "for i in range(len(table.layout.annotations)):\n",
    "    table.layout.annotations[i].font.size = 15\n",
    "iplot(table, filename='simple_table')"
   ]
  },
  {
   "cell_type": "code",
   "execution_count": 29,
   "metadata": {},
   "outputs": [
    {
     "data": {
      "application/vnd.plotly.v1+json": {
       "data": [
        {
         "colorscale": [
          [
           0,
           "#00083e"
          ],
          [
           0.5,
           "#ededee"
          ],
          [
           1,
           "#ffffff"
          ]
         ],
         "hoverinfo": "none",
         "opacity": 0.75,
         "showscale": false,
         "type": "heatmap",
         "z": [
          [
           0,
           0,
           0,
           0,
           0,
           0,
           0
          ],
          [
           0,
           0.5,
           0.5,
           0.5,
           0.5,
           0.5,
           0.5
          ],
          [
           0,
           1,
           1,
           1,
           1,
           1,
           1
          ],
          [
           0,
           0.5,
           0.5,
           0.5,
           0.5,
           0.5,
           0.5
          ],
          [
           0,
           1,
           1,
           1,
           1,
           1,
           1
          ],
          [
           0,
           0.5,
           0.5,
           0.5,
           0.5,
           0.5,
           0.5
          ],
          [
           0,
           1,
           1,
           1,
           1,
           1,
           1
          ],
          [
           0,
           0.5,
           0.5,
           0.5,
           0.5,
           0.5,
           0.5
          ]
         ]
        }
       ],
       "layout": {
        "annotations": [
         {
          "align": "left",
          "font": {
           "color": "#ffffff",
           "size": 15
          },
          "showarrow": false,
          "text": "<b>Probability</b>",
          "x": -0.45,
          "xanchor": "left",
          "xref": "x1",
          "y": 0,
          "yref": "y1"
         },
         {
          "align": "left",
          "font": {
           "color": "#ffffff",
           "size": 15
          },
          "showarrow": false,
          "text": "<b>N=100</b>",
          "x": 0.55,
          "xanchor": "left",
          "xref": "x1",
          "y": 0,
          "yref": "y1"
         },
         {
          "align": "left",
          "font": {
           "color": "#ffffff",
           "size": 15
          },
          "showarrow": false,
          "text": "<b>N=200</b>",
          "x": 1.55,
          "xanchor": "left",
          "xref": "x1",
          "y": 0,
          "yref": "y1"
         },
         {
          "align": "left",
          "font": {
           "color": "#ffffff",
           "size": 15
          },
          "showarrow": false,
          "text": "<b>N=500</b>",
          "x": 2.55,
          "xanchor": "left",
          "xref": "x1",
          "y": 0,
          "yref": "y1"
         },
         {
          "align": "left",
          "font": {
           "color": "#ffffff",
           "size": 15
          },
          "showarrow": false,
          "text": "<b>N=1000</b>",
          "x": 3.55,
          "xanchor": "left",
          "xref": "x1",
          "y": 0,
          "yref": "y1"
         },
         {
          "align": "left",
          "font": {
           "color": "#ffffff",
           "size": 15
          },
          "showarrow": false,
          "text": "<b>N=1500</b>",
          "x": 4.55,
          "xanchor": "left",
          "xref": "x1",
          "y": 0,
          "yref": "y1"
         },
         {
          "align": "left",
          "font": {
           "color": "#ffffff",
           "size": 15
          },
          "showarrow": false,
          "text": "<b>N=2000</b>",
          "x": 5.55,
          "xanchor": "left",
          "xref": "x1",
          "y": 0,
          "yref": "y1"
         },
         {
          "align": "left",
          "font": {
           "color": "#ffffff",
           "size": 15
          },
          "showarrow": false,
          "text": "<b>0.8</b>",
          "x": -0.45,
          "xanchor": "left",
          "xref": "x1",
          "y": 1,
          "yref": "y1"
         },
         {
          "align": "left",
          "font": {
           "color": "#000000",
           "size": 15
          },
          "showarrow": false,
          "text": "28",
          "x": 0.55,
          "xanchor": "left",
          "xref": "x1",
          "y": 1,
          "yref": "y1"
         },
         {
          "align": "left",
          "font": {
           "color": "#000000",
           "size": 15
          },
          "showarrow": false,
          "text": "57",
          "x": 1.55,
          "xanchor": "left",
          "xref": "x1",
          "y": 1,
          "yref": "y1"
         },
         {
          "align": "left",
          "font": {
           "color": "#000000",
           "size": 15
          },
          "showarrow": false,
          "text": "137",
          "x": 2.55,
          "xanchor": "left",
          "xref": "x1",
          "y": 1,
          "yref": "y1"
         },
         {
          "align": "left",
          "font": {
           "color": "#000000",
           "size": 15
          },
          "showarrow": false,
          "text": "271",
          "x": 3.55,
          "xanchor": "left",
          "xref": "x1",
          "y": 1,
          "yref": "y1"
         },
         {
          "align": "left",
          "font": {
           "color": "#000000",
           "size": 15
          },
          "showarrow": false,
          "text": "396",
          "x": 4.55,
          "xanchor": "left",
          "xref": "x1",
          "y": 1,
          "yref": "y1"
         },
         {
          "align": "left",
          "font": {
           "color": "#000000",
           "size": 15
          },
          "showarrow": false,
          "text": "537",
          "x": 5.55,
          "xanchor": "left",
          "xref": "x1",
          "y": 1,
          "yref": "y1"
         },
         {
          "align": "left",
          "font": {
           "color": "#ffffff",
           "size": 15
          },
          "showarrow": false,
          "text": "<b>0.85</b>",
          "x": -0.45,
          "xanchor": "left",
          "xref": "x1",
          "y": 2,
          "yref": "y1"
         },
         {
          "align": "left",
          "font": {
           "color": "#000000",
           "size": 15
          },
          "showarrow": false,
          "text": "30",
          "x": 0.55,
          "xanchor": "left",
          "xref": "x1",
          "y": 2,
          "yref": "y1"
         },
         {
          "align": "left",
          "font": {
           "color": "#000000",
           "size": 15
          },
          "showarrow": false,
          "text": "60",
          "x": 1.55,
          "xanchor": "left",
          "xref": "x1",
          "y": 2,
          "yref": "y1"
         },
         {
          "align": "left",
          "font": {
           "color": "#000000",
           "size": 15
          },
          "showarrow": false,
          "text": "144",
          "x": 2.55,
          "xanchor": "left",
          "xref": "x1",
          "y": 2,
          "yref": "y1"
         },
         {
          "align": "left",
          "font": {
           "color": "#000000",
           "size": 15
          },
          "showarrow": false,
          "text": "284",
          "x": 3.55,
          "xanchor": "left",
          "xref": "x1",
          "y": 2,
          "yref": "y1"
         },
         {
          "align": "left",
          "font": {
           "color": "#000000",
           "size": 15
          },
          "showarrow": false,
          "text": "421",
          "x": 4.55,
          "xanchor": "left",
          "xref": "x1",
          "y": 2,
          "yref": "y1"
         },
         {
          "align": "left",
          "font": {
           "color": "#000000",
           "size": 15
          },
          "showarrow": false,
          "text": "567",
          "x": 5.55,
          "xanchor": "left",
          "xref": "x1",
          "y": 2,
          "yref": "y1"
         },
         {
          "align": "left",
          "font": {
           "color": "#ffffff",
           "size": 15
          },
          "showarrow": false,
          "text": "<b>0.9</b>",
          "x": -0.45,
          "xanchor": "left",
          "xref": "x1",
          "y": 3,
          "yref": "y1"
         },
         {
          "align": "left",
          "font": {
           "color": "#000000",
           "size": 15
          },
          "showarrow": false,
          "text": "32",
          "x": 0.55,
          "xanchor": "left",
          "xref": "x1",
          "y": 3,
          "yref": "y1"
         },
         {
          "align": "left",
          "font": {
           "color": "#000000",
           "size": 15
          },
          "showarrow": false,
          "text": "64",
          "x": 1.55,
          "xanchor": "left",
          "xref": "x1",
          "y": 3,
          "yref": "y1"
         },
         {
          "align": "left",
          "font": {
           "color": "#000000",
           "size": 15
          },
          "showarrow": false,
          "text": "152",
          "x": 2.55,
          "xanchor": "left",
          "xref": "x1",
          "y": 3,
          "yref": "y1"
         },
         {
          "align": "left",
          "font": {
           "color": "#000000",
           "size": 15
          },
          "showarrow": false,
          "text": "305",
          "x": 3.55,
          "xanchor": "left",
          "xref": "x1",
          "y": 3,
          "yref": "y1"
         },
         {
          "align": "left",
          "font": {
           "color": "#000000",
           "size": 15
          },
          "showarrow": false,
          "text": "450",
          "x": 4.55,
          "xanchor": "left",
          "xref": "x1",
          "y": 3,
          "yref": "y1"
         },
         {
          "align": "left",
          "font": {
           "color": "#000000",
           "size": 15
          },
          "showarrow": false,
          "text": "597",
          "x": 5.55,
          "xanchor": "left",
          "xref": "x1",
          "y": 3,
          "yref": "y1"
         },
         {
          "align": "left",
          "font": {
           "color": "#ffffff",
           "size": 15
          },
          "showarrow": false,
          "text": "<b>0.95</b>",
          "x": -0.45,
          "xanchor": "left",
          "xref": "x1",
          "y": 4,
          "yref": "y1"
         },
         {
          "align": "left",
          "font": {
           "color": "#000000",
           "size": 15
          },
          "showarrow": false,
          "text": "34",
          "x": 0.55,
          "xanchor": "left",
          "xref": "x1",
          "y": 4,
          "yref": "y1"
         },
         {
          "align": "left",
          "font": {
           "color": "#000000",
           "size": 15
          },
          "showarrow": false,
          "text": "70",
          "x": 1.55,
          "xanchor": "left",
          "xref": "x1",
          "y": 4,
          "yref": "y1"
         },
         {
          "align": "left",
          "font": {
           "color": "#000000",
           "size": 15
          },
          "showarrow": false,
          "text": "162",
          "x": 2.55,
          "xanchor": "left",
          "xref": "x1",
          "y": 4,
          "yref": "y1"
         },
         {
          "align": "left",
          "font": {
           "color": "#000000",
           "size": 15
          },
          "showarrow": false,
          "text": "317",
          "x": 3.55,
          "xanchor": "left",
          "xref": "x1",
          "y": 4,
          "yref": "y1"
         },
         {
          "align": "left",
          "font": {
           "color": "#000000",
           "size": 15
          },
          "showarrow": false,
          "text": "470",
          "x": 4.55,
          "xanchor": "left",
          "xref": "x1",
          "y": 4,
          "yref": "y1"
         },
         {
          "align": "left",
          "font": {
           "color": "#000000",
           "size": 15
          },
          "showarrow": false,
          "text": "634",
          "x": 5.55,
          "xanchor": "left",
          "xref": "x1",
          "y": 4,
          "yref": "y1"
         },
         {
          "align": "left",
          "font": {
           "color": "#ffffff",
           "size": 15
          },
          "showarrow": false,
          "text": "<b>0.975</b>",
          "x": -0.45,
          "xanchor": "left",
          "xref": "x1",
          "y": 5,
          "yref": "y1"
         },
         {
          "align": "left",
          "font": {
           "color": "#000000",
           "size": 15
          },
          "showarrow": false,
          "text": "42",
          "x": 0.55,
          "xanchor": "left",
          "xref": "x1",
          "y": 5,
          "yref": "y1"
         },
         {
          "align": "left",
          "font": {
           "color": "#000000",
           "size": 15
          },
          "showarrow": false,
          "text": "111",
          "x": 1.55,
          "xanchor": "left",
          "xref": "x1",
          "y": 5,
          "yref": "y1"
         },
         {
          "align": "left",
          "font": {
           "color": "#000000",
           "size": 15
          },
          "showarrow": false,
          "text": "165",
          "x": 2.55,
          "xanchor": "left",
          "xref": "x1",
          "y": 5,
          "yref": "y1"
         },
         {
          "align": "left",
          "font": {
           "color": "#000000",
           "size": 15
          },
          "showarrow": false,
          "text": "326",
          "x": 3.55,
          "xanchor": "left",
          "xref": "x1",
          "y": 5,
          "yref": "y1"
         },
         {
          "align": "left",
          "font": {
           "color": "#000000",
           "size": 15
          },
          "showarrow": false,
          "text": "486",
          "x": 4.55,
          "xanchor": "left",
          "xref": "x1",
          "y": 5,
          "yref": "y1"
         },
         {
          "align": "left",
          "font": {
           "color": "#000000",
           "size": 15
          },
          "showarrow": false,
          "text": "658",
          "x": 5.55,
          "xanchor": "left",
          "xref": "x1",
          "y": 5,
          "yref": "y1"
         },
         {
          "align": "left",
          "font": {
           "color": "#ffffff",
           "size": 15
          },
          "showarrow": false,
          "text": "<b>0.99</b>",
          "x": -0.45,
          "xanchor": "left",
          "xref": "x1",
          "y": 6,
          "yref": "y1"
         },
         {
          "align": "left",
          "font": {
           "color": "#000000",
           "size": 15
          },
          "showarrow": false,
          "text": "61",
          "x": 0.55,
          "xanchor": "left",
          "xref": "x1",
          "y": 6,
          "yref": "y1"
         },
         {
          "align": "left",
          "font": {
           "color": "#000000",
           "size": 15
          },
          "showarrow": false,
          "text": "126",
          "x": 1.55,
          "xanchor": "left",
          "xref": "x1",
          "y": 6,
          "yref": "y1"
         },
         {
          "align": "left",
          "font": {
           "color": "#000000",
           "size": 15
          },
          "showarrow": false,
          "text": "168",
          "x": 2.55,
          "xanchor": "left",
          "xref": "x1",
          "y": 6,
          "yref": "y1"
         },
         {
          "align": "left",
          "font": {
           "color": "#000000",
           "size": 15
          },
          "showarrow": false,
          "text": "344",
          "x": 3.55,
          "xanchor": "left",
          "xref": "x1",
          "y": 6,
          "yref": "y1"
         },
         {
          "align": "left",
          "font": {
           "color": "#000000",
           "size": 15
          },
          "showarrow": false,
          "text": "498",
          "x": 4.55,
          "xanchor": "left",
          "xref": "x1",
          "y": 6,
          "yref": "y1"
         },
         {
          "align": "left",
          "font": {
           "color": "#000000",
           "size": 15
          },
          "showarrow": false,
          "text": "671",
          "x": 5.55,
          "xanchor": "left",
          "xref": "x1",
          "y": 6,
          "yref": "y1"
         },
         {
          "align": "left",
          "font": {
           "color": "#ffffff",
           "size": 15
          },
          "showarrow": false,
          "text": "<b></b>",
          "x": -0.45,
          "xanchor": "left",
          "xref": "x1",
          "y": 7,
          "yref": "y1"
         },
         {
          "align": "left",
          "font": {
           "color": "#000000",
           "size": 15
          },
          "showarrow": false,
          "text": "",
          "x": 0.55,
          "xanchor": "left",
          "xref": "x1",
          "y": 7,
          "yref": "y1"
         },
         {
          "align": "left",
          "font": {
           "color": "#000000",
           "size": 15
          },
          "showarrow": false,
          "text": "",
          "x": 1.55,
          "xanchor": "left",
          "xref": "x1",
          "y": 7,
          "yref": "y1"
         },
         {
          "align": "left",
          "font": {
           "color": "#000000",
           "size": 15
          },
          "showarrow": false,
          "text": "",
          "x": 2.55,
          "xanchor": "left",
          "xref": "x1",
          "y": 7,
          "yref": "y1"
         },
         {
          "align": "left",
          "font": {
           "color": "#000000",
           "size": 15
          },
          "showarrow": false,
          "text": "",
          "x": 3.55,
          "xanchor": "left",
          "xref": "x1",
          "y": 7,
          "yref": "y1"
         },
         {
          "align": "left",
          "font": {
           "color": "#000000",
           "size": 15
          },
          "showarrow": false,
          "text": "",
          "x": 4.55,
          "xanchor": "left",
          "xref": "x1",
          "y": 7,
          "yref": "y1"
         },
         {
          "align": "left",
          "font": {
           "color": "#000000",
           "size": 15
          },
          "showarrow": false,
          "text": "",
          "x": 5.55,
          "xanchor": "left",
          "xref": "x1",
          "y": 7,
          "yref": "y1"
         }
        ],
        "height": 290,
        "margin": {
         "b": 0,
         "l": 0,
         "r": 0,
         "t": 0
        },
        "xaxis": {
         "dtick": 1,
         "gridwidth": 2,
         "showticklabels": false,
         "tick0": -0.5,
         "ticks": "",
         "zeroline": false
        },
        "yaxis": {
         "autorange": "reversed",
         "dtick": 1,
         "gridwidth": 2,
         "showticklabels": false,
         "tick0": 0.5,
         "ticks": "",
         "zeroline": false
        }
       }
      },
      "text/html": [
       "<div id=\"dce11fd1-6767-4989-a16d-8f21eec8715b\" style=\"height: 290px; width: 100%;\" class=\"plotly-graph-div\"></div><script type=\"text/javascript\">require([\"plotly\"], function(Plotly) { window.PLOTLYENV=window.PLOTLYENV || {};window.PLOTLYENV.BASE_URL=\"https://plot.ly\";Plotly.newPlot(\"dce11fd1-6767-4989-a16d-8f21eec8715b\", [{\"opacity\": 0.75, \"colorscale\": [[0, \"#00083e\"], [0.5, \"#ededee\"], [1, \"#ffffff\"]], \"showscale\": false, \"hoverinfo\": \"none\", \"z\": [[0, 0, 0, 0, 0, 0, 0], [0, 0.5, 0.5, 0.5, 0.5, 0.5, 0.5], [0, 1, 1, 1, 1, 1, 1], [0, 0.5, 0.5, 0.5, 0.5, 0.5, 0.5], [0, 1, 1, 1, 1, 1, 1], [0, 0.5, 0.5, 0.5, 0.5, 0.5, 0.5], [0, 1, 1, 1, 1, 1, 1], [0, 0.5, 0.5, 0.5, 0.5, 0.5, 0.5]], \"type\": \"heatmap\"}], {\"yaxis\": {\"showticklabels\": false, \"tick0\": 0.5, \"ticks\": \"\", \"gridwidth\": 2, \"dtick\": 1, \"zeroline\": false, \"autorange\": \"reversed\"}, \"margin\": {\"r\": 0, \"b\": 0, \"l\": 0, \"t\": 0}, \"annotations\": [{\"xref\": \"x1\", \"xanchor\": \"left\", \"yref\": \"y1\", \"text\": \"<b>Probability</b>\", \"align\": \"left\", \"y\": 0, \"x\": -0.45, \"font\": {\"color\": \"#ffffff\", \"size\": 15}, \"showarrow\": false}, {\"xref\": \"x1\", \"xanchor\": \"left\", \"yref\": \"y1\", \"text\": \"<b>N=100</b>\", \"align\": \"left\", \"y\": 0, \"x\": 0.55, \"font\": {\"color\": \"#ffffff\", \"size\": 15}, \"showarrow\": false}, {\"xref\": \"x1\", \"xanchor\": \"left\", \"yref\": \"y1\", \"text\": \"<b>N=200</b>\", \"align\": \"left\", \"y\": 0, \"x\": 1.55, \"font\": {\"color\": \"#ffffff\", \"size\": 15}, \"showarrow\": false}, {\"xref\": \"x1\", \"xanchor\": \"left\", \"yref\": \"y1\", \"text\": \"<b>N=500</b>\", \"align\": \"left\", \"y\": 0, \"x\": 2.55, \"font\": {\"color\": \"#ffffff\", \"size\": 15}, \"showarrow\": false}, {\"xref\": \"x1\", \"xanchor\": \"left\", \"yref\": \"y1\", \"text\": \"<b>N=1000</b>\", \"align\": \"left\", \"y\": 0, \"x\": 3.55, \"font\": {\"color\": \"#ffffff\", \"size\": 15}, \"showarrow\": false}, {\"xref\": \"x1\", \"xanchor\": \"left\", \"yref\": \"y1\", \"text\": \"<b>N=1500</b>\", \"align\": \"left\", \"y\": 0, \"x\": 4.55, \"font\": {\"color\": \"#ffffff\", \"size\": 15}, \"showarrow\": false}, {\"xref\": \"x1\", \"xanchor\": \"left\", \"yref\": \"y1\", \"text\": \"<b>N=2000</b>\", \"align\": \"left\", \"y\": 0, \"x\": 5.55, \"font\": {\"color\": \"#ffffff\", \"size\": 15}, \"showarrow\": false}, {\"xref\": \"x1\", \"xanchor\": \"left\", \"yref\": \"y1\", \"text\": \"<b>0.8</b>\", \"align\": \"left\", \"y\": 1, \"x\": -0.45, \"font\": {\"color\": \"#ffffff\", \"size\": 15}, \"showarrow\": false}, {\"xref\": \"x1\", \"xanchor\": \"left\", \"yref\": \"y1\", \"text\": \"28\", \"align\": \"left\", \"y\": 1, \"x\": 0.55, \"font\": {\"color\": \"#000000\", \"size\": 15}, \"showarrow\": false}, {\"xref\": \"x1\", \"xanchor\": \"left\", \"yref\": \"y1\", \"text\": \"57\", \"align\": \"left\", \"y\": 1, \"x\": 1.55, \"font\": {\"color\": \"#000000\", \"size\": 15}, \"showarrow\": false}, {\"xref\": \"x1\", \"xanchor\": \"left\", \"yref\": \"y1\", \"text\": \"137\", \"align\": \"left\", \"y\": 1, \"x\": 2.55, \"font\": {\"color\": \"#000000\", \"size\": 15}, \"showarrow\": false}, {\"xref\": \"x1\", \"xanchor\": \"left\", \"yref\": \"y1\", \"text\": \"271\", \"align\": \"left\", \"y\": 1, \"x\": 3.55, \"font\": {\"color\": \"#000000\", \"size\": 15}, \"showarrow\": false}, {\"xref\": \"x1\", \"xanchor\": \"left\", \"yref\": \"y1\", \"text\": \"396\", \"align\": \"left\", \"y\": 1, \"x\": 4.55, \"font\": {\"color\": \"#000000\", \"size\": 15}, \"showarrow\": false}, {\"xref\": \"x1\", \"xanchor\": \"left\", \"yref\": \"y1\", \"text\": \"537\", \"align\": \"left\", \"y\": 1, \"x\": 5.55, \"font\": {\"color\": \"#000000\", \"size\": 15}, \"showarrow\": false}, {\"xref\": \"x1\", \"xanchor\": \"left\", \"yref\": \"y1\", \"text\": \"<b>0.85</b>\", \"align\": \"left\", \"y\": 2, \"x\": -0.45, \"font\": {\"color\": \"#ffffff\", \"size\": 15}, \"showarrow\": false}, {\"xref\": \"x1\", \"xanchor\": \"left\", \"yref\": \"y1\", \"text\": \"30\", \"align\": \"left\", \"y\": 2, \"x\": 0.55, \"font\": {\"color\": \"#000000\", \"size\": 15}, \"showarrow\": false}, {\"xref\": \"x1\", \"xanchor\": \"left\", \"yref\": \"y1\", \"text\": \"60\", \"align\": \"left\", \"y\": 2, \"x\": 1.55, \"font\": {\"color\": \"#000000\", \"size\": 15}, \"showarrow\": false}, {\"xref\": \"x1\", \"xanchor\": \"left\", \"yref\": \"y1\", \"text\": \"144\", \"align\": \"left\", \"y\": 2, \"x\": 2.55, \"font\": {\"color\": \"#000000\", \"size\": 15}, \"showarrow\": false}, {\"xref\": \"x1\", \"xanchor\": \"left\", \"yref\": \"y1\", \"text\": \"284\", \"align\": \"left\", \"y\": 2, \"x\": 3.55, \"font\": {\"color\": \"#000000\", \"size\": 15}, \"showarrow\": false}, {\"xref\": \"x1\", \"xanchor\": \"left\", \"yref\": \"y1\", \"text\": \"421\", \"align\": \"left\", \"y\": 2, \"x\": 4.55, \"font\": {\"color\": \"#000000\", \"size\": 15}, \"showarrow\": false}, {\"xref\": \"x1\", \"xanchor\": \"left\", \"yref\": \"y1\", \"text\": \"567\", \"align\": \"left\", \"y\": 2, \"x\": 5.55, \"font\": {\"color\": \"#000000\", \"size\": 15}, \"showarrow\": false}, {\"xref\": \"x1\", \"xanchor\": \"left\", \"yref\": \"y1\", \"text\": \"<b>0.9</b>\", \"align\": \"left\", \"y\": 3, \"x\": -0.45, \"font\": {\"color\": \"#ffffff\", \"size\": 15}, \"showarrow\": false}, {\"xref\": \"x1\", \"xanchor\": \"left\", \"yref\": \"y1\", \"text\": \"32\", \"align\": \"left\", \"y\": 3, \"x\": 0.55, \"font\": {\"color\": \"#000000\", \"size\": 15}, \"showarrow\": false}, {\"xref\": \"x1\", \"xanchor\": \"left\", \"yref\": \"y1\", \"text\": \"64\", \"align\": \"left\", \"y\": 3, \"x\": 1.55, \"font\": {\"color\": \"#000000\", \"size\": 15}, \"showarrow\": false}, {\"xref\": \"x1\", \"xanchor\": \"left\", \"yref\": \"y1\", \"text\": \"152\", \"align\": \"left\", \"y\": 3, \"x\": 2.55, \"font\": {\"color\": \"#000000\", \"size\": 15}, \"showarrow\": false}, {\"xref\": \"x1\", \"xanchor\": \"left\", \"yref\": \"y1\", \"text\": \"305\", \"align\": \"left\", \"y\": 3, \"x\": 3.55, \"font\": {\"color\": \"#000000\", \"size\": 15}, \"showarrow\": false}, {\"xref\": \"x1\", \"xanchor\": \"left\", \"yref\": \"y1\", \"text\": \"450\", \"align\": \"left\", \"y\": 3, \"x\": 4.55, \"font\": {\"color\": \"#000000\", \"size\": 15}, \"showarrow\": false}, {\"xref\": \"x1\", \"xanchor\": \"left\", \"yref\": \"y1\", \"text\": \"597\", \"align\": \"left\", \"y\": 3, \"x\": 5.55, \"font\": {\"color\": \"#000000\", \"size\": 15}, \"showarrow\": false}, {\"xref\": \"x1\", \"xanchor\": \"left\", \"yref\": \"y1\", \"text\": \"<b>0.95</b>\", \"align\": \"left\", \"y\": 4, \"x\": -0.45, \"font\": {\"color\": \"#ffffff\", \"size\": 15}, \"showarrow\": false}, {\"xref\": \"x1\", \"xanchor\": \"left\", \"yref\": \"y1\", \"text\": \"34\", \"align\": \"left\", \"y\": 4, \"x\": 0.55, \"font\": {\"color\": \"#000000\", \"size\": 15}, \"showarrow\": false}, {\"xref\": \"x1\", \"xanchor\": \"left\", \"yref\": \"y1\", \"text\": \"70\", \"align\": \"left\", \"y\": 4, \"x\": 1.55, \"font\": {\"color\": \"#000000\", \"size\": 15}, \"showarrow\": false}, {\"xref\": \"x1\", \"xanchor\": \"left\", \"yref\": \"y1\", \"text\": \"162\", \"align\": \"left\", \"y\": 4, \"x\": 2.55, \"font\": {\"color\": \"#000000\", \"size\": 15}, \"showarrow\": false}, {\"xref\": \"x1\", \"xanchor\": \"left\", \"yref\": \"y1\", \"text\": \"317\", \"align\": \"left\", \"y\": 4, \"x\": 3.55, \"font\": {\"color\": \"#000000\", \"size\": 15}, \"showarrow\": false}, {\"xref\": \"x1\", \"xanchor\": \"left\", \"yref\": \"y1\", \"text\": \"470\", \"align\": \"left\", \"y\": 4, \"x\": 4.55, \"font\": {\"color\": \"#000000\", \"size\": 15}, \"showarrow\": false}, {\"xref\": \"x1\", \"xanchor\": \"left\", \"yref\": \"y1\", \"text\": \"634\", \"align\": \"left\", \"y\": 4, \"x\": 5.55, \"font\": {\"color\": \"#000000\", \"size\": 15}, \"showarrow\": false}, {\"xref\": \"x1\", \"xanchor\": \"left\", \"yref\": \"y1\", \"text\": \"<b>0.975</b>\", \"align\": \"left\", \"y\": 5, \"x\": -0.45, \"font\": {\"color\": \"#ffffff\", \"size\": 15}, \"showarrow\": false}, {\"xref\": \"x1\", \"xanchor\": \"left\", \"yref\": \"y1\", \"text\": \"42\", \"align\": \"left\", \"y\": 5, \"x\": 0.55, \"font\": {\"color\": \"#000000\", \"size\": 15}, \"showarrow\": false}, {\"xref\": \"x1\", \"xanchor\": \"left\", \"yref\": \"y1\", \"text\": \"111\", \"align\": \"left\", \"y\": 5, \"x\": 1.55, \"font\": {\"color\": \"#000000\", \"size\": 15}, \"showarrow\": false}, {\"xref\": \"x1\", \"xanchor\": \"left\", \"yref\": \"y1\", \"text\": \"165\", \"align\": \"left\", \"y\": 5, \"x\": 2.55, \"font\": {\"color\": \"#000000\", \"size\": 15}, \"showarrow\": false}, {\"xref\": \"x1\", \"xanchor\": \"left\", \"yref\": \"y1\", \"text\": \"326\", \"align\": \"left\", \"y\": 5, \"x\": 3.55, \"font\": {\"color\": \"#000000\", \"size\": 15}, \"showarrow\": false}, {\"xref\": \"x1\", \"xanchor\": \"left\", \"yref\": \"y1\", \"text\": \"486\", \"align\": \"left\", \"y\": 5, \"x\": 4.55, \"font\": {\"color\": \"#000000\", \"size\": 15}, \"showarrow\": false}, {\"xref\": \"x1\", \"xanchor\": \"left\", \"yref\": \"y1\", \"text\": \"658\", \"align\": \"left\", \"y\": 5, \"x\": 5.55, \"font\": {\"color\": \"#000000\", \"size\": 15}, \"showarrow\": false}, {\"xref\": \"x1\", \"xanchor\": \"left\", \"yref\": \"y1\", \"text\": \"<b>0.99</b>\", \"align\": \"left\", \"y\": 6, \"x\": -0.45, \"font\": {\"color\": \"#ffffff\", \"size\": 15}, \"showarrow\": false}, {\"xref\": \"x1\", \"xanchor\": \"left\", \"yref\": \"y1\", \"text\": \"61\", \"align\": \"left\", \"y\": 6, \"x\": 0.55, \"font\": {\"color\": \"#000000\", \"size\": 15}, \"showarrow\": false}, {\"xref\": \"x1\", \"xanchor\": \"left\", \"yref\": \"y1\", \"text\": \"126\", \"align\": \"left\", \"y\": 6, \"x\": 1.55, \"font\": {\"color\": \"#000000\", \"size\": 15}, \"showarrow\": false}, {\"xref\": \"x1\", \"xanchor\": \"left\", \"yref\": \"y1\", \"text\": \"168\", \"align\": \"left\", \"y\": 6, \"x\": 2.55, \"font\": {\"color\": \"#000000\", \"size\": 15}, \"showarrow\": false}, {\"xref\": \"x1\", \"xanchor\": \"left\", \"yref\": \"y1\", \"text\": \"344\", \"align\": \"left\", \"y\": 6, \"x\": 3.55, \"font\": {\"color\": \"#000000\", \"size\": 15}, \"showarrow\": false}, {\"xref\": \"x1\", \"xanchor\": \"left\", \"yref\": \"y1\", \"text\": \"498\", \"align\": \"left\", \"y\": 6, \"x\": 4.55, \"font\": {\"color\": \"#000000\", \"size\": 15}, \"showarrow\": false}, {\"xref\": \"x1\", \"xanchor\": \"left\", \"yref\": \"y1\", \"text\": \"671\", \"align\": \"left\", \"y\": 6, \"x\": 5.55, \"font\": {\"color\": \"#000000\", \"size\": 15}, \"showarrow\": false}, {\"xref\": \"x1\", \"xanchor\": \"left\", \"yref\": \"y1\", \"text\": \"<b></b>\", \"align\": \"left\", \"y\": 7, \"x\": -0.45, \"font\": {\"color\": \"#ffffff\", \"size\": 15}, \"showarrow\": false}, {\"xref\": \"x1\", \"xanchor\": \"left\", \"yref\": \"y1\", \"text\": \"\", \"align\": \"left\", \"y\": 7, \"x\": 0.55, \"font\": {\"color\": \"#000000\", \"size\": 15}, \"showarrow\": false}, {\"xref\": \"x1\", \"xanchor\": \"left\", \"yref\": \"y1\", \"text\": \"\", \"align\": \"left\", \"y\": 7, \"x\": 1.55, \"font\": {\"color\": \"#000000\", \"size\": 15}, \"showarrow\": false}, {\"xref\": \"x1\", \"xanchor\": \"left\", \"yref\": \"y1\", \"text\": \"\", \"align\": \"left\", \"y\": 7, \"x\": 2.55, \"font\": {\"color\": \"#000000\", \"size\": 15}, \"showarrow\": false}, {\"xref\": \"x1\", \"xanchor\": \"left\", \"yref\": \"y1\", \"text\": \"\", \"align\": \"left\", \"y\": 7, \"x\": 3.55, \"font\": {\"color\": \"#000000\", \"size\": 15}, \"showarrow\": false}, {\"xref\": \"x1\", \"xanchor\": \"left\", \"yref\": \"y1\", \"text\": \"\", \"align\": \"left\", \"y\": 7, \"x\": 4.55, \"font\": {\"color\": \"#000000\", \"size\": 15}, \"showarrow\": false}, {\"xref\": \"x1\", \"xanchor\": \"left\", \"yref\": \"y1\", \"text\": \"\", \"align\": \"left\", \"y\": 7, \"x\": 5.55, \"font\": {\"color\": \"#000000\", \"size\": 15}, \"showarrow\": false}], \"xaxis\": {\"showticklabels\": false, \"tick0\": -0.5, \"ticks\": \"\", \"gridwidth\": 2, \"dtick\": 1, \"zeroline\": false}, \"height\": 290}, {\"linkText\": \"Export to plot.ly\", \"showLink\": true})});</script>"
      ],
      "text/vnd.plotly.v1+html": [
       "<div id=\"dce11fd1-6767-4989-a16d-8f21eec8715b\" style=\"height: 290px; width: 100%;\" class=\"plotly-graph-div\"></div><script type=\"text/javascript\">require([\"plotly\"], function(Plotly) { window.PLOTLYENV=window.PLOTLYENV || {};window.PLOTLYENV.BASE_URL=\"https://plot.ly\";Plotly.newPlot(\"dce11fd1-6767-4989-a16d-8f21eec8715b\", [{\"opacity\": 0.75, \"colorscale\": [[0, \"#00083e\"], [0.5, \"#ededee\"], [1, \"#ffffff\"]], \"showscale\": false, \"hoverinfo\": \"none\", \"z\": [[0, 0, 0, 0, 0, 0, 0], [0, 0.5, 0.5, 0.5, 0.5, 0.5, 0.5], [0, 1, 1, 1, 1, 1, 1], [0, 0.5, 0.5, 0.5, 0.5, 0.5, 0.5], [0, 1, 1, 1, 1, 1, 1], [0, 0.5, 0.5, 0.5, 0.5, 0.5, 0.5], [0, 1, 1, 1, 1, 1, 1], [0, 0.5, 0.5, 0.5, 0.5, 0.5, 0.5]], \"type\": \"heatmap\"}], {\"yaxis\": {\"showticklabels\": false, \"tick0\": 0.5, \"ticks\": \"\", \"gridwidth\": 2, \"dtick\": 1, \"zeroline\": false, \"autorange\": \"reversed\"}, \"margin\": {\"r\": 0, \"b\": 0, \"l\": 0, \"t\": 0}, \"annotations\": [{\"xref\": \"x1\", \"xanchor\": \"left\", \"yref\": \"y1\", \"text\": \"<b>Probability</b>\", \"align\": \"left\", \"y\": 0, \"x\": -0.45, \"font\": {\"color\": \"#ffffff\", \"size\": 15}, \"showarrow\": false}, {\"xref\": \"x1\", \"xanchor\": \"left\", \"yref\": \"y1\", \"text\": \"<b>N=100</b>\", \"align\": \"left\", \"y\": 0, \"x\": 0.55, \"font\": {\"color\": \"#ffffff\", \"size\": 15}, \"showarrow\": false}, {\"xref\": \"x1\", \"xanchor\": \"left\", \"yref\": \"y1\", \"text\": \"<b>N=200</b>\", \"align\": \"left\", \"y\": 0, \"x\": 1.55, \"font\": {\"color\": \"#ffffff\", \"size\": 15}, \"showarrow\": false}, {\"xref\": \"x1\", \"xanchor\": \"left\", \"yref\": \"y1\", \"text\": \"<b>N=500</b>\", \"align\": \"left\", \"y\": 0, \"x\": 2.55, \"font\": {\"color\": \"#ffffff\", \"size\": 15}, \"showarrow\": false}, {\"xref\": \"x1\", \"xanchor\": \"left\", \"yref\": \"y1\", \"text\": \"<b>N=1000</b>\", \"align\": \"left\", \"y\": 0, \"x\": 3.55, \"font\": {\"color\": \"#ffffff\", \"size\": 15}, \"showarrow\": false}, {\"xref\": \"x1\", \"xanchor\": \"left\", \"yref\": \"y1\", \"text\": \"<b>N=1500</b>\", \"align\": \"left\", \"y\": 0, \"x\": 4.55, \"font\": {\"color\": \"#ffffff\", \"size\": 15}, \"showarrow\": false}, {\"xref\": \"x1\", \"xanchor\": \"left\", \"yref\": \"y1\", \"text\": \"<b>N=2000</b>\", \"align\": \"left\", \"y\": 0, \"x\": 5.55, \"font\": {\"color\": \"#ffffff\", \"size\": 15}, \"showarrow\": false}, {\"xref\": \"x1\", \"xanchor\": \"left\", \"yref\": \"y1\", \"text\": \"<b>0.8</b>\", \"align\": \"left\", \"y\": 1, \"x\": -0.45, \"font\": {\"color\": \"#ffffff\", \"size\": 15}, \"showarrow\": false}, {\"xref\": \"x1\", \"xanchor\": \"left\", \"yref\": \"y1\", \"text\": \"28\", \"align\": \"left\", \"y\": 1, \"x\": 0.55, \"font\": {\"color\": \"#000000\", \"size\": 15}, \"showarrow\": false}, {\"xref\": \"x1\", \"xanchor\": \"left\", \"yref\": \"y1\", \"text\": \"57\", \"align\": \"left\", \"y\": 1, \"x\": 1.55, \"font\": {\"color\": \"#000000\", \"size\": 15}, \"showarrow\": false}, {\"xref\": \"x1\", \"xanchor\": \"left\", \"yref\": \"y1\", \"text\": \"137\", \"align\": \"left\", \"y\": 1, \"x\": 2.55, \"font\": {\"color\": \"#000000\", \"size\": 15}, \"showarrow\": false}, {\"xref\": \"x1\", \"xanchor\": \"left\", \"yref\": \"y1\", \"text\": \"271\", \"align\": \"left\", \"y\": 1, \"x\": 3.55, \"font\": {\"color\": \"#000000\", \"size\": 15}, \"showarrow\": false}, {\"xref\": \"x1\", \"xanchor\": \"left\", \"yref\": \"y1\", \"text\": \"396\", \"align\": \"left\", \"y\": 1, \"x\": 4.55, \"font\": {\"color\": \"#000000\", \"size\": 15}, \"showarrow\": false}, {\"xref\": \"x1\", \"xanchor\": \"left\", \"yref\": \"y1\", \"text\": \"537\", \"align\": \"left\", \"y\": 1, \"x\": 5.55, \"font\": {\"color\": \"#000000\", \"size\": 15}, \"showarrow\": false}, {\"xref\": \"x1\", \"xanchor\": \"left\", \"yref\": \"y1\", \"text\": \"<b>0.85</b>\", \"align\": \"left\", \"y\": 2, \"x\": -0.45, \"font\": {\"color\": \"#ffffff\", \"size\": 15}, \"showarrow\": false}, {\"xref\": \"x1\", \"xanchor\": \"left\", \"yref\": \"y1\", \"text\": \"30\", \"align\": \"left\", \"y\": 2, \"x\": 0.55, \"font\": {\"color\": \"#000000\", \"size\": 15}, \"showarrow\": false}, {\"xref\": \"x1\", \"xanchor\": \"left\", \"yref\": \"y1\", \"text\": \"60\", \"align\": \"left\", \"y\": 2, \"x\": 1.55, \"font\": {\"color\": \"#000000\", \"size\": 15}, \"showarrow\": false}, {\"xref\": \"x1\", \"xanchor\": \"left\", \"yref\": \"y1\", \"text\": \"144\", \"align\": \"left\", \"y\": 2, \"x\": 2.55, \"font\": {\"color\": \"#000000\", \"size\": 15}, \"showarrow\": false}, {\"xref\": \"x1\", \"xanchor\": \"left\", \"yref\": \"y1\", \"text\": \"284\", \"align\": \"left\", \"y\": 2, \"x\": 3.55, \"font\": {\"color\": \"#000000\", \"size\": 15}, \"showarrow\": false}, {\"xref\": \"x1\", \"xanchor\": \"left\", \"yref\": \"y1\", \"text\": \"421\", \"align\": \"left\", \"y\": 2, \"x\": 4.55, \"font\": {\"color\": \"#000000\", \"size\": 15}, \"showarrow\": false}, {\"xref\": \"x1\", \"xanchor\": \"left\", \"yref\": \"y1\", \"text\": \"567\", \"align\": \"left\", \"y\": 2, \"x\": 5.55, \"font\": {\"color\": \"#000000\", \"size\": 15}, \"showarrow\": false}, {\"xref\": \"x1\", \"xanchor\": \"left\", \"yref\": \"y1\", \"text\": \"<b>0.9</b>\", \"align\": \"left\", \"y\": 3, \"x\": -0.45, \"font\": {\"color\": \"#ffffff\", \"size\": 15}, \"showarrow\": false}, {\"xref\": \"x1\", \"xanchor\": \"left\", \"yref\": \"y1\", \"text\": \"32\", \"align\": \"left\", \"y\": 3, \"x\": 0.55, \"font\": {\"color\": \"#000000\", \"size\": 15}, \"showarrow\": false}, {\"xref\": \"x1\", \"xanchor\": \"left\", \"yref\": \"y1\", \"text\": \"64\", \"align\": \"left\", \"y\": 3, \"x\": 1.55, \"font\": {\"color\": \"#000000\", \"size\": 15}, \"showarrow\": false}, {\"xref\": \"x1\", \"xanchor\": \"left\", \"yref\": \"y1\", \"text\": \"152\", \"align\": \"left\", \"y\": 3, \"x\": 2.55, \"font\": {\"color\": \"#000000\", \"size\": 15}, \"showarrow\": false}, {\"xref\": \"x1\", \"xanchor\": \"left\", \"yref\": \"y1\", \"text\": \"305\", \"align\": \"left\", \"y\": 3, \"x\": 3.55, \"font\": {\"color\": \"#000000\", \"size\": 15}, \"showarrow\": false}, {\"xref\": \"x1\", \"xanchor\": \"left\", \"yref\": \"y1\", \"text\": \"450\", \"align\": \"left\", \"y\": 3, \"x\": 4.55, \"font\": {\"color\": \"#000000\", \"size\": 15}, \"showarrow\": false}, {\"xref\": \"x1\", \"xanchor\": \"left\", \"yref\": \"y1\", \"text\": \"597\", \"align\": \"left\", \"y\": 3, \"x\": 5.55, \"font\": {\"color\": \"#000000\", \"size\": 15}, \"showarrow\": false}, {\"xref\": \"x1\", \"xanchor\": \"left\", \"yref\": \"y1\", \"text\": \"<b>0.95</b>\", \"align\": \"left\", \"y\": 4, \"x\": -0.45, \"font\": {\"color\": \"#ffffff\", \"size\": 15}, \"showarrow\": false}, {\"xref\": \"x1\", \"xanchor\": \"left\", \"yref\": \"y1\", \"text\": \"34\", \"align\": \"left\", \"y\": 4, \"x\": 0.55, \"font\": {\"color\": \"#000000\", \"size\": 15}, \"showarrow\": false}, {\"xref\": \"x1\", \"xanchor\": \"left\", \"yref\": \"y1\", \"text\": \"70\", \"align\": \"left\", \"y\": 4, \"x\": 1.55, \"font\": {\"color\": \"#000000\", \"size\": 15}, \"showarrow\": false}, {\"xref\": \"x1\", \"xanchor\": \"left\", \"yref\": \"y1\", \"text\": \"162\", \"align\": \"left\", \"y\": 4, \"x\": 2.55, \"font\": {\"color\": \"#000000\", \"size\": 15}, \"showarrow\": false}, {\"xref\": \"x1\", \"xanchor\": \"left\", \"yref\": \"y1\", \"text\": \"317\", \"align\": \"left\", \"y\": 4, \"x\": 3.55, \"font\": {\"color\": \"#000000\", \"size\": 15}, \"showarrow\": false}, {\"xref\": \"x1\", \"xanchor\": \"left\", \"yref\": \"y1\", \"text\": \"470\", \"align\": \"left\", \"y\": 4, \"x\": 4.55, \"font\": {\"color\": \"#000000\", \"size\": 15}, \"showarrow\": false}, {\"xref\": \"x1\", \"xanchor\": \"left\", \"yref\": \"y1\", \"text\": \"634\", \"align\": \"left\", \"y\": 4, \"x\": 5.55, \"font\": {\"color\": \"#000000\", \"size\": 15}, \"showarrow\": false}, {\"xref\": \"x1\", \"xanchor\": \"left\", \"yref\": \"y1\", \"text\": \"<b>0.975</b>\", \"align\": \"left\", \"y\": 5, \"x\": -0.45, \"font\": {\"color\": \"#ffffff\", \"size\": 15}, \"showarrow\": false}, {\"xref\": \"x1\", \"xanchor\": \"left\", \"yref\": \"y1\", \"text\": \"42\", \"align\": \"left\", \"y\": 5, \"x\": 0.55, \"font\": {\"color\": \"#000000\", \"size\": 15}, \"showarrow\": false}, {\"xref\": \"x1\", \"xanchor\": \"left\", \"yref\": \"y1\", \"text\": \"111\", \"align\": \"left\", \"y\": 5, \"x\": 1.55, \"font\": {\"color\": \"#000000\", \"size\": 15}, \"showarrow\": false}, {\"xref\": \"x1\", \"xanchor\": \"left\", \"yref\": \"y1\", \"text\": \"165\", \"align\": \"left\", \"y\": 5, \"x\": 2.55, \"font\": {\"color\": \"#000000\", \"size\": 15}, \"showarrow\": false}, {\"xref\": \"x1\", \"xanchor\": \"left\", \"yref\": \"y1\", \"text\": \"326\", \"align\": \"left\", \"y\": 5, \"x\": 3.55, \"font\": {\"color\": \"#000000\", \"size\": 15}, \"showarrow\": false}, {\"xref\": \"x1\", \"xanchor\": \"left\", \"yref\": \"y1\", \"text\": \"486\", \"align\": \"left\", \"y\": 5, \"x\": 4.55, \"font\": {\"color\": \"#000000\", \"size\": 15}, \"showarrow\": false}, {\"xref\": \"x1\", \"xanchor\": \"left\", \"yref\": \"y1\", \"text\": \"658\", \"align\": \"left\", \"y\": 5, \"x\": 5.55, \"font\": {\"color\": \"#000000\", \"size\": 15}, \"showarrow\": false}, {\"xref\": \"x1\", \"xanchor\": \"left\", \"yref\": \"y1\", \"text\": \"<b>0.99</b>\", \"align\": \"left\", \"y\": 6, \"x\": -0.45, \"font\": {\"color\": \"#ffffff\", \"size\": 15}, \"showarrow\": false}, {\"xref\": \"x1\", \"xanchor\": \"left\", \"yref\": \"y1\", \"text\": \"61\", \"align\": \"left\", \"y\": 6, \"x\": 0.55, \"font\": {\"color\": \"#000000\", \"size\": 15}, \"showarrow\": false}, {\"xref\": \"x1\", \"xanchor\": \"left\", \"yref\": \"y1\", \"text\": \"126\", \"align\": \"left\", \"y\": 6, \"x\": 1.55, \"font\": {\"color\": \"#000000\", \"size\": 15}, \"showarrow\": false}, {\"xref\": \"x1\", \"xanchor\": \"left\", \"yref\": \"y1\", \"text\": \"168\", \"align\": \"left\", \"y\": 6, \"x\": 2.55, \"font\": {\"color\": \"#000000\", \"size\": 15}, \"showarrow\": false}, {\"xref\": \"x1\", \"xanchor\": \"left\", \"yref\": \"y1\", \"text\": \"344\", \"align\": \"left\", \"y\": 6, \"x\": 3.55, \"font\": {\"color\": \"#000000\", \"size\": 15}, \"showarrow\": false}, {\"xref\": \"x1\", \"xanchor\": \"left\", \"yref\": \"y1\", \"text\": \"498\", \"align\": \"left\", \"y\": 6, \"x\": 4.55, \"font\": {\"color\": \"#000000\", \"size\": 15}, \"showarrow\": false}, {\"xref\": \"x1\", \"xanchor\": \"left\", \"yref\": \"y1\", \"text\": \"671\", \"align\": \"left\", \"y\": 6, \"x\": 5.55, \"font\": {\"color\": \"#000000\", \"size\": 15}, \"showarrow\": false}, {\"xref\": \"x1\", \"xanchor\": \"left\", \"yref\": \"y1\", \"text\": \"<b></b>\", \"align\": \"left\", \"y\": 7, \"x\": -0.45, \"font\": {\"color\": \"#ffffff\", \"size\": 15}, \"showarrow\": false}, {\"xref\": \"x1\", \"xanchor\": \"left\", \"yref\": \"y1\", \"text\": \"\", \"align\": \"left\", \"y\": 7, \"x\": 0.55, \"font\": {\"color\": \"#000000\", \"size\": 15}, \"showarrow\": false}, {\"xref\": \"x1\", \"xanchor\": \"left\", \"yref\": \"y1\", \"text\": \"\", \"align\": \"left\", \"y\": 7, \"x\": 1.55, \"font\": {\"color\": \"#000000\", \"size\": 15}, \"showarrow\": false}, {\"xref\": \"x1\", \"xanchor\": \"left\", \"yref\": \"y1\", \"text\": \"\", \"align\": \"left\", \"y\": 7, \"x\": 2.55, \"font\": {\"color\": \"#000000\", \"size\": 15}, \"showarrow\": false}, {\"xref\": \"x1\", \"xanchor\": \"left\", \"yref\": \"y1\", \"text\": \"\", \"align\": \"left\", \"y\": 7, \"x\": 3.55, \"font\": {\"color\": \"#000000\", \"size\": 15}, \"showarrow\": false}, {\"xref\": \"x1\", \"xanchor\": \"left\", \"yref\": \"y1\", \"text\": \"\", \"align\": \"left\", \"y\": 7, \"x\": 4.55, \"font\": {\"color\": \"#000000\", \"size\": 15}, \"showarrow\": false}, {\"xref\": \"x1\", \"xanchor\": \"left\", \"yref\": \"y1\", \"text\": \"\", \"align\": \"left\", \"y\": 7, \"x\": 5.55, \"font\": {\"color\": \"#000000\", \"size\": 15}, \"showarrow\": false}], \"xaxis\": {\"showticklabels\": false, \"tick0\": -0.5, \"ticks\": \"\", \"gridwidth\": 2, \"dtick\": 1, \"zeroline\": false}, \"height\": 290}, {\"linkText\": \"Export to plot.ly\", \"showLink\": true})});</script>"
      ]
     },
     "metadata": {},
     "output_type": "display_data"
    }
   ],
   "source": [
    "data_matrix = [['Probability', 'N=100','N=200','N=500','N=1000','N=1500','N=2000'],\n",
    "               ['0.8']+list1p3r,\n",
    "               ['0.85']+list2p3r,\n",
    "               ['0.9']+list3p3r,\n",
    "               ['0.95']+list4p3r,\n",
    "               ['0.975']+list5p3r,\n",
    "               ['0.99']+list6p3r,\n",
    "               ['','','','','','','']\n",
    "               ]\n",
    "\n",
    "table = ff.create_table(data_matrix,index=True, index_title='Date')\n",
    "for i in range(len(table.layout.annotations)):\n",
    "    table.layout.annotations[i].font.size = 15\n",
    "iplot(table, filename='simple_table')"
   ]
  },
  {
   "cell_type": "code",
   "execution_count": 32,
   "metadata": {
    "collapsed": true
   },
   "outputs": [],
   "source": [
    "dg_results = open('Final_degree_cs_BA.txt', 'w')\n",
    "for i in [100,200,500,1000,1500,2000]:\n",
    "  print>>dg_results, str(i),resultsDG_ba_cs[str(i)]\n",
    "dg_results.close()\n",
    "dg_results = open('Final_degree_cs_BA_TIME.txt', 'w')\n",
    "for i in [100,200,500,1000,1500,2000]:\n",
    "  print>>dg_results, str(i),results_dg_time_ba_cs[str(i)]\n",
    "dg_results.close()\n",
    "dg_results = open('Final_degree_cs_BA_size.txt', 'w')\n",
    "for i in [100,200,500,1000,1500,2000]:\n",
    "  print>>dg_results, str(i),size_dg_ba[str(i)]\n",
    "dg_results.close()"
   ]
  },
  {
   "cell_type": "code",
   "execution_count": 37,
   "metadata": {
    "collapsed": true
   },
   "outputs": [],
   "source": [
    "dg_results = open('Final_degree_cs_UA.txt', 'w')\n",
    "for i in [100,200,500,1000,1500,2000]:\n",
    "  print>>dg_results, str(i),resultsDG_ua_cs[str(i)]\n",
    "dg_results.close()\n",
    "dg_results = open('Final_degree_cs_UA_TIME.txt', 'w')\n",
    "for i in [100,200,500,1000,1500,2000]:\n",
    "  print>>dg_results, str(i),results_dg_time_ua_cs[str(i)]\n",
    "dg_results.close()\n",
    "dg_results = open('Final_degree_cs_UA_size.txt', 'w')\n",
    "for i in [100,200,500,1000,1500,2000]:\n",
    "  print>>dg_results, str(i),size_dg_ua[str(i)]\n",
    "dg_results.close()"
   ]
  },
  {
   "cell_type": "code",
   "execution_count": 54,
   "metadata": {
    "collapsed": true
   },
   "outputs": [],
   "source": [
    "dg_results = open('Final_degree_cs_P3R.txt', 'w')\n",
    "for i in [100,200,500,1000,1500,2000]:\n",
    "  print>>dg_results, str(i),resultsDG_p3r_cs[str(i)]\n",
    "dg_results.close()\n",
    "dg_results = open('Final_degree_cs_P3R_TIME.txt', 'w')\n",
    "for i in [100,200,500,1000,1500,2000]:\n",
    "  print>>dg_results, str(i),results_dg_time_p3r_cs[str(i)]\n",
    "dg_results.close()\n",
    "dg_results = open('Final_degree_cs_P3R_size.txt', 'w')\n",
    "for i in [100,200,500,1000,1500,2000]:\n",
    "  print>>dg_results, str(i),size_dg_p3r[str(i)]\n",
    "dg_results.close()"
   ]
  },
  {
   "cell_type": "markdown",
   "metadata": {
    "collapsed": true
   },
   "source": [
    "IMPORTING RESULTS"
   ]
  },
  {
   "cell_type": "code",
   "execution_count": 12,
   "metadata": {},
   "outputs": [
    {
     "name": "stdout",
     "output_type": "stream",
     "text": [
      "['100', '9', '200', '10', '500', '9', '1000', '14', '1500', '18', '2000', '15']\n",
      "['100', '200', '500', '1000', '1500', '2000']\n",
      "[9, 10, 9, 14, 18, 15]\n",
      "{'200': 10, '1500': 18, '2000': 15, '100': 9, '500': 9, '1000': 14}\n"
     ]
    }
   ],
   "source": [
    "info= open(\"Final_degree_cs_BA_size.txt\").read().split()\n",
    "list_=[i for i in info]\n",
    "DGba={}\n",
    "print list_\n",
    "keys=[list_[i] for i in range(0,11,2)]\n",
    "print keys\n",
    "values_=[int(list_[i]) for i in range(1,12,2)]\n",
    "print values_\n",
    "for i in range(0,6):\n",
    "    DGba[keys[i]]=values_[i]\n",
    "print DGba"
   ]
  },
  {
   "cell_type": "code",
   "execution_count": 13,
   "metadata": {},
   "outputs": [
    {
     "name": "stdout",
     "output_type": "stream",
     "text": [
      "['100', '8', '200', '12', '500', '18', '1000', '28', '1500', '29', '2000', '35']\n",
      "['100', '200', '500', '1000', '1500', '2000']\n",
      "[8, 12, 18, 28, 29, 35]\n",
      "{'200': 12, '1500': 29, '2000': 35, '100': 8, '500': 18, '1000': 28}\n"
     ]
    }
   ],
   "source": [
    "info= open(\"Final_degree_cs_UA_size.txt\").read().split()\n",
    "list_=[i for i in info]\n",
    "DGua={}\n",
    "print list_\n",
    "keys=[list_[i] for i in range(0,11,2)]\n",
    "print keys\n",
    "values_=[int(list_[i]) for i in range(1,12,2)]\n",
    "print values_\n",
    "for i in range(0,6):\n",
    "    DGua[keys[i]]=values_[i]\n",
    "print DGua"
   ]
  },
  {
   "cell_type": "code",
   "execution_count": 14,
   "metadata": {},
   "outputs": [
    {
     "name": "stdout",
     "output_type": "stream",
     "text": [
      "['100', '28', '200', '57', '500', '137', '1000', '271', '1500', '396', '2000', '537']\n",
      "['100', '200', '500', '1000', '1500', '2000']\n",
      "[28, 57, 137, 271, 396, 537]\n",
      "{'200': 57, '1500': 396, '2000': 537, '100': 28, '500': 137, '1000': 271}\n"
     ]
    }
   ],
   "source": [
    "info= open(\"Final_degree_cs_P3R_size.txt\").read().split()\n",
    "list_=[i for i in info]\n",
    "DGp3r={}\n",
    "print list_\n",
    "keys=[list_[i] for i in range(0,11,2)]\n",
    "print keys\n",
    "values_=[int(list_[i]) for i in range(1,12,2)]\n",
    "print values_\n",
    "for i in range(0,6):\n",
    "    DGp3r[keys[i]]=values_[i]\n",
    "print DGp3r"
   ]
  },
  {
   "cell_type": "code",
   "execution_count": 17,
   "metadata": {},
   "outputs": [
    {
     "name": "stdout",
     "output_type": "stream",
     "text": [
      "[47, 71, 19, 1, 105, 7, 0, 124, 355, 0, 5, 2, 17, 0, 1, 0, 10, 323, 0, 0, 0, 2, 15, 0, 5, 7, 0, 11, 2, 695, 6, 11, 16, 14, 0, 7, 1, 0, 13, 1, 4, 3, 1, 0, 1, 40, 0, 0, 0, 0, 0, 0, 100, 0, 0, 0, 1, 0, 4, 2, 8, 0, 6, 0, 1, 1, 7, 135, 0, 3, 1, 100, 19, 8, 0, 59, 1, 1, 3, 0, 0, 1, 2, 201, 1, 41, 1, 0, 0, 1, 0, 14, 3, 0, 10, 3, 0, 1, 14, 2, 0, 3, 18, 1, 0, 0, 0, 4, 0, 1, 6, 1, 0, 12, 25, 16, 38, 0, 0, 1, 0, 1, 64, 7, 2, 9, 2, 7, 0, 26, 16, 1, 8, 3, 0, 0, 0, 1, 1, 2, 4, 0, 0, 13, 0, 0, 5, 29, 0, 1, 6, 8, 0, 21, 6, 5, 0, 1, 1, 0, 1, 1, 5, 0, 29, 0, 341, 0, 1, 0, 8, 0, 0, 1, 5, 4, 3, 0, 49, 11, 3, 1, 3, 41, 0, 2, 5, 0, 0, 23, 4, 18, 0, 2, 0, 0, 0, 0, 11, 0, 3, 2, 8, 0, 5, 0, 3, 2, 0, 4, 0, 1, 6, 2, 0, 137, 0, 1, 0, 3, 41, 1, 5, 195, 11, 2, 0, 2, 1, 2, 30, 5, 3, 98, 0, 1, 0, 42, 2, 3, 197, 321, 0, 4, 13, 0, 0, 8, 0, 347, 144, 3, 8, 1, 0, 13, 55, 0, 0, 31, 6, 9, 16, 1, 30, 0, 14, 1, 0, 4, 1, 11, 1, 0, 0, 47, 330, 1, 94, 1, 0, 2, 657, 4, 0, 3, 1, 0, 15, 1, 8, 15, 202, 10, 29, 2, 6, 2, 1, 0, 0, 41, 3, 13, 4, 1, 0, 16, 64, 13, 4, 4, 4, 0, 0, 0, 1, 1, 4, 1, 10, 0, 2, 2, 2, 1, 5, 0, 1, 18, 9, 0, 7, 1, 0, 0, 334, 14, 0, 3, 2, 0, 1, 2, 52, 69, 9, 3, 2, 66, 1, 134, 1, 39, 1, 0, 2, 5, 43, 3, 0, 3, 0, 1, 57, 13, 0, 0, 86, 679, 15, 1, 24, 0, 3, 39, 0, 1, 0, 1, 1, 5, 13, 1, 1, 11, 86, 24, 1, 4, 9, 2, 0, 9, 0, 9, 319, 4, 19, 7, 0, 0, 30, 2, 3, 0, 60, 0, 2, 10, 2, 0, 0, 1, 695, 1, 0, 1, 0, 200, 9, 5, 56, 17, 11, 7, 9, 19, 0, 4, 11, 2, 330, 3, 55, 4, 1, 0, 1, 1, 0, 87, 131, 0, 38, 1, 11, 0, 0, 7, 1, 2, 0, 0, 15, 3, 0, 2, 25, 0, 1, 0, 13, 0, 0, 0, 2, 0, 10, 0, 10, 0, 0, 77, 678, 7, 6, 5, 0, 21, 13, 0, 6, 0, 8, 0, 0, 1, 0, 0, 57, 54, 1, 15, 1, 5, 6, 2, 0, 1]\n"
     ]
    }
   ],
   "source": [
    "inforl_cs= open(\"Final_degree_cs_BA.txt\").read().split()\n",
    "importedrl_cs=[i for i in inforl_cs]\n",
    "RL_ba={}\n",
    "j=1\n",
    "for N in [100,200,500,1000,1500,2000]:\n",
    "    RL_ba[str(N)]=importedrl_cs[j:j+500]\n",
    "    j=j+501\n",
    "\n",
    "ll=0\n",
    "for N in [100,200,500,1000,1500,2000]:\n",
    "    for k in range(len(RL_ba[str(N)])):\n",
    "        RL_ba[str(N)][k]=RL_ba[str(N)][k][:-1]\n",
    "        for l in RL_ba[str(N)][k]:\n",
    "            if l=='[':\n",
    "                RL_ba[str(N)][k]=RL_ba[str(N)][k][1:]\n",
    "            if l==']':\n",
    "                RL_ba[str(N)][k]=RL_ba[str(N)][k]\n",
    "for N in [100,200,500,1000,1500,2000]:\n",
    "    for k in range(len(RL_ba[str(N)])):\n",
    "        RL_ba[str(N)][k]=int(RL_ba[str(N)][k])\n",
    "print RL_ba['2000']"
   ]
  },
  {
   "cell_type": "code",
   "execution_count": 18,
   "metadata": {},
   "outputs": [
    {
     "name": "stdout",
     "output_type": "stream",
     "text": [
      "[18, 5, 0, 2, 34, 0, 0, 1, 15, 2, 3, 1, 1, 7, 10, 15, 4, 2, 67, 33, 9, 7, 15, 14, 29, 30, 0, 0, 254, 6, 28, 0, 0, 8, 0, 28, 10, 6, 18, 0, 31, 12, 0, 1, 5, 0, 6, 3, 16, 26, 70, 2, 0, 246, 0, 3, 3, 119, 17, 13, 51, 0, 514, 0, 28, 6, 1, 3, 15, 4, 0, 59, 7, 11, 247, 0, 2, 0, 17, 0, 0, 0, 1, 57, 8, 0, 6, 0, 63, 2, 5, 4, 10, 5, 0, 1, 68, 53, 9, 31, 1, 28, 0, 253, 33, 71, 9, 128, 6, 7, 1, 18, 0, 28, 2, 14, 3, 2, 3, 9, 0, 5, 10, 0, 1, 0, 4, 7, 18, 0, 0, 9, 0, 7, 36, 3, 4, 2, 62, 38, 7, 124, 16, 15, 2, 15, 242, 19, 18, 8, 0, 7, 13, 1, 16, 3, 2, 6, 28, 3, 3, 2, 7, 1, 68, 1, 64, 1, 31, 0, 5, 104, 2, 0, 0, 7, 1, 34, 5, 5, 12, 1, 74, 64, 10, 6, 12, 0, 68, 32, 2, 62, 2, 0, 3, 28, 4, 66, 11, 10, 34, 0, 14, 132, 120, 58, 8, 33, 12, 0, 31, 9, 65, 16, 126, 59, 2, 16, 65, 58, 59, 122, 3, 0, 8, 17, 0, 35, 5, 65, 3, 5, 12, 32, 56, 8, 36, 32, 7, 141, 16, 14, 15, 76, 23, 4, 0, 1, 28, 4, 0, 18, 1, 3, 128, 0, 1, 9, 4, 3, 18, 0, 8, 13, 0, 14, 8, 10, 0, 0, 1, 30, 0, 118, 3, 60, 121, 129, 8, 17, 1, 16, 4, 11, 6, 3, 3, 76, 1, 6, 29, 124, 3, 127, 16, 7, 36, 8, 0, 16, 1, 34, 62, 8, 64, 0, 15, 71, 11, 10, 59, 3, 8, 1, 70, 6, 69, 25, 29, 0, 3, 30, 3, 13, 1, 53, 5, 36, 74, 3, 1, 5, 60, 26, 2, 31, 10, 34, 240, 7, 1, 12, 0, 22, 64, 4, 1, 28, 7, 18, 5, 2, 4, 6, 12, 3, 9, 59, 11, 3, 58, 3, 254, 2, 61, 68, 13, 8, 8, 0, 24, 29, 5, 66, 34, 1, 0, 0, 0, 24, 4, 22, 6, 34, 4, 0, 2, 6, 245, 15, 67, 5, 14, 16, 119, 32, 66, 6, 0, 2, 3, 0, 28, 27, 128, 2, 0, 0, 0, 1, 1, 17, 126, 15, 7, 10, 16, 7, 3, 36, 31, 3, 27, 1, 4, 8, 13, 66, 15, 16, 30, 14, 4, 8, 35, 3, 9, 247, 0, 7, 40, 6, 12, 11, 16, 129, 15, 5, 4, 0, 8, 8, 8, 1, 0, 60, 3, 61, 5, 1, 68, 30, 1, 66, 7, 4, 30, 0, 1, 7, 27, 6, 2, 0, 1, 56, 0, 1, 2, 13, 10, 3, 0, 57, 13, 4, 3, 59, 4, 22, 21, 0, 2, 29, 132, 15, 0, 19, 35, 0]\n"
     ]
    }
   ],
   "source": [
    "inforl_cs= open(\"Final_degree_cs_UA.txt\").read().split()\n",
    "importedrl_cs=[i for i in inforl_cs]\n",
    "RL_ua={}\n",
    "j=1\n",
    "for N in [100,200,500,1000,1500,2000]:\n",
    "    RL_ua[str(N)]=importedrl_cs[j:j+500]\n",
    "    j=j+501\n",
    "\n",
    "ll=0\n",
    "for N in [100,200,500,1000,1500,2000]:\n",
    "    for k in range(len(RL_ua[str(N)])):\n",
    "        RL_ua[str(N)][k]=RL_ua[str(N)][k][:-1]\n",
    "        for l in RL_ua[str(N)][k]:\n",
    "            if l=='[':\n",
    "                RL_ua[str(N)][k]=RL_ua[str(N)][k][1:]\n",
    "            if l==']':\n",
    "                RL_ua[str(N)][k]=RL_ua[str(N)][k]\n",
    "for N in [100,200,500,1000,1500,2000]:\n",
    "    for k in range(len(RL_ua[str(N)])):\n",
    "        RL_ua[str(N)][k]=int(RL_ua[str(N)][k])\n",
    "print RL_ua['2000']"
   ]
  },
  {
   "cell_type": "code",
   "execution_count": 19,
   "metadata": {},
   "outputs": [
    {
     "name": "stdout",
     "output_type": "stream",
     "text": [
      "[651, 94, 135, 293, 594, 619, 543, 378, 514, 447, 435, 581, 524, 228, 153, 343, 580, 45, 602, 246, 585, 148, 85, 624, 217, 627, 229, 281, 415, 56, 511, 291, 153, 609, 255, 493, 89, 315, 671, 458, 58, 4, 56, 191, 494, 223, 567, 339, 160, 614, 92, 52, 566, 498, 314, 349, 659, 33, 535, 31, 106, 569, 303, 175, 66, 51, 129, 547, 454, 149, 52, 35, 657, 332, 160, 379, 155, 192, 611, 642, 130, 250, 367, 572, 355, 646, 605, 227, 124, 311, 15, 228, 355, 574, 596, 563, 237, 654, 611, 182, 92, 390, 293, 52, 89, 483, 445, 218, 77, 73, 227, 481, 286, 88, 388, 260, 542, 486, 504, 552, 251, 215, 236, 133, 427, 20, 572, 419, 348, 499, 56, 535, 53, 399, 210, 1, 582, 388, 421, 267, 452, 378, 75, 976, 519, 81, 443, 338, 182, 90, 435, 73, 409, 382, 266, 560, 569, 310, 305, 523, 47, 589, 96, 300, 177, 502, 582, 123, 6, 351, 430, 497, 358, 206, 401, 364, 536, 132, 580, 430, 260, 6, 221, 506, 156, 596, 605, 256, 137, 244, 422, 508, 97, 644, 400, 621, 186, 113, 392, 82, 256, 669, 337, 71, 409, 615, 1133, 1, 291, 62, 48, 433, 82, 85, 338, 334, 361, 400, 269, 511, 162, 40, 371, 25, 517, 635, 230, 170, 25, 269, 562, 381, 392, 113, 535, 436, 547, 102, 476, 63, 348, 339, 290, 544, 261, 206, 440, 257, 256, 254, 339, 274, 47, 377, 522, 151, 62, 26, 514, 152, 313, 274, 156, 242, 579, 443, 175, 69, 267, 579, 488, 354, 664, 131, 472, 114, 594, 526, 17, 385, 481, 229, 554, 527, 190, 285, 256, 633, 260, 231, 162, 99, 145, 313, 167, 387, 398, 500, 474, 338, 487, 104, 367, 172, 84, 490, 131, 28, 83, 64, 466, 347, 347, 538, 554, 334, 640, 339, 573, 238, 596, 643, 443, 90, 637, 199, 203, 524, 431, 15, 457, 451, 213, 213, 234, 345, 286, 39, 270, 12, 9, 608, 500, 372, 467, 603, 479, 644, 74, 258, 464, 344, 524, 387, 68, 547, 50, 177, 284, 294, 466, 587, 551, 425, 542, 367, 84, 456, 269, 390, 226, 315, 317, 284, 381, 574, 332, 104, 441, 337, 256, 111, 670, 383, 51, 110, 293, 80, 434, 418, 174, 626, 98, 552, 205, 549, 635, 61, 293, 458, 676, 236, 113, 38, 668, 173, 420, 399, 299, 316, 227, 636, 218, 490, 3, 152, 313, 180, 559, 555, 279, 408, 79, 554, 593, 543, 172, 368, 6, 75, 328, 587, 159, 294, 471, 294, 547, 212, 82, 326, 192, 658, 246, 184, 182, 490, 160, 614, 572, 310, 528, 480, 295, 627, 6, 49, 315, 554, 7, 340, 622, 337, 242, 603, 75, 8, 247, 405, 249, 474, 465, 176, 581, 519, 665, 372, 525, 452, 503, 180, 395, 200, 34, 70, 414, 223, 221, 446, 618, 633, 664, 513, 40, 452, 441, 409, 44, 548, 75, 118]\n"
     ]
    }
   ],
   "source": [
    "inforl_cs= open(\"Final_degree_cs_P3R.txt\").read().split()\n",
    "importedrl_cs=[i for i in inforl_cs]\n",
    "RL_p3r={}\n",
    "j=1\n",
    "for N in [100,200,500,1000,1500,2000]:\n",
    "    RL_p3r[str(N)]=importedrl_cs[j:j+500]\n",
    "    j=j+501\n",
    "\n",
    "ll=0\n",
    "for N in [100,200,500,1000,1500,2000]:\n",
    "    for k in range(len(RL_p3r[str(N)])):\n",
    "        RL_p3r[str(N)][k]=RL_p3r[str(N)][k][:-1]\n",
    "        for l in RL_p3r[str(N)][k]:\n",
    "            if l=='[':\n",
    "                RL_p3r[str(N)][k]=RL_p3r[str(N)][k][1:]\n",
    "            if l==']':\n",
    "                RL_p3r[str(N)][k]=RL_p3r[str(N)][k]\n",
    "for N in [100,200,500,1000,1500,2000]:\n",
    "    for k in range(len(RL_ba[str(N)])):\n",
    "        RL_p3r[str(N)][k]=int(RL_p3r[str(N)][k])\n",
    "print RL_p3r['2000']"
   ]
  },
  {
   "cell_type": "code",
   "execution_count": null,
   "metadata": {
    "collapsed": true
   },
   "outputs": [],
   "source": []
  }
 ],
 "metadata": {
  "kernelspec": {
   "display_name": "Python 2",
   "language": "python",
   "name": "python2"
  },
  "language_info": {
   "codemirror_mode": {
    "name": "ipython",
    "version": 2
   },
   "file_extension": ".py",
   "mimetype": "text/x-python",
   "name": "python",
   "nbconvert_exporter": "python",
   "pygments_lexer": "ipython2",
   "version": "2.7.13"
  }
 },
 "nbformat": 4,
 "nbformat_minor": 2
}
