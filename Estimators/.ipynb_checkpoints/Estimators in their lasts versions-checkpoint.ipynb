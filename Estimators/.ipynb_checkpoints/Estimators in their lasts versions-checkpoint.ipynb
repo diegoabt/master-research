{
 "cells": [
  {
   "cell_type": "code",
   "execution_count": 2,
   "metadata": {},
   "outputs": [
    {
     "data": {
      "image/png": "[encoded data removed]",
      "text/plain": [
       "<matplotlib.figure.Figure at 0xac0b1e0c>"
      ]
     },
     "metadata": {},
     "output_type": "display_data"
    }
   ],
   "source": [
    "from operator import itemgetter\n",
    "\n",
    "import matplotlib.pyplot as plt\n",
    "import numpy as np\n",
    "import networkx as nx\n",
    "import random\n",
    "import operator\n",
    "import math\n",
    "import time\n",
    "from random import shuffle\n",
    "%run '/home/diego/Dropbox/Tesis/Modelos/Pseudo-D-Regular Trees.ipynb'"
   ]
  },
  {
   "cell_type": "markdown",
   "metadata": {},
   "source": [
    "This file contains all the estimators and nothing more. "
   ]
  },
  {
   "cell_type": "markdown",
   "metadata": {},
   "source": [
    "## Leaves Removal"
   ]
  },
  {
   "cell_type": "code",
   "execution_count": 4,
   "metadata": {
    "collapsed": true
   },
   "outputs": [],
   "source": [
    "def rem2(G):\n",
    "    \n",
    "    n=G.number_of_nodes()\n",
    "    graph_nodes=list(G.nodes())\n",
    "    graph_dict={}\n",
    "    graph={}\n",
    "    for i in graph_nodes:\n",
    "        graph_dict[str(i)]={}\n",
    "        graph[str(i)]=G.degree(i)\n",
    "        graph_dict[str(i)]=list(G.neighbors(i))\n",
    "    while n>1:\n",
    "        leaves=[int(i) for i in graph if graph[i]==1]\n",
    "        #print 'leaves',leaves\n",
    "        index=random.choice(range(len(leaves)))\n",
    "        #print 'index',index,'node',leaves[index]\n",
    "        graph[str(leaves[index])]=0\n",
    "        #print 'neig',graph_dict[str(leaves[index])]\n",
    "        for j in graph_dict[str(leaves[index])]:\n",
    "            graph[str(j)]=graph[str(j)]-1\n",
    "        #print 'graph',graph\n",
    "        #print 'leaves=',leaves\n",
    "        n=n-1\n",
    "    leaves.remove(leaves[index])\n",
    "    #print 'last leaves',leaves\n",
    "    #print len(leaves)\n",
    "    #finalvertx=random.choice(leaves)\n",
    "    #print finalvertx\n",
    "    return leaves[0]"
   ]
  },
  {
   "cell_type": "markdown",
   "metadata": {},
   "source": [
    "test=areg(50)\n",
    "#pos = hierarchy_pos(test,0) \n",
    "#nx.draw(test,pos,with_labels=True)\n",
    "\n",
    "#plt.show()"
   ]
  },
  {
   "cell_type": "markdown",
   "metadata": {
    "collapsed": true
   },
   "source": [
    "v=rem2(test) #Checked!\n",
    "print v"
   ]
  },
  {
   "cell_type": "markdown",
   "metadata": {},
   "source": [
    "## PageRank"
   ]
  },
  {
   "cell_type": "code",
   "execution_count": 5,
   "metadata": {
    "collapsed": true
   },
   "outputs": [],
   "source": [
    "\n",
    "#\n",
    "#print center\n",
    "#print pr\n",
    "#for size in [10,20,30,50,100,200,300,400,500,1000,10000,100000]:\n",
    "#list_maximum=[]\n",
    "#####test=areg(size) #this is the code for the pagerank estimator\n",
    "#####pr=nx.pagerank(test) #...............\n",
    "#####center=max(pr.iteritems(), key=operator.itemgetter(1))[1] #........... assumed source\n",
    "#for i in range(size):\n",
    "        #if pr[i]==center:\n",
    "         #   list_maximum.append([i,pr[i]])\n",
    "          #  print list_maximum\n",
    "           # if len(list_maximum)==1:\n",
    "            #    print 'true!',size"
   ]
  },
  {
   "cell_type": "markdown",
   "metadata": {},
   "source": [
    "# [More tests!]\n",
    "p3r=areg(30)\n",
    "pr_list=nx.pagerank(p3r)\n",
    "print pr_list\n",
    "pr=max(pr_list.iteritems(), key=operator.itemgetter(1))[0]\n",
    "print pr"
   ]
  },
  {
   "cell_type": "markdown",
   "metadata": {},
   "source": [
    "## Degree"
   ]
  },
  {
   "cell_type": "markdown",
   "metadata": {
    "collapsed": true
   },
   "source": [
    "dc=nx.degree_centrality(p3r)\n",
    "#print dc\n",
    "list_maximum=[]\n",
    "center=max(dc.iteritems(), key=operator.itemgetter(1))[1]\n",
    "#print 'center',center\n",
    "for i in range(30):\n",
    "        if dc[i]==center:\n",
    "            list_maximum.append([i,dc[i]])\n",
    "#print list_maximum\n",
    "pair=random.choice(list_maximum)\n",
    "#print pair[0]"
   ]
  },
  {
   "cell_type": "markdown",
   "metadata": {},
   "source": [
    "## Shah-Zaman"
   ]
  },
  {
   "cell_type": "code",
   "execution_count": 6,
   "metadata": {
    "collapsed": true
   },
   "outputs": [],
   "source": [
    "def children(Gbfs,v):\n",
    "    #Gbfs has to be a bfs tree\n",
    "    #start_time=time.time() #TIME\n",
    "    child=[]\n",
    "    for i in Gbfs.edges(v):\n",
    "        child.append(i[1])\n",
    "    #final_time= -start_time +time.time()\n",
    "    #print final_time\n",
    "    return child"
   ]
  },
  {
   "cell_type": "code",
   "execution_count": 7,
   "metadata": {
    "collapsed": true
   },
   "outputs": [],
   "source": [
    "def parent(Gbfs,v):\n",
    "    #Gbfs has to be a bfs tree\n",
    "    #start_time=time.time() #TIME\n",
    "    parent='none'\n",
    "    edges=list(Gbfs.edges())\n",
    "    for i,j in edges:\n",
    "        if j==v:\n",
    "            parent=i\n",
    "            return parent\n",
    "    if parent=='none':\n",
    "        print 'v is the root'\n",
    "        \n",
    "    #final_time1= -start_time +time.time()\n",
    "    #print final_time1"
   ]
  },
  {
   "cell_type": "code",
   "execution_count": 8,
   "metadata": {
    "collapsed": true
   },
   "outputs": [],
   "source": [
    "def t_up(Gbfs,v):\n",
    "    #start_time=time.time() #TIME\n",
    "    leaves=[]\n",
    "    T=1\n",
    "    nodes=Gbfs.nodes()\n",
    "    for i in nodes:\n",
    "        if children(Gbfs,i)==[]:\n",
    "            leaves.append(i)\n",
    "    \n",
    "    if v in leaves:\n",
    "        T=1\n",
    "    else:\n",
    "        child=children(Gbfs,v)\n",
    "        for j in child:\n",
    "            T=t_up(Gbfs,j)+T\n",
    "    #final_time= -start_time +time.time()\n",
    "    #print final_time\n",
    "    return T"
   ]
  },
  {
   "cell_type": "code",
   "execution_count": 9,
   "metadata": {
    "collapsed": true
   },
   "outputs": [],
   "source": [
    "def p_up(Gbfs,v):\n",
    "    #start_time=time.time() #TIME\n",
    "    leaves=[]\n",
    "    T=1\n",
    "    nodes=Gbfs.nodes()\n",
    "    for i in nodes:\n",
    "        if children(Gbfs,i)==[]:\n",
    "            leaves.append(i)\n",
    "    if v in leaves:\n",
    "        T=1\n",
    "    else:\n",
    "        child=children(Gbfs,v)\n",
    "        for j in child:\n",
    "            T=T*p_up(Gbfs,j)\n",
    "        T=T*t_up(Gbfs,v)\n",
    "    #final_time= -start_time +time.time()\n",
    "    #print final_time\n",
    "    return T"
   ]
  },
  {
   "cell_type": "code",
   "execution_count": 10,
   "metadata": {
    "collapsed": true
   },
   "outputs": [],
   "source": [
    "def r_down(Gbfs,v,root):\n",
    "    #rumor centrality of v\n",
    "    start_time=time.time() #TIME\n",
    "    leaves=[]\n",
    "    N=Gbfs.number_of_nodes()\n",
    "    \n",
    "    if v==root:\n",
    "        T=float(1)\n",
    "        child=children(Gbfs,v)\n",
    "        for i in child:\n",
    "            T=T/p_up(Gbfs,i)\n",
    "        T=T*math.factorial(N-1)\n",
    "        \n",
    "    else:\n",
    "        T=r_down(Gbfs,parent(Gbfs,v),root)*t_up(Gbfs,v)/(N-t_up(Gbfs,v))\n",
    "    return T"
   ]
  },
  {
   "cell_type": "code",
   "execution_count": 11,
   "metadata": {
    "collapsed": true
   },
   "outputs": [],
   "source": [
    "def sz(G):\n",
    "    nodes=list(G.nodes())\n",
    "    root=random.choice(nodes)\n",
    "    #print 'root',root\n",
    "    Gbfs=nx.bfs_tree(G,root)\n",
    "    rumor_centralities=[]\n",
    "    for i in nodes:\n",
    "        rumor_centralities.append((i,r_down(Gbfs,i,root)))\n",
    "    rumor_centralities=sorted(rumor_centralities,key=itemgetter(1))\n",
    "    return rumor_centralities# es el ultimo elemento de la lista (L[len(L)-1]), la primera entrada.  "
   ]
  },
  {
   "cell_type": "markdown",
   "metadata": {
    "collapsed": true
   },
   "source": [
    "L=sz(test)"
   ]
  },
  {
   "cell_type": "markdown",
   "metadata": {},
   "source": [
    "L"
   ]
  },
  {
   "cell_type": "markdown",
   "metadata": {},
   "source": [
    "test=areg(50)\n",
    "pos = hierarchy_pos(test,0) \n",
    "nx.draw(test,pos,with_labels=True)\n",
    "\n",
    "plt.show()"
   ]
  },
  {
   "cell_type": "markdown",
   "metadata": {},
   "source": [
    "v,_=sz(test)\n",
    "v"
   ]
  },
  {
   "cell_type": "raw",
   "metadata": {},
   "source": []
  },
  {
   "cell_type": "markdown",
   "metadata": {
    "collapsed": true
   },
   "source": [
    "## Simple Estimator"
   ]
  },
  {
   "cell_type": "code",
   "execution_count": 150,
   "metadata": {
    "collapsed": true
   },
   "outputs": [],
   "source": [
    "def subsize(G,u):\n",
    "    subtrees_size=[]\n",
    "    if u in G.nodes():\n",
    "        Gbfs=nx.bfs_tree(G,u)\n",
    "        for i in G.nodes():\n",
    "            if u!=i:\n",
    "                subtrees_size.append(t_up(Gbfs,i))\n",
    "        return max(subtrees_size)"
   ]
  },
  {
   "cell_type": "code",
   "execution_count": 158,
   "metadata": {
    "collapsed": true
   },
   "outputs": [],
   "source": [
    "def simple(G):\n",
    "    all_sub=[]\n",
    "    for v in G.nodes():\n",
    "        all_sub.append([v,subsize(G,v)])\n",
    "    all_sub=sorted(all_sub,key=itemgetter(1))\n",
    "    return all_sub\n",
    "#minimum value\n",
    "#simple_center=simple_rfa[0][0]"
   ]
  },
  {
   "cell_type": "markdown",
   "metadata": {},
   "source": [
    "simple_rfa=simple(test)\n",
    "print simple_rfa\n",
    "simple_center=simple_rfa[0][0]\n",
    "print simple_center"
   ]
  },
  {
   "cell_type": "markdown",
   "metadata": {},
   "source": [
    "## Distance Centrality"
   ]
  },
  {
   "cell_type": "markdown",
   "metadata": {
    "collapsed": true
   },
   "source": [
    "cc=nx.closeness_centrality(test)\n",
    "#print cc\n",
    "#center=max(cc.iteritems(), key=operator.itemgetter(1))[0]\n",
    "#print center\n",
    "#sred = sorted(cc.items(), reverse=True, key=lambda value: value[1])\n",
    "3print sred\n",
    "print mixer_dg(cc)"
   ]
  },
  {
   "cell_type": "code",
   "execution_count": null,
   "metadata": {
    "collapsed": true
   },
   "outputs": [],
   "source": []
  },
  {
   "cell_type": "markdown",
   "metadata": {
    "collapsed": true
   },
   "source": [
    "## Confidence Sets"
   ]
  },
  {
   "cell_type": "code",
   "execution_count": 13,
   "metadata": {
    "collapsed": true
   },
   "outputs": [],
   "source": [
    "def rem_cs2(G):\n",
    "    \n",
    "    n=G.number_of_nodes()\n",
    "    graph_nodes=list(G.nodes())\n",
    "    graph_dict={}\n",
    "    graph={}\n",
    "    for i in graph_nodes:\n",
    "        graph_dict[str(i)]={}\n",
    "        graph[str(i)]=G.degree(i)\n",
    "        graph_dict[str(i)]=list(G.neighbors(i))\n",
    "    while n>1:\n",
    "        leaves=[int(i) for i in graph if graph[i]==1]\n",
    "        #print 'leaves',leaves\n",
    "        index=random.choice(range(len(leaves)))\n",
    "        #print 'index',index,'node',leaves[index]\n",
    "        if leaves[index]==0:\n",
    "            #print 'Adam!',n,'vertices remaining including Adam'\n",
    "            break\n",
    "        else:\n",
    "            graph[str(leaves[index])]=0\n",
    "        #print 'neig',graph_dict[str(leaves[index])]\n",
    "        for j in graph_dict[str(leaves[index])]:\n",
    "            graph[str(j)]=graph[str(j)]-1\n",
    "        #print graph\n",
    "        n=n-1\n",
    "    #print 'n='\n",
    "    #if n==1:\n",
    "        #print 'Adam is the last vrtx choosen'\n",
    "        \n",
    "    return n"
   ]
  },
  {
   "cell_type": "code",
   "execution_count": 14,
   "metadata": {
    "collapsed": true
   },
   "outputs": [],
   "source": [
    "def confset_pr(l):\n",
    "    sred = sorted(l.items(), reverse=True, key=lambda value: value[1])\n",
    "    #sorted pr values. first element has the maximum pr value\n",
    "    index=0\n",
    "    for i in range(0,len(sred)):\n",
    "        if sred[i][0]==0:\n",
    "            return index\n",
    "            break\n",
    "        index=index+1"
   ]
  },
  {
   "cell_type": "code",
   "execution_count": 83,
   "metadata": {
    "collapsed": true
   },
   "outputs": [],
   "source": [
    "def confset_dc(l): #degree\n",
    "    # l is an decreasing sorted list (this comes from mixer_dg)\n",
    "    #sred = sorted(l.items(), reverse=True, key=lambda value: value[1])\n",
    "    #print sred\n",
    "    index=1\n",
    "    for i in range(0,len(l)):\n",
    "        #print sred[i]\n",
    "        if l[i]==0:\n",
    "            return index\n",
    "            break\n",
    "        index=index+1"
   ]
  },
  {
   "cell_type": "markdown",
   "metadata": {},
   "source": [
    "dg_new[:35]"
   ]
  },
  {
   "cell_type": "markdown",
   "metadata": {},
   "source": [
    "dg_new\n",
    "for i in range(100):\n",
    "    if dg_new[i][1]==dg_new[0][1]:\n",
    "        print dg_new[i][0]"
   ]
  },
  {
   "cell_type": "code",
   "execution_count": 109,
   "metadata": {
    "collapsed": true
   },
   "outputs": [],
   "source": [
    "#ba=nx.barabasi_albert_graph(100,1)\n",
    "#dg=nx.degree_centrality(ba)\n",
    "#print dg\n",
    "def mixer_dg(dg):\n",
    "    dg_new = sorted(dg.items(), reverse=True, key=lambda value: value[1])\n",
    "    \n",
    "    aux_list=[]\n",
    "    val=0\n",
    "    for i in range(len(dg)):\n",
    "        temp_list=[]\n",
    "        if dg_new[i][1]!=val:\n",
    "            #print 'first diff',i\n",
    "            val=dg_new[i][1]\n",
    "            #print val\n",
    "            for j in range(i,len(dg)):\n",
    "                if dg_new[j][1]==val:\n",
    "                    #print dg_new[j][0]\n",
    "                    temp_list.append(dg_new[j][0])\n",
    "                    shuffle(temp_list)\n",
    "            aux_list=aux_list+temp_list\n",
    "    return aux_list\n",
    "#l=mixer_dg(dg)\n",
    "#cs_size=confset_dc(l)    \n",
    "#print cs_size"
   ]
  },
  {
   "cell_type": "markdown",
   "metadata": {},
   "source": [
    "l=mixer_dg(dg)"
   ]
  },
  {
   "cell_type": "markdown",
   "metadata": {},
   "source": [
    "cs_size"
   ]
  },
  {
   "cell_type": "markdown",
   "metadata": {},
   "source": [
    "print l"
   ]
  },
  {
   "cell_type": "markdown",
   "metadata": {},
   "source": [
    "for i in range(100):\n",
    "    print dg_new[i],aux_list[i]"
   ]
  },
  {
   "cell_type": "code",
   "execution_count": null,
   "metadata": {
    "collapsed": true
   },
   "outputs": [],
   "source": []
  },
  {
   "cell_type": "markdown",
   "metadata": {},
   "source": [
    "ba=nx.barabasi_albert_graph(100,1)\n",
    "dc=nx.degree_centrality(ba)"
   ]
  },
  {
   "cell_type": "markdown",
   "metadata": {},
   "source": [
    "confset_dc(dc)"
   ]
  },
  {
   "cell_type": "code",
   "execution_count": 48,
   "metadata": {
    "collapsed": true
   },
   "outputs": [],
   "source": [
    "def confset_sa(l):\n",
    "    index=1\n",
    "    for i in range(0,len(l)):\n",
    "        if l[i][0]==0:\n",
    "            return index\n",
    "            break\n",
    "        index=index+1"
   ]
  },
  {
   "cell_type": "code",
   "execution_count": 101,
   "metadata": {
    "collapsed": true
   },
   "outputs": [],
   "source": [
    "def confset_zs(l): #Test this version and the zs list output\n",
    "    index=1\n",
    "    for i in range(0,len(l)):\n",
    "        if l[len(l)-i-1][0]==0:\n",
    "            return index\n",
    "            break\n",
    "        index=index+1"
   ]
  },
  {
   "cell_type": "markdown",
   "metadata": {
    "collapsed": true
   },
   "source": [
    "L=sz(test)\n",
    "print L\n"
   ]
  },
  {
   "cell_type": "markdown",
   "metadata": {},
   "source": [
    "confset_zs(L)"
   ]
  },
  {
   "cell_type": "code",
   "execution_count": null,
   "metadata": {
    "collapsed": true
   },
   "outputs": [],
   "source": []
  }
 ],
 "metadata": {
  "kernelspec": {
   "display_name": "Python 2",
   "language": "python",
   "name": "python2"
  },
  "language_info": {
   "codemirror_mode": {
    "name": "ipython",
    "version": 2
   },
   "file_extension": ".py",
   "mimetype": "text/x-python",
   "name": "python",
   "nbconvert_exporter": "python",
   "pygments_lexer": "ipython2",
   "version": "2.7.13"
  }
 },
 "nbformat": 4,
 "nbformat_minor": 2
}
