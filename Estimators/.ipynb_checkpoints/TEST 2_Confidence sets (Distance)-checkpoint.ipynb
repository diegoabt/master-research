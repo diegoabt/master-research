{
 "cells": [
  {
   "cell_type": "code",
   "execution_count": 1,
   "metadata": {
    "collapsed": true
   },
   "outputs": [],
   "source": [
    "#%run 'Removing-leaves estimator .ipynb'\n",
    "%run 'Estimators in their lasts versions.ipynb'\n",
    "%run '/home/diego/Dropbox/Tesis/Modelos/UA model.ipynb'\n",
    "%run '/home/diego/Dropbox/Tesis/Modelos/Shah Tree.ipynb'\n"
   ]
  },
  {
   "cell_type": "code",
   "execution_count": 45,
   "metadata": {},
   "outputs": [
    {
     "name": "stdout",
     "output_type": "stream",
     "text": [
      "2.2.2\n"
     ]
    },
    {
     "data": {
      "text/html": [
       "<script>requirejs.config({paths: { 'plotly': ['https://cdn.plot.ly/plotly-latest.min']},});if(!window.Plotly) {{require(['plotly'],function(plotly) {window.Plotly=plotly;});}}</script>"
      ],
      "text/vnd.plotly.v1+html": [
       "<script>requirejs.config({paths: { 'plotly': ['https://cdn.plot.ly/plotly-latest.min']},});if(!window.Plotly) {{require(['plotly'],function(plotly) {window.Plotly=plotly;});}}</script>"
      ]
     },
     "metadata": {},
     "output_type": "display_data"
    }
   ],
   "source": [
    "import time\n",
    "import networkx as nx\n",
    "import powerlaw\n",
    "import plotly.plotly as py\n",
    "import plotly.graph_objs as go\n",
    "import numpy as np\n",
    "from plotly import tools\n",
    "from plotly import __version__\n",
    "from plotly.offline import download_plotlyjs, init_notebook_mode, plot,iplot\n",
    "import plotly.figure_factory as ff\n",
    "print (__version__) # requires version >= 1.9.0\n",
    "\n",
    "#Always run this the command before at the start of notebook\n",
    "init_notebook_mode(connected=True)\n",
    "import plotly.graph_objs as go"
   ]
  },
  {
   "cell_type": "code",
   "execution_count": 3,
   "metadata": {
    "collapsed": true
   },
   "outputs": [],
   "source": [
    "resultsDS_ba_cs={} #This dict contains all the vrtices found by the rl estimator for different graph sizes\n",
    "results_ds_time_ba_cs={}\n",
    "size_ds_ba={}"
   ]
  },
  {
   "cell_type": "code",
   "execution_count": 4,
   "metadata": {},
   "outputs": [
    {
     "name": "stdout",
     "output_type": "stream",
     "text": [
      "i!= 5\n",
      "50\n",
      "i!= 6\n",
      "75\n",
      "i!= 6\n",
      "100\n"
     ]
    }
   ],
   "source": [
    "prob=.8\n",
    "for N in [50,75,100]:\n",
    "    results_dg=[]\n",
    "    start_time=time.time()\n",
    "    for i in range(0,50):\n",
    "        ba=nx.barabasi_albert_graph(N,1)\n",
    "        dg=nx.closeness_centrality(ba) #!\n",
    "        dg_new=mixer_dg(dg)\n",
    "        \n",
    "        cs_size=confset_dc(dg_new)#CHANGE THIS FOR EACH EST!\n",
    "        results_dg.append([N,cs_size]) #AND THIS!\n",
    "    #print results_dg    \n",
    "    final_time= -start_time +time.time()\n",
    "    results_ds_time_ba_cs[str(N)]=final_time #AND THIS\n",
    "    #### Saving the sizes of the confidence sets for each graph size \n",
    "    resultsDS_ba_cs[str(N)]=[i[1] for i in results_dg] #AND THIS\n",
    "    #### Numpy for the histograms\n",
    "    bins = np.arange(0,N)\n",
    "    values, base = np.histogram(resultsDS_ba_cs[str(N)], bins=bins, density=1) #AND THIS\n",
    "    #Looking for the right amount of vertices\n",
    "    for i in range(1,N):\n",
    "        S=np.sum(values[:i])\n",
    "    \n",
    "        if S>prob:\n",
    "            print 'i!=',i\n",
    "            size_ds_ba[str(N)]=i\n",
    "            break\n",
    "    \n",
    "    print N\n"
   ]
  },
  {
   "cell_type": "code",
   "execution_count": 69,
   "metadata": {},
   "outputs": [
    {
     "name": "stdout",
     "output_type": "stream",
     "text": [
      "i!= 5\n",
      "i!= 6\n",
      "i!= 6\n",
      "i!= 6\n",
      "i!= 6\n",
      "i!= 14\n",
      "i!= 6\n",
      "i!= 7\n",
      "i!= 19\n",
      "i!= 10\n",
      "i!= 12\n",
      "i!= 28\n",
      "i!= 11\n",
      "i!= 21\n",
      "i!= 39\n",
      "i!= 21\n",
      "i!= 26\n",
      "i!= 57\n"
     ]
    }
   ],
   "source": [
    "size_ds_ba={}\n",
    "for p in [0.8,0.85,0.9,0.95,0.975,0.99]:\n",
    "    size_ds_ba[str(p)]={}\n",
    "    for N in [50,75,100]:\n",
    "        bins = np.arange(0,N)\n",
    "        values, base = np.histogram(resultsDS_ba_cs[str(N)], bins=bins, density=1) #AND THIS\n",
    "        for i in range(1,N):\n",
    "            S=np.sum(values[:i])\n",
    "    \n",
    "            if S>p:\n",
    "                print 'i!=',i\n",
    "                size_ds_ba[str(p)][str(N)]=i\n",
    "                break\n",
    "        \n",
    "\n",
    "#Looking for the right amount of vertices\n",
    "\n",
    "    "
   ]
  },
  {
   "cell_type": "code",
   "execution_count": 61,
   "metadata": {},
   "outputs": [
    {
     "name": "stdout",
     "output_type": "stream",
     "text": [
      "{'0.9': {'100': 19, '75': 7, '50': 6}, '0.8': {'100': 6, '75': 6, '50': 5}, '0.975': {'100': 39, '75': 21, '50': 11}, '0.99': {'100': 57, '75': 26, '50': 21}, '0.85': {'100': 14, '75': 6, '50': 6}, '0.95': {'100': 28, '75': 12, '50': 10}}\n"
     ]
    }
   ],
   "source": [
    "print size_ds_ba"
   ]
  },
  {
   "cell_type": "code",
   "execution_count": 70,
   "metadata": {
    "collapsed": true
   },
   "outputs": [],
   "source": [
    "list1ba=[]\n",
    "list2ba=[]\n",
    "list3ba=[]\n",
    "list4ba=[]\n",
    "list5ba=[]\n",
    "list6ba=[]\n",
    "for i in [50,75,100]:\n",
    "    list1ba.append(size_ds_ba[str(0.8)][str(i)])\n",
    "    list2ba.append(size_ds_ba[str(0.85)][str(i)])\n",
    "    list3ba.append(size_ds_ba[str(0.9)][str(i)])\n",
    "    list4ba.append(size_ds_ba[str(0.95)][str(i)])\n",
    "    list5ba.append(size_ds_ba[str(0.975)][str(i)])\n",
    "    list6ba.append(size_ds_ba[str(0.99)][str(i)])"
   ]
  },
  {
   "cell_type": "markdown",
   "metadata": {},
   "source": [
    "trace = go.Table(\n",
    "    header=dict(values=['Prob','N\\n 0.8','0.9','0.95'],\n",
    "                line = dict(color='#7D7F80'),\n",
    "                fill = dict(color='skyblue'),\n",
    "                align = ['center'] * 5),\n",
    "    cells=dict(values=[[50, 75, 100],\n",
    "                       list1,\n",
    "                      list2,\n",
    "                      list3],\n",
    "               line = dict(color='#7D7F80'),\n",
    "               fill = dict(color='white'),\n",
    "               align = ['center'] * 5))\n",
    "\n",
    "layout = dict(width=500, height=300)\n",
    "data = [trace]\n",
    "fig = dict(data=data, layout=layout)\n",
    "iplot(fig, filename = 'styled_table')"
   ]
  },
  {
   "cell_type": "code",
   "execution_count": 5,
   "metadata": {},
   "outputs": [
    {
     "data": {
      "text/plain": [
       "{'100': 0.8513979911804199,\n",
       " '50': 0.25681591033935547,\n",
       " '75': 0.5547690391540527}"
      ]
     },
     "execution_count": 5,
     "metadata": {},
     "output_type": "execute_result"
    }
   ],
   "source": [
    "results_ds_time_ba_cs"
   ]
  },
  {
   "cell_type": "code",
   "execution_count": 6,
   "metadata": {},
   "outputs": [
    {
     "data": {
      "text/plain": [
       "{'100': [14,\n",
       "  3,\n",
       "  2,\n",
       "  1,\n",
       "  1,\n",
       "  2,\n",
       "  2,\n",
       "  1,\n",
       "  13,\n",
       "  11,\n",
       "  5,\n",
       "  1,\n",
       "  1,\n",
       "  17,\n",
       "  1,\n",
       "  27,\n",
       "  24,\n",
       "  1,\n",
       "  3,\n",
       "  1,\n",
       "  3,\n",
       "  3,\n",
       "  1,\n",
       "  2,\n",
       "  1,\n",
       "  1,\n",
       "  2,\n",
       "  1,\n",
       "  3,\n",
       "  56,\n",
       "  2,\n",
       "  1,\n",
       "  1,\n",
       "  2,\n",
       "  5,\n",
       "  1,\n",
       "  3,\n",
       "  1,\n",
       "  2,\n",
       "  4,\n",
       "  1,\n",
       "  1,\n",
       "  18,\n",
       "  3,\n",
       "  1,\n",
       "  2,\n",
       "  3,\n",
       "  1,\n",
       "  1,\n",
       "  38],\n",
       " '50': [1,\n",
       "  2,\n",
       "  4,\n",
       "  1,\n",
       "  2,\n",
       "  1,\n",
       "  5,\n",
       "  10,\n",
       "  2,\n",
       "  2,\n",
       "  2,\n",
       "  2,\n",
       "  6,\n",
       "  2,\n",
       "  1,\n",
       "  1,\n",
       "  2,\n",
       "  2,\n",
       "  3,\n",
       "  1,\n",
       "  5,\n",
       "  1,\n",
       "  5,\n",
       "  4,\n",
       "  2,\n",
       "  1,\n",
       "  9,\n",
       "  2,\n",
       "  1,\n",
       "  5,\n",
       "  3,\n",
       "  1,\n",
       "  1,\n",
       "  1,\n",
       "  1,\n",
       "  1,\n",
       "  1,\n",
       "  20,\n",
       "  2,\n",
       "  3,\n",
       "  1,\n",
       "  4,\n",
       "  1,\n",
       "  4,\n",
       "  1,\n",
       "  3,\n",
       "  1,\n",
       "  1,\n",
       "  2,\n",
       "  1],\n",
       " '75': [1,\n",
       "  1,\n",
       "  3,\n",
       "  1,\n",
       "  1,\n",
       "  4,\n",
       "  4,\n",
       "  5,\n",
       "  5,\n",
       "  20,\n",
       "  2,\n",
       "  5,\n",
       "  1,\n",
       "  6,\n",
       "  1,\n",
       "  2,\n",
       "  1,\n",
       "  5,\n",
       "  4,\n",
       "  1,\n",
       "  5,\n",
       "  1,\n",
       "  1,\n",
       "  2,\n",
       "  3,\n",
       "  1,\n",
       "  25,\n",
       "  11,\n",
       "  1,\n",
       "  5,\n",
       "  3,\n",
       "  2,\n",
       "  3,\n",
       "  1,\n",
       "  2,\n",
       "  1,\n",
       "  4,\n",
       "  1,\n",
       "  1,\n",
       "  1,\n",
       "  1,\n",
       "  2,\n",
       "  1,\n",
       "  1,\n",
       "  7,\n",
       "  3,\n",
       "  2,\n",
       "  2,\n",
       "  1,\n",
       "  3]}"
      ]
     },
     "execution_count": 6,
     "metadata": {},
     "output_type": "execute_result"
    }
   ],
   "source": [
    "resultsDS_ba_cs"
   ]
  },
  {
   "cell_type": "code",
   "execution_count": 7,
   "metadata": {
    "collapsed": true
   },
   "outputs": [],
   "source": [
    "resultsDS_ua_cs={} #This dict contains all the vrtices found by the rl estimator for different graph sizes\n",
    "results_ds_time_ua_cs={}\n",
    "size_ds_ua={}"
   ]
  },
  {
   "cell_type": "code",
   "execution_count": null,
   "metadata": {
    "collapsed": true
   },
   "outputs": [],
   "source": [
    "prob=.8\n",
    "for N in [50,75,100]:\n",
    "    results_dg=[]\n",
    "    start_time=time.time()\n",
    "    for i in range(0,50):\n",
    "        ua=unif_tree(N)\n",
    "        dg=nx.closeness_centrality(ua) #!\n",
    "        dg_new=mixer_dg(dg)\n",
    "        cs_size=confset_dc(dg_new) #CHANGE THIS FOR EACH EST!\n",
    "        results_dg.append([N,cs_size]) #AND THIS!\n",
    "        \n",
    "    final_time= -start_time +time.time()\n",
    "    results_ds_time_ua_cs[str(N)]=final_time #AND THIS\n",
    "    #### Saving the sizes of the confidence sets for each graph size \n",
    "    resultsDS_ua_cs[str(N)]=[i[1] for i in results_dg] #AND THIS\n",
    "    #### Numpy for the histograms\n",
    "    \n",
    "    "
   ]
  },
  {
   "cell_type": "code",
   "execution_count": 91,
   "metadata": {},
   "outputs": [
    {
     "name": "stdout",
     "output_type": "stream",
     "text": [
      "i!= 35\n",
      "100\n"
     ]
    }
   ],
   "source": [
    "    #Looking for the right amount of vertices\n",
    "    N=100\n",
    "    bins = np.arange(0,N)\n",
    "    values, base = np.histogram(resultsDS_ua_cs[str(N)], bins=bins, density=1) #AND THIS\n",
    "    for i in range(1,N):\n",
    "        S=np.sum(values[:i])\n",
    "    \n",
    "        if S>0.99:\n",
    "            print 'i!=',i\n",
    "            size_ds_ua[str(N)]=i\n",
    "            break\n",
    "    \n",
    "    print N"
   ]
  },
  {
   "cell_type": "code",
   "execution_count": 81,
   "metadata": {},
   "outputs": [
    {
     "name": "stdout",
     "output_type": "stream",
     "text": [
      "50\n",
      "[1, 3, 2, 1, 6, 1, 2, 3, 12, 2, 1, 13, 7, 3, 4, 3, 3, 6, 1, 2, 6, 2, 13, 1, 1, 4, 3, 2, 3, 6, 5, 4, 1, 1, 2, 1, 3, 1, 5, 2, 2, 2, 4, 7, 1, 2, 2, 14, 4, 1]\n",
      "i!= 7\n",
      "75\n",
      "[3, 1, 2, 2, 3, 4, 1, 3, 1, 2, 2, 6, 2, 12, 16, 3, 10, 5, 27, 5, 1, 1, 6, 6, 3, 24, 2, 7, 1, 5, 3, 2, 1, 1, 1, 3, 2, 1, 6, 2, 1, 6, 2, 23, 43, 1, 1, 2, 2, 3]\n",
      "i!= 7\n",
      "100\n",
      "[3, 1, 21, 1, 2, 5, 1, 2, 5, 3, 1, 4, 2, 4, 1, 1, 1, 2, 3, 7, 1, 1, 1, 2, 2, 4, 2, 1, 8, 1, 5, 2, 11, 1, 20, 1, 34, 1, 1, 1, 4, 1, 1, 2, 1, 4, 3, 24, 2, 1]\n",
      "i!= 6\n",
      "50\n",
      "[1, 3, 2, 1, 6, 1, 2, 3, 12, 2, 1, 13, 7, 3, 4, 3, 3, 6, 1, 2, 6, 2, 13, 1, 1, 4, 3, 2, 3, 6, 5, 4, 1, 1, 2, 1, 3, 1, 5, 2, 2, 2, 4, 7, 1, 2, 2, 14, 4, 1]\n",
      "i!= 7\n",
      "75\n",
      "[3, 1, 2, 2, 3, 4, 1, 3, 1, 2, 2, 6, 2, 12, 16, 3, 10, 5, 27, 5, 1, 1, 6, 6, 3, 24, 2, 7, 1, 5, 3, 2, 1, 1, 1, 3, 2, 1, 6, 2, 1, 6, 2, 23, 43, 1, 1, 2, 2, 3]\n",
      "i!= 8\n",
      "100\n",
      "[3, 1, 21, 1, 2, 5, 1, 2, 5, 3, 1, 4, 2, 4, 1, 1, 1, 2, 3, 7, 1, 1, 1, 2, 2, 4, 2, 1, 8, 1, 5, 2, 11, 1, 20, 1, 34, 1, 1, 1, 4, 1, 1, 2, 1, 4, 3, 24, 2, 1]\n",
      "i!= 6\n",
      "50\n",
      "[1, 3, 2, 1, 6, 1, 2, 3, 12, 2, 1, 13, 7, 3, 4, 3, 3, 6, 1, 2, 6, 2, 13, 1, 1, 4, 3, 2, 3, 6, 5, 4, 1, 1, 2, 1, 3, 1, 5, 2, 2, 2, 4, 7, 1, 2, 2, 14, 4, 1]\n",
      "i!= 8\n",
      "75\n",
      "[3, 1, 2, 2, 3, 4, 1, 3, 1, 2, 2, 6, 2, 12, 16, 3, 10, 5, 27, 5, 1, 1, 6, 6, 3, 24, 2, 7, 1, 5, 3, 2, 1, 1, 1, 3, 2, 1, 6, 2, 1, 6, 2, 23, 43, 1, 1, 2, 2, 3]\n",
      "i!= 17\n",
      "100\n",
      "[3, 1, 21, 1, 2, 5, 1, 2, 5, 3, 1, 4, 2, 4, 1, 1, 1, 2, 3, 7, 1, 1, 1, 2, 2, 4, 2, 1, 8, 1, 5, 2, 11, 1, 20, 1, 34, 1, 1, 1, 4, 1, 1, 2, 1, 4, 3, 24, 2, 1]\n",
      "i!= 12\n",
      "50\n",
      "[1, 3, 2, 1, 6, 1, 2, 3, 12, 2, 1, 13, 7, 3, 4, 3, 3, 6, 1, 2, 6, 2, 13, 1, 1, 4, 3, 2, 3, 6, 5, 4, 1, 1, 2, 1, 3, 1, 5, 2, 2, 2, 4, 7, 1, 2, 2, 14, 4, 1]\n",
      "i!= 14\n",
      "75\n",
      "[3, 1, 2, 2, 3, 4, 1, 3, 1, 2, 2, 6, 2, 12, 16, 3, 10, 5, 27, 5, 1, 1, 6, 6, 3, 24, 2, 7, 1, 5, 3, 2, 1, 1, 1, 3, 2, 1, 6, 2, 1, 6, 2, 23, 43, 1, 1, 2, 2, 3]\n",
      "i!= 25\n",
      "100\n",
      "[3, 1, 21, 1, 2, 5, 1, 2, 5, 3, 1, 4, 2, 4, 1, 1, 1, 2, 3, 7, 1, 1, 1, 2, 2, 4, 2, 1, 8, 1, 5, 2, 11, 1, 20, 1, 34, 1, 1, 1, 4, 1, 1, 2, 1, 4, 3, 24, 2, 1]\n",
      "i!= 22\n",
      "50\n",
      "[1, 3, 2, 1, 6, 1, 2, 3, 12, 2, 1, 13, 7, 3, 4, 3, 3, 6, 1, 2, 6, 2, 13, 1, 1, 4, 3, 2, 3, 6, 5, 4, 1, 1, 2, 1, 3, 1, 5, 2, 2, 2, 4, 7, 1, 2, 2, 14, 4, 1]\n",
      "i!= 14\n",
      "75\n",
      "[3, 1, 2, 2, 3, 4, 1, 3, 1, 2, 2, 6, 2, 12, 16, 3, 10, 5, 27, 5, 1, 1, 6, 6, 3, 24, 2, 7, 1, 5, 3, 2, 1, 1, 1, 3, 2, 1, 6, 2, 1, 6, 2, 23, 43, 1, 1, 2, 2, 3]\n",
      "i!= 28\n",
      "100\n",
      "[3, 1, 21, 1, 2, 5, 1, 2, 5, 3, 1, 4, 2, 4, 1, 1, 1, 2, 3, 7, 1, 1, 1, 2, 2, 4, 2, 1, 8, 1, 5, 2, 11, 1, 20, 1, 34, 1, 1, 1, 4, 1, 1, 2, 1, 4, 3, 24, 2, 1]\n",
      "i!= 25\n",
      "50\n",
      "[1, 3, 2, 1, 6, 1, 2, 3, 12, 2, 1, 13, 7, 3, 4, 3, 3, 6, 1, 2, 6, 2, 13, 1, 1, 4, 3, 2, 3, 6, 5, 4, 1, 1, 2, 1, 3, 1, 5, 2, 2, 2, 4, 7, 1, 2, 2, 14, 4, 1]\n",
      "i!= 15\n",
      "75\n",
      "[3, 1, 2, 2, 3, 4, 1, 3, 1, 2, 2, 6, 2, 12, 16, 3, 10, 5, 27, 5, 1, 1, 6, 6, 3, 24, 2, 7, 1, 5, 3, 2, 1, 1, 1, 3, 2, 1, 6, 2, 1, 6, 2, 23, 43, 1, 1, 2, 2, 3]\n",
      "i!= 44\n",
      "100\n",
      "[3, 1, 21, 1, 2, 5, 1, 2, 5, 3, 1, 4, 2, 4, 1, 1, 1, 2, 3, 7, 1, 1, 1, 2, 2, 4, 2, 1, 8, 1, 5, 2, 11, 1, 20, 1, 34, 1, 1, 1, 4, 1, 1, 2, 1, 4, 3, 24, 2, 1]\n",
      "i!= 35\n"
     ]
    }
   ],
   "source": [
    "size_ds_ua={}\n",
    "for p in [0.8,0.85,0.9,0.95,0.975,0.99]:\n",
    "    size_ds_ua[str(p)]={}\n",
    "    for N in [50,75,100]:\n",
    "        print N\n",
    "        print resultsDS_ua_cs[str(N)]\n",
    "        bins = np.arange(0,N)\n",
    "        values, base = np.histogram(resultsDS_ua_cs[str(N)], bins=bins, density=1) #AND THIS\n",
    "        for i in range(1,N):\n",
    "            S=np.sum(values[:i])\n",
    "    \n",
    "            if S>p:\n",
    "                print 'i!=',i\n",
    "                size_ds_ua[str(p)][str(N)]=i\n",
    "                break\n",
    "        \n",
    "list1ua=[]\n",
    "list2ua=[]\n",
    "list3ua=[]\n",
    "list4ua=[]\n",
    "list5ua=[]\n",
    "list6ua=[]\n",
    "for i in [50,75,100]:\n",
    "    list1ua.append(size_ds_ua[str(0.8)][str(i)])\n",
    "    list2ua.append(size_ds_ua[str(0.85)][str(i)])\n",
    "    list3ua.append(size_ds_ua[str(0.9)][str(i)])\n",
    "    list4ua.append(size_ds_ua[str(0.95)][str(i)])\n",
    "    list5ua.append(size_ds_ua[str(0.975)][str(i)])\n",
    "    list6ua.append(size_ds_ua[str(0.99)][str(i)])"
   ]
  },
  {
   "cell_type": "code",
   "execution_count": 9,
   "metadata": {
    "collapsed": true
   },
   "outputs": [],
   "source": [
    "resultsDS_p3r_cs={} #This dict contains all the vrtices found by the rl estimator for different graph sizes\n",
    "results_ds_time_p3r_cs={}\n",
    "size_ds_p3r={}"
   ]
  },
  {
   "cell_type": "code",
   "execution_count": 10,
   "metadata": {},
   "outputs": [
    {
     "name": "stdout",
     "output_type": "stream",
     "text": [
      "i!= 6\n",
      "50\n",
      "i!= 7\n",
      "75\n",
      "i!= 8\n",
      "100\n"
     ]
    }
   ],
   "source": [
    "prob=.8\n",
    "for N in [50,75,100]:\n",
    "    results_dg=[]\n",
    "    start_time=time.time()\n",
    "    for i in range(0,50):\n",
    "        p3r=areg(N)\n",
    "        dg=nx.closeness_centrality(p3r)  #!\n",
    "        dg_new=mixer_dg(dg)\n",
    "        cs_size=confset_dc(dg_new) #CHANGE THIS FOR EACH EST!\n",
    "        results_dg.append([N,cs_size]) #AND THIS!\n",
    "        \n",
    "    final_time= -start_time +time.time()\n",
    "    results_ds_time_p3r_cs[str(N)]=final_time #AND THIS\n",
    "    #### Saving the sizes of the confidence sets for each graph size \n",
    "    resultsDS_p3r_cs[str(N)]=[i[1] for i in results_dg] #AND THIS\n",
    "    #### Numpy for the histograms\n",
    "    bins = np.arange(0,N)\n",
    "    values, base = np.histogram(resultsDS_p3r_cs[str(N)], bins=bins, density=1) #AND THIS\n",
    "    #Looking for the right amount of vertic\n",
    "    for i in range(1,N):\n",
    "        S=np.sum(values[:i])\n",
    "    \n",
    "        if S>prob:\n",
    "            print 'i!=',i\n",
    "            size_ds_p3r[str(N)]=i\n",
    "            break\n",
    "    \n",
    "    print N\n"
   ]
  },
  {
   "cell_type": "code",
   "execution_count": 72,
   "metadata": {},
   "outputs": [
    {
     "name": "stdout",
     "output_type": "stream",
     "text": [
      "i!= 6\n",
      "i!= 7\n",
      "i!= 8\n",
      "i!= 7\n",
      "i!= 8\n",
      "i!= 9\n",
      "i!= 8\n",
      "i!= 11\n",
      "i!= 11\n",
      "i!= 9\n",
      "i!= 12\n",
      "i!= 11\n",
      "i!= 10\n",
      "i!= 17\n",
      "i!= 15\n",
      "i!= 10\n",
      "i!= 24\n",
      "i!= 24\n"
     ]
    }
   ],
   "source": [
    "size_ds_p3r={}\n",
    "for p in [0.8,0.85,0.9,0.95,0.975,0.99]:\n",
    "    size_ds_p3r[str(p)]={}\n",
    "    for N in [50,75,100]:\n",
    "        bins = np.arange(0,N)\n",
    "        values, base = np.histogram(resultsDS_p3r_cs[str(N)], bins=bins, density=1) #AND THIS\n",
    "        for i in range(1,N):\n",
    "            S=np.sum(values[:i])\n",
    "    \n",
    "            if S>p:\n",
    "                print 'i!=',i\n",
    "                size_ds_p3r[str(p)][str(N)]=i\n",
    "                break\n",
    "        \n",
    "list1p3r=[]\n",
    "list2p3r=[]\n",
    "list3p3r=[]\n",
    "list4p3r=[]\n",
    "list5p3r=[]\n",
    "list6p3r=[]\n",
    "for i in [50,75,100]:\n",
    "    list1p3r.append(size_ds_p3r[str(0.8)][str(i)])\n",
    "    list2p3r.append(size_ds_p3r[str(0.85)][str(i)])\n",
    "    list3p3r.append(size_ds_p3r[str(0.9)][str(i)])\n",
    "    list4p3r.append(size_ds_p3r[str(0.95)][str(i)])\n",
    "    list5p3r.append(size_ds_p3r[str(0.975)][str(i)])\n",
    "    list6p3r.append(size_ds_p3r[str(0.99)][str(i)])\n"
   ]
  },
  {
   "cell_type": "code",
   "execution_count": 80,
   "metadata": {},
   "outputs": [
    {
     "data": {
      "text/plain": [
       "[7, 8, 6]"
      ]
     },
     "execution_count": 80,
     "metadata": {},
     "output_type": "execute_result"
    }
   ],
   "source": [
    "list2ua"
   ]
  },
  {
   "cell_type": "code",
   "execution_count": 79,
   "metadata": {},
   "outputs": [
    {
     "data": {
      "application/vnd.plotly.v1+json": {
       "data": [
        {
         "colorscale": [
          [
           0,
           "#00083e"
          ],
          [
           0.5,
           "#ededee"
          ],
          [
           1,
           "#ffffff"
          ]
         ],
         "hoverinfo": "none",
         "opacity": 0.75,
         "showscale": false,
         "type": "heatmap",
         "z": [
          [
           0,
           0,
           0,
           0,
           0,
           0,
           0,
           0,
           0,
           0
          ],
          [
           0,
           0.5,
           0.5,
           0.5,
           0.5,
           0.5,
           0.5,
           0.5,
           0.5,
           0.5
          ],
          [
           0,
           1,
           1,
           1,
           1,
           1,
           1,
           1,
           1,
           1
          ],
          [
           0,
           0.5,
           0.5,
           0.5,
           0.5,
           0.5,
           0.5,
           0.5,
           0.5,
           0.5
          ],
          [
           0,
           1,
           1,
           1,
           1,
           1,
           1,
           1,
           1,
           1
          ],
          [
           0,
           0.5,
           0.5,
           0.5,
           0.5,
           0.5,
           0.5,
           0.5,
           0.5,
           0.5
          ],
          [
           0,
           1,
           1,
           1,
           1,
           1,
           1,
           1,
           1,
           1
          ],
          [
           0,
           0.5,
           0.5,
           0.5,
           0.5,
           0.5,
           0.5,
           0.5,
           0.5,
           0.5
          ]
         ]
        }
       ],
       "layout": {
        "annotations": [
         {
          "align": "left",
          "font": {
           "color": "#ffffff",
           "size": 15
          },
          "showarrow": false,
          "text": "<b>Probability</b>",
          "x": -0.45,
          "xanchor": "left",
          "xref": "x1",
          "y": 0,
          "yref": "y1"
         },
         {
          "align": "left",
          "font": {
           "color": "#ffffff",
           "size": 15
          },
          "showarrow": false,
          "text": "<b>UA: N=50</b>",
          "x": 0.55,
          "xanchor": "left",
          "xref": "x1",
          "y": 0,
          "yref": "y1"
         },
         {
          "align": "left",
          "font": {
           "color": "#ffffff",
           "size": 15
          },
          "showarrow": false,
          "text": "<b>UA: N=75</b>",
          "x": 1.55,
          "xanchor": "left",
          "xref": "x1",
          "y": 0,
          "yref": "y1"
         },
         {
          "align": "left",
          "font": {
           "color": "#ffffff",
           "size": 15
          },
          "showarrow": false,
          "text": "<b>UA: N=100 |</b>",
          "x": 2.55,
          "xanchor": "left",
          "xref": "x1",
          "y": 0,
          "yref": "y1"
         },
         {
          "align": "left",
          "font": {
           "color": "#ffffff",
           "size": 15
          },
          "showarrow": false,
          "text": "<b>BA: N=50</b>",
          "x": 3.55,
          "xanchor": "left",
          "xref": "x1",
          "y": 0,
          "yref": "y1"
         },
         {
          "align": "left",
          "font": {
           "color": "#ffffff",
           "size": 15
          },
          "showarrow": false,
          "text": "<b>BA: N=75</b>",
          "x": 4.55,
          "xanchor": "left",
          "xref": "x1",
          "y": 0,
          "yref": "y1"
         },
         {
          "align": "left",
          "font": {
           "color": "#ffffff",
           "size": 15
          },
          "showarrow": false,
          "text": "<b>BA: N=100 |</b>",
          "x": 5.55,
          "xanchor": "left",
          "xref": "x1",
          "y": 0,
          "yref": "y1"
         },
         {
          "align": "left",
          "font": {
           "color": "#ffffff",
           "size": 15
          },
          "showarrow": false,
          "text": "<b>P3R: N=50</b>",
          "x": 6.55,
          "xanchor": "left",
          "xref": "x1",
          "y": 0,
          "yref": "y1"
         },
         {
          "align": "left",
          "font": {
           "color": "#ffffff",
           "size": 15
          },
          "showarrow": false,
          "text": "<b>P3R: N=75</b>",
          "x": 7.55,
          "xanchor": "left",
          "xref": "x1",
          "y": 0,
          "yref": "y1"
         },
         {
          "align": "left",
          "font": {
           "color": "#ffffff",
           "size": 15
          },
          "showarrow": false,
          "text": "<b>P3r: N=100</b>",
          "x": 8.55,
          "xanchor": "left",
          "xref": "x1",
          "y": 0,
          "yref": "y1"
         },
         {
          "align": "left",
          "font": {
           "color": "#ffffff",
           "size": 15
          },
          "showarrow": false,
          "text": "<b>0.8</b>",
          "x": -0.45,
          "xanchor": "left",
          "xref": "x1",
          "y": 1,
          "yref": "y1"
         },
         {
          "align": "left",
          "font": {
           "color": "#000000",
           "size": 15
          },
          "showarrow": false,
          "text": "7",
          "x": 0.55,
          "xanchor": "left",
          "xref": "x1",
          "y": 1,
          "yref": "y1"
         },
         {
          "align": "left",
          "font": {
           "color": "#000000",
           "size": 15
          },
          "showarrow": false,
          "text": "7",
          "x": 1.55,
          "xanchor": "left",
          "xref": "x1",
          "y": 1,
          "yref": "y1"
         },
         {
          "align": "left",
          "font": {
           "color": "#000000",
           "size": 15
          },
          "showarrow": false,
          "text": "6",
          "x": 2.55,
          "xanchor": "left",
          "xref": "x1",
          "y": 1,
          "yref": "y1"
         },
         {
          "align": "left",
          "font": {
           "color": "#000000",
           "size": 15
          },
          "showarrow": false,
          "text": "5",
          "x": 3.55,
          "xanchor": "left",
          "xref": "x1",
          "y": 1,
          "yref": "y1"
         },
         {
          "align": "left",
          "font": {
           "color": "#000000",
           "size": 15
          },
          "showarrow": false,
          "text": "6",
          "x": 4.55,
          "xanchor": "left",
          "xref": "x1",
          "y": 1,
          "yref": "y1"
         },
         {
          "align": "left",
          "font": {
           "color": "#000000",
           "size": 15
          },
          "showarrow": false,
          "text": "6",
          "x": 5.55,
          "xanchor": "left",
          "xref": "x1",
          "y": 1,
          "yref": "y1"
         },
         {
          "align": "left",
          "font": {
           "color": "#000000",
           "size": 15
          },
          "showarrow": false,
          "text": "6",
          "x": 6.55,
          "xanchor": "left",
          "xref": "x1",
          "y": 1,
          "yref": "y1"
         },
         {
          "align": "left",
          "font": {
           "color": "#000000",
           "size": 15
          },
          "showarrow": false,
          "text": "7",
          "x": 7.55,
          "xanchor": "left",
          "xref": "x1",
          "y": 1,
          "yref": "y1"
         },
         {
          "align": "left",
          "font": {
           "color": "#000000",
           "size": 15
          },
          "showarrow": false,
          "text": "8",
          "x": 8.55,
          "xanchor": "left",
          "xref": "x1",
          "y": 1,
          "yref": "y1"
         },
         {
          "align": "left",
          "font": {
           "color": "#ffffff",
           "size": 15
          },
          "showarrow": false,
          "text": "<b>0.85</b>",
          "x": -0.45,
          "xanchor": "left",
          "xref": "x1",
          "y": 2,
          "yref": "y1"
         },
         {
          "align": "left",
          "font": {
           "color": "#000000",
           "size": 15
          },
          "showarrow": false,
          "text": "7",
          "x": 0.55,
          "xanchor": "left",
          "xref": "x1",
          "y": 2,
          "yref": "y1"
         },
         {
          "align": "left",
          "font": {
           "color": "#000000",
           "size": 15
          },
          "showarrow": false,
          "text": "8",
          "x": 1.55,
          "xanchor": "left",
          "xref": "x1",
          "y": 2,
          "yref": "y1"
         },
         {
          "align": "left",
          "font": {
           "color": "#000000",
           "size": 15
          },
          "showarrow": false,
          "text": "6",
          "x": 2.55,
          "xanchor": "left",
          "xref": "x1",
          "y": 2,
          "yref": "y1"
         },
         {
          "align": "left",
          "font": {
           "color": "#000000",
           "size": 15
          },
          "showarrow": false,
          "text": "6",
          "x": 3.55,
          "xanchor": "left",
          "xref": "x1",
          "y": 2,
          "yref": "y1"
         },
         {
          "align": "left",
          "font": {
           "color": "#000000",
           "size": 15
          },
          "showarrow": false,
          "text": "6",
          "x": 4.55,
          "xanchor": "left",
          "xref": "x1",
          "y": 2,
          "yref": "y1"
         },
         {
          "align": "left",
          "font": {
           "color": "#000000",
           "size": 15
          },
          "showarrow": false,
          "text": "14",
          "x": 5.55,
          "xanchor": "left",
          "xref": "x1",
          "y": 2,
          "yref": "y1"
         },
         {
          "align": "left",
          "font": {
           "color": "#000000",
           "size": 15
          },
          "showarrow": false,
          "text": "7",
          "x": 6.55,
          "xanchor": "left",
          "xref": "x1",
          "y": 2,
          "yref": "y1"
         },
         {
          "align": "left",
          "font": {
           "color": "#000000",
           "size": 15
          },
          "showarrow": false,
          "text": "8",
          "x": 7.55,
          "xanchor": "left",
          "xref": "x1",
          "y": 2,
          "yref": "y1"
         },
         {
          "align": "left",
          "font": {
           "color": "#000000",
           "size": 15
          },
          "showarrow": false,
          "text": "9",
          "x": 8.55,
          "xanchor": "left",
          "xref": "x1",
          "y": 2,
          "yref": "y1"
         },
         {
          "align": "left",
          "font": {
           "color": "#ffffff",
           "size": 15
          },
          "showarrow": false,
          "text": "<b>0.9</b>",
          "x": -0.45,
          "xanchor": "left",
          "xref": "x1",
          "y": 3,
          "yref": "y1"
         },
         {
          "align": "left",
          "font": {
           "color": "#000000",
           "size": 15
          },
          "showarrow": false,
          "text": "8",
          "x": 0.55,
          "xanchor": "left",
          "xref": "x1",
          "y": 3,
          "yref": "y1"
         },
         {
          "align": "left",
          "font": {
           "color": "#000000",
           "size": 15
          },
          "showarrow": false,
          "text": "17",
          "x": 1.55,
          "xanchor": "left",
          "xref": "x1",
          "y": 3,
          "yref": "y1"
         },
         {
          "align": "left",
          "font": {
           "color": "#000000",
           "size": 15
          },
          "showarrow": false,
          "text": "12",
          "x": 2.55,
          "xanchor": "left",
          "xref": "x1",
          "y": 3,
          "yref": "y1"
         },
         {
          "align": "left",
          "font": {
           "color": "#000000",
           "size": 15
          },
          "showarrow": false,
          "text": "6",
          "x": 3.55,
          "xanchor": "left",
          "xref": "x1",
          "y": 3,
          "yref": "y1"
         },
         {
          "align": "left",
          "font": {
           "color": "#000000",
           "size": 15
          },
          "showarrow": false,
          "text": "7",
          "x": 4.55,
          "xanchor": "left",
          "xref": "x1",
          "y": 3,
          "yref": "y1"
         },
         {
          "align": "left",
          "font": {
           "color": "#000000",
           "size": 15
          },
          "showarrow": false,
          "text": "19",
          "x": 5.55,
          "xanchor": "left",
          "xref": "x1",
          "y": 3,
          "yref": "y1"
         },
         {
          "align": "left",
          "font": {
           "color": "#000000",
           "size": 15
          },
          "showarrow": false,
          "text": "8",
          "x": 6.55,
          "xanchor": "left",
          "xref": "x1",
          "y": 3,
          "yref": "y1"
         },
         {
          "align": "left",
          "font": {
           "color": "#000000",
           "size": 15
          },
          "showarrow": false,
          "text": "11",
          "x": 7.55,
          "xanchor": "left",
          "xref": "x1",
          "y": 3,
          "yref": "y1"
         },
         {
          "align": "left",
          "font": {
           "color": "#000000",
           "size": 15
          },
          "showarrow": false,
          "text": "11",
          "x": 8.55,
          "xanchor": "left",
          "xref": "x1",
          "y": 3,
          "yref": "y1"
         },
         {
          "align": "left",
          "font": {
           "color": "#ffffff",
           "size": 15
          },
          "showarrow": false,
          "text": "<b>0.95</b>",
          "x": -0.45,
          "xanchor": "left",
          "xref": "x1",
          "y": 4,
          "yref": "y1"
         },
         {
          "align": "left",
          "font": {
           "color": "#000000",
           "size": 15
          },
          "showarrow": false,
          "text": "14",
          "x": 0.55,
          "xanchor": "left",
          "xref": "x1",
          "y": 4,
          "yref": "y1"
         },
         {
          "align": "left",
          "font": {
           "color": "#000000",
           "size": 15
          },
          "showarrow": false,
          "text": "25",
          "x": 1.55,
          "xanchor": "left",
          "xref": "x1",
          "y": 4,
          "yref": "y1"
         },
         {
          "align": "left",
          "font": {
           "color": "#000000",
           "size": 15
          },
          "showarrow": false,
          "text": "22",
          "x": 2.55,
          "xanchor": "left",
          "xref": "x1",
          "y": 4,
          "yref": "y1"
         },
         {
          "align": "left",
          "font": {
           "color": "#000000",
           "size": 15
          },
          "showarrow": false,
          "text": "10",
          "x": 3.55,
          "xanchor": "left",
          "xref": "x1",
          "y": 4,
          "yref": "y1"
         },
         {
          "align": "left",
          "font": {
           "color": "#000000",
           "size": 15
          },
          "showarrow": false,
          "text": "12",
          "x": 4.55,
          "xanchor": "left",
          "xref": "x1",
          "y": 4,
          "yref": "y1"
         },
         {
          "align": "left",
          "font": {
           "color": "#000000",
           "size": 15
          },
          "showarrow": false,
          "text": "28",
          "x": 5.55,
          "xanchor": "left",
          "xref": "x1",
          "y": 4,
          "yref": "y1"
         },
         {
          "align": "left",
          "font": {
           "color": "#000000",
           "size": 15
          },
          "showarrow": false,
          "text": "9",
          "x": 6.55,
          "xanchor": "left",
          "xref": "x1",
          "y": 4,
          "yref": "y1"
         },
         {
          "align": "left",
          "font": {
           "color": "#000000",
           "size": 15
          },
          "showarrow": false,
          "text": "12",
          "x": 7.55,
          "xanchor": "left",
          "xref": "x1",
          "y": 4,
          "yref": "y1"
         },
         {
          "align": "left",
          "font": {
           "color": "#000000",
           "size": 15
          },
          "showarrow": false,
          "text": "11",
          "x": 8.55,
          "xanchor": "left",
          "xref": "x1",
          "y": 4,
          "yref": "y1"
         },
         {
          "align": "left",
          "font": {
           "color": "#ffffff",
           "size": 15
          },
          "showarrow": false,
          "text": "<b>0.975</b>",
          "x": -0.45,
          "xanchor": "left",
          "xref": "x1",
          "y": 5,
          "yref": "y1"
         },
         {
          "align": "left",
          "font": {
           "color": "#000000",
           "size": 15
          },
          "showarrow": false,
          "text": "14",
          "x": 0.55,
          "xanchor": "left",
          "xref": "x1",
          "y": 5,
          "yref": "y1"
         },
         {
          "align": "left",
          "font": {
           "color": "#000000",
           "size": 15
          },
          "showarrow": false,
          "text": "28",
          "x": 1.55,
          "xanchor": "left",
          "xref": "x1",
          "y": 5,
          "yref": "y1"
         },
         {
          "align": "left",
          "font": {
           "color": "#000000",
           "size": 15
          },
          "showarrow": false,
          "text": "25",
          "x": 2.55,
          "xanchor": "left",
          "xref": "x1",
          "y": 5,
          "yref": "y1"
         },
         {
          "align": "left",
          "font": {
           "color": "#000000",
           "size": 15
          },
          "showarrow": false,
          "text": "11",
          "x": 3.55,
          "xanchor": "left",
          "xref": "x1",
          "y": 5,
          "yref": "y1"
         },
         {
          "align": "left",
          "font": {
           "color": "#000000",
           "size": 15
          },
          "showarrow": false,
          "text": "21",
          "x": 4.55,
          "xanchor": "left",
          "xref": "x1",
          "y": 5,
          "yref": "y1"
         },
         {
          "align": "left",
          "font": {
           "color": "#000000",
           "size": 15
          },
          "showarrow": false,
          "text": "39",
          "x": 5.55,
          "xanchor": "left",
          "xref": "x1",
          "y": 5,
          "yref": "y1"
         },
         {
          "align": "left",
          "font": {
           "color": "#000000",
           "size": 15
          },
          "showarrow": false,
          "text": "10",
          "x": 6.55,
          "xanchor": "left",
          "xref": "x1",
          "y": 5,
          "yref": "y1"
         },
         {
          "align": "left",
          "font": {
           "color": "#000000",
           "size": 15
          },
          "showarrow": false,
          "text": "17",
          "x": 7.55,
          "xanchor": "left",
          "xref": "x1",
          "y": 5,
          "yref": "y1"
         },
         {
          "align": "left",
          "font": {
           "color": "#000000",
           "size": 15
          },
          "showarrow": false,
          "text": "15",
          "x": 8.55,
          "xanchor": "left",
          "xref": "x1",
          "y": 5,
          "yref": "y1"
         },
         {
          "align": "left",
          "font": {
           "color": "#ffffff",
           "size": 15
          },
          "showarrow": false,
          "text": "<b>0.99</b>",
          "x": -0.45,
          "xanchor": "left",
          "xref": "x1",
          "y": 6,
          "yref": "y1"
         },
         {
          "align": "left",
          "font": {
           "color": "#000000",
           "size": 15
          },
          "showarrow": false,
          "text": "15",
          "x": 0.55,
          "xanchor": "left",
          "xref": "x1",
          "y": 6,
          "yref": "y1"
         },
         {
          "align": "left",
          "font": {
           "color": "#000000",
           "size": 15
          },
          "showarrow": false,
          "text": "44",
          "x": 1.55,
          "xanchor": "left",
          "xref": "x1",
          "y": 6,
          "yref": "y1"
         },
         {
          "align": "left",
          "font": {
           "color": "#000000",
           "size": 15
          },
          "showarrow": false,
          "text": "35",
          "x": 2.55,
          "xanchor": "left",
          "xref": "x1",
          "y": 6,
          "yref": "y1"
         },
         {
          "align": "left",
          "font": {
           "color": "#000000",
           "size": 15
          },
          "showarrow": false,
          "text": "21",
          "x": 3.55,
          "xanchor": "left",
          "xref": "x1",
          "y": 6,
          "yref": "y1"
         },
         {
          "align": "left",
          "font": {
           "color": "#000000",
           "size": 15
          },
          "showarrow": false,
          "text": "26",
          "x": 4.55,
          "xanchor": "left",
          "xref": "x1",
          "y": 6,
          "yref": "y1"
         },
         {
          "align": "left",
          "font": {
           "color": "#000000",
           "size": 15
          },
          "showarrow": false,
          "text": "57",
          "x": 5.55,
          "xanchor": "left",
          "xref": "x1",
          "y": 6,
          "yref": "y1"
         },
         {
          "align": "left",
          "font": {
           "color": "#000000",
           "size": 15
          },
          "showarrow": false,
          "text": "10",
          "x": 6.55,
          "xanchor": "left",
          "xref": "x1",
          "y": 6,
          "yref": "y1"
         },
         {
          "align": "left",
          "font": {
           "color": "#000000",
           "size": 15
          },
          "showarrow": false,
          "text": "24",
          "x": 7.55,
          "xanchor": "left",
          "xref": "x1",
          "y": 6,
          "yref": "y1"
         },
         {
          "align": "left",
          "font": {
           "color": "#000000",
           "size": 15
          },
          "showarrow": false,
          "text": "24",
          "x": 8.55,
          "xanchor": "left",
          "xref": "x1",
          "y": 6,
          "yref": "y1"
         },
         {
          "align": "left",
          "font": {
           "color": "#ffffff",
           "size": 15
          },
          "showarrow": false,
          "text": "<b></b>",
          "x": -0.45,
          "xanchor": "left",
          "xref": "x1",
          "y": 7,
          "yref": "y1"
         },
         {
          "align": "left",
          "font": {
           "color": "#000000",
           "size": 15
          },
          "showarrow": false,
          "text": "",
          "x": 0.55,
          "xanchor": "left",
          "xref": "x1",
          "y": 7,
          "yref": "y1"
         },
         {
          "align": "left",
          "font": {
           "color": "#000000",
           "size": 15
          },
          "showarrow": false,
          "text": "",
          "x": 1.55,
          "xanchor": "left",
          "xref": "x1",
          "y": 7,
          "yref": "y1"
         },
         {
          "align": "left",
          "font": {
           "color": "#000000",
           "size": 15
          },
          "showarrow": false,
          "text": "",
          "x": 2.55,
          "xanchor": "left",
          "xref": "x1",
          "y": 7,
          "yref": "y1"
         },
         {
          "align": "left",
          "font": {
           "color": "#000000",
           "size": 15
          },
          "showarrow": false,
          "text": "",
          "x": 3.55,
          "xanchor": "left",
          "xref": "x1",
          "y": 7,
          "yref": "y1"
         },
         {
          "align": "left",
          "font": {
           "color": "#000000",
           "size": 15
          },
          "showarrow": false,
          "text": "",
          "x": 4.55,
          "xanchor": "left",
          "xref": "x1",
          "y": 7,
          "yref": "y1"
         },
         {
          "align": "left",
          "font": {
           "color": "#000000",
           "size": 15
          },
          "showarrow": false,
          "text": "",
          "x": 5.55,
          "xanchor": "left",
          "xref": "x1",
          "y": 7,
          "yref": "y1"
         },
         {
          "align": "left",
          "font": {
           "color": "#000000",
           "size": 15
          },
          "showarrow": false,
          "text": "",
          "x": 6.55,
          "xanchor": "left",
          "xref": "x1",
          "y": 7,
          "yref": "y1"
         },
         {
          "align": "left",
          "font": {
           "color": "#000000",
           "size": 15
          },
          "showarrow": false,
          "text": "",
          "x": 7.55,
          "xanchor": "left",
          "xref": "x1",
          "y": 7,
          "yref": "y1"
         },
         {
          "align": "left",
          "font": {
           "color": "#000000",
           "size": 15
          },
          "showarrow": false,
          "text": "",
          "x": 8.55,
          "xanchor": "left",
          "xref": "x1",
          "y": 7,
          "yref": "y1"
         }
        ],
        "height": 290,
        "margin": {
         "b": 0,
         "l": 0,
         "r": 0,
         "t": 0
        },
        "xaxis": {
         "dtick": 1,
         "gridwidth": 2,
         "showticklabels": false,
         "tick0": -0.5,
         "ticks": "",
         "zeroline": false
        },
        "yaxis": {
         "autorange": "reversed",
         "dtick": 1,
         "gridwidth": 2,
         "showticklabels": false,
         "tick0": 0.5,
         "ticks": "",
         "zeroline": false
        }
       }
      },
      "text/html": [
       "<div id=\"217a9841-031c-4775-85c0-01ff8ba8be5c\" style=\"height: 290px; width: 100%;\" class=\"plotly-graph-div\"></div><script type=\"text/javascript\">require([\"plotly\"], function(Plotly) { window.PLOTLYENV=window.PLOTLYENV || {};window.PLOTLYENV.BASE_URL=\"https://plot.ly\";Plotly.newPlot(\"217a9841-031c-4775-85c0-01ff8ba8be5c\", [{\"opacity\": 0.75, \"colorscale\": [[0, \"#00083e\"], [0.5, \"#ededee\"], [1, \"#ffffff\"]], \"showscale\": false, \"hoverinfo\": \"none\", \"z\": [[0, 0, 0, 0, 0, 0, 0, 0, 0, 0], [0, 0.5, 0.5, 0.5, 0.5, 0.5, 0.5, 0.5, 0.5, 0.5], [0, 1, 1, 1, 1, 1, 1, 1, 1, 1], [0, 0.5, 0.5, 0.5, 0.5, 0.5, 0.5, 0.5, 0.5, 0.5], [0, 1, 1, 1, 1, 1, 1, 1, 1, 1], [0, 0.5, 0.5, 0.5, 0.5, 0.5, 0.5, 0.5, 0.5, 0.5], [0, 1, 1, 1, 1, 1, 1, 1, 1, 1], [0, 0.5, 0.5, 0.5, 0.5, 0.5, 0.5, 0.5, 0.5, 0.5]], \"type\": \"heatmap\"}], {\"yaxis\": {\"showticklabels\": false, \"tick0\": 0.5, \"ticks\": \"\", \"gridwidth\": 2, \"dtick\": 1, \"zeroline\": false, \"autorange\": \"reversed\"}, \"margin\": {\"r\": 0, \"b\": 0, \"l\": 0, \"t\": 0}, \"annotations\": [{\"xref\": \"x1\", \"xanchor\": \"left\", \"yref\": \"y1\", \"text\": \"<b>Probability</b>\", \"align\": \"left\", \"y\": 0, \"x\": -0.45, \"font\": {\"color\": \"#ffffff\", \"size\": 15}, \"showarrow\": false}, {\"xref\": \"x1\", \"xanchor\": \"left\", \"yref\": \"y1\", \"text\": \"<b>UA: N=50</b>\", \"align\": \"left\", \"y\": 0, \"x\": 0.55, \"font\": {\"color\": \"#ffffff\", \"size\": 15}, \"showarrow\": false}, {\"xref\": \"x1\", \"xanchor\": \"left\", \"yref\": \"y1\", \"text\": \"<b>UA: N=75</b>\", \"align\": \"left\", \"y\": 0, \"x\": 1.55, \"font\": {\"color\": \"#ffffff\", \"size\": 15}, \"showarrow\": false}, {\"xref\": \"x1\", \"xanchor\": \"left\", \"yref\": \"y1\", \"text\": \"<b>UA: N=100 |</b>\", \"align\": \"left\", \"y\": 0, \"x\": 2.55, \"font\": {\"color\": \"#ffffff\", \"size\": 15}, \"showarrow\": false}, {\"xref\": \"x1\", \"xanchor\": \"left\", \"yref\": \"y1\", \"text\": \"<b>BA: N=50</b>\", \"align\": \"left\", \"y\": 0, \"x\": 3.55, \"font\": {\"color\": \"#ffffff\", \"size\": 15}, \"showarrow\": false}, {\"xref\": \"x1\", \"xanchor\": \"left\", \"yref\": \"y1\", \"text\": \"<b>BA: N=75</b>\", \"align\": \"left\", \"y\": 0, \"x\": 4.55, \"font\": {\"color\": \"#ffffff\", \"size\": 15}, \"showarrow\": false}, {\"xref\": \"x1\", \"xanchor\": \"left\", \"yref\": \"y1\", \"text\": \"<b>BA: N=100 |</b>\", \"align\": \"left\", \"y\": 0, \"x\": 5.55, \"font\": {\"color\": \"#ffffff\", \"size\": 15}, \"showarrow\": false}, {\"xref\": \"x1\", \"xanchor\": \"left\", \"yref\": \"y1\", \"text\": \"<b>P3R: N=50</b>\", \"align\": \"left\", \"y\": 0, \"x\": 6.55, \"font\": {\"color\": \"#ffffff\", \"size\": 15}, \"showarrow\": false}, {\"xref\": \"x1\", \"xanchor\": \"left\", \"yref\": \"y1\", \"text\": \"<b>P3R: N=75</b>\", \"align\": \"left\", \"y\": 0, \"x\": 7.55, \"font\": {\"color\": \"#ffffff\", \"size\": 15}, \"showarrow\": false}, {\"xref\": \"x1\", \"xanchor\": \"left\", \"yref\": \"y1\", \"text\": \"<b>P3r: N=100</b>\", \"align\": \"left\", \"y\": 0, \"x\": 8.55, \"font\": {\"color\": \"#ffffff\", \"size\": 15}, \"showarrow\": false}, {\"xref\": \"x1\", \"xanchor\": \"left\", \"yref\": \"y1\", \"text\": \"<b>0.8</b>\", \"align\": \"left\", \"y\": 1, \"x\": -0.45, \"font\": {\"color\": \"#ffffff\", \"size\": 15}, \"showarrow\": false}, {\"xref\": \"x1\", \"xanchor\": \"left\", \"yref\": \"y1\", \"text\": \"7\", \"align\": \"left\", \"y\": 1, \"x\": 0.55, \"font\": {\"color\": \"#000000\", \"size\": 15}, \"showarrow\": false}, {\"xref\": \"x1\", \"xanchor\": \"left\", \"yref\": \"y1\", \"text\": \"7\", \"align\": \"left\", \"y\": 1, \"x\": 1.55, \"font\": {\"color\": \"#000000\", \"size\": 15}, \"showarrow\": false}, {\"xref\": \"x1\", \"xanchor\": \"left\", \"yref\": \"y1\", \"text\": \"6\", \"align\": \"left\", \"y\": 1, \"x\": 2.55, \"font\": {\"color\": \"#000000\", \"size\": 15}, \"showarrow\": false}, {\"xref\": \"x1\", \"xanchor\": \"left\", \"yref\": \"y1\", \"text\": \"5\", \"align\": \"left\", \"y\": 1, \"x\": 3.55, \"font\": {\"color\": \"#000000\", \"size\": 15}, \"showarrow\": false}, {\"xref\": \"x1\", \"xanchor\": \"left\", \"yref\": \"y1\", \"text\": \"6\", \"align\": \"left\", \"y\": 1, \"x\": 4.55, \"font\": {\"color\": \"#000000\", \"size\": 15}, \"showarrow\": false}, {\"xref\": \"x1\", \"xanchor\": \"left\", \"yref\": \"y1\", \"text\": \"6\", \"align\": \"left\", \"y\": 1, \"x\": 5.55, \"font\": {\"color\": \"#000000\", \"size\": 15}, \"showarrow\": false}, {\"xref\": \"x1\", \"xanchor\": \"left\", \"yref\": \"y1\", \"text\": \"6\", \"align\": \"left\", \"y\": 1, \"x\": 6.55, \"font\": {\"color\": \"#000000\", \"size\": 15}, \"showarrow\": false}, {\"xref\": \"x1\", \"xanchor\": \"left\", \"yref\": \"y1\", \"text\": \"7\", \"align\": \"left\", \"y\": 1, \"x\": 7.55, \"font\": {\"color\": \"#000000\", \"size\": 15}, \"showarrow\": false}, {\"xref\": \"x1\", \"xanchor\": \"left\", \"yref\": \"y1\", \"text\": \"8\", \"align\": \"left\", \"y\": 1, \"x\": 8.55, \"font\": {\"color\": \"#000000\", \"size\": 15}, \"showarrow\": false}, {\"xref\": \"x1\", \"xanchor\": \"left\", \"yref\": \"y1\", \"text\": \"<b>0.85</b>\", \"align\": \"left\", \"y\": 2, \"x\": -0.45, \"font\": {\"color\": \"#ffffff\", \"size\": 15}, \"showarrow\": false}, {\"xref\": \"x1\", \"xanchor\": \"left\", \"yref\": \"y1\", \"text\": \"7\", \"align\": \"left\", \"y\": 2, \"x\": 0.55, \"font\": {\"color\": \"#000000\", \"size\": 15}, \"showarrow\": false}, {\"xref\": \"x1\", \"xanchor\": \"left\", \"yref\": \"y1\", \"text\": \"8\", \"align\": \"left\", \"y\": 2, \"x\": 1.55, \"font\": {\"color\": \"#000000\", \"size\": 15}, \"showarrow\": false}, {\"xref\": \"x1\", \"xanchor\": \"left\", \"yref\": \"y1\", \"text\": \"6\", \"align\": \"left\", \"y\": 2, \"x\": 2.55, \"font\": {\"color\": \"#000000\", \"size\": 15}, \"showarrow\": false}, {\"xref\": \"x1\", \"xanchor\": \"left\", \"yref\": \"y1\", \"text\": \"6\", \"align\": \"left\", \"y\": 2, \"x\": 3.55, \"font\": {\"color\": \"#000000\", \"size\": 15}, \"showarrow\": false}, {\"xref\": \"x1\", \"xanchor\": \"left\", \"yref\": \"y1\", \"text\": \"6\", \"align\": \"left\", \"y\": 2, \"x\": 4.55, \"font\": {\"color\": \"#000000\", \"size\": 15}, \"showarrow\": false}, {\"xref\": \"x1\", \"xanchor\": \"left\", \"yref\": \"y1\", \"text\": \"14\", \"align\": \"left\", \"y\": 2, \"x\": 5.55, \"font\": {\"color\": \"#000000\", \"size\": 15}, \"showarrow\": false}, {\"xref\": \"x1\", \"xanchor\": \"left\", \"yref\": \"y1\", \"text\": \"7\", \"align\": \"left\", \"y\": 2, \"x\": 6.55, \"font\": {\"color\": \"#000000\", \"size\": 15}, \"showarrow\": false}, {\"xref\": \"x1\", \"xanchor\": \"left\", \"yref\": \"y1\", \"text\": \"8\", \"align\": \"left\", \"y\": 2, \"x\": 7.55, \"font\": {\"color\": \"#000000\", \"size\": 15}, \"showarrow\": false}, {\"xref\": \"x1\", \"xanchor\": \"left\", \"yref\": \"y1\", \"text\": \"9\", \"align\": \"left\", \"y\": 2, \"x\": 8.55, \"font\": {\"color\": \"#000000\", \"size\": 15}, \"showarrow\": false}, {\"xref\": \"x1\", \"xanchor\": \"left\", \"yref\": \"y1\", \"text\": \"<b>0.9</b>\", \"align\": \"left\", \"y\": 3, \"x\": -0.45, \"font\": {\"color\": \"#ffffff\", \"size\": 15}, \"showarrow\": false}, {\"xref\": \"x1\", \"xanchor\": \"left\", \"yref\": \"y1\", \"text\": \"8\", \"align\": \"left\", \"y\": 3, \"x\": 0.55, \"font\": {\"color\": \"#000000\", \"size\": 15}, \"showarrow\": false}, {\"xref\": \"x1\", \"xanchor\": \"left\", \"yref\": \"y1\", \"text\": \"17\", \"align\": \"left\", \"y\": 3, \"x\": 1.55, \"font\": {\"color\": \"#000000\", \"size\": 15}, \"showarrow\": false}, {\"xref\": \"x1\", \"xanchor\": \"left\", \"yref\": \"y1\", \"text\": \"12\", \"align\": \"left\", \"y\": 3, \"x\": 2.55, \"font\": {\"color\": \"#000000\", \"size\": 15}, \"showarrow\": false}, {\"xref\": \"x1\", \"xanchor\": \"left\", \"yref\": \"y1\", \"text\": \"6\", \"align\": \"left\", \"y\": 3, \"x\": 3.55, \"font\": {\"color\": \"#000000\", \"size\": 15}, \"showarrow\": false}, {\"xref\": \"x1\", \"xanchor\": \"left\", \"yref\": \"y1\", \"text\": \"7\", \"align\": \"left\", \"y\": 3, \"x\": 4.55, \"font\": {\"color\": \"#000000\", \"size\": 15}, \"showarrow\": false}, {\"xref\": \"x1\", \"xanchor\": \"left\", \"yref\": \"y1\", \"text\": \"19\", \"align\": \"left\", \"y\": 3, \"x\": 5.55, \"font\": {\"color\": \"#000000\", \"size\": 15}, \"showarrow\": false}, {\"xref\": \"x1\", \"xanchor\": \"left\", \"yref\": \"y1\", \"text\": \"8\", \"align\": \"left\", \"y\": 3, \"x\": 6.55, \"font\": {\"color\": \"#000000\", \"size\": 15}, \"showarrow\": false}, {\"xref\": \"x1\", \"xanchor\": \"left\", \"yref\": \"y1\", \"text\": \"11\", \"align\": \"left\", \"y\": 3, \"x\": 7.55, \"font\": {\"color\": \"#000000\", \"size\": 15}, \"showarrow\": false}, {\"xref\": \"x1\", \"xanchor\": \"left\", \"yref\": \"y1\", \"text\": \"11\", \"align\": \"left\", \"y\": 3, \"x\": 8.55, \"font\": {\"color\": \"#000000\", \"size\": 15}, \"showarrow\": false}, {\"xref\": \"x1\", \"xanchor\": \"left\", \"yref\": \"y1\", \"text\": \"<b>0.95</b>\", \"align\": \"left\", \"y\": 4, \"x\": -0.45, \"font\": {\"color\": \"#ffffff\", \"size\": 15}, \"showarrow\": false}, {\"xref\": \"x1\", \"xanchor\": \"left\", \"yref\": \"y1\", \"text\": \"14\", \"align\": \"left\", \"y\": 4, \"x\": 0.55, \"font\": {\"color\": \"#000000\", \"size\": 15}, \"showarrow\": false}, {\"xref\": \"x1\", \"xanchor\": \"left\", \"yref\": \"y1\", \"text\": \"25\", \"align\": \"left\", \"y\": 4, \"x\": 1.55, \"font\": {\"color\": \"#000000\", \"size\": 15}, \"showarrow\": false}, {\"xref\": \"x1\", \"xanchor\": \"left\", \"yref\": \"y1\", \"text\": \"22\", \"align\": \"left\", \"y\": 4, \"x\": 2.55, \"font\": {\"color\": \"#000000\", \"size\": 15}, \"showarrow\": false}, {\"xref\": \"x1\", \"xanchor\": \"left\", \"yref\": \"y1\", \"text\": \"10\", \"align\": \"left\", \"y\": 4, \"x\": 3.55, \"font\": {\"color\": \"#000000\", \"size\": 15}, \"showarrow\": false}, {\"xref\": \"x1\", \"xanchor\": \"left\", \"yref\": \"y1\", \"text\": \"12\", \"align\": \"left\", \"y\": 4, \"x\": 4.55, \"font\": {\"color\": \"#000000\", \"size\": 15}, \"showarrow\": false}, {\"xref\": \"x1\", \"xanchor\": \"left\", \"yref\": \"y1\", \"text\": \"28\", \"align\": \"left\", \"y\": 4, \"x\": 5.55, \"font\": {\"color\": \"#000000\", \"size\": 15}, \"showarrow\": false}, {\"xref\": \"x1\", \"xanchor\": \"left\", \"yref\": \"y1\", \"text\": \"9\", \"align\": \"left\", \"y\": 4, \"x\": 6.55, \"font\": {\"color\": \"#000000\", \"size\": 15}, \"showarrow\": false}, {\"xref\": \"x1\", \"xanchor\": \"left\", \"yref\": \"y1\", \"text\": \"12\", \"align\": \"left\", \"y\": 4, \"x\": 7.55, \"font\": {\"color\": \"#000000\", \"size\": 15}, \"showarrow\": false}, {\"xref\": \"x1\", \"xanchor\": \"left\", \"yref\": \"y1\", \"text\": \"11\", \"align\": \"left\", \"y\": 4, \"x\": 8.55, \"font\": {\"color\": \"#000000\", \"size\": 15}, \"showarrow\": false}, {\"xref\": \"x1\", \"xanchor\": \"left\", \"yref\": \"y1\", \"text\": \"<b>0.975</b>\", \"align\": \"left\", \"y\": 5, \"x\": -0.45, \"font\": {\"color\": \"#ffffff\", \"size\": 15}, \"showarrow\": false}, {\"xref\": \"x1\", \"xanchor\": \"left\", \"yref\": \"y1\", \"text\": \"14\", \"align\": \"left\", \"y\": 5, \"x\": 0.55, \"font\": {\"color\": \"#000000\", \"size\": 15}, \"showarrow\": false}, {\"xref\": \"x1\", \"xanchor\": \"left\", \"yref\": \"y1\", \"text\": \"28\", \"align\": \"left\", \"y\": 5, \"x\": 1.55, \"font\": {\"color\": \"#000000\", \"size\": 15}, \"showarrow\": false}, {\"xref\": \"x1\", \"xanchor\": \"left\", \"yref\": \"y1\", \"text\": \"25\", \"align\": \"left\", \"y\": 5, \"x\": 2.55, \"font\": {\"color\": \"#000000\", \"size\": 15}, \"showarrow\": false}, {\"xref\": \"x1\", \"xanchor\": \"left\", \"yref\": \"y1\", \"text\": \"11\", \"align\": \"left\", \"y\": 5, \"x\": 3.55, \"font\": {\"color\": \"#000000\", \"size\": 15}, \"showarrow\": false}, {\"xref\": \"x1\", \"xanchor\": \"left\", \"yref\": \"y1\", \"text\": \"21\", \"align\": \"left\", \"y\": 5, \"x\": 4.55, \"font\": {\"color\": \"#000000\", \"size\": 15}, \"showarrow\": false}, {\"xref\": \"x1\", \"xanchor\": \"left\", \"yref\": \"y1\", \"text\": \"39\", \"align\": \"left\", \"y\": 5, \"x\": 5.55, \"font\": {\"color\": \"#000000\", \"size\": 15}, \"showarrow\": false}, {\"xref\": \"x1\", \"xanchor\": \"left\", \"yref\": \"y1\", \"text\": \"10\", \"align\": \"left\", \"y\": 5, \"x\": 6.55, \"font\": {\"color\": \"#000000\", \"size\": 15}, \"showarrow\": false}, {\"xref\": \"x1\", \"xanchor\": \"left\", \"yref\": \"y1\", \"text\": \"17\", \"align\": \"left\", \"y\": 5, \"x\": 7.55, \"font\": {\"color\": \"#000000\", \"size\": 15}, \"showarrow\": false}, {\"xref\": \"x1\", \"xanchor\": \"left\", \"yref\": \"y1\", \"text\": \"15\", \"align\": \"left\", \"y\": 5, \"x\": 8.55, \"font\": {\"color\": \"#000000\", \"size\": 15}, \"showarrow\": false}, {\"xref\": \"x1\", \"xanchor\": \"left\", \"yref\": \"y1\", \"text\": \"<b>0.99</b>\", \"align\": \"left\", \"y\": 6, \"x\": -0.45, \"font\": {\"color\": \"#ffffff\", \"size\": 15}, \"showarrow\": false}, {\"xref\": \"x1\", \"xanchor\": \"left\", \"yref\": \"y1\", \"text\": \"15\", \"align\": \"left\", \"y\": 6, \"x\": 0.55, \"font\": {\"color\": \"#000000\", \"size\": 15}, \"showarrow\": false}, {\"xref\": \"x1\", \"xanchor\": \"left\", \"yref\": \"y1\", \"text\": \"44\", \"align\": \"left\", \"y\": 6, \"x\": 1.55, \"font\": {\"color\": \"#000000\", \"size\": 15}, \"showarrow\": false}, {\"xref\": \"x1\", \"xanchor\": \"left\", \"yref\": \"y1\", \"text\": \"35\", \"align\": \"left\", \"y\": 6, \"x\": 2.55, \"font\": {\"color\": \"#000000\", \"size\": 15}, \"showarrow\": false}, {\"xref\": \"x1\", \"xanchor\": \"left\", \"yref\": \"y1\", \"text\": \"21\", \"align\": \"left\", \"y\": 6, \"x\": 3.55, \"font\": {\"color\": \"#000000\", \"size\": 15}, \"showarrow\": false}, {\"xref\": \"x1\", \"xanchor\": \"left\", \"yref\": \"y1\", \"text\": \"26\", \"align\": \"left\", \"y\": 6, \"x\": 4.55, \"font\": {\"color\": \"#000000\", \"size\": 15}, \"showarrow\": false}, {\"xref\": \"x1\", \"xanchor\": \"left\", \"yref\": \"y1\", \"text\": \"57\", \"align\": \"left\", \"y\": 6, \"x\": 5.55, \"font\": {\"color\": \"#000000\", \"size\": 15}, \"showarrow\": false}, {\"xref\": \"x1\", \"xanchor\": \"left\", \"yref\": \"y1\", \"text\": \"10\", \"align\": \"left\", \"y\": 6, \"x\": 6.55, \"font\": {\"color\": \"#000000\", \"size\": 15}, \"showarrow\": false}, {\"xref\": \"x1\", \"xanchor\": \"left\", \"yref\": \"y1\", \"text\": \"24\", \"align\": \"left\", \"y\": 6, \"x\": 7.55, \"font\": {\"color\": \"#000000\", \"size\": 15}, \"showarrow\": false}, {\"xref\": \"x1\", \"xanchor\": \"left\", \"yref\": \"y1\", \"text\": \"24\", \"align\": \"left\", \"y\": 6, \"x\": 8.55, \"font\": {\"color\": \"#000000\", \"size\": 15}, \"showarrow\": false}, {\"xref\": \"x1\", \"xanchor\": \"left\", \"yref\": \"y1\", \"text\": \"<b></b>\", \"align\": \"left\", \"y\": 7, \"x\": -0.45, \"font\": {\"color\": \"#ffffff\", \"size\": 15}, \"showarrow\": false}, {\"xref\": \"x1\", \"xanchor\": \"left\", \"yref\": \"y1\", \"text\": \"\", \"align\": \"left\", \"y\": 7, \"x\": 0.55, \"font\": {\"color\": \"#000000\", \"size\": 15}, \"showarrow\": false}, {\"xref\": \"x1\", \"xanchor\": \"left\", \"yref\": \"y1\", \"text\": \"\", \"align\": \"left\", \"y\": 7, \"x\": 1.55, \"font\": {\"color\": \"#000000\", \"size\": 15}, \"showarrow\": false}, {\"xref\": \"x1\", \"xanchor\": \"left\", \"yref\": \"y1\", \"text\": \"\", \"align\": \"left\", \"y\": 7, \"x\": 2.55, \"font\": {\"color\": \"#000000\", \"size\": 15}, \"showarrow\": false}, {\"xref\": \"x1\", \"xanchor\": \"left\", \"yref\": \"y1\", \"text\": \"\", \"align\": \"left\", \"y\": 7, \"x\": 3.55, \"font\": {\"color\": \"#000000\", \"size\": 15}, \"showarrow\": false}, {\"xref\": \"x1\", \"xanchor\": \"left\", \"yref\": \"y1\", \"text\": \"\", \"align\": \"left\", \"y\": 7, \"x\": 4.55, \"font\": {\"color\": \"#000000\", \"size\": 15}, \"showarrow\": false}, {\"xref\": \"x1\", \"xanchor\": \"left\", \"yref\": \"y1\", \"text\": \"\", \"align\": \"left\", \"y\": 7, \"x\": 5.55, \"font\": {\"color\": \"#000000\", \"size\": 15}, \"showarrow\": false}, {\"xref\": \"x1\", \"xanchor\": \"left\", \"yref\": \"y1\", \"text\": \"\", \"align\": \"left\", \"y\": 7, \"x\": 6.55, \"font\": {\"color\": \"#000000\", \"size\": 15}, \"showarrow\": false}, {\"xref\": \"x1\", \"xanchor\": \"left\", \"yref\": \"y1\", \"text\": \"\", \"align\": \"left\", \"y\": 7, \"x\": 7.55, \"font\": {\"color\": \"#000000\", \"size\": 15}, \"showarrow\": false}, {\"xref\": \"x1\", \"xanchor\": \"left\", \"yref\": \"y1\", \"text\": \"\", \"align\": \"left\", \"y\": 7, \"x\": 8.55, \"font\": {\"color\": \"#000000\", \"size\": 15}, \"showarrow\": false}], \"xaxis\": {\"showticklabels\": false, \"tick0\": -0.5, \"ticks\": \"\", \"gridwidth\": 2, \"dtick\": 1, \"zeroline\": false}, \"height\": 290}, {\"linkText\": \"Export to plot.ly\", \"showLink\": true})});</script>"
      ],
      "text/vnd.plotly.v1+html": [
       "<div id=\"217a9841-031c-4775-85c0-01ff8ba8be5c\" style=\"height: 290px; width: 100%;\" class=\"plotly-graph-div\"></div><script type=\"text/javascript\">require([\"plotly\"], function(Plotly) { window.PLOTLYENV=window.PLOTLYENV || {};window.PLOTLYENV.BASE_URL=\"https://plot.ly\";Plotly.newPlot(\"217a9841-031c-4775-85c0-01ff8ba8be5c\", [{\"opacity\": 0.75, \"colorscale\": [[0, \"#00083e\"], [0.5, \"#ededee\"], [1, \"#ffffff\"]], \"showscale\": false, \"hoverinfo\": \"none\", \"z\": [[0, 0, 0, 0, 0, 0, 0, 0, 0, 0], [0, 0.5, 0.5, 0.5, 0.5, 0.5, 0.5, 0.5, 0.5, 0.5], [0, 1, 1, 1, 1, 1, 1, 1, 1, 1], [0, 0.5, 0.5, 0.5, 0.5, 0.5, 0.5, 0.5, 0.5, 0.5], [0, 1, 1, 1, 1, 1, 1, 1, 1, 1], [0, 0.5, 0.5, 0.5, 0.5, 0.5, 0.5, 0.5, 0.5, 0.5], [0, 1, 1, 1, 1, 1, 1, 1, 1, 1], [0, 0.5, 0.5, 0.5, 0.5, 0.5, 0.5, 0.5, 0.5, 0.5]], \"type\": \"heatmap\"}], {\"yaxis\": {\"showticklabels\": false, \"tick0\": 0.5, \"ticks\": \"\", \"gridwidth\": 2, \"dtick\": 1, \"zeroline\": false, \"autorange\": \"reversed\"}, \"margin\": {\"r\": 0, \"b\": 0, \"l\": 0, \"t\": 0}, \"annotations\": [{\"xref\": \"x1\", \"xanchor\": \"left\", \"yref\": \"y1\", \"text\": \"<b>Probability</b>\", \"align\": \"left\", \"y\": 0, \"x\": -0.45, \"font\": {\"color\": \"#ffffff\", \"size\": 15}, \"showarrow\": false}, {\"xref\": \"x1\", \"xanchor\": \"left\", \"yref\": \"y1\", \"text\": \"<b>UA: N=50</b>\", \"align\": \"left\", \"y\": 0, \"x\": 0.55, \"font\": {\"color\": \"#ffffff\", \"size\": 15}, \"showarrow\": false}, {\"xref\": \"x1\", \"xanchor\": \"left\", \"yref\": \"y1\", \"text\": \"<b>UA: N=75</b>\", \"align\": \"left\", \"y\": 0, \"x\": 1.55, \"font\": {\"color\": \"#ffffff\", \"size\": 15}, \"showarrow\": false}, {\"xref\": \"x1\", \"xanchor\": \"left\", \"yref\": \"y1\", \"text\": \"<b>UA: N=100 |</b>\", \"align\": \"left\", \"y\": 0, \"x\": 2.55, \"font\": {\"color\": \"#ffffff\", \"size\": 15}, \"showarrow\": false}, {\"xref\": \"x1\", \"xanchor\": \"left\", \"yref\": \"y1\", \"text\": \"<b>BA: N=50</b>\", \"align\": \"left\", \"y\": 0, \"x\": 3.55, \"font\": {\"color\": \"#ffffff\", \"size\": 15}, \"showarrow\": false}, {\"xref\": \"x1\", \"xanchor\": \"left\", \"yref\": \"y1\", \"text\": \"<b>BA: N=75</b>\", \"align\": \"left\", \"y\": 0, \"x\": 4.55, \"font\": {\"color\": \"#ffffff\", \"size\": 15}, \"showarrow\": false}, {\"xref\": \"x1\", \"xanchor\": \"left\", \"yref\": \"y1\", \"text\": \"<b>BA: N=100 |</b>\", \"align\": \"left\", \"y\": 0, \"x\": 5.55, \"font\": {\"color\": \"#ffffff\", \"size\": 15}, \"showarrow\": false}, {\"xref\": \"x1\", \"xanchor\": \"left\", \"yref\": \"y1\", \"text\": \"<b>P3R: N=50</b>\", \"align\": \"left\", \"y\": 0, \"x\": 6.55, \"font\": {\"color\": \"#ffffff\", \"size\": 15}, \"showarrow\": false}, {\"xref\": \"x1\", \"xanchor\": \"left\", \"yref\": \"y1\", \"text\": \"<b>P3R: N=75</b>\", \"align\": \"left\", \"y\": 0, \"x\": 7.55, \"font\": {\"color\": \"#ffffff\", \"size\": 15}, \"showarrow\": false}, {\"xref\": \"x1\", \"xanchor\": \"left\", \"yref\": \"y1\", \"text\": \"<b>P3r: N=100</b>\", \"align\": \"left\", \"y\": 0, \"x\": 8.55, \"font\": {\"color\": \"#ffffff\", \"size\": 15}, \"showarrow\": false}, {\"xref\": \"x1\", \"xanchor\": \"left\", \"yref\": \"y1\", \"text\": \"<b>0.8</b>\", \"align\": \"left\", \"y\": 1, \"x\": -0.45, \"font\": {\"color\": \"#ffffff\", \"size\": 15}, \"showarrow\": false}, {\"xref\": \"x1\", \"xanchor\": \"left\", \"yref\": \"y1\", \"text\": \"7\", \"align\": \"left\", \"y\": 1, \"x\": 0.55, \"font\": {\"color\": \"#000000\", \"size\": 15}, \"showarrow\": false}, {\"xref\": \"x1\", \"xanchor\": \"left\", \"yref\": \"y1\", \"text\": \"7\", \"align\": \"left\", \"y\": 1, \"x\": 1.55, \"font\": {\"color\": \"#000000\", \"size\": 15}, \"showarrow\": false}, {\"xref\": \"x1\", \"xanchor\": \"left\", \"yref\": \"y1\", \"text\": \"6\", \"align\": \"left\", \"y\": 1, \"x\": 2.55, \"font\": {\"color\": \"#000000\", \"size\": 15}, \"showarrow\": false}, {\"xref\": \"x1\", \"xanchor\": \"left\", \"yref\": \"y1\", \"text\": \"5\", \"align\": \"left\", \"y\": 1, \"x\": 3.55, \"font\": {\"color\": \"#000000\", \"size\": 15}, \"showarrow\": false}, {\"xref\": \"x1\", \"xanchor\": \"left\", \"yref\": \"y1\", \"text\": \"6\", \"align\": \"left\", \"y\": 1, \"x\": 4.55, \"font\": {\"color\": \"#000000\", \"size\": 15}, \"showarrow\": false}, {\"xref\": \"x1\", \"xanchor\": \"left\", \"yref\": \"y1\", \"text\": \"6\", \"align\": \"left\", \"y\": 1, \"x\": 5.55, \"font\": {\"color\": \"#000000\", \"size\": 15}, \"showarrow\": false}, {\"xref\": \"x1\", \"xanchor\": \"left\", \"yref\": \"y1\", \"text\": \"6\", \"align\": \"left\", \"y\": 1, \"x\": 6.55, \"font\": {\"color\": \"#000000\", \"size\": 15}, \"showarrow\": false}, {\"xref\": \"x1\", \"xanchor\": \"left\", \"yref\": \"y1\", \"text\": \"7\", \"align\": \"left\", \"y\": 1, \"x\": 7.55, \"font\": {\"color\": \"#000000\", \"size\": 15}, \"showarrow\": false}, {\"xref\": \"x1\", \"xanchor\": \"left\", \"yref\": \"y1\", \"text\": \"8\", \"align\": \"left\", \"y\": 1, \"x\": 8.55, \"font\": {\"color\": \"#000000\", \"size\": 15}, \"showarrow\": false}, {\"xref\": \"x1\", \"xanchor\": \"left\", \"yref\": \"y1\", \"text\": \"<b>0.85</b>\", \"align\": \"left\", \"y\": 2, \"x\": -0.45, \"font\": {\"color\": \"#ffffff\", \"size\": 15}, \"showarrow\": false}, {\"xref\": \"x1\", \"xanchor\": \"left\", \"yref\": \"y1\", \"text\": \"7\", \"align\": \"left\", \"y\": 2, \"x\": 0.55, \"font\": {\"color\": \"#000000\", \"size\": 15}, \"showarrow\": false}, {\"xref\": \"x1\", \"xanchor\": \"left\", \"yref\": \"y1\", \"text\": \"8\", \"align\": \"left\", \"y\": 2, \"x\": 1.55, \"font\": {\"color\": \"#000000\", \"size\": 15}, \"showarrow\": false}, {\"xref\": \"x1\", \"xanchor\": \"left\", \"yref\": \"y1\", \"text\": \"6\", \"align\": \"left\", \"y\": 2, \"x\": 2.55, \"font\": {\"color\": \"#000000\", \"size\": 15}, \"showarrow\": false}, {\"xref\": \"x1\", \"xanchor\": \"left\", \"yref\": \"y1\", \"text\": \"6\", \"align\": \"left\", \"y\": 2, \"x\": 3.55, \"font\": {\"color\": \"#000000\", \"size\": 15}, \"showarrow\": false}, {\"xref\": \"x1\", \"xanchor\": \"left\", \"yref\": \"y1\", \"text\": \"6\", \"align\": \"left\", \"y\": 2, \"x\": 4.55, \"font\": {\"color\": \"#000000\", \"size\": 15}, \"showarrow\": false}, {\"xref\": \"x1\", \"xanchor\": \"left\", \"yref\": \"y1\", \"text\": \"14\", \"align\": \"left\", \"y\": 2, \"x\": 5.55, \"font\": {\"color\": \"#000000\", \"size\": 15}, \"showarrow\": false}, {\"xref\": \"x1\", \"xanchor\": \"left\", \"yref\": \"y1\", \"text\": \"7\", \"align\": \"left\", \"y\": 2, \"x\": 6.55, \"font\": {\"color\": \"#000000\", \"size\": 15}, \"showarrow\": false}, {\"xref\": \"x1\", \"xanchor\": \"left\", \"yref\": \"y1\", \"text\": \"8\", \"align\": \"left\", \"y\": 2, \"x\": 7.55, \"font\": {\"color\": \"#000000\", \"size\": 15}, \"showarrow\": false}, {\"xref\": \"x1\", \"xanchor\": \"left\", \"yref\": \"y1\", \"text\": \"9\", \"align\": \"left\", \"y\": 2, \"x\": 8.55, \"font\": {\"color\": \"#000000\", \"size\": 15}, \"showarrow\": false}, {\"xref\": \"x1\", \"xanchor\": \"left\", \"yref\": \"y1\", \"text\": \"<b>0.9</b>\", \"align\": \"left\", \"y\": 3, \"x\": -0.45, \"font\": {\"color\": \"#ffffff\", \"size\": 15}, \"showarrow\": false}, {\"xref\": \"x1\", \"xanchor\": \"left\", \"yref\": \"y1\", \"text\": \"8\", \"align\": \"left\", \"y\": 3, \"x\": 0.55, \"font\": {\"color\": \"#000000\", \"size\": 15}, \"showarrow\": false}, {\"xref\": \"x1\", \"xanchor\": \"left\", \"yref\": \"y1\", \"text\": \"17\", \"align\": \"left\", \"y\": 3, \"x\": 1.55, \"font\": {\"color\": \"#000000\", \"size\": 15}, \"showarrow\": false}, {\"xref\": \"x1\", \"xanchor\": \"left\", \"yref\": \"y1\", \"text\": \"12\", \"align\": \"left\", \"y\": 3, \"x\": 2.55, \"font\": {\"color\": \"#000000\", \"size\": 15}, \"showarrow\": false}, {\"xref\": \"x1\", \"xanchor\": \"left\", \"yref\": \"y1\", \"text\": \"6\", \"align\": \"left\", \"y\": 3, \"x\": 3.55, \"font\": {\"color\": \"#000000\", \"size\": 15}, \"showarrow\": false}, {\"xref\": \"x1\", \"xanchor\": \"left\", \"yref\": \"y1\", \"text\": \"7\", \"align\": \"left\", \"y\": 3, \"x\": 4.55, \"font\": {\"color\": \"#000000\", \"size\": 15}, \"showarrow\": false}, {\"xref\": \"x1\", \"xanchor\": \"left\", \"yref\": \"y1\", \"text\": \"19\", \"align\": \"left\", \"y\": 3, \"x\": 5.55, \"font\": {\"color\": \"#000000\", \"size\": 15}, \"showarrow\": false}, {\"xref\": \"x1\", \"xanchor\": \"left\", \"yref\": \"y1\", \"text\": \"8\", \"align\": \"left\", \"y\": 3, \"x\": 6.55, \"font\": {\"color\": \"#000000\", \"size\": 15}, \"showarrow\": false}, {\"xref\": \"x1\", \"xanchor\": \"left\", \"yref\": \"y1\", \"text\": \"11\", \"align\": \"left\", \"y\": 3, \"x\": 7.55, \"font\": {\"color\": \"#000000\", \"size\": 15}, \"showarrow\": false}, {\"xref\": \"x1\", \"xanchor\": \"left\", \"yref\": \"y1\", \"text\": \"11\", \"align\": \"left\", \"y\": 3, \"x\": 8.55, \"font\": {\"color\": \"#000000\", \"size\": 15}, \"showarrow\": false}, {\"xref\": \"x1\", \"xanchor\": \"left\", \"yref\": \"y1\", \"text\": \"<b>0.95</b>\", \"align\": \"left\", \"y\": 4, \"x\": -0.45, \"font\": {\"color\": \"#ffffff\", \"size\": 15}, \"showarrow\": false}, {\"xref\": \"x1\", \"xanchor\": \"left\", \"yref\": \"y1\", \"text\": \"14\", \"align\": \"left\", \"y\": 4, \"x\": 0.55, \"font\": {\"color\": \"#000000\", \"size\": 15}, \"showarrow\": false}, {\"xref\": \"x1\", \"xanchor\": \"left\", \"yref\": \"y1\", \"text\": \"25\", \"align\": \"left\", \"y\": 4, \"x\": 1.55, \"font\": {\"color\": \"#000000\", \"size\": 15}, \"showarrow\": false}, {\"xref\": \"x1\", \"xanchor\": \"left\", \"yref\": \"y1\", \"text\": \"22\", \"align\": \"left\", \"y\": 4, \"x\": 2.55, \"font\": {\"color\": \"#000000\", \"size\": 15}, \"showarrow\": false}, {\"xref\": \"x1\", \"xanchor\": \"left\", \"yref\": \"y1\", \"text\": \"10\", \"align\": \"left\", \"y\": 4, \"x\": 3.55, \"font\": {\"color\": \"#000000\", \"size\": 15}, \"showarrow\": false}, {\"xref\": \"x1\", \"xanchor\": \"left\", \"yref\": \"y1\", \"text\": \"12\", \"align\": \"left\", \"y\": 4, \"x\": 4.55, \"font\": {\"color\": \"#000000\", \"size\": 15}, \"showarrow\": false}, {\"xref\": \"x1\", \"xanchor\": \"left\", \"yref\": \"y1\", \"text\": \"28\", \"align\": \"left\", \"y\": 4, \"x\": 5.55, \"font\": {\"color\": \"#000000\", \"size\": 15}, \"showarrow\": false}, {\"xref\": \"x1\", \"xanchor\": \"left\", \"yref\": \"y1\", \"text\": \"9\", \"align\": \"left\", \"y\": 4, \"x\": 6.55, \"font\": {\"color\": \"#000000\", \"size\": 15}, \"showarrow\": false}, {\"xref\": \"x1\", \"xanchor\": \"left\", \"yref\": \"y1\", \"text\": \"12\", \"align\": \"left\", \"y\": 4, \"x\": 7.55, \"font\": {\"color\": \"#000000\", \"size\": 15}, \"showarrow\": false}, {\"xref\": \"x1\", \"xanchor\": \"left\", \"yref\": \"y1\", \"text\": \"11\", \"align\": \"left\", \"y\": 4, \"x\": 8.55, \"font\": {\"color\": \"#000000\", \"size\": 15}, \"showarrow\": false}, {\"xref\": \"x1\", \"xanchor\": \"left\", \"yref\": \"y1\", \"text\": \"<b>0.975</b>\", \"align\": \"left\", \"y\": 5, \"x\": -0.45, \"font\": {\"color\": \"#ffffff\", \"size\": 15}, \"showarrow\": false}, {\"xref\": \"x1\", \"xanchor\": \"left\", \"yref\": \"y1\", \"text\": \"14\", \"align\": \"left\", \"y\": 5, \"x\": 0.55, \"font\": {\"color\": \"#000000\", \"size\": 15}, \"showarrow\": false}, {\"xref\": \"x1\", \"xanchor\": \"left\", \"yref\": \"y1\", \"text\": \"28\", \"align\": \"left\", \"y\": 5, \"x\": 1.55, \"font\": {\"color\": \"#000000\", \"size\": 15}, \"showarrow\": false}, {\"xref\": \"x1\", \"xanchor\": \"left\", \"yref\": \"y1\", \"text\": \"25\", \"align\": \"left\", \"y\": 5, \"x\": 2.55, \"font\": {\"color\": \"#000000\", \"size\": 15}, \"showarrow\": false}, {\"xref\": \"x1\", \"xanchor\": \"left\", \"yref\": \"y1\", \"text\": \"11\", \"align\": \"left\", \"y\": 5, \"x\": 3.55, \"font\": {\"color\": \"#000000\", \"size\": 15}, \"showarrow\": false}, {\"xref\": \"x1\", \"xanchor\": \"left\", \"yref\": \"y1\", \"text\": \"21\", \"align\": \"left\", \"y\": 5, \"x\": 4.55, \"font\": {\"color\": \"#000000\", \"size\": 15}, \"showarrow\": false}, {\"xref\": \"x1\", \"xanchor\": \"left\", \"yref\": \"y1\", \"text\": \"39\", \"align\": \"left\", \"y\": 5, \"x\": 5.55, \"font\": {\"color\": \"#000000\", \"size\": 15}, \"showarrow\": false}, {\"xref\": \"x1\", \"xanchor\": \"left\", \"yref\": \"y1\", \"text\": \"10\", \"align\": \"left\", \"y\": 5, \"x\": 6.55, \"font\": {\"color\": \"#000000\", \"size\": 15}, \"showarrow\": false}, {\"xref\": \"x1\", \"xanchor\": \"left\", \"yref\": \"y1\", \"text\": \"17\", \"align\": \"left\", \"y\": 5, \"x\": 7.55, \"font\": {\"color\": \"#000000\", \"size\": 15}, \"showarrow\": false}, {\"xref\": \"x1\", \"xanchor\": \"left\", \"yref\": \"y1\", \"text\": \"15\", \"align\": \"left\", \"y\": 5, \"x\": 8.55, \"font\": {\"color\": \"#000000\", \"size\": 15}, \"showarrow\": false}, {\"xref\": \"x1\", \"xanchor\": \"left\", \"yref\": \"y1\", \"text\": \"<b>0.99</b>\", \"align\": \"left\", \"y\": 6, \"x\": -0.45, \"font\": {\"color\": \"#ffffff\", \"size\": 15}, \"showarrow\": false}, {\"xref\": \"x1\", \"xanchor\": \"left\", \"yref\": \"y1\", \"text\": \"15\", \"align\": \"left\", \"y\": 6, \"x\": 0.55, \"font\": {\"color\": \"#000000\", \"size\": 15}, \"showarrow\": false}, {\"xref\": \"x1\", \"xanchor\": \"left\", \"yref\": \"y1\", \"text\": \"44\", \"align\": \"left\", \"y\": 6, \"x\": 1.55, \"font\": {\"color\": \"#000000\", \"size\": 15}, \"showarrow\": false}, {\"xref\": \"x1\", \"xanchor\": \"left\", \"yref\": \"y1\", \"text\": \"35\", \"align\": \"left\", \"y\": 6, \"x\": 2.55, \"font\": {\"color\": \"#000000\", \"size\": 15}, \"showarrow\": false}, {\"xref\": \"x1\", \"xanchor\": \"left\", \"yref\": \"y1\", \"text\": \"21\", \"align\": \"left\", \"y\": 6, \"x\": 3.55, \"font\": {\"color\": \"#000000\", \"size\": 15}, \"showarrow\": false}, {\"xref\": \"x1\", \"xanchor\": \"left\", \"yref\": \"y1\", \"text\": \"26\", \"align\": \"left\", \"y\": 6, \"x\": 4.55, \"font\": {\"color\": \"#000000\", \"size\": 15}, \"showarrow\": false}, {\"xref\": \"x1\", \"xanchor\": \"left\", \"yref\": \"y1\", \"text\": \"57\", \"align\": \"left\", \"y\": 6, \"x\": 5.55, \"font\": {\"color\": \"#000000\", \"size\": 15}, \"showarrow\": false}, {\"xref\": \"x1\", \"xanchor\": \"left\", \"yref\": \"y1\", \"text\": \"10\", \"align\": \"left\", \"y\": 6, \"x\": 6.55, \"font\": {\"color\": \"#000000\", \"size\": 15}, \"showarrow\": false}, {\"xref\": \"x1\", \"xanchor\": \"left\", \"yref\": \"y1\", \"text\": \"24\", \"align\": \"left\", \"y\": 6, \"x\": 7.55, \"font\": {\"color\": \"#000000\", \"size\": 15}, \"showarrow\": false}, {\"xref\": \"x1\", \"xanchor\": \"left\", \"yref\": \"y1\", \"text\": \"24\", \"align\": \"left\", \"y\": 6, \"x\": 8.55, \"font\": {\"color\": \"#000000\", \"size\": 15}, \"showarrow\": false}, {\"xref\": \"x1\", \"xanchor\": \"left\", \"yref\": \"y1\", \"text\": \"<b></b>\", \"align\": \"left\", \"y\": 7, \"x\": -0.45, \"font\": {\"color\": \"#ffffff\", \"size\": 15}, \"showarrow\": false}, {\"xref\": \"x1\", \"xanchor\": \"left\", \"yref\": \"y1\", \"text\": \"\", \"align\": \"left\", \"y\": 7, \"x\": 0.55, \"font\": {\"color\": \"#000000\", \"size\": 15}, \"showarrow\": false}, {\"xref\": \"x1\", \"xanchor\": \"left\", \"yref\": \"y1\", \"text\": \"\", \"align\": \"left\", \"y\": 7, \"x\": 1.55, \"font\": {\"color\": \"#000000\", \"size\": 15}, \"showarrow\": false}, {\"xref\": \"x1\", \"xanchor\": \"left\", \"yref\": \"y1\", \"text\": \"\", \"align\": \"left\", \"y\": 7, \"x\": 2.55, \"font\": {\"color\": \"#000000\", \"size\": 15}, \"showarrow\": false}, {\"xref\": \"x1\", \"xanchor\": \"left\", \"yref\": \"y1\", \"text\": \"\", \"align\": \"left\", \"y\": 7, \"x\": 3.55, \"font\": {\"color\": \"#000000\", \"size\": 15}, \"showarrow\": false}, {\"xref\": \"x1\", \"xanchor\": \"left\", \"yref\": \"y1\", \"text\": \"\", \"align\": \"left\", \"y\": 7, \"x\": 4.55, \"font\": {\"color\": \"#000000\", \"size\": 15}, \"showarrow\": false}, {\"xref\": \"x1\", \"xanchor\": \"left\", \"yref\": \"y1\", \"text\": \"\", \"align\": \"left\", \"y\": 7, \"x\": 5.55, \"font\": {\"color\": \"#000000\", \"size\": 15}, \"showarrow\": false}, {\"xref\": \"x1\", \"xanchor\": \"left\", \"yref\": \"y1\", \"text\": \"\", \"align\": \"left\", \"y\": 7, \"x\": 6.55, \"font\": {\"color\": \"#000000\", \"size\": 15}, \"showarrow\": false}, {\"xref\": \"x1\", \"xanchor\": \"left\", \"yref\": \"y1\", \"text\": \"\", \"align\": \"left\", \"y\": 7, \"x\": 7.55, \"font\": {\"color\": \"#000000\", \"size\": 15}, \"showarrow\": false}, {\"xref\": \"x1\", \"xanchor\": \"left\", \"yref\": \"y1\", \"text\": \"\", \"align\": \"left\", \"y\": 7, \"x\": 8.55, \"font\": {\"color\": \"#000000\", \"size\": 15}, \"showarrow\": false}], \"xaxis\": {\"showticklabels\": false, \"tick0\": -0.5, \"ticks\": \"\", \"gridwidth\": 2, \"dtick\": 1, \"zeroline\": false}, \"height\": 290}, {\"linkText\": \"Export to plot.ly\", \"showLink\": true})});</script>"
      ]
     },
     "metadata": {},
     "output_type": "display_data"
    }
   ],
   "source": [
    "\n",
    "\n",
    "data_matrix = [['Probability', 'UA: N=50', 'UA: N=75','UA: N=100 |','BA: N=50', 'BA: N=75','BA: N=100 |','P3R: N=50', 'P3R: N=75','P3r: N=100'],\n",
    "               ['0.8']+list1ua+list1ba+list1p3r,\n",
    "               ['0.85']+list2ua+list2ba+list2p3r,\n",
    "               ['0.9']+list3ua+list3ba+list3p3r,\n",
    "               ['0.95']+list4ua+list4ba+list4p3r,\n",
    "               ['0.975']+list5ua+list5ba+list5p3r,\n",
    "               ['0.99']+list6ua+list6ba+list6p3r,\n",
    "               ['','','','','','','','','','']\n",
    "               ]\n",
    "\n",
    "table = ff.create_table(data_matrix,index=True, index_title='Date')\n",
    "for i in range(len(table.layout.annotations)):\n",
    "    table.layout.annotations[i].font.size = 15\n",
    "iplot(table, filename='simple_table')\n"
   ]
  },
  {
   "cell_type": "code",
   "execution_count": 76,
   "metadata": {},
   "outputs": [
    {
     "data": {
      "text/plain": [
       "{'0.8': {'100': 8, '50': 6, '75': 7},\n",
       " '0.85': {'100': 9, '50': 7, '75': 8},\n",
       " '0.9': {'100': 11, '50': 8, '75': 11},\n",
       " '0.95': {'100': 11, '50': 9, '75': 12},\n",
       " '0.975': {'100': 15, '50': 10, '75': 17},\n",
       " '0.99': {'100': 24, '50': 10, '75': 24}}"
      ]
     },
     "execution_count": 76,
     "metadata": {},
     "output_type": "execute_result"
    }
   ],
   "source": [
    "size_ds_p3r"
   ]
  },
  {
   "cell_type": "code",
   "execution_count": 11,
   "metadata": {
    "collapsed": true
   },
   "outputs": [],
   "source": [
    "dg_results = open('Final_distance_cs_BA.txt', 'w')\n",
    "for i in [50,75,100]:\n",
    "  print>>dg_results, str(i),resultsDS_ba_cs[str(i)]\n",
    "dg_results.close()\n",
    "dg_results = open('Final_distance_cs_BA_TIME.txt', 'w')\n",
    "for i in [50,75,100]:\n",
    "  print>>dg_results, str(i),results_ds_time_ba_cs[str(i)]\n",
    "dg_results.close()\n",
    "dg_results = open('Final_distance_cs_BA_size.txt', 'w')\n",
    "for i in [50,75,100]:\n",
    "  print>>dg_results, str(i),size_ds_ba[str(i)]\n",
    "dg_results.close()"
   ]
  },
  {
   "cell_type": "code",
   "execution_count": 12,
   "metadata": {
    "collapsed": true
   },
   "outputs": [],
   "source": [
    "dg_results = open('Final_distance_cs_UA.txt', 'w')\n",
    "for i in [50,75,100]:\n",
    "  print>>dg_results, str(i),resultsDS_ua_cs[str(i)]\n",
    "dg_results.close()\n",
    "dg_results = open('Final_distance_cs_UA_TIME.txt', 'w')\n",
    "for i in [50,75,100]:\n",
    "  print>>dg_results, str(i),results_ds_time_ua_cs[str(i)]\n",
    "dg_results.close()\n",
    "dg_results = open('Final_distance_cs_UA_size.txt', 'w')\n",
    "for i in [50,75,100]:\n",
    "  print>>dg_results, str(i),size_ds_ua[str(i)]\n",
    "dg_results.close()"
   ]
  },
  {
   "cell_type": "code",
   "execution_count": 13,
   "metadata": {
    "collapsed": true
   },
   "outputs": [],
   "source": [
    "dg_results = open('Final_distance_cs_P3R.txt', 'w')\n",
    "for i in [50,75,100]:\n",
    "  print>>dg_results, str(i),resultsDS_p3r_cs[str(i)]\n",
    "dg_results.close()\n",
    "dg_results = open('Final_distance_cs_P3R_TIME.txt', 'w')\n",
    "for i in [50,75,100]:\n",
    "  print>>dg_results, str(i),results_ds_time_p3r_cs[str(i)]\n",
    "dg_results.close()\n",
    "dg_results = open('Final_distance_cs_P3R_size.txt', 'w')\n",
    "for i in [50,75,100]:\n",
    "  print>>dg_results, str(i),size_ds_p3r[str(i)]\n",
    "dg_results.close()"
   ]
  },
  {
   "cell_type": "code",
   "execution_count": null,
   "metadata": {
    "collapsed": true
   },
   "outputs": [],
   "source": []
  }
 ],
 "metadata": {
  "kernelspec": {
   "display_name": "Python 2",
   "language": "python",
   "name": "python2"
  },
  "language_info": {
   "codemirror_mode": {
    "name": "ipython",
    "version": 2
   },
   "file_extension": ".py",
   "mimetype": "text/x-python",
   "name": "python",
   "nbconvert_exporter": "python",
   "pygments_lexer": "ipython2",
   "version": "2.7.13"
  }
 },
 "nbformat": 4,
 "nbformat_minor": 2
}
